{
  "cells": [
    {
      "cell_type": "markdown",
      "metadata": {
        "id": "qZBw9J8nu38J"
      },
      "source": [
        "# K-means clustering: intuitive explanation\n",
        "\n",
        "The notebook provides an intuitive description and explanation of the k-means clustering technique. A synthetic dataset will be used to identify clusters manually.\n",
        "\n",
        "\n",
        "## Acknowledgments\n",
        "\n",
        "- Inquiries: mauricio.antelis@tec.mx\n"
      ]
    },
    {
      "cell_type": "markdown",
      "metadata": {
        "id": "_xfTKPilu38P"
      },
      "source": [
        "# Importing libraries"
      ]
    },
    {
      "cell_type": "code",
      "execution_count": 122,
      "metadata": {
        "id": "5U3pnpMgu38Q"
      },
      "outputs": [],
      "source": [
        "# Import the packages that we will be using\n",
        "import numpy as np                  # For arrays, matrices, and functions to operate on them\n",
        "import pandas as pd                 # For data handling\n",
        "import seaborn as sns               # For advanced plotting\n",
        "import matplotlib.pyplot as plt     # For showing plots\n",
        "import random as random"
      ]
    },
    {
      "cell_type": "markdown",
      "metadata": {
        "id": "Os62nKH5u38S"
      },
      "source": [
        "# Importing data"
      ]
    },
    {
      "cell_type": "code",
      "execution_count": 123,
      "metadata": {
        "id": "kBqy8j4bu38S"
      },
      "outputs": [],
      "source": [
        "# Create synthetic data that consists of 5 points and 2 variables\n",
        "\n",
        "d = {'x1': [2, 4, 2, 6, 6],\n",
        "     'x2': [2, 3, 4, 6, 5]}\n",
        "\n",
        "# Construct the dataframe\n",
        "df = pd.DataFrame(data=d)\n"
      ]
    },
    {
      "cell_type": "markdown",
      "metadata": {
        "id": "zaJaAKPOu38T"
      },
      "source": [
        "# Undertanding and preprocessing the data\n",
        "\n",
        "1. Get a general 'feel' of the data\n"
      ]
    },
    {
      "cell_type": "code",
      "execution_count": 124,
      "metadata": {
        "id": "CAr24LnKu38U",
        "colab": {
          "base_uri": "https://localhost:8080/",
          "height": 206
        },
        "outputId": "18db5795-175e-408d-f448-ff5cbe920e3f"
      },
      "outputs": [
        {
          "output_type": "execute_result",
          "data": {
            "text/plain": [
              "   x1  x2\n",
              "0   2   2\n",
              "1   4   3\n",
              "2   2   4\n",
              "3   6   6\n",
              "4   6   5"
            ],
            "text/html": [
              "\n",
              "  <div id=\"df-1d6d486a-b184-4175-9aed-d96f7835de63\" class=\"colab-df-container\">\n",
              "    <div>\n",
              "<style scoped>\n",
              "    .dataframe tbody tr th:only-of-type {\n",
              "        vertical-align: middle;\n",
              "    }\n",
              "\n",
              "    .dataframe tbody tr th {\n",
              "        vertical-align: top;\n",
              "    }\n",
              "\n",
              "    .dataframe thead th {\n",
              "        text-align: right;\n",
              "    }\n",
              "</style>\n",
              "<table border=\"1\" class=\"dataframe\">\n",
              "  <thead>\n",
              "    <tr style=\"text-align: right;\">\n",
              "      <th></th>\n",
              "      <th>x1</th>\n",
              "      <th>x2</th>\n",
              "    </tr>\n",
              "  </thead>\n",
              "  <tbody>\n",
              "    <tr>\n",
              "      <th>0</th>\n",
              "      <td>2</td>\n",
              "      <td>2</td>\n",
              "    </tr>\n",
              "    <tr>\n",
              "      <th>1</th>\n",
              "      <td>4</td>\n",
              "      <td>3</td>\n",
              "    </tr>\n",
              "    <tr>\n",
              "      <th>2</th>\n",
              "      <td>2</td>\n",
              "      <td>4</td>\n",
              "    </tr>\n",
              "    <tr>\n",
              "      <th>3</th>\n",
              "      <td>6</td>\n",
              "      <td>6</td>\n",
              "    </tr>\n",
              "    <tr>\n",
              "      <th>4</th>\n",
              "      <td>6</td>\n",
              "      <td>5</td>\n",
              "    </tr>\n",
              "  </tbody>\n",
              "</table>\n",
              "</div>\n",
              "    <div class=\"colab-df-buttons\">\n",
              "\n",
              "  <div class=\"colab-df-container\">\n",
              "    <button class=\"colab-df-convert\" onclick=\"convertToInteractive('df-1d6d486a-b184-4175-9aed-d96f7835de63')\"\n",
              "            title=\"Convert this dataframe to an interactive table.\"\n",
              "            style=\"display:none;\">\n",
              "\n",
              "  <svg xmlns=\"http://www.w3.org/2000/svg\" height=\"24px\" viewBox=\"0 -960 960 960\">\n",
              "    <path d=\"M120-120v-720h720v720H120Zm60-500h600v-160H180v160Zm220 220h160v-160H400v160Zm0 220h160v-160H400v160ZM180-400h160v-160H180v160Zm440 0h160v-160H620v160ZM180-180h160v-160H180v160Zm440 0h160v-160H620v160Z\"/>\n",
              "  </svg>\n",
              "    </button>\n",
              "\n",
              "  <style>\n",
              "    .colab-df-container {\n",
              "      display:flex;\n",
              "      gap: 12px;\n",
              "    }\n",
              "\n",
              "    .colab-df-convert {\n",
              "      background-color: #E8F0FE;\n",
              "      border: none;\n",
              "      border-radius: 50%;\n",
              "      cursor: pointer;\n",
              "      display: none;\n",
              "      fill: #1967D2;\n",
              "      height: 32px;\n",
              "      padding: 0 0 0 0;\n",
              "      width: 32px;\n",
              "    }\n",
              "\n",
              "    .colab-df-convert:hover {\n",
              "      background-color: #E2EBFA;\n",
              "      box-shadow: 0px 1px 2px rgba(60, 64, 67, 0.3), 0px 1px 3px 1px rgba(60, 64, 67, 0.15);\n",
              "      fill: #174EA6;\n",
              "    }\n",
              "\n",
              "    .colab-df-buttons div {\n",
              "      margin-bottom: 4px;\n",
              "    }\n",
              "\n",
              "    [theme=dark] .colab-df-convert {\n",
              "      background-color: #3B4455;\n",
              "      fill: #D2E3FC;\n",
              "    }\n",
              "\n",
              "    [theme=dark] .colab-df-convert:hover {\n",
              "      background-color: #434B5C;\n",
              "      box-shadow: 0px 1px 3px 1px rgba(0, 0, 0, 0.15);\n",
              "      filter: drop-shadow(0px 1px 2px rgba(0, 0, 0, 0.3));\n",
              "      fill: #FFFFFF;\n",
              "    }\n",
              "  </style>\n",
              "\n",
              "    <script>\n",
              "      const buttonEl =\n",
              "        document.querySelector('#df-1d6d486a-b184-4175-9aed-d96f7835de63 button.colab-df-convert');\n",
              "      buttonEl.style.display =\n",
              "        google.colab.kernel.accessAllowed ? 'block' : 'none';\n",
              "\n",
              "      async function convertToInteractive(key) {\n",
              "        const element = document.querySelector('#df-1d6d486a-b184-4175-9aed-d96f7835de63');\n",
              "        const dataTable =\n",
              "          await google.colab.kernel.invokeFunction('convertToInteractive',\n",
              "                                                    [key], {});\n",
              "        if (!dataTable) return;\n",
              "\n",
              "        const docLinkHtml = 'Like what you see? Visit the ' +\n",
              "          '<a target=\"_blank\" href=https://colab.research.google.com/notebooks/data_table.ipynb>data table notebook</a>'\n",
              "          + ' to learn more about interactive tables.';\n",
              "        element.innerHTML = '';\n",
              "        dataTable['output_type'] = 'display_data';\n",
              "        await google.colab.output.renderOutput(dataTable, element);\n",
              "        const docLink = document.createElement('div');\n",
              "        docLink.innerHTML = docLinkHtml;\n",
              "        element.appendChild(docLink);\n",
              "      }\n",
              "    </script>\n",
              "  </div>\n",
              "\n",
              "\n",
              "<div id=\"df-f8910bbe-418f-405d-8c52-bb487f3e59c5\">\n",
              "  <button class=\"colab-df-quickchart\" onclick=\"quickchart('df-f8910bbe-418f-405d-8c52-bb487f3e59c5')\"\n",
              "            title=\"Suggest charts\"\n",
              "            style=\"display:none;\">\n",
              "\n",
              "<svg xmlns=\"http://www.w3.org/2000/svg\" height=\"24px\"viewBox=\"0 0 24 24\"\n",
              "     width=\"24px\">\n",
              "    <g>\n",
              "        <path d=\"M19 3H5c-1.1 0-2 .9-2 2v14c0 1.1.9 2 2 2h14c1.1 0 2-.9 2-2V5c0-1.1-.9-2-2-2zM9 17H7v-7h2v7zm4 0h-2V7h2v10zm4 0h-2v-4h2v4z\"/>\n",
              "    </g>\n",
              "</svg>\n",
              "  </button>\n",
              "\n",
              "<style>\n",
              "  .colab-df-quickchart {\n",
              "      --bg-color: #E8F0FE;\n",
              "      --fill-color: #1967D2;\n",
              "      --hover-bg-color: #E2EBFA;\n",
              "      --hover-fill-color: #174EA6;\n",
              "      --disabled-fill-color: #AAA;\n",
              "      --disabled-bg-color: #DDD;\n",
              "  }\n",
              "\n",
              "  [theme=dark] .colab-df-quickchart {\n",
              "      --bg-color: #3B4455;\n",
              "      --fill-color: #D2E3FC;\n",
              "      --hover-bg-color: #434B5C;\n",
              "      --hover-fill-color: #FFFFFF;\n",
              "      --disabled-bg-color: #3B4455;\n",
              "      --disabled-fill-color: #666;\n",
              "  }\n",
              "\n",
              "  .colab-df-quickchart {\n",
              "    background-color: var(--bg-color);\n",
              "    border: none;\n",
              "    border-radius: 50%;\n",
              "    cursor: pointer;\n",
              "    display: none;\n",
              "    fill: var(--fill-color);\n",
              "    height: 32px;\n",
              "    padding: 0;\n",
              "    width: 32px;\n",
              "  }\n",
              "\n",
              "  .colab-df-quickchart:hover {\n",
              "    background-color: var(--hover-bg-color);\n",
              "    box-shadow: 0 1px 2px rgba(60, 64, 67, 0.3), 0 1px 3px 1px rgba(60, 64, 67, 0.15);\n",
              "    fill: var(--button-hover-fill-color);\n",
              "  }\n",
              "\n",
              "  .colab-df-quickchart-complete:disabled,\n",
              "  .colab-df-quickchart-complete:disabled:hover {\n",
              "    background-color: var(--disabled-bg-color);\n",
              "    fill: var(--disabled-fill-color);\n",
              "    box-shadow: none;\n",
              "  }\n",
              "\n",
              "  .colab-df-spinner {\n",
              "    border: 2px solid var(--fill-color);\n",
              "    border-color: transparent;\n",
              "    border-bottom-color: var(--fill-color);\n",
              "    animation:\n",
              "      spin 1s steps(1) infinite;\n",
              "  }\n",
              "\n",
              "  @keyframes spin {\n",
              "    0% {\n",
              "      border-color: transparent;\n",
              "      border-bottom-color: var(--fill-color);\n",
              "      border-left-color: var(--fill-color);\n",
              "    }\n",
              "    20% {\n",
              "      border-color: transparent;\n",
              "      border-left-color: var(--fill-color);\n",
              "      border-top-color: var(--fill-color);\n",
              "    }\n",
              "    30% {\n",
              "      border-color: transparent;\n",
              "      border-left-color: var(--fill-color);\n",
              "      border-top-color: var(--fill-color);\n",
              "      border-right-color: var(--fill-color);\n",
              "    }\n",
              "    40% {\n",
              "      border-color: transparent;\n",
              "      border-right-color: var(--fill-color);\n",
              "      border-top-color: var(--fill-color);\n",
              "    }\n",
              "    60% {\n",
              "      border-color: transparent;\n",
              "      border-right-color: var(--fill-color);\n",
              "    }\n",
              "    80% {\n",
              "      border-color: transparent;\n",
              "      border-right-color: var(--fill-color);\n",
              "      border-bottom-color: var(--fill-color);\n",
              "    }\n",
              "    90% {\n",
              "      border-color: transparent;\n",
              "      border-bottom-color: var(--fill-color);\n",
              "    }\n",
              "  }\n",
              "</style>\n",
              "\n",
              "  <script>\n",
              "    async function quickchart(key) {\n",
              "      const quickchartButtonEl =\n",
              "        document.querySelector('#' + key + ' button');\n",
              "      quickchartButtonEl.disabled = true;  // To prevent multiple clicks.\n",
              "      quickchartButtonEl.classList.add('colab-df-spinner');\n",
              "      try {\n",
              "        const charts = await google.colab.kernel.invokeFunction(\n",
              "            'suggestCharts', [key], {});\n",
              "      } catch (error) {\n",
              "        console.error('Error during call to suggestCharts:', error);\n",
              "      }\n",
              "      quickchartButtonEl.classList.remove('colab-df-spinner');\n",
              "      quickchartButtonEl.classList.add('colab-df-quickchart-complete');\n",
              "    }\n",
              "    (() => {\n",
              "      let quickchartButtonEl =\n",
              "        document.querySelector('#df-f8910bbe-418f-405d-8c52-bb487f3e59c5 button');\n",
              "      quickchartButtonEl.style.display =\n",
              "        google.colab.kernel.accessAllowed ? 'block' : 'none';\n",
              "    })();\n",
              "  </script>\n",
              "</div>\n",
              "    </div>\n",
              "  </div>\n"
            ],
            "application/vnd.google.colaboratory.intrinsic+json": {
              "type": "dataframe",
              "variable_name": "df",
              "summary": "{\n  \"name\": \"df\",\n  \"rows\": 5,\n  \"fields\": [\n    {\n      \"column\": \"x1\",\n      \"properties\": {\n        \"dtype\": \"number\",\n        \"std\": 2,\n        \"min\": 2,\n        \"max\": 6,\n        \"num_unique_values\": 3,\n        \"samples\": [\n          2,\n          4,\n          6\n        ],\n        \"semantic_type\": \"\",\n        \"description\": \"\"\n      }\n    },\n    {\n      \"column\": \"x2\",\n      \"properties\": {\n        \"dtype\": \"number\",\n        \"std\": 1,\n        \"min\": 2,\n        \"max\": 6,\n        \"num_unique_values\": 5,\n        \"samples\": [\n          3,\n          5,\n          4\n        ],\n        \"semantic_type\": \"\",\n        \"description\": \"\"\n      }\n    }\n  ]\n}"
            }
          },
          "metadata": {},
          "execution_count": 124
        }
      ],
      "source": [
        "# Print the dataset\n",
        "df"
      ]
    },
    {
      "cell_type": "markdown",
      "metadata": {
        "id": "xLzFNupuu38V"
      },
      "source": [
        "2. Scatter plot of the data"
      ]
    },
    {
      "cell_type": "code",
      "execution_count": 125,
      "metadata": {
        "id": "iehvuZ8Ku38V",
        "colab": {
          "base_uri": "https://localhost:8080/",
          "height": 482
        },
        "outputId": "f9963c5c-c5f2-45ab-a8f3-6160e99e9872"
      },
      "outputs": [
        {
          "output_type": "display_data",
          "data": {
            "text/plain": [
              "<Figure size 640x480 with 1 Axes>"
            ],
            "image/png": "[encoded data removed]"
          },
          "metadata": {}
        }
      ],
      "source": [
        "# Plot scatter plot\n",
        "plt.scatter(df.x1, df.x2, s=80, )\n",
        "plt.title(\"Datos\", fontsize=18)\n",
        "plt.xlabel('x1', fontsize=14)\n",
        "plt.ylabel('x2', fontsize=14)\n",
        "\n",
        "plt.xlim(1,7)\n",
        "plt.ylim(1,7)\n",
        "\n",
        "plt.show()"
      ]
    },
    {
      "cell_type": "markdown",
      "metadata": {
        "id": "v4PaEP3cu38W"
      },
      "source": [
        "Note that for this dataset we do not know in advance the cluster/group/class to which each point belongs to, and that is what we want to do: to identify the existing cluster/group/class, i.e., to assing each point to a cluster/group/class"
      ]
    },
    {
      "cell_type": "markdown",
      "metadata": {
        "id": "w7LTruOMu38W"
      },
      "source": [
        "3. Preprocessing the data\n",
        "\n",
        "No preprocessing is required"
      ]
    },
    {
      "cell_type": "markdown",
      "metadata": {
        "id": "emwP0fcwu38W"
      },
      "source": [
        "# Kmeans clustering\n",
        "\n",
        "Intuitive explanation"
      ]
    },
    {
      "cell_type": "markdown",
      "metadata": {
        "id": "LfjjjDkOu38X"
      },
      "source": [
        "### Initialize/Preliminaries"
      ]
    },
    {
      "cell_type": "code",
      "execution_count": 126,
      "metadata": {
        "id": "krGo-l8Xu38X",
        "colab": {
          "base_uri": "https://localhost:8080/"
        },
        "outputId": "43c0a6ce-df4c-4a94-e1bf-4a08760a4fd9"
      },
      "outputs": [
        {
          "output_type": "stream",
          "name": "stdout",
          "text": [
            "The number of points us  5\n"
          ]
        }
      ],
      "source": [
        "# Compute the number of points in the dataset\n",
        "index = df.index\n",
        "\n",
        "Npoints = len(index)\n",
        "\n",
        "print('The number of points us ', Npoints)\n"
      ]
    },
    {
      "cell_type": "markdown",
      "metadata": {
        "id": "UE3vtbAru38X"
      },
      "source": [
        "## 1: Specify the number of clusters\n",
        "\n",
        "Define the number $K$ of clusters"
      ]
    },
    {
      "cell_type": "code",
      "execution_count": 127,
      "metadata": {
        "id": "om39I4BWu38Y"
      },
      "outputs": [],
      "source": [
        "# Let's assume our data has two clusters (note that the rest of the code is for K=2)\n",
        "K  = 2"
      ]
    },
    {
      "cell_type": "markdown",
      "metadata": {
        "id": "2M_0pyhBu38Y"
      },
      "source": [
        "## 2: Initialize the centroids of the clusters\n",
        "\n",
        "Randomly initialize the centroids of the clusters $C_1, C_2, \\cdots, C_K$"
      ]
    },
    {
      "cell_type": "code",
      "execution_count": 172,
      "metadata": {
        "id": "OiAr1XNLu38Y",
        "colab": {
          "base_uri": "https://localhost:8080/"
        },
        "outputId": "68bbcc61-ec11-4e8f-ceb7-72bbb6f7d9db"
      },
      "outputs": [
        {
          "output_type": "stream",
          "name": "stdout",
          "text": [
            "Centroide 1  [3.92045139 4.18615531]\n",
            "Centroide 2  [4.43919699 2.95386443]\n"
          ]
        }
      ],
      "source": [
        "# Let's initialize the centroids for the K=2 clusters (this has to be done randomly)\n",
        "\n",
        "# Let's do it manually\n",
        "C1new =  np.array([random.uniform(2.0,6.0), random.uniform(2.0,6.0)])  # 1st Centroid\n",
        "C2new =  np.array([random.uniform(2.0,6.0), random.uniform(2.0,6.0)]) # 2nd Centroid\n",
        "\n",
        "# Print centroids\n",
        "print('Centroide 1 ', C1new)\n",
        "print('Centroide 2 ', C2new)\n"
      ]
    },
    {
      "cell_type": "code",
      "execution_count": 173,
      "metadata": {
        "id": "sJPaef56u38Z",
        "colab": {
          "base_uri": "https://localhost:8080/",
          "height": 482
        },
        "outputId": "57418ec2-2076-4405-e978-617541cb2ae3"
      },
      "outputs": [
        {
          "output_type": "display_data",
          "data": {
            "text/plain": [
              "<Figure size 640x480 with 1 Axes>"
            ],
            "image/png": "[encoded data removed]"
          },
          "metadata": {}
        }
      ],
      "source": [
        "# Plot the points and the centroids\n",
        "plt.scatter(df.x1, df.x2, s=80, )\n",
        "\n",
        "plt.scatter(C1new[0], C1new[1], color='r', marker='o', label='Centroide 1', s=512, alpha=0.8)\n",
        "plt.scatter(C2new[0], C2new[1], color='b', marker='o', label='Centroide 2', s=512, alpha=0.8)\n",
        "\n",
        "\n",
        "plt.title(\"Points and centroids\", fontsize=18)\n",
        "plt.xlabel('x1', fontsize=14)\n",
        "plt.ylabel('x2', fontsize=14)\n",
        "\n",
        "plt.xlim(1,7)\n",
        "plt.ylim(1,7)\n",
        "\n",
        "plt.show()"
      ]
    },
    {
      "cell_type": "markdown",
      "metadata": {
        "id": "kH4eySblu38Z"
      },
      "source": [
        "## 3:  Repeat the following\n"
      ]
    },
    {
      "cell_type": "markdown",
      "metadata": {
        "id": "BhujQv1uu38a"
      },
      "source": [
        "Define the current centroids"
      ]
    },
    {
      "cell_type": "code",
      "execution_count": 186,
      "metadata": {
        "id": "aI4MDB4hu38a",
        "colab": {
          "base_uri": "https://localhost:8080/"
        },
        "outputId": "7285dc51-857d-4d0f-eb51-9210aef3426d"
      },
      "outputs": [
        {
          "output_type": "execute_result",
          "data": {
            "text/plain": [
              "array([2.66666667, 3.        ])"
            ]
          },
          "metadata": {},
          "execution_count": 186
        }
      ],
      "source": [
        "# Define centrode 1\n",
        "C1 = C1new.copy()\n",
        "C1\n"
      ]
    },
    {
      "cell_type": "code",
      "execution_count": 187,
      "metadata": {
        "id": "OzGpKqA6z35X",
        "colab": {
          "base_uri": "https://localhost:8080/"
        },
        "outputId": "6ada3326-6455-4d0e-d639-18971f7ee0cb"
      },
      "outputs": [
        {
          "output_type": "execute_result",
          "data": {
            "text/plain": [
              "array([6. , 5.5])"
            ]
          },
          "metadata": {},
          "execution_count": 187
        }
      ],
      "source": [
        "# Define centrode 2\n",
        "C2 = C2new.copy()\n",
        "C2"
      ]
    },
    {
      "cell_type": "markdown",
      "metadata": {
        "id": "bJs6QPgnu38a"
      },
      "source": [
        "## 4: Assign each point  to its closest centroid\n",
        "\n",
        "Compute the distance of each data point to each centroid\n",
        "\n",
        "Assign each point to the centroid with the minimum Euclidean distance\n",
        "\n",
        "Euclidean distance:\n",
        "- Consider two points $x=(x_1,x_2)$ and  $y=(y_1,y_2)$.\n",
        "- The Euclidean distance between these two points is\n",
        "$ d = \\sqrt {\\left( {x_1 - x_2 } \\right)^2 + \\left( {y_1 - y_2 } \\right)^2 } $\n"
      ]
    },
    {
      "cell_type": "code",
      "execution_count": 188,
      "metadata": {
        "id": "Szz2ixUru38a",
        "colab": {
          "base_uri": "https://localhost:8080/"
        },
        "outputId": "f1de1d4e-30f6-4b0f-e167-1d73c608e45e"
      },
      "outputs": [
        {
          "output_type": "stream",
          "name": "stdout",
          "text": [
            "[[1.20185043 5.31507291]\n",
            " [1.33333333 3.20156212]\n",
            " [1.20185043 4.27200187]\n",
            " [4.48454135 0.5       ]\n",
            " [3.88730126 0.5       ]]\n"
          ]
        }
      ],
      "source": [
        "# Compute the distance of each data point to each centroid\n",
        "\n",
        "# Variable to save the distance of each point ot each centroid\n",
        "Dis2Centroids = np.zeros((Npoints,K))\n",
        "\n",
        "# Let's compute the distances manually\n",
        "\n",
        "ipoint, x1, x2 = 0,2,2\n",
        "Dis2Centroids[ipoint, 0] = np.sqrt( (x1-C1[0])**2 + (x2-C1[1])**2)\n",
        "Dis2Centroids[ipoint, 1] = np.sqrt( (x1-C2[0])**2 + (x2-C2[1])**2)\n",
        "\n",
        "ipoint, x1, x2 = 1,4,3\n",
        "Dis2Centroids[ipoint, 0] = np.sqrt( (x1-C1[0])**2 + (x2-C1[1])**2)\n",
        "Dis2Centroids[ipoint, 1] = np.sqrt( (x1-C2[0])**2 + (x2-C2[1])**2)\n",
        "\n",
        "ipoint, x1, x2 = 2,2,4\n",
        "Dis2Centroids[ipoint, 0] = np.sqrt( (x1-C1[0])**2 + (x2-C1[1])**2)\n",
        "Dis2Centroids[ipoint, 1] = np.sqrt( (x1-C2[0])**2 + (x2-C2[1])**2)\n",
        "\n",
        "ipoint, x1, x2 = 3,6,6\n",
        "Dis2Centroids[ipoint, 0] = np.sqrt( (x1-C1[0])**2 + (x2-C1[1])**2)\n",
        "Dis2Centroids[ipoint, 1] = np.sqrt( (x1-C2[0])**2 + (x2-C2[1])**2)\n",
        "\n",
        "ipoint, x1, x2 = 4,6,5\n",
        "Dis2Centroids[ipoint, 0] = np.sqrt( (x1-C1[0])**2 + (x2-C1[1])**2)\n",
        "Dis2Centroids[ipoint, 1] = np.sqrt( (x1-C2[0])**2 + (x2-C2[1])**2)\n",
        "\n",
        "# Print results\n",
        "print(Dis2Centroids)\n"
      ]
    },
    {
      "cell_type": "code",
      "execution_count": 189,
      "metadata": {
        "id": "rjHNRUsKu38c",
        "colab": {
          "base_uri": "https://localhost:8080/"
        },
        "outputId": "a4e9ff53-23db-4ebf-c701-e93838f3f364"
      },
      "outputs": [
        {
          "output_type": "stream",
          "name": "stdout",
          "text": [
            "[1 1 1 2 2]\n"
          ]
        }
      ],
      "source": [
        "# Assign each point to the centroid with the minimum Euclidean distance\n",
        "\n",
        "# Let's do this manually\n",
        "#cluster = np.array([1,1,1,2,2])\n",
        "cluster = np.array([1,1,1,2,2])\n",
        "#cluster = np.array([1,1,1,2,2])\n",
        "\n",
        "\n",
        "# Print results\n",
        "print(cluster)\n"
      ]
    },
    {
      "cell_type": "code",
      "execution_count": 190,
      "metadata": {
        "id": "jH7ggAsDu38d",
        "colab": {
          "base_uri": "https://localhost:8080/",
          "height": 482
        },
        "outputId": "83029b9b-2baa-45ae-e6a9-21af40c0bcb7"
      },
      "outputs": [
        {
          "output_type": "display_data",
          "data": {
            "text/plain": [
              "<Figure size 640x480 with 1 Axes>"
            ],
            "image/png": "[encoded data removed]"
          },
          "metadata": {}
        }
      ],
      "source": [
        "# Scatter plot of the data asigning each point to the cluster it belongs to ¡¡\n",
        "\n",
        "df1 = df[cluster==1]\n",
        "df2 = df[cluster==2]\n",
        "\n",
        "\n",
        "plt.scatter(df1.x1, df1.x2, s=80, color='r', marker='o', label='Cluster 1')\n",
        "plt.scatter(df2.x1, df2.x2, s=80, color='b', marker='s', label='Cluster 2')\n",
        "\n",
        "plt.scatter(C1[0], C1[1], color='r', marker='o', label='Centroide 1', s=512, alpha=0.2)\n",
        "plt.scatter(C2[0], C2[1], color='b', marker='s', label='Centroide 2', s=512, alpha=0.2)\n",
        "\n",
        "\n",
        "plt.title(\"Points and centroids\", fontsize=18)\n",
        "plt.xlabel('x1', fontsize=14)\n",
        "plt.ylabel('x2', fontsize=14)\n",
        "\n",
        "plt.xlim(1,7)\n",
        "plt.ylim(1,7)\n",
        "\n",
        "plt.show()"
      ]
    },
    {
      "cell_type": "markdown",
      "metadata": {
        "id": "nbXFZsK6u38e"
      },
      "source": [
        "## 5: Compute the new centroid (mean) of each cluster\n",
        "\n",
        "Compute the new centroid of each cluster"
      ]
    },
    {
      "cell_type": "code",
      "execution_count": 191,
      "metadata": {
        "id": "BgqKzGK_u38e",
        "colab": {
          "base_uri": "https://localhost:8080/"
        },
        "outputId": "8ce13f99-9419-4040-c730-34daf533a6bf"
      },
      "outputs": [
        {
          "output_type": "stream",
          "name": "stdout",
          "text": [
            "   x1  x2\n",
            "0   2   2\n",
            "1   4   3\n",
            "2   2   4\n",
            "[2.66666667 3.        ]\n"
          ]
        }
      ],
      "source": [
        "# Let's compute the 1st Centroid\n",
        "print(df1)\n",
        "\n",
        "C1new[0] = df1.x1.mean()\n",
        "C1new[1] = df1.x2.mean()\n",
        "\n",
        "print(C1new)"
      ]
    },
    {
      "cell_type": "code",
      "execution_count": 192,
      "metadata": {
        "id": "BXM88zeru38e",
        "colab": {
          "base_uri": "https://localhost:8080/"
        },
        "outputId": "78416322-85fc-4de1-86b2-7cc74bdeb3ed"
      },
      "outputs": [
        {
          "output_type": "stream",
          "name": "stdout",
          "text": [
            "   x1  x2\n",
            "3   6   6\n",
            "4   6   5\n",
            "[6.  5.5]\n"
          ]
        }
      ],
      "source": [
        "# Let's compute the 2nd Centroid\n",
        "print(df2)\n",
        "\n",
        "C2new[0] = df2.x1.mean()\n",
        "C2new[1] = df2.x2.mean()\n",
        "\n",
        "\n",
        "print(C2new)"
      ]
    },
    {
      "cell_type": "code",
      "execution_count": 193,
      "metadata": {
        "id": "VkmH30FXu38f",
        "colab": {
          "base_uri": "https://localhost:8080/",
          "height": 482
        },
        "outputId": "dc17e931-af4b-4238-820d-ce19fd45247d"
      },
      "outputs": [
        {
          "output_type": "display_data",
          "data": {
            "text/plain": [
              "<Figure size 640x480 with 1 Axes>"
            ],
            "image/png": "[encoded data removed]"
          },
          "metadata": {}
        }
      ],
      "source": [
        "# Scatter plot of the data asigning each point to the cluster it belongs to ¡¡\n",
        "df1 = df[cluster==1]\n",
        "df2 = df[cluster==2]\n",
        "\n",
        "\n",
        "plt.scatter(df1.x1, df1.x2, s=80, color='r', marker='o', label='Cluster 1')\n",
        "plt.scatter(df2.x1, df2.x2, s=80, color='b', marker='s', label='Cluster 2')\n",
        "\n",
        "plt.scatter(C1[0], C1[1], color='r', marker='o', label='Centroide 1', s=512, alpha=0.2)\n",
        "plt.scatter(C2[0], C2[1], color='b', marker='s', label='Centroide 2', s=512, alpha=0.2)\n",
        "\n",
        "plt.scatter(C1new[0], C1new[1], color='r', marker='o', label='Centroide 1', s=512, alpha=0.8)\n",
        "plt.scatter(C2new[0], C2new[1], color='b', marker='s', label='Centroide 2', s=512, alpha=0.8)\n",
        "\n",
        "\n",
        "plt.title(\"Points and centroids\", fontsize=18)\n",
        "plt.xlabel('x1', fontsize=14)\n",
        "plt.ylabel('x2', fontsize=14)\n",
        "\n",
        "plt.xlim(1,7)\n",
        "plt.ylim(1,7)\n",
        "\n",
        "plt.show()\n"
      ]
    },
    {
      "cell_type": "markdown",
      "metadata": {
        "id": "spYtAF5fu38f"
      },
      "source": [
        "## 6: Until the centroids do not change\n",
        "\n",
        "If the centroids do not change, then, none of the data points change of the assigned cluster\n"
      ]
    },
    {
      "cell_type": "code",
      "execution_count": 194,
      "metadata": {
        "id": "Dhm3T2gSu38f",
        "colab": {
          "base_uri": "https://localhost:8080/"
        },
        "outputId": "f28fd480-77ca-4df0-a94f-ac116b42ae0f"
      },
      "outputs": [
        {
          "output_type": "stream",
          "name": "stdout",
          "text": [
            "[2.66666667 3.        ]\n",
            "[2.66666667 3.        ]\n"
          ]
        }
      ],
      "source": [
        "print(C1)\n",
        "print(C1new)"
      ]
    },
    {
      "cell_type": "code",
      "execution_count": 195,
      "metadata": {
        "id": "SNMVbc8yu38g",
        "colab": {
          "base_uri": "https://localhost:8080/"
        },
        "outputId": "983e55cb-3270-4b8f-a494-af4630856e34"
      },
      "outputs": [
        {
          "output_type": "stream",
          "name": "stdout",
          "text": [
            "[6.  5.5]\n",
            "[6.  5.5]\n"
          ]
        }
      ],
      "source": [
        "print(C2)\n",
        "print(C2new)"
      ]
    },
    {
      "cell_type": "markdown",
      "metadata": {
        "id": "3nVL_2kgu38g"
      },
      "source": [
        "#### If the centroids do change... go to 3 (recall to use the new centroids)\n",
        "\n",
        "#### If the centroids do not change... done ¡¡"
      ]
    },
    {
      "cell_type": "code",
      "execution_count": 64,
      "metadata": {
        "id": "dSh2spFy0b8b"
      },
      "outputs": [],
      "source": []
    }
  ],
  "metadata": {
    "colab": {
      "provenance": []
    },
    "kernelspec": {
      "display_name": "Python 3",
      "language": "python",
      "name": "python3"
    },
    "language_info": {
      "codemirror_mode": {
        "name": "ipython",
        "version": 3
      },
      "file_extension": ".py",
      "mimetype": "text/x-python",
      "name": "python",
      "nbconvert_exporter": "python",
      "pygments_lexer": "ipython3",
      "version": "3.8.3"
    }
  },
  "nbformat": 4,
  "nbformat_minor": 0
}