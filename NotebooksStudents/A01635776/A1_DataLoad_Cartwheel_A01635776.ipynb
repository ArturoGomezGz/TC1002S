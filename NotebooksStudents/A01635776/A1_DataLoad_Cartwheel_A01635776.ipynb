{
 "cells": [
  {
   "cell_type": "markdown",
   "metadata": {
    "id": "u0MPe62dYgl0"
   },
   "source": [
    "# Undertanding the cartwheel data set\n",
    "Carlos Adrián Palmieri Álvarez A01635776\n",
    "\n",
    "The notebook aims to undertand the content of the cartwheel data set.\n",
    "\n",
    "\n",
    "## Acknowledgments\n",
    "\n",
    "- Data from https://www.coursera.org/ from the course \"Understanding and Visualizing Data with Python\" by University of Michigan\n"
   ]
  },
  {
   "cell_type": "markdown",
   "metadata": {
    "id": "30s2UXlPYgl4"
   },
   "source": [
    "# Cartwheel data set\n",
    "\n",
    "1. A cartwheel\n",
    "\n",
    "![cartwheel1.png](https://drive.google.com/uc?export=view&id=1h6CbMZX9wtRIbxpREgHSLY5IKTEqq6l6)\n",
    "\n",
    "\n",
    "\n",
    "\n",
    "2. The dataset description\n",
    "    - The dataset used here is an extension from the original cartwheel dataset from cursera\n",
    "    - Total numer of observations: 28\n",
    "    - Many observations/measurements/recordings of the characteristics/attributes/variables of cartwheel executions\n",
    "    - Variables: Age, Gender, GenderGroup, Glasses, GlassesGroup, Height, Wingspan, CWDistance, ... (X variables)\n",
    "    \n"
   ]
  },
  {
   "cell_type": "markdown",
   "metadata": {
    "id": "xmSEe706Ygl5"
   },
   "source": [
    "# Importing and inspecting the data"
   ]
  },
  {
   "cell_type": "code",
   "execution_count": null,
   "metadata": {
    "id": "wksMvHQBYjRu"
   },
   "outputs": [],
   "source": [
    "# Define where you are running the code: colab or local\n",
    "RunInColab          = True     # (False: no  | True: yes)\n",
    "\n",
    "# If running in colab:\n",
    "if RunInColab:\n",
    "    # Mount your google drive in google colab\n",
    "    from google.colab import drive\n",
    "    drive.mount('/content/drive')\n",
    "\n",
    "    # Find location\n",
    "    #!pwd\n",
    "    #!ls\n",
    "    #!ls \"/content/drive/My Drive/Colab Notebooks/MachineLearningWithPython/\"\n",
    "\n",
    "    # Define path del proyecto\n",
    "    Ruta            = \"/content/drive/My Drive/Colab Notebooks/MachineLearningWithPython/\"\n",
    "\n",
    "else:\n",
    "    # Define path del proyecto\n",
    "    Ruta            = \"\""
   ]
  },
  {
   "cell_type": "code",
   "execution_count": null,
   "metadata": {
    "id": "fyR3iS-uYgl5"
   },
   "outputs": [
    {
     "data": {
      "text/html": [
       "<div>\n",
       "<style scoped>\n",
       "    .dataframe tbody tr th:only-of-type {\n",
       "        vertical-align: middle;\n",
       "    }\n",
       "\n",
       "    .dataframe tbody tr th {\n",
       "        vertical-align: top;\n",
       "    }\n",
       "\n",
       "    .dataframe thead th {\n",
       "        text-align: right;\n",
       "    }\n",
       "</style>\n",
       "<table border=\"1\" class=\"dataframe\">\n",
       "  <thead>\n",
       "    <tr style=\"text-align: right;\">\n",
       "      <th></th>\n",
       "      <th>ID</th>\n",
       "      <th>Age</th>\n",
       "      <th>Gender</th>\n",
       "      <th>GenderGroup</th>\n",
       "      <th>Glasses</th>\n",
       "      <th>GlassesGroup</th>\n",
       "      <th>Height</th>\n",
       "      <th>Wingspan</th>\n",
       "      <th>CWDistance</th>\n",
       "      <th>Complete</th>\n",
       "      <th>CompleteGroup</th>\n",
       "      <th>Score</th>\n",
       "    </tr>\n",
       "  </thead>\n",
       "  <tbody>\n",
       "    <tr>\n",
       "      <th>0</th>\n",
       "      <td>1</td>\n",
       "      <td>56.0</td>\n",
       "      <td>F</td>\n",
       "      <td>1</td>\n",
       "      <td>Y</td>\n",
       "      <td>1</td>\n",
       "      <td>62.0</td>\n",
       "      <td>61.0</td>\n",
       "      <td>79</td>\n",
       "      <td>Y</td>\n",
       "      <td>1.0</td>\n",
       "      <td>7</td>\n",
       "    </tr>\n",
       "    <tr>\n",
       "      <th>1</th>\n",
       "      <td>2</td>\n",
       "      <td>26.0</td>\n",
       "      <td>F</td>\n",
       "      <td>1</td>\n",
       "      <td>Y</td>\n",
       "      <td>1</td>\n",
       "      <td>62.0</td>\n",
       "      <td>60.0</td>\n",
       "      <td>70</td>\n",
       "      <td>Y</td>\n",
       "      <td>1.0</td>\n",
       "      <td>8</td>\n",
       "    </tr>\n",
       "    <tr>\n",
       "      <th>2</th>\n",
       "      <td>3</td>\n",
       "      <td>33.0</td>\n",
       "      <td>F</td>\n",
       "      <td>1</td>\n",
       "      <td>Y</td>\n",
       "      <td>1</td>\n",
       "      <td>66.0</td>\n",
       "      <td>64.0</td>\n",
       "      <td>85</td>\n",
       "      <td>Y</td>\n",
       "      <td>1.0</td>\n",
       "      <td>7</td>\n",
       "    </tr>\n",
       "    <tr>\n",
       "      <th>3</th>\n",
       "      <td>4</td>\n",
       "      <td>39.0</td>\n",
       "      <td>F</td>\n",
       "      <td>1</td>\n",
       "      <td>N</td>\n",
       "      <td>0</td>\n",
       "      <td>64.0</td>\n",
       "      <td>63.0</td>\n",
       "      <td>87</td>\n",
       "      <td>Y</td>\n",
       "      <td>1.0</td>\n",
       "      <td>10</td>\n",
       "    </tr>\n",
       "    <tr>\n",
       "      <th>4</th>\n",
       "      <td>5</td>\n",
       "      <td>27.0</td>\n",
       "      <td>M</td>\n",
       "      <td>2</td>\n",
       "      <td>N</td>\n",
       "      <td>0</td>\n",
       "      <td>73.0</td>\n",
       "      <td>75.0</td>\n",
       "      <td>72</td>\n",
       "      <td>N</td>\n",
       "      <td>0.0</td>\n",
       "      <td>4</td>\n",
       "    </tr>\n",
       "  </tbody>\n",
       "</table>\n",
       "</div>"
      ],
      "text/plain": [
       "   ID   Age Gender  GenderGroup Glasses  GlassesGroup  Height  Wingspan  \\\n",
       "0   1  56.0      F            1       Y             1    62.0      61.0   \n",
       "1   2  26.0      F            1       Y             1    62.0      60.0   \n",
       "2   3  33.0      F            1       Y             1    66.0      64.0   \n",
       "3   4  39.0      F            1       N             0    64.0      63.0   \n",
       "4   5  27.0      M            2       N             0    73.0      75.0   \n",
       "\n",
       "   CWDistance Complete  CompleteGroup  Score  \n",
       "0          79        Y            1.0      7  \n",
       "1          70        Y            1.0      8  \n",
       "2          85        Y            1.0      7  \n",
       "3          87        Y            1.0     10  \n",
       "4          72        N            0.0      4  "
      ]
     },
     "execution_count": 3,
     "metadata": {},
     "output_type": "execute_result"
    }
   ],
   "source": [
    "# Import the packages that we will be using\n",
    "import pandas as pd               # For data handling\n",
    "\n",
    "\n",
    "# Dataset url\n",
    "url = \"../../NotebooksProfessor/cartwheel.csv\"\n",
    "\n",
    "\n",
    "# Load the dataset\n",
    "df = pd.read_csv(url)\n",
    "df.head()"
   ]
  },
  {
   "cell_type": "code",
   "execution_count": 4,
   "metadata": {
    "id": "j614eRL1Ygl6"
   },
   "outputs": [
    {
     "name": "stdout",
     "output_type": "stream",
     "text": [
      "    ID   Age Gender  GenderGroup Glasses  GlassesGroup  Height  Wingspan  \\\n",
      "0    1  56.0      F            1       Y             1   62.00      61.0   \n",
      "1    2  26.0      F            1       Y             1   62.00      60.0   \n",
      "2    3  33.0      F            1       Y             1   66.00      64.0   \n",
      "3    4  39.0      F            1       N             0   64.00      63.0   \n",
      "4    5  27.0      M            2       N             0   73.00      75.0   \n",
      "5    6  24.0      M            2       N             0   75.00      71.0   \n",
      "6    7  28.0      M            2       N             0   75.00      76.0   \n",
      "7    8  22.0      F            1       N             0   65.00      62.0   \n",
      "8    9  29.0      M            2       Y             1   74.00      73.0   \n",
      "9   10  33.0      F            1       Y             1   63.00      60.0   \n",
      "10  11  30.0      M            2       Y             1   69.50      66.0   \n",
      "11  12  28.0      F            1       Y             1   62.75      58.0   \n",
      "12  13  25.0      F            1       Y             1   65.00      64.5   \n",
      "13  14  23.0      F            1       N             0   61.50      57.5   \n",
      "14  15  31.0      M            2       Y             1   73.00      74.0   \n",
      "15  16  26.0      M            2       Y             1   71.00      72.0   \n",
      "16  17  26.0      F            1       N             0   61.50      59.5   \n",
      "17  18  27.0      M            2       N             0   66.00      66.0   \n",
      "18  19  23.0      M            2       Y             1   70.00      69.0   \n",
      "19  20  24.0      F            1       Y             1   68.00      66.0   \n",
      "20  21  23.0      M            2       Y             1   69.00      67.0   \n",
      "21  22  29.0      M            2       N             0   71.00      70.0   \n",
      "22  23  25.0      M            2       N             0   70.00      68.0   \n",
      "23  24  26.0      M            2       N             0   69.00      71.0   \n",
      "24  25  23.0      F            1       Y             1   65.00      63.0   \n",
      "25  26  28.0      M            2       N             0   75.00      76.0   \n",
      "26  27  24.0      M            2       N             0   78.40      71.0   \n",
      "27  28  25.0      M            2       Y             1   76.00      73.0   \n",
      "28  29  32.0      F            1       Y             1   63.00      60.0   \n",
      "29  30  38.0      F            1       Y             1   61.50      61.0   \n",
      "30  31  27.0      F            1       Y             1   62.00      60.0   \n",
      "31  32  33.0      F            1       Y             1   65.30      64.0   \n",
      "32  33  38.0      F            1       N             0   64.00      63.0   \n",
      "33  34  27.0      M            2       N             0   77.00      75.0   \n",
      "34  35  24.0      F            1       N             0   67.80      62.0   \n",
      "35  36  27.0      M            2       N             0   68.00      66.0   \n",
      "36  37  25.0      F            1       Y             1   65.00      64.5   \n",
      "37  38  26.0      F            1       N             0   61.50      59.5   \n",
      "38  39  31.0      M            2       Y             1   73.00      74.0   \n",
      "39  40  30.0      M            2       Y             1   69.50      66.0   \n",
      "40  41  23.0      F            1       N             0   70.40      71.0   \n",
      "41  42  26.0      M            2       Y             1   73.50      72.0   \n",
      "42  43  28.0      F            1       Y             1   72.50      72.0   \n",
      "43  44  26.0      F            1       Y             1   72.00      72.0   \n",
      "44  45  30.0      F            1       Y             1   66.00      64.0   \n",
      "45  46  39.0      F            1       N             0   64.00      63.0   \n",
      "46  47  27.0      M            2       N             0   78.00      75.0   \n",
      "47  48  24.0      M            2       N             0   79.50      75.0   \n",
      "48  49  28.0      M            2       N             0   77.80      76.0   \n",
      "49  50  30.0      F            1       N             0   74.60       NaN   \n",
      "50  51   NaN      M            2       N             0   71.00      70.0   \n",
      "51  52  27.0      M            2       N             0     NaN      71.5   \n",
      "\n",
      "    CWDistance Complete  CompleteGroup  Score  \n",
      "0           79        Y            1.0      7  \n",
      "1           70        Y            1.0      8  \n",
      "2           85        Y            1.0      7  \n",
      "3           87        Y            1.0     10  \n",
      "4           72        N            0.0      4  \n",
      "5           81        N            0.0      3  \n",
      "6          107        Y            1.0     10  \n",
      "7           98        Y            1.0      9  \n",
      "8          106        N            0.0      5  \n",
      "9           65        Y            1.0      8  \n",
      "10          96        Y            1.0      6  \n",
      "11          79        Y            1.0     10  \n",
      "12          92        Y            1.0      6  \n",
      "13          66        Y            1.0      4  \n",
      "14          72        Y            1.0      9  \n",
      "15         115        Y            1.0      6  \n",
      "16          90        N            0.0     10  \n",
      "17          74        Y            1.0      5  \n",
      "18          64        Y            1.0      3  \n",
      "19          85        Y            1.0      8  \n",
      "20          66        N            0.0      2  \n",
      "21         101        Y            1.0      8  \n",
      "22          82        Y            1.0      4  \n",
      "23          63        Y            1.0      5  \n",
      "24          67        N            0.0      3  \n",
      "25         111        Y            1.0     10  \n",
      "26          92        Y            1.0      7  \n",
      "27         107        Y            1.0      8  \n",
      "28          75        Y            1.0      8  \n",
      "29          78        Y            1.0      7  \n",
      "30          72        Y            1.0      8  \n",
      "31          91        Y            1.0      7  \n",
      "32          86        Y            1.0     10  \n",
      "33         100        Y            1.0      8  \n",
      "34          98        Y            1.0      9  \n",
      "35          74        Y            1.0      5  \n",
      "36          92        Y            1.0      6  \n",
      "37          90        Y            1.0      9  \n",
      "38          72        Y            1.0      9  \n",
      "39          96        Y            1.0      6  \n",
      "40          66        Y            1.0      4  \n",
      "41         115        Y            1.0      6  \n",
      "42          81        Y            1.0     10  \n",
      "43          92        Y            1.0      8  \n",
      "44          85        Y            1.0      7  \n",
      "45          87        Y            1.0     10  \n",
      "46          72        N            0.0      7  \n",
      "47          82        N            0.0      8  \n",
      "48          99        Y            1.0      9  \n",
      "49          71        Y            1.0      9  \n",
      "50         101        Y            NaN      8  \n",
      "51         103        Y            1.0     10  \n"
     ]
    }
   ],
   "source": [
    "# Print the dataset\n",
    "print(df)\n"
   ]
  },
  {
   "cell_type": "code",
   "execution_count": 5,
   "metadata": {},
   "outputs": [
    {
     "name": "stdout",
     "output_type": "stream",
     "text": [
      "<class 'pandas.core.frame.DataFrame'>\n",
      "RangeIndex: 52 entries, 0 to 51\n",
      "Data columns (total 12 columns):\n",
      " #   Column         Non-Null Count  Dtype  \n",
      "---  ------         --------------  -----  \n",
      " 0   ID             52 non-null     int64  \n",
      " 1   Age            51 non-null     float64\n",
      " 2   Gender         52 non-null     object \n",
      " 3   GenderGroup    52 non-null     int64  \n",
      " 4   Glasses        52 non-null     object \n",
      " 5   GlassesGroup   52 non-null     int64  \n",
      " 6   Height         51 non-null     float64\n",
      " 7   Wingspan       51 non-null     float64\n",
      " 8   CWDistance     52 non-null     int64  \n",
      " 9   Complete       52 non-null     object \n",
      " 10  CompleteGroup  51 non-null     float64\n",
      " 11  Score          52 non-null     int64  \n",
      "dtypes: float64(4), int64(5), object(3)\n",
      "memory usage: 5.0+ KB\n"
     ]
    }
   ],
   "source": [
    "df.info()"
   ]
  },
  {
   "cell_type": "code",
   "execution_count": 6,
   "metadata": {
    "id": "UHf53273Ygl7"
   },
   "outputs": [
    {
     "name": "stdout",
     "output_type": "stream",
     "text": [
      "The number of rows are:  52\n"
     ]
    }
   ],
   "source": [
    "# Print the number of rows\n",
    "print(\"The number of rows are: \", df.shape[0])\n"
   ]
  },
  {
   "cell_type": "code",
   "execution_count": 7,
   "metadata": {
    "id": "oULLxV8eYgl7"
   },
   "outputs": [
    {
     "name": "stdout",
     "output_type": "stream",
     "text": [
      "The number of columns are:  12\n",
      "The columns area:  Index(['ID', 'Age', 'Gender', 'GenderGroup', 'Glasses', 'GlassesGroup',\n",
      "       'Height', 'Wingspan', 'CWDistance', 'Complete', 'CompleteGroup',\n",
      "       'Score'],\n",
      "      dtype='object')\n"
     ]
    }
   ],
   "source": [
    "# Print the number of columns\n",
    "print(\"The number of columns are: \", df.shape[1])\n",
    "print(\"The columns area: \", df.columns)\n"
   ]
  },
  {
   "cell_type": "markdown",
   "metadata": {
    "id": "Ucha2CMGuF8A"
   },
   "source": [
    "# Data types"
   ]
  },
  {
   "cell_type": "code",
   "execution_count": null,
   "metadata": {
    "id": "xOA1m-EVuMxz"
   },
   "outputs": [],
   "source": []
  },
  {
   "cell_type": "markdown",
   "metadata": {
    "id": "wQIcyogKYgl8"
   },
   "source": [
    "# Activity: work with the iris dataset\n",
    "\n",
    "1. Load the iris.csv file in your computer and understand the dataset\n",
    "\n",
    "\n",
    "2. How many observations (rows) are in total?\n",
    "\n",
    "\n",
    "3. How many variables (columns) are in total? What do they represent?\n",
    "\n",
    "\n",
    "4. How many observations are for each type of flower?\n",
    "\n",
    "\n",
    "5. What is the type of data for each variable?\n",
    "\n",
    "\n",
    "6. What are the units of each variable?\n"
   ]
  },
  {
   "cell_type": "code",
   "execution_count": null,
   "metadata": {
    "id": "fTHj_8jsYgl8"
   },
   "outputs": [],
   "source": []
  }
 ],
 "metadata": {
  "colab": {
   "provenance": []
  },
  "kernelspec": {
   "display_name": "itd2024",
   "language": "python",
   "name": "itd2024"
  },
  "language_info": {
   "codemirror_mode": {
    "name": "ipython",
    "version": 3
   },
   "file_extension": ".py",
   "mimetype": "text/x-python",
   "name": "python",
   "nbconvert_exporter": "python",
   "pygments_lexer": "ipython3",
   "version": "3.10.14"
  }
 },
 "nbformat": 4,
 "nbformat_minor": 0
}
