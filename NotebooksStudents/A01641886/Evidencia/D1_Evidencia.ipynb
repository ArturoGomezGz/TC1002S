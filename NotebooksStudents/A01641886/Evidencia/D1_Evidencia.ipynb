{
 "cells": [
  {
   "cell_type": "markdown",
   "metadata": {
    "id": "q3D8hjrMc10D"
   },
   "source": [
    "# TC1002S Herramientas computacionales: el arte de la analítica\n",
    "\n",
    "This is a notebook with all your work for the final evidence of this course\n",
    "\n",
    "\n",
    "# Niveles de dominio a demostrar con la evidencia\n",
    "\n",
    "### SING0202A\n",
    "\n",
    "Interpreta interacciones entre variables relevantes en un problema, como base para la construcción de modelos bivariados basados en datos de un fenómeno investigado que le permita reproducir la respuesta del mismo. Es capaz de construir modelos bivariados que expliquen el comportamiento de un fenómeno.\n",
    "\n",
    "\n",
    "# Student information\n",
    "\n",
    "- Name:\n",
    "- Sergio Emmanuel Ramírez Anaya\n",
    "\n",
    "- ID:\n",
    "- A01641886\n",
    "\n",
    "- My carreer:\n",
    "- Ingeniería en Tecnologías Computacionales\n"
   ]
  },
  {
   "cell_type": "markdown",
   "metadata": {
    "id": "jS0YQgZgc10F"
   },
   "source": [
    "# Importing libraries"
   ]
  },
  {
   "cell_type": "code",
   "execution_count": 111,
   "metadata": {
    "id": "g0rH4jO5c10G"
   },
   "outputs": [],
   "source": [
    "# Define where you are running the code: colab or local\n",
    "RunInColab          = False     # (False: no  | True: yes)\n",
    "\n",
    "# If running in colab:\n",
    "if RunInColab:\n",
    "    # Mount your google drive in google colab\n",
    "    from google.colab import drive\n",
    "    drive.mount('/content/drive')\n",
    "\n",
    "    # Find location\n",
    "    #!pwd\n",
    "    #!ls\n",
    "    #!ls \"/content/drive/My Drive/Colab Notebooks/MachineLearningWithPython/\"\n",
    "\n",
    "    # Define path del proyecto\n",
    "    Ruta            = \"/content/drive/My Drive/Colab Notebooks/MachineLearningWithPython/\"\n",
    "\n",
    "else:\n",
    "    # Define path del proyecto\n",
    "    Ruta            = \"\""
   ]
  },
  {
   "cell_type": "code",
   "execution_count": 112,
   "metadata": {},
   "outputs": [
    {
     "data": {
      "text/plain": [
       "'C:\\\\Users\\\\sergi\\\\OneDrive\\\\Documentos\\\\ITESM\\\\Semestre 4\\\\S_Arte de la Analítica\\\\TC1002S\\\\NotebooksStudents\\\\A01641886\\\\Evidencia'"
      ]
     },
     "execution_count": 112,
     "metadata": {},
     "output_type": "execute_result"
    }
   ],
   "source": [
    "pwd"
   ]
  },
  {
   "cell_type": "code",
   "execution_count": 113,
   "metadata": {},
   "outputs": [],
   "source": [
    "# Import the packages that we will be using\n",
    "import numpy as np                  # For array\n",
    "import pandas as pd                 # For data handling\n",
    "import seaborn as sns               # For advanced plotting\n",
    "import matplotlib.pyplot as plt     # For showing plots\n",
    "import warnings\n",
    "warnings.simplefilter(action='ignore', category=FutureWarning)\n",
    "warnings.filterwarnings(\"ignore\")\n",
    "\n",
    "\n",
    "# Note: specific functions of the \"sklearn\" package will be imported when needed to show concepts easily"
   ]
  },
  {
   "cell_type": "markdown",
   "metadata": {
    "id": "k2WPUJ3Qc10H"
   },
   "source": [
    "# PART 1\n",
    "# Use your assigned dataset"
   ]
  },
  {
   "cell_type": "markdown",
   "metadata": {
    "id": "UAuo89JOc10H"
   },
   "source": [
    "## A1 Load data"
   ]
  },
  {
   "cell_type": "code",
   "execution_count": 114,
   "metadata": {
    "id": "buevIRTwc10H"
   },
   "outputs": [],
   "source": [
    "# Dataset url\n",
    "url = Ruta + \"dataset/A01641886_X.csv\"\n",
    "\n",
    "# Load the dataset\n",
    "df  = pd.read_csv(url)"
   ]
  },
  {
   "cell_type": "markdown",
   "metadata": {
    "id": "ML3KFQIUc10H"
   },
   "source": [
    "## A2 Data managment\n"
   ]
  },
  {
   "cell_type": "markdown",
   "metadata": {
    "id": "leWzb7y0c10H"
   },
   "source": [
    "Print the first 7 rows"
   ]
  },
  {
   "cell_type": "code",
   "execution_count": 115,
   "metadata": {
    "id": "cpkGC0h2c10H"
   },
   "outputs": [
    {
     "data": {
      "text/html": [
       "<div>\n",
       "<style scoped>\n",
       "    .dataframe tbody tr th:only-of-type {\n",
       "        vertical-align: middle;\n",
       "    }\n",
       "\n",
       "    .dataframe tbody tr th {\n",
       "        vertical-align: top;\n",
       "    }\n",
       "\n",
       "    .dataframe thead th {\n",
       "        text-align: right;\n",
       "    }\n",
       "</style>\n",
       "<table border=\"1\" class=\"dataframe\">\n",
       "  <thead>\n",
       "    <tr style=\"text-align: right;\">\n",
       "      <th></th>\n",
       "      <th>Unnamed: 0</th>\n",
       "      <th>x1</th>\n",
       "      <th>x2</th>\n",
       "      <th>x3</th>\n",
       "      <th>x4</th>\n",
       "    </tr>\n",
       "  </thead>\n",
       "  <tbody>\n",
       "    <tr>\n",
       "      <th>0</th>\n",
       "      <td>0</td>\n",
       "      <td>9.269424</td>\n",
       "      <td>-7.292993</td>\n",
       "      <td>0.693138</td>\n",
       "      <td>5.019241</td>\n",
       "    </tr>\n",
       "    <tr>\n",
       "      <th>1</th>\n",
       "      <td>1</td>\n",
       "      <td>8.380238</td>\n",
       "      <td>-4.731907</td>\n",
       "      <td>0.474073</td>\n",
       "      <td>3.731614</td>\n",
       "    </tr>\n",
       "    <tr>\n",
       "      <th>2</th>\n",
       "      <td>2</td>\n",
       "      <td>-2.363124</td>\n",
       "      <td>-0.816135</td>\n",
       "      <td>1.810237</td>\n",
       "      <td>1.267835</td>\n",
       "    </tr>\n",
       "    <tr>\n",
       "      <th>3</th>\n",
       "      <td>3</td>\n",
       "      <td>-0.731134</td>\n",
       "      <td>-8.044954</td>\n",
       "      <td>0.716287</td>\n",
       "      <td>-4.538082</td>\n",
       "    </tr>\n",
       "    <tr>\n",
       "      <th>4</th>\n",
       "      <td>4</td>\n",
       "      <td>4.506465</td>\n",
       "      <td>-8.083561</td>\n",
       "      <td>-3.464818</td>\n",
       "      <td>-6.960667</td>\n",
       "    </tr>\n",
       "    <tr>\n",
       "      <th>5</th>\n",
       "      <td>5</td>\n",
       "      <td>3.859724</td>\n",
       "      <td>-8.017146</td>\n",
       "      <td>2.300423</td>\n",
       "      <td>-10.946108</td>\n",
       "    </tr>\n",
       "    <tr>\n",
       "      <th>6</th>\n",
       "      <td>6</td>\n",
       "      <td>11.787125</td>\n",
       "      <td>-6.529627</td>\n",
       "      <td>0.313300</td>\n",
       "      <td>3.618177</td>\n",
       "    </tr>\n",
       "  </tbody>\n",
       "</table>\n",
       "</div>"
      ],
      "text/plain": [
       "   Unnamed: 0         x1        x2        x3         x4\n",
       "0           0   9.269424 -7.292993  0.693138   5.019241\n",
       "1           1   8.380238 -4.731907  0.474073   3.731614\n",
       "2           2  -2.363124 -0.816135  1.810237   1.267835\n",
       "3           3  -0.731134 -8.044954  0.716287  -4.538082\n",
       "4           4   4.506465 -8.083561 -3.464818  -6.960667\n",
       "5           5   3.859724 -8.017146  2.300423 -10.946108\n",
       "6           6  11.787125 -6.529627  0.313300   3.618177"
      ]
     },
     "execution_count": 115,
     "metadata": {},
     "output_type": "execute_result"
    }
   ],
   "source": [
    "df.head(7)"
   ]
  },
  {
   "cell_type": "markdown",
   "metadata": {
    "id": "zL5vuF_Zc10H"
   },
   "source": [
    "Print the last 4 rows"
   ]
  },
  {
   "cell_type": "code",
   "execution_count": 116,
   "metadata": {
    "id": "_ZKg65eIc10H"
   },
   "outputs": [
    {
     "data": {
      "text/html": [
       "<div>\n",
       "<style scoped>\n",
       "    .dataframe tbody tr th:only-of-type {\n",
       "        vertical-align: middle;\n",
       "    }\n",
       "\n",
       "    .dataframe tbody tr th {\n",
       "        vertical-align: top;\n",
       "    }\n",
       "\n",
       "    .dataframe thead th {\n",
       "        text-align: right;\n",
       "    }\n",
       "</style>\n",
       "<table border=\"1\" class=\"dataframe\">\n",
       "  <thead>\n",
       "    <tr style=\"text-align: right;\">\n",
       "      <th></th>\n",
       "      <th>Unnamed: 0</th>\n",
       "      <th>x1</th>\n",
       "      <th>x2</th>\n",
       "      <th>x3</th>\n",
       "      <th>x4</th>\n",
       "    </tr>\n",
       "  </thead>\n",
       "  <tbody>\n",
       "    <tr>\n",
       "      <th>307</th>\n",
       "      <td>307</td>\n",
       "      <td>4.027418</td>\n",
       "      <td>-8.089747</td>\n",
       "      <td>0.791697</td>\n",
       "      <td>8.264215</td>\n",
       "    </tr>\n",
       "    <tr>\n",
       "      <th>308</th>\n",
       "      <td>308</td>\n",
       "      <td>-7.662740</td>\n",
       "      <td>2.699656</td>\n",
       "      <td>-0.079570</td>\n",
       "      <td>3.930626</td>\n",
       "    </tr>\n",
       "    <tr>\n",
       "      <th>309</th>\n",
       "      <td>309</td>\n",
       "      <td>-2.161929</td>\n",
       "      <td>1.207442</td>\n",
       "      <td>1.098179</td>\n",
       "      <td>1.511654</td>\n",
       "    </tr>\n",
       "    <tr>\n",
       "      <th>310</th>\n",
       "      <td>310</td>\n",
       "      <td>3.909994</td>\n",
       "      <td>-7.987667</td>\n",
       "      <td>0.270988</td>\n",
       "      <td>4.994286</td>\n",
       "    </tr>\n",
       "  </tbody>\n",
       "</table>\n",
       "</div>"
      ],
      "text/plain": [
       "     Unnamed: 0        x1        x2        x3        x4\n",
       "307         307  4.027418 -8.089747  0.791697  8.264215\n",
       "308         308 -7.662740  2.699656 -0.079570  3.930626\n",
       "309         309 -2.161929  1.207442  1.098179  1.511654\n",
       "310         310  3.909994 -7.987667  0.270988  4.994286"
      ]
     },
     "execution_count": 116,
     "metadata": {},
     "output_type": "execute_result"
    }
   ],
   "source": [
    "df.tail(4)"
   ]
  },
  {
   "cell_type": "markdown",
   "metadata": {
    "id": "A5VQn2Jec10I"
   },
   "source": [
    "How many rows and columns are in your data?\n",
    "\n",
    "Use the `shape` method\n"
   ]
  },
  {
   "cell_type": "code",
   "execution_count": 117,
   "metadata": {
    "id": "NZDEiAL-c10I"
   },
   "outputs": [
    {
     "data": {
      "text/plain": [
       "(311, 5)"
      ]
     },
     "execution_count": 117,
     "metadata": {},
     "output_type": "execute_result"
    }
   ],
   "source": [
    "df.shape"
   ]
  },
  {
   "cell_type": "markdown",
   "metadata": {
    "id": "EtjQki62c10I"
   },
   "source": [
    "Print the name of all columns\n",
    "\n",
    "Use the `columns` method"
   ]
  },
  {
   "cell_type": "code",
   "execution_count": 118,
   "metadata": {
    "id": "zgRdg5smc10I"
   },
   "outputs": [
    {
     "data": {
      "text/plain": [
       "Index(['Unnamed: 0', 'x1', 'x2', 'x3', 'x4'], dtype='object')"
      ]
     },
     "execution_count": 118,
     "metadata": {},
     "output_type": "execute_result"
    }
   ],
   "source": [
    "df.columns"
   ]
  },
  {
   "cell_type": "markdown",
   "metadata": {
    "id": "ERLu1TUNc10I"
   },
   "source": [
    "What is the data type in each column\n",
    "\n",
    "Use the `dtypes` method"
   ]
  },
  {
   "cell_type": "code",
   "execution_count": 119,
   "metadata": {
    "id": "iYWYwlZqc10J"
   },
   "outputs": [
    {
     "data": {
      "text/plain": [
       "Unnamed: 0      int64\n",
       "x1            float64\n",
       "x2            float64\n",
       "x3            float64\n",
       "x4            float64\n",
       "dtype: object"
      ]
     },
     "execution_count": 119,
     "metadata": {},
     "output_type": "execute_result"
    }
   ],
   "source": [
    "df.dtypes"
   ]
  },
  {
   "cell_type": "markdown",
   "metadata": {
    "id": "n78EC_wic10J"
   },
   "source": [
    "What is the meaning of rows and columns?"
   ]
  },
  {
   "cell_type": "markdown",
   "metadata": {
    "id": "TgB2ICchc10J"
   },
   "source": [
    "# Your responses here\n",
    "\n",
    " 1) En el conjunto de datos proporcionado, cada fila representa una observación o una instancia individual, mientras que cada columna representa una variable o una característica específica asociada con esas observaciones.\n",
    "\n",
    " 2) x1, x2, x3, x4: Estas son las etiquetas de las columnas y representan diferentes variables o características. Sin tener más contexto sobre el conjunto de datos, no podemos decir con certeza qué significan estas variables. En general, podrían representar medidas, características de algún proceso o cualquier otro tipo de información relevante para el conjunto de datos en cuestión. Por ejemplo, si este conjunto de datos fuera sobre un experimento científico, las columnas podrían representar diferentes mediciones tomadas en cada experimento, como la temperatura (x1), la presión (x2), el tiempo (x3), etc.\r\n",
    " 3) Las filas, por otro lado, representan las observaciones o muestras individuales para las cuales se registraron los valores de las variables en las columnas correspondientes. Cada fila proporciona información sobre una instancia específica en el conjunto de datos.\r\n",
    "\r\n",
    "\r\n",
    "\r\n",
    "\r\n",
    "\r\n",
    "\r\n",
    "\n",
    "\r\n",
    "\r\n"
   ]
  },
  {
   "cell_type": "markdown",
   "metadata": {
    "id": "chh9y4jRc10J"
   },
   "source": [
    "Print a statistical summary of your columns\n"
   ]
  },
  {
   "cell_type": "code",
   "execution_count": 120,
   "metadata": {
    "id": "CYXHbClkc10J"
   },
   "outputs": [
    {
     "data": {
      "text/html": [
       "<div>\n",
       "<style scoped>\n",
       "    .dataframe tbody tr th:only-of-type {\n",
       "        vertical-align: middle;\n",
       "    }\n",
       "\n",
       "    .dataframe tbody tr th {\n",
       "        vertical-align: top;\n",
       "    }\n",
       "\n",
       "    .dataframe thead th {\n",
       "        text-align: right;\n",
       "    }\n",
       "</style>\n",
       "<table border=\"1\" class=\"dataframe\">\n",
       "  <thead>\n",
       "    <tr style=\"text-align: right;\">\n",
       "      <th></th>\n",
       "      <th>Unnamed: 0</th>\n",
       "      <th>x1</th>\n",
       "      <th>x2</th>\n",
       "      <th>x3</th>\n",
       "      <th>x4</th>\n",
       "    </tr>\n",
       "  </thead>\n",
       "  <tbody>\n",
       "    <tr>\n",
       "      <th>count</th>\n",
       "      <td>311.000000</td>\n",
       "      <td>311.000000</td>\n",
       "      <td>311.000000</td>\n",
       "      <td>311.000000</td>\n",
       "      <td>311.000000</td>\n",
       "    </tr>\n",
       "    <tr>\n",
       "      <th>mean</th>\n",
       "      <td>155.000000</td>\n",
       "      <td>2.981769</td>\n",
       "      <td>-4.726345</td>\n",
       "      <td>2.475595</td>\n",
       "      <td>-0.862343</td>\n",
       "    </tr>\n",
       "    <tr>\n",
       "      <th>std</th>\n",
       "      <td>89.922189</td>\n",
       "      <td>4.779074</td>\n",
       "      <td>4.115484</td>\n",
       "      <td>4.243634</td>\n",
       "      <td>5.297699</td>\n",
       "    </tr>\n",
       "    <tr>\n",
       "      <th>min</th>\n",
       "      <td>0.000000</td>\n",
       "      <td>-9.195205</td>\n",
       "      <td>-11.080426</td>\n",
       "      <td>-5.158118</td>\n",
       "      <td>-12.865845</td>\n",
       "    </tr>\n",
       "    <tr>\n",
       "      <th>25%</th>\n",
       "      <td>77.500000</td>\n",
       "      <td>-0.340136</td>\n",
       "      <td>-7.520781</td>\n",
       "      <td>-0.540855</td>\n",
       "      <td>-4.980485</td>\n",
       "    </tr>\n",
       "    <tr>\n",
       "      <th>50%</th>\n",
       "      <td>155.000000</td>\n",
       "      <td>3.630129</td>\n",
       "      <td>-6.019066</td>\n",
       "      <td>1.174877</td>\n",
       "      <td>-0.753032</td>\n",
       "    </tr>\n",
       "    <tr>\n",
       "      <th>75%</th>\n",
       "      <td>232.500000</td>\n",
       "      <td>6.755655</td>\n",
       "      <td>-2.389725</td>\n",
       "      <td>4.636720</td>\n",
       "      <td>3.588368</td>\n",
       "    </tr>\n",
       "    <tr>\n",
       "      <th>max</th>\n",
       "      <td>310.000000</td>\n",
       "      <td>13.431718</td>\n",
       "      <td>7.274245</td>\n",
       "      <td>12.720846</td>\n",
       "      <td>10.310257</td>\n",
       "    </tr>\n",
       "  </tbody>\n",
       "</table>\n",
       "</div>"
      ],
      "text/plain": [
       "       Unnamed: 0          x1          x2          x3          x4\n",
       "count  311.000000  311.000000  311.000000  311.000000  311.000000\n",
       "mean   155.000000    2.981769   -4.726345    2.475595   -0.862343\n",
       "std     89.922189    4.779074    4.115484    4.243634    5.297699\n",
       "min      0.000000   -9.195205  -11.080426   -5.158118  -12.865845\n",
       "25%     77.500000   -0.340136   -7.520781   -0.540855   -4.980485\n",
       "50%    155.000000    3.630129   -6.019066    1.174877   -0.753032\n",
       "75%    232.500000    6.755655   -2.389725    4.636720    3.588368\n",
       "max    310.000000   13.431718    7.274245   12.720846   10.310257"
      ]
     },
     "execution_count": 120,
     "metadata": {},
     "output_type": "execute_result"
    }
   ],
   "source": [
    "df.describe()"
   ]
  },
  {
   "cell_type": "markdown",
   "metadata": {
    "id": "ZVcfIj8qc10K"
   },
   "source": [
    "# 1) What is the minumum and maximum values of each variable\n",
    "min (x1 = -9.195205, x2 = -11.080426, x3 = -5.158118, x4 = -12.865845)\n",
    "\n",
    "max (x1 = 13.431718, x2 = 7.274245, x3 = 12.720846, x4 = 10.310257)\n",
    "       \n",
    "# 2) What is the mean and standar deviation of each variable\n",
    "mean (x1 = 2.981769, x2 = -4.726345, x3 = 2.475595\t, x4 = -0.862343)\n",
    "\n",
    "standard deviation (x1 = 4.779074, x2 = 4.115484, x3 = 4.243634, x4 = 5.297699)\n",
    "\n",
    "# 3) What the 25%, 50% and 75% represent?\n",
    "\n",
    "- 25%: El percentil 25, también conocido como el primer cuartil. El 25% de las observaciones caen por debajo de este valor.\r\n",
    "- \n",
    "50%: El percentil 50, que es la mediana. Divide el conjunto de datos en dos partes iguales.\n",
    "- \r\n",
    "75%: El percentil 75, también conocido como el tercer cuartil. El 75% de las observaciones caen por debajo de este valor.\n"
   ]
  },
  {
   "cell_type": "markdown",
   "metadata": {
    "id": "lheleStYc10K"
   },
   "source": [
    "Rename the columns using the same name with capital letters"
   ]
  },
  {
   "cell_type": "code",
   "execution_count": 121,
   "metadata": {
    "id": "ZZDjtAr1c10K"
   },
   "outputs": [
    {
     "data": {
      "text/html": [
       "<div>\n",
       "<style scoped>\n",
       "    .dataframe tbody tr th:only-of-type {\n",
       "        vertical-align: middle;\n",
       "    }\n",
       "\n",
       "    .dataframe tbody tr th {\n",
       "        vertical-align: top;\n",
       "    }\n",
       "\n",
       "    .dataframe thead th {\n",
       "        text-align: right;\n",
       "    }\n",
       "</style>\n",
       "<table border=\"1\" class=\"dataframe\">\n",
       "  <thead>\n",
       "    <tr style=\"text-align: right;\">\n",
       "      <th></th>\n",
       "      <th>Unnamed: 0</th>\n",
       "      <th>X1</th>\n",
       "      <th>X2</th>\n",
       "      <th>X3</th>\n",
       "      <th>X4</th>\n",
       "    </tr>\n",
       "  </thead>\n",
       "  <tbody>\n",
       "    <tr>\n",
       "      <th>0</th>\n",
       "      <td>0</td>\n",
       "      <td>9.269424</td>\n",
       "      <td>-7.292993</td>\n",
       "      <td>0.693138</td>\n",
       "      <td>5.019241</td>\n",
       "    </tr>\n",
       "    <tr>\n",
       "      <th>1</th>\n",
       "      <td>1</td>\n",
       "      <td>8.380238</td>\n",
       "      <td>-4.731907</td>\n",
       "      <td>0.474073</td>\n",
       "      <td>3.731614</td>\n",
       "    </tr>\n",
       "    <tr>\n",
       "      <th>2</th>\n",
       "      <td>2</td>\n",
       "      <td>-2.363124</td>\n",
       "      <td>-0.816135</td>\n",
       "      <td>1.810237</td>\n",
       "      <td>1.267835</td>\n",
       "    </tr>\n",
       "    <tr>\n",
       "      <th>3</th>\n",
       "      <td>3</td>\n",
       "      <td>-0.731134</td>\n",
       "      <td>-8.044954</td>\n",
       "      <td>0.716287</td>\n",
       "      <td>-4.538082</td>\n",
       "    </tr>\n",
       "    <tr>\n",
       "      <th>4</th>\n",
       "      <td>4</td>\n",
       "      <td>4.506465</td>\n",
       "      <td>-8.083561</td>\n",
       "      <td>-3.464818</td>\n",
       "      <td>-6.960667</td>\n",
       "    </tr>\n",
       "    <tr>\n",
       "      <th>...</th>\n",
       "      <td>...</td>\n",
       "      <td>...</td>\n",
       "      <td>...</td>\n",
       "      <td>...</td>\n",
       "      <td>...</td>\n",
       "    </tr>\n",
       "    <tr>\n",
       "      <th>306</th>\n",
       "      <td>306</td>\n",
       "      <td>8.325689</td>\n",
       "      <td>-6.296992</td>\n",
       "      <td>8.155659</td>\n",
       "      <td>-2.049525</td>\n",
       "    </tr>\n",
       "    <tr>\n",
       "      <th>307</th>\n",
       "      <td>307</td>\n",
       "      <td>4.027418</td>\n",
       "      <td>-8.089747</td>\n",
       "      <td>0.791697</td>\n",
       "      <td>8.264215</td>\n",
       "    </tr>\n",
       "    <tr>\n",
       "      <th>308</th>\n",
       "      <td>308</td>\n",
       "      <td>-7.662740</td>\n",
       "      <td>2.699656</td>\n",
       "      <td>-0.079570</td>\n",
       "      <td>3.930626</td>\n",
       "    </tr>\n",
       "    <tr>\n",
       "      <th>309</th>\n",
       "      <td>309</td>\n",
       "      <td>-2.161929</td>\n",
       "      <td>1.207442</td>\n",
       "      <td>1.098179</td>\n",
       "      <td>1.511654</td>\n",
       "    </tr>\n",
       "    <tr>\n",
       "      <th>310</th>\n",
       "      <td>310</td>\n",
       "      <td>3.909994</td>\n",
       "      <td>-7.987667</td>\n",
       "      <td>0.270988</td>\n",
       "      <td>4.994286</td>\n",
       "    </tr>\n",
       "  </tbody>\n",
       "</table>\n",
       "<p>311 rows × 5 columns</p>\n",
       "</div>"
      ],
      "text/plain": [
       "     Unnamed: 0        X1        X2        X3        X4\n",
       "0             0  9.269424 -7.292993  0.693138  5.019241\n",
       "1             1  8.380238 -4.731907  0.474073  3.731614\n",
       "2             2 -2.363124 -0.816135  1.810237  1.267835\n",
       "3             3 -0.731134 -8.044954  0.716287 -4.538082\n",
       "4             4  4.506465 -8.083561 -3.464818 -6.960667\n",
       "..          ...       ...       ...       ...       ...\n",
       "306         306  8.325689 -6.296992  8.155659 -2.049525\n",
       "307         307  4.027418 -8.089747  0.791697  8.264215\n",
       "308         308 -7.662740  2.699656 -0.079570  3.930626\n",
       "309         309 -2.161929  1.207442  1.098179  1.511654\n",
       "310         310  3.909994 -7.987667  0.270988  4.994286\n",
       "\n",
       "[311 rows x 5 columns]"
      ]
     },
     "execution_count": 121,
     "metadata": {},
     "output_type": "execute_result"
    }
   ],
   "source": [
    "# Define the new column names with capital letters\n",
    "new_column_names = {'x1': 'X1', 'x2': 'X2', 'x3': 'X3', 'x4': 'X4'}\n",
    "\n",
    "# Rename the columns\n",
    "df = df.rename(columns=new_column_names)\n",
    "\n",
    "df\n"
   ]
  },
  {
   "cell_type": "markdown",
   "metadata": {
    "id": "Gvlp3x9qc10K"
   },
   "source": [
    "Rename the columns to their original names"
   ]
  },
  {
   "cell_type": "code",
   "execution_count": 122,
   "metadata": {
    "id": "eUgD9iZlc10L"
   },
   "outputs": [
    {
     "data": {
      "text/html": [
       "<div>\n",
       "<style scoped>\n",
       "    .dataframe tbody tr th:only-of-type {\n",
       "        vertical-align: middle;\n",
       "    }\n",
       "\n",
       "    .dataframe tbody tr th {\n",
       "        vertical-align: top;\n",
       "    }\n",
       "\n",
       "    .dataframe thead th {\n",
       "        text-align: right;\n",
       "    }\n",
       "</style>\n",
       "<table border=\"1\" class=\"dataframe\">\n",
       "  <thead>\n",
       "    <tr style=\"text-align: right;\">\n",
       "      <th></th>\n",
       "      <th>Unnamed: 0</th>\n",
       "      <th>x1</th>\n",
       "      <th>x2</th>\n",
       "      <th>x3</th>\n",
       "      <th>x4</th>\n",
       "    </tr>\n",
       "  </thead>\n",
       "  <tbody>\n",
       "    <tr>\n",
       "      <th>0</th>\n",
       "      <td>0</td>\n",
       "      <td>9.269424</td>\n",
       "      <td>-7.292993</td>\n",
       "      <td>0.693138</td>\n",
       "      <td>5.019241</td>\n",
       "    </tr>\n",
       "    <tr>\n",
       "      <th>1</th>\n",
       "      <td>1</td>\n",
       "      <td>8.380238</td>\n",
       "      <td>-4.731907</td>\n",
       "      <td>0.474073</td>\n",
       "      <td>3.731614</td>\n",
       "    </tr>\n",
       "    <tr>\n",
       "      <th>2</th>\n",
       "      <td>2</td>\n",
       "      <td>-2.363124</td>\n",
       "      <td>-0.816135</td>\n",
       "      <td>1.810237</td>\n",
       "      <td>1.267835</td>\n",
       "    </tr>\n",
       "    <tr>\n",
       "      <th>3</th>\n",
       "      <td>3</td>\n",
       "      <td>-0.731134</td>\n",
       "      <td>-8.044954</td>\n",
       "      <td>0.716287</td>\n",
       "      <td>-4.538082</td>\n",
       "    </tr>\n",
       "    <tr>\n",
       "      <th>4</th>\n",
       "      <td>4</td>\n",
       "      <td>4.506465</td>\n",
       "      <td>-8.083561</td>\n",
       "      <td>-3.464818</td>\n",
       "      <td>-6.960667</td>\n",
       "    </tr>\n",
       "    <tr>\n",
       "      <th>...</th>\n",
       "      <td>...</td>\n",
       "      <td>...</td>\n",
       "      <td>...</td>\n",
       "      <td>...</td>\n",
       "      <td>...</td>\n",
       "    </tr>\n",
       "    <tr>\n",
       "      <th>306</th>\n",
       "      <td>306</td>\n",
       "      <td>8.325689</td>\n",
       "      <td>-6.296992</td>\n",
       "      <td>8.155659</td>\n",
       "      <td>-2.049525</td>\n",
       "    </tr>\n",
       "    <tr>\n",
       "      <th>307</th>\n",
       "      <td>307</td>\n",
       "      <td>4.027418</td>\n",
       "      <td>-8.089747</td>\n",
       "      <td>0.791697</td>\n",
       "      <td>8.264215</td>\n",
       "    </tr>\n",
       "    <tr>\n",
       "      <th>308</th>\n",
       "      <td>308</td>\n",
       "      <td>-7.662740</td>\n",
       "      <td>2.699656</td>\n",
       "      <td>-0.079570</td>\n",
       "      <td>3.930626</td>\n",
       "    </tr>\n",
       "    <tr>\n",
       "      <th>309</th>\n",
       "      <td>309</td>\n",
       "      <td>-2.161929</td>\n",
       "      <td>1.207442</td>\n",
       "      <td>1.098179</td>\n",
       "      <td>1.511654</td>\n",
       "    </tr>\n",
       "    <tr>\n",
       "      <th>310</th>\n",
       "      <td>310</td>\n",
       "      <td>3.909994</td>\n",
       "      <td>-7.987667</td>\n",
       "      <td>0.270988</td>\n",
       "      <td>4.994286</td>\n",
       "    </tr>\n",
       "  </tbody>\n",
       "</table>\n",
       "<p>311 rows × 5 columns</p>\n",
       "</div>"
      ],
      "text/plain": [
       "     Unnamed: 0        x1        x2        x3        x4\n",
       "0             0  9.269424 -7.292993  0.693138  5.019241\n",
       "1             1  8.380238 -4.731907  0.474073  3.731614\n",
       "2             2 -2.363124 -0.816135  1.810237  1.267835\n",
       "3             3 -0.731134 -8.044954  0.716287 -4.538082\n",
       "4             4  4.506465 -8.083561 -3.464818 -6.960667\n",
       "..          ...       ...       ...       ...       ...\n",
       "306         306  8.325689 -6.296992  8.155659 -2.049525\n",
       "307         307  4.027418 -8.089747  0.791697  8.264215\n",
       "308         308 -7.662740  2.699656 -0.079570  3.930626\n",
       "309         309 -2.161929  1.207442  1.098179  1.511654\n",
       "310         310  3.909994 -7.987667  0.270988  4.994286\n",
       "\n",
       "[311 rows x 5 columns]"
      ]
     },
     "execution_count": 122,
     "metadata": {},
     "output_type": "execute_result"
    }
   ],
   "source": [
    "# Define the mapping from current column names to original column names\n",
    "original_column_names = {'X1': 'x1', 'X2': 'x2', 'X3': 'x3', 'X4': 'x4'}\n",
    "\n",
    "# Rename the columns\n",
    "df = df.rename(columns=original_column_names)\n",
    "\n",
    "# Print the DataFrame with the original column names\n",
    "df"
   ]
  },
  {
   "cell_type": "markdown",
   "metadata": {
    "id": "NJ4a9Nesc10L"
   },
   "source": [
    "Use two different alternatives to get one of the columns"
   ]
  },
  {
   "cell_type": "code",
   "execution_count": 123,
   "metadata": {
    "id": "a0Y-m4lpc10L"
   },
   "outputs": [
    {
     "data": {
      "text/plain": [
       "0      9.269424\n",
       "1      8.380238\n",
       "2     -2.363124\n",
       "3     -0.731134\n",
       "4      4.506465\n",
       "         ...   \n",
       "306    8.325689\n",
       "307    4.027418\n",
       "308   -7.662740\n",
       "309   -2.161929\n",
       "310    3.909994\n",
       "Name: x1, Length: 311, dtype: float64"
      ]
     },
     "execution_count": 123,
     "metadata": {},
     "output_type": "execute_result"
    }
   ],
   "source": [
    "# Método 1: Indexación por nombre de columna\n",
    "column_x1_1 = df['x1']\n",
    "column_x1_1"
   ]
  },
  {
   "cell_type": "code",
   "execution_count": 124,
   "metadata": {},
   "outputs": [
    {
     "data": {
      "text/plain": [
       "0      9.269424\n",
       "1      8.380238\n",
       "2     -2.363124\n",
       "3     -0.731134\n",
       "4      4.506465\n",
       "         ...   \n",
       "306    8.325689\n",
       "307    4.027418\n",
       "308   -7.662740\n",
       "309   -2.161929\n",
       "310    3.909994\n",
       "Name: x1, Length: 311, dtype: float64"
      ]
     },
     "execution_count": 124,
     "metadata": {},
     "output_type": "execute_result"
    }
   ],
   "source": [
    "# Método 2: Acceso a través de atributo\n",
    "column_x1_2 = df.x1\n",
    "column_x1_2"
   ]
  },
  {
   "cell_type": "markdown",
   "metadata": {
    "id": "JdbYbVY-c10L"
   },
   "source": [
    "Get a slice of your data set: second and thrid columns and rows from 62 to 72"
   ]
  },
  {
   "cell_type": "code",
   "execution_count": 125,
   "metadata": {
    "id": "T_fxIO1oc10L"
   },
   "outputs": [
    {
     "data": {
      "text/html": [
       "<div>\n",
       "<style scoped>\n",
       "    .dataframe tbody tr th:only-of-type {\n",
       "        vertical-align: middle;\n",
       "    }\n",
       "\n",
       "    .dataframe tbody tr th {\n",
       "        vertical-align: top;\n",
       "    }\n",
       "\n",
       "    .dataframe thead th {\n",
       "        text-align: right;\n",
       "    }\n",
       "</style>\n",
       "<table border=\"1\" class=\"dataframe\">\n",
       "  <thead>\n",
       "    <tr style=\"text-align: right;\">\n",
       "      <th></th>\n",
       "      <th>x1</th>\n",
       "      <th>x2</th>\n",
       "    </tr>\n",
       "  </thead>\n",
       "  <tbody>\n",
       "    <tr>\n",
       "      <th>61</th>\n",
       "      <td>-3.506682</td>\n",
       "      <td>1.278804</td>\n",
       "    </tr>\n",
       "    <tr>\n",
       "      <th>62</th>\n",
       "      <td>0.510365</td>\n",
       "      <td>-6.781136</td>\n",
       "    </tr>\n",
       "    <tr>\n",
       "      <th>63</th>\n",
       "      <td>2.306420</td>\n",
       "      <td>-6.767250</td>\n",
       "    </tr>\n",
       "    <tr>\n",
       "      <th>64</th>\n",
       "      <td>7.653577</td>\n",
       "      <td>-9.140502</td>\n",
       "    </tr>\n",
       "    <tr>\n",
       "      <th>65</th>\n",
       "      <td>1.752351</td>\n",
       "      <td>-9.562125</td>\n",
       "    </tr>\n",
       "    <tr>\n",
       "      <th>66</th>\n",
       "      <td>10.480804</td>\n",
       "      <td>-6.893395</td>\n",
       "    </tr>\n",
       "    <tr>\n",
       "      <th>67</th>\n",
       "      <td>-3.866636</td>\n",
       "      <td>1.946009</td>\n",
       "    </tr>\n",
       "    <tr>\n",
       "      <th>68</th>\n",
       "      <td>9.025518</td>\n",
       "      <td>-5.433263</td>\n",
       "    </tr>\n",
       "    <tr>\n",
       "      <th>69</th>\n",
       "      <td>-1.085484</td>\n",
       "      <td>0.180459</td>\n",
       "    </tr>\n",
       "    <tr>\n",
       "      <th>70</th>\n",
       "      <td>6.397819</td>\n",
       "      <td>-5.290450</td>\n",
       "    </tr>\n",
       "    <tr>\n",
       "      <th>71</th>\n",
       "      <td>4.155691</td>\n",
       "      <td>-9.427862</td>\n",
       "    </tr>\n",
       "  </tbody>\n",
       "</table>\n",
       "</div>"
      ],
      "text/plain": [
       "           x1        x2\n",
       "61  -3.506682  1.278804\n",
       "62   0.510365 -6.781136\n",
       "63   2.306420 -6.767250\n",
       "64   7.653577 -9.140502\n",
       "65   1.752351 -9.562125\n",
       "66  10.480804 -6.893395\n",
       "67  -3.866636  1.946009\n",
       "68   9.025518 -5.433263\n",
       "69  -1.085484  0.180459\n",
       "70   6.397819 -5.290450\n",
       "71   4.155691 -9.427862"
      ]
     },
     "execution_count": 125,
     "metadata": {},
     "output_type": "execute_result"
    }
   ],
   "source": [
    "# Obtener un segmento del conjunto de datos: segunda y tercera columnas, filas de la 62 a la 72\n",
    "subset = df.iloc[61:72, 1:3]  # Se utiliza iloc para indexar por posición\n",
    "subset"
   ]
  },
  {
   "cell_type": "markdown",
   "metadata": {
    "id": "LTCUOWvMc10L"
   },
   "source": [
    "For the second and thrid columns, calculate the number of null and not null values and verify that their sum equals the total number of rows"
   ]
  },
  {
   "cell_type": "code",
   "execution_count": 126,
   "metadata": {
    "id": "8aXxqkRSc10L"
   },
   "outputs": [
    {
     "name": "stdout",
     "output_type": "stream",
     "text": [
      "Número de valores nulos en la segunda columna: 0\n",
      "Número de valores no nulos en la segunda columna: 311\n",
      "Número de valores nulos en la tercera columna: 0\n",
      "Número de valores no nulos en la tercera columna: 311\n",
      "Número total de filas en el DataFrame: 311\n",
      "Suma de valores nulos en la segunda y tercera columnas: 0\n",
      "Suma de valores no nulos en la segunda y tercera columnas: 622\n",
      "Suma total de valores nulos y no nulos: 622\n"
     ]
    }
   ],
   "source": [
    "# Calcular el número de valores nulos y no nulos en las columnas segunda y tercera\n",
    "null_count_col2 = df['x1'].isnull().sum()\n",
    "not_null_count_col2 = df['x1'].notnull().sum()\n",
    "\n",
    "null_count_col3 = df['x2'].isnull().sum()\n",
    "not_null_count_col3 = df['x2'].notnull().sum()\n",
    "\n",
    "# Obtener el número total de filas\n",
    "total_rows = len(df)\n",
    "\n",
    "# Verificar que la suma de valores nulos y no nulos sea igual al número total de filas\n",
    "total_null_values = null_count_col2 + null_count_col3\n",
    "total_not_null_values = not_null_count_col2 + not_null_count_col3\n",
    "\n",
    "# Imprimir los resultados\n",
    "print(\"Número de valores nulos en la segunda columna:\", null_count_col2)\n",
    "print(\"Número de valores no nulos en la segunda columna:\", not_null_count_col2)\n",
    "print(\"Número de valores nulos en la tercera columna:\", null_count_col3)\n",
    "print(\"Número de valores no nulos en la tercera columna:\", not_null_count_col3)\n",
    "print(\"Número total de filas en el DataFrame:\", total_rows)\n",
    "print(\"Suma de valores nulos en la segunda y tercera columnas:\", total_null_values)\n",
    "print(\"Suma de valores no nulos en la segunda y tercera columnas:\", total_not_null_values)\n",
    "print(\"Suma total de valores nulos y no nulos:\", total_null_values + total_not_null_values)"
   ]
  },
  {
   "cell_type": "markdown",
   "metadata": {
    "id": "U_uhOT_Vc10L"
   },
   "source": [
    "Discard the last column\n"
   ]
  },
  {
   "cell_type": "code",
   "execution_count": 127,
   "metadata": {
    "id": "_fLEpBCSc10M"
   },
   "outputs": [
    {
     "data": {
      "text/html": [
       "<div>\n",
       "<style scoped>\n",
       "    .dataframe tbody tr th:only-of-type {\n",
       "        vertical-align: middle;\n",
       "    }\n",
       "\n",
       "    .dataframe tbody tr th {\n",
       "        vertical-align: top;\n",
       "    }\n",
       "\n",
       "    .dataframe thead th {\n",
       "        text-align: right;\n",
       "    }\n",
       "</style>\n",
       "<table border=\"1\" class=\"dataframe\">\n",
       "  <thead>\n",
       "    <tr style=\"text-align: right;\">\n",
       "      <th></th>\n",
       "      <th>Unnamed: 0</th>\n",
       "      <th>x1</th>\n",
       "      <th>x2</th>\n",
       "      <th>x3</th>\n",
       "    </tr>\n",
       "  </thead>\n",
       "  <tbody>\n",
       "    <tr>\n",
       "      <th>0</th>\n",
       "      <td>0</td>\n",
       "      <td>9.269424</td>\n",
       "      <td>-7.292993</td>\n",
       "      <td>0.693138</td>\n",
       "    </tr>\n",
       "    <tr>\n",
       "      <th>1</th>\n",
       "      <td>1</td>\n",
       "      <td>8.380238</td>\n",
       "      <td>-4.731907</td>\n",
       "      <td>0.474073</td>\n",
       "    </tr>\n",
       "    <tr>\n",
       "      <th>2</th>\n",
       "      <td>2</td>\n",
       "      <td>-2.363124</td>\n",
       "      <td>-0.816135</td>\n",
       "      <td>1.810237</td>\n",
       "    </tr>\n",
       "    <tr>\n",
       "      <th>3</th>\n",
       "      <td>3</td>\n",
       "      <td>-0.731134</td>\n",
       "      <td>-8.044954</td>\n",
       "      <td>0.716287</td>\n",
       "    </tr>\n",
       "    <tr>\n",
       "      <th>4</th>\n",
       "      <td>4</td>\n",
       "      <td>4.506465</td>\n",
       "      <td>-8.083561</td>\n",
       "      <td>-3.464818</td>\n",
       "    </tr>\n",
       "    <tr>\n",
       "      <th>...</th>\n",
       "      <td>...</td>\n",
       "      <td>...</td>\n",
       "      <td>...</td>\n",
       "      <td>...</td>\n",
       "    </tr>\n",
       "    <tr>\n",
       "      <th>306</th>\n",
       "      <td>306</td>\n",
       "      <td>8.325689</td>\n",
       "      <td>-6.296992</td>\n",
       "      <td>8.155659</td>\n",
       "    </tr>\n",
       "    <tr>\n",
       "      <th>307</th>\n",
       "      <td>307</td>\n",
       "      <td>4.027418</td>\n",
       "      <td>-8.089747</td>\n",
       "      <td>0.791697</td>\n",
       "    </tr>\n",
       "    <tr>\n",
       "      <th>308</th>\n",
       "      <td>308</td>\n",
       "      <td>-7.662740</td>\n",
       "      <td>2.699656</td>\n",
       "      <td>-0.079570</td>\n",
       "    </tr>\n",
       "    <tr>\n",
       "      <th>309</th>\n",
       "      <td>309</td>\n",
       "      <td>-2.161929</td>\n",
       "      <td>1.207442</td>\n",
       "      <td>1.098179</td>\n",
       "    </tr>\n",
       "    <tr>\n",
       "      <th>310</th>\n",
       "      <td>310</td>\n",
       "      <td>3.909994</td>\n",
       "      <td>-7.987667</td>\n",
       "      <td>0.270988</td>\n",
       "    </tr>\n",
       "  </tbody>\n",
       "</table>\n",
       "<p>311 rows × 4 columns</p>\n",
       "</div>"
      ],
      "text/plain": [
       "     Unnamed: 0        x1        x2        x3\n",
       "0             0  9.269424 -7.292993  0.693138\n",
       "1             1  8.380238 -4.731907  0.474073\n",
       "2             2 -2.363124 -0.816135  1.810237\n",
       "3             3 -0.731134 -8.044954  0.716287\n",
       "4             4  4.506465 -8.083561 -3.464818\n",
       "..          ...       ...       ...       ...\n",
       "306         306  8.325689 -6.296992  8.155659\n",
       "307         307  4.027418 -8.089747  0.791697\n",
       "308         308 -7.662740  2.699656 -0.079570\n",
       "309         309 -2.161929  1.207442  1.098179\n",
       "310         310  3.909994 -7.987667  0.270988\n",
       "\n",
       "[311 rows x 4 columns]"
      ]
     },
     "execution_count": 127,
     "metadata": {},
     "output_type": "execute_result"
    }
   ],
   "source": [
    "# Descartar la última columna\n",
    "df_without_lc = df.drop(columns=['x4'])\n",
    "\n",
    "# Imprimir el DataFrame resultante\n",
    "df_without_lc"
   ]
  },
  {
   "cell_type": "markdown",
   "metadata": {
    "id": "3kUbCFT7c10M"
   },
   "source": [
    "### Questions\n",
    "\n",
    "Based on the previos results, provide a description of yout dataset\n",
    "\n",
    "Your response:\n",
    "\n",
    "\n"
   ]
  },
  {
   "cell_type": "markdown",
   "metadata": {},
   "source": [
    "El conjunto de datos parece tener un total de 311 filas y 4 columnas. Las columnas están etiquetadas como x1, x2, x3 y x4. La columna x4 ha sido descartada en los análisis posteriores.\n",
    "\n",
    "Algunas estadísticas descriptivas de las columnas antes de descartar x4 indican lo siguiente:\n",
    "\n",
    "- La columna x1 tiene una media de aproximadamente 2.98 y una desviación estándar de alrededor de 4.78. Los valores oscilan entre -9.20 y 13.43.\n",
    "- La columna x2 tiene una media de aproximadamente -4.73 y una desviación estándar de alrededor de 4.12. Los valores oscilan entre -11.08 y 7.27.\n",
    "- La columna x3 tiene una media de aproximadamente 2.48 y una desviación estándar de alrededor de 4.24. Los valores oscilan entre -5.16 y 12.72.\n",
    "\n",
    "El análisis anterior sugiere que el conjunto de datos podría estar relacionado con mediciones o características numéricas que varían en un rango amplio. Sin embargo, debido a la falta de información contextual adicional, como el origen o el propósito de los datos, es difícil proporcionar una descripción más específica. "
   ]
  },
  {
   "cell_type": "markdown",
   "metadata": {
    "id": "BrhTIgAuc10M"
   },
   "source": [
    "## A3 Data visualization"
   ]
  },
  {
   "cell_type": "markdown",
   "metadata": {
    "id": "Ducgjbdyc10M"
   },
   "source": [
    "Plot in the same figure the histogram of two variables\n",
    "\n"
   ]
  },
  {
   "cell_type": "code",
   "execution_count": 128,
   "metadata": {
    "id": "7A0rK-cKc10M"
   },
   "outputs": [
    {
     "data": {
      "image/png": "[encoded data removed]",
      "text/plain": [
       "<Figure size 640x480 with 1 Axes>"
      ]
     },
     "metadata": {},
     "output_type": "display_data"
    }
   ],
   "source": [
    "# Plot histogram of both x1 and x2: Displays histograms for both x1 and x2 values.\n",
    "df2plot = df[[\"x1\", \"x2\"]]\n",
    "sns.histplot(df2plot, kde=False, color='lightblue')\n",
    "plt.show()\n"
   ]
  },
  {
   "cell_type": "markdown",
   "metadata": {
    "id": "VLX6LS0sc10M"
   },
   "source": [
    "Based on these plots, provide a description of your data:\n",
    "\n",
    "Your response here:"
   ]
  },
  {
   "cell_type": "markdown",
   "metadata": {},
   "source": [
    "Distribución de la Variable x1: El histograma de la variable x1 parece mostrar una distribución más o menos simétrica, centrada alrededor de cierto valor central. Parece haber una cantidad significativa de valores en el rango medio, con una disminución gradual en la frecuencia a medida que nos movemos hacia los extremos. Esto sugiere que los valores de x1 están relativamente bien distribuidos. Sin embargo, parece haber una inclinación en la frecuencia de los valores en la derecha mayor al lado izquierdo.\n",
    "\n",
    "Distribución de la Variable x2: El histograma de la variable x2 parece mostrar una distribución sesgada hacia la izquierda, donde la mayoría de los valores se encuentran en el extremo izquierdo del histograma y hay relativamente pocos valores en el extremo derecho. Esto sugiere que los valores de x2 están más concentrados en valores negativos, con algunos valores extremadamente bajos."
   ]
  },
  {
   "cell_type": "markdown",
   "metadata": {
    "id": "0Mc8oYehc10T"
   },
   "source": [
    "Plot in the same figure the boxplot of two variables"
   ]
  },
  {
   "cell_type": "code",
   "execution_count": 129,
   "metadata": {
    "id": "9O82DjeEc10T"
   },
   "outputs": [
    {
     "data": {
      "image/png": "[encoded data removed]",
      "text/plain": [
       "<Figure size 640x480 with 1 Axes>"
      ]
     },
     "metadata": {},
     "output_type": "display_data"
    }
   ],
   "source": [
    "# Definiendo los datos x1 y x2 que vamos a trazar\n",
    "df2plot = df[['x1', 'x2']]\n",
    "\n",
    "# Trazar el boxplot utilizando Seaborn\n",
    "sns.boxplot(data=df2plot)\n",
    "plt.title('Boxplot of Variables x1 and x2')\n",
    "plt.xlabel('Variables')\n",
    "plt.ylabel('Values')\n",
    "plt.show()"
   ]
  },
  {
   "cell_type": "markdown",
   "metadata": {
    "id": "njAfrbKXc10T"
   },
   "source": [
    "Plot the scatter plot of two variables"
   ]
  },
  {
   "cell_type": "code",
   "execution_count": 130,
   "metadata": {
    "id": "QKkZLPrnc10T"
   },
   "outputs": [
    {
     "data": {
      "image/png": "[encoded data removed]",
      "text/plain": [
       "<Figure size 640x480 with 1 Axes>"
      ]
     },
     "metadata": {},
     "output_type": "display_data"
    }
   ],
   "source": [
    "# Crea el gráfico de dispersión\n",
    "sns.scatterplot(data=df, x=\"x1\", y=\"x2\", s=80, alpha=0.75)\n",
    "\n",
    "# Agrega etiquetas y título\n",
    "plt.xlabel('Variable 1')\n",
    "plt.ylabel('Variable 2')\n",
    "plt.title('Scatter Plot of Variables 1 and 2')\n",
    "\n",
    "# Muestra el gráfico\n",
    "plt.grid(True)  # Agrega cuadrícula al gráfico\n",
    "plt.show()"
   ]
  },
  {
   "cell_type": "markdown",
   "metadata": {
    "id": "hhQgpr56c10U"
   },
   "source": [
    "### Questions\n",
    "\n",
    "Based on the previos plots, provide a description of yout dataset\n",
    "\n",
    "Your response:\n",
    "\n",
    "\n"
   ]
  },
  {
   "cell_type": "markdown",
   "metadata": {},
   "source": [
    "- boxplot\n",
    "\n",
    "El boxplot de la variable x1 muestra una distribución más simétrica con algunos valores atípicos en el extremo superior.\n",
    "El boxplot de la variable x2 muestra una distribución más sesgada hacia valores más bajos, con varios valores atípicos en el extremo inferior.\n",
    "La mediana de x1 parece estar más cerca del centro de la distribución en comparación con la mediana de x2, que está más desplazada hacia valores más bajos.\n",
    "\n",
    "- scatterplot\n",
    "\n",
    "El gráfico de dispersión muestra la relación entre las variables x1 y x2. Cada punto en el gráfico representa una observación en el conjunto de datos, donde el eje x corresponde a los valores de la variable x1 y el eje y corresponde a los valores de la variable x2.\n",
    "A partir del gráfico de dispersión, parece haber una ligera tendencia positiva entre las variables x1 y x2, lo que sugiere que a medida que los valores de x1 disminuyen, también tienden a disminuir los valores de x2. Sin embargo, la relación no parece ser perfectamente lineal, y hay cierta dispersión alrededor de la tendencia general.\n",
    "También se observa una concentración de puntos en la parte inferior derecha del gráfico, lo que indica una densidad relativamente alta de observaciones con valores bajos tanto de x1 como de x2.\n",
    "\n",
    "\n",
    "\n",
    "\n",
    "\n",
    "\n",
    "\n"
   ]
  },
  {
   "cell_type": "markdown",
   "metadata": {
    "id": "8AsjzPTKc10U"
   },
   "source": [
    "## A4 Kmeans"
   ]
  },
  {
   "cell_type": "code",
   "execution_count": 131,
   "metadata": {},
   "outputs": [],
   "source": [
    "# Dataset url\n",
    "url = Ruta + \"dataset/A01641886_X.csv\"\n",
    "\n",
    "# Load the dataset\n",
    "df  = pd.read_csv(url)"
   ]
  },
  {
   "cell_type": "markdown",
   "metadata": {},
   "source": [
    "Do Kmeans clustering assuming a number of clusters accorging to your scatter plot"
   ]
  },
  {
   "cell_type": "code",
   "execution_count": 144,
   "metadata": {},
   "outputs": [
    {
     "data": {
      "text/plain": [
       "array([0, 0, 1, 0, 0, 0, 0, 0, 1, 0, 0, 1, 0, 0, 1, 0, 0, 1, 0, 0, 1, 0,\n",
       "       1, 1, 0, 0, 0, 0, 0, 0, 0, 0, 0, 0, 1, 0, 0, 0, 1, 0, 0, 0, 0, 1,\n",
       "       0, 0, 0, 0, 1, 0, 1, 0, 0, 0, 1, 0, 0, 0, 0, 0, 0, 1, 0, 0, 0, 0,\n",
       "       0, 1, 0, 1, 0, 0, 0, 0, 1, 0, 0, 0, 0, 0, 1, 0, 0, 1, 0, 0, 1, 0,\n",
       "       0, 0, 0, 1, 0, 0, 0, 1, 0, 1, 0, 0, 0, 0, 0, 1, 0, 0, 0, 1, 0, 0,\n",
       "       1, 0, 0, 0, 0, 0, 0, 1, 1, 0, 0, 0, 1, 1, 1, 0, 0, 0, 0, 0, 0, 1,\n",
       "       0, 0, 0, 0, 0, 0, 0, 0, 0, 1, 0, 0, 0, 0, 0, 0, 1, 0, 1, 0, 0, 0,\n",
       "       0, 0, 0, 0, 0, 0, 0, 0, 0, 0, 0, 0, 0, 0, 0, 0, 0, 0, 0, 0, 1, 0,\n",
       "       1, 0, 1, 0, 1, 1, 1, 0, 0, 1, 0, 0, 0, 1, 0, 1, 0, 0, 1, 1, 0, 0,\n",
       "       1, 1, 0, 0, 1, 1, 0, 0, 0, 1, 0, 0, 0, 0, 0, 0, 1, 0, 1, 0, 0, 0,\n",
       "       0, 1, 1, 0, 0, 0, 0, 0, 0, 0, 0, 1, 0, 0, 0, 0, 0, 0, 0, 0, 0, 0,\n",
       "       0, 0, 0, 1, 0, 0, 1, 0, 0, 0, 0, 0, 0, 0, 0, 0, 1, 1, 0, 0, 1, 0,\n",
       "       1, 1, 1, 1, 0, 0, 0, 1, 0, 1, 0, 1, 0, 1, 1, 1, 0, 0, 0, 0, 0, 0,\n",
       "       1, 1, 0, 0, 0, 0, 0, 1, 0, 0, 1, 0, 0, 0, 0, 0, 0, 0, 0, 0, 0, 0,\n",
       "       1, 1, 0])"
      ]
     },
     "execution_count": 144,
     "metadata": {},
     "output_type": "execute_result"
    }
   ],
   "source": [
    "# Import sklearn KMeans\n",
    "from sklearn.cluster import KMeans\n",
    "\n",
    "# Define number of clusters\n",
    "K  = 2 # Let's assume there are 2 clusters/groups\n",
    "\n",
    "# Create/Initialize the Kmeans box/object\n",
    "km = KMeans(n_clusters=K, n_init=\"auto\")\n",
    "\n",
    "# Do K-means clustering (assing each point in the dataset to a cluster)\n",
    "variable_predict = km.fit_predict(df[['x1', 'x2']])\n",
    "\n",
    "# Print estimated cluster of each point in the dataset\n",
    "variable_predict"
   ]
  },
  {
   "cell_type": "markdown",
   "metadata": {
    "id": "HarT37iNc10U"
   },
   "source": [
    "Add to your dataset a column with the estimated cluster to each data point"
   ]
  },
  {
   "cell_type": "code",
   "execution_count": 145,
   "metadata": {
    "id": "IM3pIwcxc10U"
   },
   "outputs": [
    {
     "data": {
      "text/html": [
       "<div>\n",
       "<style scoped>\n",
       "    .dataframe tbody tr th:only-of-type {\n",
       "        vertical-align: middle;\n",
       "    }\n",
       "\n",
       "    .dataframe tbody tr th {\n",
       "        vertical-align: top;\n",
       "    }\n",
       "\n",
       "    .dataframe thead th {\n",
       "        text-align: right;\n",
       "    }\n",
       "</style>\n",
       "<table border=\"1\" class=\"dataframe\">\n",
       "  <thead>\n",
       "    <tr style=\"text-align: right;\">\n",
       "      <th></th>\n",
       "      <th>Unnamed: 0</th>\n",
       "      <th>x1</th>\n",
       "      <th>x2</th>\n",
       "      <th>x3</th>\n",
       "      <th>x4</th>\n",
       "      <th>Cluster</th>\n",
       "    </tr>\n",
       "  </thead>\n",
       "  <tbody>\n",
       "    <tr>\n",
       "      <th>0</th>\n",
       "      <td>0</td>\n",
       "      <td>9.269424</td>\n",
       "      <td>-7.292993</td>\n",
       "      <td>0.693138</td>\n",
       "      <td>5.019241</td>\n",
       "      <td>0</td>\n",
       "    </tr>\n",
       "    <tr>\n",
       "      <th>1</th>\n",
       "      <td>1</td>\n",
       "      <td>8.380238</td>\n",
       "      <td>-4.731907</td>\n",
       "      <td>0.474073</td>\n",
       "      <td>3.731614</td>\n",
       "      <td>0</td>\n",
       "    </tr>\n",
       "    <tr>\n",
       "      <th>2</th>\n",
       "      <td>2</td>\n",
       "      <td>-2.363124</td>\n",
       "      <td>-0.816135</td>\n",
       "      <td>1.810237</td>\n",
       "      <td>1.267835</td>\n",
       "      <td>1</td>\n",
       "    </tr>\n",
       "    <tr>\n",
       "      <th>3</th>\n",
       "      <td>3</td>\n",
       "      <td>-0.731134</td>\n",
       "      <td>-8.044954</td>\n",
       "      <td>0.716287</td>\n",
       "      <td>-4.538082</td>\n",
       "      <td>0</td>\n",
       "    </tr>\n",
       "    <tr>\n",
       "      <th>4</th>\n",
       "      <td>4</td>\n",
       "      <td>4.506465</td>\n",
       "      <td>-8.083561</td>\n",
       "      <td>-3.464818</td>\n",
       "      <td>-6.960667</td>\n",
       "      <td>0</td>\n",
       "    </tr>\n",
       "    <tr>\n",
       "      <th>...</th>\n",
       "      <td>...</td>\n",
       "      <td>...</td>\n",
       "      <td>...</td>\n",
       "      <td>...</td>\n",
       "      <td>...</td>\n",
       "      <td>...</td>\n",
       "    </tr>\n",
       "    <tr>\n",
       "      <th>306</th>\n",
       "      <td>306</td>\n",
       "      <td>8.325689</td>\n",
       "      <td>-6.296992</td>\n",
       "      <td>8.155659</td>\n",
       "      <td>-2.049525</td>\n",
       "      <td>0</td>\n",
       "    </tr>\n",
       "    <tr>\n",
       "      <th>307</th>\n",
       "      <td>307</td>\n",
       "      <td>4.027418</td>\n",
       "      <td>-8.089747</td>\n",
       "      <td>0.791697</td>\n",
       "      <td>8.264215</td>\n",
       "      <td>0</td>\n",
       "    </tr>\n",
       "    <tr>\n",
       "      <th>308</th>\n",
       "      <td>308</td>\n",
       "      <td>-7.662740</td>\n",
       "      <td>2.699656</td>\n",
       "      <td>-0.079570</td>\n",
       "      <td>3.930626</td>\n",
       "      <td>1</td>\n",
       "    </tr>\n",
       "    <tr>\n",
       "      <th>309</th>\n",
       "      <td>309</td>\n",
       "      <td>-2.161929</td>\n",
       "      <td>1.207442</td>\n",
       "      <td>1.098179</td>\n",
       "      <td>1.511654</td>\n",
       "      <td>1</td>\n",
       "    </tr>\n",
       "    <tr>\n",
       "      <th>310</th>\n",
       "      <td>310</td>\n",
       "      <td>3.909994</td>\n",
       "      <td>-7.987667</td>\n",
       "      <td>0.270988</td>\n",
       "      <td>4.994286</td>\n",
       "      <td>0</td>\n",
       "    </tr>\n",
       "  </tbody>\n",
       "</table>\n",
       "<p>311 rows × 6 columns</p>\n",
       "</div>"
      ],
      "text/plain": [
       "     Unnamed: 0        x1        x2        x3        x4  Cluster\n",
       "0             0  9.269424 -7.292993  0.693138  5.019241        0\n",
       "1             1  8.380238 -4.731907  0.474073  3.731614        0\n",
       "2             2 -2.363124 -0.816135  1.810237  1.267835        1\n",
       "3             3 -0.731134 -8.044954  0.716287 -4.538082        0\n",
       "4             4  4.506465 -8.083561 -3.464818 -6.960667        0\n",
       "..          ...       ...       ...       ...       ...      ...\n",
       "306         306  8.325689 -6.296992  8.155659 -2.049525        0\n",
       "307         307  4.027418 -8.089747  0.791697  8.264215        0\n",
       "308         308 -7.662740  2.699656 -0.079570  3.930626        1\n",
       "309         309 -2.161929  1.207442  1.098179  1.511654        1\n",
       "310         310  3.909994 -7.987667  0.270988  4.994286        0\n",
       "\n",
       "[311 rows x 6 columns]"
      ]
     },
     "execution_count": 145,
     "metadata": {},
     "output_type": "execute_result"
    }
   ],
   "source": [
    "# Agregar las etiquetas de cluster al DataFrame original\n",
    "df['Cluster'] = variable_predict\n",
    "\n",
    "# Mostrar el DataFrame con la columna de cluster añadida\n",
    "df"
   ]
  },
  {
   "cell_type": "markdown",
   "metadata": {
    "id": "2YXXQtDdc10U"
   },
   "source": [
    "Print the number associated to each cluster"
   ]
  },
  {
   "cell_type": "code",
   "execution_count": 146,
   "metadata": {
    "id": "BBEJysUZc10U"
   },
   "outputs": [
    {
     "name": "stdout",
     "output_type": "stream",
     "text": [
      "[0 1]\n",
      "Cluster\n",
      "0    233\n",
      "1     78\n",
      "Name: count, dtype: int64\n"
     ]
    }
   ],
   "source": [
    "# Imprimir las etiquetas de los cluster existentes\n",
    "print(df.Cluster.unique())\n",
    "\n",
    "# Imprimir el número asociado a cada cluster y la cantidad de puntos asignados a cada uno\n",
    "cluster_counts = df['Cluster'].value_counts()\n",
    "print(cluster_counts)\n"
   ]
  },
  {
   "cell_type": "markdown",
   "metadata": {
    "id": "l0TFxLcAc10V"
   },
   "source": [
    "Print the centroids"
   ]
  },
  {
   "cell_type": "code",
   "execution_count": 147,
   "metadata": {
    "id": "sGdo8TT9c10V"
   },
   "outputs": [
    {
     "data": {
      "text/plain": [
       "array([[ 5.14126861, -6.82724072],\n",
       "       [-3.46904308,  1.54940887]])"
      ]
     },
     "execution_count": 147,
     "metadata": {},
     "output_type": "execute_result"
    }
   ],
   "source": [
    "# Cluster centroides\n",
    "km.cluster_centers_\n"
   ]
  },
  {
   "cell_type": "markdown",
   "metadata": {
    "id": "8Ul5wSO7c10V"
   },
   "source": [
    "Print the intertia metric"
   ]
  },
  {
   "cell_type": "code",
   "execution_count": 148,
   "metadata": {
    "id": "Yq5A_5RTc10V"
   },
   "outputs": [
    {
     "data": {
      "text/plain": [
       "3897.9559864709895"
      ]
     },
     "execution_count": 148,
     "metadata": {},
     "output_type": "execute_result"
    }
   ],
   "source": [
    "# Sum of squared error (sse) of the final model\n",
    "km.inertia_"
   ]
  },
  {
   "cell_type": "markdown",
   "metadata": {
    "id": "0_GmI4nHc10V"
   },
   "source": [
    "Plot a scatter plot of your data using different color for each cluster. Also plot the centroids"
   ]
  },
  {
   "cell_type": "code",
   "execution_count": 150,
   "metadata": {
    "id": "pR-dRE80c10V"
   },
   "outputs": [
    {
     "data": {
      "image/png": "[encoded data removed]",
      "text/plain": [
       "<Figure size 640x480 with 1 Axes>"
      ]
     },
     "metadata": {},
     "output_type": "display_data"
    }
   ],
   "source": [
    "# Get a dataframe with the data of each clsuter\n",
    "df1 = df[df.Cluster==0]\n",
    "df2 = df[df.Cluster==1]\n",
    "\n",
    "# Scatter plot of each cluster\n",
    "plt.scatter(df1.x1, df1.x2, label='Cluster 0', c='r', marker='o', s=32, alpha=0.3)\n",
    "plt.scatter(df2.x1, df2.x2, label='Cluster 1', c='g', marker='o', s=32, alpha=0.3)\n",
    "\n",
    "# Plot centrodides\n",
    "plt.scatter(km.cluster_centers_[:,0], km.cluster_centers_[:,1], color='black', marker='*', label='Centroides', s=256)\n",
    "\n",
    "plt.title('Scatter plot (for each cluster)')\n",
    "plt.xlabel('x1')\n",
    "plt.ylabel('x2')\n",
    "plt.legend()\n",
    "plt.show()"
   ]
  },
  {
   "cell_type": "markdown",
   "metadata": {
    "id": "rga2TFKSc10V"
   },
   "source": [
    "### Questions\n",
    "\n",
    "Provides a detailed description of your results\n",
    "\n",
    "Your response:"
   ]
  },
  {
   "cell_type": "markdown",
   "metadata": {},
   "source": [
    "Los resultados del análisis de clustering revelan la presencia de dos clústeres distintos en el conjunto de datos. El gráfico de dispersión por clúster muestra una clara separación entre los dos grupos, representados en rojo y verde respectivamente. Además, la ubicación de los centroides de cada clúster indica la tendencia central de los datos dentro de cada grupo, lo que proporciona una idea sobre la distribución espacial de las observaciones. Esta separación sugiere la existencia de dos grupos significativos dentro del conjunto de datos, con características distintivas que los diferencian entre sí.\n",
    "\n",
    "Al examinar el número de puntos asignados a cada clúster, observamos que el clúster 0 contiene una cantidad considerablemente mayor de puntos en comparación con el clúster 1. Esta disparidad en el tamaño de los clústeres indica una diferencia en la densidad de datos entre los grupos, lo que puede reflejar diferencias significativas en las propiedades de los puntos de datos dentro de cada clúster. Además, la inercia del modelo de K-Means proporciona una medida de la cohesión de los clústeres, indicando cuánto varían los puntos de datos dentro de cada grupo. En este caso, una inercia moderadamente alta sugiere una dispersión significativa de los datos dentro de los clústeres, lo que puede ser útil al evaluar la idoneidad del modelo de clustering.\n",
    "\n"
   ]
  },
  {
   "cell_type": "markdown",
   "metadata": {
    "id": "rq-0bfKIc10W"
   },
   "source": [
    "## A5 Elbow plot\n",
    "\n",
    "Compute the Elbow plot"
   ]
  },
  {
   "cell_type": "code",
   "execution_count": 151,
   "metadata": {
    "id": "AdTPzEsSc10W"
   },
   "outputs": [],
   "source": [
    "# Intialize a list to hold sum of squared error (sse)\n",
    "sse = []\n",
    "\n",
    "# Define values of k\n",
    "k_rng = range(1,10)\n",
    "\n",
    "# For each k\n",
    "for k in k_rng:\n",
    "    # Create model\n",
    "    km = KMeans(n_clusters=k, n_init=\"auto\")\n",
    "    # Do K-means clustering\n",
    "    km.fit_predict(df[['x1','x2']])\n",
    "    # Save sse for each k\n",
    "    sse.append(km.inertia_)"
   ]
  },
  {
   "cell_type": "code",
   "execution_count": 152,
   "metadata": {
    "id": "fuuNlWsyc10W"
   },
   "outputs": [
    {
     "data": {
      "image/png": "[encoded data removed]",
      "text/plain": [
       "<Figure size 640x480 with 1 Axes>"
      ]
     },
     "metadata": {},
     "output_type": "display_data"
    }
   ],
   "source": [
    "# Plot sse versus k\n",
    "plt.plot(k_rng,sse, 'o-', markersize=8)\n",
    "\n",
    "plt.title('Elbow plot')\n",
    "plt.xlabel('K')\n",
    "plt.ylabel('Sum of squared error')\n",
    "plt.show()"
   ]
  },
  {
   "cell_type": "markdown",
   "metadata": {
    "id": "0deiIrT-c10W"
   },
   "source": [
    "### Questions\n",
    "\n",
    "What is the best number of clusters K? (argue your response)\n",
    "\n",
    "Your response:\n",
    "\n",
    "\n",
    "Does this number of clusters agree with your inital guess? (argue your response, no problem at all if they do not agree)\n",
    "\n",
    "Your response:\n",
    "\n"
   ]
  },
  {
   "cell_type": "markdown",
   "metadata": {},
   "source": [
    "El elbow plot muestra una disminución significativa en la inercia del modelo hasta el punto donde se agregan dos clústeres, seguido de una disminución más gradual después de ese punto. Esto sugiere que agregar dos clústeres adicionales proporciona una mejora sustancial en la cohesión intraclúster y en la separación interclúster. Por lo tanto, el mejor número de clústeres K sería 2, ya que corresponde al punto donde se observa el elbow en el gráfico y donde la disminución en la inercia deja de ser significativa.\n",
    "\n",
    "\n",
    "A pesar de la intuición inicial que sugirió la presencia de dos clusters distintos en el scatterplot, el análisis objetivo respalda esta observación al identificar dos como el número óptimo de clústeres. Esto destaca la importancia de utilizar métodos de evaluación objetivos, ya que pueden proporcionar una perspectiva más precisa de la estructura subyacente de los datos, independientemente de las suposiciones iniciales. Aunque las intuiciones iniciales pueden ser útiles, es esencial respaldarlas con métodos objetivos para garantizar la validez y la confiabilidad del análisis de clustering.\r\n",
    "\r\n",
    "\r\n",
    "\r\n",
    "\r\n",
    "\r\n",
    "\r\n"
   ]
  },
  {
   "cell_type": "markdown",
   "metadata": {
    "id": "qW1yhCYCc10Y"
   },
   "source": [
    "# PART 2\n",
    "# Descipcion de tu percepcion del nivel de desarrollo de la subcompetencia\n",
    "\n",
    "### SING0202A Interpretación de variables\n"
   ]
  },
  {
   "cell_type": "markdown",
   "metadata": {
    "id": "kJLR4iumc10Y"
   },
   "source": [
    "Escribe tu description del nivel de logro del siguiente criterio de la subcompetencia\n",
    "\n",
    "**Interpreta interacciones**. Interpreta interacciones entre variables relevantes en un problema, como base para la construcción de modelos bivariados basados en datos de un fenómeno investigado que le permita reproducir la respuesta del mismo."
   ]
  },
  {
   "cell_type": "markdown",
   "metadata": {
    "id": "aeAR4f53c10Y"
   },
   "source": [
    "Tu respuesta:"
   ]
  },
  {
   "cell_type": "markdown",
   "metadata": {},
   "source": [
    "A lo largo de la actividad, pude identificar y comprender las interacciones entre las variables del conjunto de datos, como se evidenció en el análisis del scatter plot y la determinación del número óptimo de clústeres mediante el método del codo. Además, fui capaz de reconocer las relaciones entre las variables y utilizar esta comprensión para tomar decisiones fundamentadas en la construcción de modelos bivariados. Este nivel de interpretación me permitió comprender mejor la estructura y la dinámica de los datos, sentando así una base sólida para el análisis y la modelización de fenómenos investigados. Por lo tanto, considero que he logrado conseguir un nivel avanzado a lo que respecta esta subcompetencia."
   ]
  },
  {
   "cell_type": "markdown",
   "metadata": {
    "id": "6edjQj1Dc10Y"
   },
   "source": [
    "Escribe tu description del nivel de logro del siguiente criterio de la subcompetencia\n",
    "\n",
    "**Construcción de modelos**. Es capaz de construir modelos bivariados que expliquen el comportamiento de un fenómeno."
   ]
  },
  {
   "cell_type": "markdown",
   "metadata": {
    "id": "thc32Ajkc10Y"
   },
   "source": [
    "Tu respuesta:"
   ]
  },
  {
   "cell_type": "markdown",
   "metadata": {
    "id": "7IzW1f9ac10Z"
   },
   "source": [
    "En cuanto a la construcción de modelos bivariados, considero que he alcanzado un nivel avanzado. A lo largo de la actividad, pude aplicar técnicas de clustering, como el algoritmo K-Means, para construir modelos que explicaran el comportamiento de un fenómeno basado en las variables disponibles en el conjunto de datos. Aunque hubo discrepancias entre las suposiciones iniciales y los resultados objetivos, fui capaz de ajustar mi enfoque y utilizar métodos de evaluación objetivos, como el elbow plot, para determinar el número óptimo de clústeres. Esta capacidad para construir modelos bivariados me permitió comprender y representar adecuadamente la estructura de los datos, facilitando así la identificación de patrones y relaciones relevantes en el fenómeno investigado.\n",
    "\n",
    "\n",
    "\n",
    "\n",
    "\n",
    "\n"
   ]
  }
 ],
 "metadata": {
  "colab": {
   "provenance": []
  },
  "kernelspec": {
   "display_name": "Python 3 (ipykernel)",
   "language": "python",
   "name": "python3"
  },
  "language_info": {
   "codemirror_mode": {
    "name": "ipython",
    "version": 3
   },
   "file_extension": ".py",
   "mimetype": "text/x-python",
   "name": "python",
   "nbconvert_exporter": "python",
   "pygments_lexer": "ipython3",
   "version": "3.11.5"
  }
 },
 "nbformat": 4,
 "nbformat_minor": 4
}
