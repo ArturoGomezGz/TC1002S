{
 "cells": [
  {
   "cell_type": "markdown",
   "metadata": {
    "id": "qZBw9J8nu38J"
   },
   "source": [
    "# K-means clustering: intuitive explanation\n",
    "\n",
    "The notebook provides an intuitive description and explanation of the k-means clustering technique. A synthetic dataset will be used to identify clusters manually.\n",
    "\n",
    "\n",
    "## Acknowledgments\n",
    "\n",
    "- Inquiries: mauricio.antelis@tec.mx\n"
   ]
  },
  {
   "cell_type": "markdown",
   "metadata": {
    "id": "_xfTKPilu38P"
   },
   "source": [
    "# Importing libraries"
   ]
  },
  {
   "cell_type": "code",
   "execution_count": 79,
   "metadata": {
    "id": "5U3pnpMgu38Q"
   },
   "outputs": [],
   "source": [
    "# Import the packages that we will be using\n",
    "import numpy as np                  # For arrays, matrices, and functions to operate on them\n",
    "import pandas as pd                 # For data handling\n",
    "import seaborn as sns               # For advanced plotting\n",
    "import matplotlib.pyplot as plt     # For showing plots\n"
   ]
  },
  {
   "cell_type": "code",
   "execution_count": 80,
   "metadata": {},
   "outputs": [
    {
     "data": {
      "text/plain": [
       "'2.2.1'"
      ]
     },
     "execution_count": 80,
     "metadata": {},
     "output_type": "execute_result"
    }
   ],
   "source": [
    "pd. __version__"
   ]
  },
  {
   "cell_type": "markdown",
   "metadata": {
    "id": "Os62nKH5u38S"
   },
   "source": [
    "# Importing data"
   ]
  },
  {
   "cell_type": "code",
   "execution_count": 81,
   "metadata": {
    "id": "kBqy8j4bu38S"
   },
   "outputs": [],
   "source": [
    "# Create synthetic data that consists of 5 points and 2 variables\n",
    "d = {'x1': [2, 4, 2, 6, 6],\n",
    "     'x2': [2, 3, 4, 6, 5]}\n",
    "\n",
    "# Construct the dataframe\n",
    "df = pd.DataFrame(data=d)\n"
   ]
  },
  {
   "cell_type": "markdown",
   "metadata": {
    "id": "zaJaAKPOu38T"
   },
   "source": [
    "# Undertanding and preprocessing the data\n",
    "\n",
    "1. Get a general 'feel' of the data\n"
   ]
  },
  {
   "cell_type": "code",
   "execution_count": 8,
   "metadata": {
    "id": "CAr24LnKu38U"
   },
   "outputs": [
    {
     "data": {
      "text/html": [
       "<div>\n",
       "<style scoped>\n",
       "    .dataframe tbody tr th:only-of-type {\n",
       "        vertical-align: middle;\n",
       "    }\n",
       "\n",
       "    .dataframe tbody tr th {\n",
       "        vertical-align: top;\n",
       "    }\n",
       "\n",
       "    .dataframe thead th {\n",
       "        text-align: right;\n",
       "    }\n",
       "</style>\n",
       "<table border=\"1\" class=\"dataframe\">\n",
       "  <thead>\n",
       "    <tr style=\"text-align: right;\">\n",
       "      <th></th>\n",
       "      <th>x1</th>\n",
       "      <th>x2</th>\n",
       "    </tr>\n",
       "  </thead>\n",
       "  <tbody>\n",
       "    <tr>\n",
       "      <th>0</th>\n",
       "      <td>2</td>\n",
       "      <td>2</td>\n",
       "    </tr>\n",
       "    <tr>\n",
       "      <th>1</th>\n",
       "      <td>4</td>\n",
       "      <td>3</td>\n",
       "    </tr>\n",
       "    <tr>\n",
       "      <th>2</th>\n",
       "      <td>2</td>\n",
       "      <td>4</td>\n",
       "    </tr>\n",
       "    <tr>\n",
       "      <th>3</th>\n",
       "      <td>6</td>\n",
       "      <td>6</td>\n",
       "    </tr>\n",
       "    <tr>\n",
       "      <th>4</th>\n",
       "      <td>6</td>\n",
       "      <td>5</td>\n",
       "    </tr>\n",
       "  </tbody>\n",
       "</table>\n",
       "</div>"
      ],
      "text/plain": [
       "   x1  x2\n",
       "0   2   2\n",
       "1   4   3\n",
       "2   2   4\n",
       "3   6   6\n",
       "4   6   5"
      ]
     },
     "execution_count": 8,
     "metadata": {},
     "output_type": "execute_result"
    }
   ],
   "source": [
    "# Print the dataset\n",
    "df"
   ]
  },
  {
   "cell_type": "markdown",
   "metadata": {
    "id": "xLzFNupuu38V"
   },
   "source": [
    "2. Scatter plot of the data"
   ]
  },
  {
   "cell_type": "code",
   "execution_count": 15,
   "metadata": {
    "id": "iehvuZ8Ku38V"
   },
   "outputs": [
    {
     "data": {
      "image/png": "[encoded data removed]",
      "text/plain": [
       "<Figure size 640x480 with 1 Axes>"
      ]
     },
     "metadata": {},
     "output_type": "display_data"
    }
   ],
   "source": [
    "# Plot scatter plot\n",
    "plt.scatter(df.x1,df.x2, s=80)\n",
    "plt.title('Data', fontsize=18)\n",
    "plt.xlabel('x1', fontsize=14)\n",
    "plt.ylabel('x2', fontsize=14)\n",
    "\n",
    "plt.xlim(1,7)\n",
    "plt.ylim(1,7)\n",
    "\n",
    "plt.show()"
   ]
  },
  {
   "cell_type": "markdown",
   "metadata": {
    "id": "v4PaEP3cu38W"
   },
   "source": [
    "Note that for this dataset we do not know in advance the cluster/group/class to which each point belongs to, and that is what we want to do: to identify the existing cluster/group/class, i.e., to assing each point to a cluster/group/class"
   ]
  },
  {
   "cell_type": "markdown",
   "metadata": {
    "id": "w7LTruOMu38W"
   },
   "source": [
    "3. Preprocessing the data\n",
    "\n",
    "No preprocessing is required"
   ]
  },
  {
   "cell_type": "markdown",
   "metadata": {
    "id": "emwP0fcwu38W"
   },
   "source": [
    "# Kmeans clustering\n",
    "\n",
    "Intuitive explanation"
   ]
  },
  {
   "cell_type": "markdown",
   "metadata": {
    "id": "LfjjjDkOu38X"
   },
   "source": [
    "### Initialize/Preliminaries"
   ]
  },
  {
   "cell_type": "code",
   "execution_count": 19,
   "metadata": {
    "id": "krGo-l8Xu38X"
   },
   "outputs": [
    {
     "name": "stdout",
     "output_type": "stream",
     "text": [
      "The numer of point is 5\n"
     ]
    }
   ],
   "source": [
    "# Compute the number of points in the dataset\n",
    "index = df.index\n",
    "Npoints = len(index)\n",
    "print(\"The numer of point is\", Npoints)"
   ]
  },
  {
   "cell_type": "markdown",
   "metadata": {
    "id": "UE3vtbAru38X"
   },
   "source": [
    "## 1: Specify the number of clusters\n",
    "\n",
    "Define the number $K$ of clusters"
   ]
  },
  {
   "cell_type": "code",
   "execution_count": 33,
   "metadata": {
    "id": "om39I4BWu38Y"
   },
   "outputs": [],
   "source": [
    "# Let's assume our data has two clusters (note that the rest of the code is for K=2)\n",
    "K  = 2"
   ]
  },
  {
   "cell_type": "markdown",
   "metadata": {
    "id": "2M_0pyhBu38Y"
   },
   "source": [
    "## 2: Initialize the centroids of the clusters\n",
    "\n",
    "Randomly initialize the centroids of the clusters $C_1, C_2, \\cdots, C_K$"
   ]
  },
  {
   "cell_type": "code",
   "execution_count": 22,
   "metadata": {
    "id": "OiAr1XNLu38Y"
   },
   "outputs": [
    {
     "name": "stdout",
     "output_type": "stream",
     "text": [
      "Centrode 1: [1.5 3. ]\n",
      "Centrode 2: [3. 3.]\n"
     ]
    }
   ],
   "source": [
    "# Let's initialize the centroids for the K=2 clusters (this has to be done randomly)\n",
    "\n",
    "# Let's do it manually\n",
    "C1new =  np.array([1.5, 3.0])\n",
    "C2new =  np.array([3.0, 3.0])\n",
    "\n",
    "# Print centroids\n",
    "print('Centroid 1:', C1new)\n",
    "print('Centroid 2:', C2new)\n"
   ]
  },
  {
   "cell_type": "code",
   "execution_count": null,
   "metadata": {},
   "outputs": [],
   "source": []
  },
  {
   "cell_type": "code",
   "execution_count": 44,
   "metadata": {
    "id": "sJPaef56u38Z"
   },
   "outputs": [
    {
     "data": {
      "image/png": "[encoded data removed]",
      "text/plain": [
       "<Figure size 640x480 with 1 Axes>"
      ]
     },
     "metadata": {},
     "output_type": "display_data"
    }
   ],
   "source": [
    "# Plot the points and the centroids\n",
    "plt.scatter(df.x1, df.x2, s=80)\n",
    "plt.scatter(C1new[0], C1new[1], color='r', marker='o', label='Centroid 1', s=512, alpha=0.8)\n",
    "plt.scatter(C2new[0], C2new[1], color='b', marker='o', label='Centroid 2', s=512, alpha=0.8)\n",
    "\n",
    "plt.title('Points and centroids', fontsize=18)\n",
    "plt.xlabel('x1', fontsize=14)\n",
    "plt.ylabel('x2', fontsize=14)\n",
    "\n",
    "plt.xlim(1,7)\n",
    "plt.ylim(1,7)\n",
    "\n",
    "plt.show()"
   ]
  },
  {
   "cell_type": "markdown",
   "metadata": {
    "id": "kH4eySblu38Z"
   },
   "source": [
    "## 3:  Repeat the following\n"
   ]
  },
  {
   "cell_type": "markdown",
   "metadata": {
    "id": "BhujQv1uu38a"
   },
   "source": [
    "Define the current centroids"
   ]
  },
  {
   "cell_type": "code",
   "execution_count": 66,
   "metadata": {
    "id": "aI4MDB4hu38a"
   },
   "outputs": [
    {
     "data": {
      "text/plain": [
       "array([2.66666667, 3.        ])"
      ]
     },
     "execution_count": 66,
     "metadata": {},
     "output_type": "execute_result"
    }
   ],
   "source": [
    "# Define centrode 1\n",
    "C1 = C1new.copy()\n",
    "C1\n"
   ]
  },
  {
   "cell_type": "code",
   "execution_count": 67,
   "metadata": {
    "id": "OzGpKqA6z35X"
   },
   "outputs": [
    {
     "data": {
      "text/plain": [
       "array([6. , 5.5])"
      ]
     },
     "execution_count": 67,
     "metadata": {},
     "output_type": "execute_result"
    }
   ],
   "source": [
    "# Define centrode 2\n",
    "C2 = C2new.copy()\n",
    "C2"
   ]
  },
  {
   "cell_type": "markdown",
   "metadata": {
    "id": "bJs6QPgnu38a"
   },
   "source": [
    "## 4: Assign each point  to its closest centroid\n",
    "\n",
    "Compute the distance of each data point to each centroid\n",
    "\n",
    "Assign each point to the centroid with the minimum Euclidean distance\n",
    "\n",
    "Euclidean distance:\n",
    "- Consider two points $x=(x_1,x_2)$ and  $y=(y_1,y_2)$.\n",
    "- The Euclidean distance between these two points is\n",
    "$ d = \\sqrt {\\left( {x_1 - x_2 } \\right)^2 + \\left( {y_1 - y_2 } \\right)^2 } $\n"
   ]
  },
  {
   "cell_type": "code",
   "execution_count": 68,
   "metadata": {
    "id": "Szz2ixUru38a"
   },
   "outputs": [
    {
     "name": "stdout",
     "output_type": "stream",
     "text": [
      "[[1.20185043 5.31507291]\n",
      " [1.33333333 3.20156212]\n",
      " [1.20185043 4.27200187]\n",
      " [4.48454135 0.5       ]\n",
      " [3.88730126 0.5       ]]\n"
     ]
    }
   ],
   "source": [
    "# Compute the distance of each data point to each centroid\n",
    "\n",
    "# Variable to save the distance of each point ot each centroid\n",
    "Dis2Centroids = np.zeros((Npoints,K))\n",
    "\n",
    "# Let's compute the distances manually\n",
    "ipoint, x1, x2 = 0, 2, 2 # See your dataset\n",
    "Dis2Centroids[ipoint, 0] = np.sqrt((x1-C1[0])**2 + (x2-C1[1])**2 )\n",
    "Dis2Centroids[ipoint, 1] = np.sqrt((x1-C2[0])**2 + (x2-C2[1])**2 )\n",
    "\n",
    "ipoint, x1, x2 = 1, 4, 3 # See your dataset\n",
    "Dis2Centroids[ipoint, 0] = np.sqrt((x1-C1[0])**2 + (x2-C1[1])**2 )\n",
    "Dis2Centroids[ipoint, 1] = np.sqrt((x1-C2[0])**2 + (x2-C2[1])**2 )\n",
    "\n",
    "ipoint, x1, x2 = 2, 2, 4 # See your dataset\n",
    "Dis2Centroids[ipoint, 0] = np.sqrt((x1-C1[0])**2 + (x2-C1[1])**2 )\n",
    "Dis2Centroids[ipoint, 1] = np.sqrt((x1-C2[0])**2 + (x2-C2[1])**2 )\n",
    "\n",
    "ipoint, x1, x2 = 3, 6, 6 # See your dataset\n",
    "Dis2Centroids[ipoint, 0] = np.sqrt((x1-C1[0])**2 + (x2-C1[1])**2 )\n",
    "Dis2Centroids[ipoint, 1] = np.sqrt((x1-C2[0])**2 + (x2-C2[1])**2 )\n",
    "\n",
    "ipoint, x1, x2 = 4, 6, 5 # See your dataset\n",
    "Dis2Centroids[ipoint, 0] = np.sqrt((x1-C1[0])**2 + (x2-C1[1])**2 )\n",
    "Dis2Centroids[ipoint, 1] = np.sqrt((x1-C2[0])**2 + (x2-C2[1])**2 )\n",
    "\n",
    "# Print results\n",
    "print(Dis2Centroids)\n"
   ]
  },
  {
   "cell_type": "code",
   "execution_count": 69,
   "metadata": {
    "id": "rjHNRUsKu38c"
   },
   "outputs": [
    {
     "name": "stdout",
     "output_type": "stream",
     "text": [
      "[1 1 1 2 2]\n"
     ]
    }
   ],
   "source": [
    "# Assign each point to the centroid with the minimum Euclidean distance\n",
    "\n",
    "# Let's do this manually\n",
    "#cluster = np.array([1,2,1,2,2])\n",
    "#cluster = np.array([1,1,1,2,2])\n",
    "cluster = np.array([1,1,1,2,2])\n",
    "\n",
    "# Print results\n",
    "print(cluster)\n"
   ]
  },
  {
   "cell_type": "code",
   "execution_count": 70,
   "metadata": {
    "id": "jH7ggAsDu38d"
   },
   "outputs": [
    {
     "data": {
      "image/png": "[encoded data removed]",
      "text/plain": [
       "<Figure size 640x480 with 1 Axes>"
      ]
     },
     "metadata": {},
     "output_type": "display_data"
    }
   ],
   "source": [
    "# Scatter plot of the data asigning each point to the cluster it belongs to ¡¡\n",
    "df1 = df[cluster==1] # Puntos del cluster 1\n",
    "df2 = df[cluster==2] # Puntos del cluster 2\n",
    "\n",
    "plt.scatter(df1.x1, df1.x2, s=80, color='r', marker='o', label='Cluster 1')\n",
    "plt.scatter(df2.x1, df2.x2, s=80, color='b', marker='s', label='Cluster 2')\n",
    "\n",
    "plt.scatter(C1[0], C1[1], color='r', marker='o', label='Centroid 1', s=512, alpha=0.2)\n",
    "plt.scatter(C2[0], C2[1], color='b', marker='s', label='Centroid 2', s=512, alpha=0.2)\n",
    "\n",
    "plt.title('Points and centroids', fontsize=18)\n",
    "plt.xlabel('x1', fontsize=14)\n",
    "plt.ylabel('x2', fontsize=14)\n",
    "\n",
    "plt.xlim(1,7)\n",
    "plt.ylim(1,7)\n",
    "\n",
    "plt.show()"
   ]
  },
  {
   "cell_type": "markdown",
   "metadata": {
    "id": "nbXFZsK6u38e"
   },
   "source": [
    "## 5: Compute the new centroid (mean) of each cluster\n",
    "\n",
    "Compute the new centroid of each cluster"
   ]
  },
  {
   "cell_type": "code",
   "execution_count": 71,
   "metadata": {
    "id": "BgqKzGK_u38e"
   },
   "outputs": [
    {
     "name": "stdout",
     "output_type": "stream",
     "text": [
      "   x1  x2\n",
      "0   2   2\n",
      "1   4   3\n",
      "2   2   4\n",
      "[2.66666667 3.        ]\n"
     ]
    }
   ],
   "source": [
    "# Let's compute the 1st Centroid\n",
    "print(df1)\n",
    "\n",
    "C1new[0] = df1.x1.mean()\n",
    "C1new[1] = df1.x2.mean()\n",
    "\n",
    "print(C1new)"
   ]
  },
  {
   "cell_type": "code",
   "execution_count": 72,
   "metadata": {
    "id": "BXM88zeru38e"
   },
   "outputs": [
    {
     "name": "stdout",
     "output_type": "stream",
     "text": [
      "   x1  x2\n",
      "3   6   6\n",
      "4   6   5\n",
      "[6.  5.5]\n"
     ]
    }
   ],
   "source": [
    "# Let's compute the 2nd Centroid\n",
    "print(df2)\n",
    "\n",
    "C2new[0] = df2.x1.mean()\n",
    "C2new[1] = df2.x2.mean()\n",
    "\n",
    "print(C2new)"
   ]
  },
  {
   "cell_type": "code",
   "execution_count": 73,
   "metadata": {
    "id": "VkmH30FXu38f"
   },
   "outputs": [
    {
     "data": {
      "image/png": "[encoded data removed]",
      "text/plain": [
       "<Figure size 640x480 with 1 Axes>"
      ]
     },
     "metadata": {},
     "output_type": "display_data"
    }
   ],
   "source": [
    "# Scatter plot of the data asigning each point to the cluster it belongs to ¡¡\n",
    "# Scatter plot of the data asigning each point to the cluster it belongs to ¡¡\n",
    "df1 = df[cluster==1] # Puntos del cluster 1\n",
    "df2 = df[cluster==2] # Puntos del cluster 2\n",
    "\n",
    "plt.scatter(df1.x1, df1.x2, s=80, color='r', marker='o', label='Cluster 1')\n",
    "plt.scatter(df2.x1, df2.x2, s=80, color='b', marker='s', label='Cluster 2')\n",
    "\n",
    "plt.scatter(C1[0], C1[1], color='r', marker='o', label='Centroid 1', s=512, alpha=0.2)\n",
    "plt.scatter(C2[0], C2[1], color='b', marker='s', label='Centroid 2', s=512, alpha=0.2)\n",
    "\n",
    "plt.scatter(C1new[0], C1new[1], color='r', marker='o', label='Centroid 1', s=512, alpha=0.8)\n",
    "plt.scatter(C2new[0], C2new[1], color='b', marker='s', label='Centroid 2', s=512, alpha=0.8)\n",
    "\n",
    "plt.title('Points and centroids', fontsize=18)\n",
    "plt.xlabel('x1', fontsize=14)\n",
    "plt.ylabel('x2', fontsize=14)\n",
    "\n",
    "plt.xlim(1,7)\n",
    "plt.ylim(1,7)\n",
    "\n",
    "plt.show()\n"
   ]
  },
  {
   "cell_type": "markdown",
   "metadata": {
    "id": "spYtAF5fu38f"
   },
   "source": [
    "## 6: Until the centroids do not change\n",
    "\n",
    "If the centroids do not change, then, none of the data points change of the assigned cluster\n"
   ]
  },
  {
   "cell_type": "code",
   "execution_count": 74,
   "metadata": {
    "id": "Dhm3T2gSu38f"
   },
   "outputs": [
    {
     "name": "stdout",
     "output_type": "stream",
     "text": [
      "[2.66666667 3.        ]\n",
      "[2.66666667 3.        ]\n"
     ]
    }
   ],
   "source": [
    "print(C1)\n",
    "print(C1new)"
   ]
  },
  {
   "cell_type": "code",
   "execution_count": 75,
   "metadata": {
    "id": "SNMVbc8yu38g"
   },
   "outputs": [
    {
     "name": "stdout",
     "output_type": "stream",
     "text": [
      "[6.  5.5]\n",
      "[6.  5.5]\n"
     ]
    }
   ],
   "source": [
    "print(C2)\n",
    "print(C2new)"
   ]
  },
  {
   "cell_type": "markdown",
   "metadata": {
    "id": "3nVL_2kgu38g"
   },
   "source": [
    "#### If the centroids do change... go to 3 (recall to use the new centroids)\n",
    "\n",
    "#### If the centroids do not change... done ¡¡"
   ]
  },
  {
   "cell_type": "code",
   "execution_count": null,
   "metadata": {
    "id": "dSh2spFy0b8b"
   },
   "outputs": [],
   "source": []
  }
 ],
 "metadata": {
  "colab": {
   "provenance": []
  },
  "kernelspec": {
   "display_name": "Python 3 (ipykernel)",
   "language": "python",
   "name": "python3"
  },
  "language_info": {
   "codemirror_mode": {
    "name": "ipython",
    "version": 3
   },
   "file_extension": ".py",
   "mimetype": "text/x-python",
   "name": "python",
   "nbconvert_exporter": "python",
   "pygments_lexer": "ipython3",
   "version": "3.11.5"
  }
 },
 "nbformat": 4,
 "nbformat_minor": 4
}
