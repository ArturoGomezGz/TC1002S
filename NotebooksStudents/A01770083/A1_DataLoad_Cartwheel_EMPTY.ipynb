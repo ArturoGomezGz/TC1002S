{
  "cells": [
    {
      "cell_type": "markdown",
      "metadata": {
        "id": "u0MPe62dYgl0"
      },
      "source": [
        "# Undertanding the cartwheel data set\n",
        "\n",
        "The notebook aims to undertand the content of the cartwheel data set.\n",
        "\n",
        "\n",
        "## Acknowledgments\n",
        "\n",
        "- Data from https://www.coursera.org/ from the course \"Understanding and Visualizing Data with Python\" by University of Michigan\n"
      ]
    },
    {
      "cell_type": "markdown",
      "metadata": {
        "id": "30s2UXlPYgl4"
      },
      "source": [
        "# Cartwheel data set\n",
        "\n",
        "1. A cartwheel\n",
        "\n",
        "![cartwheel1.png](datasets/cartwheel/cartwheel1.png)\n",
        "\n",
        "2. The dataset description\n",
        "    - The dataset used here is an extension from the original cartwheel dataset from cursera\n",
        "    - Total numer of observations: 28\n",
        "    - Many observations/measurements/recordings of the characteristics/attributes/variables of cartwheel executions\n",
        "    - Variables: Age, Gender, GenderGroup, Glasses, GlassesGroup, Height, Wingspan, CWDistance, ... (X variables)\n",
        "    \n"
      ]
    },
    {
      "cell_type": "markdown",
      "metadata": {
        "id": "xmSEe706Ygl5"
      },
      "source": [
        "# Importing and inspecting the data"
      ]
    },
    {
      "cell_type": "code",
      "execution_count": 3,
      "metadata": {
        "id": "wksMvHQBYjRu",
        "colab": {
          "base_uri": "https://localhost:8080/",
          "height": 0
        },
        "outputId": "d06eb986-e3d3-49ab-b81b-b78431fbef75"
      },
      "outputs": [
        {
          "output_type": "stream",
          "name": "stdout",
          "text": [
            "Mounted at /content/drive\n"
          ]
        }
      ],
      "source": [
        "# Define where you are running the code: colab or local\n",
        "RunInColab          = True     # (False: no  | True: yes)\n",
        "\n",
        "# If running in colab:\n",
        "if RunInColab:\n",
        "    # Mount your google drive in google colab\n",
        "    from google.colab import drive\n",
        "    drive.mount('/content/drive')\n",
        "\n",
        "    # Find location\n",
        "    #!pwd\n",
        "    #!ls\n",
        "    #!ls \"/content/drive/My Drive/Colab Notebooks/MachineLearningWithPython/\"\n",
        "\n",
        "    # Define path del proyecto\n",
        "    Ruta            = \"/content/drive/My Drive/A01770083/\"\n",
        " \n",
        "else:\n",
        "    # Define path del proyecto\n",
        "    Ruta            = \"\""
      ]
    },
    {
      "cell_type": "code",
      "execution_count": 4,
      "metadata": {
        "id": "fyR3iS-uYgl5"
      },
      "outputs": [],
      "source": [
        "# Import the packages that we will be using\n",
        "import matplotlib.pyplot as plt\n",
        "import pandas as pd\n",
        "\n",
        "# Dataset url\n",
        "url = Ruta + \"datasets/cartwheel/cartwheel.csv\"\n",
        "\n",
        "# Load the dataset\n",
        "dataset = pd.read_csv(url )"
      ]
    },
    {
      "cell_type": "code",
      "execution_count": null,
      "metadata": {
        "id": "j614eRL1Ygl6"
      },
      "outputs": [],
      "source": [
        "# Print the dataset\n",
        "dataset"
      ]
    },
    {
      "cell_type": "code",
      "execution_count": null,
      "metadata": {
        "id": "UHf53273Ygl7",
        "colab": {
          "base_uri": "https://localhost:8080/"
        },
        "outputId": "f4e98b65-6bc4-49b3-8b16-7d73137bb110"
      },
      "outputs": [
        {
          "output_type": "execute_result",
          "data": {
            "text/plain": [
              "52"
            ]
          },
          "metadata": {},
          "execution_count": 20
        }
      ],
      "source": [
        "# Print the number of rows\n",
        "Nrows = dataset.shape[0]\n",
        "Nrows\n"
      ]
    },
    {
      "cell_type": "code",
      "execution_count": null,
      "metadata": {
        "id": "oULLxV8eYgl7",
        "colab": {
          "base_uri": "https://localhost:8080/"
        },
        "outputId": "bb33d053-5dbd-44e5-841d-e5cb8dd89329"
      },
      "outputs": [
        {
          "output_type": "execute_result",
          "data": {
            "text/plain": [
              "12"
            ]
          },
          "metadata": {},
          "execution_count": 21
        }
      ],
      "source": [
        "# Print the number of columns\n",
        "Ncols = dataset.shape[1]\n",
        "Ncols\n"
      ]
    },
    {
      "cell_type": "markdown",
      "metadata": {
        "id": "wQIcyogKYgl8"
      },
      "source": [
        "# Activity: work with the iris dataset\n",
        "\n",
        "1. Load the iris.csv file in your computer and understand the dataset\n",
        "\n",
        "\n",
        "2. How many observations (rows) are in total?\n",
        "\n",
        "\n",
        "3. How many variables (columns) are in total? What do they represent?\n",
        "\n",
        "\n",
        "4. How many observations are for each type of flower? \n",
        "\n",
        "\n",
        "5. What is the type of data for each variable?\n",
        "\n",
        "\n",
        "6. What are the units of each variable?\n"
      ]
    },
    {
      "cell_type": "markdown",
      "source": [
        "1.- Load the iris.csv file in your computer and understand the dataset"
      ],
      "metadata": {
        "id": "y1CBi4JTXetd"
      }
    },
    {
      "cell_type": "code",
      "source": [
        "# Dataset url\n",
        "urlIris = Ruta + \"datasets/iris/iris2.csv\"\n",
        "\n",
        "# Load the dataset\n",
        "datasetIris = pd.read_csv(urlIris )"
      ],
      "metadata": {
        "id": "plZW2JFwXllA"
      },
      "execution_count": 15,
      "outputs": []
    },
    {
      "cell_type": "code",
      "source": [
        "datasetIris"
      ],
      "metadata": {
        "id": "gf_8C3wIZSxy"
      },
      "execution_count": null,
      "outputs": []
    },
    {
      "cell_type": "markdown",
      "source": [
        "2.- How many observations (rows) are in total?\n",
        "\n",
        "3.- How many variables (columns) are in total? What do they represent?::"
      ],
      "metadata": {
        "id": "67MUOdqCZeLM"
      }
    },
    {
      "cell_type": "code",
      "source": [
        "# Number of rows\n",
        "Nrows = datasetIris.shape[0]\n",
        "print(\"Rows     : \" ,Nrows)\n",
        "\n",
        "# Number of columns\n",
        "Nrows = datasetIris.shape[1]\n",
        "print(\"Columns  : \" ,Nrows)"
      ],
      "metadata": {
        "colab": {
          "base_uri": "https://localhost:8080/",
          "height": 0
        },
        "id": "ouYaQ005ZkZ7",
        "outputId": "bb8cd802-28c0-486d-9b58-fb56e91fde31"
      },
      "execution_count": 17,
      "outputs": [
        {
          "output_type": "stream",
          "name": "stdout",
          "text": [
            "Rows     :  150\n",
            "Columns  :  5\n"
          ]
        }
      ]
    },
    {
      "cell_type": "markdown",
      "source": [
        "4. How many observations are for each type of flower? \n",
        "  \n",
        "  R = 4 observations \n",
        "\n",
        "5. What is the type of data for each variable?\n",
        "\n",
        "  R = Numeric \n",
        "\n",
        "6. What are the units of each variable?\n",
        "\n",
        "  R = Centimeters\n"
      ],
      "metadata": {
        "id": "Up97K6pPcqs4"
      }
    }
  ],
  "metadata": {
    "colab": {
      "provenance": []
    },
    "kernelspec": {
      "display_name": "Python 3 (ipykernel)",
      "language": "python",
      "name": "python3"
    },
    "language_info": {
      "codemirror_mode": {
        "name": "ipython",
        "version": 3
      },
      "file_extension": ".py",
      "mimetype": "text/x-python",
      "name": "python",
      "nbconvert_exporter": "python",
      "pygments_lexer": "ipython3",
      "version": "3.9.12"
    }
  },
  "nbformat": 4,
  "nbformat_minor": 0
}