{
  "cells": [
    {
      "cell_type": "markdown",
      "metadata": {
        "id": "AS8mbGXGOsLc"
      },
      "source": [
        "# K-means clustering\n",
        "Pamela Sánchez Arellano A01636995\n"
      ]
    },
    {
      "cell_type": "code",
      "execution_count": 114,
      "metadata": {
        "colab": {
          "base_uri": "https://localhost:8080/"
        },
        "id": "xj6q61p5TpML",
        "outputId": "5bf959f9-efae-4815-8a93-0f83caa6e69c"
      },
      "outputs": [
        {
          "output_type": "stream",
          "name": "stdout",
          "text": [
            "Drive already mounted at /content/drive; to attempt to forcibly remount, call drive.mount(\"/content/drive\", force_remount=True).\n"
          ]
        }
      ],
      "source": [
        "# Define where you are running the code: colab or local\n",
        "RunInColab          = True     # (False: no  | True: yes)\n",
        "\n",
        "# If running in colab:\n",
        "if RunInColab:\n",
        "    # Mount your google drive in google colab\n",
        "    from google.colab import drive\n",
        "    drive.mount('/content/drive')\n",
        "\n",
        "    # Find location\n",
        "    #!pwd\n",
        "    #!ls\n",
        "    #!ls \"/content/drive/My Drive/Colab Notebooks/MachineLearningWithPython/\"\n",
        "\n",
        "    # Define path del proyecto\n",
        "    Ruta            = \"/content/drive/My Drive/Colab Notebooks/TC1002S/NotebooksStudents/A01636995\"\n",
        "\n",
        "else:\n",
        "    # Define path del proyecto\n",
        "    Ruta            = \"/Users/pamelasanchez/Documents/TC1002S/NotebooksStudents/A01636995\""
      ]
    },
    {
      "cell_type": "code",
      "execution_count": 120,
      "metadata": {
        "id": "og9XW_WcOsLj"
      },
      "outputs": [],
      "source": [
        "# Import the packages that we will be using\n",
        "import numpy as np                  # For array\n",
        "import pandas as pd                 # For data handling\n",
        "import seaborn as sns               # For advanced plotting\n",
        "import matplotlib.pyplot as plt     # For showing plots\n",
        "\n",
        "# Note: specific functions of the \"sklearn\" package will be imported when needed to show concepts easily"
      ]
    },
    {
      "cell_type": "markdown",
      "metadata": {
        "id": "ho4Z9lu1OsLl"
      },
      "source": [
        "# Importing data"
      ]
    },
    {
      "cell_type": "code",
      "execution_count": 121,
      "metadata": {
        "id": "53ZuWZToOsLl"
      },
      "outputs": [],
      "source": [
        "# Dataset url\n",
        "url = Ruta + \"/datasets/iris/iris.csv\"\n",
        "\n",
        "# Load the dataset\n",
        "df  = df = pd.read_csv(url, header = None)\n",
        "# Column names are added to facilitate the rest of the work\n",
        "df = df.rename(columns={0: \"Largo_Sepalo\"})\n",
        "df = df.rename(columns={1: \"Ancho_Sepalo\"})\n",
        "df = df.rename(columns={2: \"Largo_Petalo\"})\n",
        "df = df.rename(columns={3: \"Ancho_Petalo\"})\n",
        "df = df.rename(columns={4: \"Especie\"})"
      ]
    },
    {
      "cell_type": "code",
      "execution_count": 116,
      "metadata": {
        "colab": {
          "base_uri": "https://localhost:8080/",
          "height": 424
        },
        "id": "VaKt3oxcfJXQ",
        "outputId": "cfc85f8c-a364-44fc-9c73-a4fb175e5c0f"
      },
      "outputs": [
        {
          "output_type": "execute_result",
          "data": {
            "text/plain": [
              "     Largo_Sepalo  Ancho_Sepalo  Largo_Petalo  Ancho_Petalo         Especie\n",
              "0             5.1           3.5           1.4           0.2     Iris-setosa\n",
              "1             4.9           3.0           1.4           0.2     Iris-setosa\n",
              "2             4.7           3.2           1.3           0.2     Iris-setosa\n",
              "3             4.6           3.1           1.5           0.2     Iris-setosa\n",
              "4             5.0           3.6           1.4           0.2     Iris-setosa\n",
              "..            ...           ...           ...           ...             ...\n",
              "145           6.7           3.0           5.2           2.3  Iris-virginica\n",
              "146           6.3           2.5           5.0           1.9  Iris-virginica\n",
              "147           6.5           3.0           5.2           2.0  Iris-virginica\n",
              "148           6.2           3.4           5.4           2.3  Iris-virginica\n",
              "149           5.9           3.0           5.1           1.8  Iris-virginica\n",
              "\n",
              "[150 rows x 5 columns]"
            ],
            "text/html": [
              "\n",
              "  <div id=\"df-aaf548d2-29e7-465d-aef3-ae147c6198f4\">\n",
              "    <div class=\"colab-df-container\">\n",
              "      <div>\n",
              "<style scoped>\n",
              "    .dataframe tbody tr th:only-of-type {\n",
              "        vertical-align: middle;\n",
              "    }\n",
              "\n",
              "    .dataframe tbody tr th {\n",
              "        vertical-align: top;\n",
              "    }\n",
              "\n",
              "    .dataframe thead th {\n",
              "        text-align: right;\n",
              "    }\n",
              "</style>\n",
              "<table border=\"1\" class=\"dataframe\">\n",
              "  <thead>\n",
              "    <tr style=\"text-align: right;\">\n",
              "      <th></th>\n",
              "      <th>Largo_Sepalo</th>\n",
              "      <th>Ancho_Sepalo</th>\n",
              "      <th>Largo_Petalo</th>\n",
              "      <th>Ancho_Petalo</th>\n",
              "      <th>Especie</th>\n",
              "    </tr>\n",
              "  </thead>\n",
              "  <tbody>\n",
              "    <tr>\n",
              "      <th>0</th>\n",
              "      <td>5.1</td>\n",
              "      <td>3.5</td>\n",
              "      <td>1.4</td>\n",
              "      <td>0.2</td>\n",
              "      <td>Iris-setosa</td>\n",
              "    </tr>\n",
              "    <tr>\n",
              "      <th>1</th>\n",
              "      <td>4.9</td>\n",
              "      <td>3.0</td>\n",
              "      <td>1.4</td>\n",
              "      <td>0.2</td>\n",
              "      <td>Iris-setosa</td>\n",
              "    </tr>\n",
              "    <tr>\n",
              "      <th>2</th>\n",
              "      <td>4.7</td>\n",
              "      <td>3.2</td>\n",
              "      <td>1.3</td>\n",
              "      <td>0.2</td>\n",
              "      <td>Iris-setosa</td>\n",
              "    </tr>\n",
              "    <tr>\n",
              "      <th>3</th>\n",
              "      <td>4.6</td>\n",
              "      <td>3.1</td>\n",
              "      <td>1.5</td>\n",
              "      <td>0.2</td>\n",
              "      <td>Iris-setosa</td>\n",
              "    </tr>\n",
              "    <tr>\n",
              "      <th>4</th>\n",
              "      <td>5.0</td>\n",
              "      <td>3.6</td>\n",
              "      <td>1.4</td>\n",
              "      <td>0.2</td>\n",
              "      <td>Iris-setosa</td>\n",
              "    </tr>\n",
              "    <tr>\n",
              "      <th>...</th>\n",
              "      <td>...</td>\n",
              "      <td>...</td>\n",
              "      <td>...</td>\n",
              "      <td>...</td>\n",
              "      <td>...</td>\n",
              "    </tr>\n",
              "    <tr>\n",
              "      <th>145</th>\n",
              "      <td>6.7</td>\n",
              "      <td>3.0</td>\n",
              "      <td>5.2</td>\n",
              "      <td>2.3</td>\n",
              "      <td>Iris-virginica</td>\n",
              "    </tr>\n",
              "    <tr>\n",
              "      <th>146</th>\n",
              "      <td>6.3</td>\n",
              "      <td>2.5</td>\n",
              "      <td>5.0</td>\n",
              "      <td>1.9</td>\n",
              "      <td>Iris-virginica</td>\n",
              "    </tr>\n",
              "    <tr>\n",
              "      <th>147</th>\n",
              "      <td>6.5</td>\n",
              "      <td>3.0</td>\n",
              "      <td>5.2</td>\n",
              "      <td>2.0</td>\n",
              "      <td>Iris-virginica</td>\n",
              "    </tr>\n",
              "    <tr>\n",
              "      <th>148</th>\n",
              "      <td>6.2</td>\n",
              "      <td>3.4</td>\n",
              "      <td>5.4</td>\n",
              "      <td>2.3</td>\n",
              "      <td>Iris-virginica</td>\n",
              "    </tr>\n",
              "    <tr>\n",
              "      <th>149</th>\n",
              "      <td>5.9</td>\n",
              "      <td>3.0</td>\n",
              "      <td>5.1</td>\n",
              "      <td>1.8</td>\n",
              "      <td>Iris-virginica</td>\n",
              "    </tr>\n",
              "  </tbody>\n",
              "</table>\n",
              "<p>150 rows × 5 columns</p>\n",
              "</div>\n",
              "      <button class=\"colab-df-convert\" onclick=\"convertToInteractive('df-aaf548d2-29e7-465d-aef3-ae147c6198f4')\"\n",
              "              title=\"Convert this dataframe to an interactive table.\"\n",
              "              style=\"display:none;\">\n",
              "        \n",
              "  <svg xmlns=\"http://www.w3.org/2000/svg\" height=\"24px\"viewBox=\"0 0 24 24\"\n",
              "       width=\"24px\">\n",
              "    <path d=\"M0 0h24v24H0V0z\" fill=\"none\"/>\n",
              "    <path d=\"M18.56 5.44l.94 2.06.94-2.06 2.06-.94-2.06-.94-.94-2.06-.94 2.06-2.06.94zm-11 1L8.5 8.5l.94-2.06 2.06-.94-2.06-.94L8.5 2.5l-.94 2.06-2.06.94zm10 10l.94 2.06.94-2.06 2.06-.94-2.06-.94-.94-2.06-.94 2.06-2.06.94z\"/><path d=\"M17.41 7.96l-1.37-1.37c-.4-.4-.92-.59-1.43-.59-.52 0-1.04.2-1.43.59L10.3 9.45l-7.72 7.72c-.78.78-.78 2.05 0 2.83L4 21.41c.39.39.9.59 1.41.59.51 0 1.02-.2 1.41-.59l7.78-7.78 2.81-2.81c.8-.78.8-2.07 0-2.86zM5.41 20L4 18.59l7.72-7.72 1.47 1.35L5.41 20z\"/>\n",
              "  </svg>\n",
              "      </button>\n",
              "      \n",
              "  <style>\n",
              "    .colab-df-container {\n",
              "      display:flex;\n",
              "      flex-wrap:wrap;\n",
              "      gap: 12px;\n",
              "    }\n",
              "\n",
              "    .colab-df-convert {\n",
              "      background-color: #E8F0FE;\n",
              "      border: none;\n",
              "      border-radius: 50%;\n",
              "      cursor: pointer;\n",
              "      display: none;\n",
              "      fill: #1967D2;\n",
              "      height: 32px;\n",
              "      padding: 0 0 0 0;\n",
              "      width: 32px;\n",
              "    }\n",
              "\n",
              "    .colab-df-convert:hover {\n",
              "      background-color: #E2EBFA;\n",
              "      box-shadow: 0px 1px 2px rgba(60, 64, 67, 0.3), 0px 1px 3px 1px rgba(60, 64, 67, 0.15);\n",
              "      fill: #174EA6;\n",
              "    }\n",
              "\n",
              "    [theme=dark] .colab-df-convert {\n",
              "      background-color: #3B4455;\n",
              "      fill: #D2E3FC;\n",
              "    }\n",
              "\n",
              "    [theme=dark] .colab-df-convert:hover {\n",
              "      background-color: #434B5C;\n",
              "      box-shadow: 0px 1px 3px 1px rgba(0, 0, 0, 0.15);\n",
              "      filter: drop-shadow(0px 1px 2px rgba(0, 0, 0, 0.3));\n",
              "      fill: #FFFFFF;\n",
              "    }\n",
              "  </style>\n",
              "\n",
              "      <script>\n",
              "        const buttonEl =\n",
              "          document.querySelector('#df-aaf548d2-29e7-465d-aef3-ae147c6198f4 button.colab-df-convert');\n",
              "        buttonEl.style.display =\n",
              "          google.colab.kernel.accessAllowed ? 'block' : 'none';\n",
              "\n",
              "        async function convertToInteractive(key) {\n",
              "          const element = document.querySelector('#df-aaf548d2-29e7-465d-aef3-ae147c6198f4');\n",
              "          const dataTable =\n",
              "            await google.colab.kernel.invokeFunction('convertToInteractive',\n",
              "                                                     [key], {});\n",
              "          if (!dataTable) return;\n",
              "\n",
              "          const docLinkHtml = 'Like what you see? Visit the ' +\n",
              "            '<a target=\"_blank\" href=https://colab.research.google.com/notebooks/data_table.ipynb>data table notebook</a>'\n",
              "            + ' to learn more about interactive tables.';\n",
              "          element.innerHTML = '';\n",
              "          dataTable['output_type'] = 'display_data';\n",
              "          await google.colab.output.renderOutput(dataTable, element);\n",
              "          const docLink = document.createElement('div');\n",
              "          docLink.innerHTML = docLinkHtml;\n",
              "          element.appendChild(docLink);\n",
              "        }\n",
              "      </script>\n",
              "    </div>\n",
              "  </div>\n",
              "  "
            ]
          },
          "metadata": {},
          "execution_count": 116
        }
      ],
      "source": [
        "# Get a general 'feel' of the data\n",
        "# Print the dataframe\n",
        "df"
      ]
    },
    {
      "cell_type": "code",
      "execution_count": 29,
      "metadata": {
        "colab": {
          "base_uri": "https://localhost:8080/"
        },
        "id": "WjukI2M-OsLm",
        "outputId": "3a4574fb-26bb-4a2c-873d-4c110b374255"
      },
      "outputs": [
        {
          "output_type": "execute_result",
          "data": {
            "text/plain": [
              "(150, 5)"
            ]
          },
          "metadata": {},
          "execution_count": 29
        }
      ],
      "source": [
        "# get the number of observations and variables\n",
        "df.shape"
      ]
    },
    {
      "cell_type": "code",
      "execution_count": 93,
      "metadata": {
        "colab": {
          "base_uri": "https://localhost:8080/"
        },
        "id": "p2FAEURNOsLn",
        "outputId": "151fc200-5b4e-4b91-c051-19ab2ee56d79"
      },
      "outputs": [
        {
          "output_type": "execute_result",
          "data": {
            "text/plain": [
              "(150, 5)"
            ]
          },
          "metadata": {},
          "execution_count": 93
        }
      ],
      "source": [
        "# Drop rows with NaN values if existing\n",
        "df.dropna()\n",
        "# Print the new shape\n",
        "df.shape"
      ]
    },
    {
      "cell_type": "code",
      "execution_count": 31,
      "metadata": {
        "colab": {
          "base_uri": "https://localhost:8080/",
          "height": 296
        },
        "id": "I0TGCzWUOsLr",
        "outputId": "fb4f2325-ef1f-4f79-bfe4-1847f653b9a4"
      },
      "outputs": [
        {
          "output_type": "display_data",
          "data": {
            "text/plain": [
              "<Figure size 432x288 with 1 Axes>"
            ],
            "image/png": "[encoded data removed]"
          },
          "metadata": {
            "needs_background": "light"
          }
        }
      ],
      "source": [
        "# Scatterplot of x1 and x2\n",
        "sns.scatterplot(data = df, x = \"Largo_Sepalo\", y = \"Ancho_Sepalo\", c = \"m\", alpha = 0.7)\n",
        "plt.title(\"Largo y Ancho de Sepalo\")\n",
        "plt.show()"
      ]
    },
    {
      "cell_type": "code",
      "execution_count": 32,
      "metadata": {
        "colab": {
          "base_uri": "https://localhost:8080/",
          "height": 296
        },
        "id": "WBLieb8lnJYk",
        "outputId": "19a06168-c975-46c4-e671-a091f55145c6"
      },
      "outputs": [
        {
          "output_type": "display_data",
          "data": {
            "text/plain": [
              "<Figure size 432x288 with 1 Axes>"
            ],
            "image/png": "[encoded data removed]"
          },
          "metadata": {
            "needs_background": "light"
          }
        }
      ],
      "source": [
        "# Scatterplot of x1 and x3\n",
        "sns.scatterplot(data = df, x = \"Largo_Sepalo\", y = \"Largo_Petalo\", c = \"c\", alpha = 0.7)\n",
        "plt.title(\"Largo de Sepalo y Petalo\")\n",
        "plt.show()"
      ]
    },
    {
      "cell_type": "code",
      "execution_count": 33,
      "metadata": {
        "colab": {
          "base_uri": "https://localhost:8080/",
          "height": 726
        },
        "id": "dxvGv9ronJcG",
        "outputId": "3cee48fa-41e9-4c6a-b795-974bf54d8ff9"
      },
      "outputs": [
        {
          "output_type": "display_data",
          "data": {
            "text/plain": [
              "<Figure size 720x720 with 20 Axes>"
            ],
            "image/png": "[encoded data removed]"
          },
          "metadata": {
            "needs_background": "light"
          }
        }
      ],
      "source": [
        "# Pairplot: Scatterplot of all variables\n",
        "sns.pairplot(df)\n",
        "plt.show()"
      ]
    },
    {
      "cell_type": "code",
      "source": [
        "# The last column is dropped \n",
        "df.drop(\"Especie\", axis=1, inplace = True)\n",
        "df"
      ],
      "metadata": {
        "colab": {
          "base_uri": "https://localhost:8080/",
          "height": 424
        },
        "id": "eGk2l34uOYmI",
        "outputId": "e24fee2f-8a2c-486c-b549-6d67f0ad9f4d"
      },
      "execution_count": 122,
      "outputs": [
        {
          "output_type": "execute_result",
          "data": {
            "text/plain": [
              "     Largo_Sepalo  Ancho_Sepalo  Largo_Petalo  Ancho_Petalo\n",
              "0             5.1           3.5           1.4           0.2\n",
              "1             4.9           3.0           1.4           0.2\n",
              "2             4.7           3.2           1.3           0.2\n",
              "3             4.6           3.1           1.5           0.2\n",
              "4             5.0           3.6           1.4           0.2\n",
              "..            ...           ...           ...           ...\n",
              "145           6.7           3.0           5.2           2.3\n",
              "146           6.3           2.5           5.0           1.9\n",
              "147           6.5           3.0           5.2           2.0\n",
              "148           6.2           3.4           5.4           2.3\n",
              "149           5.9           3.0           5.1           1.8\n",
              "\n",
              "[150 rows x 4 columns]"
            ],
            "text/html": [
              "\n",
              "  <div id=\"df-d01312ca-9cf7-424b-a858-77ceb4a182f8\">\n",
              "    <div class=\"colab-df-container\">\n",
              "      <div>\n",
              "<style scoped>\n",
              "    .dataframe tbody tr th:only-of-type {\n",
              "        vertical-align: middle;\n",
              "    }\n",
              "\n",
              "    .dataframe tbody tr th {\n",
              "        vertical-align: top;\n",
              "    }\n",
              "\n",
              "    .dataframe thead th {\n",
              "        text-align: right;\n",
              "    }\n",
              "</style>\n",
              "<table border=\"1\" class=\"dataframe\">\n",
              "  <thead>\n",
              "    <tr style=\"text-align: right;\">\n",
              "      <th></th>\n",
              "      <th>Largo_Sepalo</th>\n",
              "      <th>Ancho_Sepalo</th>\n",
              "      <th>Largo_Petalo</th>\n",
              "      <th>Ancho_Petalo</th>\n",
              "    </tr>\n",
              "  </thead>\n",
              "  <tbody>\n",
              "    <tr>\n",
              "      <th>0</th>\n",
              "      <td>5.1</td>\n",
              "      <td>3.5</td>\n",
              "      <td>1.4</td>\n",
              "      <td>0.2</td>\n",
              "    </tr>\n",
              "    <tr>\n",
              "      <th>1</th>\n",
              "      <td>4.9</td>\n",
              "      <td>3.0</td>\n",
              "      <td>1.4</td>\n",
              "      <td>0.2</td>\n",
              "    </tr>\n",
              "    <tr>\n",
              "      <th>2</th>\n",
              "      <td>4.7</td>\n",
              "      <td>3.2</td>\n",
              "      <td>1.3</td>\n",
              "      <td>0.2</td>\n",
              "    </tr>\n",
              "    <tr>\n",
              "      <th>3</th>\n",
              "      <td>4.6</td>\n",
              "      <td>3.1</td>\n",
              "      <td>1.5</td>\n",
              "      <td>0.2</td>\n",
              "    </tr>\n",
              "    <tr>\n",
              "      <th>4</th>\n",
              "      <td>5.0</td>\n",
              "      <td>3.6</td>\n",
              "      <td>1.4</td>\n",
              "      <td>0.2</td>\n",
              "    </tr>\n",
              "    <tr>\n",
              "      <th>...</th>\n",
              "      <td>...</td>\n",
              "      <td>...</td>\n",
              "      <td>...</td>\n",
              "      <td>...</td>\n",
              "    </tr>\n",
              "    <tr>\n",
              "      <th>145</th>\n",
              "      <td>6.7</td>\n",
              "      <td>3.0</td>\n",
              "      <td>5.2</td>\n",
              "      <td>2.3</td>\n",
              "    </tr>\n",
              "    <tr>\n",
              "      <th>146</th>\n",
              "      <td>6.3</td>\n",
              "      <td>2.5</td>\n",
              "      <td>5.0</td>\n",
              "      <td>1.9</td>\n",
              "    </tr>\n",
              "    <tr>\n",
              "      <th>147</th>\n",
              "      <td>6.5</td>\n",
              "      <td>3.0</td>\n",
              "      <td>5.2</td>\n",
              "      <td>2.0</td>\n",
              "    </tr>\n",
              "    <tr>\n",
              "      <th>148</th>\n",
              "      <td>6.2</td>\n",
              "      <td>3.4</td>\n",
              "      <td>5.4</td>\n",
              "      <td>2.3</td>\n",
              "    </tr>\n",
              "    <tr>\n",
              "      <th>149</th>\n",
              "      <td>5.9</td>\n",
              "      <td>3.0</td>\n",
              "      <td>5.1</td>\n",
              "      <td>1.8</td>\n",
              "    </tr>\n",
              "  </tbody>\n",
              "</table>\n",
              "<p>150 rows × 4 columns</p>\n",
              "</div>\n",
              "      <button class=\"colab-df-convert\" onclick=\"convertToInteractive('df-d01312ca-9cf7-424b-a858-77ceb4a182f8')\"\n",
              "              title=\"Convert this dataframe to an interactive table.\"\n",
              "              style=\"display:none;\">\n",
              "        \n",
              "  <svg xmlns=\"http://www.w3.org/2000/svg\" height=\"24px\"viewBox=\"0 0 24 24\"\n",
              "       width=\"24px\">\n",
              "    <path d=\"M0 0h24v24H0V0z\" fill=\"none\"/>\n",
              "    <path d=\"M18.56 5.44l.94 2.06.94-2.06 2.06-.94-2.06-.94-.94-2.06-.94 2.06-2.06.94zm-11 1L8.5 8.5l.94-2.06 2.06-.94-2.06-.94L8.5 2.5l-.94 2.06-2.06.94zm10 10l.94 2.06.94-2.06 2.06-.94-2.06-.94-.94-2.06-.94 2.06-2.06.94z\"/><path d=\"M17.41 7.96l-1.37-1.37c-.4-.4-.92-.59-1.43-.59-.52 0-1.04.2-1.43.59L10.3 9.45l-7.72 7.72c-.78.78-.78 2.05 0 2.83L4 21.41c.39.39.9.59 1.41.59.51 0 1.02-.2 1.41-.59l7.78-7.78 2.81-2.81c.8-.78.8-2.07 0-2.86zM5.41 20L4 18.59l7.72-7.72 1.47 1.35L5.41 20z\"/>\n",
              "  </svg>\n",
              "      </button>\n",
              "      \n",
              "  <style>\n",
              "    .colab-df-container {\n",
              "      display:flex;\n",
              "      flex-wrap:wrap;\n",
              "      gap: 12px;\n",
              "    }\n",
              "\n",
              "    .colab-df-convert {\n",
              "      background-color: #E8F0FE;\n",
              "      border: none;\n",
              "      border-radius: 50%;\n",
              "      cursor: pointer;\n",
              "      display: none;\n",
              "      fill: #1967D2;\n",
              "      height: 32px;\n",
              "      padding: 0 0 0 0;\n",
              "      width: 32px;\n",
              "    }\n",
              "\n",
              "    .colab-df-convert:hover {\n",
              "      background-color: #E2EBFA;\n",
              "      box-shadow: 0px 1px 2px rgba(60, 64, 67, 0.3), 0px 1px 3px 1px rgba(60, 64, 67, 0.15);\n",
              "      fill: #174EA6;\n",
              "    }\n",
              "\n",
              "    [theme=dark] .colab-df-convert {\n",
              "      background-color: #3B4455;\n",
              "      fill: #D2E3FC;\n",
              "    }\n",
              "\n",
              "    [theme=dark] .colab-df-convert:hover {\n",
              "      background-color: #434B5C;\n",
              "      box-shadow: 0px 1px 3px 1px rgba(0, 0, 0, 0.15);\n",
              "      filter: drop-shadow(0px 1px 2px rgba(0, 0, 0, 0.3));\n",
              "      fill: #FFFFFF;\n",
              "    }\n",
              "  </style>\n",
              "\n",
              "      <script>\n",
              "        const buttonEl =\n",
              "          document.querySelector('#df-d01312ca-9cf7-424b-a858-77ceb4a182f8 button.colab-df-convert');\n",
              "        buttonEl.style.display =\n",
              "          google.colab.kernel.accessAllowed ? 'block' : 'none';\n",
              "\n",
              "        async function convertToInteractive(key) {\n",
              "          const element = document.querySelector('#df-d01312ca-9cf7-424b-a858-77ceb4a182f8');\n",
              "          const dataTable =\n",
              "            await google.colab.kernel.invokeFunction('convertToInteractive',\n",
              "                                                     [key], {});\n",
              "          if (!dataTable) return;\n",
              "\n",
              "          const docLinkHtml = 'Like what you see? Visit the ' +\n",
              "            '<a target=\"_blank\" href=https://colab.research.google.com/notebooks/data_table.ipynb>data table notebook</a>'\n",
              "            + ' to learn more about interactive tables.';\n",
              "          element.innerHTML = '';\n",
              "          dataTable['output_type'] = 'display_data';\n",
              "          await google.colab.output.renderOutput(dataTable, element);\n",
              "          const docLink = document.createElement('div');\n",
              "          docLink.innerHTML = docLinkHtml;\n",
              "          element.appendChild(docLink);\n",
              "        }\n",
              "      </script>\n",
              "    </div>\n",
              "  </div>\n",
              "  "
            ]
          },
          "metadata": {},
          "execution_count": 122
        }
      ]
    },
    {
      "cell_type": "markdown",
      "metadata": {
        "id": "NL248FDdOsLu"
      },
      "source": [
        "# Kmeans clustering\n"
      ]
    },
    {
      "cell_type": "code",
      "execution_count": 95,
      "metadata": {
        "colab": {
          "base_uri": "https://localhost:8080/"
        },
        "id": "oYkbzWxQOsLu",
        "outputId": "3f284d07-0e3d-4496-f99c-4e202ad14cc6"
      },
      "outputs": [
        {
          "output_type": "execute_result",
          "data": {
            "text/plain": [
              "array([0, 0, 0, 0, 0, 0, 0, 0, 0, 0, 0, 0, 0, 0, 0, 0, 0, 0, 0, 0, 0, 0,\n",
              "       0, 0, 0, 0, 0, 0, 0, 0, 0, 0, 0, 0, 0, 0, 0, 0, 0, 0, 0, 0, 0, 0,\n",
              "       0, 0, 0, 0, 0, 0, 1, 1, 1, 1, 1, 1, 1, 0, 1, 1, 1, 1, 1, 1, 1, 1,\n",
              "       1, 1, 1, 1, 1, 1, 1, 1, 1, 1, 1, 1, 1, 1, 1, 1, 1, 1, 1, 1, 1, 1,\n",
              "       1, 1, 1, 1, 1, 0, 1, 1, 1, 1, 0, 1, 1, 1, 1, 1, 1, 1, 1, 1, 1, 1,\n",
              "       1, 1, 1, 1, 1, 1, 1, 1, 1, 1, 1, 1, 1, 1, 1, 1, 1, 1, 1, 1, 1, 1,\n",
              "       1, 1, 1, 1, 1, 1, 1, 1, 1, 1, 1, 1, 1, 1, 1, 1, 1, 1], dtype=int32)"
            ]
          },
          "metadata": {},
          "execution_count": 95
        }
      ],
      "source": [
        "# Import sklearn KMeans\n",
        "from sklearn.cluster import KMeans\n",
        "\n",
        "# Define number of clusters\n",
        "K  =  2# Let's assume there are 2,3,4,5...? clusters/groups\n",
        "\n",
        "km = KMeans(n_clusters = K, n_init = \"auto\")\n",
        "\n",
        "# Do K-means clustering (assing each point in the dataset to a cluster) \n",
        "yestimated = km.fit_predict(df)\n",
        "\n",
        "# Print estimated cluster of each point in the dataset\n",
        "yestimated"
      ]
    },
    {
      "cell_type": "code",
      "execution_count": 96,
      "metadata": {
        "colab": {
          "base_uri": "https://localhost:8080/",
          "height": 206
        },
        "id": "CLSTXFExOsLu",
        "outputId": "91306bcc-5c6d-4b09-e2ee-b057e79a27ef"
      },
      "outputs": [
        {
          "output_type": "execute_result",
          "data": {
            "text/plain": [
              "   Largo_Sepalo  Ancho_Sepalo  Largo_Petalo  Ancho_Petalo  Cluster_Information\n",
              "0           5.1           3.5           1.4           0.2                    0\n",
              "1           4.9           3.0           1.4           0.2                    0\n",
              "2           4.7           3.2           1.3           0.2                    0\n",
              "3           4.6           3.1           1.5           0.2                    0\n",
              "4           5.0           3.6           1.4           0.2                    0"
            ],
            "text/html": [
              "\n",
              "  <div id=\"df-8ced4229-d3e1-4c4b-9862-00cc08d399a8\">\n",
              "    <div class=\"colab-df-container\">\n",
              "      <div>\n",
              "<style scoped>\n",
              "    .dataframe tbody tr th:only-of-type {\n",
              "        vertical-align: middle;\n",
              "    }\n",
              "\n",
              "    .dataframe tbody tr th {\n",
              "        vertical-align: top;\n",
              "    }\n",
              "\n",
              "    .dataframe thead th {\n",
              "        text-align: right;\n",
              "    }\n",
              "</style>\n",
              "<table border=\"1\" class=\"dataframe\">\n",
              "  <thead>\n",
              "    <tr style=\"text-align: right;\">\n",
              "      <th></th>\n",
              "      <th>Largo_Sepalo</th>\n",
              "      <th>Ancho_Sepalo</th>\n",
              "      <th>Largo_Petalo</th>\n",
              "      <th>Ancho_Petalo</th>\n",
              "      <th>Cluster_Information</th>\n",
              "    </tr>\n",
              "  </thead>\n",
              "  <tbody>\n",
              "    <tr>\n",
              "      <th>0</th>\n",
              "      <td>5.1</td>\n",
              "      <td>3.5</td>\n",
              "      <td>1.4</td>\n",
              "      <td>0.2</td>\n",
              "      <td>0</td>\n",
              "    </tr>\n",
              "    <tr>\n",
              "      <th>1</th>\n",
              "      <td>4.9</td>\n",
              "      <td>3.0</td>\n",
              "      <td>1.4</td>\n",
              "      <td>0.2</td>\n",
              "      <td>0</td>\n",
              "    </tr>\n",
              "    <tr>\n",
              "      <th>2</th>\n",
              "      <td>4.7</td>\n",
              "      <td>3.2</td>\n",
              "      <td>1.3</td>\n",
              "      <td>0.2</td>\n",
              "      <td>0</td>\n",
              "    </tr>\n",
              "    <tr>\n",
              "      <th>3</th>\n",
              "      <td>4.6</td>\n",
              "      <td>3.1</td>\n",
              "      <td>1.5</td>\n",
              "      <td>0.2</td>\n",
              "      <td>0</td>\n",
              "    </tr>\n",
              "    <tr>\n",
              "      <th>4</th>\n",
              "      <td>5.0</td>\n",
              "      <td>3.6</td>\n",
              "      <td>1.4</td>\n",
              "      <td>0.2</td>\n",
              "      <td>0</td>\n",
              "    </tr>\n",
              "  </tbody>\n",
              "</table>\n",
              "</div>\n",
              "      <button class=\"colab-df-convert\" onclick=\"convertToInteractive('df-8ced4229-d3e1-4c4b-9862-00cc08d399a8')\"\n",
              "              title=\"Convert this dataframe to an interactive table.\"\n",
              "              style=\"display:none;\">\n",
              "        \n",
              "  <svg xmlns=\"http://www.w3.org/2000/svg\" height=\"24px\"viewBox=\"0 0 24 24\"\n",
              "       width=\"24px\">\n",
              "    <path d=\"M0 0h24v24H0V0z\" fill=\"none\"/>\n",
              "    <path d=\"M18.56 5.44l.94 2.06.94-2.06 2.06-.94-2.06-.94-.94-2.06-.94 2.06-2.06.94zm-11 1L8.5 8.5l.94-2.06 2.06-.94-2.06-.94L8.5 2.5l-.94 2.06-2.06.94zm10 10l.94 2.06.94-2.06 2.06-.94-2.06-.94-.94-2.06-.94 2.06-2.06.94z\"/><path d=\"M17.41 7.96l-1.37-1.37c-.4-.4-.92-.59-1.43-.59-.52 0-1.04.2-1.43.59L10.3 9.45l-7.72 7.72c-.78.78-.78 2.05 0 2.83L4 21.41c.39.39.9.59 1.41.59.51 0 1.02-.2 1.41-.59l7.78-7.78 2.81-2.81c.8-.78.8-2.07 0-2.86zM5.41 20L4 18.59l7.72-7.72 1.47 1.35L5.41 20z\"/>\n",
              "  </svg>\n",
              "      </button>\n",
              "      \n",
              "  <style>\n",
              "    .colab-df-container {\n",
              "      display:flex;\n",
              "      flex-wrap:wrap;\n",
              "      gap: 12px;\n",
              "    }\n",
              "\n",
              "    .colab-df-convert {\n",
              "      background-color: #E8F0FE;\n",
              "      border: none;\n",
              "      border-radius: 50%;\n",
              "      cursor: pointer;\n",
              "      display: none;\n",
              "      fill: #1967D2;\n",
              "      height: 32px;\n",
              "      padding: 0 0 0 0;\n",
              "      width: 32px;\n",
              "    }\n",
              "\n",
              "    .colab-df-convert:hover {\n",
              "      background-color: #E2EBFA;\n",
              "      box-shadow: 0px 1px 2px rgba(60, 64, 67, 0.3), 0px 1px 3px 1px rgba(60, 64, 67, 0.15);\n",
              "      fill: #174EA6;\n",
              "    }\n",
              "\n",
              "    [theme=dark] .colab-df-convert {\n",
              "      background-color: #3B4455;\n",
              "      fill: #D2E3FC;\n",
              "    }\n",
              "\n",
              "    [theme=dark] .colab-df-convert:hover {\n",
              "      background-color: #434B5C;\n",
              "      box-shadow: 0px 1px 3px 1px rgba(0, 0, 0, 0.15);\n",
              "      filter: drop-shadow(0px 1px 2px rgba(0, 0, 0, 0.3));\n",
              "      fill: #FFFFFF;\n",
              "    }\n",
              "  </style>\n",
              "\n",
              "      <script>\n",
              "        const buttonEl =\n",
              "          document.querySelector('#df-8ced4229-d3e1-4c4b-9862-00cc08d399a8 button.colab-df-convert');\n",
              "        buttonEl.style.display =\n",
              "          google.colab.kernel.accessAllowed ? 'block' : 'none';\n",
              "\n",
              "        async function convertToInteractive(key) {\n",
              "          const element = document.querySelector('#df-8ced4229-d3e1-4c4b-9862-00cc08d399a8');\n",
              "          const dataTable =\n",
              "            await google.colab.kernel.invokeFunction('convertToInteractive',\n",
              "                                                     [key], {});\n",
              "          if (!dataTable) return;\n",
              "\n",
              "          const docLinkHtml = 'Like what you see? Visit the ' +\n",
              "            '<a target=\"_blank\" href=https://colab.research.google.com/notebooks/data_table.ipynb>data table notebook</a>'\n",
              "            + ' to learn more about interactive tables.';\n",
              "          element.innerHTML = '';\n",
              "          dataTable['output_type'] = 'display_data';\n",
              "          await google.colab.output.renderOutput(dataTable, element);\n",
              "          const docLink = document.createElement('div');\n",
              "          docLink.innerHTML = docLinkHtml;\n",
              "          element.appendChild(docLink);\n",
              "        }\n",
              "      </script>\n",
              "    </div>\n",
              "  </div>\n",
              "  "
            ]
          },
          "metadata": {},
          "execution_count": 96
        }
      ],
      "source": [
        "# Add a new column to the dataset with the cluster information\n",
        "df.insert(4, \"Cluster_Information\", yestimated, True)\n",
        "df.head()"
      ]
    },
    {
      "cell_type": "code",
      "execution_count": 97,
      "metadata": {
        "colab": {
          "base_uri": "https://localhost:8080/"
        },
        "id": "yRpVjlY7OsLv",
        "outputId": "92d37093-754a-4300-8fa0-69179832fb39"
      },
      "outputs": [
        {
          "output_type": "execute_result",
          "data": {
            "text/plain": [
              "array([0, 1], dtype=int32)"
            ]
          },
          "metadata": {},
          "execution_count": 97
        }
      ],
      "source": [
        "# Label of the estimated clusters\n",
        "df.Cluster_Information.unique()"
      ]
    },
    {
      "cell_type": "code",
      "execution_count": 98,
      "metadata": {
        "colab": {
          "base_uri": "https://localhost:8080/"
        },
        "id": "XiL_DVNzOsLv",
        "outputId": "abcf5a06-0c30-4024-b33e-5ea9f84732e8"
      },
      "outputs": [
        {
          "output_type": "execute_result",
          "data": {
            "text/plain": [
              "array([[5.00566038, 3.36981132, 1.56037736, 0.29056604],\n",
              "       [6.30103093, 2.88659794, 4.95876289, 1.69587629]])"
            ]
          },
          "metadata": {},
          "execution_count": 98
        }
      ],
      "source": [
        "# Cluster centroides\n",
        "km.cluster_centers_"
      ]
    },
    {
      "cell_type": "code",
      "execution_count": 99,
      "metadata": {
        "colab": {
          "base_uri": "https://localhost:8080/"
        },
        "id": "vDYKLNP6OsLw",
        "outputId": "81d36f42-11ee-44fb-b523-f32fe6cfde82"
      },
      "outputs": [
        {
          "output_type": "execute_result",
          "data": {
            "text/plain": [
              "152.3479517603579"
            ]
          },
          "metadata": {},
          "execution_count": 99
        }
      ],
      "source": [
        "# Sum of squared error (sse) of the final model\n",
        "km.inertia_"
      ]
    },
    {
      "cell_type": "code",
      "execution_count": 100,
      "metadata": {
        "colab": {
          "base_uri": "https://localhost:8080/"
        },
        "id": "aLcf5IF9SFNp",
        "outputId": "4e45c0c0-d67c-47d4-95bf-914fe86216d2"
      },
      "outputs": [
        {
          "output_type": "execute_result",
          "data": {
            "text/plain": [
              "4"
            ]
          },
          "metadata": {},
          "execution_count": 100
        }
      ],
      "source": [
        "# The number of iterations required to converge\n",
        "km.n_iter_"
      ]
    },
    {
      "cell_type": "markdown",
      "metadata": {
        "id": "bIl3PK2uOsLw"
      },
      "source": [
        "# Plot estimated clusters\n"
      ]
    },
    {
      "cell_type": "code",
      "execution_count": 101,
      "metadata": {
        "colab": {
          "base_uri": "https://localhost:8080/",
          "height": 296
        },
        "id": "GXd9U5YQOsLx",
        "outputId": "7d003553-a014-4e2f-b66c-933ee0120cda"
      },
      "outputs": [
        {
          "output_type": "display_data",
          "data": {
            "text/plain": [
              "<Figure size 432x288 with 1 Axes>"
            ],
            "image/png": "[encoded data removed]"
          },
          "metadata": {
            "needs_background": "light"
          }
        }
      ],
      "source": [
        "# Get a dataframe with the data of each clsuter\n",
        "df1 = df[df.Cluster_Information == 0]\n",
        "df2 = df[df.Cluster_Information == 1]\n",
        "\n",
        "# Scatter plot of each cluster\n",
        "plt.scatter(df1.Largo_Sepalo, df1.Ancho_Sepalo, label = \"Cluster 0\", c = 'c', marker = 'o', alpha = 0.4)\n",
        "plt.scatter(df2.Largo_Sepalo, df2.Ancho_Sepalo, label = \"Cluster 1\", c = 'm', marker = 'o', alpha = 0.4)\n",
        "\n",
        "plt.title(\"Scatter plot of clusters\")\n",
        "plt.xlabel(\"Largo_Sepalo\")\n",
        "plt.ylabel(\"Ancho_Sepalo\")\n",
        "plt.legend()\n",
        "plt.show()"
      ]
    },
    {
      "cell_type": "markdown",
      "metadata": {
        "id": "ttmc-60MOsLx"
      },
      "source": [
        "# Selecting K: elbow plot\n",
        "\n",
        "Check the acurracy of the model using k-fold cross-validation"
      ]
    },
    {
      "cell_type": "code",
      "execution_count": 42,
      "metadata": {
        "id": "qAKTBLwIOsLx"
      },
      "outputs": [],
      "source": [
        "# Intialize a list to hold sum of squared error (sse)\n",
        "sse = []\n",
        "# Define values of k\n",
        "kNew = range(1,10)\n",
        "# For each k\n",
        "for i in kNew:\n",
        "  km = KMeans(n_clusters = i, n_init = \"auto\")\n",
        "  km.fit_predict(df[[\"Largo_Sepalo\", \"Ancho_Sepalo\"]])\n",
        "  sse.append(km.inertia_)"
      ]
    },
    {
      "cell_type": "code",
      "execution_count": 43,
      "metadata": {
        "colab": {
          "base_uri": "https://localhost:8080/",
          "height": 295
        },
        "id": "eUsVlTowOsLy",
        "outputId": "5ee7c596-cce8-470e-ca10-29c033a78604"
      },
      "outputs": [
        {
          "output_type": "display_data",
          "data": {
            "text/plain": [
              "<Figure size 432x288 with 1 Axes>"
            ],
            "image/png": "[encoded data removed]"
          },
          "metadata": {
            "needs_background": "light"
          }
        }
      ],
      "source": [
        "# Plot sse versus k\n",
        "plt.scatter(kNew, sse, c = \"m\", s = 60)\n",
        "plt.title(\"SSE vs k de Largo y Ancho de Sepalo\")\n",
        "plt.xlabel(\"k\")\n",
        "plt.ylabel(\"SSE\")\n",
        "plt.show()"
      ]
    },
    {
      "cell_type": "markdown",
      "metadata": {
        "id": "IXHO9FsVS4xb"
      },
      "source": [
        "Choose the k after which the sse is minimally reduced. Based on this analysis, it seem that the best k is 3.\n"
      ]
    },
    {
      "cell_type": "markdown",
      "metadata": {
        "id": "OfkQlxnKOsLy"
      },
      "source": [
        "<span style='color:Blue'> **Important remarks**  </span>\n",
        "\n",
        "- Observations?\n",
        "The use of scatter plot is helpful in ML analysis and to choose the best k for the clusters.\n"
      ]
    },
    {
      "cell_type": "markdown",
      "metadata": {
        "id": "kB0dvfzejdBM"
      },
      "source": [
        "# Activity: \n",
        "\n",
        "1. Repeat this analysis using other pair of features, e.g., x3 and x6\n",
        "\n",
        "2. Repeat this analysis using all six features, e.g., x1, x2,..., x6\n",
        "\n",
        "3. Provide conclusions"
      ]
    },
    {
      "cell_type": "code",
      "source": [
        "# Repeat the analysis using all six features\n",
        "sse = []\n",
        "# Define values of k\n",
        "kNew = range(1,10)\n",
        "# For each k\n",
        "for i in kNew:\n",
        "  km = KMeans(n_clusters = i, n_init = \"auto\")\n",
        "  km.fit_predict(df)\n",
        "  sse.append(km.inertia_)\n",
        "  # Plot sse versus k\n",
        "plt.scatter(kNew, sse, c = \"m\", s = 60)\n",
        "plt.title(\"SSE vs k\")\n",
        "plt.xlabel(\"k\")\n",
        "plt.ylabel(\"SSE\")\n",
        "plt.show()"
      ],
      "metadata": {
        "colab": {
          "base_uri": "https://localhost:8080/",
          "height": 295
        },
        "id": "lTYPU01ETV34",
        "outputId": "7ce501bf-c27f-4ee0-c7a6-e209784f9ef0"
      },
      "execution_count": 44,
      "outputs": [
        {
          "output_type": "display_data",
          "data": {
            "text/plain": [
              "<Figure size 432x288 with 1 Axes>"
            ],
            "image/png": "[encoded data removed]"
          },
          "metadata": {
            "needs_background": "light"
          }
        }
      ]
    },
    {
      "cell_type": "markdown",
      "source": [
        "# Conclusion\n",
        "As seen above, when the SSE is obtained considering all features, the best k is 2. However, when looking at this analysis only from the perspective of two individual features, this answer changes, as seen previusly. "
      ],
      "metadata": {
        "id": "e2Iujc9QTj0s"
      }
    },
    {
      "cell_type": "markdown",
      "metadata": {
        "id": "9uYpbxmyiii0"
      },
      "source": [
        "# Activity: work with the iris dataset\n",
        "\n",
        "    \n",
        "1. Do clustering with the iris flower dataset to form clusters using as features the four features\n",
        "\n",
        "2. Do clustering with the iris flower dataset to form clusters using as features the two petal measurements: Drop out the other two features\n",
        "\n",
        "3. Do clustering with the iris flower dataset to form clusters using as features the two sepal measurements: Drop out the other two features\n",
        "\n",
        "4. Which one provides the better grouping? Solve this using programming skills, e.g., compute performance metrics**\n"
      ]
    },
    {
      "cell_type": "code",
      "source": [
        "# 1.\n",
        "# Making the clusters\n",
        "df.drop(\"Cluster_Information\", axis = 1)\n",
        "\n",
        "K  =  2\n",
        "km = KMeans(n_clusters = K, n_init = \"auto\")\n",
        "yestimated = km.fit_predict(df)\n",
        "df.insert(4, \"Cluster\", yestimated, True)\n",
        "# Scatter plot of each cluster on Petal\n",
        "plt.subplot(1,2,1)\n",
        "df1 = df[df.Cluster == 0]\n",
        "df2 = df[df.Cluster == 1]\n",
        "plt.scatter(df1.Largo_Petalo, df1.Ancho_Petalo, label = \"Cluster 0\", c = 'b', marker = 'o', alpha = 0.4)\n",
        "plt.scatter(df2.Largo_Petalo, df2.Ancho_Petalo, label = \"Cluster 1\", c = 'g', marker = 'o', alpha = 0.4)\n",
        "plt.title(\"Scatter plot of clusters Petal\")\n",
        "plt.xlabel(\"Largo_Petalo\")\n",
        "plt.ylabel(\"Ancho_Petalo\")\n",
        "plt.legend()\n",
        "# Scatter plot of each cluster on Setal\n",
        "plt.subplot(1,2,2)\n",
        "df1 = df[df.Cluster == 0]\n",
        "df2 = df[df.Cluster == 1]\n",
        "plt.scatter(df1.Largo_Sepalo, df1.Ancho_Sepalo, label = \"Cluster 0\", c = 'b', marker = 'o', alpha = 0.4)\n",
        "plt.scatter(df2.Largo_Sepalo, df2.Ancho_Sepalo, label = \"Cluster 1\", c = 'g', marker = 'o', alpha = 0.4)\n",
        "plt.title(\"Scatter plot of clusters Setal\")\n",
        "plt.xlabel(\"Largo_Sepalo\")\n",
        "plt.ylabel(\"Ancho_Sepalo\")\n",
        "plt.legend()\n",
        "plt.show()"
      ],
      "metadata": {
        "colab": {
          "base_uri": "https://localhost:8080/",
          "height": 296
        },
        "id": "Y7zc56lVUVIM",
        "outputId": "333067ba-806f-4362-e8ad-6239c006bf24"
      },
      "execution_count": 124,
      "outputs": [
        {
          "output_type": "display_data",
          "data": {
            "text/plain": [
              "<Figure size 432x288 with 2 Axes>"
            ],
            "image/png": "[encoded data removed]"
          },
          "metadata": {
            "needs_background": "light"
          }
        }
      ]
    },
    {
      "cell_type": "code",
      "source": [
        "# 2.\n",
        "df.drop(\"Cluster\", axis = 1)\n",
        "df20 = df.drop([\"Largo_Sepalo\", \"Ancho_Sepalo\"], axis = 1)\n",
        "# Making the clusters\n",
        "K  =  2\n",
        "km = KMeans(n_clusters = K, n_init = \"auto\")\n",
        "yestimated = km.fit_predict(df20)\n",
        "df20.insert(2, \"Cluster_Information\", yestimated, True)\n",
        "# Scatter plot of each cluster\n",
        "df1 = df20[df20.Cluster_Information == 0]\n",
        "df2 = df20[df20.Cluster_Information == 1]\n",
        "plt.scatter(df1.Largo_Petalo, df1.Ancho_Petalo, label = \"Cluster 0\", c = 'c', marker = 'o', alpha = 0.4)\n",
        "plt.scatter(df2.Largo_Petalo, df2.Ancho_Petalo, label = \"Cluster 1\", c = 'm', marker = 'o', alpha = 0.4)\n",
        "\n",
        "plt.title(\"Scatter plot of clusters Ex.2\")\n",
        "plt.xlabel(\"Largo_Petalo\")\n",
        "plt.ylabel(\"Ancho_Petalo\")\n",
        "plt.legend()\n",
        "plt.show()"
      ],
      "metadata": {
        "colab": {
          "base_uri": "https://localhost:8080/",
          "height": 296
        },
        "id": "NGJdgCJZUoYH",
        "outputId": "76f077ef-3a7d-432f-98ee-9eab207c7505"
      },
      "execution_count": 126,
      "outputs": [
        {
          "output_type": "display_data",
          "data": {
            "text/plain": [
              "<Figure size 432x288 with 1 Axes>"
            ],
            "image/png": "[encoded data removed]"
          },
          "metadata": {
            "needs_background": "light"
          }
        }
      ]
    },
    {
      "cell_type": "code",
      "source": [
        "# 3.\n",
        "df.drop(\"Cluster\", axis = 1)\n",
        "df30 = df.drop([\"Largo_Petalo\", \"Ancho_Petalo\"], axis = 1)\n",
        "# Making the clusters\n",
        "K  =  2\n",
        "km = KMeans(n_clusters = K, n_init = \"auto\")\n",
        "yestimated = km.fit_predict(df30)\n",
        "df30.insert(2, \"Cluster_Information\", yestimated, True)\n",
        "# Scatter plot of each cluster\n",
        "df1 = df30[df30.Cluster_Information == 0]\n",
        "df2 = df30[df30.Cluster_Information == 1]\n",
        "plt.scatter(df1.Largo_Sepalo, df1.Ancho_Sepalo, label = \"Cluster 0\", c = 'b', marker = 'o', alpha = 0.4)\n",
        "plt.scatter(df2.Largo_Sepalo, df2.Ancho_Sepalo, label = \"Cluster 1\", c = 'y', marker = 'o', alpha = 0.4)\n",
        "\n",
        "plt.title(\"Scatter plot of clusters Ex.3\")\n",
        "plt.xlabel(\"Largo_Sepalo\")\n",
        "plt.ylabel(\"Ancho_Sepalo\")\n",
        "plt.legend()\n",
        "plt.show()"
      ],
      "metadata": {
        "colab": {
          "base_uri": "https://localhost:8080/",
          "height": 296
        },
        "id": "EdkrVEa0RAl0",
        "outputId": "f63d6b3e-d3ad-49e8-b45c-8a7230184541"
      },
      "execution_count": 128,
      "outputs": [
        {
          "output_type": "display_data",
          "data": {
            "text/plain": [
              "<Figure size 432x288 with 1 Axes>"
            ],
            "image/png": "[encoded data removed]"
          },
          "metadata": {
            "needs_background": "light"
          }
        }
      ]
    }
  ],
  "metadata": {
    "colab": {
      "provenance": []
    },
    "kernelspec": {
      "display_name": "Python 3",
      "language": "python",
      "name": "python3"
    },
    "language_info": {
      "codemirror_mode": {
        "name": "ipython",
        "version": 3
      },
      "file_extension": ".py",
      "mimetype": "text/x-python",
      "name": "python",
      "nbconvert_exporter": "python",
      "pygments_lexer": "ipython3",
      "version": "3.8.3"
    }
  },
  "nbformat": 4,
  "nbformat_minor": 0
}