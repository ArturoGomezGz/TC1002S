{
 "cells": [
  {
   "cell_type": "markdown",
   "metadata": {},
   "source": [
    "# A1_DatasetIris\n",
    "\n",
    "## Diego Partida Romero - A0164113\n",
    "\n",
    "### Activity: work with the iris dataset\n",
    "\n",
    "1. Load the iris.csv file in your computer and understand the dataset\n",
    "\n",
    "\n",
    "2. How many observations (rows) are in total?\n",
    "\n",
    "\n",
    "3. How many variables (columns) are in total? What do they represent?\n",
    "\n",
    "\n",
    "4. How many observations are for each type of flower?\n",
    "\n",
    "\n",
    "5. What is the type of data for each variable?\n",
    "\n",
    "\n",
    "6. What are the units of each variable?\n"
   ]
  },
  {
   "cell_type": "code",
   "execution_count": 2,
   "metadata": {},
   "outputs": [
    {
     "name": "stdout",
     "output_type": "stream",
     "text": [
      "/Users/diegopartida/Desktop/TEC/Semestre6/ArteAnalitica/TC1002S/NotebooksStudents/A01641113\n"
     ]
    }
   ],
   "source": [
    "# Path\n",
    "import os\n",
    "\n",
    "project_path = os.getcwd()\n",
    "print(project_path)"
   ]
  },
  {
   "cell_type": "code",
   "execution_count": 3,
   "metadata": {},
   "outputs": [
    {
     "name": "stdout",
     "output_type": "stream",
     "text": [
      "     5.1  3.5  1.4  0.2     Iris-setosa\n",
      "0    4.9  3.0  1.4  0.2     Iris-setosa\n",
      "1    4.7  3.2  1.3  0.2     Iris-setosa\n",
      "2    4.6  3.1  1.5  0.2     Iris-setosa\n",
      "3    5.0  3.6  1.4  0.2     Iris-setosa\n",
      "4    5.4  3.9  1.7  0.4     Iris-setosa\n",
      "..   ...  ...  ...  ...             ...\n",
      "144  6.7  3.0  5.2  2.3  Iris-virginica\n",
      "145  6.3  2.5  5.0  1.9  Iris-virginica\n",
      "146  6.5  3.0  5.2  2.0  Iris-virginica\n",
      "147  6.2  3.4  5.4  2.3  Iris-virginica\n",
      "148  5.9  3.0  5.1  1.8  Iris-virginica\n",
      "\n",
      "[149 rows x 5 columns]\n"
     ]
    }
   ],
   "source": [
    "# 1. Import pandas and load the file\n",
    "import pandas as pd\n",
    "\n",
    "# Load the iris.csv file\n",
    "df = pd.read_csv('iris.csv')\n",
    "\n",
    "# Display the dataframe\n",
    "print(df)\n"
   ]
  },
  {
   "cell_type": "code",
   "execution_count": 4,
   "metadata": {},
   "outputs": [
    {
     "name": "stdout",
     "output_type": "stream",
     "text": [
      "149\n"
     ]
    }
   ],
   "source": [
    "# 2. How many observations (rows) are in total?\n",
    "num_observations = df.shape[0]\n",
    "print(num_observations)\n"
   ]
  },
  {
   "cell_type": "code",
   "execution_count": 5,
   "metadata": {},
   "outputs": [
    {
     "name": "stdout",
     "output_type": "stream",
     "text": [
      "5\n"
     ]
    }
   ],
   "source": [
    "# 3. How many variables (columns) are in total? What do they represent?\n",
    "num_variables = df.shape[1]\n",
    "print(num_variables)\n"
   ]
  },
  {
   "cell_type": "code",
   "execution_count": null,
   "metadata": {},
   "outputs": [],
   "source": [
    "# 4. How many observations are for each type of flower?\n",
    "flower_counts = df['FlowerType'].value_counts()\n",
    "print(flower_counts)\n"
   ]
  },
  {
   "cell_type": "code",
   "execution_count": 6,
   "metadata": {},
   "outputs": [
    {
     "name": "stdout",
     "output_type": "stream",
     "text": [
      "Variable Name: df\n",
      "Variable Type: <class 'pandas.core.frame.DataFrame'>\n",
      "\n",
      "Variable Name: num_observations\n",
      "Variable Type: <class 'int'>\n",
      "\n",
      "Variable Name: num_variables\n",
      "Variable Type: <class 'int'>\n",
      "\n",
      "Variable Name: os\n",
      "Variable Type: <class 'module'>\n",
      "\n",
      "Variable Name: pd\n",
      "Variable Type: <class 'module'>\n",
      "\n",
      "Variable Name: project_path\n",
      "Variable Type: <class 'str'>\n",
      "\n"
     ]
    }
   ],
   "source": [
    "# 5. What is the type of data for each variable?\n",
    "variable_types = {\n",
    "    'df': type(df),\n",
    "    'num_observations': type(num_observations),\n",
    "    'num_variables': type(num_variables),\n",
    "    'os': type(os),\n",
    "    'pd': type(pd),\n",
    "    'project_path': type(project_path)\n",
    "}\n",
    "\n",
    "for variable_name, variable_type in variable_types.items():\n",
    "    print(f\"Variable Name: {variable_name}\")\n",
    "    print(f\"Variable Type: {variable_type}\")\n",
    "    print()"
   ]
  },
  {
   "cell_type": "code",
   "execution_count": null,
   "metadata": {},
   "outputs": [],
   "source": [
    "# 6. What are the units of each variable?\n"
   ]
  }
 ],
 "metadata": {
  "kernelspec": {
   "display_name": "Python 3",
   "language": "python",
   "name": "python3"
  },
  "language_info": {
   "codemirror_mode": {
    "name": "ipython",
    "version": 3
   },
   "file_extension": ".py",
   "mimetype": "text/x-python",
   "name": "python",
   "nbconvert_exporter": "python",
   "pygments_lexer": "ipython3",
   "version": "3.12.0"
  }
 },
 "nbformat": 4,
 "nbformat_minor": 2
}
