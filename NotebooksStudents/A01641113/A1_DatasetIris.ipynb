{
 "cells": [
  {
   "cell_type": "markdown",
   "metadata": {},
   "source": [
    "# A1_DatasetIris\n",
    "\n",
    "## Diego Partida Romero - A0164113\n",
    "\n",
    "### Activity: work with the iris dataset\n",
    "\n",
    "1. Load the iris.csv file in your computer and understand the dataset\n",
    "2. How many observations (rows) are in total?\n",
    "3. How many variables (columns) are in total? What do they represent?\n",
    "4. How many observations are for each type of flower?\n",
    "5. What is the type of data for each variable?\n",
    "6. What are the units of each variable?"
   ]
  },
  {
   "cell_type": "code",
   "execution_count": 64,
   "metadata": {},
   "outputs": [
    {
     "name": "stdout",
     "output_type": "stream",
     "text": [
      "/Users/diegopartida/Desktop/TEC/Semestre6/ArteAnalitica/TC1002S/NotebooksStudents/A01641113\n"
     ]
    }
   ],
   "source": [
    "# Path\n",
    "import os\n",
    "\n",
    "project_path = os.getcwd()\n",
    "print(project_path)"
   ]
  },
  {
   "cell_type": "markdown",
   "metadata": {},
   "source": [
    "### 1. Load the iris.csv file in your computer and understand the dataset"
   ]
  },
  {
   "cell_type": "code",
   "execution_count": 65,
   "metadata": {},
   "outputs": [
    {
     "name": "stdout",
     "output_type": "stream",
     "text": [
      "     sepal_l (cm)  sepal_w (cm)  petal_l (cm)  petal_w (cm)     flower_type\n",
      "0             5.1           3.5           1.4           0.2     Iris-setosa\n",
      "1             4.9           3.0           1.4           0.2     Iris-setosa\n",
      "2             4.7           3.2           1.3           0.2     Iris-setosa\n",
      "3             4.6           3.1           1.5           0.2     Iris-setosa\n",
      "4             5.0           3.6           1.4           0.2     Iris-setosa\n",
      "..            ...           ...           ...           ...             ...\n",
      "145           6.7           3.0           5.2           2.3  Iris-virginica\n",
      "146           6.3           2.5           5.0           1.9  Iris-virginica\n",
      "147           6.5           3.0           5.2           2.0  Iris-virginica\n",
      "148           6.2           3.4           5.4           2.3  Iris-virginica\n",
      "149           5.9           3.0           5.1           1.8  Iris-virginica\n",
      "\n",
      "[150 rows x 5 columns]\n"
     ]
    }
   ],
   "source": [
    "# 1. Import pandas and load the file\n",
    "import pandas as pd\n",
    "\n",
    "# Load the iris.csv file\n",
    "df = pd.read_csv('iris.csv')\n",
    "\n",
    "# Display the dataframe\n",
    "print(df)\n"
   ]
  },
  {
   "cell_type": "markdown",
   "metadata": {},
   "source": [
    "### 2. How many observations (rows) are in total?"
   ]
  },
  {
   "cell_type": "code",
   "execution_count": 66,
   "metadata": {},
   "outputs": [
    {
     "name": "stdout",
     "output_type": "stream",
     "text": [
      "The number of rows is: 150\n"
     ]
    }
   ],
   "source": [
    "# 2. How many observations (rows) are in total?\n",
    "num_observations = df.shape[0]\n",
    "print(f\"The number of rows is: {num_observations}\")\n"
   ]
  },
  {
   "cell_type": "markdown",
   "metadata": {},
   "source": [
    "### 3. How many variables (columns) are in total? What do they represent?"
   ]
  },
  {
   "cell_type": "code",
   "execution_count": 67,
   "metadata": {},
   "outputs": [
    {
     "name": "stdout",
     "output_type": "stream",
     "text": [
      "5\n"
     ]
    }
   ],
   "source": [
    "# 3. How many variables (columns) are in total? What do they represent?\n",
    "num_variables = df.shape[1]\n",
    "print(num_variables)\n"
   ]
  },
  {
   "cell_type": "markdown",
   "metadata": {},
   "source": [
    "### 4. How many observations are for each type of flower?"
   ]
  },
  {
   "cell_type": "code",
   "execution_count": 68,
   "metadata": {},
   "outputs": [
    {
     "name": "stdout",
     "output_type": "stream",
     "text": [
      "The number of observations for each type of flower:\n",
      "flower_type\n",
      "Iris-setosa        50\n",
      "Iris-versicolor    50\n",
      "Iris-virginica     50\n",
      "Name: count, dtype: int64\n"
     ]
    }
   ],
   "source": [
    "# 4. How many observations are for each type of flower?\n",
    "flower_counts = df['flower_type'].value_counts()\n",
    "print(f\"The number of observations for each type of flower:\\n{flower_counts}\")\n"
   ]
  },
  {
   "cell_type": "markdown",
   "metadata": {},
   "source": [
    "### 5. What is the type of data for each variable?"
   ]
  },
  {
   "cell_type": "code",
   "execution_count": 78,
   "metadata": {},
   "outputs": [
    {
     "name": "stdout",
     "output_type": "stream",
     "text": [
      "sepal_l (cm)    float64\n",
      "sepal_w (cm)    float64\n",
      "petal_l (cm)    float64\n",
      "petal_w (cm)    float64\n",
      "flower_type      object\n",
      "dtype: object\n"
     ]
    }
   ],
   "source": [
    "variable_types = df.dtypes\n",
    "print(variable_types)\n"
   ]
  },
  {
   "cell_type": "markdown",
   "metadata": {},
   "source": [
    "### 6. What are the units of each variable?\n",
    "\n",
    "The units for sepal_length, sepal_width, petal_length and petal_width are cm"
   ]
  },
  {
   "cell_type": "code",
   "execution_count": 77,
   "metadata": {},
   "outputs": [
    {
     "name": "stdout",
     "output_type": "stream",
     "text": [
      "Units of each variable:\n",
      "{'sepal_length': 'cm', 'sepal_width': 'cm', 'petal_length': 'cm', 'petal_width': 'cm'}\n"
     ]
    }
   ],
   "source": [
    "# 6. What are the units of each variable?\n",
    "units = {'sepal_length': 'cm', 'sepal_width': 'cm', 'petal_length': 'cm', 'petal_width': 'cm'}\n",
    "print(\"Units of each variable:\")\n",
    "print(units)"
   ]
  }
 ],
 "metadata": {
  "kernelspec": {
   "display_name": "Python 3",
   "language": "python",
   "name": "python3"
  },
  "language_info": {
   "codemirror_mode": {
    "name": "ipython",
    "version": 3
   },
   "file_extension": ".py",
   "mimetype": "text/x-python",
   "name": "python",
   "nbconvert_exporter": "python",
   "pygments_lexer": "ipython3",
   "version": "3.12.0"
  }
 },
 "nbformat": 4,
 "nbformat_minor": 2
}
