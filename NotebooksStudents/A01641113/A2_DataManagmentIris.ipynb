{
 "cells": [
  {
   "cell_type": "markdown",
   "metadata": {},
   "source": [
    "# A2_DataManagmentCartWheel\n",
    "\n",
    "## Diego Partida Romero - A0164113\n",
    "\n",
    "### Activity: work with the iris dataset\n",
    "\n",
    "Repeat this tutorial with the iris data set and respond to the following inquiries\n",
    "\n",
    "1. Calculate the statistical summary for each quantitative variables. Explain the results\n",
    "    - Identify the name of each column\n",
    "    - Identify the type of each column\n",
    "    - Minimum, maximum, mean, average, median, standar deviation\n",
    "    \n",
    "2. Are there missing data? If so, create a new dataset containing only the rows with the non-missing data\n",
    "\n",
    "3. Create a new dataset containing only the petal width and length and the type of Flower\n",
    "\n",
    "4. Create a new dataset containing only the setal width and length and the type of Flower\n",
    "\n",
    "5. Create a new dataset containing the setal width and length and the type of Flower encoded as a categorical numerical column \n"
   ]
  },
  {
   "cell_type": "code",
   "execution_count": 2,
   "metadata": {},
   "outputs": [],
   "source": [
    "# Import pandas and load the file\n",
    "import pandas as pd\n",
    "\n",
    "# Load the iris.csv file\n",
    "df = pd.read_csv('iris.csv')\n",
    "\n",
    "# Display the dataframe\n",
    "#print(df)"
   ]
  },
  {
   "cell_type": "markdown",
   "metadata": {},
   "source": [
    "### 1. Calculate the statistical summary for each quantitative variables. Explain the results\n",
    "    - Identify the name of each column\n",
    "    - Identify the type of each column\n",
    "    - Minimum, maximum, mean, average, median, standar deviation"
   ]
  },
  {
   "cell_type": "code",
   "execution_count": 3,
   "metadata": {},
   "outputs": [
    {
     "data": {
      "text/html": [
       "<div>\n",
       "<style scoped>\n",
       "    .dataframe tbody tr th:only-of-type {\n",
       "        vertical-align: middle;\n",
       "    }\n",
       "\n",
       "    .dataframe tbody tr th {\n",
       "        vertical-align: top;\n",
       "    }\n",
       "\n",
       "    .dataframe thead th {\n",
       "        text-align: right;\n",
       "    }\n",
       "</style>\n",
       "<table border=\"1\" class=\"dataframe\">\n",
       "  <thead>\n",
       "    <tr style=\"text-align: right;\">\n",
       "      <th></th>\n",
       "      <th>sepal_l (cm)</th>\n",
       "      <th>sepal_w (cm)</th>\n",
       "      <th>petal_l (cm)</th>\n",
       "      <th>petal_w (cm)</th>\n",
       "    </tr>\n",
       "  </thead>\n",
       "  <tbody>\n",
       "    <tr>\n",
       "      <th>count</th>\n",
       "      <td>150.000000</td>\n",
       "      <td>150.000000</td>\n",
       "      <td>150.000000</td>\n",
       "      <td>150.000000</td>\n",
       "    </tr>\n",
       "    <tr>\n",
       "      <th>mean</th>\n",
       "      <td>5.843333</td>\n",
       "      <td>3.057333</td>\n",
       "      <td>3.758000</td>\n",
       "      <td>1.199333</td>\n",
       "    </tr>\n",
       "    <tr>\n",
       "      <th>std</th>\n",
       "      <td>0.828066</td>\n",
       "      <td>0.435866</td>\n",
       "      <td>1.765298</td>\n",
       "      <td>0.762238</td>\n",
       "    </tr>\n",
       "    <tr>\n",
       "      <th>min</th>\n",
       "      <td>4.300000</td>\n",
       "      <td>2.000000</td>\n",
       "      <td>1.000000</td>\n",
       "      <td>0.100000</td>\n",
       "    </tr>\n",
       "    <tr>\n",
       "      <th>25%</th>\n",
       "      <td>5.100000</td>\n",
       "      <td>2.800000</td>\n",
       "      <td>1.600000</td>\n",
       "      <td>0.300000</td>\n",
       "    </tr>\n",
       "    <tr>\n",
       "      <th>50%</th>\n",
       "      <td>5.800000</td>\n",
       "      <td>3.000000</td>\n",
       "      <td>4.350000</td>\n",
       "      <td>1.300000</td>\n",
       "    </tr>\n",
       "    <tr>\n",
       "      <th>75%</th>\n",
       "      <td>6.400000</td>\n",
       "      <td>3.300000</td>\n",
       "      <td>5.100000</td>\n",
       "      <td>1.800000</td>\n",
       "    </tr>\n",
       "    <tr>\n",
       "      <th>max</th>\n",
       "      <td>7.900000</td>\n",
       "      <td>4.400000</td>\n",
       "      <td>6.900000</td>\n",
       "      <td>2.500000</td>\n",
       "    </tr>\n",
       "  </tbody>\n",
       "</table>\n",
       "</div>"
      ],
      "text/plain": [
       "       sepal_l (cm)  sepal_w (cm)  petal_l (cm)  petal_w (cm)\n",
       "count    150.000000    150.000000    150.000000    150.000000\n",
       "mean       5.843333      3.057333      3.758000      1.199333\n",
       "std        0.828066      0.435866      1.765298      0.762238\n",
       "min        4.300000      2.000000      1.000000      0.100000\n",
       "25%        5.100000      2.800000      1.600000      0.300000\n",
       "50%        5.800000      3.000000      4.350000      1.300000\n",
       "75%        6.400000      3.300000      5.100000      1.800000\n",
       "max        7.900000      4.400000      6.900000      2.500000"
      ]
     },
     "execution_count": 3,
     "metadata": {},
     "output_type": "execute_result"
    }
   ],
   "source": [
    "df.describe()\n",
    "\n"
   ]
  },
  {
   "cell_type": "markdown",
   "metadata": {},
   "source": [
    "### 2. Are there missing data? If so, create a new dataset containing only the rows with the non-missing data"
   ]
  },
  {
   "cell_type": "code",
   "execution_count": 9,
   "metadata": {},
   "outputs": [
    {
     "name": "stdout",
     "output_type": "stream",
     "text": [
      "Missing Data:\n",
      "sepal_l (cm)    0\n",
      "sepal_w (cm)    0\n",
      "petal_l (cm)    0\n",
      "petal_w (cm)    0\n",
      "flower_type     0\n",
      "dtype: int64\n"
     ]
    }
   ],
   "source": [
    "# 2. Are there missing data? If so, create a new dataset containing only the rows with the non-missing data\n",
    "\n",
    "# Check for missing data\n",
    "missing_data = df.isnull().sum()\n",
    "print(\"Missing Data:\")\n",
    "print(missing_data)\n",
    "\n",
    "# Create new dataset with non-missing data\n",
    "cleaned_data = df.dropna()\n",
    "\n"
   ]
  },
  {
   "cell_type": "markdown",
   "metadata": {},
   "source": [
    "### 3. Create a new dataset containing only the petal width and length and the type of Flower"
   ]
  },
  {
   "cell_type": "code",
   "execution_count": 10,
   "metadata": {},
   "outputs": [
    {
     "name": "stdout",
     "output_type": "stream",
     "text": [
      "     petal_w (cm)  petal_l (cm)     flower_type\n",
      "0             0.2           1.4     Iris-setosa\n",
      "1             0.2           1.4     Iris-setosa\n",
      "2             0.2           1.3     Iris-setosa\n",
      "3             0.2           1.5     Iris-setosa\n",
      "4             0.2           1.4     Iris-setosa\n",
      "..            ...           ...             ...\n",
      "145           2.3           5.2  Iris-virginica\n",
      "146           1.9           5.0  Iris-virginica\n",
      "147           2.0           5.2  Iris-virginica\n",
      "148           2.3           5.4  Iris-virginica\n",
      "149           1.8           5.1  Iris-virginica\n",
      "\n",
      "[150 rows x 3 columns]\n",
      "   petal_l (cm)  petal_w (cm)  flower_type\n",
      "0           1.4           0.2  Iris-setosa\n",
      "1           1.4           0.2  Iris-setosa\n",
      "2           1.3           0.2  Iris-setosa\n",
      "3           1.5           0.2  Iris-setosa\n",
      "4           1.4           0.2  Iris-setosa\n"
     ]
    }
   ],
   "source": [
    "petal_data = df[['petal_l (cm)', 'petal_w (cm)', 'flower_type']]\n",
    "print(petal_data.head())\n",
    "\n"
   ]
  },
  {
   "cell_type": "markdown",
   "metadata": {},
   "source": [
    "### 4. Create a new dataset containing only the setal width and length and the type of Flower"
   ]
  },
  {
   "cell_type": "code",
   "execution_count": 11,
   "metadata": {},
   "outputs": [
    {
     "name": "stdout",
     "output_type": "stream",
     "text": [
      "   sepal_l (cm)  sepal_w (cm)  flower_type\n",
      "0           5.1           3.5  Iris-setosa\n",
      "1           4.9           3.0  Iris-setosa\n",
      "2           4.7           3.2  Iris-setosa\n",
      "3           4.6           3.1  Iris-setosa\n",
      "4           5.0           3.6  Iris-setosa\n"
     ]
    }
   ],
   "source": [
    "sepal_data = df[['sepal_l (cm)', 'sepal_w (cm)', 'flower_type']]\n",
    "print(sepal_data.head())\n",
    "\n"
   ]
  },
  {
   "cell_type": "markdown",
   "metadata": {},
   "source": [
    "### 5. Create a new dataset containing the sepal width and length and the type of Flower encoded as a categorical numerical column"
   ]
  },
  {
   "cell_type": "code",
   "execution_count": 13,
   "metadata": {},
   "outputs": [
    {
     "name": "stdout",
     "output_type": "stream",
     "text": [
      "   sepal_l (cm)  sepal_w (cm)  flower_type_encoded\n",
      "0           5.1           3.5                    0\n",
      "1           4.9           3.0                    0\n",
      "2           4.7           3.2                    0\n",
      "3           4.6           3.1                    0\n",
      "4           5.0           3.6                    0\n"
     ]
    }
   ],
   "source": [
    "# Encode flower type as categorical numerical column\n",
    "df['flower_type_encoded'] = pd.Categorical(df['flower_type']).codes\n",
    "\n",
    "# Create new dataset with sepal width, sepal length, and encoded flower type\n",
    "encoded_data = df[['sepal_l (cm)', 'sepal_w (cm)', 'flower_type_encoded']]\n",
    "print(encoded_data.head())\n"
   ]
  }
 ],
 "metadata": {
  "kernelspec": {
   "display_name": "Python 3",
   "language": "python",
   "name": "python3"
  },
  "language_info": {
   "codemirror_mode": {
    "name": "ipython",
    "version": 3
   },
   "file_extension": ".py",
   "mimetype": "text/x-python",
   "name": "python",
   "nbconvert_exporter": "python",
   "pygments_lexer": "ipython3",
   "version": "3.12.0"
  }
 },
 "nbformat": 4,
 "nbformat_minor": 2
}
