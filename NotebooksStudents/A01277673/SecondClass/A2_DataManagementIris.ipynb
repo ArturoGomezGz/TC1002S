{
 "cells": [
  {
   "metadata": {},
   "cell_type": "markdown",
   "source": [
    "# Activity: work with the iris dataset\n",
    "\n",
    "Repeat this tutorial with the iris data set and respond to the following inquiries\n",
    "\n",
    "1. Calculate the statistical summary for each quantitative variables. Explain the results\n",
    "    - Identify the name of each column\n",
    "    - Identify the type of each column\n",
    "    - Minimum, maximum, mean, average, median, standar deviation\n",
    "    \n",
    "    \n",
    "2. Are there missing data? If so, create a new dataset containing only the rows with the non-missing data\n",
    "\n",
    "\n",
    "3. Create a new dataset containing only the petal width and length and the type of Flower\n",
    "\n",
    "\n",
    "4. Create a new dataset containing only the setal width and length and the type of Flower\n",
    "\n",
    "\n",
    "5. Create a new dataset containing the setal width and length and the type of Flower encoded as a categorical numerical column\n",
    "\n"
   ],
   "id": "2a110f740353ba8"
  },
  {
   "metadata": {
    "ExecuteTime": {
     "end_time": "2024-09-10T15:09:55.473781Z",
     "start_time": "2024-09-10T15:09:54.055025Z"
    }
   },
   "cell_type": "code",
   "source": [
    "# Importing libraries and dataset\n",
    "from sklearn.datasets import load_iris\n",
    "import pandas as pd\n",
    "\n",
    "# Load the Iris dataset\n",
    "iris = load_iris()\n",
    "\n",
    "# Convert to a Pandas DataFrame for easier manipulation\n",
    "mainDf = pd.DataFrame(data=iris.data, columns=iris.feature_names)\n",
    "\n",
    "# Add target (species) column\n",
    "\n"
   ],
   "id": "ce352c2d9640117",
   "outputs": [
    {
     "name": "stdout",
     "output_type": "stream",
     "text": [
      "['/Users/benjaminortiz/Documents/GitHub/TC1002S/NotebooksStudents/A01277673/SecondClass', '/Library/Developer/CommandLineTools/Library/Frameworks/Python3.framework/Versions/3.9/lib/python39.zip', '/Library/Developer/CommandLineTools/Library/Frameworks/Python3.framework/Versions/3.9/lib/python3.9', '/Library/Developer/CommandLineTools/Library/Frameworks/Python3.framework/Versions/3.9/lib/python3.9/lib-dynload', '', '/Users/benjaminortiz/Library/Python/3.9/lib/python/site-packages', '/Library/Developer/CommandLineTools/Library/Frameworks/Python3.framework/Versions/3.9/lib/python3.9/site-packages', '/Library/Python/3.9/site-packages']\n"
     ]
    }
   ],
   "execution_count": 1
  }
 ],
 "metadata": {
  "kernelspec": {
   "display_name": "Python 3",
   "language": "python",
   "name": "python3"
  },
  "language_info": {
   "codemirror_mode": {
    "name": "ipython",
    "version": 2
   },
   "file_extension": ".py",
   "mimetype": "text/x-python",
   "name": "python",
   "nbconvert_exporter": "python",
   "pygments_lexer": "ipython2",
   "version": "2.7.6"
  }
 },
 "nbformat": 4,
 "nbformat_minor": 5
}
