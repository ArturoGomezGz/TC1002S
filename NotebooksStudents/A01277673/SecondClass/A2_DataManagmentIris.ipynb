{
 "cells": [
  {
   "cell_type": "markdown",
   "metadata": {
    "id": "GPScbsDWhjjS"
   },
   "source": [
    "# Data management using Pandas\n",
    "\n",
    "**Data management** is a crucial component to statistical analysis and data science work.\n",
    "\n",
    "This notebook will show you how to import, view, undertand, and manage your data using the [Pandas](http://pandas.pydata.org) data processing library, i.e., the notebook will demonstrates how to read a dataset into Python, and obtain a basic understanding of its content.\n",
    "\n",
    "Note that **Python** by itself is a general-purpose programming language and does not provide high-level data processing capabilities.  The **Pandas** library was developed to meet this need. **Pandas** is the most popular Python library for data manipulation, and we will use it extensively in this course. **Pandas** provides high-performance, easy-to-use data structures and data analysis tools.\n",
    "\n",
    "The main data structure that **Pandas** works with is called a **Data Frame**. This is a two-dimensional table of data in which the rows typically\n",
    "represent cases and the columns represent variables (e.g. data used in this tutorial).  Pandas also has a one-dimensional data structure called a **Series** that we will encounter when accesing a single column of a Data Frame.\n",
    "\n",
    "Pandas has a variety of functions named `read_xxx` for reading data in different formats.  Right now we will focus on reading `csv` files, which stands for comma-separated values. However the other file formats include `excel`, `json`, and `sql`.\n",
    "\n",
    "There are many other options to `read_csv` that are very useful.  For example, you would use the option `sep='\\t'` instead of the default `sep=','` if the fields of your data file are delimited by tabs instead of commas.  See [here](https://pandas.pydata.org/pandas-docs/stable/generated/pandas.read_csv.html) for the full documentation for `read_csv`.\n",
    "\n",
    "\n",
    "## Acknowledgments\n",
    "\n",
    "- The dataset used in this tutorial is from https://www.coursera.org/ from the course \"Understanding and Visualizing Data with Python\" by University of Michigan\n"
   ]
  },
  {
   "cell_type": "markdown",
   "metadata": {
    "id": "b9FN-daXhjjT"
   },
   "source": [
    "# Importing libraries\n"
   ]
  },
  {
   "cell_type": "code",
   "metadata": {
    "id": "uRwVhX-YhjjU",
    "ExecuteTime": {
     "end_time": "2024-09-10T16:44:29.763056Z",
     "start_time": "2024-09-10T16:44:29.757991Z"
    }
   },
   "source": [
    "# Import the packages that we will be using\n",
    "import pandas as pd\n",
    "\n",
    "#Project route\n",
    "absoluteRoute = \"/Users/benjaminortiz/Documents/GitHub/TC1002S/NotebooksStudents/A01277673/SecondClass/\"\n",
    "routeOfIris = absoluteRoute + \"/Data/iris.data\"\n",
    "\n"
   ],
   "outputs": [],
   "execution_count": 71
  },
  {
   "cell_type": "markdown",
   "metadata": {
    "id": "MbGKgakihjjg"
   },
   "source": [
    "# Importing data"
   ]
  },
  {
   "cell_type": "code",
   "metadata": {
    "id": "DXHHhj2jhjjg",
    "ExecuteTime": {
     "end_time": "2024-09-10T16:44:29.791304Z",
     "start_time": "2024-09-10T16:44:29.782252Z"
    }
   },
   "source": [
    "# Convert to a Pandas DataFrame for easier manipulation\n",
    "df = pd.read_csv(routeOfIris)\n",
    "df = df.rename(columns={'5.1':'sepal length (cm)'})\n",
    "df = df.rename(columns={'3.5':'sepal width (cm)'})\n",
    "df = df.rename(columns={'1.4':'petal length (cm)'})\n",
    "df = df.rename(columns={'0.2':'petal width (cm)'})\n",
    "df = df.rename(columns={'Iris-setosa':'Class'})\n",
    "\n"
   ],
   "outputs": [],
   "execution_count": 72
  },
  {
   "cell_type": "markdown",
   "metadata": {
    "id": "hkKl8GApcJwL"
   },
   "source": [
    "If we want to print the information about th output object type we would simply type the following: type(df)"
   ]
  },
  {
   "cell_type": "markdown",
   "metadata": {
    "id": "-TrO3YWShjjl"
   },
   "source": [
    "# Exploring the content of the data set\n",
    "\n",
    "Use the `shape` method to determine the numbers of rows and columns in a data frame. This can be used to confirm that we have actually obtained the data the we are expecting.\n",
    "\n",
    "Based on what we see below, the data set being read here has $N_r$ rows, corresponding to $N_r$ observations, and $N_c$ columns, corresponding to $N_c$ variables in this particular data file."
   ]
  },
  {
   "cell_type": "code",
   "metadata": {
    "id": "9BOomVZBcJwM",
    "ExecuteTime": {
     "end_time": "2024-09-10T16:44:29.818024Z",
     "start_time": "2024-09-10T16:44:29.815084Z"
    }
   },
   "source": [
    "#Print the number of rows\n",
    "print(\"Number of rows:\", df.shape[0])\n",
    "\n",
    "#Print the number of columns\n",
    "print(\"Number of columns:\", df.shape[1])\n"
   ],
   "outputs": [
    {
     "name": "stdout",
     "output_type": "stream",
     "text": [
      "Number of rows: 149\n",
      "Number of columns: 5\n"
     ]
    }
   ],
   "execution_count": 73
  },
  {
   "cell_type": "markdown",
   "metadata": {
    "id": "FyCc2caAcJwN"
   },
   "source": "If we want to show the entire data frame we would simply write the following:"
  },
  {
   "cell_type": "code",
   "metadata": {
    "id": "clB7ZnfOhjjq",
    "ExecuteTime": {
     "end_time": "2024-09-10T16:44:29.861031Z",
     "start_time": "2024-09-10T16:44:29.856388Z"
    }
   },
   "source": [
    "#Print the entire dataframe\n",
    "print(df)"
   ],
   "outputs": [
    {
     "name": "stdout",
     "output_type": "stream",
     "text": [
      "     sepal length (cm)  sepal width (cm)  petal length (cm)  petal width (cm)  \\\n",
      "0                  4.9               3.0                1.4               0.2   \n",
      "1                  4.7               3.2                1.3               0.2   \n",
      "2                  4.6               3.1                1.5               0.2   \n",
      "3                  5.0               3.6                1.4               0.2   \n",
      "4                  5.4               3.9                1.7               0.4   \n",
      "..                 ...               ...                ...               ...   \n",
      "144                6.7               3.0                5.2               2.3   \n",
      "145                6.3               2.5                5.0               1.9   \n",
      "146                6.5               3.0                5.2               2.0   \n",
      "147                6.2               3.4                5.4               2.3   \n",
      "148                5.9               3.0                5.1               1.8   \n",
      "\n",
      "              Class  \n",
      "0       Iris-setosa  \n",
      "1       Iris-setosa  \n",
      "2       Iris-setosa  \n",
      "3       Iris-setosa  \n",
      "4       Iris-setosa  \n",
      "..              ...  \n",
      "144  Iris-virginica  \n",
      "145  Iris-virginica  \n",
      "146  Iris-virginica  \n",
      "147  Iris-virginica  \n",
      "148  Iris-virginica  \n",
      "\n",
      "[149 rows x 5 columns]\n"
     ]
    }
   ],
   "execution_count": 74
  },
  {
   "cell_type": "markdown",
   "metadata": {
    "id": "JxMPJW-OcJwO"
   },
   "source": [
    "As you can see, we have a 2-Dimensional object where each row is an independent observation and each coloum is a variable.\n",
    "\n",
    "Now, use the the `head()` function to show the first 5 rows of our data frame"
   ]
  },
  {
   "cell_type": "code",
   "metadata": {
    "id": "IMgR30w4hjjl",
    "ExecuteTime": {
     "end_time": "2024-09-10T16:44:29.916130Z",
     "start_time": "2024-09-10T16:44:29.909342Z"
    }
   },
   "source": [
    "#Showing the first five rows of the dataframe\n",
    "df.head(5)"
   ],
   "outputs": [
    {
     "data": {
      "text/plain": [
       "   sepal length (cm)  sepal width (cm)  petal length (cm)  petal width (cm)  \\\n",
       "0                4.9               3.0                1.4               0.2   \n",
       "1                4.7               3.2                1.3               0.2   \n",
       "2                4.6               3.1                1.5               0.2   \n",
       "3                5.0               3.6                1.4               0.2   \n",
       "4                5.4               3.9                1.7               0.4   \n",
       "\n",
       "         Class  \n",
       "0  Iris-setosa  \n",
       "1  Iris-setosa  \n",
       "2  Iris-setosa  \n",
       "3  Iris-setosa  \n",
       "4  Iris-setosa  "
      ],
      "text/html": [
       "<div>\n",
       "<style scoped>\n",
       "    .dataframe tbody tr th:only-of-type {\n",
       "        vertical-align: middle;\n",
       "    }\n",
       "\n",
       "    .dataframe tbody tr th {\n",
       "        vertical-align: top;\n",
       "    }\n",
       "\n",
       "    .dataframe thead th {\n",
       "        text-align: right;\n",
       "    }\n",
       "</style>\n",
       "<table border=\"1\" class=\"dataframe\">\n",
       "  <thead>\n",
       "    <tr style=\"text-align: right;\">\n",
       "      <th></th>\n",
       "      <th>sepal length (cm)</th>\n",
       "      <th>sepal width (cm)</th>\n",
       "      <th>petal length (cm)</th>\n",
       "      <th>petal width (cm)</th>\n",
       "      <th>Class</th>\n",
       "    </tr>\n",
       "  </thead>\n",
       "  <tbody>\n",
       "    <tr>\n",
       "      <th>0</th>\n",
       "      <td>4.9</td>\n",
       "      <td>3.0</td>\n",
       "      <td>1.4</td>\n",
       "      <td>0.2</td>\n",
       "      <td>Iris-setosa</td>\n",
       "    </tr>\n",
       "    <tr>\n",
       "      <th>1</th>\n",
       "      <td>4.7</td>\n",
       "      <td>3.2</td>\n",
       "      <td>1.3</td>\n",
       "      <td>0.2</td>\n",
       "      <td>Iris-setosa</td>\n",
       "    </tr>\n",
       "    <tr>\n",
       "      <th>2</th>\n",
       "      <td>4.6</td>\n",
       "      <td>3.1</td>\n",
       "      <td>1.5</td>\n",
       "      <td>0.2</td>\n",
       "      <td>Iris-setosa</td>\n",
       "    </tr>\n",
       "    <tr>\n",
       "      <th>3</th>\n",
       "      <td>5.0</td>\n",
       "      <td>3.6</td>\n",
       "      <td>1.4</td>\n",
       "      <td>0.2</td>\n",
       "      <td>Iris-setosa</td>\n",
       "    </tr>\n",
       "    <tr>\n",
       "      <th>4</th>\n",
       "      <td>5.4</td>\n",
       "      <td>3.9</td>\n",
       "      <td>1.7</td>\n",
       "      <td>0.4</td>\n",
       "      <td>Iris-setosa</td>\n",
       "    </tr>\n",
       "  </tbody>\n",
       "</table>\n",
       "</div>"
      ]
     },
     "execution_count": 75,
     "metadata": {},
     "output_type": "execute_result"
    }
   ],
   "execution_count": 75
  },
  {
   "cell_type": "markdown",
   "metadata": {
    "id": "oiWMoIUrcJwO"
   },
   "source": [
    "Also, you can use the the `tail()` function to show the last 5 rows of our data frame"
   ]
  },
  {
   "cell_type": "code",
   "metadata": {
    "id": "gEBR6g19cJwO",
    "ExecuteTime": {
     "end_time": "2024-09-10T16:44:29.979587Z",
     "start_time": "2024-09-10T16:44:29.973388Z"
    }
   },
   "source": [
    "#Showing the last 5 rows of our dataframe\n",
    "df.tail(5)"
   ],
   "outputs": [
    {
     "data": {
      "text/plain": [
       "     sepal length (cm)  sepal width (cm)  petal length (cm)  petal width (cm)  \\\n",
       "144                6.7               3.0                5.2               2.3   \n",
       "145                6.3               2.5                5.0               1.9   \n",
       "146                6.5               3.0                5.2               2.0   \n",
       "147                6.2               3.4                5.4               2.3   \n",
       "148                5.9               3.0                5.1               1.8   \n",
       "\n",
       "              Class  \n",
       "144  Iris-virginica  \n",
       "145  Iris-virginica  \n",
       "146  Iris-virginica  \n",
       "147  Iris-virginica  \n",
       "148  Iris-virginica  "
      ],
      "text/html": [
       "<div>\n",
       "<style scoped>\n",
       "    .dataframe tbody tr th:only-of-type {\n",
       "        vertical-align: middle;\n",
       "    }\n",
       "\n",
       "    .dataframe tbody tr th {\n",
       "        vertical-align: top;\n",
       "    }\n",
       "\n",
       "    .dataframe thead th {\n",
       "        text-align: right;\n",
       "    }\n",
       "</style>\n",
       "<table border=\"1\" class=\"dataframe\">\n",
       "  <thead>\n",
       "    <tr style=\"text-align: right;\">\n",
       "      <th></th>\n",
       "      <th>sepal length (cm)</th>\n",
       "      <th>sepal width (cm)</th>\n",
       "      <th>petal length (cm)</th>\n",
       "      <th>petal width (cm)</th>\n",
       "      <th>Class</th>\n",
       "    </tr>\n",
       "  </thead>\n",
       "  <tbody>\n",
       "    <tr>\n",
       "      <th>144</th>\n",
       "      <td>6.7</td>\n",
       "      <td>3.0</td>\n",
       "      <td>5.2</td>\n",
       "      <td>2.3</td>\n",
       "      <td>Iris-virginica</td>\n",
       "    </tr>\n",
       "    <tr>\n",
       "      <th>145</th>\n",
       "      <td>6.3</td>\n",
       "      <td>2.5</td>\n",
       "      <td>5.0</td>\n",
       "      <td>1.9</td>\n",
       "      <td>Iris-virginica</td>\n",
       "    </tr>\n",
       "    <tr>\n",
       "      <th>146</th>\n",
       "      <td>6.5</td>\n",
       "      <td>3.0</td>\n",
       "      <td>5.2</td>\n",
       "      <td>2.0</td>\n",
       "      <td>Iris-virginica</td>\n",
       "    </tr>\n",
       "    <tr>\n",
       "      <th>147</th>\n",
       "      <td>6.2</td>\n",
       "      <td>3.4</td>\n",
       "      <td>5.4</td>\n",
       "      <td>2.3</td>\n",
       "      <td>Iris-virginica</td>\n",
       "    </tr>\n",
       "    <tr>\n",
       "      <th>148</th>\n",
       "      <td>5.9</td>\n",
       "      <td>3.0</td>\n",
       "      <td>5.1</td>\n",
       "      <td>1.8</td>\n",
       "      <td>Iris-virginica</td>\n",
       "    </tr>\n",
       "  </tbody>\n",
       "</table>\n",
       "</div>"
      ]
     },
     "execution_count": 76,
     "metadata": {},
     "output_type": "execute_result"
    }
   ],
   "execution_count": 76
  },
  {
   "cell_type": "markdown",
   "metadata": {
    "id": "-F1DVbu4hjju"
   },
   "source": [
    "The columns in a Pandas data frame have names, to see the names, use the `columns` method:\n",
    "\n",
    "To gather more information regarding the data, we can view the column names with the following function:"
   ]
  },
  {
   "cell_type": "code",
   "metadata": {
    "id": "pEdgVYnDhjjv",
    "ExecuteTime": {
     "end_time": "2024-09-10T16:44:30.079715Z",
     "start_time": "2024-09-10T16:44:30.076984Z"
    }
   },
   "source": [
    "#Printing the names of the columns\n",
    "print(df.columns)"
   ],
   "outputs": [
    {
     "name": "stdout",
     "output_type": "stream",
     "text": [
      "Index(['sepal length (cm)', 'sepal width (cm)', 'petal length (cm)',\n",
      "       'petal width (cm)', 'Class'],\n",
      "      dtype='object')\n"
     ]
    }
   ],
   "execution_count": 77
  },
  {
   "cell_type": "markdown",
   "metadata": {
    "id": "9LxX0C9hcJwP"
   },
   "source": [
    "Be aware that every variable in a Pandas data frame has a data type.  There are many different data types, but most commonly you will encounter floating point values (real numbers), integers, strings (text), and date/time values.  When Pandas reads a text/csv file, it guesses the data types based on what it sees in the first few rows of the data file.  Usually it selects an appropriate type, but occasionally it does not.  To confirm that the data types are consistent with what the variables represent, inspect the `dtypes` attribute of the data frame."
   ]
  },
  {
   "cell_type": "code",
   "metadata": {
    "id": "E2aYPe4McJwT",
    "ExecuteTime": {
     "end_time": "2024-09-10T16:44:30.216653Z",
     "start_time": "2024-09-10T16:44:30.213703Z"
    }
   },
   "source": [
    "#Printing the datatypes of the dataframe\n",
    "print(df.dtypes)"
   ],
   "outputs": [
    {
     "name": "stdout",
     "output_type": "stream",
     "text": [
      "sepal length (cm)    float64\n",
      "sepal width (cm)     float64\n",
      "petal length (cm)    float64\n",
      "petal width (cm)     float64\n",
      "Class                 object\n",
      "dtype: object\n"
     ]
    }
   ],
   "execution_count": 78
  },
  {
   "cell_type": "markdown",
   "metadata": {
    "id": "6AGDxEK-cJwW"
   },
   "source": [
    "Summary statistics, which include things like the mean, min, and max of the data, can be useful to get a feel for how large some of the variables are and what variables may be the most important."
   ]
  },
  {
   "cell_type": "code",
   "metadata": {
    "id": "lZjYPS7jcJwZ",
    "ExecuteTime": {
     "end_time": "2024-09-10T16:44:30.310916Z",
     "start_time": "2024-09-10T16:44:30.299795Z"
    }
   },
   "source": [
    "# Summary statistics for the quantitative variables\n",
    "numerical_df = df.select_dtypes(include=['number'])\n",
    "\n",
    "#We can filter the numerical columns and make a new dataframe containing only those ones\n",
    "numerical_df.describe()\n"
   ],
   "outputs": [
    {
     "data": {
      "text/plain": [
       "       sepal length (cm)  sepal width (cm)  petal length (cm)  \\\n",
       "count         149.000000        149.000000         149.000000   \n",
       "mean            5.848322          3.051007           3.774497   \n",
       "std             0.828594          0.433499           1.759651   \n",
       "min             4.300000          2.000000           1.000000   \n",
       "25%             5.100000          2.800000           1.600000   \n",
       "50%             5.800000          3.000000           4.400000   \n",
       "75%             6.400000          3.300000           5.100000   \n",
       "max             7.900000          4.400000           6.900000   \n",
       "\n",
       "       petal width (cm)  \n",
       "count        149.000000  \n",
       "mean           1.205369  \n",
       "std            0.761292  \n",
       "min            0.100000  \n",
       "25%            0.300000  \n",
       "50%            1.300000  \n",
       "75%            1.800000  \n",
       "max            2.500000  "
      ],
      "text/html": [
       "<div>\n",
       "<style scoped>\n",
       "    .dataframe tbody tr th:only-of-type {\n",
       "        vertical-align: middle;\n",
       "    }\n",
       "\n",
       "    .dataframe tbody tr th {\n",
       "        vertical-align: top;\n",
       "    }\n",
       "\n",
       "    .dataframe thead th {\n",
       "        text-align: right;\n",
       "    }\n",
       "</style>\n",
       "<table border=\"1\" class=\"dataframe\">\n",
       "  <thead>\n",
       "    <tr style=\"text-align: right;\">\n",
       "      <th></th>\n",
       "      <th>sepal length (cm)</th>\n",
       "      <th>sepal width (cm)</th>\n",
       "      <th>petal length (cm)</th>\n",
       "      <th>petal width (cm)</th>\n",
       "    </tr>\n",
       "  </thead>\n",
       "  <tbody>\n",
       "    <tr>\n",
       "      <th>count</th>\n",
       "      <td>149.000000</td>\n",
       "      <td>149.000000</td>\n",
       "      <td>149.000000</td>\n",
       "      <td>149.000000</td>\n",
       "    </tr>\n",
       "    <tr>\n",
       "      <th>mean</th>\n",
       "      <td>5.848322</td>\n",
       "      <td>3.051007</td>\n",
       "      <td>3.774497</td>\n",
       "      <td>1.205369</td>\n",
       "    </tr>\n",
       "    <tr>\n",
       "      <th>std</th>\n",
       "      <td>0.828594</td>\n",
       "      <td>0.433499</td>\n",
       "      <td>1.759651</td>\n",
       "      <td>0.761292</td>\n",
       "    </tr>\n",
       "    <tr>\n",
       "      <th>min</th>\n",
       "      <td>4.300000</td>\n",
       "      <td>2.000000</td>\n",
       "      <td>1.000000</td>\n",
       "      <td>0.100000</td>\n",
       "    </tr>\n",
       "    <tr>\n",
       "      <th>25%</th>\n",
       "      <td>5.100000</td>\n",
       "      <td>2.800000</td>\n",
       "      <td>1.600000</td>\n",
       "      <td>0.300000</td>\n",
       "    </tr>\n",
       "    <tr>\n",
       "      <th>50%</th>\n",
       "      <td>5.800000</td>\n",
       "      <td>3.000000</td>\n",
       "      <td>4.400000</td>\n",
       "      <td>1.300000</td>\n",
       "    </tr>\n",
       "    <tr>\n",
       "      <th>75%</th>\n",
       "      <td>6.400000</td>\n",
       "      <td>3.300000</td>\n",
       "      <td>5.100000</td>\n",
       "      <td>1.800000</td>\n",
       "    </tr>\n",
       "    <tr>\n",
       "      <th>max</th>\n",
       "      <td>7.900000</td>\n",
       "      <td>4.400000</td>\n",
       "      <td>6.900000</td>\n",
       "      <td>2.500000</td>\n",
       "    </tr>\n",
       "  </tbody>\n",
       "</table>\n",
       "</div>"
      ]
     },
     "execution_count": 79,
     "metadata": {},
     "output_type": "execute_result"
    }
   ],
   "execution_count": 79
  },
  {
   "cell_type": "code",
   "metadata": {
    "id": "rKA6bMsfcJwb",
    "ExecuteTime": {
     "end_time": "2024-09-10T16:44:30.375933Z",
     "start_time": "2024-09-10T16:44:30.373653Z"
    }
   },
   "source": [
    "# Drop observations with NaN values\n",
    "# There's no NaN values\n",
    "#Does not take into account any NaN values\n",
    "#"
   ],
   "outputs": [],
   "execution_count": 80
  },
  {
   "cell_type": "markdown",
   "metadata": {
    "id": "1ZvtmKtucJwc"
   },
   "source": [
    "It is also possible to get statistics on the entire data frame or a column as follows\n",
    "\n",
    "- `df.mean()` Returns the mean of all columns\n",
    "- `df.corr()` Returns the correlation between columns in a data frame\n",
    "- `df.count()` Returns the number of non-null values in each data frame column\n",
    "- `df.max()` Returns the highest value in each column\n",
    "- `df.min()` Returns the lowest value in each column\n",
    "- `df.median()` Returns the median of each column\n",
    "- `df.std()` Returns the standard deviation of each column"
   ]
  },
  {
   "cell_type": "code",
   "metadata": {
    "id": "O_ZsRJ8ZcJwd",
    "ExecuteTime": {
     "end_time": "2024-09-10T16:44:30.431959Z",
     "start_time": "2024-09-10T16:44:30.427580Z"
    }
   },
   "source": [
    "#Some examples\n",
    "print(numerical_df.mean()) #Printing the mean of all numerical columns\n",
    "print(\"\\n\")\n",
    "#The max petal width\n",
    "max_petal_width = df['petal width (cm)'].max()\n",
    "print(\"The maximum petal width is:\", max_petal_width) \n",
    "\n",
    "#The min sepal length\n",
    "min_sepal_length = df['sepal length (cm)'].min()\n",
    "print(\"The minimum sepal length is:\", min_sepal_length) \n"
   ],
   "outputs": [
    {
     "name": "stdout",
     "output_type": "stream",
     "text": [
      "sepal length (cm)    5.848322\n",
      "sepal width (cm)     3.051007\n",
      "petal length (cm)    3.774497\n",
      "petal width (cm)     1.205369\n",
      "dtype: float64\n",
      "\n",
      "\n",
      "The maximum petal width is: 2.5\n",
      "The minimum sepal length is: 4.3\n"
     ]
    }
   ],
   "execution_count": 81
  },
  {
   "cell_type": "markdown",
   "metadata": {
    "id": "bzUhsRI6cJwe"
   },
   "source": [
    "# How to write a data frame to a File\n",
    "\n",
    "To save a file with your data simply use the `to_csv` attribute\n",
    "\n",
    "Examples:\n",
    "- df.to_csv('myDataFrame.csv')\n",
    "- df.to_csv('myDataFrame.csv', sep='\\t')"
   ]
  },
  {
   "cell_type": "code",
   "metadata": {
    "id": "eqh8w6JwcJwg",
    "ExecuteTime": {
     "end_time": "2024-09-10T16:44:30.493570Z",
     "start_time": "2024-09-10T16:44:30.489035Z"
    }
   },
   "source": [
    "#Saving the numerical dataframe\n",
    "numerical_df.to_csv(absoluteRoute+'/irisDataSet.csv')\n"
   ],
   "outputs": [],
   "execution_count": 82
  },
  {
   "cell_type": "markdown",
   "metadata": {
    "id": "QY9GYpGWcJwg"
   },
   "source": [
    "# Rename columns\n",
    "\n",
    "To change the name of a colum use the `rename` attribute\n",
    "\n",
    "Example:\n",
    "\n",
    "df = df.rename(columns={\"Age\": \"Edad\"})\n",
    "\n",
    "df.head()"
   ]
  },
  {
   "cell_type": "code",
   "metadata": {
    "id": "cA09Cmp_cJwh",
    "ExecuteTime": {
     "end_time": "2024-09-10T16:44:30.546180Z",
     "start_time": "2024-09-10T16:44:30.540261Z"
    }
   },
   "source": [
    "#Renaming ID\n",
    "df = df.rename(columns={'sepal length (cm)':'Numerical ID'})\n",
    "df.head(1)"
   ],
   "outputs": [
    {
     "data": {
      "text/plain": [
       "   Numerical ID  sepal width (cm)  petal length (cm)  petal width (cm)  \\\n",
       "0           4.9               3.0                1.4               0.2   \n",
       "\n",
       "         Class  \n",
       "0  Iris-setosa  "
      ],
      "text/html": [
       "<div>\n",
       "<style scoped>\n",
       "    .dataframe tbody tr th:only-of-type {\n",
       "        vertical-align: middle;\n",
       "    }\n",
       "\n",
       "    .dataframe tbody tr th {\n",
       "        vertical-align: top;\n",
       "    }\n",
       "\n",
       "    .dataframe thead th {\n",
       "        text-align: right;\n",
       "    }\n",
       "</style>\n",
       "<table border=\"1\" class=\"dataframe\">\n",
       "  <thead>\n",
       "    <tr style=\"text-align: right;\">\n",
       "      <th></th>\n",
       "      <th>Numerical ID</th>\n",
       "      <th>sepal width (cm)</th>\n",
       "      <th>petal length (cm)</th>\n",
       "      <th>petal width (cm)</th>\n",
       "      <th>Class</th>\n",
       "    </tr>\n",
       "  </thead>\n",
       "  <tbody>\n",
       "    <tr>\n",
       "      <th>0</th>\n",
       "      <td>4.9</td>\n",
       "      <td>3.0</td>\n",
       "      <td>1.4</td>\n",
       "      <td>0.2</td>\n",
       "      <td>Iris-setosa</td>\n",
       "    </tr>\n",
       "  </tbody>\n",
       "</table>\n",
       "</div>"
      ]
     },
     "execution_count": 83,
     "metadata": {},
     "output_type": "execute_result"
    }
   ],
   "execution_count": 83
  },
  {
   "cell_type": "code",
   "metadata": {
    "id": "hLwRliQjcJwh",
    "ExecuteTime": {
     "end_time": "2024-09-10T16:44:30.602543Z",
     "start_time": "2024-09-10T16:44:30.596079Z"
    }
   },
   "source": [
    "# Back to the original name\n",
    "df = df.rename(columns={'Numerical ID':'sepal length (cm)'})\n",
    "df.head(1)"
   ],
   "outputs": [
    {
     "data": {
      "text/plain": [
       "   sepal length (cm)  sepal width (cm)  petal length (cm)  petal width (cm)  \\\n",
       "0                4.9               3.0                1.4               0.2   \n",
       "\n",
       "         Class  \n",
       "0  Iris-setosa  "
      ],
      "text/html": [
       "<div>\n",
       "<style scoped>\n",
       "    .dataframe tbody tr th:only-of-type {\n",
       "        vertical-align: middle;\n",
       "    }\n",
       "\n",
       "    .dataframe tbody tr th {\n",
       "        vertical-align: top;\n",
       "    }\n",
       "\n",
       "    .dataframe thead th {\n",
       "        text-align: right;\n",
       "    }\n",
       "</style>\n",
       "<table border=\"1\" class=\"dataframe\">\n",
       "  <thead>\n",
       "    <tr style=\"text-align: right;\">\n",
       "      <th></th>\n",
       "      <th>sepal length (cm)</th>\n",
       "      <th>sepal width (cm)</th>\n",
       "      <th>petal length (cm)</th>\n",
       "      <th>petal width (cm)</th>\n",
       "      <th>Class</th>\n",
       "    </tr>\n",
       "  </thead>\n",
       "  <tbody>\n",
       "    <tr>\n",
       "      <th>0</th>\n",
       "      <td>4.9</td>\n",
       "      <td>3.0</td>\n",
       "      <td>1.4</td>\n",
       "      <td>0.2</td>\n",
       "      <td>Iris-setosa</td>\n",
       "    </tr>\n",
       "  </tbody>\n",
       "</table>\n",
       "</div>"
      ]
     },
     "execution_count": 84,
     "metadata": {},
     "output_type": "execute_result"
    }
   ],
   "execution_count": 84
  },
  {
   "cell_type": "markdown",
   "metadata": {
    "id": "DNftbkpIcJwi"
   },
   "source": [
    "# Selection of colums\n",
    "\n",
    "As discussed above, a Pandas data frame is a rectangular data table, in which the rows represent observations or samples and the columns represent variables.  One common manipulation of a data frame is to extract the data for one case or for one variable.  There are several ways to do this, as shown below.\n",
    "\n",
    "To extract all the values for one column (variable), use one of the following alternatives."
   ]
  },
  {
   "cell_type": "code",
   "metadata": {
    "id": "KCFrEdLUcJwi",
    "ExecuteTime": {
     "end_time": "2024-09-10T16:44:30.696950Z",
     "start_time": "2024-09-10T16:44:30.693080Z"
    }
   },
   "source": [
    "#Selecting all values of a single column by its name\n",
    "a = df.iloc[:,1]\n",
    "\n",
    "print(a)\n",
    "\n"
   ],
   "outputs": [
    {
     "name": "stdout",
     "output_type": "stream",
     "text": [
      "0      3.0\n",
      "1      3.2\n",
      "2      3.1\n",
      "3      3.6\n",
      "4      3.9\n",
      "      ... \n",
      "144    3.0\n",
      "145    2.5\n",
      "146    3.0\n",
      "147    3.4\n",
      "148    3.0\n",
      "Name: sepal width (cm), Length: 149, dtype: float64\n"
     ]
    }
   ],
   "execution_count": 85
  },
  {
   "cell_type": "markdown",
   "metadata": {
    "id": "s0JdLwSZcJwj"
   },
   "source": [
    "# Slicing a data set\n",
    "\n",
    "As discussed above, a Pandas data frame is a rectangular data table, in which the rows represent cases and the columns represent variables.  One common manipulation of a data frame is to extract the data for one observation or for one variable.  There are several ways to do this, as shown below.\n",
    "\n",
    "Lets say we would like to splice our data frame and select only specific portions of our data.  There are three different ways of doing so.\n",
    "\n",
    "1. .loc()\n",
    "2. .iloc()\n",
    "3. .ix()\n",
    "\n",
    "We will cover the .loc() and .iloc() splicing functions.\n"
   ]
  },
  {
   "cell_type": "markdown",
   "metadata": {
    "id": "oeR8lBkmhjjz"
   },
   "source": [
    "The attibute **.loc()** uses labels/column names, in specific, it takes two single/list/range operator separated by ',', the first one indicates the rows and the second one indicates columns."
   ]
  },
  {
   "cell_type": "code",
   "metadata": {
    "id": "HpUEXXovhjj0",
    "ExecuteTime": {
     "end_time": "2024-09-10T16:44:30.794272Z",
     "start_time": "2024-09-10T16:44:30.787306Z"
    }
   },
   "source": [
    "# Return all observations of sepal width (cm)\n",
    "#df.loc[:,\"sepal width (cm)\"]\n",
    "\n",
    "# Return a subset of observations of sepal width (cm)\n",
    "#df.loc[:9, \"sepal width (cm)\"]\n",
    "\n",
    "# Select all rows for multiple columns, [\"sepal width (cm)\", \"sepal length (cm)\"]\n",
    "#df.loc[:,[\"sepal width (cm)\", \"sepal length (cm)\"]]\n",
    "\n",
    "# Select multiple columns, [\"sepal width (cm)\", \"sepal length (cm)\"]\n",
    "keep = ['sepal width (cm)', 'sepal length (cm)']\n",
    "df_sepal = df[keep]\n",
    "\n",
    "# Select few rows for multiple columns, [\"sepal width (cm)\", \"sepal length (cm)\"]\n",
    "#Range based slicing for certaing columns only: \n",
    "df.loc[4:9, [\"sepal width (cm)\", \"sepal length (cm)\"]]\n",
    "\n",
    "# Select range of rows for all columns\n",
    "#df.loc[10:15,:]\n",
    "\n"
   ],
   "outputs": [
    {
     "data": {
      "text/plain": [
       "   sepal width (cm)  sepal length (cm)\n",
       "4               3.9                5.4\n",
       "5               3.4                4.6\n",
       "6               3.4                5.0\n",
       "7               2.9                4.4\n",
       "8               3.1                4.9\n",
       "9               3.7                5.4"
      ],
      "text/html": [
       "<div>\n",
       "<style scoped>\n",
       "    .dataframe tbody tr th:only-of-type {\n",
       "        vertical-align: middle;\n",
       "    }\n",
       "\n",
       "    .dataframe tbody tr th {\n",
       "        vertical-align: top;\n",
       "    }\n",
       "\n",
       "    .dataframe thead th {\n",
       "        text-align: right;\n",
       "    }\n",
       "</style>\n",
       "<table border=\"1\" class=\"dataframe\">\n",
       "  <thead>\n",
       "    <tr style=\"text-align: right;\">\n",
       "      <th></th>\n",
       "      <th>sepal width (cm)</th>\n",
       "      <th>sepal length (cm)</th>\n",
       "    </tr>\n",
       "  </thead>\n",
       "  <tbody>\n",
       "    <tr>\n",
       "      <th>4</th>\n",
       "      <td>3.9</td>\n",
       "      <td>5.4</td>\n",
       "    </tr>\n",
       "    <tr>\n",
       "      <th>5</th>\n",
       "      <td>3.4</td>\n",
       "      <td>4.6</td>\n",
       "    </tr>\n",
       "    <tr>\n",
       "      <th>6</th>\n",
       "      <td>3.4</td>\n",
       "      <td>5.0</td>\n",
       "    </tr>\n",
       "    <tr>\n",
       "      <th>7</th>\n",
       "      <td>2.9</td>\n",
       "      <td>4.4</td>\n",
       "    </tr>\n",
       "    <tr>\n",
       "      <th>8</th>\n",
       "      <td>3.1</td>\n",
       "      <td>4.9</td>\n",
       "    </tr>\n",
       "    <tr>\n",
       "      <th>9</th>\n",
       "      <td>3.7</td>\n",
       "      <td>5.4</td>\n",
       "    </tr>\n",
       "  </tbody>\n",
       "</table>\n",
       "</div>"
      ]
     },
     "execution_count": 86,
     "metadata": {},
     "output_type": "execute_result"
    }
   ],
   "execution_count": 86
  },
  {
   "cell_type": "markdown",
   "metadata": {
    "id": "DhluNGL1hjkI"
   },
   "source": [
    "The attribute **iloc()** is an integer based slicing."
   ]
  },
  {
   "cell_type": "code",
   "metadata": {
    "id": "6u1A-2drhjkJ",
    "ExecuteTime": {
     "end_time": "2024-09-10T16:44:30.883277Z",
     "start_time": "2024-09-10T16:44:30.877304Z"
    }
   },
   "source": [
    "# The first integer represents the rows and the second one represents the columns\n",
    "df.iloc[:, :4] #This should return all values of the first four columns\n",
    "\n",
    "# This example should return the first four values of all the columns\n",
    "df.iloc[:4, :]\n",
    "\n",
    "# This example should return all the rows within the third column and seventh column\n",
    "df.iloc[:, 3:7]\n",
    "\n",
    "# This example should return the range of rows between the fourth and eight row.\n",
    "# These rows will be between the second and the fourth column\n",
    "df.iloc[4:8, 2:4]\n",
    "\n",
    "# This is incorrect:\n",
    "#df.iloc[1:5, [\"sepal width (cm)\", \"sepal length (cm)\"]]"
   ],
   "outputs": [
    {
     "data": {
      "text/plain": [
       "   petal length (cm)  petal width (cm)\n",
       "4                1.7               0.4\n",
       "5                1.4               0.3\n",
       "6                1.5               0.2\n",
       "7                1.4               0.2"
      ],
      "text/html": [
       "<div>\n",
       "<style scoped>\n",
       "    .dataframe tbody tr th:only-of-type {\n",
       "        vertical-align: middle;\n",
       "    }\n",
       "\n",
       "    .dataframe tbody tr th {\n",
       "        vertical-align: top;\n",
       "    }\n",
       "\n",
       "    .dataframe thead th {\n",
       "        text-align: right;\n",
       "    }\n",
       "</style>\n",
       "<table border=\"1\" class=\"dataframe\">\n",
       "  <thead>\n",
       "    <tr style=\"text-align: right;\">\n",
       "      <th></th>\n",
       "      <th>petal length (cm)</th>\n",
       "      <th>petal width (cm)</th>\n",
       "    </tr>\n",
       "  </thead>\n",
       "  <tbody>\n",
       "    <tr>\n",
       "      <th>4</th>\n",
       "      <td>1.7</td>\n",
       "      <td>0.4</td>\n",
       "    </tr>\n",
       "    <tr>\n",
       "      <th>5</th>\n",
       "      <td>1.4</td>\n",
       "      <td>0.3</td>\n",
       "    </tr>\n",
       "    <tr>\n",
       "      <th>6</th>\n",
       "      <td>1.5</td>\n",
       "      <td>0.2</td>\n",
       "    </tr>\n",
       "    <tr>\n",
       "      <th>7</th>\n",
       "      <td>1.4</td>\n",
       "      <td>0.2</td>\n",
       "    </tr>\n",
       "  </tbody>\n",
       "</table>\n",
       "</div>"
      ]
     },
     "execution_count": 87,
     "metadata": {},
     "output_type": "execute_result"
    }
   ],
   "execution_count": 87
  },
  {
   "cell_type": "markdown",
   "metadata": {
    "id": "u4ORG1PlcJwl"
   },
   "source": [
    "# Get unique existing values\n",
    "\n",
    "List unique values in the one of the columns\n",
    "\n",
    "df.Gender.unique()\n"
   ]
  },
  {
   "cell_type": "code",
   "metadata": {
    "id": "brIC2kbKhjkZ",
    "ExecuteTime": {
     "end_time": "2024-09-10T16:44:31.051183Z",
     "start_time": "2024-09-10T16:44:31.048144Z"
    }
   },
   "source": [
    "# List unique values in the df['Class'] column\n",
    "df['Class'].unique()"
   ],
   "outputs": [
    {
     "data": {
      "text/plain": [
       "array(['Iris-setosa', 'Iris-versicolor', 'Iris-virginica'], dtype=object)"
      ]
     },
     "execution_count": 88,
     "metadata": {},
     "output_type": "execute_result"
    }
   ],
   "execution_count": 88
  },
  {
   "cell_type": "markdown",
   "metadata": {
    "id": "n0S7vCwphjkj"
   },
   "source": [
    "# Filter, Sort and Groupby\n",
    "\n"
   ]
  },
  {
   "cell_type": "markdown",
   "metadata": {
    "id": "yTtJ3JKFcJwn"
   },
   "source": [
    "With **Filter** you can use different conditions to filter columns. For example, df[df[year] > 1984] would give you only the column year is greater than 1984. You can use & (and) or | (or) to add different conditions to your filtering. This is also called boolean filtering.\n",
    "\n",
    "df[df[\"Height\"] >= 70]"
   ]
  },
  {
   "cell_type": "code",
   "metadata": {
    "id": "ATi54wH_cJwo",
    "ExecuteTime": {
     "end_time": "2024-09-10T16:44:31.170122Z",
     "start_time": "2024-09-10T16:44:31.165003Z"
    }
   },
   "source": [
    "#Filtering by sepal width (cm) the dataFrame\n",
    "print(df[df[\"sepal width (cm)\"] >= 3.0].iloc[:10, :])"
   ],
   "outputs": [
    {
     "name": "stdout",
     "output_type": "stream",
     "text": [
      "    sepal length (cm)  sepal width (cm)  petal length (cm)  petal width (cm)  \\\n",
      "0                 4.9               3.0                1.4               0.2   \n",
      "1                 4.7               3.2                1.3               0.2   \n",
      "2                 4.6               3.1                1.5               0.2   \n",
      "3                 5.0               3.6                1.4               0.2   \n",
      "4                 5.4               3.9                1.7               0.4   \n",
      "5                 4.6               3.4                1.4               0.3   \n",
      "6                 5.0               3.4                1.5               0.2   \n",
      "8                 4.9               3.1                1.5               0.1   \n",
      "9                 5.4               3.7                1.5               0.2   \n",
      "10                4.8               3.4                1.6               0.2   \n",
      "\n",
      "          Class  \n",
      "0   Iris-setosa  \n",
      "1   Iris-setosa  \n",
      "2   Iris-setosa  \n",
      "3   Iris-setosa  \n",
      "4   Iris-setosa  \n",
      "5   Iris-setosa  \n",
      "6   Iris-setosa  \n",
      "8   Iris-setosa  \n",
      "9   Iris-setosa  \n",
      "10  Iris-setosa  \n"
     ]
    }
   ],
   "execution_count": 89
  },
  {
   "cell_type": "markdown",
   "metadata": {
    "id": "LR5TNojlcJwq"
   },
   "source": [
    "With **Sort** is possible to sort values in a certain column in an ascending order using `df.sort_values(\"ColumnName\")` or in descending order using `df.sort_values(ColumnName, ascending=False)`.\n",
    "\n",
    "Furthermore, it’s possible to sort values by Column1Name in ascending order then Column2Name in descending order by using `df.sort_values([Column1Name,Column2Name],ascending=[True,False])`\n",
    "\n",
    "\n",
    "df.sort_values(\"Height\")\n",
    "#df.sort_values(\"Height\",ascending=False)"
   ]
  },
  {
   "metadata": {
    "id": "oJCVsL3fcJwq",
    "ExecuteTime": {
     "end_time": "2024-09-10T16:44:31.238160Z",
     "start_time": "2024-09-10T16:44:31.233465Z"
    }
   },
   "cell_type": "code",
   "source": [
    "#Sorting the dataframe by every contestant score\n",
    "#Printing the first 10 flowers of that have the greater sepal width\n",
    "\n",
    "print(df.sort_values(\"sepal width (cm)\", ascending=False).iloc[0:10, 0:2])"
   ],
   "outputs": [
    {
     "name": "stdout",
     "output_type": "stream",
     "text": [
      "     sepal length (cm)  sepal width (cm)\n",
      "14                 5.7               4.4\n",
      "32                 5.5               4.2\n",
      "31                 5.2               4.1\n",
      "13                 5.8               4.0\n",
      "4                  5.4               3.9\n",
      "15                 5.4               3.9\n",
      "130                7.9               3.8\n",
      "43                 5.1               3.8\n",
      "17                 5.7               3.8\n",
      "18                 5.1               3.8\n"
     ]
    }
   ],
   "execution_count": 90
  },
  {
   "cell_type": "markdown",
   "metadata": {
    "id": "jzSIpt_8cJwr"
   },
   "source": [
    "The attribute **Groupby** involves splitting the data into groups based on some criteria, applying a function to each group independently and combining the results into a data structure. df.groupby(col) returns a groupby object for values from one column while df.groupby([col1,col2]) returns a groupby object for values from multiple columns.\n",
    "\n",
    "df.groupby(['Gender'])"
   ]
  },
  {
   "cell_type": "code",
   "metadata": {
    "id": "QvIXfwC5cJwr",
    "ExecuteTime": {
     "end_time": "2024-09-10T16:44:31.305866Z",
     "start_time": "2024-09-10T16:44:31.302494Z"
    }
   },
   "source": [
    "#Clasifying by gender\n",
    "df_class = df.groupby(['Class'])\n",
    "\n",
    "#How many females and males there are: \n",
    "print(df_class.size())\n"
   ],
   "outputs": [
    {
     "name": "stdout",
     "output_type": "stream",
     "text": [
      "Class\n",
      "Iris-setosa        49\n",
      "Iris-versicolor    50\n",
      "Iris-virginica     50\n",
      "dtype: int64\n"
     ]
    }
   ],
   "execution_count": 91
  },
  {
   "cell_type": "markdown",
   "metadata": {
    "id": "nTRCVyPhcJwr"
   },
   "source": [
    "Size of each group\n",
    "\n",
    "df.groupby(['Gender']).size()\n",
    "\n",
    "df.groupby(['Gender','GenderGroup']).size()"
   ]
  },
  {
   "cell_type": "markdown",
   "metadata": {
    "id": "eWlEBPtscJws"
   },
   "source": [
    "# Data Cleaning: handle with missing data\n",
    "\n",
    "Before getting started to work with your data, it's a good practice to observe it thoroughly to identify missing values and handle them accordingly.\n",
    "\n",
    "When reading a dataset using Pandas, there is a set of values including 'NA', 'NULL', and 'NaN' that are taken by default to represent a missing value.  The full list of default missing value codes is in the '`read_csv`' documentation [here](https://pandas.pydata.org/pandas-docs/stable/generated/pandas.read_csv.html).  This document also explains how to change the way that '`read_csv`' decides whether a variable's value is missing.\n",
    "\n",
    "Pandas has functions called `isnull` and `notnull` that can be used to identify where the missing and non-missing values are located in a data frame.  \n",
    "\n",
    "Below we use these functions to count the number of missing and non-missing values in each variable of the datasetr."
   ]
  },
  {
   "cell_type": "code",
   "metadata": {
    "id": "NZsVRoHacJws",
    "ExecuteTime": {
     "end_time": "2024-09-10T16:44:31.359161Z",
     "start_time": "2024-09-10T16:44:31.353553Z"
    }
   },
   "source": [
    "newDf = pd.read_csv(routeOfIris)\n",
    "\n",
    "#Is there any null data?\n",
    "newDf.isnull().sum()\n",
    "\n",
    "#How much of the data is not null?\n",
    "newDf.notnull().sum()"
   ],
   "outputs": [
    {
     "data": {
      "text/plain": [
       "5.1            149\n",
       "3.5            149\n",
       "1.4            149\n",
       "0.2            149\n",
       "Iris-setosa    149\n",
       "dtype: int64"
      ]
     },
     "execution_count": 92,
     "metadata": {},
     "output_type": "execute_result"
    }
   ],
   "execution_count": 92
  },
  {
   "cell_type": "markdown",
   "metadata": {
    "id": "e-oY7TFccJwt"
   },
   "source": [
    "Now we use these functions to count the number of missing and non-missing values in a single variable in the dataset\n",
    "\n",
    "print( df.Height.notnull().sum() )\n",
    "\n",
    "print( pd.isnull(df.Height).sum() )"
   ]
  },
  {
   "cell_type": "markdown",
   "metadata": {
    "id": "PcbsqjI6cJwu"
   },
   "source": [
    "# Add and eliminate columns\n",
    "\n",
    "In some cases it is useful to create or eiminate new columns"
   ]
  },
  {
   "cell_type": "code",
   "metadata": {
    "id": "7AY1Xf0PcJwv",
    "ExecuteTime": {
     "end_time": "2024-09-10T16:44:31.418255Z",
     "start_time": "2024-09-10T16:44:31.409757Z"
    }
   },
   "source": [
    "# # Eliminate inserted column\n",
    "# df.drop(\"ColumnInserted\", axis=1, inplace = True)\n",
    "# # Remove three columns as index base\n",
    "# #df.drop(df.columns[[12]], axis = 1, inplace = True)\n",
    "\n",
    "print(df_class.head())\n",
    "#Especifying the axis where we want to remove the data from.\n",
    "df_gender = df.drop(\"Class\", axis = 1)\n",
    "print(df_gender.head())"
   ],
   "outputs": [
    {
     "name": "stdout",
     "output_type": "stream",
     "text": [
      "     sepal length (cm)  sepal width (cm)  petal length (cm)  petal width (cm)  \\\n",
      "0                  4.9               3.0                1.4               0.2   \n",
      "1                  4.7               3.2                1.3               0.2   \n",
      "2                  4.6               3.1                1.5               0.2   \n",
      "3                  5.0               3.6                1.4               0.2   \n",
      "4                  5.4               3.9                1.7               0.4   \n",
      "49                 7.0               3.2                4.7               1.4   \n",
      "50                 6.4               3.2                4.5               1.5   \n",
      "51                 6.9               3.1                4.9               1.5   \n",
      "52                 5.5               2.3                4.0               1.3   \n",
      "53                 6.5               2.8                4.6               1.5   \n",
      "99                 6.3               3.3                6.0               2.5   \n",
      "100                5.8               2.7                5.1               1.9   \n",
      "101                7.1               3.0                5.9               2.1   \n",
      "102                6.3               2.9                5.6               1.8   \n",
      "103                6.5               3.0                5.8               2.2   \n",
      "\n",
      "               Class  \n",
      "0        Iris-setosa  \n",
      "1        Iris-setosa  \n",
      "2        Iris-setosa  \n",
      "3        Iris-setosa  \n",
      "4        Iris-setosa  \n",
      "49   Iris-versicolor  \n",
      "50   Iris-versicolor  \n",
      "51   Iris-versicolor  \n",
      "52   Iris-versicolor  \n",
      "53   Iris-versicolor  \n",
      "99    Iris-virginica  \n",
      "100   Iris-virginica  \n",
      "101   Iris-virginica  \n",
      "102   Iris-virginica  \n",
      "103   Iris-virginica  \n",
      "   sepal length (cm)  sepal width (cm)  petal length (cm)  petal width (cm)\n",
      "0                4.9               3.0                1.4               0.2\n",
      "1                4.7               3.2                1.3               0.2\n",
      "2                4.6               3.1                1.5               0.2\n",
      "3                5.0               3.6                1.4               0.2\n",
      "4                5.4               3.9                1.7               0.4\n"
     ]
    }
   ],
   "execution_count": 93
  },
  {
   "cell_type": "code",
   "metadata": {
    "id": "tVJVlUR2cJwv",
    "ExecuteTime": {
     "end_time": "2024-09-10T16:44:31.577964Z",
     "start_time": "2024-09-10T16:44:31.567049Z"
    }
   },
   "source": [
    "# # Add new column derived from existing columns\n",
    "df['petal_area'] = df['petal length (cm)'] * df['petal width (cm)']\n",
    "\n",
    "df.head()"
   ],
   "outputs": [
    {
     "data": {
      "text/plain": [
       "   sepal length (cm)  sepal width (cm)  petal length (cm)  petal width (cm)  \\\n",
       "0                4.9               3.0                1.4               0.2   \n",
       "1                4.7               3.2                1.3               0.2   \n",
       "2                4.6               3.1                1.5               0.2   \n",
       "3                5.0               3.6                1.4               0.2   \n",
       "4                5.4               3.9                1.7               0.4   \n",
       "\n",
       "         Class  petal_area  \n",
       "0  Iris-setosa        0.28  \n",
       "1  Iris-setosa        0.26  \n",
       "2  Iris-setosa        0.30  \n",
       "3  Iris-setosa        0.28  \n",
       "4  Iris-setosa        0.68  "
      ],
      "text/html": [
       "<div>\n",
       "<style scoped>\n",
       "    .dataframe tbody tr th:only-of-type {\n",
       "        vertical-align: middle;\n",
       "    }\n",
       "\n",
       "    .dataframe tbody tr th {\n",
       "        vertical-align: top;\n",
       "    }\n",
       "\n",
       "    .dataframe thead th {\n",
       "        text-align: right;\n",
       "    }\n",
       "</style>\n",
       "<table border=\"1\" class=\"dataframe\">\n",
       "  <thead>\n",
       "    <tr style=\"text-align: right;\">\n",
       "      <th></th>\n",
       "      <th>sepal length (cm)</th>\n",
       "      <th>sepal width (cm)</th>\n",
       "      <th>petal length (cm)</th>\n",
       "      <th>petal width (cm)</th>\n",
       "      <th>Class</th>\n",
       "      <th>petal_area</th>\n",
       "    </tr>\n",
       "  </thead>\n",
       "  <tbody>\n",
       "    <tr>\n",
       "      <th>0</th>\n",
       "      <td>4.9</td>\n",
       "      <td>3.0</td>\n",
       "      <td>1.4</td>\n",
       "      <td>0.2</td>\n",
       "      <td>Iris-setosa</td>\n",
       "      <td>0.28</td>\n",
       "    </tr>\n",
       "    <tr>\n",
       "      <th>1</th>\n",
       "      <td>4.7</td>\n",
       "      <td>3.2</td>\n",
       "      <td>1.3</td>\n",
       "      <td>0.2</td>\n",
       "      <td>Iris-setosa</td>\n",
       "      <td>0.26</td>\n",
       "    </tr>\n",
       "    <tr>\n",
       "      <th>2</th>\n",
       "      <td>4.6</td>\n",
       "      <td>3.1</td>\n",
       "      <td>1.5</td>\n",
       "      <td>0.2</td>\n",
       "      <td>Iris-setosa</td>\n",
       "      <td>0.30</td>\n",
       "    </tr>\n",
       "    <tr>\n",
       "      <th>3</th>\n",
       "      <td>5.0</td>\n",
       "      <td>3.6</td>\n",
       "      <td>1.4</td>\n",
       "      <td>0.2</td>\n",
       "      <td>Iris-setosa</td>\n",
       "      <td>0.28</td>\n",
       "    </tr>\n",
       "    <tr>\n",
       "      <th>4</th>\n",
       "      <td>5.4</td>\n",
       "      <td>3.9</td>\n",
       "      <td>1.7</td>\n",
       "      <td>0.4</td>\n",
       "      <td>Iris-setosa</td>\n",
       "      <td>0.68</td>\n",
       "    </tr>\n",
       "  </tbody>\n",
       "</table>\n",
       "</div>"
      ]
     },
     "execution_count": 94,
     "metadata": {},
     "output_type": "execute_result"
    }
   ],
   "execution_count": 94
  },
  {
   "cell_type": "code",
   "metadata": {
    "id": "C8FJvHsQcJwv",
    "ExecuteTime": {
     "end_time": "2024-09-10T16:44:31.669356Z",
     "start_time": "2024-09-10T16:44:31.660463Z"
    }
   },
   "source": [
    "# # Eliminate inserted column\n",
    "df.drop(\"petal_area\", axis=1, inplace = True)\n",
    "#\n",
    "df.head()"
   ],
   "outputs": [
    {
     "data": {
      "text/plain": [
       "   sepal length (cm)  sepal width (cm)  petal length (cm)  petal width (cm)  \\\n",
       "0                4.9               3.0                1.4               0.2   \n",
       "1                4.7               3.2                1.3               0.2   \n",
       "2                4.6               3.1                1.5               0.2   \n",
       "3                5.0               3.6                1.4               0.2   \n",
       "4                5.4               3.9                1.7               0.4   \n",
       "\n",
       "         Class  \n",
       "0  Iris-setosa  \n",
       "1  Iris-setosa  \n",
       "2  Iris-setosa  \n",
       "3  Iris-setosa  \n",
       "4  Iris-setosa  "
      ],
      "text/html": [
       "<div>\n",
       "<style scoped>\n",
       "    .dataframe tbody tr th:only-of-type {\n",
       "        vertical-align: middle;\n",
       "    }\n",
       "\n",
       "    .dataframe tbody tr th {\n",
       "        vertical-align: top;\n",
       "    }\n",
       "\n",
       "    .dataframe thead th {\n",
       "        text-align: right;\n",
       "    }\n",
       "</style>\n",
       "<table border=\"1\" class=\"dataframe\">\n",
       "  <thead>\n",
       "    <tr style=\"text-align: right;\">\n",
       "      <th></th>\n",
       "      <th>sepal length (cm)</th>\n",
       "      <th>sepal width (cm)</th>\n",
       "      <th>petal length (cm)</th>\n",
       "      <th>petal width (cm)</th>\n",
       "      <th>Class</th>\n",
       "    </tr>\n",
       "  </thead>\n",
       "  <tbody>\n",
       "    <tr>\n",
       "      <th>0</th>\n",
       "      <td>4.9</td>\n",
       "      <td>3.0</td>\n",
       "      <td>1.4</td>\n",
       "      <td>0.2</td>\n",
       "      <td>Iris-setosa</td>\n",
       "    </tr>\n",
       "    <tr>\n",
       "      <th>1</th>\n",
       "      <td>4.7</td>\n",
       "      <td>3.2</td>\n",
       "      <td>1.3</td>\n",
       "      <td>0.2</td>\n",
       "      <td>Iris-setosa</td>\n",
       "    </tr>\n",
       "    <tr>\n",
       "      <th>2</th>\n",
       "      <td>4.6</td>\n",
       "      <td>3.1</td>\n",
       "      <td>1.5</td>\n",
       "      <td>0.2</td>\n",
       "      <td>Iris-setosa</td>\n",
       "    </tr>\n",
       "    <tr>\n",
       "      <th>3</th>\n",
       "      <td>5.0</td>\n",
       "      <td>3.6</td>\n",
       "      <td>1.4</td>\n",
       "      <td>0.2</td>\n",
       "      <td>Iris-setosa</td>\n",
       "    </tr>\n",
       "    <tr>\n",
       "      <th>4</th>\n",
       "      <td>5.4</td>\n",
       "      <td>3.9</td>\n",
       "      <td>1.7</td>\n",
       "      <td>0.4</td>\n",
       "      <td>Iris-setosa</td>\n",
       "    </tr>\n",
       "  </tbody>\n",
       "</table>\n",
       "</div>"
      ]
     },
     "execution_count": 95,
     "metadata": {},
     "output_type": "execute_result"
    }
   ],
   "execution_count": 95
  },
  {
   "cell_type": "code",
   "metadata": {
    "id": "JDRFjGPgcJwx",
    "ExecuteTime": {
     "end_time": "2024-09-10T16:44:31.781724Z",
     "start_time": "2024-09-10T16:44:31.768410Z"
    }
   },
   "source": [
    "## Add a new column with strata based on these cut points\n",
    "#\n",
    "## Create and insert a column petal area\n",
    "df['petal_area'] = df['petal length (cm)'] * df['petal width (cm)']\n",
    "\n",
    "# Insert values into the dataframe:\n",
    "df[\"PetalStrata\"] = pd.cut(df[\"petal_area\"], [0., .3, .4, .5, .6, .7])\n",
    "#\n",
    "## Show the first 5 rows of the created data frame\n",
    "df\n",
    "\n",
    "\n"
   ],
   "outputs": [
    {
     "data": {
      "text/plain": [
       "     sepal length (cm)  sepal width (cm)  petal length (cm)  petal width (cm)  \\\n",
       "0                  4.9               3.0                1.4               0.2   \n",
       "1                  4.7               3.2                1.3               0.2   \n",
       "2                  4.6               3.1                1.5               0.2   \n",
       "3                  5.0               3.6                1.4               0.2   \n",
       "4                  5.4               3.9                1.7               0.4   \n",
       "..                 ...               ...                ...               ...   \n",
       "144                6.7               3.0                5.2               2.3   \n",
       "145                6.3               2.5                5.0               1.9   \n",
       "146                6.5               3.0                5.2               2.0   \n",
       "147                6.2               3.4                5.4               2.3   \n",
       "148                5.9               3.0                5.1               1.8   \n",
       "\n",
       "              Class  petal_area PetalStrata  \n",
       "0       Iris-setosa        0.28  (0.0, 0.3]  \n",
       "1       Iris-setosa        0.26  (0.0, 0.3]  \n",
       "2       Iris-setosa        0.30  (0.3, 0.4]  \n",
       "3       Iris-setosa        0.28  (0.0, 0.3]  \n",
       "4       Iris-setosa        0.68  (0.6, 0.7]  \n",
       "..              ...         ...         ...  \n",
       "144  Iris-virginica       11.96         NaN  \n",
       "145  Iris-virginica        9.50         NaN  \n",
       "146  Iris-virginica       10.40         NaN  \n",
       "147  Iris-virginica       12.42         NaN  \n",
       "148  Iris-virginica        9.18         NaN  \n",
       "\n",
       "[149 rows x 7 columns]"
      ],
      "text/html": [
       "<div>\n",
       "<style scoped>\n",
       "    .dataframe tbody tr th:only-of-type {\n",
       "        vertical-align: middle;\n",
       "    }\n",
       "\n",
       "    .dataframe tbody tr th {\n",
       "        vertical-align: top;\n",
       "    }\n",
       "\n",
       "    .dataframe thead th {\n",
       "        text-align: right;\n",
       "    }\n",
       "</style>\n",
       "<table border=\"1\" class=\"dataframe\">\n",
       "  <thead>\n",
       "    <tr style=\"text-align: right;\">\n",
       "      <th></th>\n",
       "      <th>sepal length (cm)</th>\n",
       "      <th>sepal width (cm)</th>\n",
       "      <th>petal length (cm)</th>\n",
       "      <th>petal width (cm)</th>\n",
       "      <th>Class</th>\n",
       "      <th>petal_area</th>\n",
       "      <th>PetalStrata</th>\n",
       "    </tr>\n",
       "  </thead>\n",
       "  <tbody>\n",
       "    <tr>\n",
       "      <th>0</th>\n",
       "      <td>4.9</td>\n",
       "      <td>3.0</td>\n",
       "      <td>1.4</td>\n",
       "      <td>0.2</td>\n",
       "      <td>Iris-setosa</td>\n",
       "      <td>0.28</td>\n",
       "      <td>(0.0, 0.3]</td>\n",
       "    </tr>\n",
       "    <tr>\n",
       "      <th>1</th>\n",
       "      <td>4.7</td>\n",
       "      <td>3.2</td>\n",
       "      <td>1.3</td>\n",
       "      <td>0.2</td>\n",
       "      <td>Iris-setosa</td>\n",
       "      <td>0.26</td>\n",
       "      <td>(0.0, 0.3]</td>\n",
       "    </tr>\n",
       "    <tr>\n",
       "      <th>2</th>\n",
       "      <td>4.6</td>\n",
       "      <td>3.1</td>\n",
       "      <td>1.5</td>\n",
       "      <td>0.2</td>\n",
       "      <td>Iris-setosa</td>\n",
       "      <td>0.30</td>\n",
       "      <td>(0.3, 0.4]</td>\n",
       "    </tr>\n",
       "    <tr>\n",
       "      <th>3</th>\n",
       "      <td>5.0</td>\n",
       "      <td>3.6</td>\n",
       "      <td>1.4</td>\n",
       "      <td>0.2</td>\n",
       "      <td>Iris-setosa</td>\n",
       "      <td>0.28</td>\n",
       "      <td>(0.0, 0.3]</td>\n",
       "    </tr>\n",
       "    <tr>\n",
       "      <th>4</th>\n",
       "      <td>5.4</td>\n",
       "      <td>3.9</td>\n",
       "      <td>1.7</td>\n",
       "      <td>0.4</td>\n",
       "      <td>Iris-setosa</td>\n",
       "      <td>0.68</td>\n",
       "      <td>(0.6, 0.7]</td>\n",
       "    </tr>\n",
       "    <tr>\n",
       "      <th>...</th>\n",
       "      <td>...</td>\n",
       "      <td>...</td>\n",
       "      <td>...</td>\n",
       "      <td>...</td>\n",
       "      <td>...</td>\n",
       "      <td>...</td>\n",
       "      <td>...</td>\n",
       "    </tr>\n",
       "    <tr>\n",
       "      <th>144</th>\n",
       "      <td>6.7</td>\n",
       "      <td>3.0</td>\n",
       "      <td>5.2</td>\n",
       "      <td>2.3</td>\n",
       "      <td>Iris-virginica</td>\n",
       "      <td>11.96</td>\n",
       "      <td>NaN</td>\n",
       "    </tr>\n",
       "    <tr>\n",
       "      <th>145</th>\n",
       "      <td>6.3</td>\n",
       "      <td>2.5</td>\n",
       "      <td>5.0</td>\n",
       "      <td>1.9</td>\n",
       "      <td>Iris-virginica</td>\n",
       "      <td>9.50</td>\n",
       "      <td>NaN</td>\n",
       "    </tr>\n",
       "    <tr>\n",
       "      <th>146</th>\n",
       "      <td>6.5</td>\n",
       "      <td>3.0</td>\n",
       "      <td>5.2</td>\n",
       "      <td>2.0</td>\n",
       "      <td>Iris-virginica</td>\n",
       "      <td>10.40</td>\n",
       "      <td>NaN</td>\n",
       "    </tr>\n",
       "    <tr>\n",
       "      <th>147</th>\n",
       "      <td>6.2</td>\n",
       "      <td>3.4</td>\n",
       "      <td>5.4</td>\n",
       "      <td>2.3</td>\n",
       "      <td>Iris-virginica</td>\n",
       "      <td>12.42</td>\n",
       "      <td>NaN</td>\n",
       "    </tr>\n",
       "    <tr>\n",
       "      <th>148</th>\n",
       "      <td>5.9</td>\n",
       "      <td>3.0</td>\n",
       "      <td>5.1</td>\n",
       "      <td>1.8</td>\n",
       "      <td>Iris-virginica</td>\n",
       "      <td>9.18</td>\n",
       "      <td>NaN</td>\n",
       "    </tr>\n",
       "  </tbody>\n",
       "</table>\n",
       "<p>149 rows × 7 columns</p>\n",
       "</div>"
      ]
     },
     "execution_count": 96,
     "metadata": {},
     "output_type": "execute_result"
    }
   ],
   "execution_count": 96
  },
  {
   "cell_type": "code",
   "metadata": {
    "id": "92xxpyXYcJwy",
    "ExecuteTime": {
     "end_time": "2024-09-10T16:44:32.058019Z",
     "start_time": "2024-09-10T16:44:32.041279Z"
    }
   },
   "source": [
    "## Eliminate inserted column\n",
    "df.drop(\"PetalStrata\", axis=1, inplace = True)\n",
    "df.drop(\"petal_area\", axis=1, inplace = True)\n",
    "#\n",
    "df.head()\n",
    "\n",
    "\n"
   ],
   "outputs": [
    {
     "data": {
      "text/plain": [
       "   sepal length (cm)  sepal width (cm)  petal length (cm)  petal width (cm)  \\\n",
       "0                4.9               3.0                1.4               0.2   \n",
       "1                4.7               3.2                1.3               0.2   \n",
       "2                4.6               3.1                1.5               0.2   \n",
       "3                5.0               3.6                1.4               0.2   \n",
       "4                5.4               3.9                1.7               0.4   \n",
       "\n",
       "         Class  \n",
       "0  Iris-setosa  \n",
       "1  Iris-setosa  \n",
       "2  Iris-setosa  \n",
       "3  Iris-setosa  \n",
       "4  Iris-setosa  "
      ],
      "text/html": [
       "<div>\n",
       "<style scoped>\n",
       "    .dataframe tbody tr th:only-of-type {\n",
       "        vertical-align: middle;\n",
       "    }\n",
       "\n",
       "    .dataframe tbody tr th {\n",
       "        vertical-align: top;\n",
       "    }\n",
       "\n",
       "    .dataframe thead th {\n",
       "        text-align: right;\n",
       "    }\n",
       "</style>\n",
       "<table border=\"1\" class=\"dataframe\">\n",
       "  <thead>\n",
       "    <tr style=\"text-align: right;\">\n",
       "      <th></th>\n",
       "      <th>sepal length (cm)</th>\n",
       "      <th>sepal width (cm)</th>\n",
       "      <th>petal length (cm)</th>\n",
       "      <th>petal width (cm)</th>\n",
       "      <th>Class</th>\n",
       "    </tr>\n",
       "  </thead>\n",
       "  <tbody>\n",
       "    <tr>\n",
       "      <th>0</th>\n",
       "      <td>4.9</td>\n",
       "      <td>3.0</td>\n",
       "      <td>1.4</td>\n",
       "      <td>0.2</td>\n",
       "      <td>Iris-setosa</td>\n",
       "    </tr>\n",
       "    <tr>\n",
       "      <th>1</th>\n",
       "      <td>4.7</td>\n",
       "      <td>3.2</td>\n",
       "      <td>1.3</td>\n",
       "      <td>0.2</td>\n",
       "      <td>Iris-setosa</td>\n",
       "    </tr>\n",
       "    <tr>\n",
       "      <th>2</th>\n",
       "      <td>4.6</td>\n",
       "      <td>3.1</td>\n",
       "      <td>1.5</td>\n",
       "      <td>0.2</td>\n",
       "      <td>Iris-setosa</td>\n",
       "    </tr>\n",
       "    <tr>\n",
       "      <th>3</th>\n",
       "      <td>5.0</td>\n",
       "      <td>3.6</td>\n",
       "      <td>1.4</td>\n",
       "      <td>0.2</td>\n",
       "      <td>Iris-setosa</td>\n",
       "    </tr>\n",
       "    <tr>\n",
       "      <th>4</th>\n",
       "      <td>5.4</td>\n",
       "      <td>3.9</td>\n",
       "      <td>1.7</td>\n",
       "      <td>0.4</td>\n",
       "      <td>Iris-setosa</td>\n",
       "    </tr>\n",
       "  </tbody>\n",
       "</table>\n",
       "</div>"
      ]
     },
     "execution_count": 97,
     "metadata": {},
     "output_type": "execute_result"
    }
   ],
   "execution_count": 97
  },
  {
   "cell_type": "markdown",
   "metadata": {
    "id": "FJhET6apcJw3"
   },
   "source": [
    "# Add and eliminate rows\n",
    "\n",
    "In some cases it is requiered to add new observations (rows) to the data set"
   ]
  },
  {
   "cell_type": "code",
   "metadata": {
    "id": "xkVVZL79cJw4",
    "ExecuteTime": {
     "end_time": "2024-09-10T16:44:32.232043Z",
     "start_time": "2024-09-10T16:44:32.224482Z"
    }
   },
   "source": [
    "# Print tail\n",
    "df.tail(5)\n"
   ],
   "outputs": [
    {
     "data": {
      "text/plain": [
       "     sepal length (cm)  sepal width (cm)  petal length (cm)  petal width (cm)  \\\n",
       "144                6.7               3.0                5.2               2.3   \n",
       "145                6.3               2.5                5.0               1.9   \n",
       "146                6.5               3.0                5.2               2.0   \n",
       "147                6.2               3.4                5.4               2.3   \n",
       "148                5.9               3.0                5.1               1.8   \n",
       "\n",
       "              Class  \n",
       "144  Iris-virginica  \n",
       "145  Iris-virginica  \n",
       "146  Iris-virginica  \n",
       "147  Iris-virginica  \n",
       "148  Iris-virginica  "
      ],
      "text/html": [
       "<div>\n",
       "<style scoped>\n",
       "    .dataframe tbody tr th:only-of-type {\n",
       "        vertical-align: middle;\n",
       "    }\n",
       "\n",
       "    .dataframe tbody tr th {\n",
       "        vertical-align: top;\n",
       "    }\n",
       "\n",
       "    .dataframe thead th {\n",
       "        text-align: right;\n",
       "    }\n",
       "</style>\n",
       "<table border=\"1\" class=\"dataframe\">\n",
       "  <thead>\n",
       "    <tr style=\"text-align: right;\">\n",
       "      <th></th>\n",
       "      <th>sepal length (cm)</th>\n",
       "      <th>sepal width (cm)</th>\n",
       "      <th>petal length (cm)</th>\n",
       "      <th>petal width (cm)</th>\n",
       "      <th>Class</th>\n",
       "    </tr>\n",
       "  </thead>\n",
       "  <tbody>\n",
       "    <tr>\n",
       "      <th>144</th>\n",
       "      <td>6.7</td>\n",
       "      <td>3.0</td>\n",
       "      <td>5.2</td>\n",
       "      <td>2.3</td>\n",
       "      <td>Iris-virginica</td>\n",
       "    </tr>\n",
       "    <tr>\n",
       "      <th>145</th>\n",
       "      <td>6.3</td>\n",
       "      <td>2.5</td>\n",
       "      <td>5.0</td>\n",
       "      <td>1.9</td>\n",
       "      <td>Iris-virginica</td>\n",
       "    </tr>\n",
       "    <tr>\n",
       "      <th>146</th>\n",
       "      <td>6.5</td>\n",
       "      <td>3.0</td>\n",
       "      <td>5.2</td>\n",
       "      <td>2.0</td>\n",
       "      <td>Iris-virginica</td>\n",
       "    </tr>\n",
       "    <tr>\n",
       "      <th>147</th>\n",
       "      <td>6.2</td>\n",
       "      <td>3.4</td>\n",
       "      <td>5.4</td>\n",
       "      <td>2.3</td>\n",
       "      <td>Iris-virginica</td>\n",
       "    </tr>\n",
       "    <tr>\n",
       "      <th>148</th>\n",
       "      <td>5.9</td>\n",
       "      <td>3.0</td>\n",
       "      <td>5.1</td>\n",
       "      <td>1.8</td>\n",
       "      <td>Iris-virginica</td>\n",
       "    </tr>\n",
       "  </tbody>\n",
       "</table>\n",
       "</div>"
      ]
     },
     "execution_count": 98,
     "metadata": {},
     "output_type": "execute_result"
    }
   ],
   "execution_count": 98
  },
  {
   "cell_type": "code",
   "metadata": {
    "id": "-xpEkmQmcJw5",
    "ExecuteTime": {
     "end_time": "2024-09-10T16:44:32.375469Z",
     "start_time": "2024-09-10T16:44:32.367328Z"
    }
   },
   "source": [
    "\n",
    "#This appends a new row to the data frame\n",
    "#Each of the values in the vector represents a column in the dataframe.\n",
    "df.loc[len(df.index)] = [5.1, 3.5, 1.4, 0.2, 'Iris-setosa']\n",
    "#\n",
    "df.tail()\n",
    "\n",
    "\n"
   ],
   "outputs": [
    {
     "data": {
      "text/plain": [
       "     sepal length (cm)  sepal width (cm)  petal length (cm)  petal width (cm)  \\\n",
       "145                6.3               2.5                5.0               1.9   \n",
       "146                6.5               3.0                5.2               2.0   \n",
       "147                6.2               3.4                5.4               2.3   \n",
       "148                5.9               3.0                5.1               1.8   \n",
       "149                5.1               3.5                1.4               0.2   \n",
       "\n",
       "              Class  \n",
       "145  Iris-virginica  \n",
       "146  Iris-virginica  \n",
       "147  Iris-virginica  \n",
       "148  Iris-virginica  \n",
       "149     Iris-setosa  "
      ],
      "text/html": [
       "<div>\n",
       "<style scoped>\n",
       "    .dataframe tbody tr th:only-of-type {\n",
       "        vertical-align: middle;\n",
       "    }\n",
       "\n",
       "    .dataframe tbody tr th {\n",
       "        vertical-align: top;\n",
       "    }\n",
       "\n",
       "    .dataframe thead th {\n",
       "        text-align: right;\n",
       "    }\n",
       "</style>\n",
       "<table border=\"1\" class=\"dataframe\">\n",
       "  <thead>\n",
       "    <tr style=\"text-align: right;\">\n",
       "      <th></th>\n",
       "      <th>sepal length (cm)</th>\n",
       "      <th>sepal width (cm)</th>\n",
       "      <th>petal length (cm)</th>\n",
       "      <th>petal width (cm)</th>\n",
       "      <th>Class</th>\n",
       "    </tr>\n",
       "  </thead>\n",
       "  <tbody>\n",
       "    <tr>\n",
       "      <th>145</th>\n",
       "      <td>6.3</td>\n",
       "      <td>2.5</td>\n",
       "      <td>5.0</td>\n",
       "      <td>1.9</td>\n",
       "      <td>Iris-virginica</td>\n",
       "    </tr>\n",
       "    <tr>\n",
       "      <th>146</th>\n",
       "      <td>6.5</td>\n",
       "      <td>3.0</td>\n",
       "      <td>5.2</td>\n",
       "      <td>2.0</td>\n",
       "      <td>Iris-virginica</td>\n",
       "    </tr>\n",
       "    <tr>\n",
       "      <th>147</th>\n",
       "      <td>6.2</td>\n",
       "      <td>3.4</td>\n",
       "      <td>5.4</td>\n",
       "      <td>2.3</td>\n",
       "      <td>Iris-virginica</td>\n",
       "    </tr>\n",
       "    <tr>\n",
       "      <th>148</th>\n",
       "      <td>5.9</td>\n",
       "      <td>3.0</td>\n",
       "      <td>5.1</td>\n",
       "      <td>1.8</td>\n",
       "      <td>Iris-virginica</td>\n",
       "    </tr>\n",
       "    <tr>\n",
       "      <th>149</th>\n",
       "      <td>5.1</td>\n",
       "      <td>3.5</td>\n",
       "      <td>1.4</td>\n",
       "      <td>0.2</td>\n",
       "      <td>Iris-setosa</td>\n",
       "    </tr>\n",
       "  </tbody>\n",
       "</table>\n",
       "</div>"
      ]
     },
     "execution_count": 99,
     "metadata": {},
     "output_type": "execute_result"
    }
   ],
   "execution_count": 99
  },
  {
   "cell_type": "code",
   "metadata": {
    "id": "L4j5bL6hcJw5",
    "ExecuteTime": {
     "end_time": "2024-09-10T16:44:32.499746Z",
     "start_time": "2024-09-10T16:44:32.492473Z"
    }
   },
   "source": [
    "## Eliminate inserted row\n",
    "df.drop([len(df.index)-1], inplace = True )\n",
    "#\n",
    "df.tail()\n",
    "\n",
    "\n"
   ],
   "outputs": [
    {
     "data": {
      "text/plain": [
       "     sepal length (cm)  sepal width (cm)  petal length (cm)  petal width (cm)  \\\n",
       "144                6.7               3.0                5.2               2.3   \n",
       "145                6.3               2.5                5.0               1.9   \n",
       "146                6.5               3.0                5.2               2.0   \n",
       "147                6.2               3.4                5.4               2.3   \n",
       "148                5.9               3.0                5.1               1.8   \n",
       "\n",
       "              Class  \n",
       "144  Iris-virginica  \n",
       "145  Iris-virginica  \n",
       "146  Iris-virginica  \n",
       "147  Iris-virginica  \n",
       "148  Iris-virginica  "
      ],
      "text/html": [
       "<div>\n",
       "<style scoped>\n",
       "    .dataframe tbody tr th:only-of-type {\n",
       "        vertical-align: middle;\n",
       "    }\n",
       "\n",
       "    .dataframe tbody tr th {\n",
       "        vertical-align: top;\n",
       "    }\n",
       "\n",
       "    .dataframe thead th {\n",
       "        text-align: right;\n",
       "    }\n",
       "</style>\n",
       "<table border=\"1\" class=\"dataframe\">\n",
       "  <thead>\n",
       "    <tr style=\"text-align: right;\">\n",
       "      <th></th>\n",
       "      <th>sepal length (cm)</th>\n",
       "      <th>sepal width (cm)</th>\n",
       "      <th>petal length (cm)</th>\n",
       "      <th>petal width (cm)</th>\n",
       "      <th>Class</th>\n",
       "    </tr>\n",
       "  </thead>\n",
       "  <tbody>\n",
       "    <tr>\n",
       "      <th>144</th>\n",
       "      <td>6.7</td>\n",
       "      <td>3.0</td>\n",
       "      <td>5.2</td>\n",
       "      <td>2.3</td>\n",
       "      <td>Iris-virginica</td>\n",
       "    </tr>\n",
       "    <tr>\n",
       "      <th>145</th>\n",
       "      <td>6.3</td>\n",
       "      <td>2.5</td>\n",
       "      <td>5.0</td>\n",
       "      <td>1.9</td>\n",
       "      <td>Iris-virginica</td>\n",
       "    </tr>\n",
       "    <tr>\n",
       "      <th>146</th>\n",
       "      <td>6.5</td>\n",
       "      <td>3.0</td>\n",
       "      <td>5.2</td>\n",
       "      <td>2.0</td>\n",
       "      <td>Iris-virginica</td>\n",
       "    </tr>\n",
       "    <tr>\n",
       "      <th>147</th>\n",
       "      <td>6.2</td>\n",
       "      <td>3.4</td>\n",
       "      <td>5.4</td>\n",
       "      <td>2.3</td>\n",
       "      <td>Iris-virginica</td>\n",
       "    </tr>\n",
       "    <tr>\n",
       "      <th>148</th>\n",
       "      <td>5.9</td>\n",
       "      <td>3.0</td>\n",
       "      <td>5.1</td>\n",
       "      <td>1.8</td>\n",
       "      <td>Iris-virginica</td>\n",
       "    </tr>\n",
       "  </tbody>\n",
       "</table>\n",
       "</div>"
      ]
     },
     "execution_count": 100,
     "metadata": {},
     "output_type": "execute_result"
    }
   ],
   "execution_count": 100
  },
  {
   "cell_type": "markdown",
   "metadata": {
    "id": "E7cXjrR5cJw6"
   },
   "source": [
    "# Cleaning your data: drop out unused columns and/or drop out rows with any missing values"
   ]
  },
  {
   "cell_type": "code",
   "metadata": {
    "id": "8n-Cq_kycJw6",
    "ExecuteTime": {
     "end_time": "2024-09-10T16:44:32.602810Z",
     "start_time": "2024-09-10T16:44:32.599564Z"
    }
   },
   "source": [
    "# Drop unused columns\n",
    "#vars = [\"ID\", \"GenderGroup\", \"GlassesGroup\", \"CompleteGroup\"]\n",
    "#df.drop(vars, axis=1, inplace = True)\n",
    "\n",
    "#vars = [\"Age\", \"Gender\", \"Glasses\", \"Height\", \"Wingspan\", \"CWDistance\", \"Complete\", \"Score\"]\n",
    "#df = df[vars]\n",
    "\n",
    "# Drop rows with any missing values\n",
    "#df = df.dropna()\n",
    "\n",
    "# Drop unused columns and drop rows with any missing values\n",
    "#vars = [\"Age\", \"Gender\", \"Glasses\", \"Height\", \"Wingspan\", \"CWDistance\", \"Complete\", \"Score\"]\n",
    "#df = df[vars].dropna()\n",
    "\n",
    "#df\n"
   ],
   "outputs": [],
   "execution_count": 101
  },
  {
   "cell_type": "markdown",
   "metadata": {
    "id": "xtbam6vHcJw6"
   },
   "source": [
    "# Final remarks\n",
    "\n",
    "\n",
    "- The understanding of your dataset is essential\n",
    "    - Number of observations\n",
    "    - Variables\n",
    "    - Data types: numerical or categorial\n",
    "    - What are my variables of interest\n",
    "\n",
    "- There are several ways to do the same thing\n",
    "\n",
    "- Cleaning your dataset (dropping out rows with any missing values) is a good practice\n",
    "\n",
    "- The **Pandas** library provides fancy, high-performance, easy-to-use data structures and data analysis tools\n"
   ]
  },
  {
   "metadata": {},
   "cell_type": "markdown",
   "source": [
    "# Activity: work with the iris dataset\n",
    "\n",
    "Repeat this tutorial with the iris data set and respond to the following inquiries\n",
    "\n",
    "1. Calculate the statistical summary for each quantitative variables. Explain the results\n",
    "    - Identify the name of each column\n",
    "    - Identify the type of each column\n",
    "    - Minimum, maximum, mean, average, median, standar deviation\n",
    "    \n",
    "    \n",
    "2. Are there missing data? If so, create a new dataset containing only the rows with the non-missing data\n",
    "\n",
    "\n",
    "3. Create a new dataset containing only the petal width and length and the type of Flower\n",
    "\n",
    "\n",
    "4. Create a new dataset containing only the setal width and length and the type of Flower\n",
    "\n",
    "\n",
    "5. Create a new dataset containing the setal width and length and the type of Flower encoded as a categorical numerical column\n",
    "\n",
    "\n"
   ]
  },
  {
   "metadata": {
    "ExecuteTime": {
     "end_time": "2024-09-10T16:44:32.699914Z",
     "start_time": "2024-09-10T16:44:32.690039Z"
    }
   },
   "cell_type": "code",
   "source": [
    "#Calculate the statistical summary for each quantitative variables. Explain the results\n",
    "#Selecting only the numerical values\n",
    "numericalIrisDf = df.select_dtypes(include='number')\n",
    "\n",
    "#Obtaining its summary statistics\n",
    "print(numericalIrisDf.describe())"
   ],
   "outputs": [
    {
     "name": "stdout",
     "output_type": "stream",
     "text": [
      "       sepal length (cm)  sepal width (cm)  petal length (cm)  \\\n",
      "count         149.000000        149.000000         149.000000   \n",
      "mean            5.848322          3.051007           3.774497   \n",
      "std             0.828594          0.433499           1.759651   \n",
      "min             4.300000          2.000000           1.000000   \n",
      "25%             5.100000          2.800000           1.600000   \n",
      "50%             5.800000          3.000000           4.400000   \n",
      "75%             6.400000          3.300000           5.100000   \n",
      "max             7.900000          4.400000           6.900000   \n",
      "\n",
      "       petal width (cm)  \n",
      "count        149.000000  \n",
      "mean           1.205369  \n",
      "std            0.761292  \n",
      "min            0.100000  \n",
      "25%            0.300000  \n",
      "50%            1.300000  \n",
      "75%            1.800000  \n",
      "max            2.500000  \n"
     ]
    }
   ],
   "execution_count": 102
  },
  {
   "metadata": {},
   "cell_type": "markdown",
   "source": [
    "# Explaining the results\n",
    "\n",
    "- The \"count\" attribute represents the total amount of rows taken into account by the function describe to analyze the data.\n",
    "- \"mean\" refers to the sum of that category divided by the \"count\" property (mean).\n",
    "- \"std\" refers to the standard deviation of that category, meaning how much a value deviates from its mean. A higher standard deviation indicates that the data points are more spread out from the mean.\n",
    "- \"min\" indicates the minimum value of that column.\n",
    "- \"25%\" the first quartile, its value represents the value that 25% of this dataset rows has. For example: in petal width, the value of \"25%\" is 0.3, which means that 25% of the dataset has 0.3 petal width.\n",
    "- \"50%\" also referred to as \"median\", represents the middle value of that particular value in that column.\n",
    "- \"75%\" it means that 75% of the dataset has that specific value or less. If we take the petal width as an example: its \"75%\" value is 1.8, meaning that 75% of the data has a petal width of 1.8 or less.\n",
    "- \"maximum\" refers to the max value in that specific column."
   ]
  },
  {
   "metadata": {
    "ExecuteTime": {
     "end_time": "2024-09-10T16:44:32.774071Z",
     "start_time": "2024-09-10T16:44:32.770087Z"
    }
   },
   "cell_type": "code",
   "source": [
    "# Identify the name of each column\n",
    "print(df.columns)\n",
    "# Identify the type of each column\n",
    "print(df.dtypes)\n"
   ],
   "outputs": [
    {
     "name": "stdout",
     "output_type": "stream",
     "text": [
      "Index(['sepal length (cm)', 'sepal width (cm)', 'petal length (cm)',\n",
      "       'petal width (cm)', 'Class'],\n",
      "      dtype='object')\n",
      "sepal length (cm)    float64\n",
      "sepal width (cm)     float64\n",
      "petal length (cm)    float64\n",
      "petal width (cm)     float64\n",
      "Class                 object\n",
      "dtype: object\n"
     ]
    }
   ],
   "execution_count": 103
  },
  {
   "metadata": {},
   "cell_type": "markdown",
   "source": [
    "\n",
    "3. Create a new dataset containing only the petal width and length and the type of Flower\n"
   ]
  },
  {
   "metadata": {
    "ExecuteTime": {
     "end_time": "2024-09-10T16:44:32.851155Z",
     "start_time": "2024-09-10T16:44:32.845668Z"
    }
   },
   "cell_type": "code",
   "source": [
    "excludeColumns = [\"sepal length (cm)\", \"sepal width (cm)\"]\n",
    "newDataFrame = df.drop(excludeColumns, axis=1)\n",
    "print(newDataFrame)"
   ],
   "outputs": [
    {
     "name": "stdout",
     "output_type": "stream",
     "text": [
      "     petal length (cm)  petal width (cm)           Class\n",
      "0                  1.4               0.2     Iris-setosa\n",
      "1                  1.3               0.2     Iris-setosa\n",
      "2                  1.5               0.2     Iris-setosa\n",
      "3                  1.4               0.2     Iris-setosa\n",
      "4                  1.7               0.4     Iris-setosa\n",
      "..                 ...               ...             ...\n",
      "144                5.2               2.3  Iris-virginica\n",
      "145                5.0               1.9  Iris-virginica\n",
      "146                5.2               2.0  Iris-virginica\n",
      "147                5.4               2.3  Iris-virginica\n",
      "148                5.1               1.8  Iris-virginica\n",
      "\n",
      "[149 rows x 3 columns]\n"
     ]
    }
   ],
   "execution_count": 104
  },
  {
   "metadata": {},
   "cell_type": "markdown",
   "source": "4. Create a new dataset containing only the sepal width and length and the type of Flower"
  },
  {
   "metadata": {
    "ExecuteTime": {
     "end_time": "2024-09-10T16:44:32.895437Z",
     "start_time": "2024-09-10T16:44:32.889081Z"
    }
   },
   "cell_type": "code",
   "source": [
    "excludeColumns = [\"petal length (cm)\", \"petal width (cm)\"]\n",
    "newDataFrame1 = df.drop(excludeColumns, axis=1)\n",
    "print(newDataFrame1)"
   ],
   "outputs": [
    {
     "name": "stdout",
     "output_type": "stream",
     "text": [
      "     sepal length (cm)  sepal width (cm)           Class\n",
      "0                  4.9               3.0     Iris-setosa\n",
      "1                  4.7               3.2     Iris-setosa\n",
      "2                  4.6               3.1     Iris-setosa\n",
      "3                  5.0               3.6     Iris-setosa\n",
      "4                  5.4               3.9     Iris-setosa\n",
      "..                 ...               ...             ...\n",
      "144                6.7               3.0  Iris-virginica\n",
      "145                6.3               2.5  Iris-virginica\n",
      "146                6.5               3.0  Iris-virginica\n",
      "147                6.2               3.4  Iris-virginica\n",
      "148                5.9               3.0  Iris-virginica\n",
      "\n",
      "[149 rows x 3 columns]\n"
     ]
    }
   ],
   "execution_count": 105
  },
  {
   "metadata": {},
   "cell_type": "markdown",
   "source": "5. Create a new dataset containing the setal width and length and the type of Flower encoded as a categorical numerical column\n"
  },
  {
   "metadata": {
    "ExecuteTime": {
     "end_time": "2024-09-10T16:44:32.928812Z",
     "start_time": "2024-09-10T16:44:32.922522Z"
    }
   },
   "cell_type": "code",
   "source": [
    "excludeColumns = [\"petal length (cm)\", \"petal width (cm)\"]\n",
    "newDataFrame2 = df.drop(excludeColumns, axis=1)\n",
    "newDataFrame2['species_encoded'] = newDataFrame2['Class'].astype('category').cat.codes\n",
    "newDataFrame2.drop(['Class'], axis=1, inplace=True)\n",
    "print(newDataFrame2.iloc[48,:])\n",
    "print(newDataFrame2.iloc[70,:])\n",
    "print(newDataFrame2.iloc[99,:])\n",
    "\n"
   ],
   "outputs": [
    {
     "name": "stdout",
     "output_type": "stream",
     "text": [
      "sepal length (cm)    5.0\n",
      "sepal width (cm)     3.3\n",
      "species_encoded      0.0\n",
      "Name: 48, dtype: float64\n",
      "sepal length (cm)    6.1\n",
      "sepal width (cm)     2.8\n",
      "species_encoded      1.0\n",
      "Name: 70, dtype: float64\n",
      "sepal length (cm)    6.3\n",
      "sepal width (cm)     3.3\n",
      "species_encoded      2.0\n",
      "Name: 99, dtype: float64\n"
     ]
    }
   ],
   "execution_count": 106
  }
 ],
 "metadata": {
  "colab": {
   "provenance": []
  },
  "kernelspec": {
   "display_name": "Python 3",
   "language": "python",
   "name": "python3"
  },
  "language_info": {
   "codemirror_mode": {
    "name": "ipython",
    "version": 3
   },
   "file_extension": ".py",
   "mimetype": "text/x-python",
   "name": "python",
   "nbconvert_exporter": "python",
   "pygments_lexer": "ipython3",
   "version": "3.8.3"
  }
 },
 "nbformat": 4,
 "nbformat_minor": 0
}
