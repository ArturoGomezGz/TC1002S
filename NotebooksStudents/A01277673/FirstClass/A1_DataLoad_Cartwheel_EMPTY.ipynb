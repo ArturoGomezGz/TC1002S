{
 "cells": [
  {
   "cell_type": "markdown",
   "metadata": {
    "id": "u0MPe62dYgl0"
   },
   "source": [
    "# Undertanding the cartwheel data set\n",
    "\n",
    "The notebook aims to undertand the content of the cartwheel data set.\n",
    "\n",
    "\n",
    "## Acknowledgments\n",
    "\n",
    "- Data from https://www.coursera.org/ from the course \"Understanding and Visualizing Data with Python\" by University of Michigan\n"
   ]
  },
  {
   "cell_type": "markdown",
   "metadata": {
    "id": "30s2UXlPYgl4"
   },
   "source": [
    "# Cartwheel data set\n",
    "\n",
    "1. A cartwheel\n",
    "\n",
    "![cartwheel1.png](https://drive.google.com/uc?export=view&id=1h6CbMZX9wtRIbxpREgHSLY5IKTEqq6l6)\n",
    "\n",
    "\n",
    "\n",
    "\n",
    "2. The dataset description\n",
    "    - The dataset used here is an extension from the original cartwheel dataset from cursera\n",
    "    - Total numer of observations: 28\n",
    "    - Many observations/measurements/recordings of the characteristics/attributes/variables of cartwheel executions\n",
    "    - Variables: Age, Gender, GenderGroup, Glasses, GlassesGroup, Height, Wingspan, CWDistance, ... (X variables)\n",
    "    \n"
   ]
  },
  {
   "cell_type": "markdown",
   "metadata": {
    "id": "xmSEe706Ygl5"
   },
   "source": [
    "# Importing and inspecting the data"
   ]
  },
  {
   "cell_type": "code",
   "metadata": {
    "id": "fyR3iS-uYgl5",
    "ExecuteTime": {
     "end_time": "2024-09-09T15:53:12.942719Z",
     "start_time": "2024-09-09T15:53:12.924471Z"
    }
   },
   "source": [
    "# Import the packages that we will be using\n",
    "import pandas as pd\n",
    "\n",
    "# Dataset url\n",
    "\n",
    "rutaCsv = \"/Users/benjaminortiz/Documents/GitHub/TC1002S/NotebooksStudents/A01277673/FirstClass/datasets/cartwheel/cartwheel.csv\"\n",
    "\n",
    "# Load the dataset\n",
    "df = pd.read_csv(rutaCsv)\n"
   ],
   "outputs": [],
   "execution_count": 34
  },
  {
   "cell_type": "code",
   "metadata": {
    "id": "j614eRL1Ygl6",
    "ExecuteTime": {
     "end_time": "2024-09-09T15:53:15.536408Z",
     "start_time": "2024-09-09T15:53:15.530247Z"
    }
   },
   "source": [
    "# Print the dataset\n",
    "print(df.head(5))\n"
   ],
   "outputs": [
    {
     "name": "stdout",
     "output_type": "stream",
     "text": [
      "   ID   Age Gender  GenderGroup Glasses  GlassesGroup  Height  Wingspan  \\\n",
      "0   1  56.0      F            1       Y             1    62.0      61.0   \n",
      "1   2  26.0      F            1       Y             1    62.0      60.0   \n",
      "2   3  33.0      F            1       Y             1    66.0      64.0   \n",
      "3   4  39.0      F            1       N             0    64.0      63.0   \n",
      "4   5  27.0      M            2       N             0    73.0      75.0   \n",
      "\n",
      "   CWDistance Complete  CompleteGroup  Score  \n",
      "0          79        Y            1.0      7  \n",
      "1          70        Y            1.0      8  \n",
      "2          85        Y            1.0      7  \n",
      "3          87        Y            1.0     10  \n",
      "4          72        N            0.0      4  \n"
     ]
    }
   ],
   "execution_count": 35
  },
  {
   "cell_type": "code",
   "metadata": {
    "id": "UHf53273Ygl7",
    "ExecuteTime": {
     "end_time": "2024-09-09T15:33:01.012110Z",
     "start_time": "2024-09-09T15:33:01.006230Z"
    }
   },
   "source": [
    "# Print the number of rows\n",
    "print(\"Number of rows: \", df.shape[0])\n"
   ],
   "outputs": [
    {
     "name": "stdout",
     "output_type": "stream",
     "text": [
      "Number of rows:  52\n"
     ]
    }
   ],
   "execution_count": 13
  },
  {
   "cell_type": "code",
   "metadata": {
    "id": "oULLxV8eYgl7",
    "ExecuteTime": {
     "end_time": "2024-09-09T15:33:02.612375Z",
     "start_time": "2024-09-09T15:33:02.609013Z"
    }
   },
   "source": [
    "# Print the number of columns\n",
    "print(\"Number of columns: \", df.shape[1])\n"
   ],
   "outputs": [
    {
     "name": "stdout",
     "output_type": "stream",
     "text": [
      "Number of columns:  12\n"
     ]
    }
   ],
   "execution_count": 14
  },
  {
   "metadata": {},
   "cell_type": "markdown",
   "source": "# Data types"
  },
  {
   "cell_type": "code",
   "source": [
    "# What is the type of data for each variable?\n",
    "print(df.dtypes)"
   ],
   "metadata": {
    "id": "xOA1m-EVuMxz",
    "ExecuteTime": {
     "end_time": "2024-09-09T15:51:16.679291Z",
     "start_time": "2024-09-09T15:51:16.668980Z"
    }
   },
   "outputs": [
    {
     "name": "stdout",
     "output_type": "stream",
     "text": [
      "ID                 int64\n",
      "Age              float64\n",
      "Gender            object\n",
      "GenderGroup        int64\n",
      "Glasses           object\n",
      "GlassesGroup       int64\n",
      "Height           float64\n",
      "Wingspan         float64\n",
      "CWDistance         int64\n",
      "Complete          object\n",
      "CompleteGroup    float64\n",
      "Score              int64\n",
      "dtype: object\n"
     ]
    }
   ],
   "execution_count": 31
  },
  {
   "cell_type": "markdown",
   "metadata": {
    "id": "wQIcyogKYgl8"
   },
   "source": [
    "# Activity: work with the iris dataset\n",
    "\n",
    "1. Load the iris.csv file in your computer and understand the dataset\n",
    "\n",
    "\n",
    "2. How many observations (rows) are in total?\n",
    "\n",
    "\n",
    "3. How many variables (columns) are in total? What do they represent?\n",
    "\n",
    "\n",
    "4. How many observations are for each type of flower?\n",
    "\n",
    "\n",
    "5. What is the type of data for each variable?\n",
    "\n",
    "\n",
    "6. What are the units of each variable?\n"
   ]
  },
  {
   "metadata": {},
   "cell_type": "code",
   "outputs": [],
   "execution_count": null,
   "source": [
    "# Activity: work with the iris dataset\n",
    "\n",
    "# How many observations are for each type of flower?\n",
    "\n",
    "# What are the units of each variable?\n"
   ]
  }
 ],
 "metadata": {
  "colab": {
   "provenance": []
  },
  "kernelspec": {
   "display_name": "Python 3",
   "language": "python",
   "name": "python3"
  },
  "language_info": {
   "codemirror_mode": {
    "name": "ipython",
    "version": 3
   },
   "file_extension": ".py",
   "mimetype": "text/x-python",
   "name": "python",
   "nbconvert_exporter": "python",
   "pygments_lexer": "ipython3",
   "version": "3.8.3"
  }
 },
 "nbformat": 4,
 "nbformat_minor": 0
}
