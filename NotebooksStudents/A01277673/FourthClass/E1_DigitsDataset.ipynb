{
 "cells": [
  {
   "metadata": {},
   "cell_type": "markdown",
   "source": [
    "# Digits Dataset\n",
    "## José Benjamín Ortiz Badillo A01277673\n",
    "\n",
    "This dataset is made up of 1797 8x8 images. Each image, is of a hand-written digit. In order to utilize an 8x8 figure we need to first transform it into a feature vector with length 64."
   ],
   "id": "a8d17048cfc0b1f0"
  },
  {
   "cell_type": "code",
   "id": "initial_id",
   "metadata": {
    "collapsed": true,
    "ExecuteTime": {
     "end_time": "2024-09-12T16:30:43.276546Z",
     "start_time": "2024-09-12T16:30:43.246280Z"
    }
   },
   "source": [
    "#Import libraries and the digits dataset\n",
    "import pandas as pd\n",
    "import matplotlib.pyplot as plt\n",
    "from sklearn.datasets import load_digits\n",
    "from sklearn.cluster import KMeans\n",
    "\n",
    "#Main variables\n",
    "digits = load_digits()\n",
    "data = digits.data\n",
    "target = digits.target\n",
    "\n",
    "df = pd.DataFrame(digits.data)\n",
    "\n",
    "df[\"Digit\"] = digits.target"
   ],
   "outputs": [],
   "execution_count": 54
  },
  {
   "metadata": {},
   "cell_type": "markdown",
   "source": [
    "## Understanding the dataset\n",
    "\n",
    "By printing the first 5 elements, we notice we have a 64 column dataframe. This indicates that for each of these entries, there's 64 values assigned to it. \n",
    "\n",
    "This can sound familiar, as we mentioned previously, each of these entries, represents a hand-written number, that is then converted into a flattened array of 64 features, corresponding to a gray-scale value of a pixel.\n",
    "\n",
    "In this dataset, there are 10 classes, which represent each number from 0 to 9."
   ],
   "id": "19f6e8cc25233039"
  },
  {
   "metadata": {
    "ExecuteTime": {
     "end_time": "2024-09-12T16:30:43.306848Z",
     "start_time": "2024-09-12T16:30:43.288931Z"
    }
   },
   "cell_type": "code",
   "source": "df.head(5)",
   "id": "cb42e6a374b817a2",
   "outputs": [
    {
     "data": {
      "text/plain": [
       "     0    1    2     3     4     5    6    7    8    9  ...   55   56   57  \\\n",
       "0  0.0  0.0  5.0  13.0   9.0   1.0  0.0  0.0  0.0  0.0  ...  0.0  0.0  0.0   \n",
       "1  0.0  0.0  0.0  12.0  13.0   5.0  0.0  0.0  0.0  0.0  ...  0.0  0.0  0.0   \n",
       "2  0.0  0.0  0.0   4.0  15.0  12.0  0.0  0.0  0.0  0.0  ...  0.0  0.0  0.0   \n",
       "3  0.0  0.0  7.0  15.0  13.0   1.0  0.0  0.0  0.0  8.0  ...  0.0  0.0  0.0   \n",
       "4  0.0  0.0  0.0   1.0  11.0   0.0  0.0  0.0  0.0  0.0  ...  0.0  0.0  0.0   \n",
       "\n",
       "    58    59    60    61   62   63  Digit  \n",
       "0  6.0  13.0  10.0   0.0  0.0  0.0      0  \n",
       "1  0.0  11.0  16.0  10.0  0.0  0.0      1  \n",
       "2  0.0   3.0  11.0  16.0  9.0  0.0      2  \n",
       "3  7.0  13.0  13.0   9.0  0.0  0.0      3  \n",
       "4  0.0   2.0  16.0   4.0  0.0  0.0      4  \n",
       "\n",
       "[5 rows x 65 columns]"
      ],
      "text/html": [
       "<div>\n",
       "<style scoped>\n",
       "    .dataframe tbody tr th:only-of-type {\n",
       "        vertical-align: middle;\n",
       "    }\n",
       "\n",
       "    .dataframe tbody tr th {\n",
       "        vertical-align: top;\n",
       "    }\n",
       "\n",
       "    .dataframe thead th {\n",
       "        text-align: right;\n",
       "    }\n",
       "</style>\n",
       "<table border=\"1\" class=\"dataframe\">\n",
       "  <thead>\n",
       "    <tr style=\"text-align: right;\">\n",
       "      <th></th>\n",
       "      <th>0</th>\n",
       "      <th>1</th>\n",
       "      <th>2</th>\n",
       "      <th>3</th>\n",
       "      <th>4</th>\n",
       "      <th>5</th>\n",
       "      <th>6</th>\n",
       "      <th>7</th>\n",
       "      <th>8</th>\n",
       "      <th>9</th>\n",
       "      <th>...</th>\n",
       "      <th>55</th>\n",
       "      <th>56</th>\n",
       "      <th>57</th>\n",
       "      <th>58</th>\n",
       "      <th>59</th>\n",
       "      <th>60</th>\n",
       "      <th>61</th>\n",
       "      <th>62</th>\n",
       "      <th>63</th>\n",
       "      <th>Digit</th>\n",
       "    </tr>\n",
       "  </thead>\n",
       "  <tbody>\n",
       "    <tr>\n",
       "      <th>0</th>\n",
       "      <td>0.0</td>\n",
       "      <td>0.0</td>\n",
       "      <td>5.0</td>\n",
       "      <td>13.0</td>\n",
       "      <td>9.0</td>\n",
       "      <td>1.0</td>\n",
       "      <td>0.0</td>\n",
       "      <td>0.0</td>\n",
       "      <td>0.0</td>\n",
       "      <td>0.0</td>\n",
       "      <td>...</td>\n",
       "      <td>0.0</td>\n",
       "      <td>0.0</td>\n",
       "      <td>0.0</td>\n",
       "      <td>6.0</td>\n",
       "      <td>13.0</td>\n",
       "      <td>10.0</td>\n",
       "      <td>0.0</td>\n",
       "      <td>0.0</td>\n",
       "      <td>0.0</td>\n",
       "      <td>0</td>\n",
       "    </tr>\n",
       "    <tr>\n",
       "      <th>1</th>\n",
       "      <td>0.0</td>\n",
       "      <td>0.0</td>\n",
       "      <td>0.0</td>\n",
       "      <td>12.0</td>\n",
       "      <td>13.0</td>\n",
       "      <td>5.0</td>\n",
       "      <td>0.0</td>\n",
       "      <td>0.0</td>\n",
       "      <td>0.0</td>\n",
       "      <td>0.0</td>\n",
       "      <td>...</td>\n",
       "      <td>0.0</td>\n",
       "      <td>0.0</td>\n",
       "      <td>0.0</td>\n",
       "      <td>0.0</td>\n",
       "      <td>11.0</td>\n",
       "      <td>16.0</td>\n",
       "      <td>10.0</td>\n",
       "      <td>0.0</td>\n",
       "      <td>0.0</td>\n",
       "      <td>1</td>\n",
       "    </tr>\n",
       "    <tr>\n",
       "      <th>2</th>\n",
       "      <td>0.0</td>\n",
       "      <td>0.0</td>\n",
       "      <td>0.0</td>\n",
       "      <td>4.0</td>\n",
       "      <td>15.0</td>\n",
       "      <td>12.0</td>\n",
       "      <td>0.0</td>\n",
       "      <td>0.0</td>\n",
       "      <td>0.0</td>\n",
       "      <td>0.0</td>\n",
       "      <td>...</td>\n",
       "      <td>0.0</td>\n",
       "      <td>0.0</td>\n",
       "      <td>0.0</td>\n",
       "      <td>0.0</td>\n",
       "      <td>3.0</td>\n",
       "      <td>11.0</td>\n",
       "      <td>16.0</td>\n",
       "      <td>9.0</td>\n",
       "      <td>0.0</td>\n",
       "      <td>2</td>\n",
       "    </tr>\n",
       "    <tr>\n",
       "      <th>3</th>\n",
       "      <td>0.0</td>\n",
       "      <td>0.0</td>\n",
       "      <td>7.0</td>\n",
       "      <td>15.0</td>\n",
       "      <td>13.0</td>\n",
       "      <td>1.0</td>\n",
       "      <td>0.0</td>\n",
       "      <td>0.0</td>\n",
       "      <td>0.0</td>\n",
       "      <td>8.0</td>\n",
       "      <td>...</td>\n",
       "      <td>0.0</td>\n",
       "      <td>0.0</td>\n",
       "      <td>0.0</td>\n",
       "      <td>7.0</td>\n",
       "      <td>13.0</td>\n",
       "      <td>13.0</td>\n",
       "      <td>9.0</td>\n",
       "      <td>0.0</td>\n",
       "      <td>0.0</td>\n",
       "      <td>3</td>\n",
       "    </tr>\n",
       "    <tr>\n",
       "      <th>4</th>\n",
       "      <td>0.0</td>\n",
       "      <td>0.0</td>\n",
       "      <td>0.0</td>\n",
       "      <td>1.0</td>\n",
       "      <td>11.0</td>\n",
       "      <td>0.0</td>\n",
       "      <td>0.0</td>\n",
       "      <td>0.0</td>\n",
       "      <td>0.0</td>\n",
       "      <td>0.0</td>\n",
       "      <td>...</td>\n",
       "      <td>0.0</td>\n",
       "      <td>0.0</td>\n",
       "      <td>0.0</td>\n",
       "      <td>0.0</td>\n",
       "      <td>2.0</td>\n",
       "      <td>16.0</td>\n",
       "      <td>4.0</td>\n",
       "      <td>0.0</td>\n",
       "      <td>0.0</td>\n",
       "      <td>4</td>\n",
       "    </tr>\n",
       "  </tbody>\n",
       "</table>\n",
       "<p>5 rows × 65 columns</p>\n",
       "</div>"
      ]
     },
     "execution_count": 55,
     "metadata": {},
     "output_type": "execute_result"
    }
   ],
   "execution_count": 55
  },
  {
   "metadata": {},
   "cell_type": "markdown",
   "source": "We can verify we have number by plotting the first row of this dataset.",
   "id": "c38586ea25599e44"
  },
  {
   "metadata": {
    "ExecuteTime": {
     "end_time": "2024-09-12T16:30:43.642362Z",
     "start_time": "2024-09-12T16:30:43.421822Z"
    }
   },
   "cell_type": "code",
   "source": [
    "#Plotting the first element\n",
    "plt.gray()\n",
    "plt.matshow(digits.images[0])\n",
    "plt.show()"
   ],
   "id": "f104bee0b0c777cd",
   "outputs": [
    {
     "data": {
      "text/plain": [
       "<Figure size 640x480 with 0 Axes>"
      ]
     },
     "metadata": {},
     "output_type": "display_data"
    },
    {
     "data": {
      "text/plain": [
       "<Figure size 480x480 with 1 Axes>"
      ],
      "image/png": "[encoded data removed]"
     },
     "metadata": {},
     "output_type": "display_data"
    }
   ],
   "execution_count": 56
  },
  {
   "metadata": {},
   "cell_type": "markdown",
   "source": "As we can see, the plotting of the first row, returns a number (0).",
   "id": "fb6853636a8ead63"
  },
  {
   "metadata": {},
   "cell_type": "markdown",
   "source": "## More examples",
   "id": "4802c7cf060b682"
  },
  {
   "metadata": {
    "ExecuteTime": {
     "end_time": "2024-09-12T16:30:44.494807Z",
     "start_time": "2024-09-12T16:30:43.730192Z"
    }
   },
   "cell_type": "code",
   "source": [
    "# Plotting the first six images\n",
    "fig, axes = plt.subplots(2, 3, figsize=(10, 5))\n",
    "\n",
    "for i, ax in enumerate(axes.flat):\n",
    "    ax.imshow(digits.images[i], cmap='gray')\n",
    "    ax.set_title(f'Digit: {digits.target[i]}')\n",
    "    ax.axis('off')\n",
    "\n",
    "plt.tight_layout()\n",
    "plt.show()"
   ],
   "id": "afe30588176ff4b3",
   "outputs": [
    {
     "data": {
      "text/plain": [
       "<Figure size 1000x500 with 6 Axes>"
      ],
      "image/png": "[encoded data removed]"
     },
     "metadata": {},
     "output_type": "display_data"
    }
   ],
   "execution_count": 57
  },
  {
   "metadata": {},
   "cell_type": "markdown",
   "source": [
    "## Summary Statistics\n",
    "\n",
    "Let's use the describe method for the entire dataframe."
   ],
   "id": "bb569db6cc679675"
  },
  {
   "metadata": {
    "ExecuteTime": {
     "end_time": "2024-09-12T16:30:44.669760Z",
     "start_time": "2024-09-12T16:30:44.574114Z"
    }
   },
   "cell_type": "code",
   "source": "df.describe()",
   "id": "519e1ef77ed0b21",
   "outputs": [
    {
     "data": {
      "text/plain": [
       "            0            1            2            3            4  \\\n",
       "count  1797.0  1797.000000  1797.000000  1797.000000  1797.000000   \n",
       "mean      0.0     0.303840     5.204786    11.835838    11.848080   \n",
       "std       0.0     0.907192     4.754826     4.248842     4.287388   \n",
       "min       0.0     0.000000     0.000000     0.000000     0.000000   \n",
       "25%       0.0     0.000000     1.000000    10.000000    10.000000   \n",
       "50%       0.0     0.000000     4.000000    13.000000    13.000000   \n",
       "75%       0.0     0.000000     9.000000    15.000000    15.000000   \n",
       "max       0.0     8.000000    16.000000    16.000000    16.000000   \n",
       "\n",
       "                 5            6            7            8            9  ...  \\\n",
       "count  1797.000000  1797.000000  1797.000000  1797.000000  1797.000000  ...   \n",
       "mean      5.781859     1.362270     0.129661     0.005565     1.993879  ...   \n",
       "std       5.666418     3.325775     1.037383     0.094222     3.196160  ...   \n",
       "min       0.000000     0.000000     0.000000     0.000000     0.000000  ...   \n",
       "25%       0.000000     0.000000     0.000000     0.000000     0.000000  ...   \n",
       "50%       4.000000     0.000000     0.000000     0.000000     0.000000  ...   \n",
       "75%      11.000000     0.000000     0.000000     0.000000     3.000000  ...   \n",
       "max      16.000000    16.000000    15.000000     2.000000    16.000000  ...   \n",
       "\n",
       "                55           56           57           58           59  \\\n",
       "count  1797.000000  1797.000000  1797.000000  1797.000000  1797.000000   \n",
       "mean      0.206455     0.000556     0.279354     5.557596    12.089037   \n",
       "std       0.984401     0.023590     0.934302     5.103019     4.374694   \n",
       "min       0.000000     0.000000     0.000000     0.000000     0.000000   \n",
       "25%       0.000000     0.000000     0.000000     1.000000    11.000000   \n",
       "50%       0.000000     0.000000     0.000000     4.000000    13.000000   \n",
       "75%       0.000000     0.000000     0.000000    10.000000    16.000000   \n",
       "max      13.000000     1.000000     9.000000    16.000000    16.000000   \n",
       "\n",
       "                60           61           62           63        Digit  \n",
       "count  1797.000000  1797.000000  1797.000000  1797.000000  1797.000000  \n",
       "mean     11.809126     6.764051     2.067891     0.364496     4.490818  \n",
       "std       4.933947     5.900623     4.090548     1.860122     2.865304  \n",
       "min       0.000000     0.000000     0.000000     0.000000     0.000000  \n",
       "25%      10.000000     0.000000     0.000000     0.000000     2.000000  \n",
       "50%      14.000000     6.000000     0.000000     0.000000     4.000000  \n",
       "75%      16.000000    12.000000     2.000000     0.000000     7.000000  \n",
       "max      16.000000    16.000000    16.000000    16.000000     9.000000  \n",
       "\n",
       "[8 rows x 65 columns]"
      ],
      "text/html": [
       "<div>\n",
       "<style scoped>\n",
       "    .dataframe tbody tr th:only-of-type {\n",
       "        vertical-align: middle;\n",
       "    }\n",
       "\n",
       "    .dataframe tbody tr th {\n",
       "        vertical-align: top;\n",
       "    }\n",
       "\n",
       "    .dataframe thead th {\n",
       "        text-align: right;\n",
       "    }\n",
       "</style>\n",
       "<table border=\"1\" class=\"dataframe\">\n",
       "  <thead>\n",
       "    <tr style=\"text-align: right;\">\n",
       "      <th></th>\n",
       "      <th>0</th>\n",
       "      <th>1</th>\n",
       "      <th>2</th>\n",
       "      <th>3</th>\n",
       "      <th>4</th>\n",
       "      <th>5</th>\n",
       "      <th>6</th>\n",
       "      <th>7</th>\n",
       "      <th>8</th>\n",
       "      <th>9</th>\n",
       "      <th>...</th>\n",
       "      <th>55</th>\n",
       "      <th>56</th>\n",
       "      <th>57</th>\n",
       "      <th>58</th>\n",
       "      <th>59</th>\n",
       "      <th>60</th>\n",
       "      <th>61</th>\n",
       "      <th>62</th>\n",
       "      <th>63</th>\n",
       "      <th>Digit</th>\n",
       "    </tr>\n",
       "  </thead>\n",
       "  <tbody>\n",
       "    <tr>\n",
       "      <th>count</th>\n",
       "      <td>1797.0</td>\n",
       "      <td>1797.000000</td>\n",
       "      <td>1797.000000</td>\n",
       "      <td>1797.000000</td>\n",
       "      <td>1797.000000</td>\n",
       "      <td>1797.000000</td>\n",
       "      <td>1797.000000</td>\n",
       "      <td>1797.000000</td>\n",
       "      <td>1797.000000</td>\n",
       "      <td>1797.000000</td>\n",
       "      <td>...</td>\n",
       "      <td>1797.000000</td>\n",
       "      <td>1797.000000</td>\n",
       "      <td>1797.000000</td>\n",
       "      <td>1797.000000</td>\n",
       "      <td>1797.000000</td>\n",
       "      <td>1797.000000</td>\n",
       "      <td>1797.000000</td>\n",
       "      <td>1797.000000</td>\n",
       "      <td>1797.000000</td>\n",
       "      <td>1797.000000</td>\n",
       "    </tr>\n",
       "    <tr>\n",
       "      <th>mean</th>\n",
       "      <td>0.0</td>\n",
       "      <td>0.303840</td>\n",
       "      <td>5.204786</td>\n",
       "      <td>11.835838</td>\n",
       "      <td>11.848080</td>\n",
       "      <td>5.781859</td>\n",
       "      <td>1.362270</td>\n",
       "      <td>0.129661</td>\n",
       "      <td>0.005565</td>\n",
       "      <td>1.993879</td>\n",
       "      <td>...</td>\n",
       "      <td>0.206455</td>\n",
       "      <td>0.000556</td>\n",
       "      <td>0.279354</td>\n",
       "      <td>5.557596</td>\n",
       "      <td>12.089037</td>\n",
       "      <td>11.809126</td>\n",
       "      <td>6.764051</td>\n",
       "      <td>2.067891</td>\n",
       "      <td>0.364496</td>\n",
       "      <td>4.490818</td>\n",
       "    </tr>\n",
       "    <tr>\n",
       "      <th>std</th>\n",
       "      <td>0.0</td>\n",
       "      <td>0.907192</td>\n",
       "      <td>4.754826</td>\n",
       "      <td>4.248842</td>\n",
       "      <td>4.287388</td>\n",
       "      <td>5.666418</td>\n",
       "      <td>3.325775</td>\n",
       "      <td>1.037383</td>\n",
       "      <td>0.094222</td>\n",
       "      <td>3.196160</td>\n",
       "      <td>...</td>\n",
       "      <td>0.984401</td>\n",
       "      <td>0.023590</td>\n",
       "      <td>0.934302</td>\n",
       "      <td>5.103019</td>\n",
       "      <td>4.374694</td>\n",
       "      <td>4.933947</td>\n",
       "      <td>5.900623</td>\n",
       "      <td>4.090548</td>\n",
       "      <td>1.860122</td>\n",
       "      <td>2.865304</td>\n",
       "    </tr>\n",
       "    <tr>\n",
       "      <th>min</th>\n",
       "      <td>0.0</td>\n",
       "      <td>0.000000</td>\n",
       "      <td>0.000000</td>\n",
       "      <td>0.000000</td>\n",
       "      <td>0.000000</td>\n",
       "      <td>0.000000</td>\n",
       "      <td>0.000000</td>\n",
       "      <td>0.000000</td>\n",
       "      <td>0.000000</td>\n",
       "      <td>0.000000</td>\n",
       "      <td>...</td>\n",
       "      <td>0.000000</td>\n",
       "      <td>0.000000</td>\n",
       "      <td>0.000000</td>\n",
       "      <td>0.000000</td>\n",
       "      <td>0.000000</td>\n",
       "      <td>0.000000</td>\n",
       "      <td>0.000000</td>\n",
       "      <td>0.000000</td>\n",
       "      <td>0.000000</td>\n",
       "      <td>0.000000</td>\n",
       "    </tr>\n",
       "    <tr>\n",
       "      <th>25%</th>\n",
       "      <td>0.0</td>\n",
       "      <td>0.000000</td>\n",
       "      <td>1.000000</td>\n",
       "      <td>10.000000</td>\n",
       "      <td>10.000000</td>\n",
       "      <td>0.000000</td>\n",
       "      <td>0.000000</td>\n",
       "      <td>0.000000</td>\n",
       "      <td>0.000000</td>\n",
       "      <td>0.000000</td>\n",
       "      <td>...</td>\n",
       "      <td>0.000000</td>\n",
       "      <td>0.000000</td>\n",
       "      <td>0.000000</td>\n",
       "      <td>1.000000</td>\n",
       "      <td>11.000000</td>\n",
       "      <td>10.000000</td>\n",
       "      <td>0.000000</td>\n",
       "      <td>0.000000</td>\n",
       "      <td>0.000000</td>\n",
       "      <td>2.000000</td>\n",
       "    </tr>\n",
       "    <tr>\n",
       "      <th>50%</th>\n",
       "      <td>0.0</td>\n",
       "      <td>0.000000</td>\n",
       "      <td>4.000000</td>\n",
       "      <td>13.000000</td>\n",
       "      <td>13.000000</td>\n",
       "      <td>4.000000</td>\n",
       "      <td>0.000000</td>\n",
       "      <td>0.000000</td>\n",
       "      <td>0.000000</td>\n",
       "      <td>0.000000</td>\n",
       "      <td>...</td>\n",
       "      <td>0.000000</td>\n",
       "      <td>0.000000</td>\n",
       "      <td>0.000000</td>\n",
       "      <td>4.000000</td>\n",
       "      <td>13.000000</td>\n",
       "      <td>14.000000</td>\n",
       "      <td>6.000000</td>\n",
       "      <td>0.000000</td>\n",
       "      <td>0.000000</td>\n",
       "      <td>4.000000</td>\n",
       "    </tr>\n",
       "    <tr>\n",
       "      <th>75%</th>\n",
       "      <td>0.0</td>\n",
       "      <td>0.000000</td>\n",
       "      <td>9.000000</td>\n",
       "      <td>15.000000</td>\n",
       "      <td>15.000000</td>\n",
       "      <td>11.000000</td>\n",
       "      <td>0.000000</td>\n",
       "      <td>0.000000</td>\n",
       "      <td>0.000000</td>\n",
       "      <td>3.000000</td>\n",
       "      <td>...</td>\n",
       "      <td>0.000000</td>\n",
       "      <td>0.000000</td>\n",
       "      <td>0.000000</td>\n",
       "      <td>10.000000</td>\n",
       "      <td>16.000000</td>\n",
       "      <td>16.000000</td>\n",
       "      <td>12.000000</td>\n",
       "      <td>2.000000</td>\n",
       "      <td>0.000000</td>\n",
       "      <td>7.000000</td>\n",
       "    </tr>\n",
       "    <tr>\n",
       "      <th>max</th>\n",
       "      <td>0.0</td>\n",
       "      <td>8.000000</td>\n",
       "      <td>16.000000</td>\n",
       "      <td>16.000000</td>\n",
       "      <td>16.000000</td>\n",
       "      <td>16.000000</td>\n",
       "      <td>16.000000</td>\n",
       "      <td>15.000000</td>\n",
       "      <td>2.000000</td>\n",
       "      <td>16.000000</td>\n",
       "      <td>...</td>\n",
       "      <td>13.000000</td>\n",
       "      <td>1.000000</td>\n",
       "      <td>9.000000</td>\n",
       "      <td>16.000000</td>\n",
       "      <td>16.000000</td>\n",
       "      <td>16.000000</td>\n",
       "      <td>16.000000</td>\n",
       "      <td>16.000000</td>\n",
       "      <td>16.000000</td>\n",
       "      <td>9.000000</td>\n",
       "    </tr>\n",
       "  </tbody>\n",
       "</table>\n",
       "<p>8 rows × 65 columns</p>\n",
       "</div>"
      ]
     },
     "execution_count": 58,
     "metadata": {},
     "output_type": "execute_result"
    }
   ],
   "execution_count": 58
  },
  {
   "metadata": {},
   "cell_type": "markdown",
   "source": [
    "## Conclusions\n",
    "\n",
    "1. Mean: this refers to the average intensity of each pixel, if we have a greater mean, this indicates that that pixel is usually closer to black than it is to white and vice versa.\n",
    "2. Std: refers to the standard deviation of this value, for the most part, the value of this deviation is large, meaning there's more variability in how often that pixel is activated across different samples.\n",
    "3. The percentiles\n",
    "    1. 25%: this shows that 25% of the pixel values are below a certain intensity. For example, pixel 5 has a 25% value of 0, meaning a quarter of the samples have a 0 intensity for that pixel.\n",
    "    2. 50%: the median value of the pixel intensity. Half of the samples have pixel values below this. It helps understand the typical intensity of each pixel.\n",
    "    3. 75%: 75% of the samples have pixel values below this intensity, meaning only the top 25% are brighter than this value.\n",
    "\n"
   ],
   "id": "ba0baf7e4bbaa793"
  },
  {
   "metadata": {},
   "cell_type": "markdown",
   "source": "## Visualization",
   "id": "f84ab45fabae6e1c"
  },
  {
   "metadata": {
    "ExecuteTime": {
     "end_time": "2024-09-12T16:30:45.112576Z",
     "start_time": "2024-09-12T16:30:44.814855Z"
    }
   },
   "cell_type": "code",
   "source": [
    "indices = [i for i, target in enumerate(digits.target) if target == 1][:10]\n",
    "subset = df.iloc[indices, 9:17]\n",
    "\n",
    "# Plot the boxplot for the subset\n",
    "plt.figure(figsize=(10, 6))\n",
    "subset.boxplot()\n",
    "plt.title(\"Boxplot of the first 10 rows of digit '1' (columns 9 to 16)\")\n",
    "plt.xlabel(\"Pixel Index\")\n",
    "plt.ylabel(\"Pixel Value\")\n",
    "plt.show()"
   ],
   "id": "20373275e1bc4ff1",
   "outputs": [
    {
     "data": {
      "text/plain": [
       "<Figure size 1000x600 with 1 Axes>"
      ],
      "image/png": "[encoded data removed]"
     },
     "metadata": {},
     "output_type": "display_data"
    }
   ],
   "execution_count": 59
  },
  {
   "metadata": {},
   "cell_type": "markdown",
   "source": [
    "## Observations\n",
    "This boxplot is showing the information of the second row (matrix wise) for the first 10 elements that represent the number \"1\". We can observe that the first two pixels are frequently blank, then we get a spike in the center representing the body of the \"1\", finally in descends meaning there's no more color in the image. Let's plot the first 10 images to watch it clearer."
   ],
   "id": "98ed7d9e6a0f75af"
  },
  {
   "metadata": {
    "ExecuteTime": {
     "end_time": "2024-09-12T16:30:46.616441Z",
     "start_time": "2024-09-12T16:30:45.232748Z"
    }
   },
   "cell_type": "code",
   "source": [
    "# Plot the first 10 images of the digit '1'\n",
    "indices = [i for i, target in enumerate(digits.target) if target == 1][:10]\n",
    "\n",
    "fig, axes = plt.subplots(2, 5, figsize=(11, 5))\n",
    "\n",
    "for i, ax in enumerate(axes.flat):\n",
    "    ax.imshow(digits.images[indices[i]], cmap='Greys')\n",
    "    ax.set_title(f'Row number: {indices[i]}')\n",
    "    ax.axis('off')\n",
    "\n",
    "plt.tight_layout()\n",
    "plt.show()"
   ],
   "id": "c28f227ad1b7754f",
   "outputs": [
    {
     "data": {
      "text/plain": [
       "<Figure size 1100x500 with 10 Axes>"
      ],
      "image/png": "[encoded data removed]"
     },
     "metadata": {},
     "output_type": "display_data"
    }
   ],
   "execution_count": 60
  },
  {
   "metadata": {},
   "cell_type": "markdown",
   "source": "In each of these images we can see the previously described pattern, there's the first 2 blank pixels, followed by the body of the \"1\", and finally the ink wears off and returns to its blank origin.",
   "id": "f85b1261cf72e8fd"
  },
  {
   "metadata": {
    "ExecuteTime": {
     "end_time": "2024-09-12T16:30:47.542261Z",
     "start_time": "2024-09-12T16:30:46.628988Z"
    }
   },
   "cell_type": "code",
   "source": [
    "fig, axes = plt.subplots(2, 5, figsize=(15, 6))\n",
    "\n",
    "for i, ax in enumerate(axes.flat):\n",
    "    ax.scatter(range(9, 17), subset.iloc[i])\n",
    "    ax.set_title(f'Row number: {indices[i]}')\n",
    "    ax.set_xlabel('Pixel Index')\n",
    "    ax.set_ylabel('Pixel Value')\n",
    "\n",
    "plt.tight_layout()\n",
    "plt.show()"
   ],
   "id": "4709d71104c08adc",
   "outputs": [
    {
     "data": {
      "text/plain": [
       "<Figure size 1500x600 with 10 Axes>"
      ],
      "image/png": "[encoded data removed]"
     },
     "metadata": {},
     "output_type": "display_data"
    }
   ],
   "execution_count": 61
  },
  {
   "metadata": {},
   "cell_type": "markdown",
   "source": "The same trend that appeared in the boxplot, appears here, meaning each of these has a blank space, followed by the \"1\" body, and then it wears off.",
   "id": "82dc53a4f22fe14d"
  },
  {
   "metadata": {},
   "cell_type": "markdown",
   "source": "## K - Means with 64 columns",
   "id": "bf5a820b70060129"
  },
  {
   "metadata": {
    "ExecuteTime": {
     "end_time": "2024-09-12T16:30:48.337035Z",
     "start_time": "2024-09-12T16:30:47.665293Z"
    }
   },
   "cell_type": "code",
   "source": [
    "kmeans = KMeans(n_clusters=10, random_state=42)\n",
    "clusters = kmeans.fit_predict(data)\n",
    "\n",
    "# Create a DataFrame with the data and cluster labels\n",
    "alteredDf = pd.DataFrame(data, columns=[f'pixel_{i}' for i in range(data.shape[1])])\n",
    "alteredDf['predictionKmeans'] = clusters\n",
    "alteredDf['actualDigit'] = target\n",
    "\n",
    "digit_2_df = alteredDf[alteredDf['actualDigit'] == 1]\n",
    "\n",
    "# Plot 10 images where the actual digit is '5' and show its prediction\n",
    "fig, axes = plt.subplots(2, 5, figsize=(10, 5))\n",
    "\n",
    "for i, ax in enumerate(axes.flat):\n",
    "    if i < len(digit_2_df):\n",
    "        index = digit_2_df.index[i]\n",
    "        image = data[index].reshape(8, 8)\n",
    "        prediction = digit_2_df.loc[index, 'predictionKmeans']\n",
    "        ax.imshow(image, cmap='gray')\n",
    "        ax.set_title(f'Pred: {prediction}')\n",
    "        ax.axis('off')\n",
    "\n",
    "plt.tight_layout()\n",
    "plt.show()"
   ],
   "id": "788c52bad4651ebc",
   "outputs": [
    {
     "data": {
      "text/plain": [
       "<Figure size 1000x500 with 10 Axes>"
      ],
      "image/png": "[encoded data removed]"
     },
     "metadata": {},
     "output_type": "display_data"
    }
   ],
   "execution_count": 62
  },
  {
   "metadata": {},
   "cell_type": "markdown",
   "source": [
    "## Conclusions\n",
    "\n",
    "Most of the results given by the K-Means prediction are wrong, but this is okay, given all of the columns as the data we could have some margin of error, lets try to do it by individual rows and columns of an image."
   ],
   "id": "32bfdc7aeb1b8f22"
  },
  {
   "metadata": {},
   "cell_type": "markdown",
   "source": "## K-Means with Rows",
   "id": "79c3b619ca1adafd"
  },
  {
   "metadata": {
    "ExecuteTime": {
     "end_time": "2024-09-12T16:30:49.034798Z",
     "start_time": "2024-09-12T16:30:48.344078Z"
    }
   },
   "cell_type": "code",
   "source": [
    "selected_rows = df.iloc[:, 8:15]\n",
    "\n",
    "# Apply K-means clustering on the selected rows\n",
    "kmeans = KMeans(n_clusters=10, random_state=42)\n",
    "clusters = kmeans.fit_predict(selected_rows)\n",
    "\n",
    "# Create a DataFrame with the data and cluster labels\n",
    "alteredDf = pd.DataFrame(data, columns=[f'pixel_{i}' for i in range(data.shape[1])])\n",
    "alteredDf['predictionKmeans'] = clusters\n",
    "alteredDf['actualDigit'] = target\n",
    "\n",
    "digit_5_df = alteredDf[alteredDf['actualDigit'] == 5]\n",
    "\n",
    "# Plot 10 images where the actual digit is '5' and show its prediction\n",
    "fig, axes = plt.subplots(2, 5, figsize=(10, 5))\n",
    "\n",
    "for i, ax in enumerate(axes.flat):\n",
    "    if i < len(digit_5_df):\n",
    "        index = digit_5_df.index[i]\n",
    "        image = data[index].reshape(8, 8)\n",
    "        prediction = digit_5_df.loc[index, 'predictionKmeans']\n",
    "        ax.imshow(image, cmap='gray')\n",
    "        ax.set_title(f'Pred: {prediction}')\n",
    "        ax.axis('off')\n",
    "\n",
    "plt.tight_layout()\n",
    "plt.show()"
   ],
   "id": "71023de7fb1165bd",
   "outputs": [
    {
     "data": {
      "text/plain": [
       "<Figure size 1000x500 with 10 Axes>"
      ],
      "image/png": "[encoded data removed]"
     },
     "metadata": {},
     "output_type": "display_data"
    }
   ],
   "execution_count": 63
  },
  {
   "metadata": {},
   "cell_type": "markdown",
   "source": "With this image, we can see that using the second row as reference does not give us the best output, let's try it with more rows.",
   "id": "6200e367f5fe311f"
  },
  {
   "metadata": {
    "ExecuteTime": {
     "end_time": "2024-09-12T16:30:50.018129Z",
     "start_time": "2024-09-12T16:30:49.094263Z"
    }
   },
   "cell_type": "code",
   "source": [
    "#Now selecting the 3rd row of the image\n",
    "selected_rows = df.iloc[:, 16:23]\n",
    "\n",
    "# Apply K-means clustering on the selected rows\n",
    "kmeans = KMeans(n_clusters=10, random_state=42)\n",
    "clusters = kmeans.fit_predict(selected_rows)\n",
    "\n",
    "# Create a DataFrame with the data and cluster labels\n",
    "alteredDf = pd.DataFrame(data, columns=[f'pixel_{i}' for i in range(data.shape[1])])\n",
    "alteredDf['predictionKmeans'] = clusters\n",
    "alteredDf['actualDigit'] = target\n",
    "\n",
    "digit_5_df = alteredDf[alteredDf['actualDigit'] == 5]\n",
    "\n",
    "# Plot 10 images where the actual digit is '5' and show its prediction\n",
    "fig, axes = plt.subplots(2, 5, figsize=(10, 5))\n",
    "\n",
    "for i, ax in enumerate(axes.flat):\n",
    "    if i < len(digit_5_df):\n",
    "        index = digit_5_df.index[i]\n",
    "        image = data[index].reshape(8, 8)\n",
    "        prediction = digit_5_df.loc[index, 'predictionKmeans']\n",
    "        ax.imshow(image, cmap='gray')\n",
    "        ax.set_title(f'Pred: {prediction}')\n",
    "        ax.axis('off')\n",
    "\n",
    "plt.tight_layout()\n",
    "plt.show()"
   ],
   "id": "6fe9e737c7b8f82a",
   "outputs": [
    {
     "data": {
      "text/plain": [
       "<Figure size 1000x500 with 10 Axes>"
      ],
      "image/png": "[encoded data removed]"
     },
     "metadata": {},
     "output_type": "display_data"
    }
   ],
   "execution_count": 64
  },
  {
   "metadata": {},
   "cell_type": "markdown",
   "source": "It gives us an even weirder result.",
   "id": "82a11f693f65347b"
  },
  {
   "metadata": {},
   "cell_type": "markdown",
   "source": "## K-Means with Columns",
   "id": "3c5a7643ceeebc04"
  },
  {
   "metadata": {
    "ExecuteTime": {
     "end_time": "2024-09-12T16:30:50.807739Z",
     "start_time": "2024-09-12T16:30:50.080801Z"
    }
   },
   "cell_type": "code",
   "source": [
    "#Selecting the 2nd column of the image\n",
    "selected_columns = df.iloc[:, [2,10,18,26,34,42,50,58]]\n",
    "\n",
    "# Apply K-means clustering on the selected rows\n",
    "kmeans = KMeans(n_clusters=10, random_state=42)\n",
    "clusters = kmeans.fit_predict(selected_columns)\n",
    "\n",
    "# Create a DataFrame with the data and cluster labels\n",
    "alteredDf = pd.DataFrame(data, columns=[f'pixel_{i}' for i in range(data.shape[1])])\n",
    "alteredDf['predictionKmeans'] = clusters\n",
    "alteredDf['actualDigit'] = target\n",
    "\n",
    "digit_5_df = alteredDf[alteredDf['actualDigit'] == 5]\n",
    "\n",
    "# Plot 10 images where the actual digit is '5' and show its prediction\n",
    "fig, axes = plt.subplots(2, 5, figsize=(10, 5))\n",
    "\n",
    "for i, ax in enumerate(axes.flat):\n",
    "    if i < len(digit_5_df):\n",
    "        index = digit_5_df.index[i]\n",
    "        image = data[index].reshape(8, 8)\n",
    "        prediction = digit_5_df.loc[index, 'predictionKmeans']\n",
    "        ax.imshow(image, cmap='gray')\n",
    "        ax.set_title(f'Pred: {prediction}')\n",
    "        ax.axis('off')\n",
    "\n",
    "plt.tight_layout()\n",
    "plt.show()"
   ],
   "id": "ab04edb9bfa935a9",
   "outputs": [
    {
     "data": {
      "text/plain": [
       "<Figure size 1000x500 with 10 Axes>"
      ],
      "image/png": "[encoded data removed]"
     },
     "metadata": {},
     "output_type": "display_data"
    }
   ],
   "execution_count": 65
  },
  {
   "metadata": {},
   "cell_type": "markdown",
   "source": "By using the second column as reference, the prediction was so off. Lets try using the middle column and the fourth one.",
   "id": "b66af720de115b35"
  },
  {
   "metadata": {
    "ExecuteTime": {
     "end_time": "2024-09-12T16:30:51.521948Z",
     "start_time": "2024-09-12T16:30:50.869070Z"
    }
   },
   "cell_type": "code",
   "source": [
    "#Selecting the 3rd column of the image\n",
    "selected_columns = df.iloc[:, [3,11,19,27,35,43,51,59]]\n",
    "\n",
    "# Apply K-means clustering on the selected rows\n",
    "kmeans = KMeans(n_clusters=10, random_state=42)\n",
    "clusters = kmeans.fit_predict(selected_columns)\n",
    "\n",
    "# Create a DataFrame with the data and cluster labels\n",
    "alteredDf = pd.DataFrame(data, columns=[f'pixel_{i}' for i in range(data.shape[1])])\n",
    "alteredDf['predictionKmeans'] = clusters\n",
    "alteredDf['actualDigit'] = target\n",
    "\n",
    "digit_5_df = alteredDf[alteredDf['actualDigit'] == 5]\n",
    "\n",
    "# Plot 10 images where the actual digit is '5' and show its prediction\n",
    "fig, axes = plt.subplots(2, 5, figsize=(10, 5))\n",
    "\n",
    "for i, ax in enumerate(axes.flat):\n",
    "    if i < len(digit_5_df):\n",
    "        index = digit_5_df.index[i]\n",
    "        image = data[index].reshape(8, 8)\n",
    "        prediction = digit_5_df.loc[index, 'predictionKmeans']\n",
    "        ax.imshow(image, cmap='gray')\n",
    "        ax.set_title(f'Pred: {prediction}')\n",
    "        ax.axis('off')\n",
    "\n",
    "plt.tight_layout()\n",
    "plt.show()"
   ],
   "id": "1cc8337a5737468f",
   "outputs": [
    {
     "data": {
      "text/plain": [
       "<Figure size 1000x500 with 10 Axes>"
      ],
      "image/png": "[encoded data removed]"
     },
     "metadata": {},
     "output_type": "display_data"
    }
   ],
   "execution_count": 66
  },
  {
   "metadata": {
    "ExecuteTime": {
     "end_time": "2024-09-12T16:30:52.317427Z",
     "start_time": "2024-09-12T16:30:51.582398Z"
    }
   },
   "cell_type": "code",
   "source": [
    "#Selecting the 4th column of the image\n",
    "selected_columns = df.iloc[:, [4,12,20,28,36,44,52,60]]\n",
    "\n",
    "# Apply K-means clustering on the selected rows\n",
    "kmeans = KMeans(n_clusters=10, random_state=42)\n",
    "clusters = kmeans.fit_predict(selected_columns)\n",
    "\n",
    "# Create a DataFrame with the data and cluster labels\n",
    "alteredDf = pd.DataFrame(data, columns=[f'pixel_{i}' for i in range(data.shape[1])])\n",
    "alteredDf['predictionKmeans'] = clusters\n",
    "alteredDf['actualDigit'] = target\n",
    "\n",
    "digit_5_df = alteredDf[alteredDf['actualDigit'] == 5]\n",
    "\n",
    "# Plot 10 images where the actual digit is '5' and show its prediction\n",
    "fig, axes = plt.subplots(2, 5, figsize=(10, 5))\n",
    "\n",
    "for i, ax in enumerate(axes.flat):\n",
    "    if i < len(digit_5_df):\n",
    "        index = digit_5_df.index[i]\n",
    "        image = data[index].reshape(8, 8)\n",
    "        prediction = digit_5_df.loc[index, 'predictionKmeans']\n",
    "        ax.imshow(image, cmap='gray')\n",
    "        ax.set_title(f'Pred: {prediction}')\n",
    "        ax.axis('off')\n",
    "\n",
    "plt.tight_layout()\n",
    "plt.show()"
   ],
   "id": "362a465900b63891",
   "outputs": [
    {
     "data": {
      "text/plain": [
       "<Figure size 1000x500 with 10 Axes>"
      ],
      "image/png": "[encoded data removed]"
     },
     "metadata": {},
     "output_type": "display_data"
    }
   ],
   "execution_count": 67
  },
  {
   "metadata": {},
   "cell_type": "markdown",
   "source": "By using columns or rows we cannot be 100% sure that a prediction is going to be the actual one.",
   "id": "3fa10c09297276c9"
  },
  {
   "metadata": {},
   "cell_type": "markdown",
   "source": [
    "# Final Conclusions\n",
    "\n",
    "## Using the 64 values\n",
    "    When using the 64 values, there are certain numbers that K-Means does not like, those number does not perform well when predicting, the number \"2\" and \"3\" are great examples of those numbers.\n",
    "\n",
    "## Using rows and columns\n",
    "    When using rows and columns, we can immediately chop all of the rows that do not contain any real value, like the first column or the last row. We can use the middle ones that have more information available for analysis. Even tho there's more data to analyze, we cannot be 100% sure of the results given by this method, we are leaving out fundamental data that help us identify each number.\n",
    "    \n"
   ],
   "id": "6ff160cf655a5040"
  },
  {
   "metadata": {},
   "cell_type": "markdown",
   "source": [
    "## References\n",
    "\n",
    "1. OpenAI (2024). ChatGPT. (versión 3.5) [LLM] https://chat.openai.com/\n",
    "2. Microsoft (2024). Copilot. (basado en GPT-4) [LLM] https://copilot.microsoft.com"
   ],
   "id": "962fbe318b00860d"
  }
 ],
 "metadata": {
  "kernelspec": {
   "display_name": "Python 3",
   "language": "python",
   "name": "python3"
  },
  "language_info": {
   "codemirror_mode": {
    "name": "ipython",
    "version": 2
   },
   "file_extension": ".py",
   "mimetype": "text/x-python",
   "name": "python",
   "nbconvert_exporter": "python",
   "pygments_lexer": "ipython2",
   "version": "2.7.6"
  }
 },
 "nbformat": 4,
 "nbformat_minor": 5
}
