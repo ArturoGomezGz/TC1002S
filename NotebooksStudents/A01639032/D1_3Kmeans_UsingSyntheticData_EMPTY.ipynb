{
  "cells": [
    {
      "cell_type": "markdown",
      "metadata": {
        "id": "AS8mbGXGOsLc"
      },
      "source": [
        "# Lucas Wong Mang A01639032\n",
        "# K-means clustering\n",
        "\n",
        "The notebook aims to study and implement a k-means clustering using \"sklearn\". A synthetic dataset will be used to identify clusters automatically using the K-means method.\n",
        "\n",
        "\n",
        "## Acknowledgments\n",
        "\n",
        "- Inquiries: mauricio.antelis@tec.mx\n"
      ]
    },
    {
      "cell_type": "markdown",
      "metadata": {
        "id": "axqN-j_JOsLi"
      },
      "source": [
        "# Importing libraries"
      ]
    },
    {
      "cell_type": "code",
      "execution_count": 1,
      "metadata": {
        "colab": {
          "base_uri": "https://localhost:8080/"
        },
        "id": "xj6q61p5TpML",
        "outputId": "dae6179c-5191-488f-a0bc-a9e2e5488d26"
      },
      "outputs": [
        {
          "output_type": "stream",
          "name": "stdout",
          "text": [
            "Mounted at /content/drive\n"
          ]
        }
      ],
      "source": [
        "# Define where you are running the code: colab or local\n",
        "RunInColab          = True     # (False: no  | True: yes)\n",
        "\n",
        "# If running in colab:\n",
        "if RunInColab:\n",
        "    # Mount your google drive in google colab\n",
        "    from google.colab import drive\n",
        "    drive.mount('/content/drive')\n",
        "\n",
        "    # Find location\n",
        "    #!pwd\n",
        "    #!ls\n",
        "    #!ls \"/content/drive/My Drive/Colab Notebooks/MachineLearningWithPython/\"\n",
        "\n",
        "    # Define path del proyecto\n",
        "    Ruta            = \"/content/drive/My Drive/Herramientas Computacionales/\"\n",
        "\n",
        "else:\n",
        "    # Define path del proyecto\n",
        "    Ruta            = \"\""
      ]
    },
    {
      "cell_type": "code",
      "execution_count": 2,
      "metadata": {
        "id": "og9XW_WcOsLj"
      },
      "outputs": [],
      "source": [
        "# Import the packages that we will be using\n",
        "import numpy as np                  # For array\n",
        "import pandas as pd                 # For data handling\n",
        "import seaborn as sns               # For advanced plotting\n",
        "import matplotlib.pyplot as plt     # For showing plots\n",
        "\n",
        "# Note: specific functions of the \"sklearn\" package will be imported when needed to show concepts easily"
      ]
    },
    {
      "cell_type": "markdown",
      "metadata": {
        "id": "ho4Z9lu1OsLl"
      },
      "source": [
        "# Importing data"
      ]
    },
    {
      "cell_type": "code",
      "execution_count": 5,
      "metadata": {
        "id": "53ZuWZToOsLl"
      },
      "outputs": [],
      "source": [
        "Ruta_General = \"/content/drive/My Drive/Herramientas Computacionales/\"\n",
        "url = \"SyntheticData4Clustering_X.csv\"\n",
        "url_SynClus=Ruta_General+url\n",
        "\n",
        "# Load the dataset\n",
        "df  = pd.read_csv(url_SynClus)"
      ]
    },
    {
      "cell_type": "markdown",
      "metadata": {
        "id": "Bsj6BMG1OsLm"
      },
      "source": [
        "# Undertanding and preprocessing the data\n",
        "\n",
        "1. Get a general 'feel' of the data\n"
      ]
    },
    {
      "cell_type": "code",
      "execution_count": 6,
      "metadata": {
        "colab": {
          "base_uri": "https://localhost:8080/",
          "height": 424
        },
        "id": "VaKt3oxcfJXQ",
        "outputId": "32ad0107-af38-4718-e722-af155b0c8ce7"
      },
      "outputs": [
        {
          "output_type": "execute_result",
          "data": {
            "text/plain": [
              "            x1         x2        x3        x4         x5         x6\n",
              "0     1.914825  -1.380503 -3.609674  4.236011  -5.158681   5.712978\n",
              "1     1.356415   9.767893  7.263659  8.750819   5.568930  -6.039122\n",
              "2     1.185186  11.528344  9.999419  7.890027   7.308210  -8.899397\n",
              "3    -1.739155  12.648965  7.965588  7.850296  10.235743 -10.175542\n",
              "4     7.890985  -3.210880 -7.672016  2.438106   3.310904  -3.308334\n",
              "...        ...        ...       ...       ...        ...        ...\n",
              "1019  3.685106  -1.715503 -5.674443  6.510551  -0.121862  -6.166649\n",
              "1020 -7.014173  -9.697874  4.093272 -0.590262  -9.882245   2.339336\n",
              "1021 -2.993762   7.528182  7.877165  8.895835   9.318544  -7.445100\n",
              "1022  4.576644  -1.720788 -6.581909  4.745839   1.497980  -4.828975\n",
              "1023  2.616634   0.274593 -5.521864  9.582110   0.878266  -8.274990\n",
              "\n",
              "[1024 rows x 6 columns]"
            ],
            "text/html": [
              "\n",
              "  <div id=\"df-411ae1cd-8285-47ad-82c1-450631ffc9c0\">\n",
              "    <div class=\"colab-df-container\">\n",
              "      <div>\n",
              "<style scoped>\n",
              "    .dataframe tbody tr th:only-of-type {\n",
              "        vertical-align: middle;\n",
              "    }\n",
              "\n",
              "    .dataframe tbody tr th {\n",
              "        vertical-align: top;\n",
              "    }\n",
              "\n",
              "    .dataframe thead th {\n",
              "        text-align: right;\n",
              "    }\n",
              "</style>\n",
              "<table border=\"1\" class=\"dataframe\">\n",
              "  <thead>\n",
              "    <tr style=\"text-align: right;\">\n",
              "      <th></th>\n",
              "      <th>x1</th>\n",
              "      <th>x2</th>\n",
              "      <th>x3</th>\n",
              "      <th>x4</th>\n",
              "      <th>x5</th>\n",
              "      <th>x6</th>\n",
              "    </tr>\n",
              "  </thead>\n",
              "  <tbody>\n",
              "    <tr>\n",
              "      <th>0</th>\n",
              "      <td>1.914825</td>\n",
              "      <td>-1.380503</td>\n",
              "      <td>-3.609674</td>\n",
              "      <td>4.236011</td>\n",
              "      <td>-5.158681</td>\n",
              "      <td>5.712978</td>\n",
              "    </tr>\n",
              "    <tr>\n",
              "      <th>1</th>\n",
              "      <td>1.356415</td>\n",
              "      <td>9.767893</td>\n",
              "      <td>7.263659</td>\n",
              "      <td>8.750819</td>\n",
              "      <td>5.568930</td>\n",
              "      <td>-6.039122</td>\n",
              "    </tr>\n",
              "    <tr>\n",
              "      <th>2</th>\n",
              "      <td>1.185186</td>\n",
              "      <td>11.528344</td>\n",
              "      <td>9.999419</td>\n",
              "      <td>7.890027</td>\n",
              "      <td>7.308210</td>\n",
              "      <td>-8.899397</td>\n",
              "    </tr>\n",
              "    <tr>\n",
              "      <th>3</th>\n",
              "      <td>-1.739155</td>\n",
              "      <td>12.648965</td>\n",
              "      <td>7.965588</td>\n",
              "      <td>7.850296</td>\n",
              "      <td>10.235743</td>\n",
              "      <td>-10.175542</td>\n",
              "    </tr>\n",
              "    <tr>\n",
              "      <th>4</th>\n",
              "      <td>7.890985</td>\n",
              "      <td>-3.210880</td>\n",
              "      <td>-7.672016</td>\n",
              "      <td>2.438106</td>\n",
              "      <td>3.310904</td>\n",
              "      <td>-3.308334</td>\n",
              "    </tr>\n",
              "    <tr>\n",
              "      <th>...</th>\n",
              "      <td>...</td>\n",
              "      <td>...</td>\n",
              "      <td>...</td>\n",
              "      <td>...</td>\n",
              "      <td>...</td>\n",
              "      <td>...</td>\n",
              "    </tr>\n",
              "    <tr>\n",
              "      <th>1019</th>\n",
              "      <td>3.685106</td>\n",
              "      <td>-1.715503</td>\n",
              "      <td>-5.674443</td>\n",
              "      <td>6.510551</td>\n",
              "      <td>-0.121862</td>\n",
              "      <td>-6.166649</td>\n",
              "    </tr>\n",
              "    <tr>\n",
              "      <th>1020</th>\n",
              "      <td>-7.014173</td>\n",
              "      <td>-9.697874</td>\n",
              "      <td>4.093272</td>\n",
              "      <td>-0.590262</td>\n",
              "      <td>-9.882245</td>\n",
              "      <td>2.339336</td>\n",
              "    </tr>\n",
              "    <tr>\n",
              "      <th>1021</th>\n",
              "      <td>-2.993762</td>\n",
              "      <td>7.528182</td>\n",
              "      <td>7.877165</td>\n",
              "      <td>8.895835</td>\n",
              "      <td>9.318544</td>\n",
              "      <td>-7.445100</td>\n",
              "    </tr>\n",
              "    <tr>\n",
              "      <th>1022</th>\n",
              "      <td>4.576644</td>\n",
              "      <td>-1.720788</td>\n",
              "      <td>-6.581909</td>\n",
              "      <td>4.745839</td>\n",
              "      <td>1.497980</td>\n",
              "      <td>-4.828975</td>\n",
              "    </tr>\n",
              "    <tr>\n",
              "      <th>1023</th>\n",
              "      <td>2.616634</td>\n",
              "      <td>0.274593</td>\n",
              "      <td>-5.521864</td>\n",
              "      <td>9.582110</td>\n",
              "      <td>0.878266</td>\n",
              "      <td>-8.274990</td>\n",
              "    </tr>\n",
              "  </tbody>\n",
              "</table>\n",
              "<p>1024 rows × 6 columns</p>\n",
              "</div>\n",
              "      <button class=\"colab-df-convert\" onclick=\"convertToInteractive('df-411ae1cd-8285-47ad-82c1-450631ffc9c0')\"\n",
              "              title=\"Convert this dataframe to an interactive table.\"\n",
              "              style=\"display:none;\">\n",
              "        \n",
              "  <svg xmlns=\"http://www.w3.org/2000/svg\" height=\"24px\"viewBox=\"0 0 24 24\"\n",
              "       width=\"24px\">\n",
              "    <path d=\"M0 0h24v24H0V0z\" fill=\"none\"/>\n",
              "    <path d=\"M18.56 5.44l.94 2.06.94-2.06 2.06-.94-2.06-.94-.94-2.06-.94 2.06-2.06.94zm-11 1L8.5 8.5l.94-2.06 2.06-.94-2.06-.94L8.5 2.5l-.94 2.06-2.06.94zm10 10l.94 2.06.94-2.06 2.06-.94-2.06-.94-.94-2.06-.94 2.06-2.06.94z\"/><path d=\"M17.41 7.96l-1.37-1.37c-.4-.4-.92-.59-1.43-.59-.52 0-1.04.2-1.43.59L10.3 9.45l-7.72 7.72c-.78.78-.78 2.05 0 2.83L4 21.41c.39.39.9.59 1.41.59.51 0 1.02-.2 1.41-.59l7.78-7.78 2.81-2.81c.8-.78.8-2.07 0-2.86zM5.41 20L4 18.59l7.72-7.72 1.47 1.35L5.41 20z\"/>\n",
              "  </svg>\n",
              "      </button>\n",
              "      \n",
              "  <style>\n",
              "    .colab-df-container {\n",
              "      display:flex;\n",
              "      flex-wrap:wrap;\n",
              "      gap: 12px;\n",
              "    }\n",
              "\n",
              "    .colab-df-convert {\n",
              "      background-color: #E8F0FE;\n",
              "      border: none;\n",
              "      border-radius: 50%;\n",
              "      cursor: pointer;\n",
              "      display: none;\n",
              "      fill: #1967D2;\n",
              "      height: 32px;\n",
              "      padding: 0 0 0 0;\n",
              "      width: 32px;\n",
              "    }\n",
              "\n",
              "    .colab-df-convert:hover {\n",
              "      background-color: #E2EBFA;\n",
              "      box-shadow: 0px 1px 2px rgba(60, 64, 67, 0.3), 0px 1px 3px 1px rgba(60, 64, 67, 0.15);\n",
              "      fill: #174EA6;\n",
              "    }\n",
              "\n",
              "    [theme=dark] .colab-df-convert {\n",
              "      background-color: #3B4455;\n",
              "      fill: #D2E3FC;\n",
              "    }\n",
              "\n",
              "    [theme=dark] .colab-df-convert:hover {\n",
              "      background-color: #434B5C;\n",
              "      box-shadow: 0px 1px 3px 1px rgba(0, 0, 0, 0.15);\n",
              "      filter: drop-shadow(0px 1px 2px rgba(0, 0, 0, 0.3));\n",
              "      fill: #FFFFFF;\n",
              "    }\n",
              "  </style>\n",
              "\n",
              "      <script>\n",
              "        const buttonEl =\n",
              "          document.querySelector('#df-411ae1cd-8285-47ad-82c1-450631ffc9c0 button.colab-df-convert');\n",
              "        buttonEl.style.display =\n",
              "          google.colab.kernel.accessAllowed ? 'block' : 'none';\n",
              "\n",
              "        async function convertToInteractive(key) {\n",
              "          const element = document.querySelector('#df-411ae1cd-8285-47ad-82c1-450631ffc9c0');\n",
              "          const dataTable =\n",
              "            await google.colab.kernel.invokeFunction('convertToInteractive',\n",
              "                                                     [key], {});\n",
              "          if (!dataTable) return;\n",
              "\n",
              "          const docLinkHtml = 'Like what you see? Visit the ' +\n",
              "            '<a target=\"_blank\" href=https://colab.research.google.com/notebooks/data_table.ipynb>data table notebook</a>'\n",
              "            + ' to learn more about interactive tables.';\n",
              "          element.innerHTML = '';\n",
              "          dataTable['output_type'] = 'display_data';\n",
              "          await google.colab.output.renderOutput(dataTable, element);\n",
              "          const docLink = document.createElement('div');\n",
              "          docLink.innerHTML = docLinkHtml;\n",
              "          element.appendChild(docLink);\n",
              "        }\n",
              "      </script>\n",
              "    </div>\n",
              "  </div>\n",
              "  "
            ]
          },
          "metadata": {},
          "execution_count": 6
        }
      ],
      "source": [
        "# Print the dataframe\n",
        "df"
      ]
    },
    {
      "cell_type": "code",
      "execution_count": 7,
      "metadata": {
        "colab": {
          "base_uri": "https://localhost:8080/"
        },
        "id": "WjukI2M-OsLm",
        "outputId": "16719363-bde3-40a5-b6db-10734fad4e6b"
      },
      "outputs": [
        {
          "output_type": "stream",
          "name": "stdout",
          "text": [
            "# of Rows: 1024\n",
            "# of Columns: 6\n"
          ]
        }
      ],
      "source": [
        "# get the number of observations and variables\n",
        "rows = df.shape[0]\n",
        "print('# of Rows:', rows )\n",
        "columns = df.shape[1]\n",
        "print('# of Columns:', columns )\n"
      ]
    },
    {
      "cell_type": "markdown",
      "metadata": {
        "id": "a9QQtsrmOsLn"
      },
      "source": [
        "2. Drop rows with any missing values\n"
      ]
    },
    {
      "cell_type": "code",
      "execution_count": null,
      "metadata": {
        "id": "p2FAEURNOsLn"
      },
      "outputs": [],
      "source": [
        "# Drop rows with NaN values if existing\n",
        "\n",
        "\n",
        "# Print the new shape\n"
      ]
    },
    {
      "cell_type": "markdown",
      "metadata": {
        "id": "6X7e9LXAOsLr"
      },
      "source": [
        "3. Scatterplot\n",
        "\n",
        "\n"
      ]
    },
    {
      "cell_type": "code",
      "execution_count": null,
      "metadata": {
        "id": "I0TGCzWUOsLr"
      },
      "outputs": [],
      "source": [
        "# Scatterplot of x1 and x2\n"
      ]
    },
    {
      "cell_type": "code",
      "execution_count": null,
      "metadata": {
        "id": "WBLieb8lnJYk"
      },
      "outputs": [],
      "source": [
        "# Scatterplot of x1 and x3\n"
      ]
    },
    {
      "cell_type": "markdown",
      "metadata": {
        "id": "B6kA8CZStQH9"
      },
      "source": [
        "Difficult to plot independetly all combinations, let's use pairplot"
      ]
    },
    {
      "cell_type": "code",
      "execution_count": null,
      "metadata": {
        "id": "dxvGv9ronJcG"
      },
      "outputs": [],
      "source": [
        "# Pairplot: Scatterplot of all variables\n"
      ]
    },
    {
      "cell_type": "markdown",
      "metadata": {
        "id": "2X2gzeYwOsLt"
      },
      "source": [
        "It looks like there are 3 or 4 clusters/groups\n",
        "\n",
        "Note that we do not know in advance the class/cluster/group to which each point belongs to: we need to apply unsupervised learning ¡"
      ]
    },
    {
      "cell_type": "markdown",
      "metadata": {
        "id": "NL248FDdOsLu"
      },
      "source": [
        "# Kmeans clustering\n",
        "\n",
        "Kmeans clustering"
      ]
    },
    {
      "cell_type": "code",
      "execution_count": null,
      "metadata": {
        "id": "oYkbzWxQOsLu"
      },
      "outputs": [],
      "source": [
        "# Import sklearn KMeans\n",
        "from sklearn.cluster import KMeans\n",
        "\n",
        "# Define number of clusters\n",
        "K  =  # Let's assume there are 2,3,4,5...? clusters/groups\n",
        "km = \n",
        "\n",
        "# Do K-means clustering (assing each point in the dataset to a cluster) \n",
        "yestimated = \n",
        "\n",
        "\n",
        "# Print estimated cluster of each point in the dataset\n"
      ]
    },
    {
      "cell_type": "code",
      "execution_count": null,
      "metadata": {
        "id": "CLSTXFExOsLu"
      },
      "outputs": [],
      "source": [
        "# Add a new column to the dataset with the cluster information\n"
      ]
    },
    {
      "cell_type": "code",
      "execution_count": null,
      "metadata": {
        "id": "yRpVjlY7OsLv"
      },
      "outputs": [],
      "source": [
        "# Laber of the estimated clusters\n"
      ]
    },
    {
      "cell_type": "code",
      "execution_count": null,
      "metadata": {
        "id": "XiL_DVNzOsLv"
      },
      "outputs": [],
      "source": [
        "# Cluster centroides\n",
        "\n"
      ]
    },
    {
      "cell_type": "code",
      "execution_count": null,
      "metadata": {
        "id": "vDYKLNP6OsLw"
      },
      "outputs": [],
      "source": [
        "# Sum of squared error (sse) of the final model\n"
      ]
    },
    {
      "cell_type": "code",
      "execution_count": null,
      "metadata": {
        "id": "aLcf5IF9SFNp"
      },
      "outputs": [],
      "source": [
        "# The number of iterations required to converge\n"
      ]
    },
    {
      "cell_type": "markdown",
      "metadata": {
        "id": "pzuZx9kbOsLw"
      },
      "source": [
        "<span style='color:Blue'> **Important remarks**  </span>\n",
        "\n",
        "- The number of each cluster is randomly assigned\n",
        "- The order of the number in each cluster is random"
      ]
    },
    {
      "cell_type": "markdown",
      "metadata": {
        "id": "bIl3PK2uOsLw"
      },
      "source": [
        "# Plot estimated clusters\n",
        "\n",
        "Plot estimated clusters"
      ]
    },
    {
      "cell_type": "code",
      "execution_count": null,
      "metadata": {
        "id": "GXd9U5YQOsLx"
      },
      "outputs": [],
      "source": [
        "# Get a dataframe with the data of each clsuter\n",
        "\n",
        "\n",
        "# Scatter plot of each cluster\n",
        "\n"
      ]
    },
    {
      "cell_type": "markdown",
      "metadata": {
        "id": "ttmc-60MOsLx"
      },
      "source": [
        "# Selecting K: elbow plot\n",
        "\n",
        "Check the acurracy of the model using k-fold cross-validation"
      ]
    },
    {
      "cell_type": "code",
      "execution_count": null,
      "metadata": {
        "id": "qAKTBLwIOsLx"
      },
      "outputs": [],
      "source": [
        "# Intialize a list to hold sum of squared error (sse)\n",
        "\n",
        "\n",
        "# Define values of k\n",
        "\n",
        "\n",
        "# For each k\n"
      ]
    },
    {
      "cell_type": "code",
      "execution_count": null,
      "metadata": {
        "id": "eUsVlTowOsLy"
      },
      "outputs": [],
      "source": [
        "# Plot sse versus k\n"
      ]
    },
    {
      "cell_type": "markdown",
      "metadata": {
        "id": "IXHO9FsVS4xb"
      },
      "source": [
        "Choose the k after which the sse is minimally reduced\n"
      ]
    },
    {
      "cell_type": "markdown",
      "metadata": {
        "id": "OfkQlxnKOsLy"
      },
      "source": [
        "<span style='color:Blue'> **Important remarks**  </span>\n",
        "\n",
        "- Observations?\n",
        "\n"
      ]
    },
    {
      "cell_type": "markdown",
      "metadata": {
        "id": "6GuKeFQ-amFT"
      },
      "source": [
        "# Final remarks\n",
        "\n",
        "- K-Means clustering algorithm is perhaps the simplest and most popular unsupervised learning algorithm\n",
        "\n",
        "- The number of clusters have to be defined by the user (i.e., by you ¡¡)\n",
        "\n",
        "- The number assigned to each cluster is randomly assigned from set 0, 1, 2\n",
        "\n",
        "- If there is no information about the number of clusters k, then use the elbow plot method to choose the best number of clusters k\n",
        "\n",
        "- The order of the number in each cluster is random\n",
        "\n",
        "- The **sklearn** package provides the tools for data processing suchs as k-means"
      ]
    },
    {
      "cell_type": "markdown",
      "metadata": {
        "id": "kB0dvfzejdBM"
      },
      "source": [
        "# Activity: \n",
        "\n",
        "1. Repeat this analysis using other pair of features, e.g., x3 and x6\n",
        "\n",
        "2. Repeat this analysis using all six features, e.g., x1, x2,..., x6\n",
        "\n",
        "3. Provide conclusions"
      ]
    },
    {
      "cell_type": "code",
      "source": [
        "Ruta_General = \"/content/drive/My Drive/Herramientas Computacionales/\"\n",
        "url = \"iris.csv\"\n",
        "url_SynClus=Ruta_General+url\n",
        "\n",
        "# Load the dataset\n",
        "header = ['s_length', 's_width', 'p_length', 'p_width', 'Class']\n",
        "df  = pd.read_csv(url_SynClus, names=header)\n",
        "df"
      ],
      "metadata": {
        "colab": {
          "base_uri": "https://localhost:8080/",
          "height": 424
        },
        "id": "qzSUBgSuQKlz",
        "outputId": "eb92d0a5-476d-40e9-a997-f33cfb0bfbe6"
      },
      "execution_count": 11,
      "outputs": [
        {
          "output_type": "execute_result",
          "data": {
            "text/plain": [
              "     s_length  s_width  p_length  p_width           Class\n",
              "0         5.1      3.5       1.4      0.2     Iris-setosa\n",
              "1         4.9      3.0       1.4      0.2     Iris-setosa\n",
              "2         4.7      3.2       1.3      0.2     Iris-setosa\n",
              "3         4.6      3.1       1.5      0.2     Iris-setosa\n",
              "4         5.0      3.6       1.4      0.2     Iris-setosa\n",
              "..        ...      ...       ...      ...             ...\n",
              "145       6.7      3.0       5.2      2.3  Iris-virginica\n",
              "146       6.3      2.5       5.0      1.9  Iris-virginica\n",
              "147       6.5      3.0       5.2      2.0  Iris-virginica\n",
              "148       6.2      3.4       5.4      2.3  Iris-virginica\n",
              "149       5.9      3.0       5.1      1.8  Iris-virginica\n",
              "\n",
              "[150 rows x 5 columns]"
            ],
            "text/html": [
              "\n",
              "  <div id=\"df-db921422-f0b6-4216-8e63-c3de6f2a5540\">\n",
              "    <div class=\"colab-df-container\">\n",
              "      <div>\n",
              "<style scoped>\n",
              "    .dataframe tbody tr th:only-of-type {\n",
              "        vertical-align: middle;\n",
              "    }\n",
              "\n",
              "    .dataframe tbody tr th {\n",
              "        vertical-align: top;\n",
              "    }\n",
              "\n",
              "    .dataframe thead th {\n",
              "        text-align: right;\n",
              "    }\n",
              "</style>\n",
              "<table border=\"1\" class=\"dataframe\">\n",
              "  <thead>\n",
              "    <tr style=\"text-align: right;\">\n",
              "      <th></th>\n",
              "      <th>s_length</th>\n",
              "      <th>s_width</th>\n",
              "      <th>p_length</th>\n",
              "      <th>p_width</th>\n",
              "      <th>Class</th>\n",
              "    </tr>\n",
              "  </thead>\n",
              "  <tbody>\n",
              "    <tr>\n",
              "      <th>0</th>\n",
              "      <td>5.1</td>\n",
              "      <td>3.5</td>\n",
              "      <td>1.4</td>\n",
              "      <td>0.2</td>\n",
              "      <td>Iris-setosa</td>\n",
              "    </tr>\n",
              "    <tr>\n",
              "      <th>1</th>\n",
              "      <td>4.9</td>\n",
              "      <td>3.0</td>\n",
              "      <td>1.4</td>\n",
              "      <td>0.2</td>\n",
              "      <td>Iris-setosa</td>\n",
              "    </tr>\n",
              "    <tr>\n",
              "      <th>2</th>\n",
              "      <td>4.7</td>\n",
              "      <td>3.2</td>\n",
              "      <td>1.3</td>\n",
              "      <td>0.2</td>\n",
              "      <td>Iris-setosa</td>\n",
              "    </tr>\n",
              "    <tr>\n",
              "      <th>3</th>\n",
              "      <td>4.6</td>\n",
              "      <td>3.1</td>\n",
              "      <td>1.5</td>\n",
              "      <td>0.2</td>\n",
              "      <td>Iris-setosa</td>\n",
              "    </tr>\n",
              "    <tr>\n",
              "      <th>4</th>\n",
              "      <td>5.0</td>\n",
              "      <td>3.6</td>\n",
              "      <td>1.4</td>\n",
              "      <td>0.2</td>\n",
              "      <td>Iris-setosa</td>\n",
              "    </tr>\n",
              "    <tr>\n",
              "      <th>...</th>\n",
              "      <td>...</td>\n",
              "      <td>...</td>\n",
              "      <td>...</td>\n",
              "      <td>...</td>\n",
              "      <td>...</td>\n",
              "    </tr>\n",
              "    <tr>\n",
              "      <th>145</th>\n",
              "      <td>6.7</td>\n",
              "      <td>3.0</td>\n",
              "      <td>5.2</td>\n",
              "      <td>2.3</td>\n",
              "      <td>Iris-virginica</td>\n",
              "    </tr>\n",
              "    <tr>\n",
              "      <th>146</th>\n",
              "      <td>6.3</td>\n",
              "      <td>2.5</td>\n",
              "      <td>5.0</td>\n",
              "      <td>1.9</td>\n",
              "      <td>Iris-virginica</td>\n",
              "    </tr>\n",
              "    <tr>\n",
              "      <th>147</th>\n",
              "      <td>6.5</td>\n",
              "      <td>3.0</td>\n",
              "      <td>5.2</td>\n",
              "      <td>2.0</td>\n",
              "      <td>Iris-virginica</td>\n",
              "    </tr>\n",
              "    <tr>\n",
              "      <th>148</th>\n",
              "      <td>6.2</td>\n",
              "      <td>3.4</td>\n",
              "      <td>5.4</td>\n",
              "      <td>2.3</td>\n",
              "      <td>Iris-virginica</td>\n",
              "    </tr>\n",
              "    <tr>\n",
              "      <th>149</th>\n",
              "      <td>5.9</td>\n",
              "      <td>3.0</td>\n",
              "      <td>5.1</td>\n",
              "      <td>1.8</td>\n",
              "      <td>Iris-virginica</td>\n",
              "    </tr>\n",
              "  </tbody>\n",
              "</table>\n",
              "<p>150 rows × 5 columns</p>\n",
              "</div>\n",
              "      <button class=\"colab-df-convert\" onclick=\"convertToInteractive('df-db921422-f0b6-4216-8e63-c3de6f2a5540')\"\n",
              "              title=\"Convert this dataframe to an interactive table.\"\n",
              "              style=\"display:none;\">\n",
              "        \n",
              "  <svg xmlns=\"http://www.w3.org/2000/svg\" height=\"24px\"viewBox=\"0 0 24 24\"\n",
              "       width=\"24px\">\n",
              "    <path d=\"M0 0h24v24H0V0z\" fill=\"none\"/>\n",
              "    <path d=\"M18.56 5.44l.94 2.06.94-2.06 2.06-.94-2.06-.94-.94-2.06-.94 2.06-2.06.94zm-11 1L8.5 8.5l.94-2.06 2.06-.94-2.06-.94L8.5 2.5l-.94 2.06-2.06.94zm10 10l.94 2.06.94-2.06 2.06-.94-2.06-.94-.94-2.06-.94 2.06-2.06.94z\"/><path d=\"M17.41 7.96l-1.37-1.37c-.4-.4-.92-.59-1.43-.59-.52 0-1.04.2-1.43.59L10.3 9.45l-7.72 7.72c-.78.78-.78 2.05 0 2.83L4 21.41c.39.39.9.59 1.41.59.51 0 1.02-.2 1.41-.59l7.78-7.78 2.81-2.81c.8-.78.8-2.07 0-2.86zM5.41 20L4 18.59l7.72-7.72 1.47 1.35L5.41 20z\"/>\n",
              "  </svg>\n",
              "      </button>\n",
              "      \n",
              "  <style>\n",
              "    .colab-df-container {\n",
              "      display:flex;\n",
              "      flex-wrap:wrap;\n",
              "      gap: 12px;\n",
              "    }\n",
              "\n",
              "    .colab-df-convert {\n",
              "      background-color: #E8F0FE;\n",
              "      border: none;\n",
              "      border-radius: 50%;\n",
              "      cursor: pointer;\n",
              "      display: none;\n",
              "      fill: #1967D2;\n",
              "      height: 32px;\n",
              "      padding: 0 0 0 0;\n",
              "      width: 32px;\n",
              "    }\n",
              "\n",
              "    .colab-df-convert:hover {\n",
              "      background-color: #E2EBFA;\n",
              "      box-shadow: 0px 1px 2px rgba(60, 64, 67, 0.3), 0px 1px 3px 1px rgba(60, 64, 67, 0.15);\n",
              "      fill: #174EA6;\n",
              "    }\n",
              "\n",
              "    [theme=dark] .colab-df-convert {\n",
              "      background-color: #3B4455;\n",
              "      fill: #D2E3FC;\n",
              "    }\n",
              "\n",
              "    [theme=dark] .colab-df-convert:hover {\n",
              "      background-color: #434B5C;\n",
              "      box-shadow: 0px 1px 3px 1px rgba(0, 0, 0, 0.15);\n",
              "      filter: drop-shadow(0px 1px 2px rgba(0, 0, 0, 0.3));\n",
              "      fill: #FFFFFF;\n",
              "    }\n",
              "  </style>\n",
              "\n",
              "      <script>\n",
              "        const buttonEl =\n",
              "          document.querySelector('#df-db921422-f0b6-4216-8e63-c3de6f2a5540 button.colab-df-convert');\n",
              "        buttonEl.style.display =\n",
              "          google.colab.kernel.accessAllowed ? 'block' : 'none';\n",
              "\n",
              "        async function convertToInteractive(key) {\n",
              "          const element = document.querySelector('#df-db921422-f0b6-4216-8e63-c3de6f2a5540');\n",
              "          const dataTable =\n",
              "            await google.colab.kernel.invokeFunction('convertToInteractive',\n",
              "                                                     [key], {});\n",
              "          if (!dataTable) return;\n",
              "\n",
              "          const docLinkHtml = 'Like what you see? Visit the ' +\n",
              "            '<a target=\"_blank\" href=https://colab.research.google.com/notebooks/data_table.ipynb>data table notebook</a>'\n",
              "            + ' to learn more about interactive tables.';\n",
              "          element.innerHTML = '';\n",
              "          dataTable['output_type'] = 'display_data';\n",
              "          await google.colab.output.renderOutput(dataTable, element);\n",
              "          const docLink = document.createElement('div');\n",
              "          docLink.innerHTML = docLinkHtml;\n",
              "          element.appendChild(docLink);\n",
              "        }\n",
              "      </script>\n",
              "    </div>\n",
              "  </div>\n",
              "  "
            ]
          },
          "metadata": {},
          "execution_count": 11
        }
      ]
    },
    {
      "cell_type": "code",
      "source": [
        "from sklearn.cluster import KMeans\n",
        "\n",
        "#Init list of sse\n",
        "SSE = []\n",
        "\n",
        "#Define K\n",
        "K = [1,2,3,4,5,6,7,8,9]\n",
        "\n",
        "#For each K\n",
        "for x in K:\n",
        "    temporal_km = KMeans(n_clusters = x, n_init=\"auto\")\n",
        "    temporal_km.fit_predict(df[[\"s_length\",\"s_width\"]]) \n",
        "    SSE.append(temporal_km.inertia_)\n",
        "plt.subplot(1,2,1)\n",
        "plt.plot(range(0,10),SSE)\n",
        "\n",
        "#Init list of sse\n",
        "SSE = []\n",
        "\n",
        "#Define K\n",
        "K = [1,2,3,4,5,6,7,8,9]\n",
        "\n",
        "#For each K\n",
        "for x in K:\n",
        "    temporal_km = KMeans(n_clusters = x, n_init=\"auto\")\n",
        "    temporal_km.fit_predict(df[[\"s_width\",\"p_width\"]]) \n",
        "    SSE.append(temporal_km.inertia_)\n",
        "plt.subplot(1,2,2)\n",
        "plt.plot(range(0,10),SSE)\n",
        "plt.show()"
      ],
      "metadata": {
        "colab": {
          "base_uri": "https://localhost:8080/",
          "height": 269
        },
        "id": "Tzo7rsyOQuB7",
        "outputId": "35279e7b-f362-4d0c-e394-3b6a452cb0ff"
      },
      "execution_count": 13,
      "outputs": [
        {
          "output_type": "display_data",
          "data": {
            "text/plain": [
              "<Figure size 432x288 with 2 Axes>"
            ],
            "image/png": "[encoded data removed]"
          },
          "metadata": {
            "needs_background": "light"
          }
        }
      ]
    },
    {
      "cell_type": "code",
      "source": [
        "#Init list of sse\n",
        "SSE = []\n",
        "\n",
        "#Define K\n",
        "K = [1,2,3,4,5,6,7,8,9,10]\n",
        "\n",
        "#For each K\n",
        "for x in K:\n",
        "    temporal_km = KMeans(n_clusters = x, n_init=\"auto\")\n",
        "    temporal_km.fit_predict(df.iloc[:,0:4]) \n",
        "    SSE.append(temporal_km.inertia_)\n",
        "plt.plot(range(0,10),SSE)\n",
        "plt.show()"
      ],
      "metadata": {
        "colab": {
          "base_uri": "https://localhost:8080/",
          "height": 265
        },
        "id": "ZgMqg7fjXblj",
        "outputId": "7660e539-5a67-497d-aed8-9bb9082f198e"
      },
      "execution_count": 14,
      "outputs": [
        {
          "output_type": "display_data",
          "data": {
            "text/plain": [
              "<Figure size 432x288 with 1 Axes>"
            ],
            "image/png": "[encoded data removed]"
          },
          "metadata": {
            "needs_background": "light"
          }
        }
      ]
    },
    {
      "cell_type": "markdown",
      "metadata": {
        "id": "9uYpbxmyiii0"
      },
      "source": [
        "# Activity: work with the iris dataset\n",
        "\n",
        "    \n",
        "1. Do clustering with the iris flower dataset to form clusters using as features the four features\n",
        "\n",
        "2. Do clustering with the iris flower dataset to form clusters using as features the two petal measurements: Drop out the other two features\n",
        "\n",
        "3. Do clustering with the iris flower dataset to form clusters using as features the two sepal measurements: Drop out the other two features\n",
        "\n",
        "4. Which one provides the better grouping? Solve this using programming skills, e.g., compute performance metrics\n"
      ]
    },
    {
      "cell_type": "code",
      "source": [
        "# 1 -- \n",
        "#Define n clusters\n",
        "#Init list of sse\n",
        "SSE = []\n",
        "\n",
        "#Define K\n",
        "K = [1,2,3,4,5,6,7,8,9,10]\n",
        "\n",
        "#For each K\n",
        "for x in K:\n",
        "    temporal_km = KMeans(n_clusters = x, n_init=\"auto\")\n",
        "    temporal_km.fit_predict(df.iloc[:, 0:4]) \n",
        "    SSE.append(temporal_km.inertia_)\n",
        "\n",
        "plt.plot(range(0,10),SSE)\n",
        "plt.show()"
      ],
      "metadata": {
        "colab": {
          "base_uri": "https://localhost:8080/",
          "height": 265
        },
        "id": "G3Y0vX2GYfF7",
        "outputId": "8a1654e1-5aca-4f64-f3c1-2c0da19d695d"
      },
      "execution_count": 15,
      "outputs": [
        {
          "output_type": "display_data",
          "data": {
            "text/plain": [
              "<Figure size 432x288 with 1 Axes>"
            ],
            "image/png": "[encoded data removed]"
          },
          "metadata": {
            "needs_background": "light"
          }
        }
      ]
    },
    {
      "cell_type": "code",
      "source": [
        "K = 4\n",
        "km = KMeans(n_clusters = K, n_init=\"auto\")\n",
        "\n",
        "#Clustering\n",
        "yestimated = km.fit_predict(df.iloc[:, 0:4])\n",
        "\n",
        "#Add Column\n",
        "df.insert(5, \"Clusters\", yestimated, True)\n",
        "df"
      ],
      "metadata": {
        "colab": {
          "base_uri": "https://localhost:8080/",
          "height": 424
        },
        "id": "qlVtubAkYsqK",
        "outputId": "b407fd34-020f-4843-e82f-5fba2fe7598e"
      },
      "execution_count": 16,
      "outputs": [
        {
          "output_type": "execute_result",
          "data": {
            "text/plain": [
              "     s_length  s_width  p_length  p_width           Class  Clusters\n",
              "0         5.1      3.5       1.4      0.2     Iris-setosa         0\n",
              "1         4.9      3.0       1.4      0.2     Iris-setosa         0\n",
              "2         4.7      3.2       1.3      0.2     Iris-setosa         0\n",
              "3         4.6      3.1       1.5      0.2     Iris-setosa         0\n",
              "4         5.0      3.6       1.4      0.2     Iris-setosa         0\n",
              "..        ...      ...       ...      ...             ...       ...\n",
              "145       6.7      3.0       5.2      2.3  Iris-virginica         1\n",
              "146       6.3      2.5       5.0      1.9  Iris-virginica         2\n",
              "147       6.5      3.0       5.2      2.0  Iris-virginica         2\n",
              "148       6.2      3.4       5.4      2.3  Iris-virginica         1\n",
              "149       5.9      3.0       5.1      1.8  Iris-virginica         2\n",
              "\n",
              "[150 rows x 6 columns]"
            ],
            "text/html": [
              "\n",
              "  <div id=\"df-c195fb87-4b5a-4907-b0c6-647bb00bd9ef\">\n",
              "    <div class=\"colab-df-container\">\n",
              "      <div>\n",
              "<style scoped>\n",
              "    .dataframe tbody tr th:only-of-type {\n",
              "        vertical-align: middle;\n",
              "    }\n",
              "\n",
              "    .dataframe tbody tr th {\n",
              "        vertical-align: top;\n",
              "    }\n",
              "\n",
              "    .dataframe thead th {\n",
              "        text-align: right;\n",
              "    }\n",
              "</style>\n",
              "<table border=\"1\" class=\"dataframe\">\n",
              "  <thead>\n",
              "    <tr style=\"text-align: right;\">\n",
              "      <th></th>\n",
              "      <th>s_length</th>\n",
              "      <th>s_width</th>\n",
              "      <th>p_length</th>\n",
              "      <th>p_width</th>\n",
              "      <th>Class</th>\n",
              "      <th>Clusters</th>\n",
              "    </tr>\n",
              "  </thead>\n",
              "  <tbody>\n",
              "    <tr>\n",
              "      <th>0</th>\n",
              "      <td>5.1</td>\n",
              "      <td>3.5</td>\n",
              "      <td>1.4</td>\n",
              "      <td>0.2</td>\n",
              "      <td>Iris-setosa</td>\n",
              "      <td>0</td>\n",
              "    </tr>\n",
              "    <tr>\n",
              "      <th>1</th>\n",
              "      <td>4.9</td>\n",
              "      <td>3.0</td>\n",
              "      <td>1.4</td>\n",
              "      <td>0.2</td>\n",
              "      <td>Iris-setosa</td>\n",
              "      <td>0</td>\n",
              "    </tr>\n",
              "    <tr>\n",
              "      <th>2</th>\n",
              "      <td>4.7</td>\n",
              "      <td>3.2</td>\n",
              "      <td>1.3</td>\n",
              "      <td>0.2</td>\n",
              "      <td>Iris-setosa</td>\n",
              "      <td>0</td>\n",
              "    </tr>\n",
              "    <tr>\n",
              "      <th>3</th>\n",
              "      <td>4.6</td>\n",
              "      <td>3.1</td>\n",
              "      <td>1.5</td>\n",
              "      <td>0.2</td>\n",
              "      <td>Iris-setosa</td>\n",
              "      <td>0</td>\n",
              "    </tr>\n",
              "    <tr>\n",
              "      <th>4</th>\n",
              "      <td>5.0</td>\n",
              "      <td>3.6</td>\n",
              "      <td>1.4</td>\n",
              "      <td>0.2</td>\n",
              "      <td>Iris-setosa</td>\n",
              "      <td>0</td>\n",
              "    </tr>\n",
              "    <tr>\n",
              "      <th>...</th>\n",
              "      <td>...</td>\n",
              "      <td>...</td>\n",
              "      <td>...</td>\n",
              "      <td>...</td>\n",
              "      <td>...</td>\n",
              "      <td>...</td>\n",
              "    </tr>\n",
              "    <tr>\n",
              "      <th>145</th>\n",
              "      <td>6.7</td>\n",
              "      <td>3.0</td>\n",
              "      <td>5.2</td>\n",
              "      <td>2.3</td>\n",
              "      <td>Iris-virginica</td>\n",
              "      <td>1</td>\n",
              "    </tr>\n",
              "    <tr>\n",
              "      <th>146</th>\n",
              "      <td>6.3</td>\n",
              "      <td>2.5</td>\n",
              "      <td>5.0</td>\n",
              "      <td>1.9</td>\n",
              "      <td>Iris-virginica</td>\n",
              "      <td>2</td>\n",
              "    </tr>\n",
              "    <tr>\n",
              "      <th>147</th>\n",
              "      <td>6.5</td>\n",
              "      <td>3.0</td>\n",
              "      <td>5.2</td>\n",
              "      <td>2.0</td>\n",
              "      <td>Iris-virginica</td>\n",
              "      <td>2</td>\n",
              "    </tr>\n",
              "    <tr>\n",
              "      <th>148</th>\n",
              "      <td>6.2</td>\n",
              "      <td>3.4</td>\n",
              "      <td>5.4</td>\n",
              "      <td>2.3</td>\n",
              "      <td>Iris-virginica</td>\n",
              "      <td>1</td>\n",
              "    </tr>\n",
              "    <tr>\n",
              "      <th>149</th>\n",
              "      <td>5.9</td>\n",
              "      <td>3.0</td>\n",
              "      <td>5.1</td>\n",
              "      <td>1.8</td>\n",
              "      <td>Iris-virginica</td>\n",
              "      <td>2</td>\n",
              "    </tr>\n",
              "  </tbody>\n",
              "</table>\n",
              "<p>150 rows × 6 columns</p>\n",
              "</div>\n",
              "      <button class=\"colab-df-convert\" onclick=\"convertToInteractive('df-c195fb87-4b5a-4907-b0c6-647bb00bd9ef')\"\n",
              "              title=\"Convert this dataframe to an interactive table.\"\n",
              "              style=\"display:none;\">\n",
              "        \n",
              "  <svg xmlns=\"http://www.w3.org/2000/svg\" height=\"24px\"viewBox=\"0 0 24 24\"\n",
              "       width=\"24px\">\n",
              "    <path d=\"M0 0h24v24H0V0z\" fill=\"none\"/>\n",
              "    <path d=\"M18.56 5.44l.94 2.06.94-2.06 2.06-.94-2.06-.94-.94-2.06-.94 2.06-2.06.94zm-11 1L8.5 8.5l.94-2.06 2.06-.94-2.06-.94L8.5 2.5l-.94 2.06-2.06.94zm10 10l.94 2.06.94-2.06 2.06-.94-2.06-.94-.94-2.06-.94 2.06-2.06.94z\"/><path d=\"M17.41 7.96l-1.37-1.37c-.4-.4-.92-.59-1.43-.59-.52 0-1.04.2-1.43.59L10.3 9.45l-7.72 7.72c-.78.78-.78 2.05 0 2.83L4 21.41c.39.39.9.59 1.41.59.51 0 1.02-.2 1.41-.59l7.78-7.78 2.81-2.81c.8-.78.8-2.07 0-2.86zM5.41 20L4 18.59l7.72-7.72 1.47 1.35L5.41 20z\"/>\n",
              "  </svg>\n",
              "      </button>\n",
              "      \n",
              "  <style>\n",
              "    .colab-df-container {\n",
              "      display:flex;\n",
              "      flex-wrap:wrap;\n",
              "      gap: 12px;\n",
              "    }\n",
              "\n",
              "    .colab-df-convert {\n",
              "      background-color: #E8F0FE;\n",
              "      border: none;\n",
              "      border-radius: 50%;\n",
              "      cursor: pointer;\n",
              "      display: none;\n",
              "      fill: #1967D2;\n",
              "      height: 32px;\n",
              "      padding: 0 0 0 0;\n",
              "      width: 32px;\n",
              "    }\n",
              "\n",
              "    .colab-df-convert:hover {\n",
              "      background-color: #E2EBFA;\n",
              "      box-shadow: 0px 1px 2px rgba(60, 64, 67, 0.3), 0px 1px 3px 1px rgba(60, 64, 67, 0.15);\n",
              "      fill: #174EA6;\n",
              "    }\n",
              "\n",
              "    [theme=dark] .colab-df-convert {\n",
              "      background-color: #3B4455;\n",
              "      fill: #D2E3FC;\n",
              "    }\n",
              "\n",
              "    [theme=dark] .colab-df-convert:hover {\n",
              "      background-color: #434B5C;\n",
              "      box-shadow: 0px 1px 3px 1px rgba(0, 0, 0, 0.15);\n",
              "      filter: drop-shadow(0px 1px 2px rgba(0, 0, 0, 0.3));\n",
              "      fill: #FFFFFF;\n",
              "    }\n",
              "  </style>\n",
              "\n",
              "      <script>\n",
              "        const buttonEl =\n",
              "          document.querySelector('#df-c195fb87-4b5a-4907-b0c6-647bb00bd9ef button.colab-df-convert');\n",
              "        buttonEl.style.display =\n",
              "          google.colab.kernel.accessAllowed ? 'block' : 'none';\n",
              "\n",
              "        async function convertToInteractive(key) {\n",
              "          const element = document.querySelector('#df-c195fb87-4b5a-4907-b0c6-647bb00bd9ef');\n",
              "          const dataTable =\n",
              "            await google.colab.kernel.invokeFunction('convertToInteractive',\n",
              "                                                     [key], {});\n",
              "          if (!dataTable) return;\n",
              "\n",
              "          const docLinkHtml = 'Like what you see? Visit the ' +\n",
              "            '<a target=\"_blank\" href=https://colab.research.google.com/notebooks/data_table.ipynb>data table notebook</a>'\n",
              "            + ' to learn more about interactive tables.';\n",
              "          element.innerHTML = '';\n",
              "          dataTable['output_type'] = 'display_data';\n",
              "          await google.colab.output.renderOutput(dataTable, element);\n",
              "          const docLink = document.createElement('div');\n",
              "          docLink.innerHTML = docLinkHtml;\n",
              "          element.appendChild(docLink);\n",
              "        }\n",
              "      </script>\n",
              "    </div>\n",
              "  </div>\n",
              "  "
            ]
          },
          "metadata": {},
          "execution_count": 16
        }
      ]
    },
    {
      "cell_type": "code",
      "source": [
        "#Dataframe\n",
        "df1 = df[df.Clusters==0]\n",
        "df2 = df[df.Clusters==1]\n",
        "df3 = df[df.Clusters==2]\n",
        "df4 = df[df.Clusters==3]"
      ],
      "metadata": {
        "id": "cj9FTIyWY-8p"
      },
      "execution_count": 17,
      "outputs": []
    },
    {
      "cell_type": "code",
      "source": [
        "#Scatter clusters\n",
        "kmc = km.cluster_centers_\n",
        "#SEPALUS\n",
        "plt.xlabel(\"Sepalus Length\")\n",
        "plt.ylabel(\"Sepalus Width\")\n",
        "plt.title(\"Sepalus\")\n",
        "plt.scatter(df1.s_length, df1.s_width, label=\"Cluster 0\", alpha = .3)\n",
        "plt.scatter(df2.s_length, df2.s_width, label=\"Cluster 1\", alpha = .3)\n",
        "plt.scatter(df3.s_length, df3.s_width, label=\"Cluster 2\", alpha = .3)\n",
        "plt.scatter(df4.s_length, df4.s_width, label=\"Cluster 3\", alpha = .3)\n",
        "plt.scatter(kmc[0],kmc[1], label=\"Centroid\", marker = \"x\")\n",
        "plt.legend()\n",
        "plt.show()\n",
        "#PETALUS\n",
        "plt.xlabel(\"Petalus length\")\n",
        "plt.ylabel(\"Petalus Width\")\n",
        "plt.title(\"Petalus\")\n",
        "plt.scatter(df1.p_length, df1.p_width, label=\"Cluster 0\", alpha = .3)\n",
        "plt.scatter(df2.p_length, df2.p_width, label=\"Cluster 1\", alpha = .3)\n",
        "plt.scatter(df3.p_length, df3.p_width, label=\"Cluster 2\", alpha = .3)\n",
        "plt.scatter(df4.p_length, df4.p_width, label=\"Cluster 3\", alpha = .3)\n",
        "plt.scatter(kmc[0],kmc[1], label=\"Centroid\", marker = \"x\")\n",
        "plt.legend()\n",
        "plt.show()\n"
      ],
      "metadata": {
        "colab": {
          "base_uri": "https://localhost:8080/",
          "height": 573
        },
        "id": "uakIaNWpZEpA",
        "outputId": "1a5aadde-245b-48fa-c6c3-67882b7e982c"
      },
      "execution_count": 27,
      "outputs": [
        {
          "output_type": "display_data",
          "data": {
            "text/plain": [
              "<Figure size 432x288 with 1 Axes>"
            ],
            "image/png": "[encoded data removed]"
          },
          "metadata": {
            "needs_background": "light"
          }
        },
        {
          "output_type": "display_data",
          "data": {
            "text/plain": [
              "<Figure size 432x288 with 1 Axes>"
            ],
            "image/png": "[encoded data removed]"
          },
          "metadata": {
            "needs_background": "light"
          }
        }
      ]
    },
    {
      "cell_type": "code",
      "source": [
        "#2.-\n",
        "K = 4\n",
        "km = KMeans(n_clusters = K, n_init=\"auto\")\n",
        "\n",
        "#Clustering\n",
        "yestimated = km.fit_predict(df.iloc[:, 3:4])\n",
        "\n",
        "#Add Column\n",
        "df.insert(5, \"Clusters\", yestimated, True)\n",
        "#df.drop(\"Clusters\", axis=1, inplace = True)\n",
        "df"
      ],
      "metadata": {
        "colab": {
          "base_uri": "https://localhost:8080/",
          "height": 424
        },
        "id": "OfIqlLVjbNim",
        "outputId": "07f72ab0-f95f-412e-9e02-0a2f4e0f3fb1"
      },
      "execution_count": 29,
      "outputs": [
        {
          "output_type": "execute_result",
          "data": {
            "text/plain": [
              "     s_length  s_width  p_length  p_width           Class  Clusters\n",
              "0         5.1      3.5       1.4      0.2     Iris-setosa         0\n",
              "1         4.9      3.0       1.4      0.2     Iris-setosa         0\n",
              "2         4.7      3.2       1.3      0.2     Iris-setosa         0\n",
              "3         4.6      3.1       1.5      0.2     Iris-setosa         0\n",
              "4         5.0      3.6       1.4      0.2     Iris-setosa         0\n",
              "..        ...      ...       ...      ...             ...       ...\n",
              "145       6.7      3.0       5.2      2.3  Iris-virginica         2\n",
              "146       6.3      2.5       5.0      1.9  Iris-virginica         2\n",
              "147       6.5      3.0       5.2      2.0  Iris-virginica         2\n",
              "148       6.2      3.4       5.4      2.3  Iris-virginica         2\n",
              "149       5.9      3.0       5.1      1.8  Iris-virginica         1\n",
              "\n",
              "[150 rows x 6 columns]"
            ],
            "text/html": [
              "\n",
              "  <div id=\"df-71ad88a2-d041-4034-bc57-214b10b3bf19\">\n",
              "    <div class=\"colab-df-container\">\n",
              "      <div>\n",
              "<style scoped>\n",
              "    .dataframe tbody tr th:only-of-type {\n",
              "        vertical-align: middle;\n",
              "    }\n",
              "\n",
              "    .dataframe tbody tr th {\n",
              "        vertical-align: top;\n",
              "    }\n",
              "\n",
              "    .dataframe thead th {\n",
              "        text-align: right;\n",
              "    }\n",
              "</style>\n",
              "<table border=\"1\" class=\"dataframe\">\n",
              "  <thead>\n",
              "    <tr style=\"text-align: right;\">\n",
              "      <th></th>\n",
              "      <th>s_length</th>\n",
              "      <th>s_width</th>\n",
              "      <th>p_length</th>\n",
              "      <th>p_width</th>\n",
              "      <th>Class</th>\n",
              "      <th>Clusters</th>\n",
              "    </tr>\n",
              "  </thead>\n",
              "  <tbody>\n",
              "    <tr>\n",
              "      <th>0</th>\n",
              "      <td>5.1</td>\n",
              "      <td>3.5</td>\n",
              "      <td>1.4</td>\n",
              "      <td>0.2</td>\n",
              "      <td>Iris-setosa</td>\n",
              "      <td>0</td>\n",
              "    </tr>\n",
              "    <tr>\n",
              "      <th>1</th>\n",
              "      <td>4.9</td>\n",
              "      <td>3.0</td>\n",
              "      <td>1.4</td>\n",
              "      <td>0.2</td>\n",
              "      <td>Iris-setosa</td>\n",
              "      <td>0</td>\n",
              "    </tr>\n",
              "    <tr>\n",
              "      <th>2</th>\n",
              "      <td>4.7</td>\n",
              "      <td>3.2</td>\n",
              "      <td>1.3</td>\n",
              "      <td>0.2</td>\n",
              "      <td>Iris-setosa</td>\n",
              "      <td>0</td>\n",
              "    </tr>\n",
              "    <tr>\n",
              "      <th>3</th>\n",
              "      <td>4.6</td>\n",
              "      <td>3.1</td>\n",
              "      <td>1.5</td>\n",
              "      <td>0.2</td>\n",
              "      <td>Iris-setosa</td>\n",
              "      <td>0</td>\n",
              "    </tr>\n",
              "    <tr>\n",
              "      <th>4</th>\n",
              "      <td>5.0</td>\n",
              "      <td>3.6</td>\n",
              "      <td>1.4</td>\n",
              "      <td>0.2</td>\n",
              "      <td>Iris-setosa</td>\n",
              "      <td>0</td>\n",
              "    </tr>\n",
              "    <tr>\n",
              "      <th>...</th>\n",
              "      <td>...</td>\n",
              "      <td>...</td>\n",
              "      <td>...</td>\n",
              "      <td>...</td>\n",
              "      <td>...</td>\n",
              "      <td>...</td>\n",
              "    </tr>\n",
              "    <tr>\n",
              "      <th>145</th>\n",
              "      <td>6.7</td>\n",
              "      <td>3.0</td>\n",
              "      <td>5.2</td>\n",
              "      <td>2.3</td>\n",
              "      <td>Iris-virginica</td>\n",
              "      <td>2</td>\n",
              "    </tr>\n",
              "    <tr>\n",
              "      <th>146</th>\n",
              "      <td>6.3</td>\n",
              "      <td>2.5</td>\n",
              "      <td>5.0</td>\n",
              "      <td>1.9</td>\n",
              "      <td>Iris-virginica</td>\n",
              "      <td>2</td>\n",
              "    </tr>\n",
              "    <tr>\n",
              "      <th>147</th>\n",
              "      <td>6.5</td>\n",
              "      <td>3.0</td>\n",
              "      <td>5.2</td>\n",
              "      <td>2.0</td>\n",
              "      <td>Iris-virginica</td>\n",
              "      <td>2</td>\n",
              "    </tr>\n",
              "    <tr>\n",
              "      <th>148</th>\n",
              "      <td>6.2</td>\n",
              "      <td>3.4</td>\n",
              "      <td>5.4</td>\n",
              "      <td>2.3</td>\n",
              "      <td>Iris-virginica</td>\n",
              "      <td>2</td>\n",
              "    </tr>\n",
              "    <tr>\n",
              "      <th>149</th>\n",
              "      <td>5.9</td>\n",
              "      <td>3.0</td>\n",
              "      <td>5.1</td>\n",
              "      <td>1.8</td>\n",
              "      <td>Iris-virginica</td>\n",
              "      <td>1</td>\n",
              "    </tr>\n",
              "  </tbody>\n",
              "</table>\n",
              "<p>150 rows × 6 columns</p>\n",
              "</div>\n",
              "      <button class=\"colab-df-convert\" onclick=\"convertToInteractive('df-71ad88a2-d041-4034-bc57-214b10b3bf19')\"\n",
              "              title=\"Convert this dataframe to an interactive table.\"\n",
              "              style=\"display:none;\">\n",
              "        \n",
              "  <svg xmlns=\"http://www.w3.org/2000/svg\" height=\"24px\"viewBox=\"0 0 24 24\"\n",
              "       width=\"24px\">\n",
              "    <path d=\"M0 0h24v24H0V0z\" fill=\"none\"/>\n",
              "    <path d=\"M18.56 5.44l.94 2.06.94-2.06 2.06-.94-2.06-.94-.94-2.06-.94 2.06-2.06.94zm-11 1L8.5 8.5l.94-2.06 2.06-.94-2.06-.94L8.5 2.5l-.94 2.06-2.06.94zm10 10l.94 2.06.94-2.06 2.06-.94-2.06-.94-.94-2.06-.94 2.06-2.06.94z\"/><path d=\"M17.41 7.96l-1.37-1.37c-.4-.4-.92-.59-1.43-.59-.52 0-1.04.2-1.43.59L10.3 9.45l-7.72 7.72c-.78.78-.78 2.05 0 2.83L4 21.41c.39.39.9.59 1.41.59.51 0 1.02-.2 1.41-.59l7.78-7.78 2.81-2.81c.8-.78.8-2.07 0-2.86zM5.41 20L4 18.59l7.72-7.72 1.47 1.35L5.41 20z\"/>\n",
              "  </svg>\n",
              "      </button>\n",
              "      \n",
              "  <style>\n",
              "    .colab-df-container {\n",
              "      display:flex;\n",
              "      flex-wrap:wrap;\n",
              "      gap: 12px;\n",
              "    }\n",
              "\n",
              "    .colab-df-convert {\n",
              "      background-color: #E8F0FE;\n",
              "      border: none;\n",
              "      border-radius: 50%;\n",
              "      cursor: pointer;\n",
              "      display: none;\n",
              "      fill: #1967D2;\n",
              "      height: 32px;\n",
              "      padding: 0 0 0 0;\n",
              "      width: 32px;\n",
              "    }\n",
              "\n",
              "    .colab-df-convert:hover {\n",
              "      background-color: #E2EBFA;\n",
              "      box-shadow: 0px 1px 2px rgba(60, 64, 67, 0.3), 0px 1px 3px 1px rgba(60, 64, 67, 0.15);\n",
              "      fill: #174EA6;\n",
              "    }\n",
              "\n",
              "    [theme=dark] .colab-df-convert {\n",
              "      background-color: #3B4455;\n",
              "      fill: #D2E3FC;\n",
              "    }\n",
              "\n",
              "    [theme=dark] .colab-df-convert:hover {\n",
              "      background-color: #434B5C;\n",
              "      box-shadow: 0px 1px 3px 1px rgba(0, 0, 0, 0.15);\n",
              "      filter: drop-shadow(0px 1px 2px rgba(0, 0, 0, 0.3));\n",
              "      fill: #FFFFFF;\n",
              "    }\n",
              "  </style>\n",
              "\n",
              "      <script>\n",
              "        const buttonEl =\n",
              "          document.querySelector('#df-71ad88a2-d041-4034-bc57-214b10b3bf19 button.colab-df-convert');\n",
              "        buttonEl.style.display =\n",
              "          google.colab.kernel.accessAllowed ? 'block' : 'none';\n",
              "\n",
              "        async function convertToInteractive(key) {\n",
              "          const element = document.querySelector('#df-71ad88a2-d041-4034-bc57-214b10b3bf19');\n",
              "          const dataTable =\n",
              "            await google.colab.kernel.invokeFunction('convertToInteractive',\n",
              "                                                     [key], {});\n",
              "          if (!dataTable) return;\n",
              "\n",
              "          const docLinkHtml = 'Like what you see? Visit the ' +\n",
              "            '<a target=\"_blank\" href=https://colab.research.google.com/notebooks/data_table.ipynb>data table notebook</a>'\n",
              "            + ' to learn more about interactive tables.';\n",
              "          element.innerHTML = '';\n",
              "          dataTable['output_type'] = 'display_data';\n",
              "          await google.colab.output.renderOutput(dataTable, element);\n",
              "          const docLink = document.createElement('div');\n",
              "          docLink.innerHTML = docLinkHtml;\n",
              "          element.appendChild(docLink);\n",
              "        }\n",
              "      </script>\n",
              "    </div>\n",
              "  </div>\n",
              "  "
            ]
          },
          "metadata": {},
          "execution_count": 29
        }
      ]
    },
    {
      "cell_type": "code",
      "source": [
        "df1 = df[df.Clusters==0]\n",
        "df2 = df[df.Clusters==1]\n",
        "df3 = df[df.Clusters==2]\n",
        "df4 = df[df.Clusters==3]\n",
        "\n",
        "#PETALUS\n",
        "plt.xlabel(\"Petalus length\")\n",
        "plt.ylabel(\"Petalus Width\")\n",
        "plt.title(\"Petalus\")\n",
        "plt.scatter(df1.p_length, df1.p_width, label=\"Cluster 0\", alpha = .3)\n",
        "plt.scatter(df2.p_length, df2.p_width, label=\"Cluster 1\", alpha = .3)\n",
        "plt.scatter(df3.p_length, df3.p_width, label=\"Cluster 2\", alpha = .3)\n",
        "plt.scatter(df4.p_length, df4.p_width, label=\"Cluster 3\", alpha = .3)\n",
        "plt.scatter(kmc[0],kmc[1], label=\"Centroid\", marker = \"x\")\n",
        "plt.legend()\n",
        "plt.show()"
      ],
      "metadata": {
        "colab": {
          "base_uri": "https://localhost:8080/",
          "height": 295
        },
        "id": "7_HRKgskcsO1",
        "outputId": "7e72424d-30a8-42c0-bac8-59354ebfb46a"
      },
      "execution_count": 30,
      "outputs": [
        {
          "output_type": "display_data",
          "data": {
            "text/plain": [
              "<Figure size 432x288 with 1 Axes>"
            ],
            "image/png": "[encoded data removed]"
          },
          "metadata": {
            "needs_background": "light"
          }
        }
      ]
    },
    {
      "cell_type": "code",
      "source": [
        "# 3.-\n",
        "K = 4\n",
        "km = KMeans(n_clusters = K, n_init=\"auto\")\n",
        "\n",
        "#Clustering\n",
        "yestimated = km.fit_predict(df.iloc[:, 0:2])\n",
        "\n",
        "#Add Column\n",
        "df.insert(5, \"Clusters\", yestimated, True)\n",
        "#df.drop(\"Clusters\", axis=1, inplace = True)\n",
        "df"
      ],
      "metadata": {
        "colab": {
          "base_uri": "https://localhost:8080/",
          "height": 424
        },
        "id": "7-RrBV4qeVwY",
        "outputId": "d49c0362-d404-48b9-e5cd-9a1e11a164f6"
      },
      "execution_count": 34,
      "outputs": [
        {
          "output_type": "execute_result",
          "data": {
            "text/plain": [
              "     s_length  s_width  p_length  p_width           Class  Clusters\n",
              "0         5.1      3.5       1.4      0.2     Iris-setosa         2\n",
              "1         4.9      3.0       1.4      0.2     Iris-setosa         2\n",
              "2         4.7      3.2       1.3      0.2     Iris-setosa         2\n",
              "3         4.6      3.1       1.5      0.2     Iris-setosa         2\n",
              "4         5.0      3.6       1.4      0.2     Iris-setosa         2\n",
              "..        ...      ...       ...      ...             ...       ...\n",
              "145       6.7      3.0       5.2      2.3  Iris-virginica         3\n",
              "146       6.3      2.5       5.0      1.9  Iris-virginica         3\n",
              "147       6.5      3.0       5.2      2.0  Iris-virginica         3\n",
              "148       6.2      3.4       5.4      2.3  Iris-virginica         3\n",
              "149       5.9      3.0       5.1      1.8  Iris-virginica         0\n",
              "\n",
              "[150 rows x 6 columns]"
            ],
            "text/html": [
              "\n",
              "  <div id=\"df-5049e363-2aee-4fe4-b72f-1c868dc54bc1\">\n",
              "    <div class=\"colab-df-container\">\n",
              "      <div>\n",
              "<style scoped>\n",
              "    .dataframe tbody tr th:only-of-type {\n",
              "        vertical-align: middle;\n",
              "    }\n",
              "\n",
              "    .dataframe tbody tr th {\n",
              "        vertical-align: top;\n",
              "    }\n",
              "\n",
              "    .dataframe thead th {\n",
              "        text-align: right;\n",
              "    }\n",
              "</style>\n",
              "<table border=\"1\" class=\"dataframe\">\n",
              "  <thead>\n",
              "    <tr style=\"text-align: right;\">\n",
              "      <th></th>\n",
              "      <th>s_length</th>\n",
              "      <th>s_width</th>\n",
              "      <th>p_length</th>\n",
              "      <th>p_width</th>\n",
              "      <th>Class</th>\n",
              "      <th>Clusters</th>\n",
              "    </tr>\n",
              "  </thead>\n",
              "  <tbody>\n",
              "    <tr>\n",
              "      <th>0</th>\n",
              "      <td>5.1</td>\n",
              "      <td>3.5</td>\n",
              "      <td>1.4</td>\n",
              "      <td>0.2</td>\n",
              "      <td>Iris-setosa</td>\n",
              "      <td>2</td>\n",
              "    </tr>\n",
              "    <tr>\n",
              "      <th>1</th>\n",
              "      <td>4.9</td>\n",
              "      <td>3.0</td>\n",
              "      <td>1.4</td>\n",
              "      <td>0.2</td>\n",
              "      <td>Iris-setosa</td>\n",
              "      <td>2</td>\n",
              "    </tr>\n",
              "    <tr>\n",
              "      <th>2</th>\n",
              "      <td>4.7</td>\n",
              "      <td>3.2</td>\n",
              "      <td>1.3</td>\n",
              "      <td>0.2</td>\n",
              "      <td>Iris-setosa</td>\n",
              "      <td>2</td>\n",
              "    </tr>\n",
              "    <tr>\n",
              "      <th>3</th>\n",
              "      <td>4.6</td>\n",
              "      <td>3.1</td>\n",
              "      <td>1.5</td>\n",
              "      <td>0.2</td>\n",
              "      <td>Iris-setosa</td>\n",
              "      <td>2</td>\n",
              "    </tr>\n",
              "    <tr>\n",
              "      <th>4</th>\n",
              "      <td>5.0</td>\n",
              "      <td>3.6</td>\n",
              "      <td>1.4</td>\n",
              "      <td>0.2</td>\n",
              "      <td>Iris-setosa</td>\n",
              "      <td>2</td>\n",
              "    </tr>\n",
              "    <tr>\n",
              "      <th>...</th>\n",
              "      <td>...</td>\n",
              "      <td>...</td>\n",
              "      <td>...</td>\n",
              "      <td>...</td>\n",
              "      <td>...</td>\n",
              "      <td>...</td>\n",
              "    </tr>\n",
              "    <tr>\n",
              "      <th>145</th>\n",
              "      <td>6.7</td>\n",
              "      <td>3.0</td>\n",
              "      <td>5.2</td>\n",
              "      <td>2.3</td>\n",
              "      <td>Iris-virginica</td>\n",
              "      <td>3</td>\n",
              "    </tr>\n",
              "    <tr>\n",
              "      <th>146</th>\n",
              "      <td>6.3</td>\n",
              "      <td>2.5</td>\n",
              "      <td>5.0</td>\n",
              "      <td>1.9</td>\n",
              "      <td>Iris-virginica</td>\n",
              "      <td>3</td>\n",
              "    </tr>\n",
              "    <tr>\n",
              "      <th>147</th>\n",
              "      <td>6.5</td>\n",
              "      <td>3.0</td>\n",
              "      <td>5.2</td>\n",
              "      <td>2.0</td>\n",
              "      <td>Iris-virginica</td>\n",
              "      <td>3</td>\n",
              "    </tr>\n",
              "    <tr>\n",
              "      <th>148</th>\n",
              "      <td>6.2</td>\n",
              "      <td>3.4</td>\n",
              "      <td>5.4</td>\n",
              "      <td>2.3</td>\n",
              "      <td>Iris-virginica</td>\n",
              "      <td>3</td>\n",
              "    </tr>\n",
              "    <tr>\n",
              "      <th>149</th>\n",
              "      <td>5.9</td>\n",
              "      <td>3.0</td>\n",
              "      <td>5.1</td>\n",
              "      <td>1.8</td>\n",
              "      <td>Iris-virginica</td>\n",
              "      <td>0</td>\n",
              "    </tr>\n",
              "  </tbody>\n",
              "</table>\n",
              "<p>150 rows × 6 columns</p>\n",
              "</div>\n",
              "      <button class=\"colab-df-convert\" onclick=\"convertToInteractive('df-5049e363-2aee-4fe4-b72f-1c868dc54bc1')\"\n",
              "              title=\"Convert this dataframe to an interactive table.\"\n",
              "              style=\"display:none;\">\n",
              "        \n",
              "  <svg xmlns=\"http://www.w3.org/2000/svg\" height=\"24px\"viewBox=\"0 0 24 24\"\n",
              "       width=\"24px\">\n",
              "    <path d=\"M0 0h24v24H0V0z\" fill=\"none\"/>\n",
              "    <path d=\"M18.56 5.44l.94 2.06.94-2.06 2.06-.94-2.06-.94-.94-2.06-.94 2.06-2.06.94zm-11 1L8.5 8.5l.94-2.06 2.06-.94-2.06-.94L8.5 2.5l-.94 2.06-2.06.94zm10 10l.94 2.06.94-2.06 2.06-.94-2.06-.94-.94-2.06-.94 2.06-2.06.94z\"/><path d=\"M17.41 7.96l-1.37-1.37c-.4-.4-.92-.59-1.43-.59-.52 0-1.04.2-1.43.59L10.3 9.45l-7.72 7.72c-.78.78-.78 2.05 0 2.83L4 21.41c.39.39.9.59 1.41.59.51 0 1.02-.2 1.41-.59l7.78-7.78 2.81-2.81c.8-.78.8-2.07 0-2.86zM5.41 20L4 18.59l7.72-7.72 1.47 1.35L5.41 20z\"/>\n",
              "  </svg>\n",
              "      </button>\n",
              "      \n",
              "  <style>\n",
              "    .colab-df-container {\n",
              "      display:flex;\n",
              "      flex-wrap:wrap;\n",
              "      gap: 12px;\n",
              "    }\n",
              "\n",
              "    .colab-df-convert {\n",
              "      background-color: #E8F0FE;\n",
              "      border: none;\n",
              "      border-radius: 50%;\n",
              "      cursor: pointer;\n",
              "      display: none;\n",
              "      fill: #1967D2;\n",
              "      height: 32px;\n",
              "      padding: 0 0 0 0;\n",
              "      width: 32px;\n",
              "    }\n",
              "\n",
              "    .colab-df-convert:hover {\n",
              "      background-color: #E2EBFA;\n",
              "      box-shadow: 0px 1px 2px rgba(60, 64, 67, 0.3), 0px 1px 3px 1px rgba(60, 64, 67, 0.15);\n",
              "      fill: #174EA6;\n",
              "    }\n",
              "\n",
              "    [theme=dark] .colab-df-convert {\n",
              "      background-color: #3B4455;\n",
              "      fill: #D2E3FC;\n",
              "    }\n",
              "\n",
              "    [theme=dark] .colab-df-convert:hover {\n",
              "      background-color: #434B5C;\n",
              "      box-shadow: 0px 1px 3px 1px rgba(0, 0, 0, 0.15);\n",
              "      filter: drop-shadow(0px 1px 2px rgba(0, 0, 0, 0.3));\n",
              "      fill: #FFFFFF;\n",
              "    }\n",
              "  </style>\n",
              "\n",
              "      <script>\n",
              "        const buttonEl =\n",
              "          document.querySelector('#df-5049e363-2aee-4fe4-b72f-1c868dc54bc1 button.colab-df-convert');\n",
              "        buttonEl.style.display =\n",
              "          google.colab.kernel.accessAllowed ? 'block' : 'none';\n",
              "\n",
              "        async function convertToInteractive(key) {\n",
              "          const element = document.querySelector('#df-5049e363-2aee-4fe4-b72f-1c868dc54bc1');\n",
              "          const dataTable =\n",
              "            await google.colab.kernel.invokeFunction('convertToInteractive',\n",
              "                                                     [key], {});\n",
              "          if (!dataTable) return;\n",
              "\n",
              "          const docLinkHtml = 'Like what you see? Visit the ' +\n",
              "            '<a target=\"_blank\" href=https://colab.research.google.com/notebooks/data_table.ipynb>data table notebook</a>'\n",
              "            + ' to learn more about interactive tables.';\n",
              "          element.innerHTML = '';\n",
              "          dataTable['output_type'] = 'display_data';\n",
              "          await google.colab.output.renderOutput(dataTable, element);\n",
              "          const docLink = document.createElement('div');\n",
              "          docLink.innerHTML = docLinkHtml;\n",
              "          element.appendChild(docLink);\n",
              "        }\n",
              "      </script>\n",
              "    </div>\n",
              "  </div>\n",
              "  "
            ]
          },
          "metadata": {},
          "execution_count": 34
        }
      ]
    },
    {
      "cell_type": "code",
      "source": [
        "#SEPALUS\n",
        "plt.xlabel(\"Sepalus Length\")\n",
        "plt.ylabel(\"Sepalus Width\")\n",
        "plt.title(\"Sepalus\")\n",
        "plt.scatter(df1.s_length, df1.s_width, label=\"Cluster 0\", alpha = .3)\n",
        "plt.scatter(df2.s_length, df2.s_width, label=\"Cluster 1\", alpha = .3)\n",
        "plt.scatter(df3.s_length, df3.s_width, label=\"Cluster 2\", alpha = .3)\n",
        "plt.scatter(df4.s_length, df4.s_width, label=\"Cluster 3\", alpha = .3)\n",
        "plt.scatter(kmc[0],kmc[1], label=\"Centroid\", marker = \"x\")\n",
        "plt.legend()\n",
        "plt.show()"
      ],
      "metadata": {
        "colab": {
          "base_uri": "https://localhost:8080/",
          "height": 295
        },
        "id": "Hh4nOnzeeoUg",
        "outputId": "c9bba449-083a-40c7-91c9-2795254ec55a"
      },
      "execution_count": 35,
      "outputs": [
        {
          "output_type": "display_data",
          "data": {
            "text/plain": [
              "<Figure size 432x288 with 1 Axes>"
            ],
            "image/png": "[encoded data removed]"
          },
          "metadata": {
            "needs_background": "light"
          }
        }
      ]
    }
  ],
  "metadata": {
    "colab": {
      "provenance": []
    },
    "kernelspec": {
      "display_name": "Python 3",
      "language": "python",
      "name": "python3"
    },
    "language_info": {
      "codemirror_mode": {
        "name": "ipython",
        "version": 3
      },
      "file_extension": ".py",
      "mimetype": "text/x-python",
      "name": "python",
      "nbconvert_exporter": "python",
      "pygments_lexer": "ipython3",
      "version": "3.8.3"
    }
  },
  "nbformat": 4,
  "nbformat_minor": 0
}