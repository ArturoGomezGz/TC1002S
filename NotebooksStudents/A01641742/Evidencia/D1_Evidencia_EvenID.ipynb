{
  "cells": [
    {
      "cell_type": "markdown",
      "metadata": {
        "id": "b8O7CEWX0DUU"
      },
      "source": [
        "# TC1002S Herramientas computacionales: el arte de la analítica\n",
        "\n",
        "This is a notebook with all your work for the final evidence of this course\n",
        "\n",
        "\n",
        "# Niveles de dominio a demostrar con la evidencia\n",
        "\n",
        "### SING0202A\n",
        "\n",
        "Interpreta interacciones entre variables relevantes en un problema, como base para la construcción de modelos bivariados basados en datos de un fenómeno investigado que le permita reproducir la respuesta del mismo. Es capaz de construir modelos bivariados que expliquen el comportamiento de un fenómeno.\n",
        "\n",
        "\n",
        "# Student information\n",
        "\n",
        "- Name: Carlos David Amezcua Canales\n",
        "\n",
        "- ID: A01641742\n",
        "\n",
        "- My carreer: Ingeniería en Tecnologías Computacionales\n"
      ]
    },
    {
      "cell_type": "markdown",
      "metadata": {
        "id": "wkt1wr9h0DUY"
      },
      "source": [
        "# Importing libraries"
      ]
    },
    {
      "cell_type": "code",
      "execution_count": 265,
      "metadata": {
        "id": "TZB00bih0DUY"
      },
      "outputs": [],
      "source": [
        "import numpy as np\n",
        "import pandas as pd\n",
        "import seaborn as sns\n",
        "import matplotlib.pyplot as plt\n",
        "from sklearn.cluster import KMeans\n",
        "from sklearn.datasets import make_blobs\n",
        "from mpl_toolkits.mplot3d import Axes3D\n",
        "from sklearn.metrics import silhouette_score, adjusted_rand_score, homogeneity_score"
      ]
    },
    {
      "cell_type": "markdown",
      "metadata": {
        "id": "dMSKfxFJ0DUZ"
      },
      "source": [
        "# PART 1\n",
        "# Use your assigned dataset"
      ]
    },
    {
      "cell_type": "markdown",
      "metadata": {
        "id": "rqcG1Spd0DUZ"
      },
      "source": [
        "## A1 Load data"
      ]
    },
    {
      "cell_type": "code",
      "execution_count": 117,
      "metadata": {
        "colab": {
          "base_uri": "https://localhost:8080/",
          "height": 0
        },
        "id": "83wbgoYn0DUa",
        "outputId": "ce6493a8-6483-4d85-c4ec-62abf5def3c8"
      },
      "outputs": [
        {
          "output_type": "stream",
          "name": "stdout",
          "text": [
            "Drive already mounted at /content/drive; to attempt to forcibly remount, call drive.mount(\"/content/drive\", force_remount=True).\n"
          ]
        }
      ],
      "source": [
        "# Define where you are running the code: colab or local\n",
        "RunInColab = True # (False: no | True: yes)\n",
        "\n",
        "# If running in colab:\n",
        "if RunInColab:\n",
        "    # Mount your google drive in google colab\n",
        "    from google.colab import drive\n",
        "    drive.mount('/content/drive')\n",
        "\n",
        "    # Find location\n",
        "    #!pwd\n",
        "    #!ls\n",
        "    #!ls \"/content/drive/My Drive/Colab Notebooks/MachineLearningWithPython/\"\n",
        "\n",
        "    # Define path del proyecto\n",
        "    Ruta = \"/content/drive/My Drive/Colab Notebooks/MachineLearningWithPython/\"\n",
        "\n",
        "else:\n",
        "    # Define path del proyecto\n",
        "    Ruta = \"\"\n",
        "\n",
        "# Dataset url\n",
        "url = Ruta + \"/datasets/A01641742/A01641742.csv\"\n",
        "\n",
        "# Load the dataset\n",
        "df  = pd.read_csv(url)"
      ]
    },
    {
      "cell_type": "markdown",
      "metadata": {
        "id": "Wh89la-w0DUa"
      },
      "source": [
        "## A2 Data managment\n"
      ]
    },
    {
      "cell_type": "markdown",
      "metadata": {
        "id": "Q-RJxvCA0DUa"
      },
      "source": [
        "Print the first 7 rows"
      ]
    },
    {
      "cell_type": "code",
      "execution_count": 118,
      "metadata": {
        "colab": {
          "base_uri": "https://localhost:8080/",
          "height": 269
        },
        "id": "kmLw80Fr0DUa",
        "outputId": "e3d6a20c-78a9-4c65-9b18-2fdb12359a97"
      },
      "outputs": [
        {
          "output_type": "execute_result",
          "data": {
            "text/plain": [
              "   Unnamed: 0        x1        x2\n",
              "0           0  1.863897  0.277567\n",
              "1           1  1.300167 -0.509895\n",
              "2           2 -0.787361  0.294940\n",
              "3           3  0.234474  0.009165\n",
              "4           4  0.213367 -0.129235\n",
              "5           5  0.229590 -0.101527\n",
              "6           6  0.293487  0.063462"
            ],
            "text/html": [
              "\n",
              "  <div id=\"df-10ace7a4-a835-478e-b814-391c6c8e565b\">\n",
              "    <div class=\"colab-df-container\">\n",
              "      <div>\n",
              "<style scoped>\n",
              "    .dataframe tbody tr th:only-of-type {\n",
              "        vertical-align: middle;\n",
              "    }\n",
              "\n",
              "    .dataframe tbody tr th {\n",
              "        vertical-align: top;\n",
              "    }\n",
              "\n",
              "    .dataframe thead th {\n",
              "        text-align: right;\n",
              "    }\n",
              "</style>\n",
              "<table border=\"1\" class=\"dataframe\">\n",
              "  <thead>\n",
              "    <tr style=\"text-align: right;\">\n",
              "      <th></th>\n",
              "      <th>Unnamed: 0</th>\n",
              "      <th>x1</th>\n",
              "      <th>x2</th>\n",
              "    </tr>\n",
              "  </thead>\n",
              "  <tbody>\n",
              "    <tr>\n",
              "      <th>0</th>\n",
              "      <td>0</td>\n",
              "      <td>1.863897</td>\n",
              "      <td>0.277567</td>\n",
              "    </tr>\n",
              "    <tr>\n",
              "      <th>1</th>\n",
              "      <td>1</td>\n",
              "      <td>1.300167</td>\n",
              "      <td>-0.509895</td>\n",
              "    </tr>\n",
              "    <tr>\n",
              "      <th>2</th>\n",
              "      <td>2</td>\n",
              "      <td>-0.787361</td>\n",
              "      <td>0.294940</td>\n",
              "    </tr>\n",
              "    <tr>\n",
              "      <th>3</th>\n",
              "      <td>3</td>\n",
              "      <td>0.234474</td>\n",
              "      <td>0.009165</td>\n",
              "    </tr>\n",
              "    <tr>\n",
              "      <th>4</th>\n",
              "      <td>4</td>\n",
              "      <td>0.213367</td>\n",
              "      <td>-0.129235</td>\n",
              "    </tr>\n",
              "    <tr>\n",
              "      <th>5</th>\n",
              "      <td>5</td>\n",
              "      <td>0.229590</td>\n",
              "      <td>-0.101527</td>\n",
              "    </tr>\n",
              "    <tr>\n",
              "      <th>6</th>\n",
              "      <td>6</td>\n",
              "      <td>0.293487</td>\n",
              "      <td>0.063462</td>\n",
              "    </tr>\n",
              "  </tbody>\n",
              "</table>\n",
              "</div>\n",
              "      <button class=\"colab-df-convert\" onclick=\"convertToInteractive('df-10ace7a4-a835-478e-b814-391c6c8e565b')\"\n",
              "              title=\"Convert this dataframe to an interactive table.\"\n",
              "              style=\"display:none;\">\n",
              "        \n",
              "  <svg xmlns=\"http://www.w3.org/2000/svg\" height=\"24px\"viewBox=\"0 0 24 24\"\n",
              "       width=\"24px\">\n",
              "    <path d=\"M0 0h24v24H0V0z\" fill=\"none\"/>\n",
              "    <path d=\"M18.56 5.44l.94 2.06.94-2.06 2.06-.94-2.06-.94-.94-2.06-.94 2.06-2.06.94zm-11 1L8.5 8.5l.94-2.06 2.06-.94-2.06-.94L8.5 2.5l-.94 2.06-2.06.94zm10 10l.94 2.06.94-2.06 2.06-.94-2.06-.94-.94-2.06-.94 2.06-2.06.94z\"/><path d=\"M17.41 7.96l-1.37-1.37c-.4-.4-.92-.59-1.43-.59-.52 0-1.04.2-1.43.59L10.3 9.45l-7.72 7.72c-.78.78-.78 2.05 0 2.83L4 21.41c.39.39.9.59 1.41.59.51 0 1.02-.2 1.41-.59l7.78-7.78 2.81-2.81c.8-.78.8-2.07 0-2.86zM5.41 20L4 18.59l7.72-7.72 1.47 1.35L5.41 20z\"/>\n",
              "  </svg>\n",
              "      </button>\n",
              "      \n",
              "  <style>\n",
              "    .colab-df-container {\n",
              "      display:flex;\n",
              "      flex-wrap:wrap;\n",
              "      gap: 12px;\n",
              "    }\n",
              "\n",
              "    .colab-df-convert {\n",
              "      background-color: #E8F0FE;\n",
              "      border: none;\n",
              "      border-radius: 50%;\n",
              "      cursor: pointer;\n",
              "      display: none;\n",
              "      fill: #1967D2;\n",
              "      height: 32px;\n",
              "      padding: 0 0 0 0;\n",
              "      width: 32px;\n",
              "    }\n",
              "\n",
              "    .colab-df-convert:hover {\n",
              "      background-color: #E2EBFA;\n",
              "      box-shadow: 0px 1px 2px rgba(60, 64, 67, 0.3), 0px 1px 3px 1px rgba(60, 64, 67, 0.15);\n",
              "      fill: #174EA6;\n",
              "    }\n",
              "\n",
              "    [theme=dark] .colab-df-convert {\n",
              "      background-color: #3B4455;\n",
              "      fill: #D2E3FC;\n",
              "    }\n",
              "\n",
              "    [theme=dark] .colab-df-convert:hover {\n",
              "      background-color: #434B5C;\n",
              "      box-shadow: 0px 1px 3px 1px rgba(0, 0, 0, 0.15);\n",
              "      filter: drop-shadow(0px 1px 2px rgba(0, 0, 0, 0.3));\n",
              "      fill: #FFFFFF;\n",
              "    }\n",
              "  </style>\n",
              "\n",
              "      <script>\n",
              "        const buttonEl =\n",
              "          document.querySelector('#df-10ace7a4-a835-478e-b814-391c6c8e565b button.colab-df-convert');\n",
              "        buttonEl.style.display =\n",
              "          google.colab.kernel.accessAllowed ? 'block' : 'none';\n",
              "\n",
              "        async function convertToInteractive(key) {\n",
              "          const element = document.querySelector('#df-10ace7a4-a835-478e-b814-391c6c8e565b');\n",
              "          const dataTable =\n",
              "            await google.colab.kernel.invokeFunction('convertToInteractive',\n",
              "                                                     [key], {});\n",
              "          if (!dataTable) return;\n",
              "\n",
              "          const docLinkHtml = 'Like what you see? Visit the ' +\n",
              "            '<a target=\"_blank\" href=https://colab.research.google.com/notebooks/data_table.ipynb>data table notebook</a>'\n",
              "            + ' to learn more about interactive tables.';\n",
              "          element.innerHTML = '';\n",
              "          dataTable['output_type'] = 'display_data';\n",
              "          await google.colab.output.renderOutput(dataTable, element);\n",
              "          const docLink = document.createElement('div');\n",
              "          docLink.innerHTML = docLinkHtml;\n",
              "          element.appendChild(docLink);\n",
              "        }\n",
              "      </script>\n",
              "    </div>\n",
              "  </div>\n",
              "  "
            ]
          },
          "metadata": {},
          "execution_count": 118
        }
      ],
      "source": [
        "df.head(7)"
      ]
    },
    {
      "cell_type": "markdown",
      "metadata": {
        "id": "Ag-yozvY0DUb"
      },
      "source": [
        "Print the first 4 last rows"
      ]
    },
    {
      "cell_type": "code",
      "execution_count": 119,
      "metadata": {
        "colab": {
          "base_uri": "https://localhost:8080/",
          "height": 175
        },
        "id": "8zrn5nAb0DUb",
        "outputId": "edea0319-0ee5-4457-8fae-912bd1e99da7"
      },
      "outputs": [
        {
          "output_type": "execute_result",
          "data": {
            "text/plain": [
              "      Unnamed: 0        x1        x2\n",
              "1246        1246 -1.002940  0.209688\n",
              "1247        1247 -0.410444  0.845425\n",
              "1248        1248  0.850914  0.328372\n",
              "1249        1249  0.567495 -0.271324"
            ],
            "text/html": [
              "\n",
              "  <div id=\"df-d85d1056-6846-46c6-a368-ba839b6aebcd\">\n",
              "    <div class=\"colab-df-container\">\n",
              "      <div>\n",
              "<style scoped>\n",
              "    .dataframe tbody tr th:only-of-type {\n",
              "        vertical-align: middle;\n",
              "    }\n",
              "\n",
              "    .dataframe tbody tr th {\n",
              "        vertical-align: top;\n",
              "    }\n",
              "\n",
              "    .dataframe thead th {\n",
              "        text-align: right;\n",
              "    }\n",
              "</style>\n",
              "<table border=\"1\" class=\"dataframe\">\n",
              "  <thead>\n",
              "    <tr style=\"text-align: right;\">\n",
              "      <th></th>\n",
              "      <th>Unnamed: 0</th>\n",
              "      <th>x1</th>\n",
              "      <th>x2</th>\n",
              "    </tr>\n",
              "  </thead>\n",
              "  <tbody>\n",
              "    <tr>\n",
              "      <th>1246</th>\n",
              "      <td>1246</td>\n",
              "      <td>-1.002940</td>\n",
              "      <td>0.209688</td>\n",
              "    </tr>\n",
              "    <tr>\n",
              "      <th>1247</th>\n",
              "      <td>1247</td>\n",
              "      <td>-0.410444</td>\n",
              "      <td>0.845425</td>\n",
              "    </tr>\n",
              "    <tr>\n",
              "      <th>1248</th>\n",
              "      <td>1248</td>\n",
              "      <td>0.850914</td>\n",
              "      <td>0.328372</td>\n",
              "    </tr>\n",
              "    <tr>\n",
              "      <th>1249</th>\n",
              "      <td>1249</td>\n",
              "      <td>0.567495</td>\n",
              "      <td>-0.271324</td>\n",
              "    </tr>\n",
              "  </tbody>\n",
              "</table>\n",
              "</div>\n",
              "      <button class=\"colab-df-convert\" onclick=\"convertToInteractive('df-d85d1056-6846-46c6-a368-ba839b6aebcd')\"\n",
              "              title=\"Convert this dataframe to an interactive table.\"\n",
              "              style=\"display:none;\">\n",
              "        \n",
              "  <svg xmlns=\"http://www.w3.org/2000/svg\" height=\"24px\"viewBox=\"0 0 24 24\"\n",
              "       width=\"24px\">\n",
              "    <path d=\"M0 0h24v24H0V0z\" fill=\"none\"/>\n",
              "    <path d=\"M18.56 5.44l.94 2.06.94-2.06 2.06-.94-2.06-.94-.94-2.06-.94 2.06-2.06.94zm-11 1L8.5 8.5l.94-2.06 2.06-.94-2.06-.94L8.5 2.5l-.94 2.06-2.06.94zm10 10l.94 2.06.94-2.06 2.06-.94-2.06-.94-.94-2.06-.94 2.06-2.06.94z\"/><path d=\"M17.41 7.96l-1.37-1.37c-.4-.4-.92-.59-1.43-.59-.52 0-1.04.2-1.43.59L10.3 9.45l-7.72 7.72c-.78.78-.78 2.05 0 2.83L4 21.41c.39.39.9.59 1.41.59.51 0 1.02-.2 1.41-.59l7.78-7.78 2.81-2.81c.8-.78.8-2.07 0-2.86zM5.41 20L4 18.59l7.72-7.72 1.47 1.35L5.41 20z\"/>\n",
              "  </svg>\n",
              "      </button>\n",
              "      \n",
              "  <style>\n",
              "    .colab-df-container {\n",
              "      display:flex;\n",
              "      flex-wrap:wrap;\n",
              "      gap: 12px;\n",
              "    }\n",
              "\n",
              "    .colab-df-convert {\n",
              "      background-color: #E8F0FE;\n",
              "      border: none;\n",
              "      border-radius: 50%;\n",
              "      cursor: pointer;\n",
              "      display: none;\n",
              "      fill: #1967D2;\n",
              "      height: 32px;\n",
              "      padding: 0 0 0 0;\n",
              "      width: 32px;\n",
              "    }\n",
              "\n",
              "    .colab-df-convert:hover {\n",
              "      background-color: #E2EBFA;\n",
              "      box-shadow: 0px 1px 2px rgba(60, 64, 67, 0.3), 0px 1px 3px 1px rgba(60, 64, 67, 0.15);\n",
              "      fill: #174EA6;\n",
              "    }\n",
              "\n",
              "    [theme=dark] .colab-df-convert {\n",
              "      background-color: #3B4455;\n",
              "      fill: #D2E3FC;\n",
              "    }\n",
              "\n",
              "    [theme=dark] .colab-df-convert:hover {\n",
              "      background-color: #434B5C;\n",
              "      box-shadow: 0px 1px 3px 1px rgba(0, 0, 0, 0.15);\n",
              "      filter: drop-shadow(0px 1px 2px rgba(0, 0, 0, 0.3));\n",
              "      fill: #FFFFFF;\n",
              "    }\n",
              "  </style>\n",
              "\n",
              "      <script>\n",
              "        const buttonEl =\n",
              "          document.querySelector('#df-d85d1056-6846-46c6-a368-ba839b6aebcd button.colab-df-convert');\n",
              "        buttonEl.style.display =\n",
              "          google.colab.kernel.accessAllowed ? 'block' : 'none';\n",
              "\n",
              "        async function convertToInteractive(key) {\n",
              "          const element = document.querySelector('#df-d85d1056-6846-46c6-a368-ba839b6aebcd');\n",
              "          const dataTable =\n",
              "            await google.colab.kernel.invokeFunction('convertToInteractive',\n",
              "                                                     [key], {});\n",
              "          if (!dataTable) return;\n",
              "\n",
              "          const docLinkHtml = 'Like what you see? Visit the ' +\n",
              "            '<a target=\"_blank\" href=https://colab.research.google.com/notebooks/data_table.ipynb>data table notebook</a>'\n",
              "            + ' to learn more about interactive tables.';\n",
              "          element.innerHTML = '';\n",
              "          dataTable['output_type'] = 'display_data';\n",
              "          await google.colab.output.renderOutput(dataTable, element);\n",
              "          const docLink = document.createElement('div');\n",
              "          docLink.innerHTML = docLinkHtml;\n",
              "          element.appendChild(docLink);\n",
              "        }\n",
              "      </script>\n",
              "    </div>\n",
              "  </div>\n",
              "  "
            ]
          },
          "metadata": {},
          "execution_count": 119
        }
      ],
      "source": [
        "df.tail(4)"
      ]
    },
    {
      "cell_type": "markdown",
      "metadata": {
        "id": "yRpaya3K0DUb"
      },
      "source": [
        "How many rows and columns are in your data?\n",
        "\n",
        "Use the `shape` method\n"
      ]
    },
    {
      "cell_type": "code",
      "execution_count": 120,
      "metadata": {
        "colab": {
          "base_uri": "https://localhost:8080/",
          "height": 0
        },
        "id": "mFn4H6680DUb",
        "outputId": "8044d0a4-fd0d-41a7-eb66-befdab4e63c0"
      },
      "outputs": [
        {
          "output_type": "stream",
          "name": "stdout",
          "text": [
            "Rows: 1250\n",
            "Columns: 3\n"
          ]
        }
      ],
      "source": [
        "rows, columns = df.shape\n",
        "print(\"Rows: {}\".format(rows))\n",
        "print(\"Columns: {}\".format(columns))"
      ]
    },
    {
      "cell_type": "markdown",
      "metadata": {
        "id": "wR16NclN0DUb"
      },
      "source": [
        "Print the name of all columns \n",
        "\n",
        "Use the `columns` method"
      ]
    },
    {
      "cell_type": "code",
      "execution_count": 121,
      "metadata": {
        "colab": {
          "base_uri": "https://localhost:8080/",
          "height": 0
        },
        "id": "8tzVCrHB0DUc",
        "outputId": "1aa47701-97b0-40dd-8c4b-1ffe396aee81"
      },
      "outputs": [
        {
          "output_type": "stream",
          "name": "stdout",
          "text": [
            "Unnamed: 0\n",
            "x1\n",
            "x2\n"
          ]
        }
      ],
      "source": [
        "for i in df.columns:\n",
        "    print(i)"
      ]
    },
    {
      "cell_type": "markdown",
      "metadata": {
        "id": "ID2YD5nQ0DUc"
      },
      "source": [
        "What is the data type in each column\n",
        "\n",
        "Use the `dtypes` method "
      ]
    },
    {
      "cell_type": "code",
      "execution_count": 122,
      "metadata": {
        "colab": {
          "base_uri": "https://localhost:8080/",
          "height": 0
        },
        "id": "GTsrk0Dw0DUc",
        "outputId": "c8f89067-06d2-4adb-be53-40849f9f463e"
      },
      "outputs": [
        {
          "output_type": "stream",
          "name": "stdout",
          "text": [
            "Unnamed: 0      int64\n",
            "x1            float64\n",
            "x2            float64\n",
            "dtype: object\n"
          ]
        }
      ],
      "source": [
        "print(df.dtypes)"
      ]
    },
    {
      "cell_type": "markdown",
      "metadata": {
        "id": "4EgaZD_t0DUc"
      },
      "source": [
        "What is the meaning of rows and columns?"
      ]
    },
    {
      "cell_type": "code",
      "execution_count": 123,
      "metadata": {
        "colab": {
          "base_uri": "https://localhost:8080/",
          "height": 71
        },
        "id": "2H4_Jpg10DUc",
        "outputId": "8e0dee8f-5830-4aff-be92-10c4bd30cc58"
      },
      "outputs": [
        {
          "output_type": "execute_result",
          "data": {
            "text/plain": [
              "'\\nIn general, rows and columns refer to the horizontal and vertical components of \\na table or matrix.\\n\\nIn the context of a table, rows are the horizontal lines of data, and each row \\ntypically represents a single record or observation. \\n\\nColumns, on the other hand, are the vertical lines of data in a table, and each \\ncolumn typically represents a specific variable or feature.\\n'"
            ],
            "application/vnd.google.colaboratory.intrinsic+json": {
              "type": "string"
            }
          },
          "metadata": {},
          "execution_count": 123
        }
      ],
      "source": [
        "# Your responses here\n",
        "\n",
        "'''\n",
        "In general, rows and columns refer to the horizontal and vertical components of \n",
        "a table or matrix.\n",
        "\n",
        "In the context of a table, rows are the horizontal lines of data, and each row \n",
        "typically represents a single record or observation. \n",
        "\n",
        "Columns, on the other hand, are the vertical lines of data in a table, and each \n",
        "column typically represents a specific variable or feature.\n",
        "'''"
      ]
    },
    {
      "cell_type": "markdown",
      "metadata": {
        "id": "Jwe9qsrk0DUc"
      },
      "source": [
        "Print a statistical summary of your columns\n"
      ]
    },
    {
      "cell_type": "code",
      "execution_count": 124,
      "metadata": {
        "colab": {
          "base_uri": "https://localhost:8080/",
          "height": 300
        },
        "id": "WWRTvNtG0DUd",
        "outputId": "50255408-8856-458d-f8f9-6dfee8d895aa"
      },
      "outputs": [
        {
          "output_type": "execute_result",
          "data": {
            "text/plain": [
              "        Unnamed: 0           x1           x2\n",
              "count  1250.000000  1250.000000  1250.000000\n",
              "mean    624.500000     0.504227     0.248489\n",
              "std     360.988227     0.870859     0.502999\n",
              "min       0.000000    -1.312542    -0.706822\n",
              "25%     312.250000    -0.085273    -0.192843\n",
              "50%     624.500000     0.504187     0.251080\n",
              "75%     936.750000     1.069560     0.694035\n",
              "max    1249.000000     2.243399     1.241571"
            ],
            "text/html": [
              "\n",
              "  <div id=\"df-f860f482-8eb2-47cb-94cf-8f78bc146c45\">\n",
              "    <div class=\"colab-df-container\">\n",
              "      <div>\n",
              "<style scoped>\n",
              "    .dataframe tbody tr th:only-of-type {\n",
              "        vertical-align: middle;\n",
              "    }\n",
              "\n",
              "    .dataframe tbody tr th {\n",
              "        vertical-align: top;\n",
              "    }\n",
              "\n",
              "    .dataframe thead th {\n",
              "        text-align: right;\n",
              "    }\n",
              "</style>\n",
              "<table border=\"1\" class=\"dataframe\">\n",
              "  <thead>\n",
              "    <tr style=\"text-align: right;\">\n",
              "      <th></th>\n",
              "      <th>Unnamed: 0</th>\n",
              "      <th>x1</th>\n",
              "      <th>x2</th>\n",
              "    </tr>\n",
              "  </thead>\n",
              "  <tbody>\n",
              "    <tr>\n",
              "      <th>count</th>\n",
              "      <td>1250.000000</td>\n",
              "      <td>1250.000000</td>\n",
              "      <td>1250.000000</td>\n",
              "    </tr>\n",
              "    <tr>\n",
              "      <th>mean</th>\n",
              "      <td>624.500000</td>\n",
              "      <td>0.504227</td>\n",
              "      <td>0.248489</td>\n",
              "    </tr>\n",
              "    <tr>\n",
              "      <th>std</th>\n",
              "      <td>360.988227</td>\n",
              "      <td>0.870859</td>\n",
              "      <td>0.502999</td>\n",
              "    </tr>\n",
              "    <tr>\n",
              "      <th>min</th>\n",
              "      <td>0.000000</td>\n",
              "      <td>-1.312542</td>\n",
              "      <td>-0.706822</td>\n",
              "    </tr>\n",
              "    <tr>\n",
              "      <th>25%</th>\n",
              "      <td>312.250000</td>\n",
              "      <td>-0.085273</td>\n",
              "      <td>-0.192843</td>\n",
              "    </tr>\n",
              "    <tr>\n",
              "      <th>50%</th>\n",
              "      <td>624.500000</td>\n",
              "      <td>0.504187</td>\n",
              "      <td>0.251080</td>\n",
              "    </tr>\n",
              "    <tr>\n",
              "      <th>75%</th>\n",
              "      <td>936.750000</td>\n",
              "      <td>1.069560</td>\n",
              "      <td>0.694035</td>\n",
              "    </tr>\n",
              "    <tr>\n",
              "      <th>max</th>\n",
              "      <td>1249.000000</td>\n",
              "      <td>2.243399</td>\n",
              "      <td>1.241571</td>\n",
              "    </tr>\n",
              "  </tbody>\n",
              "</table>\n",
              "</div>\n",
              "      <button class=\"colab-df-convert\" onclick=\"convertToInteractive('df-f860f482-8eb2-47cb-94cf-8f78bc146c45')\"\n",
              "              title=\"Convert this dataframe to an interactive table.\"\n",
              "              style=\"display:none;\">\n",
              "        \n",
              "  <svg xmlns=\"http://www.w3.org/2000/svg\" height=\"24px\"viewBox=\"0 0 24 24\"\n",
              "       width=\"24px\">\n",
              "    <path d=\"M0 0h24v24H0V0z\" fill=\"none\"/>\n",
              "    <path d=\"M18.56 5.44l.94 2.06.94-2.06 2.06-.94-2.06-.94-.94-2.06-.94 2.06-2.06.94zm-11 1L8.5 8.5l.94-2.06 2.06-.94-2.06-.94L8.5 2.5l-.94 2.06-2.06.94zm10 10l.94 2.06.94-2.06 2.06-.94-2.06-.94-.94-2.06-.94 2.06-2.06.94z\"/><path d=\"M17.41 7.96l-1.37-1.37c-.4-.4-.92-.59-1.43-.59-.52 0-1.04.2-1.43.59L10.3 9.45l-7.72 7.72c-.78.78-.78 2.05 0 2.83L4 21.41c.39.39.9.59 1.41.59.51 0 1.02-.2 1.41-.59l7.78-7.78 2.81-2.81c.8-.78.8-2.07 0-2.86zM5.41 20L4 18.59l7.72-7.72 1.47 1.35L5.41 20z\"/>\n",
              "  </svg>\n",
              "      </button>\n",
              "      \n",
              "  <style>\n",
              "    .colab-df-container {\n",
              "      display:flex;\n",
              "      flex-wrap:wrap;\n",
              "      gap: 12px;\n",
              "    }\n",
              "\n",
              "    .colab-df-convert {\n",
              "      background-color: #E8F0FE;\n",
              "      border: none;\n",
              "      border-radius: 50%;\n",
              "      cursor: pointer;\n",
              "      display: none;\n",
              "      fill: #1967D2;\n",
              "      height: 32px;\n",
              "      padding: 0 0 0 0;\n",
              "      width: 32px;\n",
              "    }\n",
              "\n",
              "    .colab-df-convert:hover {\n",
              "      background-color: #E2EBFA;\n",
              "      box-shadow: 0px 1px 2px rgba(60, 64, 67, 0.3), 0px 1px 3px 1px rgba(60, 64, 67, 0.15);\n",
              "      fill: #174EA6;\n",
              "    }\n",
              "\n",
              "    [theme=dark] .colab-df-convert {\n",
              "      background-color: #3B4455;\n",
              "      fill: #D2E3FC;\n",
              "    }\n",
              "\n",
              "    [theme=dark] .colab-df-convert:hover {\n",
              "      background-color: #434B5C;\n",
              "      box-shadow: 0px 1px 3px 1px rgba(0, 0, 0, 0.15);\n",
              "      filter: drop-shadow(0px 1px 2px rgba(0, 0, 0, 0.3));\n",
              "      fill: #FFFFFF;\n",
              "    }\n",
              "  </style>\n",
              "\n",
              "      <script>\n",
              "        const buttonEl =\n",
              "          document.querySelector('#df-f860f482-8eb2-47cb-94cf-8f78bc146c45 button.colab-df-convert');\n",
              "        buttonEl.style.display =\n",
              "          google.colab.kernel.accessAllowed ? 'block' : 'none';\n",
              "\n",
              "        async function convertToInteractive(key) {\n",
              "          const element = document.querySelector('#df-f860f482-8eb2-47cb-94cf-8f78bc146c45');\n",
              "          const dataTable =\n",
              "            await google.colab.kernel.invokeFunction('convertToInteractive',\n",
              "                                                     [key], {});\n",
              "          if (!dataTable) return;\n",
              "\n",
              "          const docLinkHtml = 'Like what you see? Visit the ' +\n",
              "            '<a target=\"_blank\" href=https://colab.research.google.com/notebooks/data_table.ipynb>data table notebook</a>'\n",
              "            + ' to learn more about interactive tables.';\n",
              "          element.innerHTML = '';\n",
              "          dataTable['output_type'] = 'display_data';\n",
              "          await google.colab.output.renderOutput(dataTable, element);\n",
              "          const docLink = document.createElement('div');\n",
              "          docLink.innerHTML = docLinkHtml;\n",
              "          element.appendChild(docLink);\n",
              "        }\n",
              "      </script>\n",
              "    </div>\n",
              "  </div>\n",
              "  "
            ]
          },
          "metadata": {},
          "execution_count": 124
        }
      ],
      "source": [
        "df.describe()"
      ]
    },
    {
      "cell_type": "code",
      "execution_count": 125,
      "metadata": {
        "colab": {
          "base_uri": "https://localhost:8080/",
          "height": 0
        },
        "id": "kKgY5slM0DUd",
        "outputId": "b481f2f7-a2d8-4c0c-d031-a4d8b526fa97"
      },
      "outputs": [
        {
          "output_type": "stream",
          "name": "stdout",
          "text": [
            "min(Unnamed: 0) = 0\n",
            "max(Unnamed: 0) = 1249\n",
            "\n",
            "min(x1) = -1.3125424680065472\n",
            "max(x1) = 2.24339943573144\n",
            "\n",
            "min(x2) = -0.7068223881781435\n",
            "max(x2) = 1.2415712655983524\n",
            "\n"
          ]
        }
      ],
      "source": [
        "# 1) What is the minumum and maximum values of each variable\n",
        "\n",
        "for i in df.columns:\n",
        "  print(\"min({}) = {}\".format(i, df[i].min()))\n",
        "  print(\"max({}) = {}\".format(i, df[i].max()))\n",
        "  print()"
      ]
    },
    {
      "cell_type": "code",
      "source": [
        "# 2) What is the mean and standar deviation of each variable\n",
        "\n",
        "for i in df.columns:\n",
        "  print(\"mean({}) = {}\".format(i, df[i].mean()))\n",
        "  print(\"std({}) = {}\".format(i, df[i].std()))\n",
        "  print()"
      ],
      "metadata": {
        "colab": {
          "base_uri": "https://localhost:8080/",
          "height": 0
        },
        "id": "hiuzg5Y07wNk",
        "outputId": "23ebc85a-4bd0-402c-d2ba-5454c9d2c421"
      },
      "execution_count": 126,
      "outputs": [
        {
          "output_type": "stream",
          "name": "stdout",
          "text": [
            "mean(Unnamed: 0) = 624.5\n",
            "std(Unnamed: 0) = 360.9882269548413\n",
            "\n",
            "mean(x1) = 0.5042274378413598\n",
            "std(x1) = 0.8708585144209672\n",
            "\n",
            "mean(x2) = 0.24848921192017634\n",
            "std(x2) = 0.5029985086583644\n",
            "\n"
          ]
        }
      ]
    },
    {
      "cell_type": "code",
      "source": [
        "# 3) What the 25%, 50% and 75% represent?\n",
        "\n",
        "'''\n",
        "The 25th, 50th, and 75th percentiles represent the values below which 25%, 50%, \n",
        "and 75% of the data falls, respectively, when sorted in ascending order.\n",
        "'''"
      ],
      "metadata": {
        "colab": {
          "base_uri": "https://localhost:8080/",
          "height": 53
        },
        "id": "VIgRJkRo8E6j",
        "outputId": "8a485208-884c-4a8c-c218-fe0b7da11cf2"
      },
      "execution_count": 127,
      "outputs": [
        {
          "output_type": "execute_result",
          "data": {
            "text/plain": [
              "'\\nThe 25th, 50th, and 75th percentiles represent the values below which 25%, 50%, \\nand 75% of the data falls, respectively, when sorted in ascending order.\\n'"
            ],
            "application/vnd.google.colaboratory.intrinsic+json": {
              "type": "string"
            }
          },
          "metadata": {},
          "execution_count": 127
        }
      ]
    },
    {
      "cell_type": "markdown",
      "metadata": {
        "id": "8Fb5XFpo0DUd"
      },
      "source": [
        "Rename the columns using the same name with capital letters"
      ]
    },
    {
      "cell_type": "code",
      "execution_count": 128,
      "metadata": {
        "colab": {
          "base_uri": "https://localhost:8080/",
          "height": 0
        },
        "id": "DgTztpbH0DUd",
        "outputId": "4b50af43-ce2a-48db-ad18-58d0df0bad43"
      },
      "outputs": [
        {
          "output_type": "stream",
          "name": "stdout",
          "text": [
            "UNNAMED: 0\n",
            "X1\n",
            "X2\n"
          ]
        }
      ],
      "source": [
        "original_columns = df.columns\n",
        "\n",
        "df.columns = df.columns.str.upper()\n",
        "\n",
        "for i in df.columns:\n",
        "    print(i)"
      ]
    },
    {
      "cell_type": "markdown",
      "metadata": {
        "id": "Va_qc_th0DUd"
      },
      "source": [
        "Rename the columns to their original names"
      ]
    },
    {
      "cell_type": "code",
      "execution_count": 129,
      "metadata": {
        "colab": {
          "base_uri": "https://localhost:8080/",
          "height": 0
        },
        "id": "fy6HNN8m0DUd",
        "outputId": "86226bdb-37fd-4a4b-8000-233c6f6f3d31"
      },
      "outputs": [
        {
          "output_type": "stream",
          "name": "stdout",
          "text": [
            "Unnamed: 0\n",
            "x1\n",
            "x2\n"
          ]
        }
      ],
      "source": [
        "df.columns = original_columns\n",
        "\n",
        "for i in df.columns:\n",
        "    print(i)"
      ]
    },
    {
      "cell_type": "markdown",
      "metadata": {
        "id": "NMzGccNg0DUd"
      },
      "source": [
        "Use two different alternatives to get one of the columns"
      ]
    },
    {
      "cell_type": "code",
      "execution_count": 130,
      "metadata": {
        "colab": {
          "base_uri": "https://localhost:8080/",
          "height": 0
        },
        "id": "Qhr5pjo00DUd",
        "outputId": "4a5f465d-3f92-43df-c40d-5130542680f8"
      },
      "outputs": [
        {
          "output_type": "stream",
          "name": "stdout",
          "text": [
            "0       1.863897\n",
            "1       1.300167\n",
            "2      -0.787361\n",
            "3       0.234474\n",
            "4       0.213367\n",
            "          ...   \n",
            "1245    0.992277\n",
            "1246   -1.002940\n",
            "1247   -0.410444\n",
            "1248    0.850914\n",
            "1249    0.567495\n",
            "Name: x1, Length: 1250, dtype: float64\n",
            "0       1.863897\n",
            "1       1.300167\n",
            "2      -0.787361\n",
            "3       0.234474\n",
            "4       0.213367\n",
            "          ...   \n",
            "1245    0.992277\n",
            "1246   -1.002940\n",
            "1247   -0.410444\n",
            "1248    0.850914\n",
            "1249    0.567495\n",
            "Name: x1, Length: 1250, dtype: float64\n"
          ]
        }
      ],
      "source": [
        "print(df.x1)\n",
        "print(df[\"x1\"])"
      ]
    },
    {
      "cell_type": "markdown",
      "metadata": {
        "id": "I56879ff0DUd"
      },
      "source": [
        "Get a slice of your data set: second and thrid columns and rows from 62 to 72"
      ]
    },
    {
      "cell_type": "code",
      "execution_count": 131,
      "metadata": {
        "colab": {
          "base_uri": "https://localhost:8080/",
          "height": 0
        },
        "id": "i7qFeQjw0DUd",
        "outputId": "127bd8e4-d624-443a-d9b2-48f9e140c676"
      },
      "outputs": [
        {
          "output_type": "stream",
          "name": "stdout",
          "text": [
            "          x1        x2\n",
            "62  1.926623  0.360629\n",
            "63  1.289624 -0.410643\n",
            "64  0.014530  0.363414\n",
            "65  0.530334  1.030767\n",
            "66 -0.108996  0.921655\n",
            "67  1.873780 -0.121947\n",
            "68 -0.175515  1.039062\n",
            "69 -1.087571  0.349095\n",
            "70  2.012119  0.502053\n",
            "71  0.550993 -0.138710\n",
            "72  1.203358 -0.479014\n"
          ]
        }
      ],
      "source": [
        "print(df.iloc[62 : 72 + 1, 1 : 2 + 1])"
      ]
    },
    {
      "cell_type": "markdown",
      "metadata": {
        "id": "itJNJEGa0DUe"
      },
      "source": [
        "For the second and thrid columns, calculate the number of null and not null values and verify that their sum equals the total number of rows"
      ]
    },
    {
      "cell_type": "code",
      "execution_count": 132,
      "metadata": {
        "colab": {
          "base_uri": "https://localhost:8080/",
          "height": 0
        },
        "id": "Un8W1I9t0DUe",
        "outputId": "c628594f-8e2a-4ea2-977e-584c74870e96"
      },
      "outputs": [
        {
          "output_type": "stream",
          "name": "stdout",
          "text": [
            "x1 has 0 null values and 1250 not null values\n",
            "which add up to 1250, an amount EQUAL to the the total number of rows.\n",
            "\n",
            "x2 has 0 null values and 1250 not null values\n",
            "which add up to 1250, an amount EQUAL to the the total number of rows.\n",
            "\n"
          ]
        }
      ],
      "source": [
        "for col in df.iloc[:, 1:2 + 1]:\n",
        "    null_count = df[col].isnull().sum()\n",
        "    not_null_count = df[col].notnull().sum()\n",
        "    print(\"{} has {} null values and {} not null values\".format(col, null_count, not_null_count))\n",
        "    sum = null_count + not_null_count\n",
        "    print(\"which add up to {}, an amount {} to the the total number of rows.\"\n",
        "          .format(sum, \"EQUAL\" if sum == df.shape[0] else \"DIFFERENT\"))\n",
        "    print()"
      ]
    },
    {
      "cell_type": "markdown",
      "metadata": {
        "id": "Z4vruZpX0DUe"
      },
      "source": [
        "Discard the last/first column\n"
      ]
    },
    {
      "cell_type": "code",
      "execution_count": 133,
      "metadata": {
        "id": "mCc_GGMl0DUe"
      },
      "outputs": [],
      "source": [
        "df = df.drop(df.columns[0], axis=1)"
      ]
    },
    {
      "cell_type": "markdown",
      "metadata": {
        "id": "gf7CtMzK0DUe"
      },
      "source": [
        "### Questions \n",
        "\n",
        "Based on the previos results, provide a description of yout dataset\n",
        "\n",
        "Your response: My dataset consists of 1250 records of two floating-point variables, with zero null values.\n",
        "\n",
        "\n"
      ]
    },
    {
      "cell_type": "markdown",
      "metadata": {
        "id": "Q8u1bypf0DUe"
      },
      "source": [
        "## A3 Data visualization"
      ]
    },
    {
      "cell_type": "markdown",
      "metadata": {
        "id": "SvAKH0n30DUe"
      },
      "source": [
        "Plot in the same figure the histogram of the two variables"
      ]
    },
    {
      "cell_type": "code",
      "execution_count": 157,
      "metadata": {
        "colab": {
          "base_uri": "https://localhost:8080/",
          "height": 369
        },
        "id": "dRV0xfKn0DUe",
        "outputId": "a0a12e22-484c-4c52-967d-6d0b7e04da0e"
      },
      "outputs": [
        {
          "output_type": "display_data",
          "data": {
            "text/plain": [
              "<Figure size 720x360 with 2 Axes>"
            ],
            "image/png": "[encoded data removed]"
          },
          "metadata": {
            "needs_background": "light"
          }
        }
      ],
      "source": [
        "fig, axs = plt.subplots(1, 2, figsize=(10, 5))\n",
        "\n",
        "for i, col in enumerate(df.columns):\n",
        "    axs[i].hist(df[col], bins=20)\n",
        "    axs[i].set_title(col)\n",
        "    axs[i].set_xlabel('Values')\n",
        "    axs[i].set_ylabel('Frequency')\n",
        "\n",
        "plt.tight_layout()\n",
        "plt.show()"
      ]
    },
    {
      "cell_type": "markdown",
      "metadata": {
        "id": "j8HnZLNa0DUe"
      },
      "source": [
        "Based on this plots, provide a description of your data:\n",
        "\n",
        "Your response here: the data appear to have a quadrimodal distribution."
      ]
    },
    {
      "cell_type": "markdown",
      "metadata": {
        "id": "t7R27jXS0DUe"
      },
      "source": [
        "Plot in the same figure the boxplot of the two variables "
      ]
    },
    {
      "cell_type": "code",
      "execution_count": 150,
      "metadata": {
        "colab": {
          "base_uri": "https://localhost:8080/",
          "height": 265
        },
        "id": "QVOhflKo0DUe",
        "outputId": "96512b98-46bf-4db3-f0b1-7d76491580b3"
      },
      "outputs": [
        {
          "output_type": "display_data",
          "data": {
            "text/plain": [
              "<Figure size 432x288 with 1 Axes>"
            ],
            "image/png": "[encoded data removed]"
          },
          "metadata": {
            "needs_background": "light"
          }
        }
      ],
      "source": [
        "sns.boxplot(data=df)\n",
        "plt.show()"
      ]
    },
    {
      "cell_type": "markdown",
      "metadata": {
        "id": "PICYMu8f0DUe"
      },
      "source": [
        "Scatter plot of the two variables"
      ]
    },
    {
      "cell_type": "code",
      "execution_count": 158,
      "metadata": {
        "colab": {
          "base_uri": "https://localhost:8080/",
          "height": 295
        },
        "id": "bTKN0jHT0DUe",
        "outputId": "61580b33-2d36-4a57-d576-57d49d50a1a0"
      },
      "outputs": [
        {
          "output_type": "display_data",
          "data": {
            "text/plain": [
              "<Figure size 432x288 with 1 Axes>"
            ],
            "image/png": "[encoded data removed]"
          },
          "metadata": {
            "needs_background": "light"
          }
        }
      ],
      "source": [
        "# Create scatter plot\n",
        "plt.scatter(df[\"x1\"], df[\"x2\"])\n",
        "\n",
        "# Add axis labels and title\n",
        "plt.xlabel('x1')\n",
        "plt.ylabel('x2')\n",
        "plt.title('Scatter Plot of x1 vs x2')\n",
        "\n",
        "# Show plot\n",
        "plt.show()"
      ]
    },
    {
      "cell_type": "markdown",
      "metadata": {
        "id": "Ijr3hYN30DUf"
      },
      "source": [
        "### Questions \n",
        "\n",
        "Based on the previos plots, provide a description of yout dataset\n",
        "\n",
        "Your response: the dataset appears to be made up of two c-shaped clusters looking at each other.\n",
        "\n",
        "\n"
      ]
    },
    {
      "cell_type": "markdown",
      "metadata": {
        "id": "hFo_bKb90DUf"
      },
      "source": [
        "## A4 Kmeans"
      ]
    },
    {
      "cell_type": "markdown",
      "metadata": {
        "id": "EJqq2cpl0DUf"
      },
      "source": [
        "Do Kmeans clustering assuming a number of clusters accorging to your scatter plot"
      ]
    },
    {
      "cell_type": "code",
      "execution_count": 194,
      "metadata": {
        "id": "psy2dsPa0DUf"
      },
      "outputs": [],
      "source": [
        "# Define number of clusters\n",
        "K = 2\n",
        "\n",
        "# Do K-means clustering (assing each point in the dataset to a cluster) \n",
        "km = KMeans(n_clusters=K, n_init=\"auto\")\n",
        "labels = km.fit_predict(df)"
      ]
    },
    {
      "cell_type": "markdown",
      "metadata": {
        "id": "4N3uhz-90DUf"
      },
      "source": [
        "Add to your dataset a column with the assihned cluster to each data point"
      ]
    },
    {
      "cell_type": "code",
      "execution_count": 195,
      "metadata": {
        "colab": {
          "base_uri": "https://localhost:8080/",
          "height": 423
        },
        "id": "fVBdmupm0DUf",
        "outputId": "0c77ebf4-4bc2-47de-b7b9-7edbc507b14a"
      },
      "outputs": [
        {
          "output_type": "execute_result",
          "data": {
            "text/plain": [
              "            x1        x2  cluster\n",
              "0     1.863897  0.277567        1\n",
              "1     1.300167 -0.509895        1\n",
              "2    -0.787361  0.294940        0\n",
              "3     0.234474  0.009165        0\n",
              "4     0.213367 -0.129235        0\n",
              "...        ...       ...      ...\n",
              "1245  0.992277  0.142266        1\n",
              "1246 -1.002940  0.209688        0\n",
              "1247 -0.410444  0.845425        0\n",
              "1248  0.850914  0.328372        1\n",
              "1249  0.567495 -0.271324        1\n",
              "\n",
              "[1250 rows x 3 columns]"
            ],
            "text/html": [
              "\n",
              "  <div id=\"df-1ea33c01-0ef2-479a-97ca-a538227f8431\">\n",
              "    <div class=\"colab-df-container\">\n",
              "      <div>\n",
              "<style scoped>\n",
              "    .dataframe tbody tr th:only-of-type {\n",
              "        vertical-align: middle;\n",
              "    }\n",
              "\n",
              "    .dataframe tbody tr th {\n",
              "        vertical-align: top;\n",
              "    }\n",
              "\n",
              "    .dataframe thead th {\n",
              "        text-align: right;\n",
              "    }\n",
              "</style>\n",
              "<table border=\"1\" class=\"dataframe\">\n",
              "  <thead>\n",
              "    <tr style=\"text-align: right;\">\n",
              "      <th></th>\n",
              "      <th>x1</th>\n",
              "      <th>x2</th>\n",
              "      <th>cluster</th>\n",
              "    </tr>\n",
              "  </thead>\n",
              "  <tbody>\n",
              "    <tr>\n",
              "      <th>0</th>\n",
              "      <td>1.863897</td>\n",
              "      <td>0.277567</td>\n",
              "      <td>1</td>\n",
              "    </tr>\n",
              "    <tr>\n",
              "      <th>1</th>\n",
              "      <td>1.300167</td>\n",
              "      <td>-0.509895</td>\n",
              "      <td>1</td>\n",
              "    </tr>\n",
              "    <tr>\n",
              "      <th>2</th>\n",
              "      <td>-0.787361</td>\n",
              "      <td>0.294940</td>\n",
              "      <td>0</td>\n",
              "    </tr>\n",
              "    <tr>\n",
              "      <th>3</th>\n",
              "      <td>0.234474</td>\n",
              "      <td>0.009165</td>\n",
              "      <td>0</td>\n",
              "    </tr>\n",
              "    <tr>\n",
              "      <th>4</th>\n",
              "      <td>0.213367</td>\n",
              "      <td>-0.129235</td>\n",
              "      <td>0</td>\n",
              "    </tr>\n",
              "    <tr>\n",
              "      <th>...</th>\n",
              "      <td>...</td>\n",
              "      <td>...</td>\n",
              "      <td>...</td>\n",
              "    </tr>\n",
              "    <tr>\n",
              "      <th>1245</th>\n",
              "      <td>0.992277</td>\n",
              "      <td>0.142266</td>\n",
              "      <td>1</td>\n",
              "    </tr>\n",
              "    <tr>\n",
              "      <th>1246</th>\n",
              "      <td>-1.002940</td>\n",
              "      <td>0.209688</td>\n",
              "      <td>0</td>\n",
              "    </tr>\n",
              "    <tr>\n",
              "      <th>1247</th>\n",
              "      <td>-0.410444</td>\n",
              "      <td>0.845425</td>\n",
              "      <td>0</td>\n",
              "    </tr>\n",
              "    <tr>\n",
              "      <th>1248</th>\n",
              "      <td>0.850914</td>\n",
              "      <td>0.328372</td>\n",
              "      <td>1</td>\n",
              "    </tr>\n",
              "    <tr>\n",
              "      <th>1249</th>\n",
              "      <td>0.567495</td>\n",
              "      <td>-0.271324</td>\n",
              "      <td>1</td>\n",
              "    </tr>\n",
              "  </tbody>\n",
              "</table>\n",
              "<p>1250 rows × 3 columns</p>\n",
              "</div>\n",
              "      <button class=\"colab-df-convert\" onclick=\"convertToInteractive('df-1ea33c01-0ef2-479a-97ca-a538227f8431')\"\n",
              "              title=\"Convert this dataframe to an interactive table.\"\n",
              "              style=\"display:none;\">\n",
              "        \n",
              "  <svg xmlns=\"http://www.w3.org/2000/svg\" height=\"24px\"viewBox=\"0 0 24 24\"\n",
              "       width=\"24px\">\n",
              "    <path d=\"M0 0h24v24H0V0z\" fill=\"none\"/>\n",
              "    <path d=\"M18.56 5.44l.94 2.06.94-2.06 2.06-.94-2.06-.94-.94-2.06-.94 2.06-2.06.94zm-11 1L8.5 8.5l.94-2.06 2.06-.94-2.06-.94L8.5 2.5l-.94 2.06-2.06.94zm10 10l.94 2.06.94-2.06 2.06-.94-2.06-.94-.94-2.06-.94 2.06-2.06.94z\"/><path d=\"M17.41 7.96l-1.37-1.37c-.4-.4-.92-.59-1.43-.59-.52 0-1.04.2-1.43.59L10.3 9.45l-7.72 7.72c-.78.78-.78 2.05 0 2.83L4 21.41c.39.39.9.59 1.41.59.51 0 1.02-.2 1.41-.59l7.78-7.78 2.81-2.81c.8-.78.8-2.07 0-2.86zM5.41 20L4 18.59l7.72-7.72 1.47 1.35L5.41 20z\"/>\n",
              "  </svg>\n",
              "      </button>\n",
              "      \n",
              "  <style>\n",
              "    .colab-df-container {\n",
              "      display:flex;\n",
              "      flex-wrap:wrap;\n",
              "      gap: 12px;\n",
              "    }\n",
              "\n",
              "    .colab-df-convert {\n",
              "      background-color: #E8F0FE;\n",
              "      border: none;\n",
              "      border-radius: 50%;\n",
              "      cursor: pointer;\n",
              "      display: none;\n",
              "      fill: #1967D2;\n",
              "      height: 32px;\n",
              "      padding: 0 0 0 0;\n",
              "      width: 32px;\n",
              "    }\n",
              "\n",
              "    .colab-df-convert:hover {\n",
              "      background-color: #E2EBFA;\n",
              "      box-shadow: 0px 1px 2px rgba(60, 64, 67, 0.3), 0px 1px 3px 1px rgba(60, 64, 67, 0.15);\n",
              "      fill: #174EA6;\n",
              "    }\n",
              "\n",
              "    [theme=dark] .colab-df-convert {\n",
              "      background-color: #3B4455;\n",
              "      fill: #D2E3FC;\n",
              "    }\n",
              "\n",
              "    [theme=dark] .colab-df-convert:hover {\n",
              "      background-color: #434B5C;\n",
              "      box-shadow: 0px 1px 3px 1px rgba(0, 0, 0, 0.15);\n",
              "      filter: drop-shadow(0px 1px 2px rgba(0, 0, 0, 0.3));\n",
              "      fill: #FFFFFF;\n",
              "    }\n",
              "  </style>\n",
              "\n",
              "      <script>\n",
              "        const buttonEl =\n",
              "          document.querySelector('#df-1ea33c01-0ef2-479a-97ca-a538227f8431 button.colab-df-convert');\n",
              "        buttonEl.style.display =\n",
              "          google.colab.kernel.accessAllowed ? 'block' : 'none';\n",
              "\n",
              "        async function convertToInteractive(key) {\n",
              "          const element = document.querySelector('#df-1ea33c01-0ef2-479a-97ca-a538227f8431');\n",
              "          const dataTable =\n",
              "            await google.colab.kernel.invokeFunction('convertToInteractive',\n",
              "                                                     [key], {});\n",
              "          if (!dataTable) return;\n",
              "\n",
              "          const docLinkHtml = 'Like what you see? Visit the ' +\n",
              "            '<a target=\"_blank\" href=https://colab.research.google.com/notebooks/data_table.ipynb>data table notebook</a>'\n",
              "            + ' to learn more about interactive tables.';\n",
              "          element.innerHTML = '';\n",
              "          dataTable['output_type'] = 'display_data';\n",
              "          await google.colab.output.renderOutput(dataTable, element);\n",
              "          const docLink = document.createElement('div');\n",
              "          docLink.innerHTML = docLinkHtml;\n",
              "          element.appendChild(docLink);\n",
              "        }\n",
              "      </script>\n",
              "    </div>\n",
              "  </div>\n",
              "  "
            ]
          },
          "metadata": {},
          "execution_count": 195
        }
      ],
      "source": [
        "df[\"cluster\"] = labels\n",
        "df"
      ]
    },
    {
      "cell_type": "markdown",
      "metadata": {
        "id": "l9nn8r3i0DUf"
      },
      "source": [
        "Print the number associated to each cluster"
      ]
    },
    {
      "cell_type": "code",
      "execution_count": 196,
      "metadata": {
        "colab": {
          "base_uri": "https://localhost:8080/",
          "height": 0
        },
        "id": "gezUHUAs0DUf",
        "outputId": "3e9eb20e-68d9-4bc0-9da9-df02529b3136"
      },
      "outputs": [
        {
          "output_type": "stream",
          "name": "stdout",
          "text": [
            "[1 0]\n"
          ]
        }
      ],
      "source": [
        "print(df.cluster.unique())"
      ]
    },
    {
      "cell_type": "markdown",
      "metadata": {
        "id": "oL8QrTMx0DUf"
      },
      "source": [
        "Print the centroids"
      ]
    },
    {
      "cell_type": "code",
      "execution_count": 197,
      "metadata": {
        "colab": {
          "base_uri": "https://localhost:8080/",
          "height": 0
        },
        "id": "eNyoMvs40DUf",
        "outputId": "cdae9335-0fca-4d2c-86c0-7597ee3d5c10"
      },
      "outputs": [
        {
          "output_type": "stream",
          "name": "stdout",
          "text": [
            "[[-0.19569776  0.58111914  0.        ]\n",
            " [ 1.20415264 -0.08414072  1.        ]]\n"
          ]
        }
      ],
      "source": [
        "print(km.cluster_centers_)"
      ]
    },
    {
      "cell_type": "markdown",
      "metadata": {
        "id": "zkaSXqMN0DUf"
      },
      "source": [
        "Print the intertia metric"
      ]
    },
    {
      "cell_type": "code",
      "execution_count": 198,
      "metadata": {
        "colab": {
          "base_uri": "https://localhost:8080/",
          "height": 0
        },
        "id": "gCPz_GLH0DUf",
        "outputId": "f66cdec6-75be-4a19-e131-2e714fb5060e"
      },
      "outputs": [
        {
          "output_type": "stream",
          "name": "stdout",
          "text": [
            "512.5687147086367\n"
          ]
        }
      ],
      "source": [
        "print(km.inertia_)"
      ]
    },
    {
      "cell_type": "markdown",
      "metadata": {
        "id": "S3QgDv960DUf"
      },
      "source": [
        "Plot a scatter plot of your data assigned to each cluster. Also plot the centroids"
      ]
    },
    {
      "cell_type": "code",
      "execution_count": 199,
      "metadata": {
        "colab": {
          "base_uri": "https://localhost:8080/",
          "height": 404
        },
        "id": "T_P7jpn80DUf",
        "outputId": "9ca3ce79-307d-42fa-8a07-b59b79a00664"
      },
      "outputs": [
        {
          "output_type": "display_data",
          "data": {
            "text/plain": [
              "<Figure size 576x432 with 1 Axes>"
            ],
            "image/png": "[encoded data removed]"
          },
          "metadata": {
            "needs_background": "light"
          }
        }
      ],
      "source": [
        "# Get a dataframe with the data of each clsuter\n",
        "cluster_dfs = [df[df[\"cluster\"] == i] for i in range(K)]\n",
        "\n",
        "# Scatter plot of each cluster\n",
        "fig, ax = plt.subplots(figsize=(8, 6))\n",
        "for i in range(K):\n",
        "    ax.scatter(cluster_dfs[i][\"x1\"], cluster_dfs[i][\"x2\"], label=f\"Cluster {i+1}\")\n",
        "ax.scatter(km.cluster_centers_[:, 0], km.cluster_centers_[:, 1], c=\"black\", marker=\"x\", s=200, linewidths=3, label=\"Cluster Centers\")\n",
        "ax.set_xlabel(\"x1\")\n",
        "ax.set_ylabel(\"x2\")\n",
        "ax.set_title(\"Scatter plot of each cluster\")\n",
        "ax.legend()\n",
        "plt.show()"
      ]
    },
    {
      "cell_type": "markdown",
      "metadata": {
        "id": "NrzDL9UI0DUf"
      },
      "source": [
        "### Questions \n",
        "\n",
        "Provides a detailed description of your results\n",
        "\n",
        "Your response: The algorithm couldn't assign each 'c' to a different cluster, it mixed them up."
      ]
    },
    {
      "cell_type": "markdown",
      "metadata": {
        "id": "0mkhYn6w0DUf"
      },
      "source": [
        "## A5 Elbow plot\n",
        "\n",
        "Compute the Elbow plot"
      ]
    },
    {
      "cell_type": "code",
      "execution_count": 202,
      "metadata": {
        "id": "gE2maDR40DUg"
      },
      "outputs": [],
      "source": [
        "# Intialize a list to hold sum of squared error (sse)\n",
        "sse = []\n",
        "\n",
        "# Define values of k\n",
        "ks = range(1, 10)\n",
        "\n",
        "# For each k\n",
        "for k in ks:\n",
        "    # Initialize KMeans object with the number of clusters\n",
        "    km = KMeans(n_clusters=k, n_init=\"auto\")\n",
        "\n",
        "    # Fit KMeans object to the data\n",
        "    km.fit(df)\n",
        "\n",
        "    # Get sum of squared error (sse) of the final model\n",
        "    sse.append(km.inertia_)"
      ]
    },
    {
      "cell_type": "code",
      "execution_count": 205,
      "metadata": {
        "colab": {
          "base_uri": "https://localhost:8080/",
          "height": 404
        },
        "id": "EDfYm3xr0DUg",
        "outputId": "7f76bd12-1bfe-4051-a1d2-aa3c41acf650"
      },
      "outputs": [
        {
          "output_type": "display_data",
          "data": {
            "text/plain": [
              "<Figure size 576x432 with 1 Axes>"
            ],
            "image/png": "[encoded data removed]"
          },
          "metadata": {
            "needs_background": "light"
          }
        }
      ],
      "source": [
        "# Plot sse versus k\n",
        "\n",
        "fig, ax = plt.subplots(figsize=(8, 6))\n",
        "ax.plot(ks, sse, marker=\"o\")\n",
        "ax.set_xlabel(\"Number of Clusters (k)\")\n",
        "ax.set_ylabel(\"Sum of Squared Error (SSE)\")\n",
        "ax.set_title(\"Elbow Plot to Select K\")\n",
        "plt.show()"
      ]
    },
    {
      "cell_type": "markdown",
      "metadata": {
        "id": "EOdbqmgs0DUg"
      },
      "source": [
        "### Questions \n",
        "\n",
        "What is the best number of clusters K? (argue your response)\n",
        "\n",
        "Your response: 2, because it is the point of inflection where the rate of decrease in SSE slows down significantly.\n",
        "\n",
        "\n",
        "Does this number of clusters agree with your inital guess? (argue your response)\n",
        "\n",
        "Your response: Yes, I originally guessed 2.\n",
        "\n"
      ]
    },
    {
      "cell_type": "markdown",
      "metadata": {
        "id": "AavRgfhP0DUg"
      },
      "source": [
        "# PART 2\n",
        "# Create a dataset and do clustering"
      ]
    },
    {
      "cell_type": "markdown",
      "metadata": {
        "id": "dIiaN4sD0DUg"
      },
      "source": [
        "1) Generate some data using the \"make_blobs\" function from \"sklearn.datasets\"\n",
        "\n",
        "- The number of observations is equal to the three last digits in your ID (if this number is lower than 99, then multiply it by ten)\n",
        "\n",
        "- 3 variables\n",
        "\n",
        "- 4 clusters\n",
        "\n",
        "- Standar deviation of each cluster of 1.5\n",
        "\n"
      ]
    },
    {
      "cell_type": "code",
      "execution_count": 237,
      "metadata": {
        "colab": {
          "base_uri": "https://localhost:8080/",
          "height": 423
        },
        "id": "z_NRldGr0DUg",
        "outputId": "245324b9-b097-4af1-f89f-8392d846af8b"
      },
      "outputs": [
        {
          "output_type": "execute_result",
          "data": {
            "text/plain": [
              "           x1        x2         x3  real_cluster\n",
              "0    0.674644 -3.199026  -8.530792             2\n",
              "1    3.181810 -5.423756  -8.080246             2\n",
              "2    0.357288  3.368210 -10.168542             3\n",
              "3   -3.005129  3.462648   6.555851             1\n",
              "4    4.154162 -4.768698 -11.455111             2\n",
              "..        ...       ...        ...           ...\n",
              "737  1.221773 -1.437154  -7.042937             2\n",
              "738 -4.190050 -1.893462   6.148524             1\n",
              "739  4.437507  7.848603  -8.465534             0\n",
              "740 -2.152066  1.571026   9.523092             1\n",
              "741  1.882784  4.048844  -8.502192             3\n",
              "\n",
              "[742 rows x 4 columns]"
            ],
            "text/html": [
              "\n",
              "  <div id=\"df-b6a0ae64-448d-4c2f-ac7d-ffdf61f084df\">\n",
              "    <div class=\"colab-df-container\">\n",
              "      <div>\n",
              "<style scoped>\n",
              "    .dataframe tbody tr th:only-of-type {\n",
              "        vertical-align: middle;\n",
              "    }\n",
              "\n",
              "    .dataframe tbody tr th {\n",
              "        vertical-align: top;\n",
              "    }\n",
              "\n",
              "    .dataframe thead th {\n",
              "        text-align: right;\n",
              "    }\n",
              "</style>\n",
              "<table border=\"1\" class=\"dataframe\">\n",
              "  <thead>\n",
              "    <tr style=\"text-align: right;\">\n",
              "      <th></th>\n",
              "      <th>x1</th>\n",
              "      <th>x2</th>\n",
              "      <th>x3</th>\n",
              "      <th>real_cluster</th>\n",
              "    </tr>\n",
              "  </thead>\n",
              "  <tbody>\n",
              "    <tr>\n",
              "      <th>0</th>\n",
              "      <td>0.674644</td>\n",
              "      <td>-3.199026</td>\n",
              "      <td>-8.530792</td>\n",
              "      <td>2</td>\n",
              "    </tr>\n",
              "    <tr>\n",
              "      <th>1</th>\n",
              "      <td>3.181810</td>\n",
              "      <td>-5.423756</td>\n",
              "      <td>-8.080246</td>\n",
              "      <td>2</td>\n",
              "    </tr>\n",
              "    <tr>\n",
              "      <th>2</th>\n",
              "      <td>0.357288</td>\n",
              "      <td>3.368210</td>\n",
              "      <td>-10.168542</td>\n",
              "      <td>3</td>\n",
              "    </tr>\n",
              "    <tr>\n",
              "      <th>3</th>\n",
              "      <td>-3.005129</td>\n",
              "      <td>3.462648</td>\n",
              "      <td>6.555851</td>\n",
              "      <td>1</td>\n",
              "    </tr>\n",
              "    <tr>\n",
              "      <th>4</th>\n",
              "      <td>4.154162</td>\n",
              "      <td>-4.768698</td>\n",
              "      <td>-11.455111</td>\n",
              "      <td>2</td>\n",
              "    </tr>\n",
              "    <tr>\n",
              "      <th>...</th>\n",
              "      <td>...</td>\n",
              "      <td>...</td>\n",
              "      <td>...</td>\n",
              "      <td>...</td>\n",
              "    </tr>\n",
              "    <tr>\n",
              "      <th>737</th>\n",
              "      <td>1.221773</td>\n",
              "      <td>-1.437154</td>\n",
              "      <td>-7.042937</td>\n",
              "      <td>2</td>\n",
              "    </tr>\n",
              "    <tr>\n",
              "      <th>738</th>\n",
              "      <td>-4.190050</td>\n",
              "      <td>-1.893462</td>\n",
              "      <td>6.148524</td>\n",
              "      <td>1</td>\n",
              "    </tr>\n",
              "    <tr>\n",
              "      <th>739</th>\n",
              "      <td>4.437507</td>\n",
              "      <td>7.848603</td>\n",
              "      <td>-8.465534</td>\n",
              "      <td>0</td>\n",
              "    </tr>\n",
              "    <tr>\n",
              "      <th>740</th>\n",
              "      <td>-2.152066</td>\n",
              "      <td>1.571026</td>\n",
              "      <td>9.523092</td>\n",
              "      <td>1</td>\n",
              "    </tr>\n",
              "    <tr>\n",
              "      <th>741</th>\n",
              "      <td>1.882784</td>\n",
              "      <td>4.048844</td>\n",
              "      <td>-8.502192</td>\n",
              "      <td>3</td>\n",
              "    </tr>\n",
              "  </tbody>\n",
              "</table>\n",
              "<p>742 rows × 4 columns</p>\n",
              "</div>\n",
              "      <button class=\"colab-df-convert\" onclick=\"convertToInteractive('df-b6a0ae64-448d-4c2f-ac7d-ffdf61f084df')\"\n",
              "              title=\"Convert this dataframe to an interactive table.\"\n",
              "              style=\"display:none;\">\n",
              "        \n",
              "  <svg xmlns=\"http://www.w3.org/2000/svg\" height=\"24px\"viewBox=\"0 0 24 24\"\n",
              "       width=\"24px\">\n",
              "    <path d=\"M0 0h24v24H0V0z\" fill=\"none\"/>\n",
              "    <path d=\"M18.56 5.44l.94 2.06.94-2.06 2.06-.94-2.06-.94-.94-2.06-.94 2.06-2.06.94zm-11 1L8.5 8.5l.94-2.06 2.06-.94-2.06-.94L8.5 2.5l-.94 2.06-2.06.94zm10 10l.94 2.06.94-2.06 2.06-.94-2.06-.94-.94-2.06-.94 2.06-2.06.94z\"/><path d=\"M17.41 7.96l-1.37-1.37c-.4-.4-.92-.59-1.43-.59-.52 0-1.04.2-1.43.59L10.3 9.45l-7.72 7.72c-.78.78-.78 2.05 0 2.83L4 21.41c.39.39.9.59 1.41.59.51 0 1.02-.2 1.41-.59l7.78-7.78 2.81-2.81c.8-.78.8-2.07 0-2.86zM5.41 20L4 18.59l7.72-7.72 1.47 1.35L5.41 20z\"/>\n",
              "  </svg>\n",
              "      </button>\n",
              "      \n",
              "  <style>\n",
              "    .colab-df-container {\n",
              "      display:flex;\n",
              "      flex-wrap:wrap;\n",
              "      gap: 12px;\n",
              "    }\n",
              "\n",
              "    .colab-df-convert {\n",
              "      background-color: #E8F0FE;\n",
              "      border: none;\n",
              "      border-radius: 50%;\n",
              "      cursor: pointer;\n",
              "      display: none;\n",
              "      fill: #1967D2;\n",
              "      height: 32px;\n",
              "      padding: 0 0 0 0;\n",
              "      width: 32px;\n",
              "    }\n",
              "\n",
              "    .colab-df-convert:hover {\n",
              "      background-color: #E2EBFA;\n",
              "      box-shadow: 0px 1px 2px rgba(60, 64, 67, 0.3), 0px 1px 3px 1px rgba(60, 64, 67, 0.15);\n",
              "      fill: #174EA6;\n",
              "    }\n",
              "\n",
              "    [theme=dark] .colab-df-convert {\n",
              "      background-color: #3B4455;\n",
              "      fill: #D2E3FC;\n",
              "    }\n",
              "\n",
              "    [theme=dark] .colab-df-convert:hover {\n",
              "      background-color: #434B5C;\n",
              "      box-shadow: 0px 1px 3px 1px rgba(0, 0, 0, 0.15);\n",
              "      filter: drop-shadow(0px 1px 2px rgba(0, 0, 0, 0.3));\n",
              "      fill: #FFFFFF;\n",
              "    }\n",
              "  </style>\n",
              "\n",
              "      <script>\n",
              "        const buttonEl =\n",
              "          document.querySelector('#df-b6a0ae64-448d-4c2f-ac7d-ffdf61f084df button.colab-df-convert');\n",
              "        buttonEl.style.display =\n",
              "          google.colab.kernel.accessAllowed ? 'block' : 'none';\n",
              "\n",
              "        async function convertToInteractive(key) {\n",
              "          const element = document.querySelector('#df-b6a0ae64-448d-4c2f-ac7d-ffdf61f084df');\n",
              "          const dataTable =\n",
              "            await google.colab.kernel.invokeFunction('convertToInteractive',\n",
              "                                                     [key], {});\n",
              "          if (!dataTable) return;\n",
              "\n",
              "          const docLinkHtml = 'Like what you see? Visit the ' +\n",
              "            '<a target=\"_blank\" href=https://colab.research.google.com/notebooks/data_table.ipynb>data table notebook</a>'\n",
              "            + ' to learn more about interactive tables.';\n",
              "          element.innerHTML = '';\n",
              "          dataTable['output_type'] = 'display_data';\n",
              "          await google.colab.output.renderOutput(dataTable, element);\n",
              "          const docLink = document.createElement('div');\n",
              "          docLink.innerHTML = docLinkHtml;\n",
              "          element.appendChild(docLink);\n",
              "        }\n",
              "      </script>\n",
              "    </div>\n",
              "  </div>\n",
              "  "
            ]
          },
          "metadata": {},
          "execution_count": 237
        }
      ],
      "source": [
        "# ID = A01641742\n",
        "n_samples = 742\n",
        "n_features = 3\n",
        "centers = 4\n",
        "cluster_std = 1.5\n",
        "X, y = make_blobs(n_samples=n_samples, n_features=n_features, centers=centers, cluster_std=cluster_std)\n",
        "df = pd.DataFrame(data=X, columns=['x1', 'x2', 'x3'])\n",
        "df[\"real_cluster\"] = y\n",
        "df"
      ]
    },
    {
      "cell_type": "markdown",
      "metadata": {
        "id": "-MZzbjGy0DUg"
      },
      "source": [
        "2) Plot the scatter plot of your data using the real cluster labels"
      ]
    },
    {
      "cell_type": "code",
      "execution_count": 245,
      "metadata": {
        "colab": {
          "base_uri": "https://localhost:8080/",
          "height": 642
        },
        "id": "lcWrnFaG0DUg",
        "outputId": "237cac14-bf36-4ecb-8b76-c88582012adf"
      },
      "outputs": [
        {
          "output_type": "display_data",
          "data": {
            "text/plain": [
              "<Figure size 576x432 with 1 Axes>"
            ],
            "image/png": "[encoded data removed]"
          },
          "metadata": {
            "needs_background": "light"
          }
        },
        {
          "output_type": "display_data",
          "data": {
            "text/plain": [
              "<Figure size 432x288 with 1 Axes>"
            ],
            "image/png": "[encoded data removed]"
          },
          "metadata": {
            "needs_background": "light"
          }
        }
      ],
      "source": [
        "# Get a dataframe with the data of each clsuter\n",
        "cluster_dfs = [df[df[\"real_cluster\"] == i] for i in range(K)]\n",
        "# Scatter plot of each cluster\n",
        "fig, ax = plt.subplots(figsize=(8, 6))\n",
        "for i in range(K):\n",
        "    ax.scatter(cluster_dfs[i][\"x1\"], cluster_dfs[i][\"x2\"], label=f\"Real Cluster {i+1}\")\n",
        "ax.scatter(km.cluster_centers_[:, 0], km.cluster_centers_[:, 1], c=\"black\", marker=\"x\", s=200, linewidths=3, label=\"Real Cluster Centers\")\n",
        "ax.set_xlabel(\"x1\")\n",
        "ax.set_ylabel(\"x2\")\n",
        "ax.set_title(\"Scatter plot of each Real Cluster\")\n",
        "ax.legend()\n",
        "plt.show()\n",
        "\n",
        "fig = plt.figure()\n",
        "ax = fig.add_subplot(111, projection='3d')\n",
        "# Set the color for each point based on the cluster label\n",
        "colors = ['red', 'green', 'blue', 'orange']\n",
        "colormap = [colors[label] for label in df[\"real_cluster\"]]\n",
        "# Create the 3D scatter plot\n",
        "ax.scatter(X[:,0], X[:,1], X[:,2], c=colormap, s=50)\n",
        "# Set the labels for each axis\n",
        "ax.set_xlabel('X1')\n",
        "ax.set_ylabel('X2')\n",
        "ax.set_zlabel('X3')\n",
        "# Show the plot\n",
        "plt.show()"
      ]
    },
    {
      "cell_type": "markdown",
      "metadata": {
        "id": "NxkjROqj0DUg"
      },
      "source": [
        "3) Do K means clustering "
      ]
    },
    {
      "cell_type": "code",
      "execution_count": 240,
      "metadata": {
        "id": "gXnZuxxC0DUg"
      },
      "outputs": [],
      "source": [
        "# Define number of clusters\n",
        "K = 4\n",
        "\n",
        "# Do K-means clustering (assing each point in the dataset to a cluster) \n",
        "km = KMeans(n_clusters=K, n_init=\"auto\")\n",
        "labels = km.fit_predict(df)\n",
        "df[\"estimated_cluster\"] = labels"
      ]
    },
    {
      "cell_type": "markdown",
      "metadata": {
        "id": "Kbf3qP9t0DUg"
      },
      "source": [
        "4) Plot the scatter plot of your data using the estimated cluster labels"
      ]
    },
    {
      "cell_type": "code",
      "execution_count": 246,
      "metadata": {
        "colab": {
          "base_uri": "https://localhost:8080/",
          "height": 642
        },
        "id": "_pl4tgok0DUg",
        "outputId": "6d5f1119-db24-4553-b59e-40c914109293"
      },
      "outputs": [
        {
          "output_type": "display_data",
          "data": {
            "text/plain": [
              "<Figure size 576x432 with 1 Axes>"
            ],
            "image/png": "[encoded data removed]"
          },
          "metadata": {
            "needs_background": "light"
          }
        },
        {
          "output_type": "display_data",
          "data": {
            "text/plain": [
              "<Figure size 432x288 with 1 Axes>"
            ],
            "image/png": "[encoded data removed]"
          },
          "metadata": {
            "needs_background": "light"
          }
        }
      ],
      "source": [
        "# Get a dataframe with the data of each clsuter\n",
        "cluster_dfs = [df[df[\"estimated_cluster\"] == i] for i in range(K)]\n",
        "\n",
        "# Scatter plot of each cluster\n",
        "fig, ax = plt.subplots(figsize=(8, 6))\n",
        "for i in range(K):\n",
        "    ax.scatter(cluster_dfs[i][\"x1\"], cluster_dfs[i][\"x2\"], label=f\"Estimated Cluster {i+1}\")\n",
        "ax.scatter(km.cluster_centers_[:, 0], km.cluster_centers_[:, 1], c=\"black\", marker=\"x\", s=200, linewidths=3, label=\"Estimated Cluster Centers\")\n",
        "ax.set_xlabel(\"x1\")\n",
        "ax.set_ylabel(\"x2\")\n",
        "ax.set_title(\"Scatter plot of each Estimated Cluster\")\n",
        "ax.legend()\n",
        "plt.show()\n",
        "\n",
        "fig = plt.figure()\n",
        "ax = fig.add_subplot(111, projection='3d')\n",
        "# Set the color for each point based on the cluster label\n",
        "colors = ['red', 'green', 'blue', 'orange']\n",
        "colormap = [colors[label] for label in df[\"estimated_cluster\"]]\n",
        "# Create the 3D scatter plot\n",
        "ax.scatter(X[:,0], X[:,1], X[:,2], c=colormap, s=50)\n",
        "# Set the labels for each axis\n",
        "ax.set_xlabel('X1')\n",
        "ax.set_ylabel('X2')\n",
        "ax.set_zlabel('X3')\n",
        "# Show the plot\n",
        "plt.show()"
      ]
    },
    {
      "cell_type": "code",
      "source": [
        "# Compute performance metrics\n",
        "silhouette_score_val = silhouette_score(df[[\"x1\", \"x2\", \"x3\"]], labels)\n",
        "adjusted_rand_score_val = adjusted_rand_score(df[\"real_cluster\"], labels)\n",
        "homogeneity_score_val = homogeneity_score(df[\"real_cluster\"], labels)\n",
        "\n",
        "# Finally, we can print the performance metrics and compare the three clustering solutions:\n",
        "print(\"Clustering using all four features:\")\n",
        "print(\"Silhouette score:\", silhouette_score_val)\n",
        "print(\"Adjusted Rand index:\", adjusted_rand_score_val)\n",
        "print(\"Homogeneity score:\", homogeneity_score_val)\n",
        "print()"
      ],
      "metadata": {
        "colab": {
          "base_uri": "https://localhost:8080/",
          "height": 0
        },
        "id": "oRGkLwboYwW3",
        "outputId": "8d5b15c7-6b61-4168-d989-e1fc03ac17d8"
      },
      "execution_count": 266,
      "outputs": [
        {
          "output_type": "stream",
          "name": "stdout",
          "text": [
            "Clustering using all four features:\n",
            "Silhouette score: 0.5349062785961283\n",
            "Adjusted Rand index: 0.9892913224589107\n",
            "Homogeneity score: 0.9832139260541602\n",
            "\n"
          ]
        }
      ]
    },
    {
      "cell_type": "markdown",
      "metadata": {
        "id": "E09jzObo0DUg"
      },
      "source": [
        "### Questions \n",
        "\n",
        "Provides a detailed description of your results.\n",
        "\n",
        "Your response: Based on the achieved homogeneity score of 0.98, the K means algorithm did a very good job clustering the data."
      ]
    },
    {
      "cell_type": "markdown",
      "metadata": {
        "id": "i0HAdFVX0DUg"
      },
      "source": [
        "# PART 3\n",
        "# Descipcion de tu percepcion del nivel de desarrollo de la subcompetencia \n",
        "\n",
        "### SING0202A Interpretación de variables\n"
      ]
    },
    {
      "cell_type": "markdown",
      "metadata": {
        "id": "bG22A7Nc0DUh"
      },
      "source": [
        "Escribe tu description del nivel de logro del siguiente criterio de la subcompetencia\n",
        "\n",
        "**Interpreta interacciones**. Interpreta interacciones entre variables relevantes en un problema, como base para la construcción de modelos bivariados basados en datos de un fenómeno investigado que le permita reproducir la respuesta del mismo."
      ]
    },
    {
      "cell_type": "markdown",
      "metadata": {
        "id": "tn_aijQe0DUh"
      },
      "source": [
        "Tu respuesta: Para el criterio de interpretación de interacciones, considero que mi nivel de desarrollo es avanzado. Me siento cómodo identificando y entendiendo las interacciones entre variables relevantes en un problema y utilizándolas como base para la construcción de modelos bivariados basados en datos de un fenómeno investigado que me permita reproducir su respuesta."
      ]
    },
    {
      "cell_type": "markdown",
      "metadata": {
        "id": "wWqbzHml0DUh"
      },
      "source": [
        "Escribe tu description del nivel de logro del siguiente criterio de la subcompetencia\n",
        "\n",
        "**Construcción de modelos**. Es capaz de construir modelos bivariados que expliquen el comportamiento de un fenómeno."
      ]
    },
    {
      "cell_type": "markdown",
      "metadata": {
        "id": "uhfxUI0l0DUh"
      },
      "source": [
        "Tu respuesta: En cuanto a la construcción de modelos bivariados, creo que tengo un buen nivel. Soy capaz de construir modelos que expliquen el comportamiento de un fenómeno en función de dos variables relevantes. Aunque siento que todavía tengo mucho que aprender en esta área para mejorar mi capacidad de modelado y hacer predicciones más precisas. Por ejemplo, noté que el algoritmo de Kmeans hace un cluster poco adecuado de los datos en forma de dos C's, pero no conozco otro algoritmo para hacer un mejor clustering."
      ]
    }
  ],
  "metadata": {
    "kernelspec": {
      "display_name": "Python 3",
      "language": "python",
      "name": "python3"
    },
    "language_info": {
      "codemirror_mode": {
        "name": "ipython",
        "version": 3
      },
      "file_extension": ".py",
      "mimetype": "text/x-python",
      "name": "python",
      "nbconvert_exporter": "python",
      "pygments_lexer": "ipython3",
      "version": "3.8.3"
    },
    "colab": {
      "provenance": []
    }
  },
  "nbformat": 4,
  "nbformat_minor": 0
}