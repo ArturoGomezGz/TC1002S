{
 "cells": [
  {
   "cell_type": "markdown",
   "metadata": {
    "id": "u0MPe62dYgl0"
   },
   "source": [
    "# Undertanding the cartwheel data set\n",
    "\n",
    "The notebook aims to undertand the content of the cartwheel data set.\n",
    "\n",
    "\n",
    "## Acknowledgments\n",
    "\n",
    "- Data from https://www.coursera.org/ from the course \"Understanding and Visualizing Data with Python\" by University of Michigan\n"
   ]
  },
  {
   "cell_type": "markdown",
   "metadata": {
    "id": "30s2UXlPYgl4"
   },
   "source": [
    "# Cartwheel data set\n",
    "\n",
    "1. A cartwheel\n",
    "\n",
    "![cartwheel1.png](datasets/cartwheel/cartwheel1.png)\n",
    "\n",
    "2. The dataset description\n",
    "    - The dataset used here is an extension from the original cartwheel dataset from cursera\n",
    "    - Total numer of observations: 28\n",
    "    - Many observations/measurements/recordings of the characteristics/attributes/variables of cartwheel executions\n",
    "    - Variables: Age, Gender, GenderGroup, Glasses, GlassesGroup, Height, Wingspan, CWDistance, ... (X variables)\n",
    "    \n"
   ]
  },
  {
   "cell_type": "markdown",
   "metadata": {
    "id": "xmSEe706Ygl5"
   },
   "source": [
    "# Importing and inspecting the data"
   ]
  },
  {
   "cell_type": "code",
   "execution_count": 1,
   "metadata": {
    "id": "wksMvHQBYjRu"
   },
   "outputs": [
    {
     "ename": "ModuleNotFoundError",
     "evalue": "No module named 'google.colab'",
     "output_type": "error",
     "traceback": [
      "\u001b[1;31m---------------------------------------------------------------------------\u001b[0m",
      "\u001b[1;31mModuleNotFoundError\u001b[0m                       Traceback (most recent call last)",
      "Input \u001b[1;32mIn [1]\u001b[0m, in \u001b[0;36m<cell line: 5>\u001b[1;34m()\u001b[0m\n\u001b[0;32m      4\u001b[0m \u001b[38;5;66;03m# If running in colab:\u001b[39;00m\n\u001b[0;32m      5\u001b[0m \u001b[38;5;28;01mif\u001b[39;00m RunInColab:\n\u001b[0;32m      6\u001b[0m     \u001b[38;5;66;03m# Mount your google drive in google colab\u001b[39;00m\n\u001b[1;32m----> 7\u001b[0m     \u001b[38;5;28;01mfrom\u001b[39;00m \u001b[38;5;21;01mgoogle\u001b[39;00m\u001b[38;5;21;01m.\u001b[39;00m\u001b[38;5;21;01mcolab\u001b[39;00m \u001b[38;5;28;01mimport\u001b[39;00m drive\n\u001b[0;32m      8\u001b[0m     drive\u001b[38;5;241m.\u001b[39mmount(\u001b[38;5;124m'\u001b[39m\u001b[38;5;124m/content/drive\u001b[39m\u001b[38;5;124m'\u001b[39m)\n\u001b[0;32m     10\u001b[0m     \u001b[38;5;66;03m# Find location\u001b[39;00m\n\u001b[0;32m     11\u001b[0m     \u001b[38;5;66;03m#!pwd\u001b[39;00m\n\u001b[0;32m     12\u001b[0m     \u001b[38;5;66;03m#!ls\u001b[39;00m\n\u001b[0;32m     13\u001b[0m     \u001b[38;5;66;03m#!ls \"/content/drive/My Drive/Colab Notebooks/MachineLearningWithPython/\"\u001b[39;00m\n\u001b[0;32m     14\u001b[0m \n\u001b[0;32m     15\u001b[0m     \u001b[38;5;66;03m# Define path del proyecto\u001b[39;00m\n",
      "\u001b[1;31mModuleNotFoundError\u001b[0m: No module named 'google.colab'"
     ]
    }
   ],
   "source": [
    "# Define where you are running the code: colab or local\n",
    "RunInColab          = True     # (False: no  | True: yes)\n",
    "\n",
    "# If running in colab:\n",
    "if RunInColab:\n",
    "    # Mount your google drive in google colab\n",
    "    from google.colab import drive\n",
    "    drive.mount('/content/drive')\n",
    "\n",
    "    # Find location\n",
    "    #!pwd\n",
    "    #!ls\n",
    "    #!ls \"/content/drive/My Drive/Colab Notebooks/MachineLearningWithPython/\"\n",
    "\n",
    "    # Define path del proyecto\n",
    "    Ruta            = \"/content/drive/My Drive/Colab Notebooks/MachineLearningWithPython/\"\n",
    "\n",
    "else:\n",
    "    # Define path del proyecto\n",
    "    Ruta            = \"\""
   ]
  },
  {
   "cell_type": "code",
   "execution_count": null,
   "metadata": {
    "id": "fyR3iS-uYgl5"
   },
   "outputs": [],
   "source": [
    "# Import the packages that we will be using\n",
    "\n",
    "\n",
    "# Dataset url\n",
    "\n",
    "\n",
    "# Load the dataset\n"
   ]
  },
  {
   "cell_type": "code",
   "execution_count": null,
   "metadata": {
    "id": "j614eRL1Ygl6"
   },
   "outputs": [],
   "source": [
    "# Print the dataset\n"
   ]
  },
  {
   "cell_type": "code",
   "execution_count": null,
   "metadata": {
    "id": "UHf53273Ygl7"
   },
   "outputs": [],
   "source": [
    "# Print the number of rows\n",
    "\n"
   ]
  },
  {
   "cell_type": "code",
   "execution_count": null,
   "metadata": {
    "id": "oULLxV8eYgl7"
   },
   "outputs": [],
   "source": [
    "# Print the number of columns\n",
    "\n"
   ]
  },
  {
   "cell_type": "markdown",
   "metadata": {
    "id": "wQIcyogKYgl8"
   },
   "source": [
    "# Activity: work with the iris dataset\n",
    "\n",
    "1. Load the iris.csv file in your computer and understand the dataset\n",
    "\n",
    "\n",
    "2. How many observations (rows) are in total?\n",
    "\n",
    "\n",
    "3. How many variables (columns) are in total? What do they represent?\n",
    "\n",
    "\n",
    "4. How many observations are for each type of flower? \n",
    "\n",
    "\n",
    "5. What is the type of data for each variable?\n",
    "\n",
    "\n",
    "6. What are the units of each variable?\n"
   ]
  },
  {
   "cell_type": "code",
   "execution_count": null,
   "metadata": {
    "id": "fTHj_8jsYgl8"
   },
   "outputs": [],
   "source": []
  }
 ],
 "metadata": {
  "colab": {
   "provenance": []
  },
  "kernelspec": {
   "display_name": "Python 3 (ipykernel)",
   "language": "python",
   "name": "python3"
  },
  "language_info": {
   "codemirror_mode": {
    "name": "ipython",
    "version": 3
   },
   "file_extension": ".py",
   "mimetype": "text/x-python",
   "name": "python",
   "nbconvert_exporter": "python",
   "pygments_lexer": "ipython3",
   "version": "3.10.9"
  }
 },
 "nbformat": 4,
 "nbformat_minor": 1
}
