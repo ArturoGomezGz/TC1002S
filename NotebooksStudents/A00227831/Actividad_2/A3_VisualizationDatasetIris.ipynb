{
 "cells": [
  {
   "cell_type": "code",
   "execution_count": 131,
   "id": "7abb2ac7",
   "metadata": {},
   "outputs": [],
   "source": [
    "import pandas as pd\n",
    "import matplotlib.pyplot as plt\n",
    "import seaborn as sns"
   ]
  },
  {
   "cell_type": "code",
   "execution_count": 2,
   "id": "ff1477a8",
   "metadata": {},
   "outputs": [],
   "source": [
    "# Import the packages that we will be using\n",
    "import pandas as pd\n",
    "import matplot as mlp\n",
    "\n",
    "# Define where you are running the code: colab or local\n",
    "RunInColab          = False     # (False: no  | True: yes)\n",
    "\n",
    "# If running in colab:\n",
    "if RunInColab:\n",
    "    # Mount your google drive in google colab\n",
    "    from google.colab import drive\n",
    "    drive.mount('/content/drive')\n",
    "\n",
    "    # Find location\n",
    "    #!pwd\n",
    "    #!ls\n",
    "    #!ls \"/content/drive/My Drive/Colab Notebooks/MachineLearningWithPython/\"\n",
    "\n",
    "    # Define path del proyecto\n",
    "    Ruta            = \"/content/drive/My Drive/Colab Notebooks/MachineLearningWithPython/\"\n",
    "\n",
    "else:\n",
    "    # Define path del proyecto\n",
    "    Ruta            = \"C:/Users/GeekD/OneDrive/Documents/GitHub/TC1002S/NotebooksProfessor\"\n",
    "    \n",
    "    URL = Ruta + \"/datasets/iris/iris.csv\""
   ]
  },
  {
   "cell_type": "code",
   "execution_count": 3,
   "id": "ff8b4b3b",
   "metadata": {},
   "outputs": [],
   "source": [
    "df = pd.read_csv(URL, header = None)"
   ]
  },
  {
   "cell_type": "markdown",
   "id": "62889820",
   "metadata": {},
   "source": [
    "# General feel"
   ]
  },
  {
   "cell_type": "code",
   "execution_count": 4,
   "id": "c2177656",
   "metadata": {},
   "outputs": [
    {
     "data": {
      "text/plain": [
       "(150, 5)"
      ]
     },
     "execution_count": 4,
     "metadata": {},
     "output_type": "execute_result"
    }
   ],
   "source": [
    "df.shape"
   ]
  },
  {
   "cell_type": "code",
   "execution_count": 5,
   "id": "77334ce7",
   "metadata": {},
   "outputs": [
    {
     "data": {
      "text/html": [
       "<div>\n",
       "<style scoped>\n",
       "    .dataframe tbody tr th:only-of-type {\n",
       "        vertical-align: middle;\n",
       "    }\n",
       "\n",
       "    .dataframe tbody tr th {\n",
       "        vertical-align: top;\n",
       "    }\n",
       "\n",
       "    .dataframe thead th {\n",
       "        text-align: right;\n",
       "    }\n",
       "</style>\n",
       "<table border=\"1\" class=\"dataframe\">\n",
       "  <thead>\n",
       "    <tr style=\"text-align: right;\">\n",
       "      <th></th>\n",
       "      <th>0</th>\n",
       "      <th>1</th>\n",
       "      <th>2</th>\n",
       "      <th>3</th>\n",
       "    </tr>\n",
       "  </thead>\n",
       "  <tbody>\n",
       "    <tr>\n",
       "      <th>count</th>\n",
       "      <td>150.000000</td>\n",
       "      <td>150.000000</td>\n",
       "      <td>150.000000</td>\n",
       "      <td>150.000000</td>\n",
       "    </tr>\n",
       "    <tr>\n",
       "      <th>mean</th>\n",
       "      <td>5.843333</td>\n",
       "      <td>3.057333</td>\n",
       "      <td>3.758000</td>\n",
       "      <td>1.199333</td>\n",
       "    </tr>\n",
       "    <tr>\n",
       "      <th>std</th>\n",
       "      <td>0.828066</td>\n",
       "      <td>0.435866</td>\n",
       "      <td>1.765298</td>\n",
       "      <td>0.762238</td>\n",
       "    </tr>\n",
       "    <tr>\n",
       "      <th>min</th>\n",
       "      <td>4.300000</td>\n",
       "      <td>2.000000</td>\n",
       "      <td>1.000000</td>\n",
       "      <td>0.100000</td>\n",
       "    </tr>\n",
       "    <tr>\n",
       "      <th>25%</th>\n",
       "      <td>5.100000</td>\n",
       "      <td>2.800000</td>\n",
       "      <td>1.600000</td>\n",
       "      <td>0.300000</td>\n",
       "    </tr>\n",
       "    <tr>\n",
       "      <th>50%</th>\n",
       "      <td>5.800000</td>\n",
       "      <td>3.000000</td>\n",
       "      <td>4.350000</td>\n",
       "      <td>1.300000</td>\n",
       "    </tr>\n",
       "    <tr>\n",
       "      <th>75%</th>\n",
       "      <td>6.400000</td>\n",
       "      <td>3.300000</td>\n",
       "      <td>5.100000</td>\n",
       "      <td>1.800000</td>\n",
       "    </tr>\n",
       "    <tr>\n",
       "      <th>max</th>\n",
       "      <td>7.900000</td>\n",
       "      <td>4.400000</td>\n",
       "      <td>6.900000</td>\n",
       "      <td>2.500000</td>\n",
       "    </tr>\n",
       "  </tbody>\n",
       "</table>\n",
       "</div>"
      ],
      "text/plain": [
       "                0           1           2           3\n",
       "count  150.000000  150.000000  150.000000  150.000000\n",
       "mean     5.843333    3.057333    3.758000    1.199333\n",
       "std      0.828066    0.435866    1.765298    0.762238\n",
       "min      4.300000    2.000000    1.000000    0.100000\n",
       "25%      5.100000    2.800000    1.600000    0.300000\n",
       "50%      5.800000    3.000000    4.350000    1.300000\n",
       "75%      6.400000    3.300000    5.100000    1.800000\n",
       "max      7.900000    4.400000    6.900000    2.500000"
      ]
     },
     "execution_count": 5,
     "metadata": {},
     "output_type": "execute_result"
    }
   ],
   "source": [
    "df.describe()"
   ]
  },
  {
   "cell_type": "code",
   "execution_count": 69,
   "id": "618095d8",
   "metadata": {},
   "outputs": [
    {
     "data": {
      "text/html": [
       "<div>\n",
       "<style scoped>\n",
       "    .dataframe tbody tr th:only-of-type {\n",
       "        vertical-align: middle;\n",
       "    }\n",
       "\n",
       "    .dataframe tbody tr th {\n",
       "        vertical-align: top;\n",
       "    }\n",
       "\n",
       "    .dataframe thead th {\n",
       "        text-align: right;\n",
       "    }\n",
       "</style>\n",
       "<table border=\"1\" class=\"dataframe\">\n",
       "  <thead>\n",
       "    <tr style=\"text-align: right;\">\n",
       "      <th></th>\n",
       "      <th>Largo_Sepalo</th>\n",
       "      <th>Ancho_Sepalo</th>\n",
       "      <th>Largo_Petalo</th>\n",
       "      <th>Ancho_Petalo</th>\n",
       "      <th>Especie</th>\n",
       "    </tr>\n",
       "  </thead>\n",
       "  <tbody>\n",
       "    <tr>\n",
       "      <th>0</th>\n",
       "      <td>5.1</td>\n",
       "      <td>3.5</td>\n",
       "      <td>1.4</td>\n",
       "      <td>0.2</td>\n",
       "      <td>Iris-setosa</td>\n",
       "    </tr>\n",
       "    <tr>\n",
       "      <th>1</th>\n",
       "      <td>4.9</td>\n",
       "      <td>3.0</td>\n",
       "      <td>1.4</td>\n",
       "      <td>0.2</td>\n",
       "      <td>Iris-setosa</td>\n",
       "    </tr>\n",
       "    <tr>\n",
       "      <th>2</th>\n",
       "      <td>4.7</td>\n",
       "      <td>3.2</td>\n",
       "      <td>1.3</td>\n",
       "      <td>0.2</td>\n",
       "      <td>Iris-setosa</td>\n",
       "    </tr>\n",
       "    <tr>\n",
       "      <th>3</th>\n",
       "      <td>4.6</td>\n",
       "      <td>3.1</td>\n",
       "      <td>1.5</td>\n",
       "      <td>0.2</td>\n",
       "      <td>Iris-setosa</td>\n",
       "    </tr>\n",
       "    <tr>\n",
       "      <th>4</th>\n",
       "      <td>5.0</td>\n",
       "      <td>3.6</td>\n",
       "      <td>1.4</td>\n",
       "      <td>0.2</td>\n",
       "      <td>Iris-setosa</td>\n",
       "    </tr>\n",
       "  </tbody>\n",
       "</table>\n",
       "</div>"
      ],
      "text/plain": [
       "   Largo_Sepalo  Ancho_Sepalo  Largo_Petalo  Ancho_Petalo      Especie\n",
       "0           5.1           3.5           1.4           0.2  Iris-setosa\n",
       "1           4.9           3.0           1.4           0.2  Iris-setosa\n",
       "2           4.7           3.2           1.3           0.2  Iris-setosa\n",
       "3           4.6           3.1           1.5           0.2  Iris-setosa\n",
       "4           5.0           3.6           1.4           0.2  Iris-setosa"
      ]
     },
     "execution_count": 69,
     "metadata": {},
     "output_type": "execute_result"
    }
   ],
   "source": [
    "df2 = df.dropna()\n",
    "df2\n",
    "\n",
    "df = df.rename(columns={0: \"Largo_Sepalo\"})\n",
    "df = df.rename(columns={1: \"Ancho_Sepalo\"})\n",
    "df = df.rename(columns={2: \"Largo_Petalo\"})\n",
    "df = df.rename(columns={3: \"Ancho_Petalo\"})\n",
    "df = df.rename(columns={4: \"Especie\"})\n",
    "\n",
    "df.head()"
   ]
  },
  {
   "cell_type": "markdown",
   "id": "934a4012",
   "metadata": {},
   "source": [
    "## Tabla de frecuencia"
   ]
  },
  {
   "cell_type": "code",
   "execution_count": 36,
   "id": "d0d9e1c0",
   "metadata": {},
   "outputs": [
    {
     "data": {
      "text/plain": [
       "Largo Sepalo  Ancho Sepalo  Largo Petalo  Ancho Petalo  Especie        \n",
       "5.8           2.7           5.1           1.9           Iris-virginica     2\n",
       "6.2           2.2           4.5           1.5           Iris-versicolor    1\n",
       "              2.9           4.3           1.3           Iris-versicolor    1\n",
       "              3.4           5.4           2.3           Iris-virginica     1\n",
       "6.3           2.3           4.4           1.3           Iris-versicolor    1\n",
       "                                                                          ..\n",
       "5.4           3.9           1.3           0.4           Iris-setosa        1\n",
       "                            1.7           0.4           Iris-setosa        1\n",
       "5.5           2.3           4.0           1.3           Iris-versicolor    1\n",
       "              2.4           3.7           1.0           Iris-versicolor    1\n",
       "7.9           3.8           6.4           2.0           Iris-virginica     1\n",
       "Length: 149, dtype: int64"
      ]
     },
     "execution_count": 36,
     "metadata": {},
     "output_type": "execute_result"
    }
   ],
   "source": [
    "# Number of times that each distinct value of a variable occurs in a data set\n",
    "df.value_counts()"
   ]
  },
  {
   "cell_type": "code",
   "execution_count": 106,
   "id": "f5793ef8",
   "metadata": {},
   "outputs": [
    {
     "data": {
      "text/plain": [
       "Largo_Sepalo  Ancho_Sepalo  Largo_Petalo  Ancho_Petalo  Especie        \n",
       "5.8           2.7           5.1           1.9           Iris-virginica     1.3%\n",
       "6.2           2.2           4.5           1.5           Iris-versicolor    0.7%\n",
       "              2.9           4.3           1.3           Iris-versicolor    0.7%\n",
       "              3.4           5.4           2.3           Iris-virginica     0.7%\n",
       "6.3           2.3           4.4           1.3           Iris-versicolor    0.7%\n",
       "                                                                           ... \n",
       "5.4           3.9           1.3           0.4           Iris-setosa        0.7%\n",
       "                            1.7           0.4           Iris-setosa        0.7%\n",
       "5.5           2.3           4.0           1.3           Iris-versicolor    0.7%\n",
       "              2.4           3.7           1.0           Iris-versicolor    0.7%\n",
       "7.9           3.8           6.4           2.0           Iris-virginica     0.7%\n",
       "Length: 149, dtype: object"
      ]
     },
     "execution_count": 106,
     "metadata": {},
     "output_type": "execute_result"
    }
   ],
   "source": [
    "# Proportion of each distinct value of a variable occurs in a data set\n",
    "df.value_counts(normalize=True).mul(100).round(1).astype(str) + '%'"
   ]
  },
  {
   "cell_type": "code",
   "execution_count": 38,
   "id": "75bd49d4",
   "metadata": {},
   "outputs": [
    {
     "data": {
      "text/plain": [
       "Iris-setosa        33.3%\n",
       "Iris-versicolor    33.3%\n",
       "Iris-virginica     33.3%\n",
       "Name: Especie, dtype: object"
      ]
     },
     "execution_count": 38,
     "metadata": {},
     "output_type": "execute_result"
    }
   ],
   "source": [
    "# Proportion of each distinct value of a variable occurs in a column\n",
    "df.Especie.value_counts(normalize=True).mul(100).round(1).astype(str) + '%'"
   ]
  },
  {
   "cell_type": "code",
   "execution_count": 39,
   "id": "6fb7d1d1",
   "metadata": {},
   "outputs": [],
   "source": [
    "# Total number of observations\n",
    "\n",
    "\n",
    "# Total number of null observations\n",
    "\n",
    "\n",
    "# Total number of counts (excluding missing values)\n",
    "\n"
   ]
  },
  {
   "cell_type": "markdown",
   "id": "44ce80b1",
   "metadata": {},
   "source": [
    "## Histogram"
   ]
  },
  {
   "cell_type": "code",
   "execution_count": 44,
   "id": "06193101",
   "metadata": {},
   "outputs": [
    {
     "data": {
      "image/png": "[encoded data removed]",
      "text/plain": [
       "<Figure size 432x288 with 1 Axes>"
      ]
     },
     "metadata": {
      "needs_background": "light"
     },
     "output_type": "display_data"
    }
   ],
   "source": [
    "#Whole dataframe\n",
    "plt.hist(df[\"Especie\"])\n",
    "plt.show()"
   ]
  },
  {
   "cell_type": "code",
   "execution_count": 71,
   "id": "dfc8c769",
   "metadata": {},
   "outputs": [
    {
     "data": {
      "image/png": "[encoded data removed]",
      "text/plain": [
       "<Figure size 360x360 with 1 Axes>"
      ]
     },
     "metadata": {
      "needs_background": "light"
     },
     "output_type": "display_data"
    }
   ],
   "source": [
    "#Distribution\n",
    "sns.displot(df[\"Ancho_Sepalo\"], kde = True)\n",
    "plt.title(\"Ancho de los sepalos\")\n",
    "\n",
    "plt.show()"
   ]
  },
  {
   "cell_type": "code",
   "execution_count": 60,
   "id": "cd87ed86",
   "metadata": {},
   "outputs": [
    {
     "data": {
      "image/png": "[encoded data removed]",
      "text/plain": [
       "<Figure size 432x288 with 1 Axes>"
      ]
     },
     "metadata": {
      "needs_background": "light"
     },
     "output_type": "display_data"
    }
   ],
   "source": [
    "#Varias columnas\n",
    "plt.hist([df[\"Largo_Sepalo\"],df[\"Ancho_Sepalo\"]])\n",
    "plt.xlabel(\"Tamaño\")\n",
    "plt.ylabel(\"Cantidad\")\n",
    "plt.show()"
   ]
  },
  {
   "cell_type": "markdown",
   "id": "fda1b47b",
   "metadata": {},
   "source": [
    "# Histograms plotted by groups"
   ]
  },
  {
   "cell_type": "code",
   "execution_count": null,
   "id": "2888f13b",
   "metadata": {},
   "outputs": [],
   "source": []
  },
  {
   "cell_type": "markdown",
   "id": "571503bb",
   "metadata": {},
   "source": [
    "## Boxplot"
   ]
  },
  {
   "cell_type": "code",
   "execution_count": 70,
   "id": "de120045",
   "metadata": {},
   "outputs": [
    {
     "data": {
      "image/png": "[encoded data removed]",
      "text/plain": [
       "<Figure size 720x360 with 1 Axes>"
      ]
     },
     "metadata": {
      "needs_background": "light"
     },
     "output_type": "display_data"
    }
   ],
   "source": [
    "fig = plt.figure(figsize =(10, 5))\n",
    " \n",
    "# Creating axes instance\n",
    "ax = fig.add_axes([0, 0, 1, 1])\n",
    " \n",
    "# Creating plot\n",
    "bp = ax.boxplot(df.Ancho_Sepalo)\n",
    " \n",
    "# show plot\n",
    "plt.show()"
   ]
  },
  {
   "cell_type": "code",
   "execution_count": null,
   "id": "afd90bcf",
   "metadata": {},
   "outputs": [],
   "source": []
  },
  {
   "cell_type": "code",
   "execution_count": null,
   "id": "ae26d8ef",
   "metadata": {},
   "outputs": [],
   "source": []
  },
  {
   "cell_type": "code",
   "execution_count": null,
   "id": "43d50ab5",
   "metadata": {},
   "outputs": [],
   "source": []
  },
  {
   "cell_type": "markdown",
   "id": "cdc9bd48",
   "metadata": {},
   "source": [
    "## Boxplot plotted by groups"
   ]
  },
  {
   "cell_type": "code",
   "execution_count": 115,
   "id": "3022ade3",
   "metadata": {},
   "outputs": [
    {
     "name": "stderr",
     "output_type": "stream",
     "text": [
      "C:\\Users\\GeekD\\anaconda3\\lib\\site-packages\\seaborn\\categorical.py:82: FutureWarning: iteritems is deprecated and will be removed in a future version. Use .items instead.\n",
      "  plot_data = [np.asarray(s, float) for k, s in iter_data]\n"
     ]
    },
    {
     "data": {
      "image/png": "[encoded data removed]",
      "text/plain": [
       "<Figure size 432x288 with 1 Axes>"
      ]
     },
     "metadata": {
      "needs_background": "light"
     },
     "output_type": "display_data"
    }
   ],
   "source": [
    "X = df.loc[:, [\"Ancho_Sepalo\", \"Largo_Sepalo\", \"Ancho_Petalo\", \"Largo_Petalo\"]]\n",
    "x2bp = sns.boxplot(data=X, orient=\"v\")\n",
    "plt.ylabel(\"cm\")\n",
    "plt.title(\"Tamaño de petalos y sepalos\")\n",
    "plt.show()"
   ]
  },
  {
   "cell_type": "code",
   "execution_count": 120,
   "id": "39ee43c9",
   "metadata": {},
   "outputs": [
    {
     "data": {
      "image/png": "[encoded data removed]",
      "text/plain": [
       "<Figure size 432x288 with 1 Axes>"
      ]
     },
     "metadata": {
      "needs_background": "light"
     },
     "output_type": "display_data"
    }
   ],
   "source": [
    "x2bp = sns.boxplot(x = df.Ancho_Sepalo, y = df.Especie)\n",
    "plt.ylabel(\"Especie\")\n",
    "plt.xlabel(\"Ancho en cm\")\n",
    "plt.title(\"Ancho de Sepalos por especie\")\n",
    "plt.show()"
   ]
  },
  {
   "cell_type": "markdown",
   "id": "9967ba40",
   "metadata": {},
   "source": [
    "## Histograms and boxplots plotted by groups"
   ]
  },
  {
   "cell_type": "code",
   "execution_count": null,
   "id": "e7a31717",
   "metadata": {},
   "outputs": [],
   "source": []
  },
  {
   "cell_type": "markdown",
   "id": "ad9b27b5",
   "metadata": {},
   "source": [
    "## Scatterplot"
   ]
  },
  {
   "cell_type": "code",
   "execution_count": 77,
   "id": "f8da084b",
   "metadata": {},
   "outputs": [
    {
     "data": {
      "text/plain": [
       "Text(0.5, 1.0, 'Ancho x Largo Sepalo')"
      ]
     },
     "execution_count": 77,
     "metadata": {},
     "output_type": "execute_result"
    },
    {
     "data": {
      "image/png": "[encoded data removed]",
      "text/plain": [
       "<Figure size 432x288 with 1 Axes>"
      ]
     },
     "metadata": {
      "needs_background": "light"
     },
     "output_type": "display_data"
    }
   ],
   "source": [
    "# scatter plot between two variables\n",
    "x = df.Ancho_Sepalo\n",
    "y = df.Largo_Sepalo\n",
    "\n",
    "plt.scatter(x, y, c =\"blue\")\n",
    "plt.xlabel(\"Ancho\")\n",
    "plt.ylabel(\"Largo\")\n",
    "plt.title(\"Ancho x Largo Sepalo\")"
   ]
  },
  {
   "cell_type": "code",
   "execution_count": 123,
   "id": "da741b9e",
   "metadata": {},
   "outputs": [
    {
     "data": {
      "text/plain": [
       "Text(0.5, 1.0, 'Ancho x Largo Sepalo')"
      ]
     },
     "execution_count": 123,
     "metadata": {},
     "output_type": "execute_result"
    },
    {
     "data": {
      "image/png": "[encoded data removed]",
      "text/plain": [
       "<Figure size 432x288 with 1 Axes>"
      ]
     },
     "metadata": {
      "needs_background": "light"
     },
     "output_type": "display_data"
    }
   ],
   "source": [
    "# scatter plot between two variables (Categorico)\n",
    "\n",
    "x = df.Ancho_Sepalo\n",
    "y = df.Largo_Sepalo\n",
    "\n",
    "plt.scatter(y, x, c =\"blue\")\n",
    "plt.xlabel(\"Tamaño cm\")\n",
    "plt.ylabel(\"Especie\")\n",
    "plt.title(\"Ancho sepalo x especie\")"
   ]
  },
  {
   "cell_type": "code",
   "execution_count": 130,
   "id": "3d452d42",
   "metadata": {},
   "outputs": [
    {
     "name": "stderr",
     "output_type": "stream",
     "text": [
      "C:\\Users\\GeekD\\anaconda3\\lib\\site-packages\\seaborn\\_decorators.py:36: FutureWarning: Pass the following variables as keyword args: x, y. From version 0.12, the only valid positional argument will be `data`, and passing other arguments without an explicit keyword will result in an error or misinterpretation.\n",
      "  warnings.warn(\n"
     ]
    },
    {
     "data": {
      "text/plain": [
       "Text(0.5, 1.0, 'Ancho sepalo x especie')"
      ]
     },
     "execution_count": 130,
     "metadata": {},
     "output_type": "execute_result"
    },
    {
     "data": {
      "image/png": "[encoded data removed]",
      "text/plain": [
       "<Figure size 432x288 with 1 Axes>"
      ]
     },
     "metadata": {
      "needs_background": "light"
     },
     "output_type": "display_data"
    }
   ],
   "source": [
    "#Agrupado categorico\n",
    "x = df.Ancho_Sepalo\n",
    "y = df.Especie\n",
    "\n",
    "\n",
    "sns.scatterplot(y,x, hue = df.Especie)\n",
    "plt.xlabel(\"Tamaño cm\")\n",
    "plt.ylabel(\"Especie\")\n",
    "plt.title(\"Ancho sepalo x especie\")"
   ]
  },
  {
   "cell_type": "code",
   "execution_count": null,
   "id": "9d2e6123",
   "metadata": {},
   "outputs": [],
   "source": []
  },
  {
   "cell_type": "code",
   "execution_count": null,
   "id": "182717a2",
   "metadata": {},
   "outputs": [],
   "source": []
  },
  {
   "cell_type": "code",
   "execution_count": null,
   "id": "e16127e6",
   "metadata": {},
   "outputs": [],
   "source": []
  },
  {
   "cell_type": "markdown",
   "id": "dc77f95f",
   "metadata": {},
   "source": [
    "## Activity: work with the iris dataset\n",
    "Repeat this tutorial with the iris data set and respond to the following inquiries\n",
    "\n",
    "Plot the histograms for each of the four quantitative variables\n",
    "\n",
    "Plot the histograms for each of the quantitative variables\n",
    "\n",
    "Plot the boxplots for each of the quantitative variables\n",
    "\n",
    "Plot the boxplots of the petal width grouped by type of flower\n",
    "\n",
    "Plot the boxplots of the setal length grouped by type of flower\n",
    "\n",
    "Provide a description (explaination from your observations) of each of the quantitative"
   ]
  },
  {
   "cell_type": "code",
   "execution_count": null,
   "id": "da323988",
   "metadata": {},
   "outputs": [],
   "source": []
  }
 ],
 "metadata": {
  "kernelspec": {
   "display_name": "Python 3 (ipykernel)",
   "language": "python",
   "name": "python3"
  },
  "language_info": {
   "codemirror_mode": {
    "name": "ipython",
    "version": 3
   },
   "file_extension": ".py",
   "mimetype": "text/x-python",
   "name": "python",
   "nbconvert_exporter": "python",
   "pygments_lexer": "ipython3",
   "version": "3.9.12"
  }
 },
 "nbformat": 4,
 "nbformat_minor": 5
}
