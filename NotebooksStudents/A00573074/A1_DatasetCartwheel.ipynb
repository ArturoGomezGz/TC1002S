{
 "cells": [
  {
   "cell_type": "markdown",
   "id": "05ea0f72",
   "metadata": {},
   "source": [
    "# Nombre: León Emiliano García Pérez\n",
    "# Matrícula: A00573074"
   ]
  },
  {
   "cell_type": "markdown",
   "id": "774f259f",
   "metadata": {},
   "source": [
    "## Repeating the Tutorial with de Iris Dataset"
   ]
  },
  {
   "cell_type": "code",
   "execution_count": 23,
   "id": "8aad0efc",
   "metadata": {},
   "outputs": [],
   "source": [
    "# Define where you are running the code: colab or local\n",
    "RunInColab          = False     # (False: no  | True: yes)\n",
    "\n",
    "# If running in colab:\n",
    "if RunInColab:\n",
    "    # Mount your google drive in google colab\n",
    "    from google.colab import drive\n",
    "    drive.mount('/content/drive')\n",
    "\n",
    "    # Find location\n",
    "    #!pwd\n",
    "    #!ls\n",
    "    #!ls \"/content/drive/My Drive/Colab Notebooks/MachineLearningWithPython/\"\n",
    "\n",
    "    # Define path del proyecto\n",
    "    Ruta            = \"\"\n",
    "\n",
    "else:\n",
    "    # Define path del proyecto\n",
    "    Ruta            = 'datasets'"
   ]
  },
  {
   "cell_type": "code",
   "execution_count": 24,
   "id": "df40f709",
   "metadata": {},
   "outputs": [],
   "source": [
    "# Import the packages that we will be using\n",
    "\n",
    "import pandas as pd\n",
    "\n",
    "# Dataset url\n",
    "\n",
    "url = '/iris/iris.csv'\n",
    "\n",
    "# Load the dataset\n",
    "\n",
    "datos = pd.read_csv(Ruta+url)\n",
    "datos.columns = [\"PetalWidth\", \"PetalLength\", \"SepalWidth\", \"SepalLength\", \"Type\"]"
   ]
  },
  {
   "cell_type": "code",
   "execution_count": 25,
   "id": "f283fd2e",
   "metadata": {},
   "outputs": [
    {
     "name": "stdout",
     "output_type": "stream",
     "text": [
      "     PetalWidth  PetalLength  SepalWidth  SepalLength            Type\n",
      "0           4.9          3.0         1.4          0.2     Iris-setosa\n",
      "1           4.7          3.2         1.3          0.2     Iris-setosa\n",
      "2           4.6          3.1         1.5          0.2     Iris-setosa\n",
      "3           5.0          3.6         1.4          0.2     Iris-setosa\n",
      "4           5.4          3.9         1.7          0.4     Iris-setosa\n",
      "..          ...          ...         ...          ...             ...\n",
      "144         6.7          3.0         5.2          2.3  Iris-virginica\n",
      "145         6.3          2.5         5.0          1.9  Iris-virginica\n",
      "146         6.5          3.0         5.2          2.0  Iris-virginica\n",
      "147         6.2          3.4         5.4          2.3  Iris-virginica\n",
      "148         5.9          3.0         5.1          1.8  Iris-virginica\n",
      "\n",
      "[149 rows x 5 columns]\n"
     ]
    }
   ],
   "source": [
    "# Print the dataset\n",
    "\n",
    "print(datos)\n"
   ]
  },
  {
   "cell_type": "code",
   "execution_count": 26,
   "id": "fd7316e1",
   "metadata": {},
   "outputs": [
    {
     "name": "stdout",
     "output_type": "stream",
     "text": [
      "Rows:  149\n"
     ]
    }
   ],
   "source": [
    "# Print the number of rows\n",
    "\n",
    "print(\"Rows: \", datos.shape[0])"
   ]
  },
  {
   "cell_type": "code",
   "execution_count": 27,
   "id": "952e4e7e",
   "metadata": {},
   "outputs": [
    {
     "name": "stdout",
     "output_type": "stream",
     "text": [
      "Columns:  5\n"
     ]
    }
   ],
   "source": [
    "# Print the number of columns\n",
    "\n",
    "print(\"Columns: \", datos.shape[1])"
   ]
  },
  {
   "cell_type": "markdown",
   "id": "e2fb886c",
   "metadata": {},
   "source": [
    "## Activity: work with the iris dataset\n",
    "1. Load the iris.csv file in your computer and understand the dataset\n",
    "2. How many observations (rows) are in total?\n",
    "3. How many variables (columns) are in total? What do they represent?\n",
    "4. How many observations are for each type of flower? \n",
    "5. What is the type of data for each variable?\n",
    "6. What are the units of each variable?"
   ]
  },
  {
   "cell_type": "code",
   "execution_count": 28,
   "id": "a6024de0",
   "metadata": {},
   "outputs": [
    {
     "name": "stdout",
     "output_type": "stream",
     "text": [
      "Rows:  149\n",
      "Columns:  5\n",
      "Iris-setosa:  49\n",
      "Iris-versicolor:  50\n",
      "Iris-virginica:  50\n",
      "     PetalWidth  PetalLength  SepalWidth  SepalLength            Type\n",
      "0           4.9          3.0         1.4          0.2     Iris-setosa\n",
      "1           4.7          3.2         1.3          0.2     Iris-setosa\n",
      "2           4.6          3.1         1.5          0.2     Iris-setosa\n",
      "3           5.0          3.6         1.4          0.2     Iris-setosa\n",
      "4           5.4          3.9         1.7          0.4     Iris-setosa\n",
      "..          ...          ...         ...          ...             ...\n",
      "144         6.7          3.0         5.2          2.3  Iris-virginica\n",
      "145         6.3          2.5         5.0          1.9  Iris-virginica\n",
      "146         6.5          3.0         5.2          2.0  Iris-virginica\n",
      "147         6.2          3.4         5.4          2.3  Iris-virginica\n",
      "148         5.9          3.0         5.1          1.8  Iris-virginica\n",
      "\n",
      "[149 rows x 5 columns]\n",
      "What are the units of each variable? Centimeters\n"
     ]
    }
   ],
   "source": [
    "Ruta            = 'datasets'\n",
    "\n",
    "newUrl = '/iris/iris.csv'\n",
    "\n",
    "newDatos = pd.read_csv(Ruta+newUrl) #Load the csv into a DataSet\n",
    "\n",
    "print(\"Rows: \", newDatos.shape[0]) #Number of observations\n",
    "\n",
    "print(\"Columns: \", newDatos.shape[1]) #Number of variables - They represent the diferent measures of the flower\n",
    "\n",
    "newDatos.columns = [\"PetalWidth\", \"PetalLength\", \"SepalWidth\", \"SepalLength\", \"Type\"]\n",
    "\n",
    "#Obersavtions of each type of flower\n",
    "print(\"Iris-setosa: \", newDatos['Type'].value_counts()['Iris-setosa']) #Count of the observations\n",
    "print(\"Iris-versicolor: \", newDatos['Type'].value_counts()['Iris-versicolor']) #Count of the observations\n",
    "print(\"Iris-virginica: \", newDatos['Type'].value_counts()['Iris-virginica']) #Count of the observations\n",
    "                                  \n",
    "print(newDatos) #TypeOfData\n",
    "\n",
    "\n",
    "print (\"What are the units of each variable? Centimeters\") #What are the units of each variable?"
   ]
  },
  {
   "cell_type": "code",
   "execution_count": null,
   "id": "0f52953c",
   "metadata": {},
   "outputs": [],
   "source": []
  }
 ],
 "metadata": {
  "kernelspec": {
   "display_name": "Python 3 (ipykernel)",
   "language": "python",
   "name": "python3"
  },
  "language_info": {
   "codemirror_mode": {
    "name": "ipython",
    "version": 3
   },
   "file_extension": ".py",
   "mimetype": "text/x-python",
   "name": "python",
   "nbconvert_exporter": "python",
   "pygments_lexer": "ipython3",
   "version": "3.9.13"
  }
 },
 "nbformat": 4,
 "nbformat_minor": 5
}
