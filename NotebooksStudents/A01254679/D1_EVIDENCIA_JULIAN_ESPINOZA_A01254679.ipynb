{
  "cells": [
    {
      "cell_type": "markdown",
      "metadata": {
        "id": "q3D8hjrMc10D"
      },
      "source": [
        "# TC1002S Herramientas computacionales: el arte de la analítica\n",
        "\n",
        "This is a notebook with all your work for the final evidence of this course\n",
        "\n",
        "\n",
        "# Niveles de dominio a demostrar con la evidencia\n",
        "\n",
        "### SING0202A\n",
        "\n",
        "Interpreta interacciones entre variables relevantes en un problema, como base para la construcción de modelos bivariados basados en datos de un fenómeno investigado que le permita reproducir la respuesta del mismo. Es capaz de construir modelos bivariados que expliquen el comportamiento de un fenómeno.\n",
        "\n",
        "\n",
        "# Student information\n",
        "\n",
        "- Name: Julian Enrique Espinoza Valenzuela\n",
        "\n",
        "- ID: A01254679\n",
        "\n",
        "- My carreer: ITC\n"
      ]
    },
    {
      "cell_type": "markdown",
      "metadata": {
        "id": "jS0YQgZgc10F"
      },
      "source": [
        "# Importing libraries"
      ]
    },
    {
      "cell_type": "code",
      "execution_count": 94,
      "metadata": {
        "id": "g0rH4jO5c10G"
      },
      "outputs": [],
      "source": [
        "# Import the packages that we will be using\n",
        "import matplotlib.pyplot as plt\n",
        "import pandas as pd\n",
        "import seaborn as sns\n",
        "import matplotlib.pyplot as plt\n",
        "import numpy as np\n",
        "from sklearn.cluster import KMeans"
      ]
    },
    {
      "cell_type": "code",
      "execution_count": null,
      "metadata": {
        "colab": {
          "base_uri": "https://localhost:8080/"
        },
        "id": "qCdMNDIdYgc-",
        "outputId": "f2f64807-0f70-469d-f687-8a5fe3f86a61"
      },
      "outputs": [
        {
          "name": "stdout",
          "output_type": "stream",
          "text": [
            "Drive already mounted at /content/drive; to attempt to forcibly remount, call drive.mount(\"/content/drive\", force_remount=True).\n"
          ]
        }
      ],
      "source": [
        "# Define where you are running the code: colab or local\n",
        "RunInColab          = True     # (False: no  | True: yes)\n",
        "\n",
        "# If running in colab:\n",
        "if RunInColab:\n",
        "    # Mount your google drive in google colab\n",
        "    from google.colab import drive\n",
        "    drive.mount('/content/drive')\n",
        "\n",
        "    # Find location\n",
        "    #!pwd\n",
        "    #!ls\n",
        "    #!ls \"/content/drive/My Drive/Colab Notebooks/MachineLearningWithPython/\"\n",
        "\n",
        "    # Define path del proyecto\n",
        "    Ruta            = \"/content/drive/MyDrive/Semana_tec_1/TC1002S/Evidencia/\"\n",
        "\n",
        "else:\n",
        "    # Define path del proyecto\n",
        "    Ruta            = \"\""
      ]
    },
    {
      "cell_type": "code",
      "execution_count": null,
      "metadata": {
        "id": "_DmjRMJ2Yhio"
      },
      "outputs": [],
      "source": [
        "# Dataset url\n",
        "url = Ruta + \"A01254679_X.csv\""
      ]
    },
    {
      "cell_type": "markdown",
      "metadata": {
        "id": "k2WPUJ3Qc10H"
      },
      "source": [
        "# PART 1\n",
        "# Use your assigned dataset"
      ]
    },
    {
      "cell_type": "markdown",
      "metadata": {
        "id": "UAuo89JOc10H"
      },
      "source": [
        "## A1 Load data"
      ]
    },
    {
      "cell_type": "code",
      "execution_count": null,
      "metadata": {
        "colab": {
          "base_uri": "https://localhost:8080/",
          "height": 423
        },
        "id": "buevIRTwc10H",
        "outputId": "0726db99-8590-43f9-933f-4f6d24ae9f52"
      },
      "outputs": [
        {
          "data": {
            "application/vnd.google.colaboratory.intrinsic+json": {
              "summary": "{\n  \"name\": \"df\",\n  \"rows\": 318,\n  \"fields\": [\n    {\n      \"column\": \"Unnamed: 0\",\n      \"properties\": {\n        \"dtype\": \"number\",\n        \"std\": 91,\n        \"min\": 0,\n        \"max\": 317,\n        \"num_unique_values\": 318,\n        \"samples\": [\n          73,\n          277,\n          25\n        ],\n        \"semantic_type\": \"\",\n        \"description\": \"\"\n      }\n    },\n    {\n      \"column\": \"x1\",\n      \"properties\": {\n        \"dtype\": \"number\",\n        \"std\": 2.4761746919708387,\n        \"min\": -1.4271493430048574,\n        \"max\": 13.88071273569895,\n        \"num_unique_values\": 318,\n        \"samples\": [\n          5.1006848942253225,\n          8.179791821811532,\n          5.875146900269977\n        ],\n        \"semantic_type\": \"\",\n        \"description\": \"\"\n      }\n    },\n    {\n      \"column\": \"x2\",\n      \"properties\": {\n        \"dtype\": \"number\",\n        \"std\": 6.039581084160228,\n        \"min\": -13.866083582947075,\n        \"max\": 10.958015083746751,\n        \"num_unique_values\": 318,\n        \"samples\": [\n          -11.210432900403982,\n          8.825988882131298,\n          -8.811311159024648\n        ],\n        \"semantic_type\": \"\",\n        \"description\": \"\"\n      }\n    },\n    {\n      \"column\": \"x3\",\n      \"properties\": {\n        \"dtype\": \"number\",\n        \"std\": 4.0013252214142945,\n        \"min\": -11.810008607207305,\n        \"max\": 5.594728544695426,\n        \"num_unique_values\": 318,\n        \"samples\": [\n          -4.117457773414511,\n          1.407885002729441,\n          4.198489357188915\n        ],\n        \"semantic_type\": \"\",\n        \"description\": \"\"\n      }\n    }\n  ]\n}",
              "type": "dataframe",
              "variable_name": "df"
            },
            "text/html": [
              "\n",
              "  <div id=\"df-09786f0d-4dc4-40bf-9026-061f13452923\" class=\"colab-df-container\">\n",
              "    <div>\n",
              "<style scoped>\n",
              "    .dataframe tbody tr th:only-of-type {\n",
              "        vertical-align: middle;\n",
              "    }\n",
              "\n",
              "    .dataframe tbody tr th {\n",
              "        vertical-align: top;\n",
              "    }\n",
              "\n",
              "    .dataframe thead th {\n",
              "        text-align: right;\n",
              "    }\n",
              "</style>\n",
              "<table border=\"1\" class=\"dataframe\">\n",
              "  <thead>\n",
              "    <tr style=\"text-align: right;\">\n",
              "      <th></th>\n",
              "      <th>Unnamed: 0</th>\n",
              "      <th>x1</th>\n",
              "      <th>x2</th>\n",
              "      <th>x3</th>\n",
              "    </tr>\n",
              "  </thead>\n",
              "  <tbody>\n",
              "    <tr>\n",
              "      <th>0</th>\n",
              "      <td>0</td>\n",
              "      <td>9.994136</td>\n",
              "      <td>8.132179</td>\n",
              "      <td>1.451644</td>\n",
              "    </tr>\n",
              "    <tr>\n",
              "      <th>1</th>\n",
              "      <td>1</td>\n",
              "      <td>3.378417</td>\n",
              "      <td>2.731531</td>\n",
              "      <td>-7.278363</td>\n",
              "    </tr>\n",
              "    <tr>\n",
              "      <th>2</th>\n",
              "      <td>2</td>\n",
              "      <td>5.025678</td>\n",
              "      <td>-8.010977</td>\n",
              "      <td>-0.963811</td>\n",
              "    </tr>\n",
              "    <tr>\n",
              "      <th>3</th>\n",
              "      <td>3</td>\n",
              "      <td>11.378559</td>\n",
              "      <td>6.748951</td>\n",
              "      <td>0.506431</td>\n",
              "    </tr>\n",
              "    <tr>\n",
              "      <th>4</th>\n",
              "      <td>4</td>\n",
              "      <td>7.680840</td>\n",
              "      <td>3.272841</td>\n",
              "      <td>-6.859924</td>\n",
              "    </tr>\n",
              "    <tr>\n",
              "      <th>...</th>\n",
              "      <td>...</td>\n",
              "      <td>...</td>\n",
              "      <td>...</td>\n",
              "      <td>...</td>\n",
              "    </tr>\n",
              "    <tr>\n",
              "      <th>313</th>\n",
              "      <td>313</td>\n",
              "      <td>3.011441</td>\n",
              "      <td>-10.407987</td>\n",
              "      <td>0.544145</td>\n",
              "    </tr>\n",
              "    <tr>\n",
              "      <th>314</th>\n",
              "      <td>314</td>\n",
              "      <td>4.144111</td>\n",
              "      <td>1.905058</td>\n",
              "      <td>-6.825925</td>\n",
              "    </tr>\n",
              "    <tr>\n",
              "      <th>315</th>\n",
              "      <td>315</td>\n",
              "      <td>7.498220</td>\n",
              "      <td>6.517500</td>\n",
              "      <td>-0.367386</td>\n",
              "    </tr>\n",
              "    <tr>\n",
              "      <th>316</th>\n",
              "      <td>316</td>\n",
              "      <td>1.336973</td>\n",
              "      <td>-7.188961</td>\n",
              "      <td>-1.436209</td>\n",
              "    </tr>\n",
              "    <tr>\n",
              "      <th>317</th>\n",
              "      <td>317</td>\n",
              "      <td>4.148909</td>\n",
              "      <td>-7.606236</td>\n",
              "      <td>3.191236</td>\n",
              "    </tr>\n",
              "  </tbody>\n",
              "</table>\n",
              "<p>318 rows × 4 columns</p>\n",
              "</div>\n",
              "    <div class=\"colab-df-buttons\">\n",
              "\n",
              "  <div class=\"colab-df-container\">\n",
              "    <button class=\"colab-df-convert\" onclick=\"convertToInteractive('df-09786f0d-4dc4-40bf-9026-061f13452923')\"\n",
              "            title=\"Convert this dataframe to an interactive table.\"\n",
              "            style=\"display:none;\">\n",
              "\n",
              "  <svg xmlns=\"http://www.w3.org/2000/svg\" height=\"24px\" viewBox=\"0 -960 960 960\">\n",
              "    <path d=\"M120-120v-720h720v720H120Zm60-500h600v-160H180v160Zm220 220h160v-160H400v160Zm0 220h160v-160H400v160ZM180-400h160v-160H180v160Zm440 0h160v-160H620v160ZM180-180h160v-160H180v160Zm440 0h160v-160H620v160Z\"/>\n",
              "  </svg>\n",
              "    </button>\n",
              "\n",
              "  <style>\n",
              "    .colab-df-container {\n",
              "      display:flex;\n",
              "      gap: 12px;\n",
              "    }\n",
              "\n",
              "    .colab-df-convert {\n",
              "      background-color: #E8F0FE;\n",
              "      border: none;\n",
              "      border-radius: 50%;\n",
              "      cursor: pointer;\n",
              "      display: none;\n",
              "      fill: #1967D2;\n",
              "      height: 32px;\n",
              "      padding: 0 0 0 0;\n",
              "      width: 32px;\n",
              "    }\n",
              "\n",
              "    .colab-df-convert:hover {\n",
              "      background-color: #E2EBFA;\n",
              "      box-shadow: 0px 1px 2px rgba(60, 64, 67, 0.3), 0px 1px 3px 1px rgba(60, 64, 67, 0.15);\n",
              "      fill: #174EA6;\n",
              "    }\n",
              "\n",
              "    .colab-df-buttons div {\n",
              "      margin-bottom: 4px;\n",
              "    }\n",
              "\n",
              "    [theme=dark] .colab-df-convert {\n",
              "      background-color: #3B4455;\n",
              "      fill: #D2E3FC;\n",
              "    }\n",
              "\n",
              "    [theme=dark] .colab-df-convert:hover {\n",
              "      background-color: #434B5C;\n",
              "      box-shadow: 0px 1px 3px 1px rgba(0, 0, 0, 0.15);\n",
              "      filter: drop-shadow(0px 1px 2px rgba(0, 0, 0, 0.3));\n",
              "      fill: #FFFFFF;\n",
              "    }\n",
              "  </style>\n",
              "\n",
              "    <script>\n",
              "      const buttonEl =\n",
              "        document.querySelector('#df-09786f0d-4dc4-40bf-9026-061f13452923 button.colab-df-convert');\n",
              "      buttonEl.style.display =\n",
              "        google.colab.kernel.accessAllowed ? 'block' : 'none';\n",
              "\n",
              "      async function convertToInteractive(key) {\n",
              "        const element = document.querySelector('#df-09786f0d-4dc4-40bf-9026-061f13452923');\n",
              "        const dataTable =\n",
              "          await google.colab.kernel.invokeFunction('convertToInteractive',\n",
              "                                                    [key], {});\n",
              "        if (!dataTable) return;\n",
              "\n",
              "        const docLinkHtml = 'Like what you see? Visit the ' +\n",
              "          '<a target=\"_blank\" href=https://colab.research.google.com/notebooks/data_table.ipynb>data table notebook</a>'\n",
              "          + ' to learn more about interactive tables.';\n",
              "        element.innerHTML = '';\n",
              "        dataTable['output_type'] = 'display_data';\n",
              "        await google.colab.output.renderOutput(dataTable, element);\n",
              "        const docLink = document.createElement('div');\n",
              "        docLink.innerHTML = docLinkHtml;\n",
              "        element.appendChild(docLink);\n",
              "      }\n",
              "    </script>\n",
              "  </div>\n",
              "\n",
              "\n",
              "<div id=\"df-3a202e3f-2348-4aee-8b6b-b321e32d939a\">\n",
              "  <button class=\"colab-df-quickchart\" onclick=\"quickchart('df-3a202e3f-2348-4aee-8b6b-b321e32d939a')\"\n",
              "            title=\"Suggest charts\"\n",
              "            style=\"display:none;\">\n",
              "\n",
              "<svg xmlns=\"http://www.w3.org/2000/svg\" height=\"24px\"viewBox=\"0 0 24 24\"\n",
              "     width=\"24px\">\n",
              "    <g>\n",
              "        <path d=\"M19 3H5c-1.1 0-2 .9-2 2v14c0 1.1.9 2 2 2h14c1.1 0 2-.9 2-2V5c0-1.1-.9-2-2-2zM9 17H7v-7h2v7zm4 0h-2V7h2v10zm4 0h-2v-4h2v4z\"/>\n",
              "    </g>\n",
              "</svg>\n",
              "  </button>\n",
              "\n",
              "<style>\n",
              "  .colab-df-quickchart {\n",
              "      --bg-color: #E8F0FE;\n",
              "      --fill-color: #1967D2;\n",
              "      --hover-bg-color: #E2EBFA;\n",
              "      --hover-fill-color: #174EA6;\n",
              "      --disabled-fill-color: #AAA;\n",
              "      --disabled-bg-color: #DDD;\n",
              "  }\n",
              "\n",
              "  [theme=dark] .colab-df-quickchart {\n",
              "      --bg-color: #3B4455;\n",
              "      --fill-color: #D2E3FC;\n",
              "      --hover-bg-color: #434B5C;\n",
              "      --hover-fill-color: #FFFFFF;\n",
              "      --disabled-bg-color: #3B4455;\n",
              "      --disabled-fill-color: #666;\n",
              "  }\n",
              "\n",
              "  .colab-df-quickchart {\n",
              "    background-color: var(--bg-color);\n",
              "    border: none;\n",
              "    border-radius: 50%;\n",
              "    cursor: pointer;\n",
              "    display: none;\n",
              "    fill: var(--fill-color);\n",
              "    height: 32px;\n",
              "    padding: 0;\n",
              "    width: 32px;\n",
              "  }\n",
              "\n",
              "  .colab-df-quickchart:hover {\n",
              "    background-color: var(--hover-bg-color);\n",
              "    box-shadow: 0 1px 2px rgba(60, 64, 67, 0.3), 0 1px 3px 1px rgba(60, 64, 67, 0.15);\n",
              "    fill: var(--button-hover-fill-color);\n",
              "  }\n",
              "\n",
              "  .colab-df-quickchart-complete:disabled,\n",
              "  .colab-df-quickchart-complete:disabled:hover {\n",
              "    background-color: var(--disabled-bg-color);\n",
              "    fill: var(--disabled-fill-color);\n",
              "    box-shadow: none;\n",
              "  }\n",
              "\n",
              "  .colab-df-spinner {\n",
              "    border: 2px solid var(--fill-color);\n",
              "    border-color: transparent;\n",
              "    border-bottom-color: var(--fill-color);\n",
              "    animation:\n",
              "      spin 1s steps(1) infinite;\n",
              "  }\n",
              "\n",
              "  @keyframes spin {\n",
              "    0% {\n",
              "      border-color: transparent;\n",
              "      border-bottom-color: var(--fill-color);\n",
              "      border-left-color: var(--fill-color);\n",
              "    }\n",
              "    20% {\n",
              "      border-color: transparent;\n",
              "      border-left-color: var(--fill-color);\n",
              "      border-top-color: var(--fill-color);\n",
              "    }\n",
              "    30% {\n",
              "      border-color: transparent;\n",
              "      border-left-color: var(--fill-color);\n",
              "      border-top-color: var(--fill-color);\n",
              "      border-right-color: var(--fill-color);\n",
              "    }\n",
              "    40% {\n",
              "      border-color: transparent;\n",
              "      border-right-color: var(--fill-color);\n",
              "      border-top-color: var(--fill-color);\n",
              "    }\n",
              "    60% {\n",
              "      border-color: transparent;\n",
              "      border-right-color: var(--fill-color);\n",
              "    }\n",
              "    80% {\n",
              "      border-color: transparent;\n",
              "      border-right-color: var(--fill-color);\n",
              "      border-bottom-color: var(--fill-color);\n",
              "    }\n",
              "    90% {\n",
              "      border-color: transparent;\n",
              "      border-bottom-color: var(--fill-color);\n",
              "    }\n",
              "  }\n",
              "</style>\n",
              "\n",
              "  <script>\n",
              "    async function quickchart(key) {\n",
              "      const quickchartButtonEl =\n",
              "        document.querySelector('#' + key + ' button');\n",
              "      quickchartButtonEl.disabled = true;  // To prevent multiple clicks.\n",
              "      quickchartButtonEl.classList.add('colab-df-spinner');\n",
              "      try {\n",
              "        const charts = await google.colab.kernel.invokeFunction(\n",
              "            'suggestCharts', [key], {});\n",
              "      } catch (error) {\n",
              "        console.error('Error during call to suggestCharts:', error);\n",
              "      }\n",
              "      quickchartButtonEl.classList.remove('colab-df-spinner');\n",
              "      quickchartButtonEl.classList.add('colab-df-quickchart-complete');\n",
              "    }\n",
              "    (() => {\n",
              "      let quickchartButtonEl =\n",
              "        document.querySelector('#df-3a202e3f-2348-4aee-8b6b-b321e32d939a button');\n",
              "      quickchartButtonEl.style.display =\n",
              "        google.colab.kernel.accessAllowed ? 'block' : 'none';\n",
              "    })();\n",
              "  </script>\n",
              "</div>\n",
              "    </div>\n",
              "  </div>\n"
            ],
            "text/plain": [
              "     Unnamed: 0         x1         x2        x3\n",
              "0             0   9.994136   8.132179  1.451644\n",
              "1             1   3.378417   2.731531 -7.278363\n",
              "2             2   5.025678  -8.010977 -0.963811\n",
              "3             3  11.378559   6.748951  0.506431\n",
              "4             4   7.680840   3.272841 -6.859924\n",
              "..          ...        ...        ...       ...\n",
              "313         313   3.011441 -10.407987  0.544145\n",
              "314         314   4.144111   1.905058 -6.825925\n",
              "315         315   7.498220   6.517500 -0.367386\n",
              "316         316   1.336973  -7.188961 -1.436209\n",
              "317         317   4.148909  -7.606236  3.191236\n",
              "\n",
              "[318 rows x 4 columns]"
            ]
          },
          "execution_count": 35,
          "metadata": {},
          "output_type": "execute_result"
        }
      ],
      "source": [
        "# Load the dataset\n",
        "dataset = pd.read_csv(url)\n",
        "\n",
        "df= pd.DataFrame(dataset)\n",
        "df"
      ]
    },
    {
      "cell_type": "markdown",
      "metadata": {
        "id": "ML3KFQIUc10H"
      },
      "source": [
        "## A2 Data managment\n"
      ]
    },
    {
      "cell_type": "markdown",
      "metadata": {
        "id": "leWzb7y0c10H"
      },
      "source": [
        "Print the first 7 rows"
      ]
    },
    {
      "cell_type": "code",
      "execution_count": null,
      "metadata": {
        "colab": {
          "base_uri": "https://localhost:8080/"
        },
        "id": "cpkGC0h2c10H",
        "outputId": "51467708-3863-4172-a2e5-53fef2978ab3"
      },
      "outputs": [
        {
          "name": "stdout",
          "output_type": "stream",
          "text": [
            "   Unnamed: 0         x1        x2        x3\n",
            "0           0   9.994136  8.132179  1.451644\n",
            "1           1   3.378417  2.731531 -7.278363\n",
            "2           2   5.025678 -8.010977 -0.963811\n",
            "3           3  11.378559  6.748951  0.506431\n",
            "4           4   7.680840  3.272841 -6.859924\n",
            "5           5   7.649796 -9.818142  0.747398\n",
            "6           6   6.554900  0.447994  1.191863\n"
          ]
        }
      ],
      "source": [
        "print(df.head(7))"
      ]
    },
    {
      "cell_type": "markdown",
      "metadata": {
        "id": "zL5vuF_Zc10H"
      },
      "source": [
        "Print the last 4 rows"
      ]
    },
    {
      "cell_type": "code",
      "execution_count": null,
      "metadata": {
        "colab": {
          "base_uri": "https://localhost:8080/"
        },
        "id": "_ZKg65eIc10H",
        "outputId": "7eb05390-9385-4d2b-d142-8e78d4ebb2cc"
      },
      "outputs": [
        {
          "name": "stdout",
          "output_type": "stream",
          "text": [
            "     Unnamed: 0        x1        x2        x3\n",
            "314         314  4.144111  1.905058 -6.825925\n",
            "315         315  7.498220  6.517500 -0.367386\n",
            "316         316  1.336973 -7.188961 -1.436209\n",
            "317         317  4.148909 -7.606236  3.191236\n"
          ]
        }
      ],
      "source": [
        "print(df.tail(4))"
      ]
    },
    {
      "cell_type": "markdown",
      "metadata": {
        "id": "A5VQn2Jec10I"
      },
      "source": [
        "How many rows and columns are in your data?\n",
        "\n",
        "Use the `shape` method\n"
      ]
    },
    {
      "cell_type": "code",
      "execution_count": null,
      "metadata": {
        "colab": {
          "base_uri": "https://localhost:8080/"
        },
        "id": "NZDEiAL-c10I",
        "outputId": "352301b3-2f5d-4cf4-8422-15d49c9838a9"
      },
      "outputs": [
        {
          "name": "stdout",
          "output_type": "stream",
          "text": [
            "(318, 4)\n"
          ]
        }
      ],
      "source": [
        "print(df.shape)"
      ]
    },
    {
      "cell_type": "markdown",
      "metadata": {
        "id": "EtjQki62c10I"
      },
      "source": [
        "Print the name of all columns\n",
        "\n",
        "Use the `columns` method"
      ]
    },
    {
      "cell_type": "code",
      "execution_count": null,
      "metadata": {
        "colab": {
          "base_uri": "https://localhost:8080/"
        },
        "id": "zgRdg5smc10I",
        "outputId": "d51212b3-e467-4710-dc69-95a55de0e9ea"
      },
      "outputs": [
        {
          "data": {
            "text/plain": [
              "Index(['Unnamed: 0', 'x1', 'x2', 'x3'], dtype='object')"
            ]
          },
          "execution_count": 43,
          "metadata": {},
          "output_type": "execute_result"
        }
      ],
      "source": [
        "df.columns"
      ]
    },
    {
      "cell_type": "markdown",
      "metadata": {
        "id": "ERLu1TUNc10I"
      },
      "source": [
        "What is the data type in each column\n",
        "\n",
        "Use the `dtypes` method"
      ]
    },
    {
      "cell_type": "code",
      "execution_count": null,
      "metadata": {
        "colab": {
          "base_uri": "https://localhost:8080/"
        },
        "id": "iYWYwlZqc10J",
        "outputId": "3303f0bf-20cc-4125-9856-d5e5dee451de"
      },
      "outputs": [
        {
          "data": {
            "text/plain": [
              "Unnamed: 0      int64\n",
              "x1            float64\n",
              "x2            float64\n",
              "x3            float64\n",
              "dtype: object"
            ]
          },
          "execution_count": 44,
          "metadata": {},
          "output_type": "execute_result"
        }
      ],
      "source": [
        "df.dtypes"
      ]
    },
    {
      "cell_type": "markdown",
      "metadata": {
        "id": "n78EC_wic10J"
      },
      "source": [
        "What is the meaning of rows and columns?"
      ]
    },
    {
      "cell_type": "code",
      "execution_count": null,
      "metadata": {
        "id": "TgB2ICchc10J"
      },
      "outputs": [],
      "source": [
        "# Your responses here\n",
        "#In the DataFrame provided by the professor, we can observe four main columns. Firstly, we have a column that, while not named, we can interpret as simply being there so that each record has a unique identifier within this same DataFrame.\n",
        "#On the other hand, we have three other columns: x1, x2, and x3. In these, we can observe that each one has a total of 318 quantitative records, which can be more precisely described as floating point numbers.\n"
      ]
    },
    {
      "cell_type": "markdown",
      "metadata": {
        "id": "Z0Bp9iTgnu1N"
      },
      "source": [
        "**NOTE:  Before proceeding, I’m going to filter the dataframe to only keep the x1, x2, and x3 columns. this is because for my future calculations, i don’t really need the first column and it could potentially complicate or impact these calculations.**"
      ]
    },
    {
      "cell_type": "code",
      "execution_count": 70,
      "metadata": {
        "colab": {
          "base_uri": "https://localhost:8080/"
        },
        "id": "S7-5FImlntHw",
        "outputId": "38c1f649-7e9f-4ba5-a931-cd8ff7a5e3f6"
      },
      "outputs": [
        {
          "name": "stdout",
          "output_type": "stream",
          "text": [
            "            x1         x2        x3\n",
            "0     9.994136   8.132179  1.451644\n",
            "1     3.378417   2.731531 -7.278363\n",
            "2     5.025678  -8.010977 -0.963811\n",
            "3    11.378559   6.748951  0.506431\n",
            "4     7.680840   3.272841 -6.859924\n",
            "..         ...        ...       ...\n",
            "313   3.011441 -10.407987  0.544145\n",
            "314   4.144111   1.905058 -6.825925\n",
            "315   7.498220   6.517500 -0.367386\n",
            "316   1.336973  -7.188961 -1.436209\n",
            "317   4.148909  -7.606236  3.191236\n",
            "\n",
            "[318 rows x 3 columns]\n"
          ]
        }
      ],
      "source": [
        "interest_col = [\"x1\",\"x2\",\"x3\"]\n",
        "filtered_df = df[interest_col]\n",
        "print(filtered_df)"
      ]
    },
    {
      "cell_type": "markdown",
      "metadata": {
        "id": "chh9y4jRc10J"
      },
      "source": [
        "Print a statistical summary of your columns\n"
      ]
    },
    {
      "cell_type": "code",
      "execution_count": 71,
      "metadata": {
        "colab": {
          "base_uri": "https://localhost:8080/",
          "height": 300
        },
        "id": "CYXHbClkc10J",
        "outputId": "7975463d-053d-4c47-b2fc-da104f7113c3"
      },
      "outputs": [
        {
          "data": {
            "application/vnd.google.colaboratory.intrinsic+json": {
              "summary": "{\n  \"name\": \"filtered_df\",\n  \"rows\": 8,\n  \"fields\": [\n    {\n      \"column\": \"x1\",\n      \"properties\": {\n        \"dtype\": \"number\",\n        \"std\": 110.37356083952338,\n        \"min\": -1.4271493430048574,\n        \"max\": 318.0,\n        \"num_unique_values\": 8,\n        \"samples\": [\n          6.899531329268104,\n          6.917294951470584,\n          318.0\n        ],\n        \"semantic_type\": \"\",\n        \"description\": \"\"\n      }\n    },\n    {\n      \"column\": \"x2\",\n      \"properties\": {\n        \"dtype\": \"number\",\n        \"std\": 112.48382380941253,\n        \"min\": -13.866083582947075,\n        \"max\": 318.0,\n        \"num_unique_values\": 8,\n        \"samples\": [\n          0.13342083235025856,\n          0.9719171470434428,\n          318.0\n        ],\n        \"semantic_type\": \"\",\n        \"description\": \"\"\n      }\n    },\n    {\n      \"column\": \"x3\",\n      \"properties\": {\n        \"dtype\": \"number\",\n        \"std\": 112.99492932175325,\n        \"min\": -11.810008607207305,\n        \"max\": 318.0,\n        \"num_unique_values\": 8,\n        \"samples\": [\n          -1.8876584220784207,\n          -0.8411902024426262,\n          318.0\n        ],\n        \"semantic_type\": \"\",\n        \"description\": \"\"\n      }\n    }\n  ]\n}",
              "type": "dataframe"
            },
            "text/html": [
              "\n",
              "  <div id=\"df-425bce04-798e-438a-808c-ca9a175e5ad2\" class=\"colab-df-container\">\n",
              "    <div>\n",
              "<style scoped>\n",
              "    .dataframe tbody tr th:only-of-type {\n",
              "        vertical-align: middle;\n",
              "    }\n",
              "\n",
              "    .dataframe tbody tr th {\n",
              "        vertical-align: top;\n",
              "    }\n",
              "\n",
              "    .dataframe thead th {\n",
              "        text-align: right;\n",
              "    }\n",
              "</style>\n",
              "<table border=\"1\" class=\"dataframe\">\n",
              "  <thead>\n",
              "    <tr style=\"text-align: right;\">\n",
              "      <th></th>\n",
              "      <th>x1</th>\n",
              "      <th>x2</th>\n",
              "      <th>x3</th>\n",
              "    </tr>\n",
              "  </thead>\n",
              "  <tbody>\n",
              "    <tr>\n",
              "      <th>count</th>\n",
              "      <td>318.000000</td>\n",
              "      <td>318.000000</td>\n",
              "      <td>318.000000</td>\n",
              "    </tr>\n",
              "    <tr>\n",
              "      <th>mean</th>\n",
              "      <td>6.899531</td>\n",
              "      <td>0.133421</td>\n",
              "      <td>-1.887658</td>\n",
              "    </tr>\n",
              "    <tr>\n",
              "      <th>std</th>\n",
              "      <td>2.476175</td>\n",
              "      <td>6.039581</td>\n",
              "      <td>4.001325</td>\n",
              "    </tr>\n",
              "    <tr>\n",
              "      <th>min</th>\n",
              "      <td>-1.427149</td>\n",
              "      <td>-13.866084</td>\n",
              "      <td>-11.810009</td>\n",
              "    </tr>\n",
              "    <tr>\n",
              "      <th>25%</th>\n",
              "      <td>5.144438</td>\n",
              "      <td>-5.234239</td>\n",
              "      <td>-4.686789</td>\n",
              "    </tr>\n",
              "    <tr>\n",
              "      <th>50%</th>\n",
              "      <td>6.917295</td>\n",
              "      <td>0.971917</td>\n",
              "      <td>-0.841190</td>\n",
              "    </tr>\n",
              "    <tr>\n",
              "      <th>75%</th>\n",
              "      <td>8.603281</td>\n",
              "      <td>4.960276</td>\n",
              "      <td>0.990580</td>\n",
              "    </tr>\n",
              "    <tr>\n",
              "      <th>max</th>\n",
              "      <td>13.880713</td>\n",
              "      <td>10.958015</td>\n",
              "      <td>5.594729</td>\n",
              "    </tr>\n",
              "  </tbody>\n",
              "</table>\n",
              "</div>\n",
              "    <div class=\"colab-df-buttons\">\n",
              "\n",
              "  <div class=\"colab-df-container\">\n",
              "    <button class=\"colab-df-convert\" onclick=\"convertToInteractive('df-425bce04-798e-438a-808c-ca9a175e5ad2')\"\n",
              "            title=\"Convert this dataframe to an interactive table.\"\n",
              "            style=\"display:none;\">\n",
              "\n",
              "  <svg xmlns=\"http://www.w3.org/2000/svg\" height=\"24px\" viewBox=\"0 -960 960 960\">\n",
              "    <path d=\"M120-120v-720h720v720H120Zm60-500h600v-160H180v160Zm220 220h160v-160H400v160Zm0 220h160v-160H400v160ZM180-400h160v-160H180v160Zm440 0h160v-160H620v160ZM180-180h160v-160H180v160Zm440 0h160v-160H620v160Z\"/>\n",
              "  </svg>\n",
              "    </button>\n",
              "\n",
              "  <style>\n",
              "    .colab-df-container {\n",
              "      display:flex;\n",
              "      gap: 12px;\n",
              "    }\n",
              "\n",
              "    .colab-df-convert {\n",
              "      background-color: #E8F0FE;\n",
              "      border: none;\n",
              "      border-radius: 50%;\n",
              "      cursor: pointer;\n",
              "      display: none;\n",
              "      fill: #1967D2;\n",
              "      height: 32px;\n",
              "      padding: 0 0 0 0;\n",
              "      width: 32px;\n",
              "    }\n",
              "\n",
              "    .colab-df-convert:hover {\n",
              "      background-color: #E2EBFA;\n",
              "      box-shadow: 0px 1px 2px rgba(60, 64, 67, 0.3), 0px 1px 3px 1px rgba(60, 64, 67, 0.15);\n",
              "      fill: #174EA6;\n",
              "    }\n",
              "\n",
              "    .colab-df-buttons div {\n",
              "      margin-bottom: 4px;\n",
              "    }\n",
              "\n",
              "    [theme=dark] .colab-df-convert {\n",
              "      background-color: #3B4455;\n",
              "      fill: #D2E3FC;\n",
              "    }\n",
              "\n",
              "    [theme=dark] .colab-df-convert:hover {\n",
              "      background-color: #434B5C;\n",
              "      box-shadow: 0px 1px 3px 1px rgba(0, 0, 0, 0.15);\n",
              "      filter: drop-shadow(0px 1px 2px rgba(0, 0, 0, 0.3));\n",
              "      fill: #FFFFFF;\n",
              "    }\n",
              "  </style>\n",
              "\n",
              "    <script>\n",
              "      const buttonEl =\n",
              "        document.querySelector('#df-425bce04-798e-438a-808c-ca9a175e5ad2 button.colab-df-convert');\n",
              "      buttonEl.style.display =\n",
              "        google.colab.kernel.accessAllowed ? 'block' : 'none';\n",
              "\n",
              "      async function convertToInteractive(key) {\n",
              "        const element = document.querySelector('#df-425bce04-798e-438a-808c-ca9a175e5ad2');\n",
              "        const dataTable =\n",
              "          await google.colab.kernel.invokeFunction('convertToInteractive',\n",
              "                                                    [key], {});\n",
              "        if (!dataTable) return;\n",
              "\n",
              "        const docLinkHtml = 'Like what you see? Visit the ' +\n",
              "          '<a target=\"_blank\" href=https://colab.research.google.com/notebooks/data_table.ipynb>data table notebook</a>'\n",
              "          + ' to learn more about interactive tables.';\n",
              "        element.innerHTML = '';\n",
              "        dataTable['output_type'] = 'display_data';\n",
              "        await google.colab.output.renderOutput(dataTable, element);\n",
              "        const docLink = document.createElement('div');\n",
              "        docLink.innerHTML = docLinkHtml;\n",
              "        element.appendChild(docLink);\n",
              "      }\n",
              "    </script>\n",
              "  </div>\n",
              "\n",
              "\n",
              "<div id=\"df-d22875e8-6136-4770-aae5-d9d540001b38\">\n",
              "  <button class=\"colab-df-quickchart\" onclick=\"quickchart('df-d22875e8-6136-4770-aae5-d9d540001b38')\"\n",
              "            title=\"Suggest charts\"\n",
              "            style=\"display:none;\">\n",
              "\n",
              "<svg xmlns=\"http://www.w3.org/2000/svg\" height=\"24px\"viewBox=\"0 0 24 24\"\n",
              "     width=\"24px\">\n",
              "    <g>\n",
              "        <path d=\"M19 3H5c-1.1 0-2 .9-2 2v14c0 1.1.9 2 2 2h14c1.1 0 2-.9 2-2V5c0-1.1-.9-2-2-2zM9 17H7v-7h2v7zm4 0h-2V7h2v10zm4 0h-2v-4h2v4z\"/>\n",
              "    </g>\n",
              "</svg>\n",
              "  </button>\n",
              "\n",
              "<style>\n",
              "  .colab-df-quickchart {\n",
              "      --bg-color: #E8F0FE;\n",
              "      --fill-color: #1967D2;\n",
              "      --hover-bg-color: #E2EBFA;\n",
              "      --hover-fill-color: #174EA6;\n",
              "      --disabled-fill-color: #AAA;\n",
              "      --disabled-bg-color: #DDD;\n",
              "  }\n",
              "\n",
              "  [theme=dark] .colab-df-quickchart {\n",
              "      --bg-color: #3B4455;\n",
              "      --fill-color: #D2E3FC;\n",
              "      --hover-bg-color: #434B5C;\n",
              "      --hover-fill-color: #FFFFFF;\n",
              "      --disabled-bg-color: #3B4455;\n",
              "      --disabled-fill-color: #666;\n",
              "  }\n",
              "\n",
              "  .colab-df-quickchart {\n",
              "    background-color: var(--bg-color);\n",
              "    border: none;\n",
              "    border-radius: 50%;\n",
              "    cursor: pointer;\n",
              "    display: none;\n",
              "    fill: var(--fill-color);\n",
              "    height: 32px;\n",
              "    padding: 0;\n",
              "    width: 32px;\n",
              "  }\n",
              "\n",
              "  .colab-df-quickchart:hover {\n",
              "    background-color: var(--hover-bg-color);\n",
              "    box-shadow: 0 1px 2px rgba(60, 64, 67, 0.3), 0 1px 3px 1px rgba(60, 64, 67, 0.15);\n",
              "    fill: var(--button-hover-fill-color);\n",
              "  }\n",
              "\n",
              "  .colab-df-quickchart-complete:disabled,\n",
              "  .colab-df-quickchart-complete:disabled:hover {\n",
              "    background-color: var(--disabled-bg-color);\n",
              "    fill: var(--disabled-fill-color);\n",
              "    box-shadow: none;\n",
              "  }\n",
              "\n",
              "  .colab-df-spinner {\n",
              "    border: 2px solid var(--fill-color);\n",
              "    border-color: transparent;\n",
              "    border-bottom-color: var(--fill-color);\n",
              "    animation:\n",
              "      spin 1s steps(1) infinite;\n",
              "  }\n",
              "\n",
              "  @keyframes spin {\n",
              "    0% {\n",
              "      border-color: transparent;\n",
              "      border-bottom-color: var(--fill-color);\n",
              "      border-left-color: var(--fill-color);\n",
              "    }\n",
              "    20% {\n",
              "      border-color: transparent;\n",
              "      border-left-color: var(--fill-color);\n",
              "      border-top-color: var(--fill-color);\n",
              "    }\n",
              "    30% {\n",
              "      border-color: transparent;\n",
              "      border-left-color: var(--fill-color);\n",
              "      border-top-color: var(--fill-color);\n",
              "      border-right-color: var(--fill-color);\n",
              "    }\n",
              "    40% {\n",
              "      border-color: transparent;\n",
              "      border-right-color: var(--fill-color);\n",
              "      border-top-color: var(--fill-color);\n",
              "    }\n",
              "    60% {\n",
              "      border-color: transparent;\n",
              "      border-right-color: var(--fill-color);\n",
              "    }\n",
              "    80% {\n",
              "      border-color: transparent;\n",
              "      border-right-color: var(--fill-color);\n",
              "      border-bottom-color: var(--fill-color);\n",
              "    }\n",
              "    90% {\n",
              "      border-color: transparent;\n",
              "      border-bottom-color: var(--fill-color);\n",
              "    }\n",
              "  }\n",
              "</style>\n",
              "\n",
              "  <script>\n",
              "    async function quickchart(key) {\n",
              "      const quickchartButtonEl =\n",
              "        document.querySelector('#' + key + ' button');\n",
              "      quickchartButtonEl.disabled = true;  // To prevent multiple clicks.\n",
              "      quickchartButtonEl.classList.add('colab-df-spinner');\n",
              "      try {\n",
              "        const charts = await google.colab.kernel.invokeFunction(\n",
              "            'suggestCharts', [key], {});\n",
              "      } catch (error) {\n",
              "        console.error('Error during call to suggestCharts:', error);\n",
              "      }\n",
              "      quickchartButtonEl.classList.remove('colab-df-spinner');\n",
              "      quickchartButtonEl.classList.add('colab-df-quickchart-complete');\n",
              "    }\n",
              "    (() => {\n",
              "      let quickchartButtonEl =\n",
              "        document.querySelector('#df-d22875e8-6136-4770-aae5-d9d540001b38 button');\n",
              "      quickchartButtonEl.style.display =\n",
              "        google.colab.kernel.accessAllowed ? 'block' : 'none';\n",
              "    })();\n",
              "  </script>\n",
              "</div>\n",
              "    </div>\n",
              "  </div>\n"
            ],
            "text/plain": [
              "               x1          x2          x3\n",
              "count  318.000000  318.000000  318.000000\n",
              "mean     6.899531    0.133421   -1.887658\n",
              "std      2.476175    6.039581    4.001325\n",
              "min     -1.427149  -13.866084  -11.810009\n",
              "25%      5.144438   -5.234239   -4.686789\n",
              "50%      6.917295    0.971917   -0.841190\n",
              "75%      8.603281    4.960276    0.990580\n",
              "max     13.880713   10.958015    5.594729"
            ]
          },
          "execution_count": 71,
          "metadata": {},
          "output_type": "execute_result"
        }
      ],
      "source": [
        "filtered_df.describe()"
      ]
    },
    {
      "cell_type": "code",
      "execution_count": 72,
      "metadata": {
        "id": "ZVcfIj8qc10K"
      },
      "outputs": [],
      "source": [
        "# 1) What is the minumum and maximum values of each variable\n",
        "#x1: minimum value: -1.427149             max value: 13.880713\n",
        "#x2: minimum value: -13.866084            max value: 10.958015\n",
        "#x3: minimum value: -11.810009            max value: 5.594729\n",
        "\n",
        "# 2) What is the mean and standar deviation of each variable\n",
        "#x1: mean: 6.899531             standard desviation: 2.476175\n",
        "#x2: mean: 0.133421\t            standard desviation: 6.039581\n",
        "#x3: mean: -1.887658            standard desviation: 4.001325\n",
        "\n",
        "# 3) What the 25%, 50% and 75% represent?\n",
        "#25%: This percentage indicates, according to the number shown in each column, that 25% of the data falls below that number. For example, in the x1 column, 25% is equal to 5.144438. This tells us that 25% of the data is equal to or below that number.\n",
        "#50%: This percentage indicates, according to the number shown in each column, that 50% of the data falls below that number. For example, in the x1 column, 50% is equal to 6.917295. This tells us that 50% of the data is equal to or below that number.\n",
        "#75%: This percentage indicates, according to the number shown in each column, that 75% of the data falls below that number. For example, in the x1 column, 75% is equal to 8.603281. This tells us that 75% of the data is equal to or below that number."
      ]
    },
    {
      "cell_type": "markdown",
      "metadata": {
        "id": "lheleStYc10K"
      },
      "source": [
        "Rename the columns using the same name with capital letters"
      ]
    },
    {
      "cell_type": "code",
      "execution_count": 73,
      "metadata": {
        "colab": {
          "base_uri": "https://localhost:8080/"
        },
        "id": "ZZDjtAr1c10K",
        "outputId": "d8492429-4667-45d3-d88e-f0f31192e740"
      },
      "outputs": [
        {
          "name": "stdout",
          "output_type": "stream",
          "text": [
            "            X1         X2        X3\n",
            "0     9.994136   8.132179  1.451644\n",
            "1     3.378417   2.731531 -7.278363\n",
            "2     5.025678  -8.010977 -0.963811\n",
            "3    11.378559   6.748951  0.506431\n",
            "4     7.680840   3.272841 -6.859924\n",
            "..         ...        ...       ...\n",
            "313   3.011441 -10.407987  0.544145\n",
            "314   4.144111   1.905058 -6.825925\n",
            "315   7.498220   6.517500 -0.367386\n",
            "316   1.336973  -7.188961 -1.436209\n",
            "317   4.148909  -7.606236  3.191236\n",
            "\n",
            "[318 rows x 3 columns]\n"
          ]
        }
      ],
      "source": [
        "filtered_df.columns = filtered_df.columns.str.upper()\n",
        "print(filtered_df)"
      ]
    },
    {
      "cell_type": "markdown",
      "metadata": {
        "id": "Gvlp3x9qc10K"
      },
      "source": [
        "Rename the columns to their original names"
      ]
    },
    {
      "cell_type": "code",
      "execution_count": 74,
      "metadata": {
        "colab": {
          "base_uri": "https://localhost:8080/"
        },
        "id": "eUgD9iZlc10L",
        "outputId": "6cdb19e9-8c35-494b-f0a3-ca4916b85a41"
      },
      "outputs": [
        {
          "name": "stdout",
          "output_type": "stream",
          "text": [
            "            x1         x2        x3\n",
            "0     9.994136   8.132179  1.451644\n",
            "1     3.378417   2.731531 -7.278363\n",
            "2     5.025678  -8.010977 -0.963811\n",
            "3    11.378559   6.748951  0.506431\n",
            "4     7.680840   3.272841 -6.859924\n",
            "..         ...        ...       ...\n",
            "313   3.011441 -10.407987  0.544145\n",
            "314   4.144111   1.905058 -6.825925\n",
            "315   7.498220   6.517500 -0.367386\n",
            "316   1.336973  -7.188961 -1.436209\n",
            "317   4.148909  -7.606236  3.191236\n",
            "\n",
            "[318 rows x 3 columns]\n"
          ]
        }
      ],
      "source": [
        "filtered_df.columns = filtered_df.columns.str.lower()\n",
        "print(filtered_df)"
      ]
    },
    {
      "cell_type": "markdown",
      "metadata": {
        "id": "NJ4a9Nesc10L"
      },
      "source": [
        "Use two different alternatives to get one of the columns"
      ]
    },
    {
      "cell_type": "code",
      "execution_count": 75,
      "metadata": {
        "colab": {
          "base_uri": "https://localhost:8080/"
        },
        "id": "a0Y-m4lpc10L",
        "outputId": "03887a1c-1892-4309-d1c8-f2f6bd8bbe89"
      },
      "outputs": [
        {
          "name": "stdout",
          "output_type": "stream",
          "text": [
            "0       9.994136\n",
            "1       3.378417\n",
            "2       5.025678\n",
            "3      11.378559\n",
            "4       7.680840\n",
            "         ...    \n",
            "313     3.011441\n",
            "314     4.144111\n",
            "315     7.498220\n",
            "316     1.336973\n",
            "317     4.148909\n",
            "Name: x1, Length: 318, dtype: float64\n",
            "0       9.994136\n",
            "1       3.378417\n",
            "2       5.025678\n",
            "3      11.378559\n",
            "4       7.680840\n",
            "         ...    \n",
            "313     3.011441\n",
            "314     4.144111\n",
            "315     7.498220\n",
            "316     1.336973\n",
            "317     4.148909\n",
            "Name: x1, Length: 318, dtype: float64\n"
          ]
        }
      ],
      "source": [
        "# 1)\n",
        "column1 = filtered_df['x1']\n",
        "print(column1)\n",
        "# 2)\n",
        "column2 = filtered_df.x1\n",
        "print(column2)"
      ]
    },
    {
      "cell_type": "markdown",
      "metadata": {
        "id": "JdbYbVY-c10L"
      },
      "source": [
        "Get a slice of your data set: second and thrid columns and rows from 62 to 72"
      ]
    },
    {
      "cell_type": "code",
      "execution_count": 76,
      "metadata": {
        "colab": {
          "base_uri": "https://localhost:8080/"
        },
        "id": "T_fxIO1oc10L",
        "outputId": "ea40539c-e113-4ca5-e6eb-5237b2f6b330"
      },
      "outputs": [
        {
          "name": "stdout",
          "output_type": "stream",
          "text": [
            "           x2         x3\n",
            "61   9.170740   2.678534\n",
            "62   2.899391  -7.614021\n",
            "63  -6.361093   0.037039\n",
            "64   0.068696   1.337539\n",
            "65  -1.442463  -0.906270\n",
            "66  -9.340898  -0.836231\n",
            "67 -10.989257  -5.688050\n",
            "68  -2.800585   3.090907\n",
            "69   4.648698 -10.318476\n",
            "70 -10.117718   2.077315\n",
            "71 -10.351203  -0.722639\n"
          ]
        }
      ],
      "source": [
        "slice_df = filtered_df.iloc[61:72, 1:3]\n",
        "print(slice_df)"
      ]
    },
    {
      "cell_type": "markdown",
      "metadata": {
        "id": "LTCUOWvMc10L"
      },
      "source": [
        "For the second and thrid columns, calculate the number of null and not null values and verify that their sum equals the total number of rows"
      ]
    },
    {
      "cell_type": "code",
      "execution_count": 77,
      "metadata": {
        "colab": {
          "base_uri": "https://localhost:8080/"
        },
        "id": "8aXxqkRSc10L",
        "outputId": "960069ad-f341-49ba-b8cb-27ea1bd1ad58"
      },
      "outputs": [
        {
          "name": "stdout",
          "output_type": "stream",
          "text": [
            "--Second column:\n",
            "Sum of null values:\n",
            "0\n",
            "Sum of not null values:\n",
            "318\n",
            "--Third column:\n",
            "Sum of null values:\n",
            "0\n",
            "Sum of not null values:\n",
            "318\n",
            "Sum of null and non-null values for the second column equals total number of rows.\n",
            "Sum of null and non-null values for the third column equals total number of rows.\n"
          ]
        }
      ],
      "source": [
        "#Second column\n",
        "null_values_x2 = filtered_df.iloc[:, 1].isnull().sum()\n",
        "non_null_values_x2 = filtered_df.iloc[:, 1].notnull().sum()\n",
        "print(\"--Second column:\")\n",
        "print(\"Sum of null values:\")\n",
        "print(null_values_x2)\n",
        "print(\"Sum of not null values:\")\n",
        "print(non_null_values_x2)\n",
        "#Third column\n",
        "null_values_x3 = filtered_df.iloc[:, 2].isnull().sum()\n",
        "non_null_values_x3 = filtered_df.iloc[:, 2].notnull().sum()\n",
        "print(\"--Third column:\")\n",
        "print(\"Sum of null values:\")\n",
        "print(null_values_x3)\n",
        "print(\"Sum of not null values:\")\n",
        "print(non_null_values_x3)\n",
        "\n",
        "if null_values_x2 + non_null_values_x2 == len(filtered_df):\n",
        "    print(\"Sum of null and non-null values for the second column equals total number of rows.\")\n",
        "else:\n",
        "    print(\"Error: Sum of null and non-null values for the second column doesn't equal total number of rows.\")\n",
        "\n",
        "if null_values_x3 + non_null_values_x3 == len(filtered_df):\n",
        "    print(\"Sum of null and non-null values for the third column equals total number of rows.\")\n",
        "else:\n",
        "    print(\"Error: Sum of null and non-null values for the third column doesn't equal total number of rows.\")\n"
      ]
    },
    {
      "cell_type": "markdown",
      "metadata": {
        "id": "U_uhOT_Vc10L"
      },
      "source": [
        "Discard the last column\n"
      ]
    },
    {
      "cell_type": "code",
      "execution_count": 78,
      "metadata": {
        "colab": {
          "base_uri": "https://localhost:8080/"
        },
        "id": "_fLEpBCSc10M",
        "outputId": "1346e654-2ced-4b01-f182-6574274de98b"
      },
      "outputs": [
        {
          "name": "stdout",
          "output_type": "stream",
          "text": [
            "            x1         x2\n",
            "0     9.994136   8.132179\n",
            "1     3.378417   2.731531\n",
            "2     5.025678  -8.010977\n",
            "3    11.378559   6.748951\n",
            "4     7.680840   3.272841\n",
            "..         ...        ...\n",
            "313   3.011441 -10.407987\n",
            "314   4.144111   1.905058\n",
            "315   7.498220   6.517500\n",
            "316   1.336973  -7.188961\n",
            "317   4.148909  -7.606236\n",
            "\n",
            "[318 rows x 2 columns]\n"
          ]
        }
      ],
      "source": [
        "interest_col = [\"x1\",\"x2\"]\n",
        "filtered_df_2 = df[interest_col]\n",
        "print(filtered_df_2)\n"
      ]
    },
    {
      "cell_type": "markdown",
      "metadata": {
        "id": "3kUbCFT7c10M"
      },
      "source": [
        "### Questions\n",
        "\n",
        "Based on the previos results, provide a description of yout dataset\n",
        "\n",
        "Your response:\n",
        "\n",
        "\n"
      ]
    },
    {
      "cell_type": "markdown",
      "metadata": {
        "id": "BrhTIgAuc10M"
      },
      "source": [
        "## A3 Data visualization"
      ]
    },
    {
      "cell_type": "markdown",
      "metadata": {
        "id": "Ducgjbdyc10M"
      },
      "source": [
        "Plot in the same figure the histogram of two variables\n",
        "\n"
      ]
    },
    {
      "cell_type": "code",
      "execution_count": 79,
      "metadata": {
        "colab": {
          "base_uri": "https://localhost:8080/",
          "height": 452
        },
        "id": "7A0rK-cKc10M",
        "outputId": "607142dd-83dc-4067-b2ae-382938f1bc81"
      },
      "outputs": [
        {
          "data": {
            "image/png": "[encoded data removed]",
            "text/plain": [
              "<Figure size 640x480 with 1 Axes>"
            ]
          },
          "metadata": {},
          "output_type": "display_data"
        }
      ],
      "source": [
        "df4plot = filtered_df[[\"x1\",\"x2\"]]\n",
        "sns.histplot(df4plot, kde=True)\n",
        "plt.title('Histogram of x1 and x2 variables')\n",
        "plt.show()\n"
      ]
    },
    {
      "cell_type": "markdown",
      "metadata": {
        "id": "VLX6LS0sc10M"
      },
      "source": [
        "Based on these plots, provide a description of your data:\n",
        "\n",
        "Your response here:\n",
        "\n",
        "According to the histogram, we can interpret that the records with data between 5 and 9.8 in the x1 column have a predominant appearance in this same column. Approximately 185 of the 319 records have data within this numerical range.\n",
        "\n",
        "On the other hand, we can mention with respect to the x2 column that most of its data are found within the following value ranges: between -10 and -7, and between -2 and 6.5.\n"
      ]
    },
    {
      "cell_type": "markdown",
      "metadata": {
        "id": "0Mc8oYehc10T"
      },
      "source": [
        "Plot in the same figure the boxplot of two variables"
      ]
    },
    {
      "cell_type": "code",
      "execution_count": 89,
      "metadata": {
        "colab": {
          "base_uri": "https://localhost:8080/",
          "height": 430
        },
        "id": "9O82DjeEc10T",
        "outputId": "77bea924-e56a-41d3-c4bd-bd88bbd4ecdf"
      },
      "outputs": [
        {
          "data": {
            "image/png": "[encoded data removed]",
            "text/plain": [
              "<Figure size 640x480 with 1 Axes>"
            ]
          },
          "metadata": {},
          "output_type": "display_data"
        }
      ],
      "source": [
        "sns.boxplot(data=filtered_df[['x2', 'x3']])\n",
        "plt.show()"
      ]
    },
    {
      "cell_type": "markdown",
      "metadata": {
        "id": "njAfrbKXc10T"
      },
      "source": [
        "Plot the scatter plot of two variables"
      ]
    },
    {
      "cell_type": "code",
      "execution_count": 88,
      "metadata": {
        "colab": {
          "base_uri": "https://localhost:8080/",
          "height": 449
        },
        "id": "QKkZLPrnc10T",
        "outputId": "31b83d74-c4dd-46c9-e2aa-b221bfa4532a"
      },
      "outputs": [
        {
          "data": {
            "image/png": "[encoded data removed]",
            "text/plain": [
              "<Figure size 640x480 with 1 Axes>"
            ]
          },
          "metadata": {},
          "output_type": "display_data"
        }
      ],
      "source": [
        "sns.scatterplot(data=filtered_df, y = \"x1\", x=\"x2\")\n",
        "plt.show()"
      ]
    },
    {
      "cell_type": "markdown",
      "metadata": {
        "id": "hhQgpr56c10U"
      },
      "source": [
        "### Questions\n",
        "\n",
        "Based on the previos plots, provide a description of yout dataset\n",
        "\n",
        "Your response:\n",
        "\n",
        "Based on the analysis of the previously obtained graphs, we can highlight the following:\n",
        "\n",
        "1) The mean of the data entered in the columns x1, x2, and x3 are respectively: 6.7, between 0.1 and 0.5, and finally between -1.5 and -1.\n",
        "\n",
        "2) In the columns x1, x2, and x3, you can obtain the following maximum and minimum values:\n",
        "\n",
        "x1: minimum value: -1.427149, maximum value: 13.880713\n",
        "\n",
        "x2: minimum value: -13.866084, maximum value: 10.958015\n",
        "\n",
        "x3: minimum value: -11.810009, maximum value: 5.594729\n",
        "\n",
        "These types of graphs are extremely useful as they graphically and understandably display the data contained in your DataFrame and how these data behave within it.\n"
      ]
    },
    {
      "cell_type": "markdown",
      "metadata": {
        "id": "02jQsM9X96R1"
      },
      "source": []
    },
    {
      "cell_type": "markdown",
      "metadata": {
        "id": "8AsjzPTKc10U"
      },
      "source": [
        "## A4 Kmeans"
      ]
    },
    {
      "cell_type": "markdown",
      "metadata": {
        "id": "rBSqJzBwc10U"
      },
      "source": [
        "Do Kmeans clustering assuming a number of clusters accorging to your scatter plot"
      ]
    },
    {
      "cell_type": "code",
      "execution_count": 91,
      "metadata": {
        "colab": {
          "base_uri": "https://localhost:8080/",
          "height": 758
        },
        "id": "NLf7i33Wc10U",
        "outputId": "b2b943a6-af2b-4930-fb78-3908807acdf0"
      },
      "outputs": [
        {
          "data": {
            "image/png": "[encoded data removed]",
            "text/plain": [
              "<Figure size 750x750 with 9 Axes>"
            ]
          },
          "metadata": {},
          "output_type": "display_data"
        }
      ],
      "source": [
        "g = sns.pairplot(filtered_df, corner =True, diag_kind=\"kde\")\n",
        "g.map_lower(sns.kdeplot, levels=4, color=\".2\")\n",
        "plt.show()"
      ]
    },
    {
      "cell_type": "code",
      "execution_count": 92,
      "metadata": {
        "colab": {
          "base_uri": "https://localhost:8080/",
          "height": 423
        },
        "id": "n1BGpMTD-uQY",
        "outputId": "25c36f86-469b-4c3a-c028-95067061e3e7"
      },
      "outputs": [
        {
          "data": {
            "application/vnd.google.colaboratory.intrinsic+json": {
              "summary": "{\n  \"name\": \"filtered_df\",\n  \"rows\": 318,\n  \"fields\": [\n    {\n      \"column\": \"x1\",\n      \"properties\": {\n        \"dtype\": \"number\",\n        \"std\": 2.4761746919708387,\n        \"min\": -1.4271493430048574,\n        \"max\": 13.88071273569895,\n        \"num_unique_values\": 318,\n        \"samples\": [\n          5.1006848942253225,\n          8.179791821811532,\n          5.875146900269977\n        ],\n        \"semantic_type\": \"\",\n        \"description\": \"\"\n      }\n    },\n    {\n      \"column\": \"x2\",\n      \"properties\": {\n        \"dtype\": \"number\",\n        \"std\": 6.039581084160228,\n        \"min\": -13.866083582947075,\n        \"max\": 10.958015083746751,\n        \"num_unique_values\": 318,\n        \"samples\": [\n          -11.210432900403982,\n          8.825988882131298,\n          -8.811311159024648\n        ],\n        \"semantic_type\": \"\",\n        \"description\": \"\"\n      }\n    },\n    {\n      \"column\": \"x3\",\n      \"properties\": {\n        \"dtype\": \"number\",\n        \"std\": 4.0013252214142945,\n        \"min\": -11.810008607207305,\n        \"max\": 5.594728544695426,\n        \"num_unique_values\": 318,\n        \"samples\": [\n          -4.117457773414511,\n          1.407885002729441,\n          4.198489357188915\n        ],\n        \"semantic_type\": \"\",\n        \"description\": \"\"\n      }\n    }\n  ]\n}",
              "type": "dataframe",
              "variable_name": "filtered_df"
            },
            "text/html": [
              "\n",
              "  <div id=\"df-c4299d89-3f18-44d7-bdd1-6880ae512a23\" class=\"colab-df-container\">\n",
              "    <div>\n",
              "<style scoped>\n",
              "    .dataframe tbody tr th:only-of-type {\n",
              "        vertical-align: middle;\n",
              "    }\n",
              "\n",
              "    .dataframe tbody tr th {\n",
              "        vertical-align: top;\n",
              "    }\n",
              "\n",
              "    .dataframe thead th {\n",
              "        text-align: right;\n",
              "    }\n",
              "</style>\n",
              "<table border=\"1\" class=\"dataframe\">\n",
              "  <thead>\n",
              "    <tr style=\"text-align: right;\">\n",
              "      <th></th>\n",
              "      <th>x1</th>\n",
              "      <th>x2</th>\n",
              "      <th>x3</th>\n",
              "    </tr>\n",
              "  </thead>\n",
              "  <tbody>\n",
              "    <tr>\n",
              "      <th>0</th>\n",
              "      <td>9.994136</td>\n",
              "      <td>8.132179</td>\n",
              "      <td>1.451644</td>\n",
              "    </tr>\n",
              "    <tr>\n",
              "      <th>1</th>\n",
              "      <td>3.378417</td>\n",
              "      <td>2.731531</td>\n",
              "      <td>-7.278363</td>\n",
              "    </tr>\n",
              "    <tr>\n",
              "      <th>2</th>\n",
              "      <td>5.025678</td>\n",
              "      <td>-8.010977</td>\n",
              "      <td>-0.963811</td>\n",
              "    </tr>\n",
              "    <tr>\n",
              "      <th>3</th>\n",
              "      <td>11.378559</td>\n",
              "      <td>6.748951</td>\n",
              "      <td>0.506431</td>\n",
              "    </tr>\n",
              "    <tr>\n",
              "      <th>4</th>\n",
              "      <td>7.680840</td>\n",
              "      <td>3.272841</td>\n",
              "      <td>-6.859924</td>\n",
              "    </tr>\n",
              "    <tr>\n",
              "      <th>...</th>\n",
              "      <td>...</td>\n",
              "      <td>...</td>\n",
              "      <td>...</td>\n",
              "    </tr>\n",
              "    <tr>\n",
              "      <th>313</th>\n",
              "      <td>3.011441</td>\n",
              "      <td>-10.407987</td>\n",
              "      <td>0.544145</td>\n",
              "    </tr>\n",
              "    <tr>\n",
              "      <th>314</th>\n",
              "      <td>4.144111</td>\n",
              "      <td>1.905058</td>\n",
              "      <td>-6.825925</td>\n",
              "    </tr>\n",
              "    <tr>\n",
              "      <th>315</th>\n",
              "      <td>7.498220</td>\n",
              "      <td>6.517500</td>\n",
              "      <td>-0.367386</td>\n",
              "    </tr>\n",
              "    <tr>\n",
              "      <th>316</th>\n",
              "      <td>1.336973</td>\n",
              "      <td>-7.188961</td>\n",
              "      <td>-1.436209</td>\n",
              "    </tr>\n",
              "    <tr>\n",
              "      <th>317</th>\n",
              "      <td>4.148909</td>\n",
              "      <td>-7.606236</td>\n",
              "      <td>3.191236</td>\n",
              "    </tr>\n",
              "  </tbody>\n",
              "</table>\n",
              "<p>318 rows × 3 columns</p>\n",
              "</div>\n",
              "    <div class=\"colab-df-buttons\">\n",
              "\n",
              "  <div class=\"colab-df-container\">\n",
              "    <button class=\"colab-df-convert\" onclick=\"convertToInteractive('df-c4299d89-3f18-44d7-bdd1-6880ae512a23')\"\n",
              "            title=\"Convert this dataframe to an interactive table.\"\n",
              "            style=\"display:none;\">\n",
              "\n",
              "  <svg xmlns=\"http://www.w3.org/2000/svg\" height=\"24px\" viewBox=\"0 -960 960 960\">\n",
              "    <path d=\"M120-120v-720h720v720H120Zm60-500h600v-160H180v160Zm220 220h160v-160H400v160Zm0 220h160v-160H400v160ZM180-400h160v-160H180v160Zm440 0h160v-160H620v160ZM180-180h160v-160H180v160Zm440 0h160v-160H620v160Z\"/>\n",
              "  </svg>\n",
              "    </button>\n",
              "\n",
              "  <style>\n",
              "    .colab-df-container {\n",
              "      display:flex;\n",
              "      gap: 12px;\n",
              "    }\n",
              "\n",
              "    .colab-df-convert {\n",
              "      background-color: #E8F0FE;\n",
              "      border: none;\n",
              "      border-radius: 50%;\n",
              "      cursor: pointer;\n",
              "      display: none;\n",
              "      fill: #1967D2;\n",
              "      height: 32px;\n",
              "      padding: 0 0 0 0;\n",
              "      width: 32px;\n",
              "    }\n",
              "\n",
              "    .colab-df-convert:hover {\n",
              "      background-color: #E2EBFA;\n",
              "      box-shadow: 0px 1px 2px rgba(60, 64, 67, 0.3), 0px 1px 3px 1px rgba(60, 64, 67, 0.15);\n",
              "      fill: #174EA6;\n",
              "    }\n",
              "\n",
              "    .colab-df-buttons div {\n",
              "      margin-bottom: 4px;\n",
              "    }\n",
              "\n",
              "    [theme=dark] .colab-df-convert {\n",
              "      background-color: #3B4455;\n",
              "      fill: #D2E3FC;\n",
              "    }\n",
              "\n",
              "    [theme=dark] .colab-df-convert:hover {\n",
              "      background-color: #434B5C;\n",
              "      box-shadow: 0px 1px 3px 1px rgba(0, 0, 0, 0.15);\n",
              "      filter: drop-shadow(0px 1px 2px rgba(0, 0, 0, 0.3));\n",
              "      fill: #FFFFFF;\n",
              "    }\n",
              "  </style>\n",
              "\n",
              "    <script>\n",
              "      const buttonEl =\n",
              "        document.querySelector('#df-c4299d89-3f18-44d7-bdd1-6880ae512a23 button.colab-df-convert');\n",
              "      buttonEl.style.display =\n",
              "        google.colab.kernel.accessAllowed ? 'block' : 'none';\n",
              "\n",
              "      async function convertToInteractive(key) {\n",
              "        const element = document.querySelector('#df-c4299d89-3f18-44d7-bdd1-6880ae512a23');\n",
              "        const dataTable =\n",
              "          await google.colab.kernel.invokeFunction('convertToInteractive',\n",
              "                                                    [key], {});\n",
              "        if (!dataTable) return;\n",
              "\n",
              "        const docLinkHtml = 'Like what you see? Visit the ' +\n",
              "          '<a target=\"_blank\" href=https://colab.research.google.com/notebooks/data_table.ipynb>data table notebook</a>'\n",
              "          + ' to learn more about interactive tables.';\n",
              "        element.innerHTML = '';\n",
              "        dataTable['output_type'] = 'display_data';\n",
              "        await google.colab.output.renderOutput(dataTable, element);\n",
              "        const docLink = document.createElement('div');\n",
              "        docLink.innerHTML = docLinkHtml;\n",
              "        element.appendChild(docLink);\n",
              "      }\n",
              "    </script>\n",
              "  </div>\n",
              "\n",
              "\n",
              "<div id=\"df-f743d196-40b5-418a-a8cf-f5d6240e6e04\">\n",
              "  <button class=\"colab-df-quickchart\" onclick=\"quickchart('df-f743d196-40b5-418a-a8cf-f5d6240e6e04')\"\n",
              "            title=\"Suggest charts\"\n",
              "            style=\"display:none;\">\n",
              "\n",
              "<svg xmlns=\"http://www.w3.org/2000/svg\" height=\"24px\"viewBox=\"0 0 24 24\"\n",
              "     width=\"24px\">\n",
              "    <g>\n",
              "        <path d=\"M19 3H5c-1.1 0-2 .9-2 2v14c0 1.1.9 2 2 2h14c1.1 0 2-.9 2-2V5c0-1.1-.9-2-2-2zM9 17H7v-7h2v7zm4 0h-2V7h2v10zm4 0h-2v-4h2v4z\"/>\n",
              "    </g>\n",
              "</svg>\n",
              "  </button>\n",
              "\n",
              "<style>\n",
              "  .colab-df-quickchart {\n",
              "      --bg-color: #E8F0FE;\n",
              "      --fill-color: #1967D2;\n",
              "      --hover-bg-color: #E2EBFA;\n",
              "      --hover-fill-color: #174EA6;\n",
              "      --disabled-fill-color: #AAA;\n",
              "      --disabled-bg-color: #DDD;\n",
              "  }\n",
              "\n",
              "  [theme=dark] .colab-df-quickchart {\n",
              "      --bg-color: #3B4455;\n",
              "      --fill-color: #D2E3FC;\n",
              "      --hover-bg-color: #434B5C;\n",
              "      --hover-fill-color: #FFFFFF;\n",
              "      --disabled-bg-color: #3B4455;\n",
              "      --disabled-fill-color: #666;\n",
              "  }\n",
              "\n",
              "  .colab-df-quickchart {\n",
              "    background-color: var(--bg-color);\n",
              "    border: none;\n",
              "    border-radius: 50%;\n",
              "    cursor: pointer;\n",
              "    display: none;\n",
              "    fill: var(--fill-color);\n",
              "    height: 32px;\n",
              "    padding: 0;\n",
              "    width: 32px;\n",
              "  }\n",
              "\n",
              "  .colab-df-quickchart:hover {\n",
              "    background-color: var(--hover-bg-color);\n",
              "    box-shadow: 0 1px 2px rgba(60, 64, 67, 0.3), 0 1px 3px 1px rgba(60, 64, 67, 0.15);\n",
              "    fill: var(--button-hover-fill-color);\n",
              "  }\n",
              "\n",
              "  .colab-df-quickchart-complete:disabled,\n",
              "  .colab-df-quickchart-complete:disabled:hover {\n",
              "    background-color: var(--disabled-bg-color);\n",
              "    fill: var(--disabled-fill-color);\n",
              "    box-shadow: none;\n",
              "  }\n",
              "\n",
              "  .colab-df-spinner {\n",
              "    border: 2px solid var(--fill-color);\n",
              "    border-color: transparent;\n",
              "    border-bottom-color: var(--fill-color);\n",
              "    animation:\n",
              "      spin 1s steps(1) infinite;\n",
              "  }\n",
              "\n",
              "  @keyframes spin {\n",
              "    0% {\n",
              "      border-color: transparent;\n",
              "      border-bottom-color: var(--fill-color);\n",
              "      border-left-color: var(--fill-color);\n",
              "    }\n",
              "    20% {\n",
              "      border-color: transparent;\n",
              "      border-left-color: var(--fill-color);\n",
              "      border-top-color: var(--fill-color);\n",
              "    }\n",
              "    30% {\n",
              "      border-color: transparent;\n",
              "      border-left-color: var(--fill-color);\n",
              "      border-top-color: var(--fill-color);\n",
              "      border-right-color: var(--fill-color);\n",
              "    }\n",
              "    40% {\n",
              "      border-color: transparent;\n",
              "      border-right-color: var(--fill-color);\n",
              "      border-top-color: var(--fill-color);\n",
              "    }\n",
              "    60% {\n",
              "      border-color: transparent;\n",
              "      border-right-color: var(--fill-color);\n",
              "    }\n",
              "    80% {\n",
              "      border-color: transparent;\n",
              "      border-right-color: var(--fill-color);\n",
              "      border-bottom-color: var(--fill-color);\n",
              "    }\n",
              "    90% {\n",
              "      border-color: transparent;\n",
              "      border-bottom-color: var(--fill-color);\n",
              "    }\n",
              "  }\n",
              "</style>\n",
              "\n",
              "  <script>\n",
              "    async function quickchart(key) {\n",
              "      const quickchartButtonEl =\n",
              "        document.querySelector('#' + key + ' button');\n",
              "      quickchartButtonEl.disabled = true;  // To prevent multiple clicks.\n",
              "      quickchartButtonEl.classList.add('colab-df-spinner');\n",
              "      try {\n",
              "        const charts = await google.colab.kernel.invokeFunction(\n",
              "            'suggestCharts', [key], {});\n",
              "      } catch (error) {\n",
              "        console.error('Error during call to suggestCharts:', error);\n",
              "      }\n",
              "      quickchartButtonEl.classList.remove('colab-df-spinner');\n",
              "      quickchartButtonEl.classList.add('colab-df-quickchart-complete');\n",
              "    }\n",
              "    (() => {\n",
              "      let quickchartButtonEl =\n",
              "        document.querySelector('#df-f743d196-40b5-418a-a8cf-f5d6240e6e04 button');\n",
              "      quickchartButtonEl.style.display =\n",
              "        google.colab.kernel.accessAllowed ? 'block' : 'none';\n",
              "    })();\n",
              "  </script>\n",
              "</div>\n",
              "    </div>\n",
              "  </div>\n"
            ],
            "text/plain": [
              "            x1         x2        x3\n",
              "0     9.994136   8.132179  1.451644\n",
              "1     3.378417   2.731531 -7.278363\n",
              "2     5.025678  -8.010977 -0.963811\n",
              "3    11.378559   6.748951  0.506431\n",
              "4     7.680840   3.272841 -6.859924\n",
              "..         ...        ...       ...\n",
              "313   3.011441 -10.407987  0.544145\n",
              "314   4.144111   1.905058 -6.825925\n",
              "315   7.498220   6.517500 -0.367386\n",
              "316   1.336973  -7.188961 -1.436209\n",
              "317   4.148909  -7.606236  3.191236\n",
              "\n",
              "[318 rows x 3 columns]"
            ]
          },
          "execution_count": 92,
          "metadata": {},
          "output_type": "execute_result"
        }
      ],
      "source": [
        "filtered_df"
      ]
    },
    {
      "cell_type": "code",
      "execution_count": 121,
      "metadata": {
        "colab": {
          "base_uri": "https://localhost:8080/"
        },
        "id": "rvaARV8K-2U8",
        "outputId": "360a8f9f-5393-4a91-b72c-f62a3b74ecad"
      },
      "outputs": [
        {
          "data": {
            "text/plain": [
              "array([1, 0, 2, 1, 0, 2, 1, 2, 2, 1, 1, 2, 2, 2, 0, 1, 1, 1, 1, 0, 1, 1,\n",
              "       0, 0, 1, 2, 0, 0, 1, 0, 2, 1, 1, 0, 1, 0, 0, 1, 2, 2, 2, 1, 0, 2,\n",
              "       0, 2, 2, 2, 2, 1, 0, 1, 1, 0, 1, 1, 0, 2, 2, 1, 0, 1, 0, 2, 1, 1,\n",
              "       2, 2, 2, 0, 2, 2, 0, 2, 1, 1, 1, 1, 0, 0, 1, 1, 2, 0, 1, 1, 1, 1,\n",
              "       0, 1, 0, 0, 1, 1, 1, 2, 2, 2, 1, 1, 2, 0, 2, 0, 2, 0, 1, 2, 1, 0,\n",
              "       0, 2, 1, 0, 1, 2, 2, 2, 0, 2, 2, 0, 2, 0, 0, 2, 0, 2, 2, 2, 1, 1,\n",
              "       1, 0, 2, 0, 2, 2, 1, 2, 1, 1, 2, 1, 0, 1, 1, 1, 2, 2, 0, 0, 2, 1,\n",
              "       1, 0, 2, 1, 1, 0, 1, 1, 1, 1, 0, 2, 2, 1, 0, 0, 1, 2, 0, 2, 0, 2,\n",
              "       1, 1, 1, 0, 2, 1, 2, 1, 0, 1, 1, 0, 0, 1, 0, 2, 2, 2, 0, 0, 1, 2,\n",
              "       0, 1, 1, 1, 2, 1, 1, 0, 2, 1, 0, 1, 2, 0, 1, 1, 1, 1, 2, 1, 1, 2,\n",
              "       0, 1, 1, 1, 1, 1, 1, 1, 1, 2, 1, 0, 0, 1, 2, 1, 0, 2, 0, 2, 2, 2,\n",
              "       0, 1, 1, 1, 0, 0, 1, 2, 0, 2, 2, 0, 2, 2, 2, 2, 1, 0, 1, 0, 0, 2,\n",
              "       2, 1, 0, 0, 2, 2, 1, 1, 1, 0, 1, 2, 2, 1, 0, 1, 2, 1, 0, 1, 1, 1,\n",
              "       1, 2, 1, 0, 0, 0, 1, 0, 2, 1, 0, 1, 0, 1, 1, 1, 0, 2, 1, 1, 1, 2,\n",
              "       0, 2, 2, 1, 0, 2, 0, 1, 2, 2], dtype=int32)"
            ]
          },
          "execution_count": 121,
          "metadata": {},
          "output_type": "execute_result"
        }
      ],
      "source": [
        "K  = 3\n",
        "\n",
        "km = KMeans(n_clusters=K, n_init=\"auto\")\n",
        "\n",
        "yestimated = km.fit_predict(filtered_df)\n",
        "\n",
        "yestimated"
      ]
    },
    {
      "cell_type": "markdown",
      "metadata": {
        "id": "HarT37iNc10U"
      },
      "source": [
        "Add to your dataset a column with the estimated cluster to each data point"
      ]
    },
    {
      "cell_type": "code",
      "execution_count": 122,
      "metadata": {
        "colab": {
          "base_uri": "https://localhost:8080/",
          "height": 423
        },
        "id": "IM3pIwcxc10U",
        "outputId": "1eb0f87e-d4ac-4424-dce8-d28918e8689a"
      },
      "outputs": [
        {
          "data": {
            "application/vnd.google.colaboratory.intrinsic+json": {
              "summary": "{\n  \"name\": \"filtered_df\",\n  \"rows\": 318,\n  \"fields\": [\n    {\n      \"column\": \"x1\",\n      \"properties\": {\n        \"dtype\": \"number\",\n        \"std\": 2.4761746919708387,\n        \"min\": -1.4271493430048574,\n        \"max\": 13.88071273569895,\n        \"num_unique_values\": 318,\n        \"samples\": [\n          5.1006848942253225,\n          8.179791821811532,\n          5.875146900269977\n        ],\n        \"semantic_type\": \"\",\n        \"description\": \"\"\n      }\n    },\n    {\n      \"column\": \"x2\",\n      \"properties\": {\n        \"dtype\": \"number\",\n        \"std\": 6.039581084160228,\n        \"min\": -13.866083582947075,\n        \"max\": 10.958015083746751,\n        \"num_unique_values\": 318,\n        \"samples\": [\n          -11.210432900403982,\n          8.825988882131298,\n          -8.811311159024648\n        ],\n        \"semantic_type\": \"\",\n        \"description\": \"\"\n      }\n    },\n    {\n      \"column\": \"x3\",\n      \"properties\": {\n        \"dtype\": \"number\",\n        \"std\": 4.0013252214142945,\n        \"min\": -11.810008607207305,\n        \"max\": 5.594728544695426,\n        \"num_unique_values\": 318,\n        \"samples\": [\n          -4.117457773414511,\n          1.407885002729441,\n          4.198489357188915\n        ],\n        \"semantic_type\": \"\",\n        \"description\": \"\"\n      }\n    },\n    {\n      \"column\": \"yestimated\",\n      \"properties\": {\n        \"dtype\": \"int32\",\n        \"num_unique_values\": 3,\n        \"samples\": [\n          1,\n          0,\n          2\n        ],\n        \"semantic_type\": \"\",\n        \"description\": \"\"\n      }\n    }\n  ]\n}",
              "type": "dataframe",
              "variable_name": "filtered_df"
            },
            "text/html": [
              "\n",
              "  <div id=\"df-c910e6fe-2b50-4f61-9fc7-08f1f2c2a64e\" class=\"colab-df-container\">\n",
              "    <div>\n",
              "<style scoped>\n",
              "    .dataframe tbody tr th:only-of-type {\n",
              "        vertical-align: middle;\n",
              "    }\n",
              "\n",
              "    .dataframe tbody tr th {\n",
              "        vertical-align: top;\n",
              "    }\n",
              "\n",
              "    .dataframe thead th {\n",
              "        text-align: right;\n",
              "    }\n",
              "</style>\n",
              "<table border=\"1\" class=\"dataframe\">\n",
              "  <thead>\n",
              "    <tr style=\"text-align: right;\">\n",
              "      <th></th>\n",
              "      <th>x1</th>\n",
              "      <th>x2</th>\n",
              "      <th>x3</th>\n",
              "      <th>yestimated</th>\n",
              "    </tr>\n",
              "  </thead>\n",
              "  <tbody>\n",
              "    <tr>\n",
              "      <th>0</th>\n",
              "      <td>9.994136</td>\n",
              "      <td>8.132179</td>\n",
              "      <td>1.451644</td>\n",
              "      <td>1</td>\n",
              "    </tr>\n",
              "    <tr>\n",
              "      <th>1</th>\n",
              "      <td>3.378417</td>\n",
              "      <td>2.731531</td>\n",
              "      <td>-7.278363</td>\n",
              "      <td>0</td>\n",
              "    </tr>\n",
              "    <tr>\n",
              "      <th>2</th>\n",
              "      <td>5.025678</td>\n",
              "      <td>-8.010977</td>\n",
              "      <td>-0.963811</td>\n",
              "      <td>2</td>\n",
              "    </tr>\n",
              "    <tr>\n",
              "      <th>3</th>\n",
              "      <td>11.378559</td>\n",
              "      <td>6.748951</td>\n",
              "      <td>0.506431</td>\n",
              "      <td>1</td>\n",
              "    </tr>\n",
              "    <tr>\n",
              "      <th>4</th>\n",
              "      <td>7.680840</td>\n",
              "      <td>3.272841</td>\n",
              "      <td>-6.859924</td>\n",
              "      <td>0</td>\n",
              "    </tr>\n",
              "    <tr>\n",
              "      <th>...</th>\n",
              "      <td>...</td>\n",
              "      <td>...</td>\n",
              "      <td>...</td>\n",
              "      <td>...</td>\n",
              "    </tr>\n",
              "    <tr>\n",
              "      <th>313</th>\n",
              "      <td>3.011441</td>\n",
              "      <td>-10.407987</td>\n",
              "      <td>0.544145</td>\n",
              "      <td>2</td>\n",
              "    </tr>\n",
              "    <tr>\n",
              "      <th>314</th>\n",
              "      <td>4.144111</td>\n",
              "      <td>1.905058</td>\n",
              "      <td>-6.825925</td>\n",
              "      <td>0</td>\n",
              "    </tr>\n",
              "    <tr>\n",
              "      <th>315</th>\n",
              "      <td>7.498220</td>\n",
              "      <td>6.517500</td>\n",
              "      <td>-0.367386</td>\n",
              "      <td>1</td>\n",
              "    </tr>\n",
              "    <tr>\n",
              "      <th>316</th>\n",
              "      <td>1.336973</td>\n",
              "      <td>-7.188961</td>\n",
              "      <td>-1.436209</td>\n",
              "      <td>2</td>\n",
              "    </tr>\n",
              "    <tr>\n",
              "      <th>317</th>\n",
              "      <td>4.148909</td>\n",
              "      <td>-7.606236</td>\n",
              "      <td>3.191236</td>\n",
              "      <td>2</td>\n",
              "    </tr>\n",
              "  </tbody>\n",
              "</table>\n",
              "<p>318 rows × 4 columns</p>\n",
              "</div>\n",
              "    <div class=\"colab-df-buttons\">\n",
              "\n",
              "  <div class=\"colab-df-container\">\n",
              "    <button class=\"colab-df-convert\" onclick=\"convertToInteractive('df-c910e6fe-2b50-4f61-9fc7-08f1f2c2a64e')\"\n",
              "            title=\"Convert this dataframe to an interactive table.\"\n",
              "            style=\"display:none;\">\n",
              "\n",
              "  <svg xmlns=\"http://www.w3.org/2000/svg\" height=\"24px\" viewBox=\"0 -960 960 960\">\n",
              "    <path d=\"M120-120v-720h720v720H120Zm60-500h600v-160H180v160Zm220 220h160v-160H400v160Zm0 220h160v-160H400v160ZM180-400h160v-160H180v160Zm440 0h160v-160H620v160ZM180-180h160v-160H180v160Zm440 0h160v-160H620v160Z\"/>\n",
              "  </svg>\n",
              "    </button>\n",
              "\n",
              "  <style>\n",
              "    .colab-df-container {\n",
              "      display:flex;\n",
              "      gap: 12px;\n",
              "    }\n",
              "\n",
              "    .colab-df-convert {\n",
              "      background-color: #E8F0FE;\n",
              "      border: none;\n",
              "      border-radius: 50%;\n",
              "      cursor: pointer;\n",
              "      display: none;\n",
              "      fill: #1967D2;\n",
              "      height: 32px;\n",
              "      padding: 0 0 0 0;\n",
              "      width: 32px;\n",
              "    }\n",
              "\n",
              "    .colab-df-convert:hover {\n",
              "      background-color: #E2EBFA;\n",
              "      box-shadow: 0px 1px 2px rgba(60, 64, 67, 0.3), 0px 1px 3px 1px rgba(60, 64, 67, 0.15);\n",
              "      fill: #174EA6;\n",
              "    }\n",
              "\n",
              "    .colab-df-buttons div {\n",
              "      margin-bottom: 4px;\n",
              "    }\n",
              "\n",
              "    [theme=dark] .colab-df-convert {\n",
              "      background-color: #3B4455;\n",
              "      fill: #D2E3FC;\n",
              "    }\n",
              "\n",
              "    [theme=dark] .colab-df-convert:hover {\n",
              "      background-color: #434B5C;\n",
              "      box-shadow: 0px 1px 3px 1px rgba(0, 0, 0, 0.15);\n",
              "      filter: drop-shadow(0px 1px 2px rgba(0, 0, 0, 0.3));\n",
              "      fill: #FFFFFF;\n",
              "    }\n",
              "  </style>\n",
              "\n",
              "    <script>\n",
              "      const buttonEl =\n",
              "        document.querySelector('#df-c910e6fe-2b50-4f61-9fc7-08f1f2c2a64e button.colab-df-convert');\n",
              "      buttonEl.style.display =\n",
              "        google.colab.kernel.accessAllowed ? 'block' : 'none';\n",
              "\n",
              "      async function convertToInteractive(key) {\n",
              "        const element = document.querySelector('#df-c910e6fe-2b50-4f61-9fc7-08f1f2c2a64e');\n",
              "        const dataTable =\n",
              "          await google.colab.kernel.invokeFunction('convertToInteractive',\n",
              "                                                    [key], {});\n",
              "        if (!dataTable) return;\n",
              "\n",
              "        const docLinkHtml = 'Like what you see? Visit the ' +\n",
              "          '<a target=\"_blank\" href=https://colab.research.google.com/notebooks/data_table.ipynb>data table notebook</a>'\n",
              "          + ' to learn more about interactive tables.';\n",
              "        element.innerHTML = '';\n",
              "        dataTable['output_type'] = 'display_data';\n",
              "        await google.colab.output.renderOutput(dataTable, element);\n",
              "        const docLink = document.createElement('div');\n",
              "        docLink.innerHTML = docLinkHtml;\n",
              "        element.appendChild(docLink);\n",
              "      }\n",
              "    </script>\n",
              "  </div>\n",
              "\n",
              "\n",
              "<div id=\"df-ca5eaff2-0f65-4f4b-bd7e-8ef8f7bb886c\">\n",
              "  <button class=\"colab-df-quickchart\" onclick=\"quickchart('df-ca5eaff2-0f65-4f4b-bd7e-8ef8f7bb886c')\"\n",
              "            title=\"Suggest charts\"\n",
              "            style=\"display:none;\">\n",
              "\n",
              "<svg xmlns=\"http://www.w3.org/2000/svg\" height=\"24px\"viewBox=\"0 0 24 24\"\n",
              "     width=\"24px\">\n",
              "    <g>\n",
              "        <path d=\"M19 3H5c-1.1 0-2 .9-2 2v14c0 1.1.9 2 2 2h14c1.1 0 2-.9 2-2V5c0-1.1-.9-2-2-2zM9 17H7v-7h2v7zm4 0h-2V7h2v10zm4 0h-2v-4h2v4z\"/>\n",
              "    </g>\n",
              "</svg>\n",
              "  </button>\n",
              "\n",
              "<style>\n",
              "  .colab-df-quickchart {\n",
              "      --bg-color: #E8F0FE;\n",
              "      --fill-color: #1967D2;\n",
              "      --hover-bg-color: #E2EBFA;\n",
              "      --hover-fill-color: #174EA6;\n",
              "      --disabled-fill-color: #AAA;\n",
              "      --disabled-bg-color: #DDD;\n",
              "  }\n",
              "\n",
              "  [theme=dark] .colab-df-quickchart {\n",
              "      --bg-color: #3B4455;\n",
              "      --fill-color: #D2E3FC;\n",
              "      --hover-bg-color: #434B5C;\n",
              "      --hover-fill-color: #FFFFFF;\n",
              "      --disabled-bg-color: #3B4455;\n",
              "      --disabled-fill-color: #666;\n",
              "  }\n",
              "\n",
              "  .colab-df-quickchart {\n",
              "    background-color: var(--bg-color);\n",
              "    border: none;\n",
              "    border-radius: 50%;\n",
              "    cursor: pointer;\n",
              "    display: none;\n",
              "    fill: var(--fill-color);\n",
              "    height: 32px;\n",
              "    padding: 0;\n",
              "    width: 32px;\n",
              "  }\n",
              "\n",
              "  .colab-df-quickchart:hover {\n",
              "    background-color: var(--hover-bg-color);\n",
              "    box-shadow: 0 1px 2px rgba(60, 64, 67, 0.3), 0 1px 3px 1px rgba(60, 64, 67, 0.15);\n",
              "    fill: var(--button-hover-fill-color);\n",
              "  }\n",
              "\n",
              "  .colab-df-quickchart-complete:disabled,\n",
              "  .colab-df-quickchart-complete:disabled:hover {\n",
              "    background-color: var(--disabled-bg-color);\n",
              "    fill: var(--disabled-fill-color);\n",
              "    box-shadow: none;\n",
              "  }\n",
              "\n",
              "  .colab-df-spinner {\n",
              "    border: 2px solid var(--fill-color);\n",
              "    border-color: transparent;\n",
              "    border-bottom-color: var(--fill-color);\n",
              "    animation:\n",
              "      spin 1s steps(1) infinite;\n",
              "  }\n",
              "\n",
              "  @keyframes spin {\n",
              "    0% {\n",
              "      border-color: transparent;\n",
              "      border-bottom-color: var(--fill-color);\n",
              "      border-left-color: var(--fill-color);\n",
              "    }\n",
              "    20% {\n",
              "      border-color: transparent;\n",
              "      border-left-color: var(--fill-color);\n",
              "      border-top-color: var(--fill-color);\n",
              "    }\n",
              "    30% {\n",
              "      border-color: transparent;\n",
              "      border-left-color: var(--fill-color);\n",
              "      border-top-color: var(--fill-color);\n",
              "      border-right-color: var(--fill-color);\n",
              "    }\n",
              "    40% {\n",
              "      border-color: transparent;\n",
              "      border-right-color: var(--fill-color);\n",
              "      border-top-color: var(--fill-color);\n",
              "    }\n",
              "    60% {\n",
              "      border-color: transparent;\n",
              "      border-right-color: var(--fill-color);\n",
              "    }\n",
              "    80% {\n",
              "      border-color: transparent;\n",
              "      border-right-color: var(--fill-color);\n",
              "      border-bottom-color: var(--fill-color);\n",
              "    }\n",
              "    90% {\n",
              "      border-color: transparent;\n",
              "      border-bottom-color: var(--fill-color);\n",
              "    }\n",
              "  }\n",
              "</style>\n",
              "\n",
              "  <script>\n",
              "    async function quickchart(key) {\n",
              "      const quickchartButtonEl =\n",
              "        document.querySelector('#' + key + ' button');\n",
              "      quickchartButtonEl.disabled = true;  // To prevent multiple clicks.\n",
              "      quickchartButtonEl.classList.add('colab-df-spinner');\n",
              "      try {\n",
              "        const charts = await google.colab.kernel.invokeFunction(\n",
              "            'suggestCharts', [key], {});\n",
              "      } catch (error) {\n",
              "        console.error('Error during call to suggestCharts:', error);\n",
              "      }\n",
              "      quickchartButtonEl.classList.remove('colab-df-spinner');\n",
              "      quickchartButtonEl.classList.add('colab-df-quickchart-complete');\n",
              "    }\n",
              "    (() => {\n",
              "      let quickchartButtonEl =\n",
              "        document.querySelector('#df-ca5eaff2-0f65-4f4b-bd7e-8ef8f7bb886c button');\n",
              "      quickchartButtonEl.style.display =\n",
              "        google.colab.kernel.accessAllowed ? 'block' : 'none';\n",
              "    })();\n",
              "  </script>\n",
              "</div>\n",
              "    </div>\n",
              "  </div>\n"
            ],
            "text/plain": [
              "            x1         x2        x3  yestimated\n",
              "0     9.994136   8.132179  1.451644           1\n",
              "1     3.378417   2.731531 -7.278363           0\n",
              "2     5.025678  -8.010977 -0.963811           2\n",
              "3    11.378559   6.748951  0.506431           1\n",
              "4     7.680840   3.272841 -6.859924           0\n",
              "..         ...        ...       ...         ...\n",
              "313   3.011441 -10.407987  0.544145           2\n",
              "314   4.144111   1.905058 -6.825925           0\n",
              "315   7.498220   6.517500 -0.367386           1\n",
              "316   1.336973  -7.188961 -1.436209           2\n",
              "317   4.148909  -7.606236  3.191236           2\n",
              "\n",
              "[318 rows x 4 columns]"
            ]
          },
          "execution_count": 122,
          "metadata": {},
          "output_type": "execute_result"
        }
      ],
      "source": [
        "filtered_df['yestimated'] = yestimated\n",
        "\n",
        "filtered_df"
      ]
    },
    {
      "cell_type": "markdown",
      "metadata": {
        "id": "2YXXQtDdc10U"
      },
      "source": [
        "Print the number associated to each cluster"
      ]
    },
    {
      "cell_type": "code",
      "execution_count": 123,
      "metadata": {
        "colab": {
          "base_uri": "https://localhost:8080/"
        },
        "id": "BBEJysUZc10U",
        "outputId": "d23573df-d8a5-45a7-fdfb-06bd4cc166cb"
      },
      "outputs": [
        {
          "name": "stdout",
          "output_type": "stream",
          "text": [
            "Number of points in clusters 0: 89\n",
            "Number of points in clusters 1: 130\n",
            "Number of points in clusters 02: 99\n",
            "Total Number of points in the clusters: 318\n"
          ]
        }
      ],
      "source": [
        "# Get a dataframe with the data of each clsuter\n",
        "df0 = filtered_df[filtered_df.yestimated==0]\n",
        "df1 = filtered_df[filtered_df.yestimated==1]\n",
        "df2 = filtered_df[filtered_df.yestimated==2]\n",
        "\n",
        "\n",
        "# Number of points in cluster 0\n",
        "NpointsCluster0 = df0.shape[0]\n",
        "NpointsCluster1 = df1.shape[0]\n",
        "NpointsCluster2 = df2.shape[0]\n",
        "\n",
        "# Print\n",
        "print(\"Number of points in clusters 0: \" + str(NpointsCluster0) )\n",
        "print(\"Number of points in clusters 1: \" + str(NpointsCluster1) )\n",
        "print(\"Number of points in clusters 02: \" + str(NpointsCluster2) )\n",
        "\n",
        "# Print total number of points\n",
        "print(\"Total Number of points in the clusters: \" + str(NpointsCluster0+NpointsCluster1+NpointsCluster2) )"
      ]
    },
    {
      "cell_type": "markdown",
      "metadata": {
        "id": "l0TFxLcAc10V"
      },
      "source": [
        "Print the centroids"
      ]
    },
    {
      "cell_type": "code",
      "execution_count": 124,
      "metadata": {
        "colab": {
          "base_uri": "https://localhost:8080/"
        },
        "id": "sGdo8TT9c10V",
        "outputId": "c2f74b33-bbd6-479c-c724-fd63686f3add"
      },
      "outputs": [
        {
          "name": "stderr",
          "output_type": "stream",
          "text": [
            "/usr/local/lib/python3.10/dist-packages/sklearn/cluster/_kmeans.py:870: FutureWarning: The default value of `n_init` will change from 10 to 'auto' in 1.4. Set the value of `n_init` explicitly to suppress the warning\n",
            "  warnings.warn(\n"
          ]
        },
        {
          "name": "stdout",
          "output_type": "stream",
          "text": [
            "[[ 6.73717908  3.57446214 -7.39993746  0.        ]\n",
            " [ 8.38243299  3.32249356 -0.06164365  1.05109489]\n",
            " [ 4.8483555  -7.94435787  0.72569821  2.        ]]\n"
          ]
        }
      ],
      "source": [
        "# Assuming X is your data and n_clusters is the number of clusters\n",
        "kmeans = KMeans(n_clusters=K, random_state=0).fit(filtered_df)\n",
        "\n",
        "# Print the centroids\n",
        "print(kmeans.cluster_centers_)"
      ]
    },
    {
      "cell_type": "markdown",
      "metadata": {
        "id": "8Ul5wSO7c10V"
      },
      "source": [
        "Print the intertia metric"
      ]
    },
    {
      "cell_type": "code",
      "execution_count": 125,
      "metadata": {
        "colab": {
          "base_uri": "https://localhost:8080/"
        },
        "id": "Yq5A_5RTc10V",
        "outputId": "824e9277-a302-4190-928f-a3ea1d342e2a"
      },
      "outputs": [
        {
          "data": {
            "text/plain": [
              "5664.151325595127"
            ]
          },
          "execution_count": 125,
          "metadata": {},
          "output_type": "execute_result"
        }
      ],
      "source": [
        "km.inertia_"
      ]
    },
    {
      "cell_type": "markdown",
      "metadata": {
        "id": "0_GmI4nHc10V"
      },
      "source": [
        "Plot a scatter plot of your data using different color for each cluster. Also plot the centroids"
      ]
    },
    {
      "cell_type": "code",
      "execution_count": 126,
      "metadata": {
        "colab": {
          "base_uri": "https://localhost:8080/",
          "height": 472
        },
        "id": "pR-dRE80c10V",
        "outputId": "0531dd54-e98c-4734-b041-ae27f85b9577"
      },
      "outputs": [
        {
          "data": {
            "image/png": "[encoded data removed]",
            "text/plain": [
              "<Figure size 640x480 with 1 Axes>"
            ]
          },
          "metadata": {},
          "output_type": "display_data"
        }
      ],
      "source": [
        "# Get a dataframe with the data of each clsuter\n",
        "df1 = filtered_df[filtered_df.yestimated==0]\n",
        "df2 = filtered_df[filtered_df.yestimated==1]\n",
        "df3 = filtered_df[filtered_df.yestimated==2]\n",
        "\n",
        "# Scatter plot of each cluster\n",
        "plt.scatter(df1.x1, df1.x2, label='Cluster 0', c='r', marker='o', s=32, alpha=0.3)\n",
        "plt.scatter(df2.x1, df2.x2, label='Cluster 1', c='g', marker='o', s=32, alpha=0.3)\n",
        "plt.scatter(df3.x1, df3.x2, label='Cluster 2', c='b', marker='o', s=32, alpha=0.3)\n",
        "\n",
        "# Plot centrodides\n",
        "plt.scatter(km.cluster_centers_[:,0], km.cluster_centers_[:,1], color='black', marker='*', label='Centroides', s=256)\n",
        "\n",
        "plt.title('Scatter plot (for each cluster)')\n",
        "plt.xlabel('x1')\n",
        "plt.ylabel('x2')\n",
        "plt.legend()\n",
        "plt.show()"
      ]
    },
    {
      "cell_type": "markdown",
      "metadata": {
        "id": "rga2TFKSc10V"
      },
      "source": [
        "### Questions\n",
        "\n",
        "Provides a detailed description of your results\n",
        "\n",
        "Your response:\n",
        "\n",
        "After having carried out the Kmeans algorithm with 3 clusters on the provided dataframe, I can interpret that a distinct grouping is really carried out among the data stored in the dataframe.\n",
        "\n",
        "Although, at this moment we cannot draw concise conclusions about the interpretation of this Kmeans, because we have limited knowledge of the meaning of each column within our dataframe. What we can do is reason that the data contained in our dataframe has a behavior that promotes its grouping into three different groups or clusters."
      ]
    },
    {
      "cell_type": "markdown",
      "metadata": {
        "id": "rq-0bfKIc10W"
      },
      "source": [
        "## A5 Elbow plot\n",
        "\n",
        "Compute the Elbow plot"
      ]
    },
    {
      "cell_type": "code",
      "execution_count": 114,
      "metadata": {
        "id": "AdTPzEsSc10W"
      },
      "outputs": [],
      "source": [
        "# Intialize a list to hold sum of squared error (sse)\n",
        "sse = []\n",
        "\n",
        "# Define values of k\n",
        "k_rng = range(1,10)\n",
        "\n",
        "# For each k\n",
        "for k in k_rng:\n",
        "    # Create model\n",
        "    km = KMeans(n_clusters=k, n_init=\"auto\")\n",
        "    # Do K-means clustering\n",
        "    km.fit_predict(filtered_df[['x1','x2','x3']])\n",
        "    # Save sse for each k\n",
        "    sse.append(km.inertia_)\n"
      ]
    },
    {
      "cell_type": "code",
      "execution_count": 115,
      "metadata": {
        "colab": {
          "base_uri": "https://localhost:8080/",
          "height": 472
        },
        "id": "fuuNlWsyc10W",
        "outputId": "de97dd22-620f-452b-9721-286ea372f28d"
      },
      "outputs": [
        {
          "data": {
            "image/png": "[encoded data removed]",
            "text/plain": [
              "<Figure size 640x480 with 1 Axes>"
            ]
          },
          "metadata": {},
          "output_type": "display_data"
        }
      ],
      "source": [
        "# Plot sse versus k\n",
        "plt.plot(k_rng,sse, 'o-', markersize=8)\n",
        "\n",
        "plt.title('Elbow plot')\n",
        "plt.xlabel('K')\n",
        "plt.ylabel('Sum of squared error')\n",
        "plt.show()"
      ]
    },
    {
      "cell_type": "markdown",
      "metadata": {
        "id": "0deiIrT-c10W"
      },
      "source": [
        "### Questions\n",
        "\n",
        "What is the best number of clusters K? (argue your response)\n",
        "\n",
        "Your response:\n",
        "\n",
        "Thanks to the elbow plot, we can understand that even though we have a relatively small sum of squared errors after forming 4 clusters, having many clusters is not always the best approach. Therefore, even though using 4 clusters results in a smaller squared error, considering that we have three variables in our dataframe, I believe that the most appropriate number of clusters is 3.\n",
        "\n",
        "Does this number of clusters agree with your inital guess? (argue your response, no problem at all if they do not agree)\n",
        "\n",
        "Your response:\n",
        "\n",
        "Yes, when I included the number of clusters in my Kmeans calculation, I considered the data contained within my dataframe.\n",
        "\n"
      ]
    },
    {
      "cell_type": "markdown",
      "metadata": {
        "id": "qW1yhCYCc10Y"
      },
      "source": [
        "# PART 2\n",
        "# Descipcion de tu percepcion del nivel de desarrollo de la subcompetencia\n",
        "\n",
        "### SING0202A Interpretación de variables\n"
      ]
    },
    {
      "cell_type": "markdown",
      "metadata": {
        "id": "kJLR4iumc10Y"
      },
      "source": [
        "Escribe tu description del nivel de logro del siguiente criterio de la subcompetencia\n",
        "\n",
        "**Interpreta interacciones**. Interpreta interacciones entre variables relevantes en un problema, como base para la construcción de modelos bivariados basados en datos de un fenómeno investigado que le permita reproducir la respuesta del mismo."
      ]
    },
    {
      "cell_type": "markdown",
      "metadata": {
        "id": "aeAR4f53c10Y"
      },
      "source": [
        "Tu respuesta:\n",
        "\n",
        "I believe my level of achievement regarding this sub-competency is quite satisfying. This is because, during this semana Tec, I developed a broad understanding of data interpretation in various problems or situations. Therefore, I can say that I developed or refined my ability to analyze and understand datasets."
      ]
    },
    {
      "cell_type": "markdown",
      "metadata": {
        "id": "6edjQj1Dc10Y"
      },
      "source": [
        "Escribe tu description del nivel de logro del siguiente criterio de la subcompetencia\n",
        "\n",
        "**Construcción de modelos**. Es capaz de construir modelos bivariados que expliquen el comportamiento de un fenómeno."
      ]
    },
    {
      "cell_type": "markdown",
      "metadata": {
        "id": "thc32Ajkc10Y"
      },
      "source": [
        "Tu respuesta:\n",
        "\n",
        "\n",
        "I believe my level of achievement regarding this sub-competency is quite satisfying. This is because, I expanded my knowledge about tools like pandas, seaborn, matplotlib, sklearn, etc. These tools can be extremely helpful when I need to analyze data to reach important and fundamental conclusions."
      ]
    },
    {
      "cell_type": "code",
      "execution_count": null,
      "metadata": {
        "id": "7IzW1f9ac10Z"
      },
      "outputs": [],
      "source": []
    }
  ],
  "metadata": {
    "colab": {
      "provenance": []
    },
    "kernelspec": {
      "display_name": "Python 3",
      "language": "python",
      "name": "python3"
    },
    "language_info": {
      "codemirror_mode": {
        "name": "ipython",
        "version": 3
      },
      "file_extension": ".py",
      "mimetype": "text/x-python",
      "name": "python",
      "nbconvert_exporter": "python",
      "pygments_lexer": "ipython3",
      "version": "3.8.3"
    }
  },
  "nbformat": 4,
  "nbformat_minor": 0
}
