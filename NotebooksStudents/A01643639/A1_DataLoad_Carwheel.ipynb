{
 "cells": [
  {
   "cell_type": "code",
   "execution_count": 34,
   "metadata": {},
   "outputs": [
    {
     "name": "stdout",
     "output_type": "stream",
     "text": [
      "    ID   Age Gender  GenderGroup Glasses  GlassesGroup  Height  Wingspan  \\\n",
      "0    1  56.0      F            1       Y             1   62.00      61.0   \n",
      "1    2  26.0      F            1       Y             1   62.00      60.0   \n",
      "2    3  33.0      F            1       Y             1   66.00      64.0   \n",
      "3    4  39.0      F            1       N             0   64.00      63.0   \n",
      "4    5  27.0      M            2       N             0   73.00      75.0   \n",
      "5    6  24.0      M            2       N             0   75.00      71.0   \n",
      "6    7  28.0      M            2       N             0   75.00      76.0   \n",
      "7    8  22.0      F            1       N             0   65.00      62.0   \n",
      "8    9  29.0      M            2       Y             1   74.00      73.0   \n",
      "9   10  33.0      F            1       Y             1   63.00      60.0   \n",
      "10  11  30.0      M            2       Y             1   69.50      66.0   \n",
      "11  12  28.0      F            1       Y             1   62.75      58.0   \n",
      "12  13  25.0      F            1       Y             1   65.00      64.5   \n",
      "13  14  23.0      F            1       N             0   61.50      57.5   \n",
      "14  15  31.0      M            2       Y             1   73.00      74.0   \n",
      "15  16  26.0      M            2       Y             1   71.00      72.0   \n",
      "16  17  26.0      F            1       N             0   61.50      59.5   \n",
      "17  18  27.0      M            2       N             0   66.00      66.0   \n",
      "18  19  23.0      M            2       Y             1   70.00      69.0   \n",
      "19  20  24.0      F            1       Y             1   68.00      66.0   \n",
      "20  21  23.0      M            2       Y             1   69.00      67.0   \n",
      "21  22  29.0      M            2       N             0   71.00      70.0   \n",
      "22  23  25.0      M            2       N             0   70.00      68.0   \n",
      "23  24  26.0      M            2       N             0   69.00      71.0   \n",
      "24  25  23.0      F            1       Y             1   65.00      63.0   \n",
      "25  26  28.0      M            2       N             0   75.00      76.0   \n",
      "26  27  24.0      M            2       N             0   78.40      71.0   \n",
      "27  28  25.0      M            2       Y             1   76.00      73.0   \n",
      "28  29  32.0      F            1       Y             1   63.00      60.0   \n",
      "29  30  38.0      F            1       Y             1   61.50      61.0   \n",
      "30  31  27.0      F            1       Y             1   62.00      60.0   \n",
      "31  32  33.0      F            1       Y             1   65.30      64.0   \n",
      "32  33  38.0      F            1       N             0   64.00      63.0   \n",
      "33  34  27.0      M            2       N             0   77.00      75.0   \n",
      "34  35  24.0      F            1       N             0   67.80      62.0   \n",
      "35  36  27.0      M            2       N             0   68.00      66.0   \n",
      "36  37  25.0      F            1       Y             1   65.00      64.5   \n",
      "37  38  26.0      F            1       N             0   61.50      59.5   \n",
      "38  39  31.0      M            2       Y             1   73.00      74.0   \n",
      "39  40  30.0      M            2       Y             1   69.50      66.0   \n",
      "40  41  23.0      F            1       N             0   70.40      71.0   \n",
      "41  42  26.0      M            2       Y             1   73.50      72.0   \n",
      "42  43  28.0      F            1       Y             1   72.50      72.0   \n",
      "43  44  26.0      F            1       Y             1   72.00      72.0   \n",
      "44  45  30.0      F            1       Y             1   66.00      64.0   \n",
      "45  46  39.0      F            1       N             0   64.00      63.0   \n",
      "46  47  27.0      M            2       N             0   78.00      75.0   \n",
      "47  48  24.0      M            2       N             0   79.50      75.0   \n",
      "48  49  28.0      M            2       N             0   77.80      76.0   \n",
      "49  50  30.0      F            1       N             0   74.60       NaN   \n",
      "50  51   NaN      M            2       N             0   71.00      70.0   \n",
      "51  52  27.0      M            2       N             0     NaN      71.5   \n",
      "\n",
      "    CWDistance Complete  CompleteGroup  Score  \n",
      "0           79        Y            1.0      7  \n",
      "1           70        Y            1.0      8  \n",
      "2           85        Y            1.0      7  \n",
      "3           87        Y            1.0     10  \n",
      "4           72        N            0.0      4  \n",
      "5           81        N            0.0      3  \n",
      "6          107        Y            1.0     10  \n",
      "7           98        Y            1.0      9  \n",
      "8          106        N            0.0      5  \n",
      "9           65        Y            1.0      8  \n",
      "10          96        Y            1.0      6  \n",
      "11          79        Y            1.0     10  \n",
      "12          92        Y            1.0      6  \n",
      "13          66        Y            1.0      4  \n",
      "14          72        Y            1.0      9  \n",
      "15         115        Y            1.0      6  \n",
      "16          90        N            0.0     10  \n",
      "17          74        Y            1.0      5  \n",
      "18          64        Y            1.0      3  \n",
      "19          85        Y            1.0      8  \n",
      "20          66        N            0.0      2  \n",
      "21         101        Y            1.0      8  \n",
      "22          82        Y            1.0      4  \n",
      "23          63        Y            1.0      5  \n",
      "24          67        N            0.0      3  \n",
      "25         111        Y            1.0     10  \n",
      "26          92        Y            1.0      7  \n",
      "27         107        Y            1.0      8  \n",
      "28          75        Y            1.0      8  \n",
      "29          78        Y            1.0      7  \n",
      "30          72        Y            1.0      8  \n",
      "31          91        Y            1.0      7  \n",
      "32          86        Y            1.0     10  \n",
      "33         100        Y            1.0      8  \n",
      "34          98        Y            1.0      9  \n",
      "35          74        Y            1.0      5  \n",
      "36          92        Y            1.0      6  \n",
      "37          90        Y            1.0      9  \n",
      "38          72        Y            1.0      9  \n",
      "39          96        Y            1.0      6  \n",
      "40          66        Y            1.0      4  \n",
      "41         115        Y            1.0      6  \n",
      "42          81        Y            1.0     10  \n",
      "43          92        Y            1.0      8  \n",
      "44          85        Y            1.0      7  \n",
      "45          87        Y            1.0     10  \n",
      "46          72        N            0.0      7  \n",
      "47          82        N            0.0      8  \n",
      "48          99        Y            1.0      9  \n",
      "49          71        Y            1.0      9  \n",
      "50         101        Y            NaN      8  \n",
      "51         103        Y            1.0     10  \n"
     ]
    }
   ],
   "source": [
    "import pandas as pd\n",
    "\n",
    "df_cartwheel = pd.read_csv('cartwheel.csv')\n",
    "print(df_cartwheel)\n",
    "df = pd.DataFrame(df_cartwheel)"
   ]
  },
  {
   "cell_type": "code",
   "execution_count": 35,
   "metadata": {},
   "outputs": [
    {
     "data": {
      "text/plain": [
       "Index(['ID', 'Age', 'Gender', 'GenderGroup', 'Glasses', 'GlassesGroup',\n",
       "       'Height', 'Wingspan', 'CWDistance', 'Complete', 'CompleteGroup',\n",
       "       'Score'],\n",
       "      dtype='object')"
      ]
     },
     "execution_count": 35,
     "metadata": {},
     "output_type": "execute_result"
    }
   ],
   "source": [
    "df.columns\n"
   ]
  },
  {
   "cell_type": "code",
   "execution_count": 36,
   "metadata": {},
   "outputs": [
    {
     "ename": "KeyError",
     "evalue": "('Age', 'Gender', 'Glasses', 'Height', 'Wingspan', 'CWDistance', 'Complete')",
     "output_type": "error",
     "traceback": [
      "\u001b[1;31m---------------------------------------------------------------------------\u001b[0m",
      "\u001b[1;31mKeyError\u001b[0m                                  Traceback (most recent call last)",
      "File \u001b[1;32mc:\\Users\\Sadrac\\AppData\\Local\\Programs\\Python\\Python310\\lib\\site-packages\\pandas\\core\\indexes\\base.py:3805\u001b[0m, in \u001b[0;36mIndex.get_loc\u001b[1;34m(self, key)\u001b[0m\n\u001b[0;32m   3804\u001b[0m \u001b[38;5;28;01mtry\u001b[39;00m:\n\u001b[1;32m-> 3805\u001b[0m     \u001b[38;5;28;01mreturn\u001b[39;00m \u001b[38;5;28;43mself\u001b[39;49m\u001b[38;5;241;43m.\u001b[39;49m\u001b[43m_engine\u001b[49m\u001b[38;5;241;43m.\u001b[39;49m\u001b[43mget_loc\u001b[49m\u001b[43m(\u001b[49m\u001b[43mcasted_key\u001b[49m\u001b[43m)\u001b[49m\n\u001b[0;32m   3806\u001b[0m \u001b[38;5;28;01mexcept\u001b[39;00m \u001b[38;5;167;01mKeyError\u001b[39;00m \u001b[38;5;28;01mas\u001b[39;00m err:\n",
      "File \u001b[1;32mindex.pyx:167\u001b[0m, in \u001b[0;36mpandas._libs.index.IndexEngine.get_loc\u001b[1;34m()\u001b[0m\n",
      "File \u001b[1;32mindex.pyx:196\u001b[0m, in \u001b[0;36mpandas._libs.index.IndexEngine.get_loc\u001b[1;34m()\u001b[0m\n",
      "File \u001b[1;32mpandas\\\\_libs\\\\hashtable_class_helper.pxi:7081\u001b[0m, in \u001b[0;36mpandas._libs.hashtable.PyObjectHashTable.get_item\u001b[1;34m()\u001b[0m\n",
      "File \u001b[1;32mpandas\\\\_libs\\\\hashtable_class_helper.pxi:7089\u001b[0m, in \u001b[0;36mpandas._libs.hashtable.PyObjectHashTable.get_item\u001b[1;34m()\u001b[0m\n",
      "\u001b[1;31mKeyError\u001b[0m: ('Age', 'Gender', 'Glasses', 'Height', 'Wingspan', 'CWDistance', 'Complete')",
      "\nThe above exception was the direct cause of the following exception:\n",
      "\u001b[1;31mKeyError\u001b[0m                                  Traceback (most recent call last)",
      "Cell \u001b[1;32mIn[36], line 1\u001b[0m\n\u001b[1;32m----> 1\u001b[0m df2 \u001b[38;5;241m=\u001b[39m \u001b[43mdf\u001b[49m\u001b[43m[\u001b[49m\u001b[38;5;124;43m'\u001b[39;49m\u001b[38;5;124;43mAge\u001b[39;49m\u001b[38;5;124;43m'\u001b[39;49m\u001b[43m,\u001b[49m\u001b[43m \u001b[49m\u001b[38;5;124;43m\"\u001b[39;49m\u001b[38;5;124;43mGender\u001b[39;49m\u001b[38;5;124;43m\"\u001b[39;49m\u001b[43m,\u001b[49m\u001b[43m \u001b[49m\u001b[38;5;124;43m\"\u001b[39;49m\u001b[38;5;124;43mGlasses\u001b[39;49m\u001b[38;5;124;43m\"\u001b[39;49m\u001b[43m,\u001b[49m\u001b[43m \u001b[49m\u001b[38;5;124;43m\"\u001b[39;49m\u001b[38;5;124;43mHeight\u001b[39;49m\u001b[38;5;124;43m\"\u001b[39;49m\u001b[43m,\u001b[49m\u001b[43m \u001b[49m\u001b[38;5;124;43m\"\u001b[39;49m\u001b[38;5;124;43mWingspan\u001b[39;49m\u001b[38;5;124;43m\"\u001b[39;49m\u001b[43m,\u001b[49m\u001b[43m \u001b[49m\u001b[38;5;124;43m\"\u001b[39;49m\u001b[38;5;124;43mCWDistance\u001b[39;49m\u001b[38;5;124;43m\"\u001b[39;49m\u001b[43m,\u001b[49m\u001b[43m \u001b[49m\u001b[38;5;124;43m\"\u001b[39;49m\u001b[38;5;124;43mComplete\u001b[39;49m\u001b[38;5;124;43m\"\u001b[39;49m\u001b[43m]\u001b[49m\n\u001b[0;32m      4\u001b[0m df2\n",
      "File \u001b[1;32mc:\\Users\\Sadrac\\AppData\\Local\\Programs\\Python\\Python310\\lib\\site-packages\\pandas\\core\\frame.py:4102\u001b[0m, in \u001b[0;36mDataFrame.__getitem__\u001b[1;34m(self, key)\u001b[0m\n\u001b[0;32m   4100\u001b[0m \u001b[38;5;28;01mif\u001b[39;00m \u001b[38;5;28mself\u001b[39m\u001b[38;5;241m.\u001b[39mcolumns\u001b[38;5;241m.\u001b[39mnlevels \u001b[38;5;241m>\u001b[39m \u001b[38;5;241m1\u001b[39m:\n\u001b[0;32m   4101\u001b[0m     \u001b[38;5;28;01mreturn\u001b[39;00m \u001b[38;5;28mself\u001b[39m\u001b[38;5;241m.\u001b[39m_getitem_multilevel(key)\n\u001b[1;32m-> 4102\u001b[0m indexer \u001b[38;5;241m=\u001b[39m \u001b[38;5;28;43mself\u001b[39;49m\u001b[38;5;241;43m.\u001b[39;49m\u001b[43mcolumns\u001b[49m\u001b[38;5;241;43m.\u001b[39;49m\u001b[43mget_loc\u001b[49m\u001b[43m(\u001b[49m\u001b[43mkey\u001b[49m\u001b[43m)\u001b[49m\n\u001b[0;32m   4103\u001b[0m \u001b[38;5;28;01mif\u001b[39;00m is_integer(indexer):\n\u001b[0;32m   4104\u001b[0m     indexer \u001b[38;5;241m=\u001b[39m [indexer]\n",
      "File \u001b[1;32mc:\\Users\\Sadrac\\AppData\\Local\\Programs\\Python\\Python310\\lib\\site-packages\\pandas\\core\\indexes\\base.py:3812\u001b[0m, in \u001b[0;36mIndex.get_loc\u001b[1;34m(self, key)\u001b[0m\n\u001b[0;32m   3807\u001b[0m     \u001b[38;5;28;01mif\u001b[39;00m \u001b[38;5;28misinstance\u001b[39m(casted_key, \u001b[38;5;28mslice\u001b[39m) \u001b[38;5;129;01mor\u001b[39;00m (\n\u001b[0;32m   3808\u001b[0m         \u001b[38;5;28misinstance\u001b[39m(casted_key, abc\u001b[38;5;241m.\u001b[39mIterable)\n\u001b[0;32m   3809\u001b[0m         \u001b[38;5;129;01mand\u001b[39;00m \u001b[38;5;28many\u001b[39m(\u001b[38;5;28misinstance\u001b[39m(x, \u001b[38;5;28mslice\u001b[39m) \u001b[38;5;28;01mfor\u001b[39;00m x \u001b[38;5;129;01min\u001b[39;00m casted_key)\n\u001b[0;32m   3810\u001b[0m     ):\n\u001b[0;32m   3811\u001b[0m         \u001b[38;5;28;01mraise\u001b[39;00m InvalidIndexError(key)\n\u001b[1;32m-> 3812\u001b[0m     \u001b[38;5;28;01mraise\u001b[39;00m \u001b[38;5;167;01mKeyError\u001b[39;00m(key) \u001b[38;5;28;01mfrom\u001b[39;00m \u001b[38;5;21;01merr\u001b[39;00m\n\u001b[0;32m   3813\u001b[0m \u001b[38;5;28;01mexcept\u001b[39;00m \u001b[38;5;167;01mTypeError\u001b[39;00m:\n\u001b[0;32m   3814\u001b[0m     \u001b[38;5;66;03m# If we have a listlike key, _check_indexing_error will raise\u001b[39;00m\n\u001b[0;32m   3815\u001b[0m     \u001b[38;5;66;03m#  InvalidIndexError. Otherwise we fall through and re-raise\u001b[39;00m\n\u001b[0;32m   3816\u001b[0m     \u001b[38;5;66;03m#  the TypeError.\u001b[39;00m\n\u001b[0;32m   3817\u001b[0m     \u001b[38;5;28mself\u001b[39m\u001b[38;5;241m.\u001b[39m_check_indexing_error(key)\n",
      "\u001b[1;31mKeyError\u001b[0m: ('Age', 'Gender', 'Glasses', 'Height', 'Wingspan', 'CWDistance', 'Complete')"
     ]
    }
   ],
   "source": [
    "df2 = df[['Age', \"Gender\", \"Glasses\", \"Height\", \"Wingspan\", \"CWDistance\", \"Complete\"]]\n",
    "\n",
    "\n",
    "df2\n",
    "\n",
    "\n"
   ]
  },
  {
   "cell_type": "markdown",
   "metadata": {},
   "source": []
  }
 ],
 "metadata": {
  "kernelspec": {
   "display_name": "Python 3",
   "language": "python",
   "name": "python3"
  },
  "language_info": {
   "codemirror_mode": {
    "name": "ipython",
    "version": 3
   },
   "file_extension": ".py",
   "mimetype": "text/x-python",
   "name": "python",
   "nbconvert_exporter": "python",
   "pygments_lexer": "ipython3",
   "version": "3.10.6"
  }
 },
 "nbformat": 4,
 "nbformat_minor": 2
}
