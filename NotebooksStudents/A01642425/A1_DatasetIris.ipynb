{
  "cells": [
    {
      "cell_type": "markdown",
      "metadata": {
        "id": "u0MPe62dYgl0"
      },
      "source": [
        "# Undertanding the cartwheel data set\n",
        "\n",
        "The notebook aims to undertand the content of the cartwheel data set.\n",
        "\n",
        "\n",
        "## Acknowledgments\n",
        "\n",
        "- Data from https://www.coursera.org/ from the course \"Understanding and Visualizing Data with Python\" by University of Michigan\n"
      ]
    },
    {
      "cell_type": "markdown",
      "metadata": {
        "id": "30s2UXlPYgl4"
      },
      "source": [
        "# Cartwheel data set\n",
        "\n",
        "1. A cartwheel\n",
        "\n",
        "![cartwheel1.png](https://drive.google.com/uc?export=view&id=1h6CbMZX9wtRIbxpREgHSLY5IKTEqq6l6)\n",
        "\n",
        "\n",
        "\n",
        "\n",
        "2. The dataset description\n",
        "    - The dataset used here is an extension from the original cartwheel dataset from cursera\n",
        "    - Total numer of observations: 28\n",
        "    - Many observations/measurements/recordings of the characteristics/attributes/variables of cartwheel executions\n",
        "    - Variables: Age, Gender, GenderGroup, Glasses, GlassesGroup, Height, Wingspan, CWDistance, ... (X variables)\n",
        "    \n"
      ]
    },
    {
      "cell_type": "markdown",
      "metadata": {
        "id": "xmSEe706Ygl5"
      },
      "source": [
        "# Importing and inspecting the data"
      ]
    },
    {
      "cell_type": "code",
      "execution_count": null,
      "metadata": {
        "id": "fyR3iS-uYgl5"
      },
      "outputs": [],
      "source": [
        "# Import the packages that we will be using\n",
        "from sklearn.datasets import load_iris\n",
        "import pandas as pd\n",
        "import seaborn as sns\n",
        "\n",
        "# Load the dataset\n",
        "df = sns.load_dataset('iris')"
      ]
    },
    {
      "cell_type": "code",
      "execution_count": null,
      "metadata": {
        "id": "j614eRL1Ygl6",
        "colab": {
          "base_uri": "https://localhost:8080/"
        },
        "outputId": "42699718-6e30-47f9-d558-1f45f0c4068c"
      },
      "outputs": [
        {
          "output_type": "stream",
          "name": "stdout",
          "text": [
            "     sepal_length  sepal_width  petal_length  petal_width     species\n",
            "0             5.1          3.5           1.4          0.2      setosa\n",
            "1             4.9          3.0           1.4          0.2      setosa\n",
            "2             4.7          3.2           1.3          0.2      setosa\n",
            "3             4.6          3.1           1.5          0.2      setosa\n",
            "4             5.0          3.6           1.4          0.2      setosa\n",
            "5             5.4          3.9           1.7          0.4      setosa\n",
            "6             4.6          3.4           1.4          0.3      setosa\n",
            "7             5.0          3.4           1.5          0.2      setosa\n",
            "8             4.4          2.9           1.4          0.2      setosa\n",
            "9             4.9          3.1           1.5          0.1      setosa\n",
            "10            5.4          3.7           1.5          0.2      setosa\n",
            "11            4.8          3.4           1.6          0.2      setosa\n",
            "12            4.8          3.0           1.4          0.1      setosa\n",
            "13            4.3          3.0           1.1          0.1      setosa\n",
            "14            5.8          4.0           1.2          0.2      setosa\n",
            "15            5.7          4.4           1.5          0.4      setosa\n",
            "16            5.4          3.9           1.3          0.4      setosa\n",
            "17            5.1          3.5           1.4          0.3      setosa\n",
            "18            5.7          3.8           1.7          0.3      setosa\n",
            "19            5.1          3.8           1.5          0.3      setosa\n",
            "20            5.4          3.4           1.7          0.2      setosa\n",
            "21            5.1          3.7           1.5          0.4      setosa\n",
            "22            4.6          3.6           1.0          0.2      setosa\n",
            "23            5.1          3.3           1.7          0.5      setosa\n",
            "24            4.8          3.4           1.9          0.2      setosa\n",
            "25            5.0          3.0           1.6          0.2      setosa\n",
            "26            5.0          3.4           1.6          0.4      setosa\n",
            "27            5.2          3.5           1.5          0.2      setosa\n",
            "28            5.2          3.4           1.4          0.2      setosa\n",
            "29            4.7          3.2           1.6          0.2      setosa\n",
            "30            4.8          3.1           1.6          0.2      setosa\n",
            "31            5.4          3.4           1.5          0.4      setosa\n",
            "32            5.2          4.1           1.5          0.1      setosa\n",
            "33            5.5          4.2           1.4          0.2      setosa\n",
            "34            4.9          3.1           1.5          0.2      setosa\n",
            "35            5.0          3.2           1.2          0.2      setosa\n",
            "36            5.5          3.5           1.3          0.2      setosa\n",
            "37            4.9          3.6           1.4          0.1      setosa\n",
            "38            4.4          3.0           1.3          0.2      setosa\n",
            "39            5.1          3.4           1.5          0.2      setosa\n",
            "40            5.0          3.5           1.3          0.3      setosa\n",
            "41            4.5          2.3           1.3          0.3      setosa\n",
            "42            4.4          3.2           1.3          0.2      setosa\n",
            "43            5.0          3.5           1.6          0.6      setosa\n",
            "44            5.1          3.8           1.9          0.4      setosa\n",
            "45            4.8          3.0           1.4          0.3      setosa\n",
            "46            5.1          3.8           1.6          0.2      setosa\n",
            "47            4.6          3.2           1.4          0.2      setosa\n",
            "48            5.3          3.7           1.5          0.2      setosa\n",
            "49            5.0          3.3           1.4          0.2      setosa\n",
            "50            7.0          3.2           4.7          1.4  versicolor\n",
            "51            6.4          3.2           4.5          1.5  versicolor\n",
            "52            6.9          3.1           4.9          1.5  versicolor\n",
            "53            5.5          2.3           4.0          1.3  versicolor\n",
            "54            6.5          2.8           4.6          1.5  versicolor\n",
            "55            5.7          2.8           4.5          1.3  versicolor\n",
            "56            6.3          3.3           4.7          1.6  versicolor\n",
            "57            4.9          2.4           3.3          1.0  versicolor\n",
            "58            6.6          2.9           4.6          1.3  versicolor\n",
            "59            5.2          2.7           3.9          1.4  versicolor\n",
            "60            5.0          2.0           3.5          1.0  versicolor\n",
            "61            5.9          3.0           4.2          1.5  versicolor\n",
            "62            6.0          2.2           4.0          1.0  versicolor\n",
            "63            6.1          2.9           4.7          1.4  versicolor\n",
            "64            5.6          2.9           3.6          1.3  versicolor\n",
            "65            6.7          3.1           4.4          1.4  versicolor\n",
            "66            5.6          3.0           4.5          1.5  versicolor\n",
            "67            5.8          2.7           4.1          1.0  versicolor\n",
            "68            6.2          2.2           4.5          1.5  versicolor\n",
            "69            5.6          2.5           3.9          1.1  versicolor\n",
            "70            5.9          3.2           4.8          1.8  versicolor\n",
            "71            6.1          2.8           4.0          1.3  versicolor\n",
            "72            6.3          2.5           4.9          1.5  versicolor\n",
            "73            6.1          2.8           4.7          1.2  versicolor\n",
            "74            6.4          2.9           4.3          1.3  versicolor\n",
            "75            6.6          3.0           4.4          1.4  versicolor\n",
            "76            6.8          2.8           4.8          1.4  versicolor\n",
            "77            6.7          3.0           5.0          1.7  versicolor\n",
            "78            6.0          2.9           4.5          1.5  versicolor\n",
            "79            5.7          2.6           3.5          1.0  versicolor\n",
            "80            5.5          2.4           3.8          1.1  versicolor\n",
            "81            5.5          2.4           3.7          1.0  versicolor\n",
            "82            5.8          2.7           3.9          1.2  versicolor\n",
            "83            6.0          2.7           5.1          1.6  versicolor\n",
            "84            5.4          3.0           4.5          1.5  versicolor\n",
            "85            6.0          3.4           4.5          1.6  versicolor\n",
            "86            6.7          3.1           4.7          1.5  versicolor\n",
            "87            6.3          2.3           4.4          1.3  versicolor\n",
            "88            5.6          3.0           4.1          1.3  versicolor\n",
            "89            5.5          2.5           4.0          1.3  versicolor\n",
            "90            5.5          2.6           4.4          1.2  versicolor\n",
            "91            6.1          3.0           4.6          1.4  versicolor\n",
            "92            5.8          2.6           4.0          1.2  versicolor\n",
            "93            5.0          2.3           3.3          1.0  versicolor\n",
            "94            5.6          2.7           4.2          1.3  versicolor\n",
            "95            5.7          3.0           4.2          1.2  versicolor\n",
            "96            5.7          2.9           4.2          1.3  versicolor\n",
            "97            6.2          2.9           4.3          1.3  versicolor\n",
            "98            5.1          2.5           3.0          1.1  versicolor\n",
            "99            5.7          2.8           4.1          1.3  versicolor\n",
            "100           6.3          3.3           6.0          2.5   virginica\n",
            "101           5.8          2.7           5.1          1.9   virginica\n",
            "102           7.1          3.0           5.9          2.1   virginica\n",
            "103           6.3          2.9           5.6          1.8   virginica\n",
            "104           6.5          3.0           5.8          2.2   virginica\n",
            "105           7.6          3.0           6.6          2.1   virginica\n",
            "106           4.9          2.5           4.5          1.7   virginica\n",
            "107           7.3          2.9           6.3          1.8   virginica\n",
            "108           6.7          2.5           5.8          1.8   virginica\n",
            "109           7.2          3.6           6.1          2.5   virginica\n",
            "110           6.5          3.2           5.1          2.0   virginica\n",
            "111           6.4          2.7           5.3          1.9   virginica\n",
            "112           6.8          3.0           5.5          2.1   virginica\n",
            "113           5.7          2.5           5.0          2.0   virginica\n",
            "114           5.8          2.8           5.1          2.4   virginica\n",
            "115           6.4          3.2           5.3          2.3   virginica\n",
            "116           6.5          3.0           5.5          1.8   virginica\n",
            "117           7.7          3.8           6.7          2.2   virginica\n",
            "118           7.7          2.6           6.9          2.3   virginica\n",
            "119           6.0          2.2           5.0          1.5   virginica\n",
            "120           6.9          3.2           5.7          2.3   virginica\n",
            "121           5.6          2.8           4.9          2.0   virginica\n",
            "122           7.7          2.8           6.7          2.0   virginica\n",
            "123           6.3          2.7           4.9          1.8   virginica\n",
            "124           6.7          3.3           5.7          2.1   virginica\n",
            "125           7.2          3.2           6.0          1.8   virginica\n",
            "126           6.2          2.8           4.8          1.8   virginica\n",
            "127           6.1          3.0           4.9          1.8   virginica\n",
            "128           6.4          2.8           5.6          2.1   virginica\n",
            "129           7.2          3.0           5.8          1.6   virginica\n",
            "130           7.4          2.8           6.1          1.9   virginica\n",
            "131           7.9          3.8           6.4          2.0   virginica\n",
            "132           6.4          2.8           5.6          2.2   virginica\n",
            "133           6.3          2.8           5.1          1.5   virginica\n",
            "134           6.1          2.6           5.6          1.4   virginica\n",
            "135           7.7          3.0           6.1          2.3   virginica\n",
            "136           6.3          3.4           5.6          2.4   virginica\n",
            "137           6.4          3.1           5.5          1.8   virginica\n",
            "138           6.0          3.0           4.8          1.8   virginica\n",
            "139           6.9          3.1           5.4          2.1   virginica\n",
            "140           6.7          3.1           5.6          2.4   virginica\n",
            "141           6.9          3.1           5.1          2.3   virginica\n",
            "142           5.8          2.7           5.1          1.9   virginica\n",
            "143           6.8          3.2           5.9          2.3   virginica\n",
            "144           6.7          3.3           5.7          2.5   virginica\n",
            "145           6.7          3.0           5.2          2.3   virginica\n",
            "146           6.3          2.5           5.0          1.9   virginica\n",
            "147           6.5          3.0           5.2          2.0   virginica\n",
            "148           6.2          3.4           5.4          2.3   virginica\n",
            "149           5.9          3.0           5.1          1.8   virginica\n"
          ]
        }
      ],
      "source": [
        "# Print the dataset\n",
        "\n",
        "print(df.to_string())"
      ]
    },
    {
      "cell_type": "code",
      "execution_count": null,
      "metadata": {
        "id": "UHf53273Ygl7",
        "colab": {
          "base_uri": "https://localhost:8080/"
        },
        "outputId": "9c27b98f-03af-4b78-c29c-d82b7fdb5c60"
      },
      "outputs": [
        {
          "output_type": "stream",
          "name": "stdout",
          "text": [
            "La tabla tiene 150 filas\n"
          ]
        }
      ],
      "source": [
        "# Print the number of rows\n",
        "\n",
        "Nrows = df.shape[0]\n",
        "print(\"La tabla tiene \" + str(Nrows) + \" filas\")"
      ]
    },
    {
      "cell_type": "code",
      "execution_count": null,
      "metadata": {
        "id": "oULLxV8eYgl7",
        "colab": {
          "base_uri": "https://localhost:8080/"
        },
        "outputId": "1fdebb32-f831-4841-9908-08cf0d63eae3"
      },
      "outputs": [
        {
          "output_type": "execute_result",
          "data": {
            "text/plain": [
              "4"
            ]
          },
          "metadata": {},
          "execution_count": 4
        }
      ],
      "source": [
        "# Print the number of columns\n",
        "\n",
        "df.shape[1]"
      ]
    },
    {
      "cell_type": "markdown",
      "source": [
        "# Data types"
      ],
      "metadata": {
        "id": "Ucha2CMGuF8A"
      }
    },
    {
      "cell_type": "code",
      "source": [
        "df.dtypes"
      ],
      "metadata": {
        "id": "xOA1m-EVuMxz",
        "colab": {
          "base_uri": "https://localhost:8080/",
          "height": 210
        },
        "outputId": "467a108d-c463-4114-9d8b-8412756337b7"
      },
      "execution_count": null,
      "outputs": [
        {
          "output_type": "execute_result",
          "data": {
            "text/plain": [
              "sepal length (cm)    float64\n",
              "sepal width (cm)     float64\n",
              "petal length (cm)    float64\n",
              "petal width (cm)     float64\n",
              "dtype: object"
            ],
            "text/html": [
              "<div>\n",
              "<style scoped>\n",
              "    .dataframe tbody tr th:only-of-type {\n",
              "        vertical-align: middle;\n",
              "    }\n",
              "\n",
              "    .dataframe tbody tr th {\n",
              "        vertical-align: top;\n",
              "    }\n",
              "\n",
              "    .dataframe thead th {\n",
              "        text-align: right;\n",
              "    }\n",
              "</style>\n",
              "<table border=\"1\" class=\"dataframe\">\n",
              "  <thead>\n",
              "    <tr style=\"text-align: right;\">\n",
              "      <th></th>\n",
              "      <th>0</th>\n",
              "    </tr>\n",
              "  </thead>\n",
              "  <tbody>\n",
              "    <tr>\n",
              "      <th>sepal length (cm)</th>\n",
              "      <td>float64</td>\n",
              "    </tr>\n",
              "    <tr>\n",
              "      <th>sepal width (cm)</th>\n",
              "      <td>float64</td>\n",
              "    </tr>\n",
              "    <tr>\n",
              "      <th>petal length (cm)</th>\n",
              "      <td>float64</td>\n",
              "    </tr>\n",
              "    <tr>\n",
              "      <th>petal width (cm)</th>\n",
              "      <td>float64</td>\n",
              "    </tr>\n",
              "  </tbody>\n",
              "</table>\n",
              "</div><br><label><b>dtype:</b> object</label>"
            ]
          },
          "metadata": {},
          "execution_count": 9
        }
      ]
    },
    {
      "cell_type": "markdown",
      "metadata": {
        "id": "wQIcyogKYgl8"
      },
      "source": [
        "# Activity: work with the iris dataset\n",
        "\n",
        "1. Load the iris.csv file in your computer and understand the dataset\n",
        "\n",
        "\n",
        "2. How many observations (rows) are in total?\n",
        "\n",
        "\n",
        "3. How many variables (columns) are in total? What do they represent?\n",
        "\n",
        "\n",
        "4. How many observations are for each type of flower?\n",
        "\n",
        "\n",
        "5. What is the type of data for each variable?\n",
        "\n",
        "\n",
        "6. What are the units of each variable?\n"
      ]
    },
    {
      "cell_type": "code",
      "execution_count": 3,
      "metadata": {
        "id": "fTHj_8jsYgl8"
      },
      "outputs": [],
      "source": [
        "#Todo esta echo arriba en la actividad"
      ]
    }
  ],
  "metadata": {
    "colab": {
      "provenance": []
    },
    "kernelspec": {
      "display_name": "Python 3",
      "language": "python",
      "name": "python3"
    },
    "language_info": {
      "codemirror_mode": {
        "name": "ipython",
        "version": 3
      },
      "file_extension": ".py",
      "mimetype": "text/x-python",
      "name": "python",
      "nbconvert_exporter": "python",
      "pygments_lexer": "ipython3",
      "version": "3.8.3"
    }
  },
  "nbformat": 4,
  "nbformat_minor": 0
}