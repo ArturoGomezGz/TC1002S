{
  "cells": [
    {
      "cell_type": "markdown",
      "metadata": {
        "id": "q3D8hjrMc10D"
      },
      "source": [
        "# TC1002S Herramientas computacionales: el arte de la analítica\n",
        "\n",
        "This is a notebook with all your work for the final evidence of this course\n",
        "\n",
        "\n",
        "# Niveles de dominio a demostrar con la evidencia\n",
        "\n",
        "### SING0202A\n",
        "\n",
        "Interpreta interacciones entre variables relevantes en un problema, como base para la construcción de modelos bivariados basados en datos de un fenómeno investigado que le permita reproducir la respuesta del mismo. Es capaz de construir modelos bivariados que expliquen el comportamiento de un fenómeno.\n",
        "\n",
        "\n",
        "# Student information\n",
        "\n",
        "- Name: Jesus Enrique Bañales Lopez\n",
        "\n",
        "- ID: A01642425\n",
        "\n",
        "- My carreer: ITC\n"
      ]
    },
    {
      "cell_type": "code",
      "source": [
        "# Define where you are running the code: colab or local\n",
        "RunInColab          = True     # (False: no  | True: yes)\n",
        "\n",
        "# If running in colab:\n",
        "if RunInColab:\n",
        "    # Mount your google drive in google colab\n",
        "    from google.colab import drive\n",
        "    drive.mount('/content/drive')\n",
        "\n",
        "    # Find location\n",
        "    #!pwd\n",
        "    #!ls\n",
        "    #!ls \"/content/drive/My Drive/Colab Notebooks/MachineLearningWithPython/\"\n",
        "\n",
        "    # Define path del proyecto\n",
        "    Ruta            = \"/content/drive/My Drive/Tec/Github/T1002S/\"\n",
        "\n",
        "else:\n",
        "    # Define path del proyecto\n",
        "    Ruta            = \"\""
      ],
      "metadata": {
        "colab": {
          "base_uri": "https://localhost:8080/"
        },
        "id": "4wcW7L5Y7fCY",
        "outputId": "b12782d7-8496-4d1d-b943-4c40b5a0ce75"
      },
      "execution_count": null,
      "outputs": [
        {
          "output_type": "stream",
          "name": "stdout",
          "text": [
            "Drive already mounted at /content/drive; to attempt to forcibly remount, call drive.mount(\"/content/drive\", force_remount=True).\n"
          ]
        }
      ]
    },
    {
      "cell_type": "markdown",
      "metadata": {
        "id": "jS0YQgZgc10F"
      },
      "source": [
        "# Importing libraries"
      ]
    },
    {
      "cell_type": "code",
      "execution_count": null,
      "metadata": {
        "id": "g0rH4jO5c10G",
        "colab": {
          "base_uri": "https://localhost:8080/"
        },
        "outputId": "742553aa-bb08-446a-bb6b-74e086a8c558"
      },
      "outputs": [
        {
          "output_type": "stream",
          "name": "stdout",
          "text": [
            "Requirement already satisfied: scikit-learn in /usr/local/lib/python3.10/dist-packages (1.3.2)\n",
            "Requirement already satisfied: numpy<2.0,>=1.17.3 in /usr/local/lib/python3.10/dist-packages (from scikit-learn) (1.26.4)\n",
            "Requirement already satisfied: scipy>=1.5.0 in /usr/local/lib/python3.10/dist-packages (from scikit-learn) (1.13.1)\n",
            "Requirement already satisfied: joblib>=1.1.1 in /usr/local/lib/python3.10/dist-packages (from scikit-learn) (1.4.2)\n",
            "Requirement already satisfied: threadpoolctl>=2.0.0 in /usr/local/lib/python3.10/dist-packages (from scikit-learn) (3.5.0)\n"
          ]
        }
      ],
      "source": [
        "!pip install scikit-learn\n",
        "from sklearn.datasets import load_digits\n",
        "import matplotlib.pyplot as plt\n",
        "import numpy as np\n",
        "import pandas as pd\n",
        "import seaborn as sns\n",
        "from sklearn.preprocessing import StandardScaler\n",
        "from sklearn.cluster import KMeans\n",
        "from sklearn.decomposition import PCA\n",
        "\n",
        "\n",
        "# Dataset url\n",
        "url = \"datasets/A01642425_X.csv\"\n"
      ]
    },
    {
      "cell_type": "markdown",
      "metadata": {
        "id": "k2WPUJ3Qc10H"
      },
      "source": [
        "# PART 1\n",
        "# Use your assigned dataset"
      ]
    },
    {
      "cell_type": "markdown",
      "metadata": {
        "id": "UAuo89JOc10H"
      },
      "source": [
        "## A1 Load data"
      ]
    },
    {
      "cell_type": "code",
      "execution_count": null,
      "metadata": {
        "id": "buevIRTwc10H",
        "colab": {
          "base_uri": "https://localhost:8080/"
        },
        "outputId": "b324a3df-4033-4d6b-f729-371c3c7a8b2c"
      },
      "outputs": [
        {
          "output_type": "stream",
          "name": "stdout",
          "text": [
            "     Unnamed: 0         x1         x2        x3         x4        x5  \\\n",
            "0             0  -1.051905  -7.999881 -9.467118  -0.900733 -3.840897   \n",
            "1             1   5.902625 -14.084676  0.663125   2.733353 -5.648640   \n",
            "2             2  -7.147726   5.619355  5.113652   8.213781  2.480953   \n",
            "3             3  -8.345437   5.372187  4.406503   7.482344  4.190394   \n",
            "4             4   0.704391  -6.933153 -9.745049  -1.041233 -8.220819   \n",
            "..          ...        ...        ...       ...        ...       ...   \n",
            "476         476   1.536243  -6.066398 -3.970566  -0.081445 -6.088958   \n",
            "477         477   9.379051  -1.416246 -3.201503   6.187198 -7.999612   \n",
            "478         478 -12.683785   6.103051  6.931862   8.489326  3.855403   \n",
            "479         479  -8.850657   4.706808  7.715981  11.183193  1.881214   \n",
            "480         480   2.570535 -10.889683  1.739691   1.696252 -5.678159   \n",
            "\n",
            "            x6        x7         x8         x9       x10       x11       x12  \\\n",
            "0     8.080741  5.140159 -11.337278   8.276625 -7.522866  4.469972 -9.079951   \n",
            "1    -5.647684 -0.677785  -9.786956   3.927886  5.656088 -8.418144 -3.288064   \n",
            "2     3.085741  6.069484   6.209231   3.458598 -6.122084 -8.072592 -3.878183   \n",
            "3     4.321004  4.059258   1.885037   6.260659 -7.114472 -8.117972  1.901785   \n",
            "4    10.931214  4.976250 -10.189113   6.436579 -9.573936  2.231252 -7.102042   \n",
            "..         ...       ...        ...        ...       ...       ...       ...   \n",
            "476   6.379242  5.831610 -10.450690   6.758335 -4.945940  1.558836 -8.992083   \n",
            "477   6.747810  3.048613  -9.179372 -12.013205  7.089893 -9.980314 -1.395680   \n",
            "478   3.194536  3.936883   5.307070   7.217677 -5.881176 -4.580748  3.972979   \n",
            "479   2.312730  5.515655  10.257229   3.668479 -6.477906 -7.155854 -5.021913   \n",
            "480  -5.144861  2.040678 -10.200741   5.041139  2.869594 -9.337555 -2.216474   \n",
            "\n",
            "           x13       x14  \n",
            "0    -7.128195  5.777095  \n",
            "1     5.657584 -7.178299  \n",
            "2   -10.553453  5.429533  \n",
            "3    -8.928776  5.546708  \n",
            "4    -7.724712  5.398054  \n",
            "..         ...       ...  \n",
            "476  -2.638855  6.377291  \n",
            "477  -1.377889 -1.506052  \n",
            "478 -11.269575  8.588262  \n",
            "479  -8.919131  8.226655  \n",
            "480   8.698844 -4.361505  \n",
            "\n",
            "[481 rows x 15 columns]\n"
          ]
        }
      ],
      "source": [
        "\n",
        "# Load the dataset\n",
        "df = pd.read_csv(Ruta + url)\n",
        "print(df)\n"
      ]
    },
    {
      "cell_type": "markdown",
      "metadata": {
        "id": "ML3KFQIUc10H"
      },
      "source": [
        "## A2 Data managment\n"
      ]
    },
    {
      "cell_type": "markdown",
      "metadata": {
        "id": "leWzb7y0c10H"
      },
      "source": [
        "Print the first 7 rows"
      ]
    },
    {
      "cell_type": "code",
      "execution_count": null,
      "metadata": {
        "id": "cpkGC0h2c10H",
        "colab": {
          "base_uri": "https://localhost:8080/"
        },
        "outputId": "c3fbd567-4d29-41c2-85a6-ad9581b693b1"
      },
      "outputs": [
        {
          "output_type": "stream",
          "name": "stdout",
          "text": [
            "   Unnamed: 0        x1         x2        x3        x4        x5         x6  \\\n",
            "0           0 -1.051905  -7.999881 -9.467118 -0.900733 -3.840897   8.080741   \n",
            "1           1  5.902625 -14.084676  0.663125  2.733353 -5.648640  -5.647684   \n",
            "2           2 -7.147726   5.619355  5.113652  8.213781  2.480953   3.085741   \n",
            "3           3 -8.345437   5.372187  4.406503  7.482344  4.190394   4.321004   \n",
            "4           4  0.704391  -6.933153 -9.745049 -1.041233 -8.220819  10.931214   \n",
            "5           5 -9.625960   5.916161  7.538292  7.493733  1.748293   7.439330   \n",
            "6           6  8.523270   3.489931 -6.549249  3.218658 -8.272021   3.856530   \n",
            "\n",
            "         x7         x8        x9        x10        x11       x12        x13  \\\n",
            "0  5.140159 -11.337278  8.276625  -7.522866   4.469972 -9.079951  -7.128195   \n",
            "1 -0.677785  -9.786956  3.927886   5.656088  -8.418144 -3.288064   5.657584   \n",
            "2  6.069484   6.209231  3.458598  -6.122084  -8.072592 -3.878183 -10.553453   \n",
            "3  4.059258   1.885037  6.260659  -7.114472  -8.117972  1.901785  -8.928776   \n",
            "4  4.976250 -10.189113  6.436579  -9.573936   2.231252 -7.102042  -7.724712   \n",
            "5  1.032095   4.508171 -0.501260  -6.628503  -9.176575 -2.301342  -9.237256   \n",
            "6  5.735170  -9.606544 -8.383207  10.423239 -11.198146 -1.435208   0.241476   \n",
            "\n",
            "        x14  \n",
            "0  5.777095  \n",
            "1 -7.178299  \n",
            "2  5.429533  \n",
            "3  5.546708  \n",
            "4  5.398054  \n",
            "5  6.306797  \n",
            "6 -2.524888  \n"
          ]
        }
      ],
      "source": [
        "print(df.head(7))"
      ]
    },
    {
      "cell_type": "markdown",
      "metadata": {
        "id": "zL5vuF_Zc10H"
      },
      "source": [
        "Print the last 4 rows"
      ]
    },
    {
      "cell_type": "code",
      "execution_count": null,
      "metadata": {
        "id": "_ZKg65eIc10H",
        "colab": {
          "base_uri": "https://localhost:8080/"
        },
        "outputId": "6aa94f20-1533-4aaa-983f-3136074ecf05"
      },
      "outputs": [
        {
          "output_type": "stream",
          "name": "stdout",
          "text": [
            "     Unnamed: 0         x1         x2        x3         x4        x5  \\\n",
            "477         477   9.379051  -1.416246 -3.201503   6.187198 -7.999612   \n",
            "478         478 -12.683785   6.103051  6.931862   8.489326  3.855403   \n",
            "479         479  -8.850657   4.706808  7.715981  11.183193  1.881214   \n",
            "480         480   2.570535 -10.889683  1.739691   1.696252 -5.678159   \n",
            "\n",
            "           x6        x7         x8         x9       x10       x11       x12  \\\n",
            "477  6.747810  3.048613  -9.179372 -12.013205  7.089893 -9.980314 -1.395680   \n",
            "478  3.194536  3.936883   5.307070   7.217677 -5.881176 -4.580748  3.972979   \n",
            "479  2.312730  5.515655  10.257229   3.668479 -6.477906 -7.155854 -5.021913   \n",
            "480 -5.144861  2.040678 -10.200741   5.041139  2.869594 -9.337555 -2.216474   \n",
            "\n",
            "           x13       x14  \n",
            "477  -1.377889 -1.506052  \n",
            "478 -11.269575  8.588262  \n",
            "479  -8.919131  8.226655  \n",
            "480   8.698844 -4.361505  \n"
          ]
        }
      ],
      "source": [
        "print(df.tail(4))"
      ]
    },
    {
      "cell_type": "markdown",
      "metadata": {
        "id": "A5VQn2Jec10I"
      },
      "source": [
        "How many rows and columns are in your data?\n",
        "\n",
        "Use the `shape` method\n"
      ]
    },
    {
      "cell_type": "code",
      "execution_count": null,
      "metadata": {
        "id": "NZDEiAL-c10I",
        "colab": {
          "base_uri": "https://localhost:8080/"
        },
        "outputId": "553dc237-46da-4fd2-fb4e-aa08a5f88dd6"
      },
      "outputs": [
        {
          "output_type": "execute_result",
          "data": {
            "text/plain": [
              "(481, 15)"
            ]
          },
          "metadata": {},
          "execution_count": 21
        }
      ],
      "source": [
        "df.shape"
      ]
    },
    {
      "cell_type": "markdown",
      "metadata": {
        "id": "EtjQki62c10I"
      },
      "source": [
        "Print the name of all columns\n",
        "\n",
        "Use the `columns` method"
      ]
    },
    {
      "cell_type": "code",
      "execution_count": null,
      "metadata": {
        "id": "zgRdg5smc10I",
        "colab": {
          "base_uri": "https://localhost:8080/"
        },
        "outputId": "41bfc6f3-a640-41c4-91b8-1870fc9c615b"
      },
      "outputs": [
        {
          "output_type": "execute_result",
          "data": {
            "text/plain": [
              "Index(['Unnamed: 0', 'x1', 'x2', 'x3', 'x4', 'x5', 'x6', 'x7', 'x8', 'x9',\n",
              "       'x10', 'x11', 'x12', 'x13', 'x14'],\n",
              "      dtype='object')"
            ]
          },
          "metadata": {},
          "execution_count": 22
        }
      ],
      "source": [
        "df.columns"
      ]
    },
    {
      "cell_type": "markdown",
      "metadata": {
        "id": "ERLu1TUNc10I"
      },
      "source": [
        "What is the data type in each column\n",
        "\n",
        "Use the `dtypes` method"
      ]
    },
    {
      "cell_type": "code",
      "execution_count": null,
      "metadata": {
        "id": "iYWYwlZqc10J",
        "colab": {
          "base_uri": "https://localhost:8080/",
          "height": 554
        },
        "outputId": "f1b6f79a-4570-42bf-b3ae-26e0aa50a7c3"
      },
      "outputs": [
        {
          "output_type": "execute_result",
          "data": {
            "text/plain": [
              "Unnamed: 0      int64\n",
              "x1            float64\n",
              "x2            float64\n",
              "x3            float64\n",
              "x4            float64\n",
              "x5            float64\n",
              "x6            float64\n",
              "x7            float64\n",
              "x8            float64\n",
              "x9            float64\n",
              "x10           float64\n",
              "x11           float64\n",
              "x12           float64\n",
              "x13           float64\n",
              "x14           float64\n",
              "dtype: object"
            ],
            "text/html": [
              "<div>\n",
              "<style scoped>\n",
              "    .dataframe tbody tr th:only-of-type {\n",
              "        vertical-align: middle;\n",
              "    }\n",
              "\n",
              "    .dataframe tbody tr th {\n",
              "        vertical-align: top;\n",
              "    }\n",
              "\n",
              "    .dataframe thead th {\n",
              "        text-align: right;\n",
              "    }\n",
              "</style>\n",
              "<table border=\"1\" class=\"dataframe\">\n",
              "  <thead>\n",
              "    <tr style=\"text-align: right;\">\n",
              "      <th></th>\n",
              "      <th>0</th>\n",
              "    </tr>\n",
              "  </thead>\n",
              "  <tbody>\n",
              "    <tr>\n",
              "      <th>Unnamed: 0</th>\n",
              "      <td>int64</td>\n",
              "    </tr>\n",
              "    <tr>\n",
              "      <th>x1</th>\n",
              "      <td>float64</td>\n",
              "    </tr>\n",
              "    <tr>\n",
              "      <th>x2</th>\n",
              "      <td>float64</td>\n",
              "    </tr>\n",
              "    <tr>\n",
              "      <th>x3</th>\n",
              "      <td>float64</td>\n",
              "    </tr>\n",
              "    <tr>\n",
              "      <th>x4</th>\n",
              "      <td>float64</td>\n",
              "    </tr>\n",
              "    <tr>\n",
              "      <th>x5</th>\n",
              "      <td>float64</td>\n",
              "    </tr>\n",
              "    <tr>\n",
              "      <th>x6</th>\n",
              "      <td>float64</td>\n",
              "    </tr>\n",
              "    <tr>\n",
              "      <th>x7</th>\n",
              "      <td>float64</td>\n",
              "    </tr>\n",
              "    <tr>\n",
              "      <th>x8</th>\n",
              "      <td>float64</td>\n",
              "    </tr>\n",
              "    <tr>\n",
              "      <th>x9</th>\n",
              "      <td>float64</td>\n",
              "    </tr>\n",
              "    <tr>\n",
              "      <th>x10</th>\n",
              "      <td>float64</td>\n",
              "    </tr>\n",
              "    <tr>\n",
              "      <th>x11</th>\n",
              "      <td>float64</td>\n",
              "    </tr>\n",
              "    <tr>\n",
              "      <th>x12</th>\n",
              "      <td>float64</td>\n",
              "    </tr>\n",
              "    <tr>\n",
              "      <th>x13</th>\n",
              "      <td>float64</td>\n",
              "    </tr>\n",
              "    <tr>\n",
              "      <th>x14</th>\n",
              "      <td>float64</td>\n",
              "    </tr>\n",
              "  </tbody>\n",
              "</table>\n",
              "</div><br><label><b>dtype:</b> object</label>"
            ]
          },
          "metadata": {},
          "execution_count": 23
        }
      ],
      "source": [
        "df.dtypes\n"
      ]
    },
    {
      "cell_type": "markdown",
      "metadata": {
        "id": "n78EC_wic10J"
      },
      "source": [
        "What is the meaning of rows and columns?"
      ]
    },
    {
      "cell_type": "code",
      "execution_count": null,
      "metadata": {
        "id": "TgB2ICchc10J"
      },
      "outputs": [],
      "source": [
        "# Your responses here\n",
        "#No puedo encontrar una logica al dataset, son numeros aparentemente sin sentido, sin nombres de columnas ademas de xN no se podria interpretar su significado\n",
        "\n",
        "# 1) en renglon 0 muestra el primer renglon pues comienza a contar desde el 0\n",
        "\n",
        "# 2) la columna 1 muestra la primera columna y asi sigue la sucesion (aunque esta la columna 0 que esta para contar los renglones)\n",
        "\n",
        "# 3)\n",
        "\n",
        "#..."
      ]
    },
    {
      "cell_type": "markdown",
      "metadata": {
        "id": "chh9y4jRc10J"
      },
      "source": [
        "Print a statistical summary of your columns\n"
      ]
    },
    {
      "cell_type": "code",
      "execution_count": null,
      "metadata": {
        "id": "CYXHbClkc10J",
        "colab": {
          "base_uri": "https://localhost:8080/",
          "height": 300
        },
        "outputId": "b9680449-2887-46bc-d0a5-a0029834d2fa"
      },
      "outputs": [
        {
          "output_type": "execute_result",
          "data": {
            "text/plain": [
              "       Unnamed: 0          x1          x2          x3          x4          x5  \\\n",
              "count  481.000000  481.000000  481.000000  481.000000  481.000000  481.000000   \n",
              "mean   240.000000    1.371571   -2.900871   -1.383922    3.832709   -3.896116   \n",
              "std    138.997002    6.886845    6.653108    5.391469    3.582576    4.487454   \n",
              "min      0.000000  -13.270730  -15.097309  -10.509461   -6.393520  -13.445579   \n",
              "25%    120.000000   -3.635259   -8.742358   -5.886115    0.978562   -6.966462   \n",
              "50%    240.000000    2.875384   -3.860118   -2.031916    4.157024   -5.271456   \n",
              "75%    360.000000    6.596299    3.489931    2.915710    6.465878   -0.828886   \n",
              "max    480.000000   14.344313   12.351811   10.806518   12.759512    7.746923   \n",
              "\n",
              "               x6          x7          x8          x9         x10         x11  \\\n",
              "count  481.000000  481.000000  481.000000  481.000000  481.000000  481.000000   \n",
              "mean     4.219898    3.953505   -5.358948    1.330692   -1.263872   -5.912239   \n",
              "std      4.957284    3.445030    6.610707    5.787271    7.155478    5.069067   \n",
              "min     -7.428986   -5.257188  -14.973401  -13.574081  -13.792772  -14.261260   \n",
              "25%      0.836181    1.704813   -9.969806   -1.196202   -7.737919   -9.557391   \n",
              "50%      5.769461    4.712753   -7.983568    3.435456   -1.707808   -7.576043   \n",
              "75%      8.031925    6.441302   -3.052379    5.338017    5.228020   -2.940931   \n",
              "max     13.362071   11.319182   10.454174   11.233955   12.838834    6.196792   \n",
              "\n",
              "              x12         x13         x14  \n",
              "count  481.000000  481.000000  481.000000  \n",
              "mean    -3.633784   -1.343722    1.359758  \n",
              "std      2.568621    6.923531    6.505626  \n",
              "min     -9.845114  -12.786537  -12.938027  \n",
              "25%     -5.339030   -7.445579   -3.944822  \n",
              "50%     -3.598726   -2.984441    1.716211  \n",
              "75%     -1.902262    4.954913    7.209730  \n",
              "max      4.005848   13.182102   13.309197  "
            ],
            "text/html": [
              "\n",
              "  <div id=\"df-64a58427-c394-4519-adf0-ad9037a05553\" class=\"colab-df-container\">\n",
              "    <div>\n",
              "<style scoped>\n",
              "    .dataframe tbody tr th:only-of-type {\n",
              "        vertical-align: middle;\n",
              "    }\n",
              "\n",
              "    .dataframe tbody tr th {\n",
              "        vertical-align: top;\n",
              "    }\n",
              "\n",
              "    .dataframe thead th {\n",
              "        text-align: right;\n",
              "    }\n",
              "</style>\n",
              "<table border=\"1\" class=\"dataframe\">\n",
              "  <thead>\n",
              "    <tr style=\"text-align: right;\">\n",
              "      <th></th>\n",
              "      <th>Unnamed: 0</th>\n",
              "      <th>x1</th>\n",
              "      <th>x2</th>\n",
              "      <th>x3</th>\n",
              "      <th>x4</th>\n",
              "      <th>x5</th>\n",
              "      <th>x6</th>\n",
              "      <th>x7</th>\n",
              "      <th>x8</th>\n",
              "      <th>x9</th>\n",
              "      <th>x10</th>\n",
              "      <th>x11</th>\n",
              "      <th>x12</th>\n",
              "      <th>x13</th>\n",
              "      <th>x14</th>\n",
              "    </tr>\n",
              "  </thead>\n",
              "  <tbody>\n",
              "    <tr>\n",
              "      <th>count</th>\n",
              "      <td>481.000000</td>\n",
              "      <td>481.000000</td>\n",
              "      <td>481.000000</td>\n",
              "      <td>481.000000</td>\n",
              "      <td>481.000000</td>\n",
              "      <td>481.000000</td>\n",
              "      <td>481.000000</td>\n",
              "      <td>481.000000</td>\n",
              "      <td>481.000000</td>\n",
              "      <td>481.000000</td>\n",
              "      <td>481.000000</td>\n",
              "      <td>481.000000</td>\n",
              "      <td>481.000000</td>\n",
              "      <td>481.000000</td>\n",
              "      <td>481.000000</td>\n",
              "    </tr>\n",
              "    <tr>\n",
              "      <th>mean</th>\n",
              "      <td>240.000000</td>\n",
              "      <td>1.371571</td>\n",
              "      <td>-2.900871</td>\n",
              "      <td>-1.383922</td>\n",
              "      <td>3.832709</td>\n",
              "      <td>-3.896116</td>\n",
              "      <td>4.219898</td>\n",
              "      <td>3.953505</td>\n",
              "      <td>-5.358948</td>\n",
              "      <td>1.330692</td>\n",
              "      <td>-1.263872</td>\n",
              "      <td>-5.912239</td>\n",
              "      <td>-3.633784</td>\n",
              "      <td>-1.343722</td>\n",
              "      <td>1.359758</td>\n",
              "    </tr>\n",
              "    <tr>\n",
              "      <th>std</th>\n",
              "      <td>138.997002</td>\n",
              "      <td>6.886845</td>\n",
              "      <td>6.653108</td>\n",
              "      <td>5.391469</td>\n",
              "      <td>3.582576</td>\n",
              "      <td>4.487454</td>\n",
              "      <td>4.957284</td>\n",
              "      <td>3.445030</td>\n",
              "      <td>6.610707</td>\n",
              "      <td>5.787271</td>\n",
              "      <td>7.155478</td>\n",
              "      <td>5.069067</td>\n",
              "      <td>2.568621</td>\n",
              "      <td>6.923531</td>\n",
              "      <td>6.505626</td>\n",
              "    </tr>\n",
              "    <tr>\n",
              "      <th>min</th>\n",
              "      <td>0.000000</td>\n",
              "      <td>-13.270730</td>\n",
              "      <td>-15.097309</td>\n",
              "      <td>-10.509461</td>\n",
              "      <td>-6.393520</td>\n",
              "      <td>-13.445579</td>\n",
              "      <td>-7.428986</td>\n",
              "      <td>-5.257188</td>\n",
              "      <td>-14.973401</td>\n",
              "      <td>-13.574081</td>\n",
              "      <td>-13.792772</td>\n",
              "      <td>-14.261260</td>\n",
              "      <td>-9.845114</td>\n",
              "      <td>-12.786537</td>\n",
              "      <td>-12.938027</td>\n",
              "    </tr>\n",
              "    <tr>\n",
              "      <th>25%</th>\n",
              "      <td>120.000000</td>\n",
              "      <td>-3.635259</td>\n",
              "      <td>-8.742358</td>\n",
              "      <td>-5.886115</td>\n",
              "      <td>0.978562</td>\n",
              "      <td>-6.966462</td>\n",
              "      <td>0.836181</td>\n",
              "      <td>1.704813</td>\n",
              "      <td>-9.969806</td>\n",
              "      <td>-1.196202</td>\n",
              "      <td>-7.737919</td>\n",
              "      <td>-9.557391</td>\n",
              "      <td>-5.339030</td>\n",
              "      <td>-7.445579</td>\n",
              "      <td>-3.944822</td>\n",
              "    </tr>\n",
              "    <tr>\n",
              "      <th>50%</th>\n",
              "      <td>240.000000</td>\n",
              "      <td>2.875384</td>\n",
              "      <td>-3.860118</td>\n",
              "      <td>-2.031916</td>\n",
              "      <td>4.157024</td>\n",
              "      <td>-5.271456</td>\n",
              "      <td>5.769461</td>\n",
              "      <td>4.712753</td>\n",
              "      <td>-7.983568</td>\n",
              "      <td>3.435456</td>\n",
              "      <td>-1.707808</td>\n",
              "      <td>-7.576043</td>\n",
              "      <td>-3.598726</td>\n",
              "      <td>-2.984441</td>\n",
              "      <td>1.716211</td>\n",
              "    </tr>\n",
              "    <tr>\n",
              "      <th>75%</th>\n",
              "      <td>360.000000</td>\n",
              "      <td>6.596299</td>\n",
              "      <td>3.489931</td>\n",
              "      <td>2.915710</td>\n",
              "      <td>6.465878</td>\n",
              "      <td>-0.828886</td>\n",
              "      <td>8.031925</td>\n",
              "      <td>6.441302</td>\n",
              "      <td>-3.052379</td>\n",
              "      <td>5.338017</td>\n",
              "      <td>5.228020</td>\n",
              "      <td>-2.940931</td>\n",
              "      <td>-1.902262</td>\n",
              "      <td>4.954913</td>\n",
              "      <td>7.209730</td>\n",
              "    </tr>\n",
              "    <tr>\n",
              "      <th>max</th>\n",
              "      <td>480.000000</td>\n",
              "      <td>14.344313</td>\n",
              "      <td>12.351811</td>\n",
              "      <td>10.806518</td>\n",
              "      <td>12.759512</td>\n",
              "      <td>7.746923</td>\n",
              "      <td>13.362071</td>\n",
              "      <td>11.319182</td>\n",
              "      <td>10.454174</td>\n",
              "      <td>11.233955</td>\n",
              "      <td>12.838834</td>\n",
              "      <td>6.196792</td>\n",
              "      <td>4.005848</td>\n",
              "      <td>13.182102</td>\n",
              "      <td>13.309197</td>\n",
              "    </tr>\n",
              "  </tbody>\n",
              "</table>\n",
              "</div>\n",
              "    <div class=\"colab-df-buttons\">\n",
              "\n",
              "  <div class=\"colab-df-container\">\n",
              "    <button class=\"colab-df-convert\" onclick=\"convertToInteractive('df-64a58427-c394-4519-adf0-ad9037a05553')\"\n",
              "            title=\"Convert this dataframe to an interactive table.\"\n",
              "            style=\"display:none;\">\n",
              "\n",
              "  <svg xmlns=\"http://www.w3.org/2000/svg\" height=\"24px\" viewBox=\"0 -960 960 960\">\n",
              "    <path d=\"M120-120v-720h720v720H120Zm60-500h600v-160H180v160Zm220 220h160v-160H400v160Zm0 220h160v-160H400v160ZM180-400h160v-160H180v160Zm440 0h160v-160H620v160ZM180-180h160v-160H180v160Zm440 0h160v-160H620v160Z\"/>\n",
              "  </svg>\n",
              "    </button>\n",
              "\n",
              "  <style>\n",
              "    .colab-df-container {\n",
              "      display:flex;\n",
              "      gap: 12px;\n",
              "    }\n",
              "\n",
              "    .colab-df-convert {\n",
              "      background-color: #E8F0FE;\n",
              "      border: none;\n",
              "      border-radius: 50%;\n",
              "      cursor: pointer;\n",
              "      display: none;\n",
              "      fill: #1967D2;\n",
              "      height: 32px;\n",
              "      padding: 0 0 0 0;\n",
              "      width: 32px;\n",
              "    }\n",
              "\n",
              "    .colab-df-convert:hover {\n",
              "      background-color: #E2EBFA;\n",
              "      box-shadow: 0px 1px 2px rgba(60, 64, 67, 0.3), 0px 1px 3px 1px rgba(60, 64, 67, 0.15);\n",
              "      fill: #174EA6;\n",
              "    }\n",
              "\n",
              "    .colab-df-buttons div {\n",
              "      margin-bottom: 4px;\n",
              "    }\n",
              "\n",
              "    [theme=dark] .colab-df-convert {\n",
              "      background-color: #3B4455;\n",
              "      fill: #D2E3FC;\n",
              "    }\n",
              "\n",
              "    [theme=dark] .colab-df-convert:hover {\n",
              "      background-color: #434B5C;\n",
              "      box-shadow: 0px 1px 3px 1px rgba(0, 0, 0, 0.15);\n",
              "      filter: drop-shadow(0px 1px 2px rgba(0, 0, 0, 0.3));\n",
              "      fill: #FFFFFF;\n",
              "    }\n",
              "  </style>\n",
              "\n",
              "    <script>\n",
              "      const buttonEl =\n",
              "        document.querySelector('#df-64a58427-c394-4519-adf0-ad9037a05553 button.colab-df-convert');\n",
              "      buttonEl.style.display =\n",
              "        google.colab.kernel.accessAllowed ? 'block' : 'none';\n",
              "\n",
              "      async function convertToInteractive(key) {\n",
              "        const element = document.querySelector('#df-64a58427-c394-4519-adf0-ad9037a05553');\n",
              "        const dataTable =\n",
              "          await google.colab.kernel.invokeFunction('convertToInteractive',\n",
              "                                                    [key], {});\n",
              "        if (!dataTable) return;\n",
              "\n",
              "        const docLinkHtml = 'Like what you see? Visit the ' +\n",
              "          '<a target=\"_blank\" href=https://colab.research.google.com/notebooks/data_table.ipynb>data table notebook</a>'\n",
              "          + ' to learn more about interactive tables.';\n",
              "        element.innerHTML = '';\n",
              "        dataTable['output_type'] = 'display_data';\n",
              "        await google.colab.output.renderOutput(dataTable, element);\n",
              "        const docLink = document.createElement('div');\n",
              "        docLink.innerHTML = docLinkHtml;\n",
              "        element.appendChild(docLink);\n",
              "      }\n",
              "    </script>\n",
              "  </div>\n",
              "\n",
              "\n",
              "<div id=\"df-240e8387-7cd0-4f34-8d2e-975faeb6d39e\">\n",
              "  <button class=\"colab-df-quickchart\" onclick=\"quickchart('df-240e8387-7cd0-4f34-8d2e-975faeb6d39e')\"\n",
              "            title=\"Suggest charts\"\n",
              "            style=\"display:none;\">\n",
              "\n",
              "<svg xmlns=\"http://www.w3.org/2000/svg\" height=\"24px\"viewBox=\"0 0 24 24\"\n",
              "     width=\"24px\">\n",
              "    <g>\n",
              "        <path d=\"M19 3H5c-1.1 0-2 .9-2 2v14c0 1.1.9 2 2 2h14c1.1 0 2-.9 2-2V5c0-1.1-.9-2-2-2zM9 17H7v-7h2v7zm4 0h-2V7h2v10zm4 0h-2v-4h2v4z\"/>\n",
              "    </g>\n",
              "</svg>\n",
              "  </button>\n",
              "\n",
              "<style>\n",
              "  .colab-df-quickchart {\n",
              "      --bg-color: #E8F0FE;\n",
              "      --fill-color: #1967D2;\n",
              "      --hover-bg-color: #E2EBFA;\n",
              "      --hover-fill-color: #174EA6;\n",
              "      --disabled-fill-color: #AAA;\n",
              "      --disabled-bg-color: #DDD;\n",
              "  }\n",
              "\n",
              "  [theme=dark] .colab-df-quickchart {\n",
              "      --bg-color: #3B4455;\n",
              "      --fill-color: #D2E3FC;\n",
              "      --hover-bg-color: #434B5C;\n",
              "      --hover-fill-color: #FFFFFF;\n",
              "      --disabled-bg-color: #3B4455;\n",
              "      --disabled-fill-color: #666;\n",
              "  }\n",
              "\n",
              "  .colab-df-quickchart {\n",
              "    background-color: var(--bg-color);\n",
              "    border: none;\n",
              "    border-radius: 50%;\n",
              "    cursor: pointer;\n",
              "    display: none;\n",
              "    fill: var(--fill-color);\n",
              "    height: 32px;\n",
              "    padding: 0;\n",
              "    width: 32px;\n",
              "  }\n",
              "\n",
              "  .colab-df-quickchart:hover {\n",
              "    background-color: var(--hover-bg-color);\n",
              "    box-shadow: 0 1px 2px rgba(60, 64, 67, 0.3), 0 1px 3px 1px rgba(60, 64, 67, 0.15);\n",
              "    fill: var(--button-hover-fill-color);\n",
              "  }\n",
              "\n",
              "  .colab-df-quickchart-complete:disabled,\n",
              "  .colab-df-quickchart-complete:disabled:hover {\n",
              "    background-color: var(--disabled-bg-color);\n",
              "    fill: var(--disabled-fill-color);\n",
              "    box-shadow: none;\n",
              "  }\n",
              "\n",
              "  .colab-df-spinner {\n",
              "    border: 2px solid var(--fill-color);\n",
              "    border-color: transparent;\n",
              "    border-bottom-color: var(--fill-color);\n",
              "    animation:\n",
              "      spin 1s steps(1) infinite;\n",
              "  }\n",
              "\n",
              "  @keyframes spin {\n",
              "    0% {\n",
              "      border-color: transparent;\n",
              "      border-bottom-color: var(--fill-color);\n",
              "      border-left-color: var(--fill-color);\n",
              "    }\n",
              "    20% {\n",
              "      border-color: transparent;\n",
              "      border-left-color: var(--fill-color);\n",
              "      border-top-color: var(--fill-color);\n",
              "    }\n",
              "    30% {\n",
              "      border-color: transparent;\n",
              "      border-left-color: var(--fill-color);\n",
              "      border-top-color: var(--fill-color);\n",
              "      border-right-color: var(--fill-color);\n",
              "    }\n",
              "    40% {\n",
              "      border-color: transparent;\n",
              "      border-right-color: var(--fill-color);\n",
              "      border-top-color: var(--fill-color);\n",
              "    }\n",
              "    60% {\n",
              "      border-color: transparent;\n",
              "      border-right-color: var(--fill-color);\n",
              "    }\n",
              "    80% {\n",
              "      border-color: transparent;\n",
              "      border-right-color: var(--fill-color);\n",
              "      border-bottom-color: var(--fill-color);\n",
              "    }\n",
              "    90% {\n",
              "      border-color: transparent;\n",
              "      border-bottom-color: var(--fill-color);\n",
              "    }\n",
              "  }\n",
              "</style>\n",
              "\n",
              "  <script>\n",
              "    async function quickchart(key) {\n",
              "      const quickchartButtonEl =\n",
              "        document.querySelector('#' + key + ' button');\n",
              "      quickchartButtonEl.disabled = true;  // To prevent multiple clicks.\n",
              "      quickchartButtonEl.classList.add('colab-df-spinner');\n",
              "      try {\n",
              "        const charts = await google.colab.kernel.invokeFunction(\n",
              "            'suggestCharts', [key], {});\n",
              "      } catch (error) {\n",
              "        console.error('Error during call to suggestCharts:', error);\n",
              "      }\n",
              "      quickchartButtonEl.classList.remove('colab-df-spinner');\n",
              "      quickchartButtonEl.classList.add('colab-df-quickchart-complete');\n",
              "    }\n",
              "    (() => {\n",
              "      let quickchartButtonEl =\n",
              "        document.querySelector('#df-240e8387-7cd0-4f34-8d2e-975faeb6d39e button');\n",
              "      quickchartButtonEl.style.display =\n",
              "        google.colab.kernel.accessAllowed ? 'block' : 'none';\n",
              "    })();\n",
              "  </script>\n",
              "</div>\n",
              "\n",
              "    </div>\n",
              "  </div>\n"
            ],
            "application/vnd.google.colaboratory.intrinsic+json": {
              "type": "dataframe",
              "summary": "{\n  \"name\": \"df\",\n  \"rows\": 8,\n  \"fields\": [\n    {\n      \"column\": \"Unnamed: 0\",\n      \"properties\": {\n        \"dtype\": \"number\",\n        \"std\": 173.13607796312695,\n        \"min\": 0.0,\n        \"max\": 481.0,\n        \"num_unique_values\": 7,\n        \"samples\": [\n          481.0,\n          240.0,\n          360.0\n        ],\n        \"semantic_type\": \"\",\n        \"description\": \"\"\n      }\n    },\n    {\n      \"column\": \"x1\",\n      \"properties\": {\n        \"dtype\": \"number\",\n        \"std\": 169.4884267545406,\n        \"min\": -13.270730284662706,\n        \"max\": 481.0,\n        \"num_unique_values\": 8,\n        \"samples\": [\n          1.371570785308462,\n          2.875383804079492,\n          481.0\n        ],\n        \"semantic_type\": \"\",\n        \"description\": \"\"\n      }\n    },\n    {\n      \"column\": \"x2\",\n      \"properties\": {\n        \"dtype\": \"number\",\n        \"std\": 170.68938751002324,\n        \"min\": -15.097309319925994,\n        \"max\": 481.0,\n        \"num_unique_values\": 8,\n        \"samples\": [\n          -2.9008706476951507,\n          -3.860117906116354,\n          481.0\n        ],\n        \"semantic_type\": \"\",\n        \"description\": \"\"\n      }\n    },\n    {\n      \"column\": \"x3\",\n      \"properties\": {\n        \"dtype\": \"number\",\n        \"std\": 170.22262887385247,\n        \"min\": -10.509461093682129,\n        \"max\": 481.0,\n        \"num_unique_values\": 8,\n        \"samples\": [\n          -1.3839218072256172,\n          -2.0319156606856525,\n          481.0\n        ],\n        \"semantic_type\": \"\",\n        \"description\": \"\"\n      }\n    },\n    {\n      \"column\": \"x4\",\n      \"properties\": {\n        \"dtype\": \"number\",\n        \"std\": 168.86144693010678,\n        \"min\": -6.393519928285239,\n        \"max\": 481.0,\n        \"num_unique_values\": 8,\n        \"samples\": [\n          3.8327090811895164,\n          4.157023789102684,\n          481.0\n        ],\n        \"semantic_type\": \"\",\n        \"description\": \"\"\n      }\n    },\n    {\n      \"column\": \"x5\",\n      \"properties\": {\n        \"dtype\": \"number\",\n        \"std\": 171.1048751206299,\n        \"min\": -13.445579222684907,\n        \"max\": 481.0,\n        \"num_unique_values\": 8,\n        \"samples\": [\n          -3.8961156780633144,\n          -5.271456180263527,\n          481.0\n        ],\n        \"semantic_type\": \"\",\n        \"description\": \"\"\n      }\n    },\n    {\n      \"column\": \"x6\",\n      \"properties\": {\n        \"dtype\": \"number\",\n        \"std\": 168.6618324101055,\n        \"min\": -7.4289863086641,\n        \"max\": 481.0,\n        \"num_unique_values\": 8,\n        \"samples\": [\n          4.219898011512306,\n          5.769461007025267,\n          481.0\n        ],\n        \"semantic_type\": \"\",\n        \"description\": \"\"\n      }\n    },\n    {\n      \"column\": \"x7\",\n      \"properties\": {\n        \"dtype\": \"number\",\n        \"std\": 168.79372272193726,\n        \"min\": -5.257187923560116,\n        \"max\": 481.0,\n        \"num_unique_values\": 8,\n        \"samples\": [\n          3.9535045701246023,\n          4.712753473257454,\n          481.0\n        ],\n        \"semantic_type\": \"\",\n        \"description\": \"\"\n      }\n    },\n    {\n      \"column\": \"x8\",\n      \"properties\": {\n        \"dtype\": \"number\",\n        \"std\": 171.49112632863574,\n        \"min\": -14.973401315685049,\n        \"max\": 481.0,\n        \"num_unique_values\": 8,\n        \"samples\": [\n          -5.358948127970018,\n          -7.983567500970778,\n          481.0\n        ],\n        \"semantic_type\": \"\",\n        \"description\": \"\"\n      }\n    },\n    {\n      \"column\": \"x9\",\n      \"properties\": {\n        \"dtype\": \"number\",\n        \"std\": 169.58922665677207,\n        \"min\": -13.574081039644724,\n        \"max\": 481.0,\n        \"num_unique_values\": 8,\n        \"samples\": [\n          1.3306916863099367,\n          3.435455665569976,\n          481.0\n        ],\n        \"semantic_type\": \"\",\n        \"description\": \"\"\n      }\n    },\n    {\n      \"column\": \"x10\",\n      \"properties\": {\n        \"dtype\": \"number\",\n        \"std\": 170.2318728046854,\n        \"min\": -13.792772422001086,\n        \"max\": 481.0,\n        \"num_unique_values\": 8,\n        \"samples\": [\n          -1.2638720566802861,\n          -1.7078082424979175,\n          481.0\n        ],\n        \"semantic_type\": \"\",\n        \"description\": \"\"\n      }\n    },\n    {\n      \"column\": \"x11\",\n      \"properties\": {\n        \"dtype\": \"number\",\n        \"std\": 171.66445239104172,\n        \"min\": -14.261259735859827,\n        \"max\": 481.0,\n        \"num_unique_values\": 8,\n        \"samples\": [\n          -5.912238719477354,\n          -7.576043058336896,\n          481.0\n        ],\n        \"semantic_type\": \"\",\n        \"description\": \"\"\n      }\n    },\n    {\n      \"column\": \"x12\",\n      \"properties\": {\n        \"dtype\": \"number\",\n        \"std\": 171.01091714543028,\n        \"min\": -9.84511372932018,\n        \"max\": 481.0,\n        \"num_unique_values\": 8,\n        \"samples\": [\n          -3.6337844341309613,\n          -3.5987260092208544,\n          481.0\n        ],\n        \"semantic_type\": \"\",\n        \"description\": \"\"\n      }\n    },\n    {\n      \"column\": \"x13\",\n      \"properties\": {\n        \"dtype\": \"number\",\n        \"std\": 170.23369882712794,\n        \"min\": -12.78653716606311,\n        \"max\": 481.0,\n        \"num_unique_values\": 8,\n        \"samples\": [\n          -1.3437216614081877,\n          -2.9844413307123725,\n          481.0\n        ],\n        \"semantic_type\": \"\",\n        \"description\": \"\"\n      }\n    },\n    {\n      \"column\": \"x14\",\n      \"properties\": {\n        \"dtype\": \"number\",\n        \"std\": 169.5745929495594,\n        \"min\": -12.938027153493348,\n        \"max\": 481.0,\n        \"num_unique_values\": 8,\n        \"samples\": [\n          1.359757952906827,\n          1.7162112251077375,\n          481.0\n        ],\n        \"semantic_type\": \"\",\n        \"description\": \"\"\n      }\n    }\n  ]\n}"
            }
          },
          "metadata": {},
          "execution_count": 31
        }
      ],
      "source": [
        "df.describe()"
      ]
    },
    {
      "cell_type": "code",
      "execution_count": null,
      "metadata": {
        "id": "ZVcfIj8qc10K"
      },
      "outputs": [],
      "source": [
        "# 1) What is the minumum and maximum values of each variable\n",
        "#min: -13.270730\t-15.097309\t-10.509461\t-6.393520\t-13.445579\t-7.428986\t-5.257188\t-14.973401\t-13.574081\t-13.792772\t-14.261260\t-9.845114\t-12.786537\t-12.938027\n",
        "#max: 14.344313\t12.351811\t10.806518\t12.759512\t7.746923\t13.362071\t11.319182\t10.454174\t11.233955\t12.838834\t6.196792\t4.005848\t13.182102\t13.309197\n",
        "\n",
        "# 2) What is the mean and standar deviation of each variable\n",
        "# mean: 1.371571\t-2.900871\t-1.383922\t3.832709\t-3.896116\t4.219898\t3.953505\t-5.358948\t1.330692\t-1.263872\t-5.912239\t-3.633784\t-1.343722\t1.359758\n",
        "# std: 6.886845\t6.653108\t5.391469\t3.582576\t4.487454\t4.957284\t3.445030\t6.610707\t5.787271\t7.155478\t5.069067\t2.568621\t6.923531\t6.505626\n",
        "\n",
        "# 3) What the 25%, 50% and 75% represent?\n",
        "# Representan la sumatoria de cuartiles de la informacion distribuida a lo largo de la tabla\n",
        "#25% = 1er cuartil, 50% = 2do cuartil y 75% 3er cuartil\n"
      ]
    },
    {
      "cell_type": "markdown",
      "metadata": {
        "id": "lheleStYc10K"
      },
      "source": [
        "Rename the columns using the same name with capital letters"
      ]
    },
    {
      "cell_type": "code",
      "execution_count": null,
      "metadata": {
        "id": "ZZDjtAr1c10K",
        "colab": {
          "base_uri": "https://localhost:8080/"
        },
        "outputId": "f05ba95c-7083-4eef-dae3-2c0806fa19d7"
      },
      "outputs": [
        {
          "output_type": "execute_result",
          "data": {
            "text/plain": [
              "Index(['Unnamed: 0', 'X1', 'X2', 'X3', 'X4', 'X5', 'X6', 'X7', 'X8', 'X9',\n",
              "       'X10', 'X11', 'X12', 'X13', 'X14'],\n",
              "      dtype='object')"
            ]
          },
          "metadata": {},
          "execution_count": 36
        }
      ],
      "source": [
        "df = df.rename(columns={\"x1\": \"X1\",\"x2\": \"X2\",\"x3\": \"X3\",\"x4\": \"X4\",\"x5\": \"X5\",\"x6\": \"X6\",\"x7\": \"X7\",\"x8\": \"X8\",\"x9\": \"X9\",\"x10\": \"X10\",\"x11\": \"X11\",\"x12\": \"X12\",\"x13\": \"X13\",\"x14\": \"X14\"})\n",
        "df.columns"
      ]
    },
    {
      "cell_type": "markdown",
      "metadata": {
        "id": "Gvlp3x9qc10K"
      },
      "source": [
        "Rename the columns to their original names"
      ]
    },
    {
      "cell_type": "code",
      "execution_count": null,
      "metadata": {
        "id": "eUgD9iZlc10L",
        "colab": {
          "base_uri": "https://localhost:8080/"
        },
        "outputId": "23864ced-5612-40f7-8f74-f412660229ae"
      },
      "outputs": [
        {
          "output_type": "execute_result",
          "data": {
            "text/plain": [
              "Index(['Unnamed: 0', 'x1', 'x2', 'x3', 'x4', 'x5', 'x6', 'x7', 'x8', 'x9',\n",
              "       'x10', 'x11', 'x12', 'x13', 'x14'],\n",
              "      dtype='object')"
            ]
          },
          "metadata": {},
          "execution_count": 37
        }
      ],
      "source": [
        "df = df.rename(columns={\"X1\": \"x1\",\"X2\": \"x2\",\"X3\": \"x3\",\"X4\": \"x4\",\"X5\": \"x5\",\"X6\": \"x6\",\"X7\": \"x7\",\"X8\": \"x8\",\"X9\": \"x9\",\"X10\": \"x10\",\"X11\": \"x11\",\"X12\": \"x12\",\"X13\": \"x13\",\"X14\": \"x14\"})\n",
        "df.columns"
      ]
    },
    {
      "cell_type": "markdown",
      "metadata": {
        "id": "NJ4a9Nesc10L"
      },
      "source": [
        "Use two different alternatives to get one of the columns"
      ]
    },
    {
      "cell_type": "code",
      "execution_count": null,
      "metadata": {
        "id": "a0Y-m4lpc10L",
        "colab": {
          "base_uri": "https://localhost:8080/"
        },
        "outputId": "1b173627-a735-46d2-8bae-9c3f8176b73e"
      },
      "outputs": [
        {
          "output_type": "stream",
          "name": "stdout",
          "text": [
            "0      -1.051905\n",
            "1       5.902625\n",
            "2      -7.147726\n",
            "3      -8.345437\n",
            "4       0.704391\n",
            "         ...    \n",
            "476     1.536243\n",
            "477     9.379051\n",
            "478   -12.683785\n",
            "479    -8.850657\n",
            "480     2.570535\n",
            "Name: x1, Length: 481, dtype: float64\n",
            "0      -1.051905\n",
            "1       5.902625\n",
            "2      -7.147726\n",
            "3      -8.345437\n",
            "4       0.704391\n",
            "         ...    \n",
            "476     1.536243\n",
            "477     9.379051\n",
            "478   -12.683785\n",
            "479    -8.850657\n",
            "480     2.570535\n",
            "Name: x1, Length: 481, dtype: float64\n"
          ]
        }
      ],
      "source": [
        "print(df.x1)\n",
        "print(df['x1'])"
      ]
    },
    {
      "cell_type": "markdown",
      "metadata": {
        "id": "JdbYbVY-c10L"
      },
      "source": [
        "Get a slice of your data set: second and thrid columns and rows from 62 to 72"
      ]
    },
    {
      "cell_type": "code",
      "execution_count": null,
      "metadata": {
        "id": "T_fxIO1oc10L",
        "colab": {
          "base_uri": "https://localhost:8080/"
        },
        "outputId": "46b10e2a-0222-4131-ed15-59afbb6388da"
      },
      "outputs": [
        {
          "output_type": "stream",
          "name": "stdout",
          "text": [
            "           x2        x3\n",
            "62   2.377237 -6.551703\n",
            "63   6.274872  8.304510\n",
            "64 -10.300247  1.846466\n",
            "65 -10.356318  0.672925\n",
            "66  -1.580835 -2.290673\n",
            "67  -8.203534 -5.805834\n",
            "68  -8.606252  1.711848\n",
            "69  -5.720548 -8.279260\n",
            "70   7.404649  5.424397\n",
            "71  -6.909365 -6.910249\n",
            "72 -12.935273  2.253267\n"
          ]
        }
      ],
      "source": [
        "df1 = df.iloc[:, [2, 3]] #la primer columna no se toma en cuenta por que es solo el numero de renglones\n",
        "print(df1.iloc[62:73])"
      ]
    },
    {
      "cell_type": "markdown",
      "source": [
        "For the second and thrid columns, calculate the number of null and not null values and verify that their sum equals the total number of rows"
      ],
      "metadata": {
        "id": "c3-etqErGj1n"
      }
    },
    {
      "cell_type": "code",
      "execution_count": null,
      "metadata": {
        "id": "8aXxqkRSc10L",
        "colab": {
          "base_uri": "https://localhost:8080/"
        },
        "outputId": "441e65b0-55db-4d0d-8b77-6e8b9354325d"
      },
      "outputs": [
        {
          "output_type": "stream",
          "name": "stdout",
          "text": [
            "x2    0\n",
            "x3    0\n",
            "dtype: int64\n",
            "x2    481\n",
            "x3    481\n",
            "dtype: int64\n",
            "481\n"
          ]
        }
      ],
      "source": [
        "null = df1.isnull().sum()\n",
        "print(null)\n",
        "notnull = df1.notnull().sum()\n",
        "print(notnull)\n",
        "total = len(df1)\n",
        "print(total)\n",
        "#no hay espacios vacios y el total de llenos es de 481 (igual que el total de renglones), por lo que la suma de estos valores si dan el total de renglones"
      ]
    },
    {
      "cell_type": "markdown",
      "metadata": {
        "id": "U_uhOT_Vc10L"
      },
      "source": [
        "Discard the last column\n"
      ]
    },
    {
      "cell_type": "code",
      "execution_count": null,
      "metadata": {
        "id": "_fLEpBCSc10M",
        "colab": {
          "base_uri": "https://localhost:8080/"
        },
        "outputId": "810c5d6a-f22f-4a9a-b476-30abf645cad2"
      },
      "outputs": [
        {
          "output_type": "execute_result",
          "data": {
            "text/plain": [
              "Index(['Unnamed: 0', 'x1', 'x2', 'x3', 'x4', 'x5', 'x6', 'x7', 'x8', 'x9',\n",
              "       'x10', 'x11', 'x12', 'x13'],\n",
              "      dtype='object')"
            ]
          },
          "metadata": {},
          "execution_count": 50
        }
      ],
      "source": [
        "df = df.iloc[:, :-1]\n",
        "df.columns\n"
      ]
    },
    {
      "cell_type": "markdown",
      "metadata": {
        "id": "3kUbCFT7c10M"
      },
      "source": [
        "### Questions\n",
        "\n",
        "Based on the previos results, provide a description of yout dataset\n",
        "\n",
        "Your response: Es un dataset de 481 renglones y 14 renglones (el primero no cuenta) con valores que van del -15 al 15 respectivamente, con un promedio un poco mayor al 1 porciento en la mayoria de columnas. Lad columnas estan llamadas xN, sicesivamente y no se encontraron datos vacios.\n",
        "\n",
        "\n"
      ]
    },
    {
      "cell_type": "markdown",
      "metadata": {
        "id": "BrhTIgAuc10M"
      },
      "source": [
        "## A3 Data visualization"
      ]
    },
    {
      "cell_type": "markdown",
      "metadata": {
        "id": "Ducgjbdyc10M"
      },
      "source": [
        "Plot in the same figure the histogram of two variables\n",
        "\n"
      ]
    },
    {
      "cell_type": "code",
      "execution_count": null,
      "metadata": {
        "id": "7A0rK-cKc10M",
        "colab": {
          "base_uri": "https://localhost:8080/",
          "height": 472
        },
        "outputId": "d0cd3ecb-099a-4053-affb-66639eeb893a"
      },
      "outputs": [
        {
          "output_type": "display_data",
          "data": {
            "text/plain": [
              "<Figure size 640x480 with 1 Axes>"
            ],
            "image/png": "[encoded data removed]"
          },
          "metadata": {}
        }
      ],
      "source": [
        "plt.hist(df['x1'], bins=20, alpha=0.5, label='x1', color='blue')\n",
        "plt.hist(df['x2'], bins=20, alpha=0.5, label='x2', color='orange')\n",
        "\n",
        "plt.title('Histograma de 2 Variables')\n",
        "plt.xlabel('Valor')\n",
        "plt.ylabel('Frecuencia')\n",
        "plt.legend(loc='upper right')\n",
        "plt.grid(True)\n",
        "plt.show()\n"
      ]
    },
    {
      "cell_type": "markdown",
      "metadata": {
        "id": "VLX6LS0sc10M"
      },
      "source": [
        "Based on these plots, provide a description of your data:\n",
        "\n",
        "Your response here:"
      ]
    },
    {
      "cell_type": "markdown",
      "metadata": {
        "id": "0Mc8oYehc10T"
      },
      "source": [
        "\n",
        "\n",
        "Plot in the same figure the boxplot of two variables"
      ]
    },
    {
      "cell_type": "code",
      "execution_count": null,
      "metadata": {
        "id": "9O82DjeEc10T",
        "colab": {
          "base_uri": "https://localhost:8080/",
          "height": 472
        },
        "outputId": "21c64eab-9ff3-4cc7-f1c2-83249a6185d1"
      },
      "outputs": [
        {
          "output_type": "display_data",
          "data": {
            "text/plain": [
              "<Figure size 640x480 with 1 Axes>"
            ],
            "image/png": "[encoded data removed]"
          },
          "metadata": {}
        }
      ],
      "source": [
        "plt.boxplot([df['x2'], df['x3']], labels=['Variable1', 'Variable2'])\n",
        "\n",
        "plt.title('Boxplot of Two Variables')\n",
        "plt.xlabel('Variable')\n",
        "plt.ylabel('Value')\n",
        "plt.grid(True)\n",
        "plt.show()"
      ]
    },
    {
      "cell_type": "markdown",
      "metadata": {
        "id": "njAfrbKXc10T"
      },
      "source": [
        "Plot the scatter plot of two variables"
      ]
    },
    {
      "cell_type": "code",
      "execution_count": null,
      "metadata": {
        "id": "QKkZLPrnc10T",
        "colab": {
          "base_uri": "https://localhost:8080/",
          "height": 472
        },
        "outputId": "3efc26fd-536d-4dce-eaa4-74c8435cffc3"
      },
      "outputs": [
        {
          "output_type": "display_data",
          "data": {
            "text/plain": [
              "<Figure size 640x480 with 1 Axes>"
            ],
            "image/png": "[encoded data removed]"
          },
          "metadata": {}
        }
      ],
      "source": [
        "sns.scatterplot(data=df, x='x3', y='x4', color='blue', alpha=0.7)\n",
        "\n",
        "plt.title('Scatter Plot of Two Variables')\n",
        "plt.xlabel('Variable1')\n",
        "plt.ylabel('Variable2')\n",
        "plt.grid(True)\n",
        "plt.show()"
      ]
    },
    {
      "cell_type": "markdown",
      "metadata": {
        "id": "hhQgpr56c10U"
      },
      "source": [
        "### Questions\n",
        "\n",
        "Based on the previos plots, provide a description of yout dataset\n",
        "\n",
        "Your response: Los diferentes datos seleccionados demuestran que, pese a tener muchos valores en comun, estos pueden presentar ciertos valores elevados que los diferencian de gran manera\n",
        "\n",
        "\n"
      ]
    },
    {
      "cell_type": "markdown",
      "metadata": {
        "id": "8AsjzPTKc10U"
      },
      "source": [
        "## A4 Kmeans"
      ]
    },
    {
      "cell_type": "markdown",
      "metadata": {
        "id": "rBSqJzBwc10U"
      },
      "source": [
        "Do Kmeans clustering assuming a number of clusters accorging to your scatter plot"
      ]
    },
    {
      "cell_type": "code",
      "execution_count": null,
      "metadata": {
        "id": "NLf7i33Wc10U"
      },
      "outputs": [],
      "source": [
        "df = df.drop(columns=df.columns[0])\n",
        "\n",
        "# Escalar los datos\n",
        "scaler = StandardScaler()\n",
        "data_scaled = scaler.fit_transform(df)\n",
        "\n",
        "# Aplicar K-Means con 10 clústeres\n",
        "kmeans = KMeans(n_clusters=4, random_state=42, n_init=10)\n",
        "kmeans.fit(data_scaled)\n",
        "labels = kmeans.labels_"
      ]
    },
    {
      "cell_type": "markdown",
      "metadata": {
        "id": "HarT37iNc10U"
      },
      "source": [
        "Add to your dataset a column with the estimated cluster to each data point"
      ]
    },
    {
      "cell_type": "code",
      "execution_count": null,
      "metadata": {
        "id": "IM3pIwcxc10U"
      },
      "outputs": [],
      "source": [
        "# Crear un DataFrame para facilitar la visualización\n",
        "df = pd.DataFrame(data_scaled, columns=[f'x{i}' for i in range(data_scaled.shape[1])])\n",
        "df['Cluster'] = labels\n",
        "\n",
        "# Agregar el número de fila (renglón) al DataFrame\n",
        "df['Fila'] = df.index\n",
        "\n",
        "# Seleccionar los primeros 10 registros\n",
        "df_top10 = df.head(10)\n"
      ]
    },
    {
      "cell_type": "markdown",
      "metadata": {
        "id": "2YXXQtDdc10U"
      },
      "source": [
        "Print the number associated to each cluster"
      ]
    },
    {
      "cell_type": "code",
      "execution_count": null,
      "metadata": {
        "id": "BBEJysUZc10U",
        "colab": {
          "base_uri": "https://localhost:8080/"
        },
        "outputId": "440c91cd-40fe-4103-f31f-928da7e34d20"
      },
      "outputs": [
        {
          "output_type": "stream",
          "name": "stdout",
          "text": [
            "Primeras 10 filas del DataFrame con columnas específicas:\n",
            "         x0        x1        x2        x3  Cluster\n",
            "0  0.012318  0.779633  0.344813 -0.905282        0\n",
            "1 -0.390945 -1.992594 -1.345739 -0.670521        1\n",
            "2  1.422568 -0.229024  0.614852  1.751738        3\n",
            "3  1.803902  0.020417  0.030729  1.096937        3\n",
            "4 -0.964735  1.355239  0.297185 -0.731419        0\n",
            "5  1.259129  0.650111 -0.848890  1.494151        3\n",
            "6 -0.976157 -0.073376  0.517708 -0.643202        2\n",
            "7 -0.725837  0.914798  0.342004 -0.649694        2\n",
            "8 -0.390692 -1.330743 -2.305440 -0.601928        1\n",
            "9 -0.693070 -1.355731 -2.381870 -0.698210        1\n"
          ]
        }
      ],
      "source": [
        "# Imprimir las primeras 10 filas del DataFrame\n",
        "print(\"Primeras 10 filas del DataFrame con columnas específicas:\")\n",
        "print(df_top10[['x0', 'x1', 'x2', 'x3', 'Cluster']])"
      ]
    },
    {
      "cell_type": "markdown",
      "metadata": {
        "id": "l0TFxLcAc10V"
      },
      "source": [
        "Print the centroids"
      ]
    },
    {
      "cell_type": "code",
      "execution_count": 76,
      "metadata": {
        "id": "sGdo8TT9c10V",
        "colab": {
          "base_uri": "https://localhost:8080/"
        },
        "outputId": "10fafc39-a6b0-4d0c-d66c-37eb70805117"
      },
      "outputs": [
        {
          "output_type": "stream",
          "name": "stdout",
          "text": [
            "[[ 7.80223932e-01  7.74925935e-01 -5.99972938e-01  8.53970475e-01\n",
            "  -1.11015326e+00  1.56783337e+00 -8.78910773e-01 -6.60096855e-01\n",
            "  -2.26057559e-01  5.40141752e-03 -1.34331864e+00  5.40141752e-03\n",
            "  -1.34182794e+00  5.40141752e-03]\n",
            " [ 1.07445883e-01  2.69053540e-01  1.64684669e+00  4.46559690e-01\n",
            "  -7.10302851e-01 -2.74652965e-01  8.57757113e-01 -1.08170933e+00\n",
            "   1.04998995e-01  7.42994987e-02  4.44056923e-01  7.42994987e-02\n",
            "   1.34368900e+00  7.42994987e-02]\n",
            " [ 6.42492373e-01  3.70910301e-01 -4.90441738e-01 -1.57698943e+00\n",
            "   1.29411349e+00 -7.30653915e-01 -1.85779870e-01  3.12724835e-01\n",
            "   2.37987525e-01 -1.56040951e-03 -4.49630859e-01 -1.56040951e-03\n",
            "   4.48516690e-01 -1.56040951e-03]\n",
            " [-1.51751622e+00 -1.40319647e+00 -5.51833399e-01  2.74174481e-01\n",
            "   5.21992681e-01 -5.57877513e-01  2.05223336e-01  1.41727076e+00\n",
            "  -1.15962606e-01 -7.74947174e-02  1.33774470e+00 -7.74947174e-02\n",
            "  -4.46655624e-01 -7.74947174e-02]]\n"
          ]
        }
      ],
      "source": [
        "centroids = kmeans.cluster_centers_\n",
        "print(centroids)"
      ]
    },
    {
      "cell_type": "markdown",
      "metadata": {
        "id": "8Ul5wSO7c10V"
      },
      "source": [
        "Print the intertia metric"
      ]
    },
    {
      "cell_type": "code",
      "execution_count": 78,
      "metadata": {
        "id": "Yq5A_5RTc10V",
        "colab": {
          "base_uri": "https://localhost:8080/"
        },
        "outputId": "9cf685bb-39f3-4678-9f4f-0179e1b55127"
      },
      "outputs": [
        {
          "output_type": "stream",
          "name": "stdout",
          "text": [
            "2674.6739705542113\n"
          ]
        }
      ],
      "source": [
        "inertia = kmeans.inertia_\n",
        "print(inertia)"
      ]
    },
    {
      "cell_type": "markdown",
      "metadata": {
        "id": "0_GmI4nHc10V"
      },
      "source": [
        "Plot a scatter plot of your data using different color for each cluster. Also plot the centroids"
      ]
    },
    {
      "cell_type": "code",
      "execution_count": 80,
      "metadata": {
        "id": "pR-dRE80c10V",
        "colab": {
          "base_uri": "https://localhost:8080/",
          "height": 472
        },
        "outputId": "4840481a-70f6-438a-f5f1-344bbd934c08"
      },
      "outputs": [
        {
          "output_type": "display_data",
          "data": {
            "text/plain": [
              "<Figure size 640x480 with 1 Axes>"
            ],
            "image/png": "[encoded data removed]"
          },
          "metadata": {}
        }
      ],
      "source": [
        "centroids_df = pd.DataFrame(centroids, columns=[f'x{i}' for i in range(data_scaled.shape[1])])\n",
        "centroids_df = centroids_df[['x1', 'x2']]  # Seleccionar solo dos variables para la visualización\n",
        "\n",
        "# Scatter plot de los datos con colores para cada clúster\n",
        "sns.scatterplot(x='x1', y='x2', hue='Cluster', palette=\"Set1\", data=df, legend='full', alpha=0.6)\n",
        "\n",
        "# Plotear los centroides\n",
        "plt.scatter(centroids_df['x1'], centroids_df['x2'], s=200, c='black', marker='X', label='Centroides')\n",
        "\n",
        "plt.title('Scatter Plot de los Datos y Centroides')\n",
        "plt.xlabel('Variable x1')\n",
        "plt.ylabel('Variable x2')\n",
        "plt.legend()\n",
        "plt.grid(True)\n",
        "plt.show()"
      ]
    },
    {
      "cell_type": "markdown",
      "metadata": {
        "id": "rga2TFKSc10V"
      },
      "source": [
        "### Questions\n",
        "\n",
        "Provides a detailed description of your results\n",
        "\n",
        "Your response: por la distribucion de los datos creo que el minimo de clusters para que esté bien catalogado (sin tener contexto de la informacion) deberia ser 4 y segun las necesidades ya se aumente."
      ]
    },
    {
      "cell_type": "markdown",
      "metadata": {
        "id": "rq-0bfKIc10W"
      },
      "source": [
        "## A5 Elbow plot\n",
        "\n",
        "Compute the Elbow plot"
      ]
    },
    {
      "cell_type": "code",
      "execution_count": 85,
      "metadata": {
        "id": "AdTPzEsSc10W",
        "colab": {
          "base_uri": "https://localhost:8080/",
          "height": 564
        },
        "outputId": "a96ec82b-a192-4ee5-a0d1-84a841835e19"
      },
      "outputs": [
        {
          "output_type": "display_data",
          "data": {
            "text/plain": [
              "<Figure size 1000x600 with 1 Axes>"
            ],
            "image/png": "[encoded data removed]"
          },
          "metadata": {}
        }
      ],
      "source": [
        "wcss = []\n",
        "for n_clusters in range(1, 15):\n",
        "    kmeans = KMeans(n_clusters=n_clusters, random_state=42, n_init=10)\n",
        "    kmeans.fit(data_scaled)\n",
        "    wcss.append(kmeans.inertia_)\n",
        "\n",
        "# Crear el Elbow Plot\n",
        "plt.figure(figsize=(10, 6))\n",
        "plt.plot(range(1, 15), wcss, marker='o')\n",
        "plt.title('Elbow Plot')\n",
        "plt.xlabel('Número de Clústeres')\n",
        "plt.ylabel('WCSS')\n",
        "plt.grid(True)\n",
        "plt.show()"
      ]
    },
    {
      "cell_type": "markdown",
      "metadata": {
        "id": "0deiIrT-c10W"
      },
      "source": [
        "### Questions\n",
        "\n",
        "What is the best number of clusters K? (argue your response)\n",
        "\n",
        "Your response:14?\n",
        "\n",
        "\n",
        "Does this number of clusters agree with your inital guess? (argue your response, no problem at all if they do not agree)\n",
        "\n",
        "Your response: Bueno, es que mientras más clusters más se baja y a partir de un punto que no baja tanto ya funciona, pero sin informacion supongo que estaria bien entre el 4 y el 12.\n",
        "\n"
      ]
    },
    {
      "cell_type": "markdown",
      "metadata": {
        "id": "qW1yhCYCc10Y"
      },
      "source": [
        "# PART 2\n",
        "# Descipcion de tu percepcion del nivel de desarrollo de la subcompetencia\n",
        "\n",
        "### SING0202A Interpretación de variables\n"
      ]
    },
    {
      "cell_type": "markdown",
      "metadata": {
        "id": "kJLR4iumc10Y"
      },
      "source": [
        "Escribe tu description del nivel de logro del siguiente criterio de la subcompetencia\n",
        "\n",
        "**Interpreta interacciones**. Interpreta interacciones entre variables relevantes en un problema, como base para la construcción de modelos bivariados basados en datos de un fenómeno investigado que le permita reproducir la respuesta del mismo."
      ]
    },
    {
      "cell_type": "markdown",
      "metadata": {
        "id": "aeAR4f53c10Y"
      },
      "source": [
        "Tu respuesta: Se me da bien, yo consideroque se me da bien la logica, sobre todo la interpretacion de datos y deducciones de ciertas interacciones. A si mismo soy capaz de deducir como conseguir cierta informacion y que datos pueden ser irrelevantes para ciertos propocitos"
      ]
    },
    {
      "cell_type": "markdown",
      "metadata": {
        "id": "6edjQj1Dc10Y"
      },
      "source": [
        "Escribe tu description del nivel de logro del siguiente criterio de la subcompetencia\n",
        "\n",
        "**Construcción de modelos**. Es capaz de construir modelos bivariados que expliquen el comportamiento de un fenómeno."
      ]
    },
    {
      "cell_type": "markdown",
      "metadata": {
        "id": "thc32Ajkc10Y"
      },
      "source": [
        "Tu respuesta:En esta actividad no pude explicar nada porque no hay nada que explicar, pero databases como iris las pude comprender muy bien, siendo mi unico problema la carga de dicha database pues la cargue de un lugar que le faltaba una columna y lo tuve que repetir."
      ]
    }
  ],
  "metadata": {
    "colab": {
      "provenance": []
    },
    "kernelspec": {
      "display_name": "Python 3",
      "language": "python",
      "name": "python3"
    },
    "language_info": {
      "codemirror_mode": {
        "name": "ipython",
        "version": 3
      },
      "file_extension": ".py",
      "mimetype": "text/x-python",
      "name": "python",
      "nbconvert_exporter": "python",
      "pygments_lexer": "ipython3",
      "version": "3.8.3"
    }
  },
  "nbformat": 4,
  "nbformat_minor": 0
}