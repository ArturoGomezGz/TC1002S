{
  "cells": [
    {
      "cell_type": "markdown",
      "metadata": {
        "id": "u0MPe62dYgl0"
      },
      "source": [
        "# Undertanding the cartwheel data set\n",
        "\n",
        "The notebook aims to undertand the content of the cartwheel data set.\n",
        "\n",
        "\n",
        "## Acknowledgments\n",
        "\n",
        "- Data from https://www.coursera.org/ from the course \"Understanding and Visualizing Data with Python\" by University of Michigan\n"
      ]
    },
    {
      "cell_type": "markdown",
      "metadata": {
        "id": "30s2UXlPYgl4"
      },
      "source": [
        "# Cartwheel data set\n",
        "\n",
        "1. A cartwheel\n",
        "\n",
        "![cartwheel1.png](datasets/cartwheel/cartwheel1.png)\n",
        "\n",
        "2. The dataset description\n",
        "    - The dataset used here is an extension from the original cartwheel dataset from cursera\n",
        "    - Total numer of observations: 28\n",
        "    - Many observations/measurements/recordings of the characteristics/attributes/variables of cartwheel executions\n",
        "    - Variables: Age, Gender, GenderGroup, Glasses, GlassesGroup, Height, Wingspan, CWDistance, ... (X variables)\n",
        "    \n",
        "##Nombre y matricula\n",
        "Andres Benjamin Antelis Moreno A01637683"
      ]
    },
    {
      "cell_type": "markdown",
      "metadata": {
        "id": "xmSEe706Ygl5"
      },
      "source": [
        "# Importing and inspecting the data"
      ]
    },
    {
      "cell_type": "code",
      "execution_count": null,
      "metadata": {
        "id": "wksMvHQBYjRu",
        "colab": {
          "base_uri": "https://localhost:8080/"
        },
        "outputId": "b863199d-792a-4a4e-b08c-fb8249d7b49a"
      },
      "outputs": [
        {
          "output_type": "stream",
          "name": "stdout",
          "text": [
            "Mounted at /content/drive\n"
          ]
        }
      ],
      "source": [
        "# Define where you are running the code: colab or local\n",
        "RunInColab          = True     # (False: no  | True: yes)\n",
        "\n",
        "# If running in colab:\n",
        "if RunInColab:\n",
        "    # Mount your google drive in google colab\n",
        "    from google.colab import drive\n",
        "    drive.mount('/content/drive')\n",
        "\n",
        "    # Find location\n",
        "    #!pwd\n",
        "    #!ls\n",
        "    #!ls \"/content/drive/My Drive/Colab Notebooks/MachineLearningWithPython/\"\n",
        "\n",
        "    # Define path del proyecto\n",
        "    Ruta            = \"/content/drive/MyDrive/!Tec stuff/!Uni/Semestre 2/Semana Tec1/TC1002S/NotebooksStudents/A01637683\"\n",
        "\n",
        "else:\n",
        "    # Define path del proyecto\n",
        "    Ruta            = \"\""
      ]
    },
    {
      "cell_type": "code",
      "execution_count": null,
      "metadata": {
        "id": "fyR3iS-uYgl5"
      },
      "outputs": [],
      "source": [
        "# Import the packages that we will be using\n",
        "import pandas as pd\n",
        "\n",
        "# Dataset url\n",
        "Dataset=\"/content/drive/MyDrive/!Tec stuff/!Uni/Semestre 2/Semana Tec1/TC1002S/NotebooksProfessor/datasets/cartwheel/cartwheel.csv\"\n",
        "\n",
        "# Load the dataset\n",
        "db=pd.read_csv(Dataset)"
      ]
    },
    {
      "cell_type": "code",
      "execution_count": null,
      "metadata": {
        "id": "j614eRL1Ygl6"
      },
      "outputs": [],
      "source": [
        "# Print the dataset\n",
        "print(db)"
      ]
    },
    {
      "cell_type": "code",
      "execution_count": null,
      "metadata": {
        "id": "UHf53273Ygl7",
        "colab": {
          "base_uri": "https://localhost:8080/"
        },
        "outputId": "8552d576-894f-4e82-eb45-c818dbb78fa9"
      },
      "outputs": [
        {
          "output_type": "execute_result",
          "data": {
            "text/plain": [
              "52"
            ]
          },
          "metadata": {},
          "execution_count": 4
        }
      ],
      "source": [
        "# Print the number of rows\n",
        "len(db.index)\n"
      ]
    },
    {
      "cell_type": "code",
      "execution_count": null,
      "metadata": {
        "id": "oULLxV8eYgl7",
        "colab": {
          "base_uri": "https://localhost:8080/"
        },
        "outputId": "8968973a-c49e-455f-c6bf-9cbbd79b3988"
      },
      "outputs": [
        {
          "output_type": "stream",
          "name": "stdout",
          "text": [
            "12\n"
          ]
        }
      ],
      "source": [
        "# Print the number of columns\n",
        "print(len(db.columns))\n"
      ]
    },
    {
      "cell_type": "markdown",
      "metadata": {
        "id": "wQIcyogKYgl8"
      },
      "source": [
        "# Activity: work with the iris dataset\n",
        "\n",
        "1. Load the iris.csv file in your computer and understand the dataset\n",
        "\n",
        "\n",
        "2. How many observations (rows) are in total?\n",
        "\n",
        "149\n",
        "3. How many variables (columns) are in total? What do they represent?\n",
        "5, they represent the values of the characteristics assigned to each of the flowers\n",
        "\n",
        "4. How many observations are for each type of flower? \n",
        "4\n",
        "\n",
        "5. What is the type of data for each variable?\n",
        "Numerical float numbers\n",
        "\n",
        "6. What are the units of each variable?\n",
        "Tnee values of each of the variables on the iris cvs are float numbers"
      ]
    },
    {
      "cell_type": "code",
      "execution_count": null,
      "metadata": {
        "id": "fTHj_8jsYgl8"
      },
      "outputs": [],
      "source": [
        "data2=\"/content/drive/MyDrive/!Tec stuff/!Uni/Semestre 2/Semana Tec1/TC1002S/NotebooksProfessor/datasets/iris/iris.csv\""
      ]
    },
    {
      "cell_type": "code",
      "source": [
        "dbI=pd.read_csv(data2)\n",
        "print(dbI)"
      ],
      "metadata": {
        "id": "Wdmt3yj4BG9C"
      },
      "execution_count": null,
      "outputs": []
    },
    {
      "cell_type": "code",
      "source": [
        "len(dbI.index)"
      ],
      "metadata": {
        "colab": {
          "base_uri": "https://localhost:8080/"
        },
        "id": "JOAhTzy1Blfe",
        "outputId": "8472a89c-00db-48a1-9c62-fc9da9135c8c"
      },
      "execution_count": null,
      "outputs": [
        {
          "output_type": "execute_result",
          "data": {
            "text/plain": [
              "149"
            ]
          },
          "metadata": {},
          "execution_count": 13
        }
      ]
    },
    {
      "cell_type": "code",
      "source": [
        "print(len(dbI.columns))"
      ],
      "metadata": {
        "id": "LWUZjlZEBsEJ",
        "outputId": "c1a048af-a734-4d88-9012-659119070ab9",
        "colab": {
          "base_uri": "https://localhost:8080/"
        }
      },
      "execution_count": null,
      "outputs": [
        {
          "output_type": "stream",
          "name": "stdout",
          "text": [
            "5\n"
          ]
        }
      ]
    },
    {
      "cell_type": "code",
      "source": [
        "print(type(dbI))"
      ],
      "metadata": {
        "id": "v3JaftzaBv2u",
        "outputId": "2a7c5889-2bc0-49c8-ac2f-b321d4f57b93",
        "colab": {
          "base_uri": "https://localhost:8080/"
        }
      },
      "execution_count": null,
      "outputs": [
        {
          "output_type": "stream",
          "name": "stdout",
          "text": [
            "<class 'pandas.core.frame.DataFrame'>\n"
          ]
        }
      ]
    }
  ],
  "metadata": {
    "colab": {
      "provenance": []
    },
    "kernelspec": {
      "display_name": "Python 3",
      "language": "python",
      "name": "python3"
    },
    "language_info": {
      "codemirror_mode": {
        "name": "ipython",
        "version": 3
      },
      "file_extension": ".py",
      "mimetype": "text/x-python",
      "name": "python",
      "nbconvert_exporter": "python",
      "pygments_lexer": "ipython3",
      "version": "3.8.3"
    }
  },
  "nbformat": 4,
  "nbformat_minor": 0
}