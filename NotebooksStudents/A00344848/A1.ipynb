{
 "cells": [
  {
   "cell_type": "markdown",
   "metadata": {},
   "source": [
    "# importar librerias"
   ]
  },
  {
   "cell_type": "code",
   "execution_count": 2,
   "metadata": {},
   "outputs": [],
   "source": [
    "\n",
    "import pandas as pd\n",
    "\n",
    "file_path = '../../NotebooksProfessor/cartwheel/cartwheel.csv'\n",
    "df = pd.read_csv(file_path)\n"
   ]
  },
  {
   "cell_type": "markdown",
   "metadata": {},
   "source": [
    "# Explorar dataframe"
   ]
  },
  {
   "cell_type": "code",
   "execution_count": 3,
   "metadata": {},
   "outputs": [
    {
     "data": {
      "text/plain": [
       "(52, 12)"
      ]
     },
     "execution_count": 3,
     "metadata": {},
     "output_type": "execute_result"
    }
   ],
   "source": [
    "\n",
    "df.shape\n",
    "\n"
   ]
  },
  {
   "cell_type": "code",
   "execution_count": 8,
   "metadata": {},
   "outputs": [
    {
     "name": "stdout",
     "output_type": "stream",
     "text": [
      "   ID   Age Gender  GenderGroup Glasses  GlassesGroup  Height  Wingspan  \\\n",
      "0   1  56.0      F            1       Y             1    62.0      61.0   \n",
      "1   2  26.0      F            1       Y             1    62.0      60.0   \n",
      "2   3  33.0      F            1       Y             1    66.0      64.0   \n",
      "\n",
      "   CWDistance Complete  CompleteGroup  Score  \n",
      "0          79        Y            1.0      7  \n",
      "1          70        Y            1.0      8  \n",
      "2          85        Y            1.0      7  \n"
     ]
    }
   ],
   "source": [
    "\n",
    "# Display the first few rows of the DataFrame\n",
    "print(df.head(3))\n"
   ]
  },
  {
   "cell_type": "code",
   "execution_count": 5,
   "metadata": {},
   "outputs": [
    {
     "name": "stdout",
     "output_type": "stream",
     "text": [
      "ID               0\n",
      "Age              1\n",
      "Gender           0\n",
      "GenderGroup      0\n",
      "Glasses          0\n",
      "GlassesGroup     0\n",
      "Height           1\n",
      "Wingspan         1\n",
      "CWDistance       0\n",
      "Complete         0\n",
      "CompleteGroup    1\n",
      "Score            0\n",
      "dtype: int64\n"
     ]
    }
   ],
   "source": [
    "\n",
    "# Check for missing values in the DataFrame\n",
    "print(df.isnull().sum())\n"
   ]
  },
  {
   "cell_type": "code",
   "execution_count": 6,
   "metadata": {},
   "outputs": [
    {
     "name": "stdout",
     "output_type": "stream",
     "text": [
      "ID                 int64\n",
      "Age              float64\n",
      "Gender            object\n",
      "GenderGroup        int64\n",
      "Glasses           object\n",
      "GlassesGroup       int64\n",
      "Height           float64\n",
      "Wingspan         float64\n",
      "CWDistance         int64\n",
      "Complete          object\n",
      "CompleteGroup    float64\n",
      "Score              int64\n",
      "dtype: object\n",
      "['F' 'M']\n"
     ]
    }
   ],
   "source": [
    "\n",
    "# Display the data types of each column\n",
    "print(df.dtypes)\n",
    "\n",
    "# Display the unique values in the 'Gender' column\n",
    "print(df['Gender'].unique())\n"
   ]
  },
  {
   "cell_type": "markdown",
   "metadata": {},
   "source": [
    "# Datos Estadísticos"
   ]
  },
  {
   "cell_type": "code",
   "execution_count": 7,
   "metadata": {},
   "outputs": [
    {
     "name": "stdout",
     "output_type": "stream",
     "text": [
      "              ID        Age  GenderGroup  GlassesGroup     Height   Wingspan  \\\n",
      "count  52.000000  51.000000    52.000000     52.000000  51.000000  51.000000   \n",
      "mean   26.500000  28.411765     1.500000      0.500000  68.971569  67.313725   \n",
      "std    15.154757   5.755611     0.504878      0.504878   5.303812   5.624021   \n",
      "min     1.000000  22.000000     1.000000      0.000000  61.500000  57.500000   \n",
      "25%    13.750000  25.000000     1.000000      0.000000  64.500000  63.000000   \n",
      "50%    26.500000  27.000000     1.500000      0.500000  69.000000  66.000000   \n",
      "75%    39.250000  30.000000     2.000000      1.000000  73.000000  72.000000   \n",
      "max    52.000000  56.000000     2.000000      1.000000  79.500000  76.000000   \n",
      "\n",
      "       CWDistance  CompleteGroup      Score  \n",
      "count   52.000000      51.000000  52.000000  \n",
      "mean    85.576923       0.843137   7.173077  \n",
      "std     14.353173       0.367290   2.211566  \n",
      "min     63.000000       0.000000   2.000000  \n",
      "25%     72.000000       1.000000   6.000000  \n",
      "50%     85.000000       1.000000   8.000000  \n",
      "75%     96.500000       1.000000   9.000000  \n",
      "max    115.000000       1.000000  10.000000  \n"
     ]
    }
   ],
   "source": [
    "\n",
    "# Display summary statistics for numerical columns\n",
    "print(df.describe())\n"
   ]
  }
 ],
 "metadata": {
  "kernelspec": {
   "display_name": "Python 3",
   "language": "python",
   "name": "python3"
  },
  "language_info": {
   "codemirror_mode": {
    "name": "ipython",
    "version": 3
   },
   "file_extension": ".py",
   "mimetype": "text/x-python",
   "name": "python",
   "nbconvert_exporter": "python",
   "pygments_lexer": "ipython3",
   "version": "3.12.2"
  }
 },
 "nbformat": 4,
 "nbformat_minor": 2
}
