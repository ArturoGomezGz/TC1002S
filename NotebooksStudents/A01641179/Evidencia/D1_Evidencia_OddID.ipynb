{
  "cells": [
    {
      "cell_type": "markdown",
      "metadata": {
        "id": "1jfbMYpywosm"
      },
      "source": [
        "# TC1002S Herramientas computacionales: el arte de la analítica\n",
        "\n",
        "This is a notebook with all your work for the final evidence of this course\n",
        "\n",
        "\n",
        "# Niveles de dominio a demostrar con la evidencia\n",
        "\n",
        "### SING0202A\n",
        "\n",
        "Interpreta interacciones entre variables relevantes en un problema, como base para la construcción de modelos bivariados basados en datos de un fenómeno investigado que le permita reproducir la respuesta del mismo. Es capaz de construir modelos bivariados que expliquen el comportamiento de un fenómeno.\n",
        "\n",
        "\n",
        "# Student information\n",
        "\n",
        "- Name: Arturo Azael Godinez Rodriguez\n",
        "\n",
        "- ID: A01641179\n",
        "\n",
        "- My carreer: Ingeneria en Robotica y sistemas digitales\n"
      ]
    },
    {
      "cell_type": "markdown",
      "metadata": {
        "id": "L7Jj5ZBRwosv"
      },
      "source": [
        "# Importing libraries"
      ]
    },
    {
      "cell_type": "code",
      "execution_count": 1,
      "metadata": {
        "id": "fM6eTTggwosw"
      },
      "outputs": [],
      "source": [
        "import numpy as np                  # For array\n",
        "import pandas as pd                 # For data handling\n",
        "import seaborn as sns               # For advanced plotting\n",
        "import matplotlib.pyplot as plt     # For showing plots"
      ]
    },
    {
      "cell_type": "markdown",
      "metadata": {
        "id": "Q3uO1JChwosy"
      },
      "source": [
        "# PART 1\n",
        "# Use your assigned dataset"
      ]
    },
    {
      "cell_type": "markdown",
      "metadata": {
        "id": "cySHjugJwosy"
      },
      "source": [
        "## A1 Load data"
      ]
    },
    {
      "cell_type": "code",
      "execution_count": 2,
      "metadata": {
        "id": "34ZlRG9gwosz",
        "colab": {
          "base_uri": "https://localhost:8080/"
        },
        "outputId": "89861f5b-6aec-41a2-b51f-7e92ffa8861c"
      },
      "outputs": [
        {
          "output_type": "stream",
          "name": "stdout",
          "text": [
            "Mounted at /content/drive\n"
          ]
        }
      ],
      "source": [
        "# Define where you are running the code: colab or local\n",
        "RunInColab          = True     # (False: no  | True: yes)\n",
        "\n",
        "# If running in colab:\n",
        "if RunInColab:\n",
        "    # Mount your google drive in google colab\n",
        "    from google.colab import drive\n",
        "    drive.mount('/content/drive')\n",
        "\n",
        "    # Find location\n",
        "    #!pwd\n",
        "    #!ls\n",
        "    #!ls \"/content/drive/My Drive/Colab Notebooks/MachineLearningWithPython/\"\n",
        "\n",
        "    # Define path del proyecto\n",
        "    Ruta            = \"/content/drive/My Drive/content/drive/My Drive/\"\n",
        "\n",
        "else:\n",
        "    # Define path del proyecto\n",
        "    Ruta            = \"\"\n"
      ]
    },
    {
      "cell_type": "code",
      "source": [
        "url = \"drive/My Drive/Evidencia/A01641179.csv\"\n",
        "\n",
        "# Load the dataset\n",
        "df  = pd.read_csv(url)\n",
        "df"
      ],
      "metadata": {
        "colab": {
          "base_uri": "https://localhost:8080/",
          "height": 423
        },
        "id": "uQD7kZXuyXcF",
        "outputId": "91fc8410-8005-4187-9eda-5141db0a52dd"
      },
      "execution_count": 76,
      "outputs": [
        {
          "output_type": "execute_result",
          "data": {
            "text/plain": [
              "      Unnamed: 0        x1        x2\n",
              "0              0  0.560778  0.829499\n",
              "1              1 -0.008038  0.381122\n",
              "2              2  1.541781 -0.346447\n",
              "3              3  1.950773  0.068763\n",
              "4              4  1.650663 -0.328446\n",
              "...          ...       ...       ...\n",
              "1695        1695 -0.668243  0.772759\n",
              "1696        1696  1.701226 -0.144192\n",
              "1697        1697  1.941233  0.000987\n",
              "1698        1698  1.986689  0.309273\n",
              "1699        1699  0.288874 -0.128405\n",
              "\n",
              "[1700 rows x 3 columns]"
            ],
            "text/html": [
              "\n",
              "  <div id=\"df-0d39b77a-e430-4441-9dad-684d34930e68\">\n",
              "    <div class=\"colab-df-container\">\n",
              "      <div>\n",
              "<style scoped>\n",
              "    .dataframe tbody tr th:only-of-type {\n",
              "        vertical-align: middle;\n",
              "    }\n",
              "\n",
              "    .dataframe tbody tr th {\n",
              "        vertical-align: top;\n",
              "    }\n",
              "\n",
              "    .dataframe thead th {\n",
              "        text-align: right;\n",
              "    }\n",
              "</style>\n",
              "<table border=\"1\" class=\"dataframe\">\n",
              "  <thead>\n",
              "    <tr style=\"text-align: right;\">\n",
              "      <th></th>\n",
              "      <th>Unnamed: 0</th>\n",
              "      <th>x1</th>\n",
              "      <th>x2</th>\n",
              "    </tr>\n",
              "  </thead>\n",
              "  <tbody>\n",
              "    <tr>\n",
              "      <th>0</th>\n",
              "      <td>0</td>\n",
              "      <td>0.560778</td>\n",
              "      <td>0.829499</td>\n",
              "    </tr>\n",
              "    <tr>\n",
              "      <th>1</th>\n",
              "      <td>1</td>\n",
              "      <td>-0.008038</td>\n",
              "      <td>0.381122</td>\n",
              "    </tr>\n",
              "    <tr>\n",
              "      <th>2</th>\n",
              "      <td>2</td>\n",
              "      <td>1.541781</td>\n",
              "      <td>-0.346447</td>\n",
              "    </tr>\n",
              "    <tr>\n",
              "      <th>3</th>\n",
              "      <td>3</td>\n",
              "      <td>1.950773</td>\n",
              "      <td>0.068763</td>\n",
              "    </tr>\n",
              "    <tr>\n",
              "      <th>4</th>\n",
              "      <td>4</td>\n",
              "      <td>1.650663</td>\n",
              "      <td>-0.328446</td>\n",
              "    </tr>\n",
              "    <tr>\n",
              "      <th>...</th>\n",
              "      <td>...</td>\n",
              "      <td>...</td>\n",
              "      <td>...</td>\n",
              "    </tr>\n",
              "    <tr>\n",
              "      <th>1695</th>\n",
              "      <td>1695</td>\n",
              "      <td>-0.668243</td>\n",
              "      <td>0.772759</td>\n",
              "    </tr>\n",
              "    <tr>\n",
              "      <th>1696</th>\n",
              "      <td>1696</td>\n",
              "      <td>1.701226</td>\n",
              "      <td>-0.144192</td>\n",
              "    </tr>\n",
              "    <tr>\n",
              "      <th>1697</th>\n",
              "      <td>1697</td>\n",
              "      <td>1.941233</td>\n",
              "      <td>0.000987</td>\n",
              "    </tr>\n",
              "    <tr>\n",
              "      <th>1698</th>\n",
              "      <td>1698</td>\n",
              "      <td>1.986689</td>\n",
              "      <td>0.309273</td>\n",
              "    </tr>\n",
              "    <tr>\n",
              "      <th>1699</th>\n",
              "      <td>1699</td>\n",
              "      <td>0.288874</td>\n",
              "      <td>-0.128405</td>\n",
              "    </tr>\n",
              "  </tbody>\n",
              "</table>\n",
              "<p>1700 rows × 3 columns</p>\n",
              "</div>\n",
              "      <button class=\"colab-df-convert\" onclick=\"convertToInteractive('df-0d39b77a-e430-4441-9dad-684d34930e68')\"\n",
              "              title=\"Convert this dataframe to an interactive table.\"\n",
              "              style=\"display:none;\">\n",
              "        \n",
              "  <svg xmlns=\"http://www.w3.org/2000/svg\" height=\"24px\"viewBox=\"0 0 24 24\"\n",
              "       width=\"24px\">\n",
              "    <path d=\"M0 0h24v24H0V0z\" fill=\"none\"/>\n",
              "    <path d=\"M18.56 5.44l.94 2.06.94-2.06 2.06-.94-2.06-.94-.94-2.06-.94 2.06-2.06.94zm-11 1L8.5 8.5l.94-2.06 2.06-.94-2.06-.94L8.5 2.5l-.94 2.06-2.06.94zm10 10l.94 2.06.94-2.06 2.06-.94-2.06-.94-.94-2.06-.94 2.06-2.06.94z\"/><path d=\"M17.41 7.96l-1.37-1.37c-.4-.4-.92-.59-1.43-.59-.52 0-1.04.2-1.43.59L10.3 9.45l-7.72 7.72c-.78.78-.78 2.05 0 2.83L4 21.41c.39.39.9.59 1.41.59.51 0 1.02-.2 1.41-.59l7.78-7.78 2.81-2.81c.8-.78.8-2.07 0-2.86zM5.41 20L4 18.59l7.72-7.72 1.47 1.35L5.41 20z\"/>\n",
              "  </svg>\n",
              "      </button>\n",
              "      \n",
              "  <style>\n",
              "    .colab-df-container {\n",
              "      display:flex;\n",
              "      flex-wrap:wrap;\n",
              "      gap: 12px;\n",
              "    }\n",
              "\n",
              "    .colab-df-convert {\n",
              "      background-color: #E8F0FE;\n",
              "      border: none;\n",
              "      border-radius: 50%;\n",
              "      cursor: pointer;\n",
              "      display: none;\n",
              "      fill: #1967D2;\n",
              "      height: 32px;\n",
              "      padding: 0 0 0 0;\n",
              "      width: 32px;\n",
              "    }\n",
              "\n",
              "    .colab-df-convert:hover {\n",
              "      background-color: #E2EBFA;\n",
              "      box-shadow: 0px 1px 2px rgba(60, 64, 67, 0.3), 0px 1px 3px 1px rgba(60, 64, 67, 0.15);\n",
              "      fill: #174EA6;\n",
              "    }\n",
              "\n",
              "    [theme=dark] .colab-df-convert {\n",
              "      background-color: #3B4455;\n",
              "      fill: #D2E3FC;\n",
              "    }\n",
              "\n",
              "    [theme=dark] .colab-df-convert:hover {\n",
              "      background-color: #434B5C;\n",
              "      box-shadow: 0px 1px 3px 1px rgba(0, 0, 0, 0.15);\n",
              "      filter: drop-shadow(0px 1px 2px rgba(0, 0, 0, 0.3));\n",
              "      fill: #FFFFFF;\n",
              "    }\n",
              "  </style>\n",
              "\n",
              "      <script>\n",
              "        const buttonEl =\n",
              "          document.querySelector('#df-0d39b77a-e430-4441-9dad-684d34930e68 button.colab-df-convert');\n",
              "        buttonEl.style.display =\n",
              "          google.colab.kernel.accessAllowed ? 'block' : 'none';\n",
              "\n",
              "        async function convertToInteractive(key) {\n",
              "          const element = document.querySelector('#df-0d39b77a-e430-4441-9dad-684d34930e68');\n",
              "          const dataTable =\n",
              "            await google.colab.kernel.invokeFunction('convertToInteractive',\n",
              "                                                     [key], {});\n",
              "          if (!dataTable) return;\n",
              "\n",
              "          const docLinkHtml = 'Like what you see? Visit the ' +\n",
              "            '<a target=\"_blank\" href=https://colab.research.google.com/notebooks/data_table.ipynb>data table notebook</a>'\n",
              "            + ' to learn more about interactive tables.';\n",
              "          element.innerHTML = '';\n",
              "          dataTable['output_type'] = 'display_data';\n",
              "          await google.colab.output.renderOutput(dataTable, element);\n",
              "          const docLink = document.createElement('div');\n",
              "          docLink.innerHTML = docLinkHtml;\n",
              "          element.appendChild(docLink);\n",
              "        }\n",
              "      </script>\n",
              "    </div>\n",
              "  </div>\n",
              "  "
            ]
          },
          "metadata": {},
          "execution_count": 76
        }
      ]
    },
    {
      "cell_type": "markdown",
      "metadata": {
        "id": "K6PxTQCPwosz"
      },
      "source": [
        "## A2 Data managment\n"
      ]
    },
    {
      "cell_type": "markdown",
      "metadata": {
        "id": "_p00SzTnwos0"
      },
      "source": [
        "Print the first 7 rows"
      ]
    },
    {
      "cell_type": "code",
      "execution_count": 6,
      "metadata": {
        "id": "PKACdV-5wos0",
        "colab": {
          "base_uri": "https://localhost:8080/",
          "height": 269
        },
        "outputId": "e6572c5c-a1dd-4a1c-d15c-fd9773c05dc0"
      },
      "outputs": [
        {
          "output_type": "execute_result",
          "data": {
            "text/plain": [
              "   Unnamed: 0        x1        x2\n",
              "0           0  0.560778  0.829499\n",
              "1           1 -0.008038  0.381122\n",
              "2           2  1.541781 -0.346447\n",
              "3           3  1.950773  0.068763\n",
              "4           4  1.650663 -0.328446\n",
              "5           5  0.312037  0.978508\n",
              "6           6  1.454846 -0.363242"
            ],
            "text/html": [
              "\n",
              "  <div id=\"df-55336a94-b520-4fe0-bc9e-fb8571afe9fc\">\n",
              "    <div class=\"colab-df-container\">\n",
              "      <div>\n",
              "<style scoped>\n",
              "    .dataframe tbody tr th:only-of-type {\n",
              "        vertical-align: middle;\n",
              "    }\n",
              "\n",
              "    .dataframe tbody tr th {\n",
              "        vertical-align: top;\n",
              "    }\n",
              "\n",
              "    .dataframe thead th {\n",
              "        text-align: right;\n",
              "    }\n",
              "</style>\n",
              "<table border=\"1\" class=\"dataframe\">\n",
              "  <thead>\n",
              "    <tr style=\"text-align: right;\">\n",
              "      <th></th>\n",
              "      <th>Unnamed: 0</th>\n",
              "      <th>x1</th>\n",
              "      <th>x2</th>\n",
              "    </tr>\n",
              "  </thead>\n",
              "  <tbody>\n",
              "    <tr>\n",
              "      <th>0</th>\n",
              "      <td>0</td>\n",
              "      <td>0.560778</td>\n",
              "      <td>0.829499</td>\n",
              "    </tr>\n",
              "    <tr>\n",
              "      <th>1</th>\n",
              "      <td>1</td>\n",
              "      <td>-0.008038</td>\n",
              "      <td>0.381122</td>\n",
              "    </tr>\n",
              "    <tr>\n",
              "      <th>2</th>\n",
              "      <td>2</td>\n",
              "      <td>1.541781</td>\n",
              "      <td>-0.346447</td>\n",
              "    </tr>\n",
              "    <tr>\n",
              "      <th>3</th>\n",
              "      <td>3</td>\n",
              "      <td>1.950773</td>\n",
              "      <td>0.068763</td>\n",
              "    </tr>\n",
              "    <tr>\n",
              "      <th>4</th>\n",
              "      <td>4</td>\n",
              "      <td>1.650663</td>\n",
              "      <td>-0.328446</td>\n",
              "    </tr>\n",
              "    <tr>\n",
              "      <th>5</th>\n",
              "      <td>5</td>\n",
              "      <td>0.312037</td>\n",
              "      <td>0.978508</td>\n",
              "    </tr>\n",
              "    <tr>\n",
              "      <th>6</th>\n",
              "      <td>6</td>\n",
              "      <td>1.454846</td>\n",
              "      <td>-0.363242</td>\n",
              "    </tr>\n",
              "  </tbody>\n",
              "</table>\n",
              "</div>\n",
              "      <button class=\"colab-df-convert\" onclick=\"convertToInteractive('df-55336a94-b520-4fe0-bc9e-fb8571afe9fc')\"\n",
              "              title=\"Convert this dataframe to an interactive table.\"\n",
              "              style=\"display:none;\">\n",
              "        \n",
              "  <svg xmlns=\"http://www.w3.org/2000/svg\" height=\"24px\"viewBox=\"0 0 24 24\"\n",
              "       width=\"24px\">\n",
              "    <path d=\"M0 0h24v24H0V0z\" fill=\"none\"/>\n",
              "    <path d=\"M18.56 5.44l.94 2.06.94-2.06 2.06-.94-2.06-.94-.94-2.06-.94 2.06-2.06.94zm-11 1L8.5 8.5l.94-2.06 2.06-.94-2.06-.94L8.5 2.5l-.94 2.06-2.06.94zm10 10l.94 2.06.94-2.06 2.06-.94-2.06-.94-.94-2.06-.94 2.06-2.06.94z\"/><path d=\"M17.41 7.96l-1.37-1.37c-.4-.4-.92-.59-1.43-.59-.52 0-1.04.2-1.43.59L10.3 9.45l-7.72 7.72c-.78.78-.78 2.05 0 2.83L4 21.41c.39.39.9.59 1.41.59.51 0 1.02-.2 1.41-.59l7.78-7.78 2.81-2.81c.8-.78.8-2.07 0-2.86zM5.41 20L4 18.59l7.72-7.72 1.47 1.35L5.41 20z\"/>\n",
              "  </svg>\n",
              "      </button>\n",
              "      \n",
              "  <style>\n",
              "    .colab-df-container {\n",
              "      display:flex;\n",
              "      flex-wrap:wrap;\n",
              "      gap: 12px;\n",
              "    }\n",
              "\n",
              "    .colab-df-convert {\n",
              "      background-color: #E8F0FE;\n",
              "      border: none;\n",
              "      border-radius: 50%;\n",
              "      cursor: pointer;\n",
              "      display: none;\n",
              "      fill: #1967D2;\n",
              "      height: 32px;\n",
              "      padding: 0 0 0 0;\n",
              "      width: 32px;\n",
              "    }\n",
              "\n",
              "    .colab-df-convert:hover {\n",
              "      background-color: #E2EBFA;\n",
              "      box-shadow: 0px 1px 2px rgba(60, 64, 67, 0.3), 0px 1px 3px 1px rgba(60, 64, 67, 0.15);\n",
              "      fill: #174EA6;\n",
              "    }\n",
              "\n",
              "    [theme=dark] .colab-df-convert {\n",
              "      background-color: #3B4455;\n",
              "      fill: #D2E3FC;\n",
              "    }\n",
              "\n",
              "    [theme=dark] .colab-df-convert:hover {\n",
              "      background-color: #434B5C;\n",
              "      box-shadow: 0px 1px 3px 1px rgba(0, 0, 0, 0.15);\n",
              "      filter: drop-shadow(0px 1px 2px rgba(0, 0, 0, 0.3));\n",
              "      fill: #FFFFFF;\n",
              "    }\n",
              "  </style>\n",
              "\n",
              "      <script>\n",
              "        const buttonEl =\n",
              "          document.querySelector('#df-55336a94-b520-4fe0-bc9e-fb8571afe9fc button.colab-df-convert');\n",
              "        buttonEl.style.display =\n",
              "          google.colab.kernel.accessAllowed ? 'block' : 'none';\n",
              "\n",
              "        async function convertToInteractive(key) {\n",
              "          const element = document.querySelector('#df-55336a94-b520-4fe0-bc9e-fb8571afe9fc');\n",
              "          const dataTable =\n",
              "            await google.colab.kernel.invokeFunction('convertToInteractive',\n",
              "                                                     [key], {});\n",
              "          if (!dataTable) return;\n",
              "\n",
              "          const docLinkHtml = 'Like what you see? Visit the ' +\n",
              "            '<a target=\"_blank\" href=https://colab.research.google.com/notebooks/data_table.ipynb>data table notebook</a>'\n",
              "            + ' to learn more about interactive tables.';\n",
              "          element.innerHTML = '';\n",
              "          dataTable['output_type'] = 'display_data';\n",
              "          await google.colab.output.renderOutput(dataTable, element);\n",
              "          const docLink = document.createElement('div');\n",
              "          docLink.innerHTML = docLinkHtml;\n",
              "          element.appendChild(docLink);\n",
              "        }\n",
              "      </script>\n",
              "    </div>\n",
              "  </div>\n",
              "  "
            ]
          },
          "metadata": {},
          "execution_count": 6
        }
      ],
      "source": [
        "df.head(7)"
      ]
    },
    {
      "cell_type": "markdown",
      "metadata": {
        "id": "ZxfymQrwwos1"
      },
      "source": [
        "Print the first 4 last rows"
      ]
    },
    {
      "cell_type": "code",
      "execution_count": 7,
      "metadata": {
        "id": "1MV-RX_Kwos1",
        "colab": {
          "base_uri": "https://localhost:8080/",
          "height": 175
        },
        "outputId": "a9ffbd37-2023-4b97-bfc0-305ff0e1fab3"
      },
      "outputs": [
        {
          "output_type": "execute_result",
          "data": {
            "text/plain": [
              "      Unnamed: 0        x1        x2\n",
              "1696        1696  1.701226 -0.144192\n",
              "1697        1697  1.941233  0.000987\n",
              "1698        1698  1.986689  0.309273\n",
              "1699        1699  0.288874 -0.128405"
            ],
            "text/html": [
              "\n",
              "  <div id=\"df-4dc39c4d-e347-4079-b5dd-9e23adafe359\">\n",
              "    <div class=\"colab-df-container\">\n",
              "      <div>\n",
              "<style scoped>\n",
              "    .dataframe tbody tr th:only-of-type {\n",
              "        vertical-align: middle;\n",
              "    }\n",
              "\n",
              "    .dataframe tbody tr th {\n",
              "        vertical-align: top;\n",
              "    }\n",
              "\n",
              "    .dataframe thead th {\n",
              "        text-align: right;\n",
              "    }\n",
              "</style>\n",
              "<table border=\"1\" class=\"dataframe\">\n",
              "  <thead>\n",
              "    <tr style=\"text-align: right;\">\n",
              "      <th></th>\n",
              "      <th>Unnamed: 0</th>\n",
              "      <th>x1</th>\n",
              "      <th>x2</th>\n",
              "    </tr>\n",
              "  </thead>\n",
              "  <tbody>\n",
              "    <tr>\n",
              "      <th>1696</th>\n",
              "      <td>1696</td>\n",
              "      <td>1.701226</td>\n",
              "      <td>-0.144192</td>\n",
              "    </tr>\n",
              "    <tr>\n",
              "      <th>1697</th>\n",
              "      <td>1697</td>\n",
              "      <td>1.941233</td>\n",
              "      <td>0.000987</td>\n",
              "    </tr>\n",
              "    <tr>\n",
              "      <th>1698</th>\n",
              "      <td>1698</td>\n",
              "      <td>1.986689</td>\n",
              "      <td>0.309273</td>\n",
              "    </tr>\n",
              "    <tr>\n",
              "      <th>1699</th>\n",
              "      <td>1699</td>\n",
              "      <td>0.288874</td>\n",
              "      <td>-0.128405</td>\n",
              "    </tr>\n",
              "  </tbody>\n",
              "</table>\n",
              "</div>\n",
              "      <button class=\"colab-df-convert\" onclick=\"convertToInteractive('df-4dc39c4d-e347-4079-b5dd-9e23adafe359')\"\n",
              "              title=\"Convert this dataframe to an interactive table.\"\n",
              "              style=\"display:none;\">\n",
              "        \n",
              "  <svg xmlns=\"http://www.w3.org/2000/svg\" height=\"24px\"viewBox=\"0 0 24 24\"\n",
              "       width=\"24px\">\n",
              "    <path d=\"M0 0h24v24H0V0z\" fill=\"none\"/>\n",
              "    <path d=\"M18.56 5.44l.94 2.06.94-2.06 2.06-.94-2.06-.94-.94-2.06-.94 2.06-2.06.94zm-11 1L8.5 8.5l.94-2.06 2.06-.94-2.06-.94L8.5 2.5l-.94 2.06-2.06.94zm10 10l.94 2.06.94-2.06 2.06-.94-2.06-.94-.94-2.06-.94 2.06-2.06.94z\"/><path d=\"M17.41 7.96l-1.37-1.37c-.4-.4-.92-.59-1.43-.59-.52 0-1.04.2-1.43.59L10.3 9.45l-7.72 7.72c-.78.78-.78 2.05 0 2.83L4 21.41c.39.39.9.59 1.41.59.51 0 1.02-.2 1.41-.59l7.78-7.78 2.81-2.81c.8-.78.8-2.07 0-2.86zM5.41 20L4 18.59l7.72-7.72 1.47 1.35L5.41 20z\"/>\n",
              "  </svg>\n",
              "      </button>\n",
              "      \n",
              "  <style>\n",
              "    .colab-df-container {\n",
              "      display:flex;\n",
              "      flex-wrap:wrap;\n",
              "      gap: 12px;\n",
              "    }\n",
              "\n",
              "    .colab-df-convert {\n",
              "      background-color: #E8F0FE;\n",
              "      border: none;\n",
              "      border-radius: 50%;\n",
              "      cursor: pointer;\n",
              "      display: none;\n",
              "      fill: #1967D2;\n",
              "      height: 32px;\n",
              "      padding: 0 0 0 0;\n",
              "      width: 32px;\n",
              "    }\n",
              "\n",
              "    .colab-df-convert:hover {\n",
              "      background-color: #E2EBFA;\n",
              "      box-shadow: 0px 1px 2px rgba(60, 64, 67, 0.3), 0px 1px 3px 1px rgba(60, 64, 67, 0.15);\n",
              "      fill: #174EA6;\n",
              "    }\n",
              "\n",
              "    [theme=dark] .colab-df-convert {\n",
              "      background-color: #3B4455;\n",
              "      fill: #D2E3FC;\n",
              "    }\n",
              "\n",
              "    [theme=dark] .colab-df-convert:hover {\n",
              "      background-color: #434B5C;\n",
              "      box-shadow: 0px 1px 3px 1px rgba(0, 0, 0, 0.15);\n",
              "      filter: drop-shadow(0px 1px 2px rgba(0, 0, 0, 0.3));\n",
              "      fill: #FFFFFF;\n",
              "    }\n",
              "  </style>\n",
              "\n",
              "      <script>\n",
              "        const buttonEl =\n",
              "          document.querySelector('#df-4dc39c4d-e347-4079-b5dd-9e23adafe359 button.colab-df-convert');\n",
              "        buttonEl.style.display =\n",
              "          google.colab.kernel.accessAllowed ? 'block' : 'none';\n",
              "\n",
              "        async function convertToInteractive(key) {\n",
              "          const element = document.querySelector('#df-4dc39c4d-e347-4079-b5dd-9e23adafe359');\n",
              "          const dataTable =\n",
              "            await google.colab.kernel.invokeFunction('convertToInteractive',\n",
              "                                                     [key], {});\n",
              "          if (!dataTable) return;\n",
              "\n",
              "          const docLinkHtml = 'Like what you see? Visit the ' +\n",
              "            '<a target=\"_blank\" href=https://colab.research.google.com/notebooks/data_table.ipynb>data table notebook</a>'\n",
              "            + ' to learn more about interactive tables.';\n",
              "          element.innerHTML = '';\n",
              "          dataTable['output_type'] = 'display_data';\n",
              "          await google.colab.output.renderOutput(dataTable, element);\n",
              "          const docLink = document.createElement('div');\n",
              "          docLink.innerHTML = docLinkHtml;\n",
              "          element.appendChild(docLink);\n",
              "        }\n",
              "      </script>\n",
              "    </div>\n",
              "  </div>\n",
              "  "
            ]
          },
          "metadata": {},
          "execution_count": 7
        }
      ],
      "source": [
        "df.tail(4)"
      ]
    },
    {
      "cell_type": "markdown",
      "metadata": {
        "id": "Ux5viuFawos2"
      },
      "source": [
        "How many rows and columns are in your data?\n",
        "\n",
        "Use the `shape` method\n"
      ]
    },
    {
      "cell_type": "code",
      "execution_count": 9,
      "metadata": {
        "id": "mdxeliZZwos2",
        "colab": {
          "base_uri": "https://localhost:8080/"
        },
        "outputId": "ed6354c2-70c7-4987-ec36-29b281ba210f"
      },
      "outputs": [
        {
          "output_type": "stream",
          "name": "stdout",
          "text": [
            "Numero de filas: 1700\n",
            "Numero de columnas: 3\n"
          ]
        }
      ],
      "source": [
        "total_rows=len(df.axes[0])\n",
        "print(\"Numero de filas: \"+str(total_rows))\n",
        "total_rows=len(df.axes[1])\n",
        "print(\"Numero de columnas: \"+str(total_rows))\n"
      ]
    },
    {
      "cell_type": "markdown",
      "metadata": {
        "id": "UF7KxxWXwos2"
      },
      "source": [
        "Print the name of all columns \n",
        "\n",
        "Use the `columns` method"
      ]
    },
    {
      "cell_type": "code",
      "execution_count": 11,
      "metadata": {
        "id": "oP7wMd4twos3",
        "colab": {
          "base_uri": "https://localhost:8080/"
        },
        "outputId": "b1ba0984-2a3f-4d4b-d782-68bb55c8603b"
      },
      "outputs": [
        {
          "output_type": "stream",
          "name": "stdout",
          "text": [
            "Index(['Unnamed: 0', 'x1', 'x2'], dtype='object')\n"
          ]
        }
      ],
      "source": [
        "print(df.keys())"
      ]
    },
    {
      "cell_type": "markdown",
      "metadata": {
        "id": "yNxVVsujwos3"
      },
      "source": [
        "What is the data type in each column\n",
        "\n",
        "Use the `dtypes` method "
      ]
    },
    {
      "cell_type": "code",
      "execution_count": 12,
      "metadata": {
        "id": "2iWhhQDEwos3",
        "colab": {
          "base_uri": "https://localhost:8080/"
        },
        "outputId": "1011eb60-a6ca-436c-b6b1-4ac426406da8"
      },
      "outputs": [
        {
          "output_type": "execute_result",
          "data": {
            "text/plain": [
              "Unnamed: 0      int64\n",
              "x1            float64\n",
              "x2            float64\n",
              "dtype: object"
            ]
          },
          "metadata": {},
          "execution_count": 12
        }
      ],
      "source": [
        "datatypes = df.dtypes\n",
        "datatypes"
      ]
    },
    {
      "cell_type": "markdown",
      "metadata": {
        "id": "PNjUvthBwos3"
      },
      "source": [
        "What is the meaning of rows and columns?"
      ]
    },
    {
      "cell_type": "code",
      "execution_count": null,
      "metadata": {
        "id": "fpwz5oclwos3"
      },
      "outputs": [],
      "source": [
        "# Your responses here\n",
        "\n",
        "#1) Lo vemos por filas tenemos en  la primera los encabezados que nos indica las variables y despues tenemos 2 entradas de datos que esta enumerada\n",
        "\n",
        "\"\"\"2) Lo vemos por columnas los datos tenemos hasta la primera columna que no tiene un encabezado que se utlizada para enumerar la entrada de datos, la segunda nos indica \n",
        " la entrada de datos de la variable x1 y la segunda nos indica la entrada de datos de la variable x2\"\"\"\n",
        "\n",
        "#3) Cuando lo vemos completo, son dos variables que tienen dos entradas de datos y cada entrada esta enumerada hasta llegar al 1699"
      ]
    },
    {
      "cell_type": "markdown",
      "metadata": {
        "id": "zmiKFWplwos4"
      },
      "source": [
        "Print a statistical summary of your columns\n"
      ]
    },
    {
      "cell_type": "code",
      "execution_count": 25,
      "metadata": {
        "id": "zfCgq1rCwos4",
        "colab": {
          "base_uri": "https://localhost:8080/",
          "height": 335
        },
        "outputId": "8beadfa9-69c1-458a-dce9-67799110780a"
      },
      "outputs": [
        {
          "output_type": "stream",
          "name": "stdout",
          "text": [
            "0.5011117528162025\n",
            "0.25267001656880317\n"
          ]
        },
        {
          "output_type": "execute_result",
          "data": {
            "text/plain": [
              "        Unnamed: 0           x1           x2\n",
              "count  1700.000000  1700.000000  1700.000000\n",
              "mean    849.500000     0.501112     0.252670\n",
              "std     490.892045     0.868836     0.496579\n",
              "min       0.000000    -1.152887    -0.626515\n",
              "25%     424.750000    -0.033787    -0.202554\n",
              "50%     849.500000     0.496433     0.252857\n",
              "75%    1274.250000     1.036949     0.704387\n",
              "max    1699.000000     2.125947     1.108099"
            ],
            "text/html": [
              "\n",
              "  <div id=\"df-dbaf73cd-f681-4d5a-a4ce-ecb371c0bae3\">\n",
              "    <div class=\"colab-df-container\">\n",
              "      <div>\n",
              "<style scoped>\n",
              "    .dataframe tbody tr th:only-of-type {\n",
              "        vertical-align: middle;\n",
              "    }\n",
              "\n",
              "    .dataframe tbody tr th {\n",
              "        vertical-align: top;\n",
              "    }\n",
              "\n",
              "    .dataframe thead th {\n",
              "        text-align: right;\n",
              "    }\n",
              "</style>\n",
              "<table border=\"1\" class=\"dataframe\">\n",
              "  <thead>\n",
              "    <tr style=\"text-align: right;\">\n",
              "      <th></th>\n",
              "      <th>Unnamed: 0</th>\n",
              "      <th>x1</th>\n",
              "      <th>x2</th>\n",
              "    </tr>\n",
              "  </thead>\n",
              "  <tbody>\n",
              "    <tr>\n",
              "      <th>count</th>\n",
              "      <td>1700.000000</td>\n",
              "      <td>1700.000000</td>\n",
              "      <td>1700.000000</td>\n",
              "    </tr>\n",
              "    <tr>\n",
              "      <th>mean</th>\n",
              "      <td>849.500000</td>\n",
              "      <td>0.501112</td>\n",
              "      <td>0.252670</td>\n",
              "    </tr>\n",
              "    <tr>\n",
              "      <th>std</th>\n",
              "      <td>490.892045</td>\n",
              "      <td>0.868836</td>\n",
              "      <td>0.496579</td>\n",
              "    </tr>\n",
              "    <tr>\n",
              "      <th>min</th>\n",
              "      <td>0.000000</td>\n",
              "      <td>-1.152887</td>\n",
              "      <td>-0.626515</td>\n",
              "    </tr>\n",
              "    <tr>\n",
              "      <th>25%</th>\n",
              "      <td>424.750000</td>\n",
              "      <td>-0.033787</td>\n",
              "      <td>-0.202554</td>\n",
              "    </tr>\n",
              "    <tr>\n",
              "      <th>50%</th>\n",
              "      <td>849.500000</td>\n",
              "      <td>0.496433</td>\n",
              "      <td>0.252857</td>\n",
              "    </tr>\n",
              "    <tr>\n",
              "      <th>75%</th>\n",
              "      <td>1274.250000</td>\n",
              "      <td>1.036949</td>\n",
              "      <td>0.704387</td>\n",
              "    </tr>\n",
              "    <tr>\n",
              "      <th>max</th>\n",
              "      <td>1699.000000</td>\n",
              "      <td>2.125947</td>\n",
              "      <td>1.108099</td>\n",
              "    </tr>\n",
              "  </tbody>\n",
              "</table>\n",
              "</div>\n",
              "      <button class=\"colab-df-convert\" onclick=\"convertToInteractive('df-dbaf73cd-f681-4d5a-a4ce-ecb371c0bae3')\"\n",
              "              title=\"Convert this dataframe to an interactive table.\"\n",
              "              style=\"display:none;\">\n",
              "        \n",
              "  <svg xmlns=\"http://www.w3.org/2000/svg\" height=\"24px\"viewBox=\"0 0 24 24\"\n",
              "       width=\"24px\">\n",
              "    <path d=\"M0 0h24v24H0V0z\" fill=\"none\"/>\n",
              "    <path d=\"M18.56 5.44l.94 2.06.94-2.06 2.06-.94-2.06-.94-.94-2.06-.94 2.06-2.06.94zm-11 1L8.5 8.5l.94-2.06 2.06-.94-2.06-.94L8.5 2.5l-.94 2.06-2.06.94zm10 10l.94 2.06.94-2.06 2.06-.94-2.06-.94-.94-2.06-.94 2.06-2.06.94z\"/><path d=\"M17.41 7.96l-1.37-1.37c-.4-.4-.92-.59-1.43-.59-.52 0-1.04.2-1.43.59L10.3 9.45l-7.72 7.72c-.78.78-.78 2.05 0 2.83L4 21.41c.39.39.9.59 1.41.59.51 0 1.02-.2 1.41-.59l7.78-7.78 2.81-2.81c.8-.78.8-2.07 0-2.86zM5.41 20L4 18.59l7.72-7.72 1.47 1.35L5.41 20z\"/>\n",
              "  </svg>\n",
              "      </button>\n",
              "      \n",
              "  <style>\n",
              "    .colab-df-container {\n",
              "      display:flex;\n",
              "      flex-wrap:wrap;\n",
              "      gap: 12px;\n",
              "    }\n",
              "\n",
              "    .colab-df-convert {\n",
              "      background-color: #E8F0FE;\n",
              "      border: none;\n",
              "      border-radius: 50%;\n",
              "      cursor: pointer;\n",
              "      display: none;\n",
              "      fill: #1967D2;\n",
              "      height: 32px;\n",
              "      padding: 0 0 0 0;\n",
              "      width: 32px;\n",
              "    }\n",
              "\n",
              "    .colab-df-convert:hover {\n",
              "      background-color: #E2EBFA;\n",
              "      box-shadow: 0px 1px 2px rgba(60, 64, 67, 0.3), 0px 1px 3px 1px rgba(60, 64, 67, 0.15);\n",
              "      fill: #174EA6;\n",
              "    }\n",
              "\n",
              "    [theme=dark] .colab-df-convert {\n",
              "      background-color: #3B4455;\n",
              "      fill: #D2E3FC;\n",
              "    }\n",
              "\n",
              "    [theme=dark] .colab-df-convert:hover {\n",
              "      background-color: #434B5C;\n",
              "      box-shadow: 0px 1px 3px 1px rgba(0, 0, 0, 0.15);\n",
              "      filter: drop-shadow(0px 1px 2px rgba(0, 0, 0, 0.3));\n",
              "      fill: #FFFFFF;\n",
              "    }\n",
              "  </style>\n",
              "\n",
              "      <script>\n",
              "        const buttonEl =\n",
              "          document.querySelector('#df-dbaf73cd-f681-4d5a-a4ce-ecb371c0bae3 button.colab-df-convert');\n",
              "        buttonEl.style.display =\n",
              "          google.colab.kernel.accessAllowed ? 'block' : 'none';\n",
              "\n",
              "        async function convertToInteractive(key) {\n",
              "          const element = document.querySelector('#df-dbaf73cd-f681-4d5a-a4ce-ecb371c0bae3');\n",
              "          const dataTable =\n",
              "            await google.colab.kernel.invokeFunction('convertToInteractive',\n",
              "                                                     [key], {});\n",
              "          if (!dataTable) return;\n",
              "\n",
              "          const docLinkHtml = 'Like what you see? Visit the ' +\n",
              "            '<a target=\"_blank\" href=https://colab.research.google.com/notebooks/data_table.ipynb>data table notebook</a>'\n",
              "            + ' to learn more about interactive tables.';\n",
              "          element.innerHTML = '';\n",
              "          dataTable['output_type'] = 'display_data';\n",
              "          await google.colab.output.renderOutput(dataTable, element);\n",
              "          const docLink = document.createElement('div');\n",
              "          docLink.innerHTML = docLinkHtml;\n",
              "          element.appendChild(docLink);\n",
              "        }\n",
              "      </script>\n",
              "    </div>\n",
              "  </div>\n",
              "  "
            ]
          },
          "metadata": {},
          "execution_count": 25
        }
      ],
      "source": [
        "print(df['x1'].mean()) #Calculate the average\n",
        "print(df['x2'].mean()) #Calculate the average\n",
        "df.describe()"
      ]
    },
    {
      "cell_type": "code",
      "execution_count": 27,
      "metadata": {
        "id": "VWjVJkzywos4",
        "colab": {
          "base_uri": "https://localhost:8080/",
          "height": 88
        },
        "outputId": "485f310a-a9ba-43cf-e738-ba2278d6db5a"
      },
      "outputs": [
        {
          "output_type": "stream",
          "name": "stdout",
          "text": [
            "0.8688361068000848\n",
            "0.4965785299011676\n"
          ]
        },
        {
          "output_type": "execute_result",
          "data": {
            "text/plain": [
              "'El porcentaje que nos arroja signfica que es el percentil \\nque esta debajo de este por el ejemplo el 25%, \\nel percentil 25% es el valor que está por debajo del 25% de los datos '"
            ],
            "application/vnd.google.colaboratory.intrinsic+json": {
              "type": "string"
            }
          },
          "metadata": {},
          "execution_count": 27
        }
      ],
      "source": [
        "# 1) What is the minumum and maximum values of each variable\n",
        "df.max()\n",
        "\n",
        "# 2) What is the mean and standar deviation of each variable\n",
        "df.mean() #Calculate the average\n",
        "print(df['x1'].std()) #Standar deviation\n",
        "print(df['x2'].std()) #Standar deviation\n",
        "\n",
        "\n",
        "# 3) What the 25%, 50% and 75% represent?\n",
        "\"\"\"El porcentaje que nos arroja signfica que es el percentil \n",
        "que esta debajo de este por el ejemplo el 25%, \n",
        "el percentil 25% es el valor que está por debajo del 25% de los datos \"\"\"\n"
      ]
    },
    {
      "cell_type": "markdown",
      "metadata": {
        "id": "aAw71FyBwos5"
      },
      "source": [
        "Rename the columns using the same name with capital letters"
      ]
    },
    {
      "cell_type": "code",
      "execution_count": 45,
      "metadata": {
        "id": "-P51-t7mwos5",
        "colab": {
          "base_uri": "https://localhost:8080/",
          "height": 423
        },
        "outputId": "8acd1749-24fc-4dfe-85db-cc5c475b7416"
      },
      "outputs": [
        {
          "output_type": "execute_result",
          "data": {
            "text/plain": [
              "      Unnamed: 0        X1        X2\n",
              "0              0  0.560778  0.829499\n",
              "1              1 -0.008038  0.381122\n",
              "2              2  1.541781 -0.346447\n",
              "3              3  1.950773  0.068763\n",
              "4              4  1.650663 -0.328446\n",
              "...          ...       ...       ...\n",
              "1695        1695 -0.668243  0.772759\n",
              "1696        1696  1.701226 -0.144192\n",
              "1697        1697  1.941233  0.000987\n",
              "1698        1698  1.986689  0.309273\n",
              "1699        1699  0.288874 -0.128405\n",
              "\n",
              "[1700 rows x 3 columns]"
            ],
            "text/html": [
              "\n",
              "  <div id=\"df-d4396937-0080-45f0-bd46-5b7f76f69f29\">\n",
              "    <div class=\"colab-df-container\">\n",
              "      <div>\n",
              "<style scoped>\n",
              "    .dataframe tbody tr th:only-of-type {\n",
              "        vertical-align: middle;\n",
              "    }\n",
              "\n",
              "    .dataframe tbody tr th {\n",
              "        vertical-align: top;\n",
              "    }\n",
              "\n",
              "    .dataframe thead th {\n",
              "        text-align: right;\n",
              "    }\n",
              "</style>\n",
              "<table border=\"1\" class=\"dataframe\">\n",
              "  <thead>\n",
              "    <tr style=\"text-align: right;\">\n",
              "      <th></th>\n",
              "      <th>Unnamed: 0</th>\n",
              "      <th>X1</th>\n",
              "      <th>X2</th>\n",
              "    </tr>\n",
              "  </thead>\n",
              "  <tbody>\n",
              "    <tr>\n",
              "      <th>0</th>\n",
              "      <td>0</td>\n",
              "      <td>0.560778</td>\n",
              "      <td>0.829499</td>\n",
              "    </tr>\n",
              "    <tr>\n",
              "      <th>1</th>\n",
              "      <td>1</td>\n",
              "      <td>-0.008038</td>\n",
              "      <td>0.381122</td>\n",
              "    </tr>\n",
              "    <tr>\n",
              "      <th>2</th>\n",
              "      <td>2</td>\n",
              "      <td>1.541781</td>\n",
              "      <td>-0.346447</td>\n",
              "    </tr>\n",
              "    <tr>\n",
              "      <th>3</th>\n",
              "      <td>3</td>\n",
              "      <td>1.950773</td>\n",
              "      <td>0.068763</td>\n",
              "    </tr>\n",
              "    <tr>\n",
              "      <th>4</th>\n",
              "      <td>4</td>\n",
              "      <td>1.650663</td>\n",
              "      <td>-0.328446</td>\n",
              "    </tr>\n",
              "    <tr>\n",
              "      <th>...</th>\n",
              "      <td>...</td>\n",
              "      <td>...</td>\n",
              "      <td>...</td>\n",
              "    </tr>\n",
              "    <tr>\n",
              "      <th>1695</th>\n",
              "      <td>1695</td>\n",
              "      <td>-0.668243</td>\n",
              "      <td>0.772759</td>\n",
              "    </tr>\n",
              "    <tr>\n",
              "      <th>1696</th>\n",
              "      <td>1696</td>\n",
              "      <td>1.701226</td>\n",
              "      <td>-0.144192</td>\n",
              "    </tr>\n",
              "    <tr>\n",
              "      <th>1697</th>\n",
              "      <td>1697</td>\n",
              "      <td>1.941233</td>\n",
              "      <td>0.000987</td>\n",
              "    </tr>\n",
              "    <tr>\n",
              "      <th>1698</th>\n",
              "      <td>1698</td>\n",
              "      <td>1.986689</td>\n",
              "      <td>0.309273</td>\n",
              "    </tr>\n",
              "    <tr>\n",
              "      <th>1699</th>\n",
              "      <td>1699</td>\n",
              "      <td>0.288874</td>\n",
              "      <td>-0.128405</td>\n",
              "    </tr>\n",
              "  </tbody>\n",
              "</table>\n",
              "<p>1700 rows × 3 columns</p>\n",
              "</div>\n",
              "      <button class=\"colab-df-convert\" onclick=\"convertToInteractive('df-d4396937-0080-45f0-bd46-5b7f76f69f29')\"\n",
              "              title=\"Convert this dataframe to an interactive table.\"\n",
              "              style=\"display:none;\">\n",
              "        \n",
              "  <svg xmlns=\"http://www.w3.org/2000/svg\" height=\"24px\"viewBox=\"0 0 24 24\"\n",
              "       width=\"24px\">\n",
              "    <path d=\"M0 0h24v24H0V0z\" fill=\"none\"/>\n",
              "    <path d=\"M18.56 5.44l.94 2.06.94-2.06 2.06-.94-2.06-.94-.94-2.06-.94 2.06-2.06.94zm-11 1L8.5 8.5l.94-2.06 2.06-.94-2.06-.94L8.5 2.5l-.94 2.06-2.06.94zm10 10l.94 2.06.94-2.06 2.06-.94-2.06-.94-.94-2.06-.94 2.06-2.06.94z\"/><path d=\"M17.41 7.96l-1.37-1.37c-.4-.4-.92-.59-1.43-.59-.52 0-1.04.2-1.43.59L10.3 9.45l-7.72 7.72c-.78.78-.78 2.05 0 2.83L4 21.41c.39.39.9.59 1.41.59.51 0 1.02-.2 1.41-.59l7.78-7.78 2.81-2.81c.8-.78.8-2.07 0-2.86zM5.41 20L4 18.59l7.72-7.72 1.47 1.35L5.41 20z\"/>\n",
              "  </svg>\n",
              "      </button>\n",
              "      \n",
              "  <style>\n",
              "    .colab-df-container {\n",
              "      display:flex;\n",
              "      flex-wrap:wrap;\n",
              "      gap: 12px;\n",
              "    }\n",
              "\n",
              "    .colab-df-convert {\n",
              "      background-color: #E8F0FE;\n",
              "      border: none;\n",
              "      border-radius: 50%;\n",
              "      cursor: pointer;\n",
              "      display: none;\n",
              "      fill: #1967D2;\n",
              "      height: 32px;\n",
              "      padding: 0 0 0 0;\n",
              "      width: 32px;\n",
              "    }\n",
              "\n",
              "    .colab-df-convert:hover {\n",
              "      background-color: #E2EBFA;\n",
              "      box-shadow: 0px 1px 2px rgba(60, 64, 67, 0.3), 0px 1px 3px 1px rgba(60, 64, 67, 0.15);\n",
              "      fill: #174EA6;\n",
              "    }\n",
              "\n",
              "    [theme=dark] .colab-df-convert {\n",
              "      background-color: #3B4455;\n",
              "      fill: #D2E3FC;\n",
              "    }\n",
              "\n",
              "    [theme=dark] .colab-df-convert:hover {\n",
              "      background-color: #434B5C;\n",
              "      box-shadow: 0px 1px 3px 1px rgba(0, 0, 0, 0.15);\n",
              "      filter: drop-shadow(0px 1px 2px rgba(0, 0, 0, 0.3));\n",
              "      fill: #FFFFFF;\n",
              "    }\n",
              "  </style>\n",
              "\n",
              "      <script>\n",
              "        const buttonEl =\n",
              "          document.querySelector('#df-d4396937-0080-45f0-bd46-5b7f76f69f29 button.colab-df-convert');\n",
              "        buttonEl.style.display =\n",
              "          google.colab.kernel.accessAllowed ? 'block' : 'none';\n",
              "\n",
              "        async function convertToInteractive(key) {\n",
              "          const element = document.querySelector('#df-d4396937-0080-45f0-bd46-5b7f76f69f29');\n",
              "          const dataTable =\n",
              "            await google.colab.kernel.invokeFunction('convertToInteractive',\n",
              "                                                     [key], {});\n",
              "          if (!dataTable) return;\n",
              "\n",
              "          const docLinkHtml = 'Like what you see? Visit the ' +\n",
              "            '<a target=\"_blank\" href=https://colab.research.google.com/notebooks/data_table.ipynb>data table notebook</a>'\n",
              "            + ' to learn more about interactive tables.';\n",
              "          element.innerHTML = '';\n",
              "          dataTable['output_type'] = 'display_data';\n",
              "          await google.colab.output.renderOutput(dataTable, element);\n",
              "          const docLink = document.createElement('div');\n",
              "          docLink.innerHTML = docLinkHtml;\n",
              "          element.appendChild(docLink);\n",
              "        }\n",
              "      </script>\n",
              "    </div>\n",
              "  </div>\n",
              "  "
            ]
          },
          "metadata": {},
          "execution_count": 45
        }
      ],
      "source": [
        "df.rename(columns={'x1': 'X1', 'x2': 'X2'})"
      ]
    },
    {
      "cell_type": "markdown",
      "metadata": {
        "id": "qBw7m1jnwos5"
      },
      "source": [
        "Rename the columns to their original names"
      ]
    },
    {
      "cell_type": "code",
      "execution_count": 46,
      "metadata": {
        "id": "OQKKTSd1wos6",
        "colab": {
          "base_uri": "https://localhost:8080/",
          "height": 423
        },
        "outputId": "b57a57ea-f085-488c-fe1f-23cdb039ffd5"
      },
      "outputs": [
        {
          "output_type": "execute_result",
          "data": {
            "text/plain": [
              "      Unnamed: 0        x1        x2\n",
              "0              0  0.560778  0.829499\n",
              "1              1 -0.008038  0.381122\n",
              "2              2  1.541781 -0.346447\n",
              "3              3  1.950773  0.068763\n",
              "4              4  1.650663 -0.328446\n",
              "...          ...       ...       ...\n",
              "1695        1695 -0.668243  0.772759\n",
              "1696        1696  1.701226 -0.144192\n",
              "1697        1697  1.941233  0.000987\n",
              "1698        1698  1.986689  0.309273\n",
              "1699        1699  0.288874 -0.128405\n",
              "\n",
              "[1700 rows x 3 columns]"
            ],
            "text/html": [
              "\n",
              "  <div id=\"df-a6c73a97-4159-4606-a933-b12da47409f8\">\n",
              "    <div class=\"colab-df-container\">\n",
              "      <div>\n",
              "<style scoped>\n",
              "    .dataframe tbody tr th:only-of-type {\n",
              "        vertical-align: middle;\n",
              "    }\n",
              "\n",
              "    .dataframe tbody tr th {\n",
              "        vertical-align: top;\n",
              "    }\n",
              "\n",
              "    .dataframe thead th {\n",
              "        text-align: right;\n",
              "    }\n",
              "</style>\n",
              "<table border=\"1\" class=\"dataframe\">\n",
              "  <thead>\n",
              "    <tr style=\"text-align: right;\">\n",
              "      <th></th>\n",
              "      <th>Unnamed: 0</th>\n",
              "      <th>x1</th>\n",
              "      <th>x2</th>\n",
              "    </tr>\n",
              "  </thead>\n",
              "  <tbody>\n",
              "    <tr>\n",
              "      <th>0</th>\n",
              "      <td>0</td>\n",
              "      <td>0.560778</td>\n",
              "      <td>0.829499</td>\n",
              "    </tr>\n",
              "    <tr>\n",
              "      <th>1</th>\n",
              "      <td>1</td>\n",
              "      <td>-0.008038</td>\n",
              "      <td>0.381122</td>\n",
              "    </tr>\n",
              "    <tr>\n",
              "      <th>2</th>\n",
              "      <td>2</td>\n",
              "      <td>1.541781</td>\n",
              "      <td>-0.346447</td>\n",
              "    </tr>\n",
              "    <tr>\n",
              "      <th>3</th>\n",
              "      <td>3</td>\n",
              "      <td>1.950773</td>\n",
              "      <td>0.068763</td>\n",
              "    </tr>\n",
              "    <tr>\n",
              "      <th>4</th>\n",
              "      <td>4</td>\n",
              "      <td>1.650663</td>\n",
              "      <td>-0.328446</td>\n",
              "    </tr>\n",
              "    <tr>\n",
              "      <th>...</th>\n",
              "      <td>...</td>\n",
              "      <td>...</td>\n",
              "      <td>...</td>\n",
              "    </tr>\n",
              "    <tr>\n",
              "      <th>1695</th>\n",
              "      <td>1695</td>\n",
              "      <td>-0.668243</td>\n",
              "      <td>0.772759</td>\n",
              "    </tr>\n",
              "    <tr>\n",
              "      <th>1696</th>\n",
              "      <td>1696</td>\n",
              "      <td>1.701226</td>\n",
              "      <td>-0.144192</td>\n",
              "    </tr>\n",
              "    <tr>\n",
              "      <th>1697</th>\n",
              "      <td>1697</td>\n",
              "      <td>1.941233</td>\n",
              "      <td>0.000987</td>\n",
              "    </tr>\n",
              "    <tr>\n",
              "      <th>1698</th>\n",
              "      <td>1698</td>\n",
              "      <td>1.986689</td>\n",
              "      <td>0.309273</td>\n",
              "    </tr>\n",
              "    <tr>\n",
              "      <th>1699</th>\n",
              "      <td>1699</td>\n",
              "      <td>0.288874</td>\n",
              "      <td>-0.128405</td>\n",
              "    </tr>\n",
              "  </tbody>\n",
              "</table>\n",
              "<p>1700 rows × 3 columns</p>\n",
              "</div>\n",
              "      <button class=\"colab-df-convert\" onclick=\"convertToInteractive('df-a6c73a97-4159-4606-a933-b12da47409f8')\"\n",
              "              title=\"Convert this dataframe to an interactive table.\"\n",
              "              style=\"display:none;\">\n",
              "        \n",
              "  <svg xmlns=\"http://www.w3.org/2000/svg\" height=\"24px\"viewBox=\"0 0 24 24\"\n",
              "       width=\"24px\">\n",
              "    <path d=\"M0 0h24v24H0V0z\" fill=\"none\"/>\n",
              "    <path d=\"M18.56 5.44l.94 2.06.94-2.06 2.06-.94-2.06-.94-.94-2.06-.94 2.06-2.06.94zm-11 1L8.5 8.5l.94-2.06 2.06-.94-2.06-.94L8.5 2.5l-.94 2.06-2.06.94zm10 10l.94 2.06.94-2.06 2.06-.94-2.06-.94-.94-2.06-.94 2.06-2.06.94z\"/><path d=\"M17.41 7.96l-1.37-1.37c-.4-.4-.92-.59-1.43-.59-.52 0-1.04.2-1.43.59L10.3 9.45l-7.72 7.72c-.78.78-.78 2.05 0 2.83L4 21.41c.39.39.9.59 1.41.59.51 0 1.02-.2 1.41-.59l7.78-7.78 2.81-2.81c.8-.78.8-2.07 0-2.86zM5.41 20L4 18.59l7.72-7.72 1.47 1.35L5.41 20z\"/>\n",
              "  </svg>\n",
              "      </button>\n",
              "      \n",
              "  <style>\n",
              "    .colab-df-container {\n",
              "      display:flex;\n",
              "      flex-wrap:wrap;\n",
              "      gap: 12px;\n",
              "    }\n",
              "\n",
              "    .colab-df-convert {\n",
              "      background-color: #E8F0FE;\n",
              "      border: none;\n",
              "      border-radius: 50%;\n",
              "      cursor: pointer;\n",
              "      display: none;\n",
              "      fill: #1967D2;\n",
              "      height: 32px;\n",
              "      padding: 0 0 0 0;\n",
              "      width: 32px;\n",
              "    }\n",
              "\n",
              "    .colab-df-convert:hover {\n",
              "      background-color: #E2EBFA;\n",
              "      box-shadow: 0px 1px 2px rgba(60, 64, 67, 0.3), 0px 1px 3px 1px rgba(60, 64, 67, 0.15);\n",
              "      fill: #174EA6;\n",
              "    }\n",
              "\n",
              "    [theme=dark] .colab-df-convert {\n",
              "      background-color: #3B4455;\n",
              "      fill: #D2E3FC;\n",
              "    }\n",
              "\n",
              "    [theme=dark] .colab-df-convert:hover {\n",
              "      background-color: #434B5C;\n",
              "      box-shadow: 0px 1px 3px 1px rgba(0, 0, 0, 0.15);\n",
              "      filter: drop-shadow(0px 1px 2px rgba(0, 0, 0, 0.3));\n",
              "      fill: #FFFFFF;\n",
              "    }\n",
              "  </style>\n",
              "\n",
              "      <script>\n",
              "        const buttonEl =\n",
              "          document.querySelector('#df-a6c73a97-4159-4606-a933-b12da47409f8 button.colab-df-convert');\n",
              "        buttonEl.style.display =\n",
              "          google.colab.kernel.accessAllowed ? 'block' : 'none';\n",
              "\n",
              "        async function convertToInteractive(key) {\n",
              "          const element = document.querySelector('#df-a6c73a97-4159-4606-a933-b12da47409f8');\n",
              "          const dataTable =\n",
              "            await google.colab.kernel.invokeFunction('convertToInteractive',\n",
              "                                                     [key], {});\n",
              "          if (!dataTable) return;\n",
              "\n",
              "          const docLinkHtml = 'Like what you see? Visit the ' +\n",
              "            '<a target=\"_blank\" href=https://colab.research.google.com/notebooks/data_table.ipynb>data table notebook</a>'\n",
              "            + ' to learn more about interactive tables.';\n",
              "          element.innerHTML = '';\n",
              "          dataTable['output_type'] = 'display_data';\n",
              "          await google.colab.output.renderOutput(dataTable, element);\n",
              "          const docLink = document.createElement('div');\n",
              "          docLink.innerHTML = docLinkHtml;\n",
              "          element.appendChild(docLink);\n",
              "        }\n",
              "      </script>\n",
              "    </div>\n",
              "  </div>\n",
              "  "
            ]
          },
          "metadata": {},
          "execution_count": 46
        }
      ],
      "source": [
        "df.rename(columns={'x1': 'x1', 'x2': 'x2'})"
      ]
    },
    {
      "cell_type": "markdown",
      "metadata": {
        "id": "_5rZYbp_wos6"
      },
      "source": [
        "Use two different alternatives to get one of the columns"
      ]
    },
    {
      "cell_type": "code",
      "execution_count": 51,
      "metadata": {
        "id": "9HT8IRkfwos6",
        "colab": {
          "base_uri": "https://localhost:8080/"
        },
        "outputId": "bb6439e0-ee78-4688-8a80-d5feba958fe3"
      },
      "outputs": [
        {
          "output_type": "execute_result",
          "data": {
            "text/plain": [
              "0       0.560778\n",
              "1      -0.008038\n",
              "2       1.541781\n",
              "3       1.950773\n",
              "4       1.650663\n",
              "          ...   \n",
              "1695   -0.668243\n",
              "1696    1.701226\n",
              "1697    1.941233\n",
              "1698    1.986689\n",
              "1699    0.288874\n",
              "Name: x1, Length: 1700, dtype: float64"
            ]
          },
          "metadata": {},
          "execution_count": 51
        }
      ],
      "source": [
        "columna_nombre = df[\"x1\"]\n",
        "columna_nombre"
      ]
    },
    {
      "cell_type": "code",
      "source": [
        "columna_nombre = df.loc[:, \"x2\"]\n",
        "columna_nombre"
      ],
      "metadata": {
        "colab": {
          "base_uri": "https://localhost:8080/"
        },
        "id": "DHBT56WE-ahq",
        "outputId": "2e435871-9c11-4885-e73c-294b080af932"
      },
      "execution_count": 52,
      "outputs": [
        {
          "output_type": "execute_result",
          "data": {
            "text/plain": [
              "0       0.829499\n",
              "1       0.381122\n",
              "2      -0.346447\n",
              "3       0.068763\n",
              "4      -0.328446\n",
              "          ...   \n",
              "1695    0.772759\n",
              "1696   -0.144192\n",
              "1697    0.000987\n",
              "1698    0.309273\n",
              "1699   -0.128405\n",
              "Name: x2, Length: 1700, dtype: float64"
            ]
          },
          "metadata": {},
          "execution_count": 52
        }
      ]
    },
    {
      "cell_type": "markdown",
      "metadata": {
        "id": "BXCVwGuNwos6"
      },
      "source": [
        "Get a slice of your data set: second and thrid columns and rows from 62 to 72"
      ]
    },
    {
      "cell_type": "code",
      "execution_count": 57,
      "metadata": {
        "id": "Bon_s4NEwos6",
        "colab": {
          "base_uri": "https://localhost:8080/",
          "height": 394
        },
        "outputId": "1da9ee66-54c9-43e8-b31c-00410001a70a"
      },
      "outputs": [
        {
          "output_type": "execute_result",
          "data": {
            "text/plain": [
              "          x1        x2\n",
              "62  0.888268  0.085673\n",
              "63  0.906120  0.387119\n",
              "64 -0.368457  0.883192\n",
              "65  0.173414 -0.167169\n",
              "66  0.695985  0.827573\n",
              "67  1.932337  0.270719\n",
              "68  0.046146  0.541350\n",
              "69  0.373738  0.889317\n",
              "70  0.378543  0.945828\n",
              "71 -0.109662  0.995726\n",
              "72  0.998030  0.025771"
            ],
            "text/html": [
              "\n",
              "  <div id=\"df-85051fab-9708-45ed-a493-a2b261cb6187\">\n",
              "    <div class=\"colab-df-container\">\n",
              "      <div>\n",
              "<style scoped>\n",
              "    .dataframe tbody tr th:only-of-type {\n",
              "        vertical-align: middle;\n",
              "    }\n",
              "\n",
              "    .dataframe tbody tr th {\n",
              "        vertical-align: top;\n",
              "    }\n",
              "\n",
              "    .dataframe thead th {\n",
              "        text-align: right;\n",
              "    }\n",
              "</style>\n",
              "<table border=\"1\" class=\"dataframe\">\n",
              "  <thead>\n",
              "    <tr style=\"text-align: right;\">\n",
              "      <th></th>\n",
              "      <th>x1</th>\n",
              "      <th>x2</th>\n",
              "    </tr>\n",
              "  </thead>\n",
              "  <tbody>\n",
              "    <tr>\n",
              "      <th>62</th>\n",
              "      <td>0.888268</td>\n",
              "      <td>0.085673</td>\n",
              "    </tr>\n",
              "    <tr>\n",
              "      <th>63</th>\n",
              "      <td>0.906120</td>\n",
              "      <td>0.387119</td>\n",
              "    </tr>\n",
              "    <tr>\n",
              "      <th>64</th>\n",
              "      <td>-0.368457</td>\n",
              "      <td>0.883192</td>\n",
              "    </tr>\n",
              "    <tr>\n",
              "      <th>65</th>\n",
              "      <td>0.173414</td>\n",
              "      <td>-0.167169</td>\n",
              "    </tr>\n",
              "    <tr>\n",
              "      <th>66</th>\n",
              "      <td>0.695985</td>\n",
              "      <td>0.827573</td>\n",
              "    </tr>\n",
              "    <tr>\n",
              "      <th>67</th>\n",
              "      <td>1.932337</td>\n",
              "      <td>0.270719</td>\n",
              "    </tr>\n",
              "    <tr>\n",
              "      <th>68</th>\n",
              "      <td>0.046146</td>\n",
              "      <td>0.541350</td>\n",
              "    </tr>\n",
              "    <tr>\n",
              "      <th>69</th>\n",
              "      <td>0.373738</td>\n",
              "      <td>0.889317</td>\n",
              "    </tr>\n",
              "    <tr>\n",
              "      <th>70</th>\n",
              "      <td>0.378543</td>\n",
              "      <td>0.945828</td>\n",
              "    </tr>\n",
              "    <tr>\n",
              "      <th>71</th>\n",
              "      <td>-0.109662</td>\n",
              "      <td>0.995726</td>\n",
              "    </tr>\n",
              "    <tr>\n",
              "      <th>72</th>\n",
              "      <td>0.998030</td>\n",
              "      <td>0.025771</td>\n",
              "    </tr>\n",
              "  </tbody>\n",
              "</table>\n",
              "</div>\n",
              "      <button class=\"colab-df-convert\" onclick=\"convertToInteractive('df-85051fab-9708-45ed-a493-a2b261cb6187')\"\n",
              "              title=\"Convert this dataframe to an interactive table.\"\n",
              "              style=\"display:none;\">\n",
              "        \n",
              "  <svg xmlns=\"http://www.w3.org/2000/svg\" height=\"24px\"viewBox=\"0 0 24 24\"\n",
              "       width=\"24px\">\n",
              "    <path d=\"M0 0h24v24H0V0z\" fill=\"none\"/>\n",
              "    <path d=\"M18.56 5.44l.94 2.06.94-2.06 2.06-.94-2.06-.94-.94-2.06-.94 2.06-2.06.94zm-11 1L8.5 8.5l.94-2.06 2.06-.94-2.06-.94L8.5 2.5l-.94 2.06-2.06.94zm10 10l.94 2.06.94-2.06 2.06-.94-2.06-.94-.94-2.06-.94 2.06-2.06.94z\"/><path d=\"M17.41 7.96l-1.37-1.37c-.4-.4-.92-.59-1.43-.59-.52 0-1.04.2-1.43.59L10.3 9.45l-7.72 7.72c-.78.78-.78 2.05 0 2.83L4 21.41c.39.39.9.59 1.41.59.51 0 1.02-.2 1.41-.59l7.78-7.78 2.81-2.81c.8-.78.8-2.07 0-2.86zM5.41 20L4 18.59l7.72-7.72 1.47 1.35L5.41 20z\"/>\n",
              "  </svg>\n",
              "      </button>\n",
              "      \n",
              "  <style>\n",
              "    .colab-df-container {\n",
              "      display:flex;\n",
              "      flex-wrap:wrap;\n",
              "      gap: 12px;\n",
              "    }\n",
              "\n",
              "    .colab-df-convert {\n",
              "      background-color: #E8F0FE;\n",
              "      border: none;\n",
              "      border-radius: 50%;\n",
              "      cursor: pointer;\n",
              "      display: none;\n",
              "      fill: #1967D2;\n",
              "      height: 32px;\n",
              "      padding: 0 0 0 0;\n",
              "      width: 32px;\n",
              "    }\n",
              "\n",
              "    .colab-df-convert:hover {\n",
              "      background-color: #E2EBFA;\n",
              "      box-shadow: 0px 1px 2px rgba(60, 64, 67, 0.3), 0px 1px 3px 1px rgba(60, 64, 67, 0.15);\n",
              "      fill: #174EA6;\n",
              "    }\n",
              "\n",
              "    [theme=dark] .colab-df-convert {\n",
              "      background-color: #3B4455;\n",
              "      fill: #D2E3FC;\n",
              "    }\n",
              "\n",
              "    [theme=dark] .colab-df-convert:hover {\n",
              "      background-color: #434B5C;\n",
              "      box-shadow: 0px 1px 3px 1px rgba(0, 0, 0, 0.15);\n",
              "      filter: drop-shadow(0px 1px 2px rgba(0, 0, 0, 0.3));\n",
              "      fill: #FFFFFF;\n",
              "    }\n",
              "  </style>\n",
              "\n",
              "      <script>\n",
              "        const buttonEl =\n",
              "          document.querySelector('#df-85051fab-9708-45ed-a493-a2b261cb6187 button.colab-df-convert');\n",
              "        buttonEl.style.display =\n",
              "          google.colab.kernel.accessAllowed ? 'block' : 'none';\n",
              "\n",
              "        async function convertToInteractive(key) {\n",
              "          const element = document.querySelector('#df-85051fab-9708-45ed-a493-a2b261cb6187');\n",
              "          const dataTable =\n",
              "            await google.colab.kernel.invokeFunction('convertToInteractive',\n",
              "                                                     [key], {});\n",
              "          if (!dataTable) return;\n",
              "\n",
              "          const docLinkHtml = 'Like what you see? Visit the ' +\n",
              "            '<a target=\"_blank\" href=https://colab.research.google.com/notebooks/data_table.ipynb>data table notebook</a>'\n",
              "            + ' to learn more about interactive tables.';\n",
              "          element.innerHTML = '';\n",
              "          dataTable['output_type'] = 'display_data';\n",
              "          await google.colab.output.renderOutput(dataTable, element);\n",
              "          const docLink = document.createElement('div');\n",
              "          docLink.innerHTML = docLinkHtml;\n",
              "          element.appendChild(docLink);\n",
              "        }\n",
              "      </script>\n",
              "    </div>\n",
              "  </div>\n",
              "  "
            ]
          },
          "metadata": {},
          "execution_count": 57
        }
      ],
      "source": [
        "columnas_seleccionadas = df[[\"x1\", \"x2\"]]\n",
        "columnas_seleccionadas.iloc[62:73]"
      ]
    },
    {
      "cell_type": "markdown",
      "metadata": {
        "id": "FX_-YPbIwos7"
      },
      "source": [
        "For the second and thrid columns, calculate the number of null and not null values and verify that their sum equals the total number of rows"
      ]
    },
    {
      "cell_type": "code",
      "execution_count": 67,
      "metadata": {
        "id": "jMRRURPowos7",
        "colab": {
          "base_uri": "https://localhost:8080/"
        },
        "outputId": "8c1aa2fd-03c6-4ee4-f283-b496f68de4b4"
      },
      "outputs": [
        {
          "output_type": "stream",
          "name": "stdout",
          "text": [
            "0\n",
            "3400\n"
          ]
        },
        {
          "output_type": "execute_result",
          "data": {
            "text/plain": [
              "False"
            ]
          },
          "metadata": {},
          "execution_count": 67
        }
      ],
      "source": [
        "# calculate the number of null and not null values\n",
        "num_null = columnas_seleccionadas.isnull().sum().sum()\n",
        "print(num_null)\n",
        "num_not_null = columnas_seleccionadas.notnull().sum().sum()\n",
        "print(num_not_null)\n",
        "\n",
        "# verify that their sum equals the total number of rows\n",
        "num_rows = df.shape[0]\n",
        "num_rows \n",
        "num_null + num_not_null == num_rows"
      ]
    },
    {
      "cell_type": "markdown",
      "metadata": {
        "id": "_Zzpi7vowos7"
      },
      "source": [
        "Discard the last column\n"
      ]
    },
    {
      "cell_type": "code",
      "execution_count": 81,
      "metadata": {
        "id": "M6f_94wnwos7",
        "colab": {
          "base_uri": "https://localhost:8080/"
        },
        "outputId": "33cce06c-2fa3-4c1b-e957-6a20dfe413cc"
      },
      "outputs": [
        {
          "output_type": "stream",
          "name": "stdout",
          "text": [
            "      Unnamed: 0        x1        x2\n",
            "0              0  0.560778  0.829499\n",
            "1              1 -0.008038  0.381122\n",
            "2              2  1.541781 -0.346447\n",
            "3              3  1.950773  0.068763\n",
            "4              4  1.650663 -0.328446\n",
            "...          ...       ...       ...\n",
            "1689        1689  0.341108 -0.129838\n",
            "1690        1690  0.148309  0.000448\n",
            "1691        1691  1.606403 -0.191328\n",
            "1692        1692 -0.773588  0.563455\n",
            "1693        1693  1.539968 -0.326243\n",
            "\n",
            "[1694 rows x 3 columns]\n"
          ]
        }
      ],
      "source": [
        "df1=df.drop(df.tail(3).index,inplace = True)\n",
        "print(df)"
      ]
    },
    {
      "cell_type": "markdown",
      "metadata": {
        "id": "1DnJ9PpPwos8"
      },
      "source": [
        "### Questions \n",
        "\n",
        "Based on the previos results, provide a description of yout dataset\n",
        "\n",
        "Your response: Viendo los datos anteriores, pudimos tener varios datos a varacion de las funciones que tenemos con tan solo dos variables \n",
        "\n",
        "\n"
      ]
    },
    {
      "cell_type": "markdown",
      "metadata": {
        "id": "DZOt1XbEwos8"
      },
      "source": [
        "## A3 Data visualization"
      ]
    },
    {
      "cell_type": "markdown",
      "metadata": {
        "id": "5W7LXyuawos8"
      },
      "source": [
        "Plot in the same figure the histogram of the two variables"
      ]
    },
    {
      "cell_type": "code",
      "execution_count": 86,
      "metadata": {
        "id": "xzQNw1ZKwos8",
        "colab": {
          "base_uri": "https://localhost:8080/",
          "height": 265
        },
        "outputId": "b2435252-c47a-4c7c-ea1b-870cd112a070"
      },
      "outputs": [
        {
          "output_type": "display_data",
          "data": {
            "text/plain": [
              "<Figure size 432x288 with 1 Axes>"
            ],
            "image/png": "[encoded data removed]"
          },
          "metadata": {
            "needs_background": "light"
          }
        }
      ],
      "source": [
        "columnas_seleccionadas1 = df[[\"x1\", \"x2\"]]\n",
        "columnas_seleccionadas1.plot.hist(alpha=0.5)\n",
        "plt.show()\n"
      ]
    },
    {
      "cell_type": "markdown",
      "metadata": {
        "id": "PiJpheODwos9"
      },
      "source": [
        "Based on this plots, provide a description of your data:\n",
        "\n",
        "Your response here: La tabla muestra que los datos con la x2 son mayores que la variable x1 por una gran diferencia"
      ]
    },
    {
      "cell_type": "markdown",
      "metadata": {
        "id": "67mi7_uIwos9"
      },
      "source": [
        "Plot in the same figure the boxplot of the two variables "
      ]
    },
    {
      "cell_type": "code",
      "execution_count": 87,
      "metadata": {
        "id": "tO_iKy3Lwos9",
        "colab": {
          "base_uri": "https://localhost:8080/",
          "height": 265
        },
        "outputId": "bcdb9d49-960a-44e7-aa0e-28adb790ba99"
      },
      "outputs": [
        {
          "output_type": "display_data",
          "data": {
            "text/plain": [
              "<Figure size 432x288 with 1 Axes>"
            ],
            "image/png": "[encoded data removed]"
          },
          "metadata": {
            "needs_background": "light"
          }
        }
      ],
      "source": [
        "columnas_seleccionadas1.plot.box()\n",
        "plt.show()"
      ]
    },
    {
      "cell_type": "markdown",
      "metadata": {
        "id": "Xfcu-y30wos-"
      },
      "source": [
        "Scatter plot of the two variables"
      ]
    },
    {
      "cell_type": "code",
      "execution_count": 89,
      "metadata": {
        "id": "S5nqizpPwos-",
        "colab": {
          "base_uri": "https://localhost:8080/",
          "height": 314
        },
        "outputId": "97200225-7817-4ea6-94c8-49ba3a28301b"
      },
      "outputs": [
        {
          "output_type": "stream",
          "name": "stderr",
          "text": [
            "/usr/local/lib/python3.9/dist-packages/pandas/plotting/_matplotlib/core.py:1114: UserWarning: No data for colormapping provided via 'c'. Parameters 'cmap' will be ignored\n",
            "  scatter = ax.scatter(\n"
          ]
        },
        {
          "output_type": "display_data",
          "data": {
            "text/plain": [
              "<Figure size 432x288 with 1 Axes>"
            ],
            "image/png": "[encoded data removed]"
          },
          "metadata": {
            "needs_background": "light"
          }
        }
      ],
      "source": [
        "columnas_seleccionadas1.plot.scatter(x='x1', y='x2')\n",
        "plt.show()"
      ]
    },
    {
      "cell_type": "markdown",
      "metadata": {
        "id": "-eW177MXwos-"
      },
      "source": [
        "### Questions \n",
        "\n",
        "Based on the previos plots, provide a description of yout dataset\n",
        "\n",
        "Your response: Lo primero que todo tenemos lo que parecen 2 funciones cuadraticas, si seguimos observando que empiezan donde terminan como quiero decir esto los datos de la primera funcion cuadrada empiezan en 0 y terminan en 0.Ademas tenemos que ninguna de estas funciones cuadraticas se toca. Y tenemos en un análisis 4 cluster.\n",
        "\n",
        "\n"
      ]
    },
    {
      "cell_type": "markdown",
      "source": [],
      "metadata": {
        "id": "xs0WYVfQF5WS"
      }
    },
    {
      "cell_type": "markdown",
      "metadata": {
        "id": "s_zFUrrkwos_"
      },
      "source": [
        "## A4 Kmeans"
      ]
    },
    {
      "cell_type": "markdown",
      "metadata": {
        "id": "ocyZbVwNwos_"
      },
      "source": [
        "Do Kmeans clustering assuming a number of clusters accorging to your scatter plot"
      ]
    },
    {
      "cell_type": "code",
      "execution_count": 108,
      "metadata": {
        "id": "b3-muR7swotA",
        "colab": {
          "base_uri": "https://localhost:8080/"
        },
        "outputId": "9f103fdc-353d-450d-dee6-b7a1269e9424"
      },
      "outputs": [
        {
          "output_type": "execute_result",
          "data": {
            "text/plain": [
              "array([0, 0, 0, ..., 1, 1, 1], dtype=int32)"
            ]
          },
          "metadata": {},
          "execution_count": 108
        }
      ],
      "source": [
        "from sklearn.cluster import KMeans\n",
        "\n",
        "# Define number of clusters\n",
        "K  = 4 # Let's assume there are 2,3,4,5...? clusters/groups\n",
        "\n",
        "#Crear el objeto o el modelo de MachineKMeans\n",
        "km = KMeans(n_clusters =K,n_init=\"auto\")\n",
        "\n",
        "# Do K-means clustering (assing each point in the dataset to a cluster) \n",
        "yestimated = km.fit_predict(df)\n",
        "\n",
        "\n",
        "# Print estimated cluster of each point in the dataset\n",
        "yestimated"
      ]
    },
    {
      "cell_type": "markdown",
      "metadata": {
        "id": "d6c6m4_wwotA"
      },
      "source": [
        "Add to your dataset a column with the assigned cluster to each data point"
      ]
    },
    {
      "cell_type": "code",
      "execution_count": 109,
      "metadata": {
        "id": "yPvO7EX9wotA"
      },
      "outputs": [],
      "source": [
        "df2 = df.assign(yestimated=yestimated)\n"
      ]
    },
    {
      "cell_type": "markdown",
      "metadata": {
        "id": "SsLCjTyFwotA"
      },
      "source": [
        "Print the number associated to each cluster"
      ]
    },
    {
      "cell_type": "code",
      "execution_count": 110,
      "metadata": {
        "id": "iGTez66XwotB",
        "colab": {
          "base_uri": "https://localhost:8080/",
          "height": 423
        },
        "outputId": "5cd6aaaf-f765-4824-c5f2-f48581716689"
      },
      "outputs": [
        {
          "output_type": "execute_result",
          "data": {
            "text/plain": [
              "      Unnamed: 0        x1        x2  yestimated\n",
              "0              0  0.560778  0.829499           0\n",
              "1              1 -0.008038  0.381122           0\n",
              "2              2  1.541781 -0.346447           0\n",
              "3              3  1.950773  0.068763           0\n",
              "4              4  1.650663 -0.328446           0\n",
              "...          ...       ...       ...         ...\n",
              "1689        1689  0.341108 -0.129838           1\n",
              "1690        1690  0.148309  0.000448           1\n",
              "1691        1691  1.606403 -0.191328           1\n",
              "1692        1692 -0.773588  0.563455           1\n",
              "1693        1693  1.539968 -0.326243           1\n",
              "\n",
              "[1694 rows x 4 columns]"
            ],
            "text/html": [
              "\n",
              "  <div id=\"df-61aac67a-7bf1-4fc9-9578-19827169a94f\">\n",
              "    <div class=\"colab-df-container\">\n",
              "      <div>\n",
              "<style scoped>\n",
              "    .dataframe tbody tr th:only-of-type {\n",
              "        vertical-align: middle;\n",
              "    }\n",
              "\n",
              "    .dataframe tbody tr th {\n",
              "        vertical-align: top;\n",
              "    }\n",
              "\n",
              "    .dataframe thead th {\n",
              "        text-align: right;\n",
              "    }\n",
              "</style>\n",
              "<table border=\"1\" class=\"dataframe\">\n",
              "  <thead>\n",
              "    <tr style=\"text-align: right;\">\n",
              "      <th></th>\n",
              "      <th>Unnamed: 0</th>\n",
              "      <th>x1</th>\n",
              "      <th>x2</th>\n",
              "      <th>yestimated</th>\n",
              "    </tr>\n",
              "  </thead>\n",
              "  <tbody>\n",
              "    <tr>\n",
              "      <th>0</th>\n",
              "      <td>0</td>\n",
              "      <td>0.560778</td>\n",
              "      <td>0.829499</td>\n",
              "      <td>0</td>\n",
              "    </tr>\n",
              "    <tr>\n",
              "      <th>1</th>\n",
              "      <td>1</td>\n",
              "      <td>-0.008038</td>\n",
              "      <td>0.381122</td>\n",
              "      <td>0</td>\n",
              "    </tr>\n",
              "    <tr>\n",
              "      <th>2</th>\n",
              "      <td>2</td>\n",
              "      <td>1.541781</td>\n",
              "      <td>-0.346447</td>\n",
              "      <td>0</td>\n",
              "    </tr>\n",
              "    <tr>\n",
              "      <th>3</th>\n",
              "      <td>3</td>\n",
              "      <td>1.950773</td>\n",
              "      <td>0.068763</td>\n",
              "      <td>0</td>\n",
              "    </tr>\n",
              "    <tr>\n",
              "      <th>4</th>\n",
              "      <td>4</td>\n",
              "      <td>1.650663</td>\n",
              "      <td>-0.328446</td>\n",
              "      <td>0</td>\n",
              "    </tr>\n",
              "    <tr>\n",
              "      <th>...</th>\n",
              "      <td>...</td>\n",
              "      <td>...</td>\n",
              "      <td>...</td>\n",
              "      <td>...</td>\n",
              "    </tr>\n",
              "    <tr>\n",
              "      <th>1689</th>\n",
              "      <td>1689</td>\n",
              "      <td>0.341108</td>\n",
              "      <td>-0.129838</td>\n",
              "      <td>1</td>\n",
              "    </tr>\n",
              "    <tr>\n",
              "      <th>1690</th>\n",
              "      <td>1690</td>\n",
              "      <td>0.148309</td>\n",
              "      <td>0.000448</td>\n",
              "      <td>1</td>\n",
              "    </tr>\n",
              "    <tr>\n",
              "      <th>1691</th>\n",
              "      <td>1691</td>\n",
              "      <td>1.606403</td>\n",
              "      <td>-0.191328</td>\n",
              "      <td>1</td>\n",
              "    </tr>\n",
              "    <tr>\n",
              "      <th>1692</th>\n",
              "      <td>1692</td>\n",
              "      <td>-0.773588</td>\n",
              "      <td>0.563455</td>\n",
              "      <td>1</td>\n",
              "    </tr>\n",
              "    <tr>\n",
              "      <th>1693</th>\n",
              "      <td>1693</td>\n",
              "      <td>1.539968</td>\n",
              "      <td>-0.326243</td>\n",
              "      <td>1</td>\n",
              "    </tr>\n",
              "  </tbody>\n",
              "</table>\n",
              "<p>1694 rows × 4 columns</p>\n",
              "</div>\n",
              "      <button class=\"colab-df-convert\" onclick=\"convertToInteractive('df-61aac67a-7bf1-4fc9-9578-19827169a94f')\"\n",
              "              title=\"Convert this dataframe to an interactive table.\"\n",
              "              style=\"display:none;\">\n",
              "        \n",
              "  <svg xmlns=\"http://www.w3.org/2000/svg\" height=\"24px\"viewBox=\"0 0 24 24\"\n",
              "       width=\"24px\">\n",
              "    <path d=\"M0 0h24v24H0V0z\" fill=\"none\"/>\n",
              "    <path d=\"M18.56 5.44l.94 2.06.94-2.06 2.06-.94-2.06-.94-.94-2.06-.94 2.06-2.06.94zm-11 1L8.5 8.5l.94-2.06 2.06-.94-2.06-.94L8.5 2.5l-.94 2.06-2.06.94zm10 10l.94 2.06.94-2.06 2.06-.94-2.06-.94-.94-2.06-.94 2.06-2.06.94z\"/><path d=\"M17.41 7.96l-1.37-1.37c-.4-.4-.92-.59-1.43-.59-.52 0-1.04.2-1.43.59L10.3 9.45l-7.72 7.72c-.78.78-.78 2.05 0 2.83L4 21.41c.39.39.9.59 1.41.59.51 0 1.02-.2 1.41-.59l7.78-7.78 2.81-2.81c.8-.78.8-2.07 0-2.86zM5.41 20L4 18.59l7.72-7.72 1.47 1.35L5.41 20z\"/>\n",
              "  </svg>\n",
              "      </button>\n",
              "      \n",
              "  <style>\n",
              "    .colab-df-container {\n",
              "      display:flex;\n",
              "      flex-wrap:wrap;\n",
              "      gap: 12px;\n",
              "    }\n",
              "\n",
              "    .colab-df-convert {\n",
              "      background-color: #E8F0FE;\n",
              "      border: none;\n",
              "      border-radius: 50%;\n",
              "      cursor: pointer;\n",
              "      display: none;\n",
              "      fill: #1967D2;\n",
              "      height: 32px;\n",
              "      padding: 0 0 0 0;\n",
              "      width: 32px;\n",
              "    }\n",
              "\n",
              "    .colab-df-convert:hover {\n",
              "      background-color: #E2EBFA;\n",
              "      box-shadow: 0px 1px 2px rgba(60, 64, 67, 0.3), 0px 1px 3px 1px rgba(60, 64, 67, 0.15);\n",
              "      fill: #174EA6;\n",
              "    }\n",
              "\n",
              "    [theme=dark] .colab-df-convert {\n",
              "      background-color: #3B4455;\n",
              "      fill: #D2E3FC;\n",
              "    }\n",
              "\n",
              "    [theme=dark] .colab-df-convert:hover {\n",
              "      background-color: #434B5C;\n",
              "      box-shadow: 0px 1px 3px 1px rgba(0, 0, 0, 0.15);\n",
              "      filter: drop-shadow(0px 1px 2px rgba(0, 0, 0, 0.3));\n",
              "      fill: #FFFFFF;\n",
              "    }\n",
              "  </style>\n",
              "\n",
              "      <script>\n",
              "        const buttonEl =\n",
              "          document.querySelector('#df-61aac67a-7bf1-4fc9-9578-19827169a94f button.colab-df-convert');\n",
              "        buttonEl.style.display =\n",
              "          google.colab.kernel.accessAllowed ? 'block' : 'none';\n",
              "\n",
              "        async function convertToInteractive(key) {\n",
              "          const element = document.querySelector('#df-61aac67a-7bf1-4fc9-9578-19827169a94f');\n",
              "          const dataTable =\n",
              "            await google.colab.kernel.invokeFunction('convertToInteractive',\n",
              "                                                     [key], {});\n",
              "          if (!dataTable) return;\n",
              "\n",
              "          const docLinkHtml = 'Like what you see? Visit the ' +\n",
              "            '<a target=\"_blank\" href=https://colab.research.google.com/notebooks/data_table.ipynb>data table notebook</a>'\n",
              "            + ' to learn more about interactive tables.';\n",
              "          element.innerHTML = '';\n",
              "          dataTable['output_type'] = 'display_data';\n",
              "          await google.colab.output.renderOutput(dataTable, element);\n",
              "          const docLink = document.createElement('div');\n",
              "          docLink.innerHTML = docLinkHtml;\n",
              "          element.appendChild(docLink);\n",
              "        }\n",
              "      </script>\n",
              "    </div>\n",
              "  </div>\n",
              "  "
            ]
          },
          "metadata": {},
          "execution_count": 110
        }
      ],
      "source": [
        "df2"
      ]
    },
    {
      "cell_type": "markdown",
      "metadata": {
        "id": "30bFSIwawotB"
      },
      "source": [
        "Print the centroids"
      ]
    },
    {
      "cell_type": "code",
      "execution_count": 111,
      "metadata": {
        "id": "Qu7cXti3wotB",
        "colab": {
          "base_uri": "https://localhost:8080/"
        },
        "outputId": "9d365ec1-9478-44ac-f239-f247d19e6af7"
      },
      "outputs": [
        {
          "output_type": "execute_result",
          "data": {
            "text/plain": [
              "array([[2.15500000e+02, 4.91786683e-01, 2.64386874e-01],\n",
              "       [1.48650000e+03, 5.02389001e-01, 2.75846065e-01],\n",
              "       [6.45500000e+02, 4.81779154e-01, 2.32316050e-01],\n",
              "       [1.06950000e+03, 5.21545560e-01, 2.39266468e-01]])"
            ]
          },
          "metadata": {},
          "execution_count": 111
        }
      ],
      "source": [
        "km.cluster_centers_"
      ]
    },
    {
      "cell_type": "markdown",
      "metadata": {
        "id": "zpiE7yBSwotB"
      },
      "source": [
        "Print the intertia metric"
      ]
    },
    {
      "cell_type": "code",
      "execution_count": 95,
      "metadata": {
        "id": "2YNzOdMUwotC",
        "colab": {
          "base_uri": "https://localhost:8080/"
        },
        "outputId": "3fa09046-c5e1-4ad1-b5d3-28ff5bfb09e0"
      },
      "outputs": [
        {
          "output_type": "execute_result",
          "data": {
            "text/plain": [
              "25337803.046920665"
            ]
          },
          "metadata": {},
          "execution_count": 95
        }
      ],
      "source": [
        "km.inertia_"
      ]
    },
    {
      "cell_type": "markdown",
      "metadata": {
        "id": "uxeNlmnOwotC"
      },
      "source": [
        "Plot a scatter plot of your data assigned to each cluster. Also plot the centroids"
      ]
    },
    {
      "cell_type": "code",
      "execution_count": 98,
      "metadata": {
        "id": "hQI_2s6nwotC",
        "colab": {
          "base_uri": "https://localhost:8080/",
          "height": 295
        },
        "outputId": "898f9e2a-cbd9-4c43-b2ac-9bca907c0352"
      },
      "outputs": [
        {
          "output_type": "display_data",
          "data": {
            "text/plain": [
              "<Figure size 432x288 with 1 Axes>"
            ],
            "image/png": "[encoded data removed]"
          },
          "metadata": {
            "needs_background": "light"
          }
        }
      ],
      "source": [
        "# Get a dataframe with the data of each clsuter\n",
        "\n",
        "df_1 = df2[df2.yestimated==0]\n",
        "df_2 = df2[df2.yestimated==1]\n",
        "df_3 = df2[df2.yestimated==2]\n",
        "df_4 = df2[df2.yestimated==2]\n",
        "\n",
        "# Scatter plot of each cluster\n",
        "\n",
        "plt.scatter(df_1.x1, df_1.x2, label=\"Cluster 0\", c='r',marker='o',s=32,alpha=0.3)\n",
        "plt.scatter(df_2.x1, df_2.x2, label=\"Cluster 1\", c='g',marker='o',s=32,alpha=0.3)\n",
        "plt.scatter(df_3.x1, df_3.x2, label=\"Cluster 2\", c='b',marker='o',s=32,alpha=0.3)\n",
        "plt.scatter(df_4.x1, df_4.x2, label=\"Cluster 2\", c='m',marker='o',s=32,alpha=0.3)\n",
        "\n",
        "plt.title(\"Scatter plot for each clutter\")\n",
        "plt.xlabel('x1')\n",
        "plt.xlabel('x2')\n",
        "plt.legend()\n",
        "plt.show()"
      ]
    },
    {
      "cell_type": "markdown",
      "metadata": {
        "id": "tx8lnbzFwotC"
      },
      "source": [
        "### Questions \n",
        "\n",
        "Provides a detailed description of your results\n",
        "\n",
        "Your response: Al momento de plotter los datos podemos ver la relacion que tienen con los datos inciales que realmente se asemejan por no decir que son identicos a simple vista."
      ]
    },
    {
      "cell_type": "markdown",
      "metadata": {
        "id": "yTWwdeQhwotC"
      },
      "source": [
        "## A5 Elbow plot\n",
        "\n",
        "Compute the Elbow plot"
      ]
    },
    {
      "cell_type": "code",
      "execution_count": 112,
      "metadata": {
        "id": "YGiPJCg_wotD"
      },
      "outputs": [],
      "source": [
        "#Intialize a list to hold sum of squared error (sse)\n",
        "sse = []\n",
        "  \n",
        "# Define values of k\n",
        "k_rng=range(1,10)\n",
        "\n",
        "# For each k\n",
        "for k in k_rng:\n",
        "  km = KMeans(n_clusters=k,n_init=\"auto\")\n",
        "  km.fit_predict(df[['x1','x2']])\n",
        "  sse.append(km.inertia_)"
      ]
    },
    {
      "cell_type": "code",
      "execution_count": 113,
      "metadata": {
        "id": "b6GE5qbmwotD",
        "colab": {
          "base_uri": "https://localhost:8080/",
          "height": 312
        },
        "outputId": "5b0b5684-eea0-4933-80e0-7ebc01fa37a0"
      },
      "outputs": [
        {
          "output_type": "execute_result",
          "data": {
            "text/plain": [
              "[<matplotlib.lines.Line2D at 0x7f493c298400>]"
            ]
          },
          "metadata": {},
          "execution_count": 113
        },
        {
          "output_type": "display_data",
          "data": {
            "text/plain": [
              "<Figure size 432x288 with 1 Axes>"
            ],
            "image/png": "[encoded data removed]"
          },
          "metadata": {
            "needs_background": "light"
          }
        }
      ],
      "source": [
        "plt.title('Elbow plot')\n",
        "plt.xlabel('K')\n",
        "plt.ylabel('SSE')\n",
        "plt.plot(sse)"
      ]
    },
    {
      "cell_type": "markdown",
      "metadata": {
        "id": "rUEDWxJdwotD"
      },
      "source": [
        "### Questions \n",
        "\n",
        "What is the best number of clusters K? (argue your response)\n",
        "\n",
        "Your response: Haciendo la simulacion con diversos cluster se puede observar que el numero 4 es el mejor a elegir para este caso porque al momento de ver la grafica tenemos que SSE tiende a bajar con el paso de K en otras palabras se dice que baja el error. Ademas se habian seleccionado por visualmente ya que son 4 puntos que se acercan entre si.\n",
        "\n",
        "\n",
        "Does this number of clusters agree with your inital guess? (argue your response)\n",
        "\n",
        "Your response: Si, gracias a lo anterior dicho por ver graficamente se pudo obtener.\n",
        "\n"
      ]
    },
    {
      "cell_type": "markdown",
      "metadata": {
        "id": "JilQmUDmwotD"
      },
      "source": [
        "# PART 2\n",
        "# Load and do clustering using the \"digits\" dataset"
      ]
    },
    {
      "cell_type": "markdown",
      "metadata": {
        "id": "bZ0LH3D5wotE"
      },
      "source": [
        "1) Load the dataset using the \"load_digits()\" function from \"sklearn.datasets\"\n"
      ]
    },
    {
      "cell_type": "code",
      "execution_count": 119,
      "metadata": {
        "id": "5-BNYjo2wotF",
        "colab": {
          "base_uri": "https://localhost:8080/"
        },
        "outputId": "ef0fb28d-63b9-4432-e52d-0e3a80b98de0"
      },
      "outputs": [
        {
          "output_type": "stream",
          "name": "stdout",
          "text": [
            "(1797, 64)\n"
          ]
        }
      ],
      "source": [
        "from sklearn.datasets import load_digits\n",
        "\n",
        "digits = load_digits()\n",
        "print(digits.data.shape)\n"
      ]
    },
    {
      "cell_type": "markdown",
      "metadata": {
        "id": "kpPr45zmwotF"
      },
      "source": [
        "2) Plot some of the observations"
      ]
    },
    {
      "cell_type": "code",
      "execution_count": 118,
      "metadata": {
        "id": "EMOSN3sCwotF",
        "colab": {
          "base_uri": "https://localhost:8080/",
          "height": 292
        },
        "outputId": "dcac3855-6bd3-4da3-aa8f-3185d1f8902c"
      },
      "outputs": [
        {
          "output_type": "display_data",
          "data": {
            "text/plain": [
              "<Figure size 432x288 with 0 Axes>"
            ]
          },
          "metadata": {}
        },
        {
          "output_type": "display_data",
          "data": {
            "text/plain": [
              "<Figure size 288x288 with 1 Axes>"
            ],
            "image/png": "[encoded data removed]"
          },
          "metadata": {
            "needs_background": "light"
          }
        }
      ],
      "source": [
        "plt.gray() \n",
        "plt.matshow(digits.images[0]) \n",
        "plt.show()"
      ]
    },
    {
      "cell_type": "markdown",
      "metadata": {
        "id": "dvprZmv2wotF"
      },
      "source": [
        "3) Do K means clustering "
      ]
    },
    {
      "cell_type": "code",
      "execution_count": 122,
      "metadata": {
        "id": "M9evVW3KwotG",
        "colab": {
          "base_uri": "https://localhost:8080/"
        },
        "outputId": "ec865757-c204-498e-c35f-d95fcfe5c88f"
      },
      "outputs": [
        {
          "output_type": "stream",
          "name": "stdout",
          "text": [
            "K-Means clustering on the handwritten digits data: [1 3 4 ... 3 7 7]\n"
          ]
        }
      ],
      "source": [
        "from sklearn.decomposition import PCA\n",
        "from sklearn.preprocessing import scale\n",
        "\n",
        "data = scale(digits.data)\n",
        "n_samples, n_features = data.shape\n",
        "n_digits = len(np.unique(digits.target))\n",
        "labels = digits.target\n",
        "\n",
        "kmeans = KMeans(init='k-means++', n_clusters=n_digits, n_init=10)\n",
        "kmeans.fit(data)\n",
        "print(f'K-Means clustering digits data: {kmeans.labels_}')"
      ]
    },
    {
      "cell_type": "markdown",
      "metadata": {
        "id": "pO0AAJFcwotG"
      },
      "source": [
        "4) Verify your results in any of the observations"
      ]
    },
    {
      "cell_type": "code",
      "execution_count": 128,
      "metadata": {
        "id": "scYkyVwowotG",
        "colab": {
          "base_uri": "https://localhost:8080/",
          "height": 423
        },
        "outputId": "9964fb45-b90c-41ce-da07-74ef8f001c39"
      },
      "outputs": [
        {
          "output_type": "execute_result",
          "data": {
            "text/plain": [
              "      0\n",
              "0     0\n",
              "1     1\n",
              "2     2\n",
              "3     3\n",
              "4     4\n",
              "...  ..\n",
              "1792  9\n",
              "1793  0\n",
              "1794  8\n",
              "1795  9\n",
              "1796  8\n",
              "\n",
              "[1797 rows x 1 columns]"
            ],
            "text/html": [
              "\n",
              "  <div id=\"df-5ab23abd-0fd5-411f-be16-615af96a6d2c\">\n",
              "    <div class=\"colab-df-container\">\n",
              "      <div>\n",
              "<style scoped>\n",
              "    .dataframe tbody tr th:only-of-type {\n",
              "        vertical-align: middle;\n",
              "    }\n",
              "\n",
              "    .dataframe tbody tr th {\n",
              "        vertical-align: top;\n",
              "    }\n",
              "\n",
              "    .dataframe thead th {\n",
              "        text-align: right;\n",
              "    }\n",
              "</style>\n",
              "<table border=\"1\" class=\"dataframe\">\n",
              "  <thead>\n",
              "    <tr style=\"text-align: right;\">\n",
              "      <th></th>\n",
              "      <th>0</th>\n",
              "    </tr>\n",
              "  </thead>\n",
              "  <tbody>\n",
              "    <tr>\n",
              "      <th>0</th>\n",
              "      <td>0</td>\n",
              "    </tr>\n",
              "    <tr>\n",
              "      <th>1</th>\n",
              "      <td>1</td>\n",
              "    </tr>\n",
              "    <tr>\n",
              "      <th>2</th>\n",
              "      <td>2</td>\n",
              "    </tr>\n",
              "    <tr>\n",
              "      <th>3</th>\n",
              "      <td>3</td>\n",
              "    </tr>\n",
              "    <tr>\n",
              "      <th>4</th>\n",
              "      <td>4</td>\n",
              "    </tr>\n",
              "    <tr>\n",
              "      <th>...</th>\n",
              "      <td>...</td>\n",
              "    </tr>\n",
              "    <tr>\n",
              "      <th>1792</th>\n",
              "      <td>9</td>\n",
              "    </tr>\n",
              "    <tr>\n",
              "      <th>1793</th>\n",
              "      <td>0</td>\n",
              "    </tr>\n",
              "    <tr>\n",
              "      <th>1794</th>\n",
              "      <td>8</td>\n",
              "    </tr>\n",
              "    <tr>\n",
              "      <th>1795</th>\n",
              "      <td>9</td>\n",
              "    </tr>\n",
              "    <tr>\n",
              "      <th>1796</th>\n",
              "      <td>8</td>\n",
              "    </tr>\n",
              "  </tbody>\n",
              "</table>\n",
              "<p>1797 rows × 1 columns</p>\n",
              "</div>\n",
              "      <button class=\"colab-df-convert\" onclick=\"convertToInteractive('df-5ab23abd-0fd5-411f-be16-615af96a6d2c')\"\n",
              "              title=\"Convert this dataframe to an interactive table.\"\n",
              "              style=\"display:none;\">\n",
              "        \n",
              "  <svg xmlns=\"http://www.w3.org/2000/svg\" height=\"24px\"viewBox=\"0 0 24 24\"\n",
              "       width=\"24px\">\n",
              "    <path d=\"M0 0h24v24H0V0z\" fill=\"none\"/>\n",
              "    <path d=\"M18.56 5.44l.94 2.06.94-2.06 2.06-.94-2.06-.94-.94-2.06-.94 2.06-2.06.94zm-11 1L8.5 8.5l.94-2.06 2.06-.94-2.06-.94L8.5 2.5l-.94 2.06-2.06.94zm10 10l.94 2.06.94-2.06 2.06-.94-2.06-.94-.94-2.06-.94 2.06-2.06.94z\"/><path d=\"M17.41 7.96l-1.37-1.37c-.4-.4-.92-.59-1.43-.59-.52 0-1.04.2-1.43.59L10.3 9.45l-7.72 7.72c-.78.78-.78 2.05 0 2.83L4 21.41c.39.39.9.59 1.41.59.51 0 1.02-.2 1.41-.59l7.78-7.78 2.81-2.81c.8-.78.8-2.07 0-2.86zM5.41 20L4 18.59l7.72-7.72 1.47 1.35L5.41 20z\"/>\n",
              "  </svg>\n",
              "      </button>\n",
              "      \n",
              "  <style>\n",
              "    .colab-df-container {\n",
              "      display:flex;\n",
              "      flex-wrap:wrap;\n",
              "      gap: 12px;\n",
              "    }\n",
              "\n",
              "    .colab-df-convert {\n",
              "      background-color: #E8F0FE;\n",
              "      border: none;\n",
              "      border-radius: 50%;\n",
              "      cursor: pointer;\n",
              "      display: none;\n",
              "      fill: #1967D2;\n",
              "      height: 32px;\n",
              "      padding: 0 0 0 0;\n",
              "      width: 32px;\n",
              "    }\n",
              "\n",
              "    .colab-df-convert:hover {\n",
              "      background-color: #E2EBFA;\n",
              "      box-shadow: 0px 1px 2px rgba(60, 64, 67, 0.3), 0px 1px 3px 1px rgba(60, 64, 67, 0.15);\n",
              "      fill: #174EA6;\n",
              "    }\n",
              "\n",
              "    [theme=dark] .colab-df-convert {\n",
              "      background-color: #3B4455;\n",
              "      fill: #D2E3FC;\n",
              "    }\n",
              "\n",
              "    [theme=dark] .colab-df-convert:hover {\n",
              "      background-color: #434B5C;\n",
              "      box-shadow: 0px 1px 3px 1px rgba(0, 0, 0, 0.15);\n",
              "      filter: drop-shadow(0px 1px 2px rgba(0, 0, 0, 0.3));\n",
              "      fill: #FFFFFF;\n",
              "    }\n",
              "  </style>\n",
              "\n",
              "      <script>\n",
              "        const buttonEl =\n",
              "          document.querySelector('#df-5ab23abd-0fd5-411f-be16-615af96a6d2c button.colab-df-convert');\n",
              "        buttonEl.style.display =\n",
              "          google.colab.kernel.accessAllowed ? 'block' : 'none';\n",
              "\n",
              "        async function convertToInteractive(key) {\n",
              "          const element = document.querySelector('#df-5ab23abd-0fd5-411f-be16-615af96a6d2c');\n",
              "          const dataTable =\n",
              "            await google.colab.kernel.invokeFunction('convertToInteractive',\n",
              "                                                     [key], {});\n",
              "          if (!dataTable) return;\n",
              "\n",
              "          const docLinkHtml = 'Like what you see? Visit the ' +\n",
              "            '<a target=\"_blank\" href=https://colab.research.google.com/notebooks/data_table.ipynb>data table notebook</a>'\n",
              "            + ' to learn more about interactive tables.';\n",
              "          element.innerHTML = '';\n",
              "          dataTable['output_type'] = 'display_data';\n",
              "          await google.colab.output.renderOutput(dataTable, element);\n",
              "          const docLink = document.createElement('div');\n",
              "          docLink.innerHTML = docLinkHtml;\n",
              "          element.appendChild(docLink);\n",
              "        }\n",
              "      </script>\n",
              "    </div>\n",
              "  </div>\n",
              "  "
            ]
          },
          "metadata": {},
          "execution_count": 128
        }
      ],
      "source": [
        "df = pd.DataFrame(labels)\n",
        "df"
      ]
    },
    {
      "cell_type": "code",
      "source": [
        "df = pd.DataFrame(kmeans.labels_)\n",
        "df"
      ],
      "metadata": {
        "colab": {
          "base_uri": "https://localhost:8080/",
          "height": 423
        },
        "id": "S7iA3HvNRH54",
        "outputId": "72d16d52-33d1-403b-c63a-0a2064c08776"
      },
      "execution_count": 133,
      "outputs": [
        {
          "output_type": "execute_result",
          "data": {
            "text/plain": [
              "      0\n",
              "0     1\n",
              "1     3\n",
              "2     4\n",
              "3     7\n",
              "4     8\n",
              "...  ..\n",
              "1792  7\n",
              "1793  1\n",
              "1794  3\n",
              "1795  7\n",
              "1796  7\n",
              "\n",
              "[1797 rows x 1 columns]"
            ],
            "text/html": [
              "\n",
              "  <div id=\"df-23c0c099-6aa6-4a8a-a47e-9e85a9cba17a\">\n",
              "    <div class=\"colab-df-container\">\n",
              "      <div>\n",
              "<style scoped>\n",
              "    .dataframe tbody tr th:only-of-type {\n",
              "        vertical-align: middle;\n",
              "    }\n",
              "\n",
              "    .dataframe tbody tr th {\n",
              "        vertical-align: top;\n",
              "    }\n",
              "\n",
              "    .dataframe thead th {\n",
              "        text-align: right;\n",
              "    }\n",
              "</style>\n",
              "<table border=\"1\" class=\"dataframe\">\n",
              "  <thead>\n",
              "    <tr style=\"text-align: right;\">\n",
              "      <th></th>\n",
              "      <th>0</th>\n",
              "    </tr>\n",
              "  </thead>\n",
              "  <tbody>\n",
              "    <tr>\n",
              "      <th>0</th>\n",
              "      <td>1</td>\n",
              "    </tr>\n",
              "    <tr>\n",
              "      <th>1</th>\n",
              "      <td>3</td>\n",
              "    </tr>\n",
              "    <tr>\n",
              "      <th>2</th>\n",
              "      <td>4</td>\n",
              "    </tr>\n",
              "    <tr>\n",
              "      <th>3</th>\n",
              "      <td>7</td>\n",
              "    </tr>\n",
              "    <tr>\n",
              "      <th>4</th>\n",
              "      <td>8</td>\n",
              "    </tr>\n",
              "    <tr>\n",
              "      <th>...</th>\n",
              "      <td>...</td>\n",
              "    </tr>\n",
              "    <tr>\n",
              "      <th>1792</th>\n",
              "      <td>7</td>\n",
              "    </tr>\n",
              "    <tr>\n",
              "      <th>1793</th>\n",
              "      <td>1</td>\n",
              "    </tr>\n",
              "    <tr>\n",
              "      <th>1794</th>\n",
              "      <td>3</td>\n",
              "    </tr>\n",
              "    <tr>\n",
              "      <th>1795</th>\n",
              "      <td>7</td>\n",
              "    </tr>\n",
              "    <tr>\n",
              "      <th>1796</th>\n",
              "      <td>7</td>\n",
              "    </tr>\n",
              "  </tbody>\n",
              "</table>\n",
              "<p>1797 rows × 1 columns</p>\n",
              "</div>\n",
              "      <button class=\"colab-df-convert\" onclick=\"convertToInteractive('df-23c0c099-6aa6-4a8a-a47e-9e85a9cba17a')\"\n",
              "              title=\"Convert this dataframe to an interactive table.\"\n",
              "              style=\"display:none;\">\n",
              "        \n",
              "  <svg xmlns=\"http://www.w3.org/2000/svg\" height=\"24px\"viewBox=\"0 0 24 24\"\n",
              "       width=\"24px\">\n",
              "    <path d=\"M0 0h24v24H0V0z\" fill=\"none\"/>\n",
              "    <path d=\"M18.56 5.44l.94 2.06.94-2.06 2.06-.94-2.06-.94-.94-2.06-.94 2.06-2.06.94zm-11 1L8.5 8.5l.94-2.06 2.06-.94-2.06-.94L8.5 2.5l-.94 2.06-2.06.94zm10 10l.94 2.06.94-2.06 2.06-.94-2.06-.94-.94-2.06-.94 2.06-2.06.94z\"/><path d=\"M17.41 7.96l-1.37-1.37c-.4-.4-.92-.59-1.43-.59-.52 0-1.04.2-1.43.59L10.3 9.45l-7.72 7.72c-.78.78-.78 2.05 0 2.83L4 21.41c.39.39.9.59 1.41.59.51 0 1.02-.2 1.41-.59l7.78-7.78 2.81-2.81c.8-.78.8-2.07 0-2.86zM5.41 20L4 18.59l7.72-7.72 1.47 1.35L5.41 20z\"/>\n",
              "  </svg>\n",
              "      </button>\n",
              "      \n",
              "  <style>\n",
              "    .colab-df-container {\n",
              "      display:flex;\n",
              "      flex-wrap:wrap;\n",
              "      gap: 12px;\n",
              "    }\n",
              "\n",
              "    .colab-df-convert {\n",
              "      background-color: #E8F0FE;\n",
              "      border: none;\n",
              "      border-radius: 50%;\n",
              "      cursor: pointer;\n",
              "      display: none;\n",
              "      fill: #1967D2;\n",
              "      height: 32px;\n",
              "      padding: 0 0 0 0;\n",
              "      width: 32px;\n",
              "    }\n",
              "\n",
              "    .colab-df-convert:hover {\n",
              "      background-color: #E2EBFA;\n",
              "      box-shadow: 0px 1px 2px rgba(60, 64, 67, 0.3), 0px 1px 3px 1px rgba(60, 64, 67, 0.15);\n",
              "      fill: #174EA6;\n",
              "    }\n",
              "\n",
              "    [theme=dark] .colab-df-convert {\n",
              "      background-color: #3B4455;\n",
              "      fill: #D2E3FC;\n",
              "    }\n",
              "\n",
              "    [theme=dark] .colab-df-convert:hover {\n",
              "      background-color: #434B5C;\n",
              "      box-shadow: 0px 1px 3px 1px rgba(0, 0, 0, 0.15);\n",
              "      filter: drop-shadow(0px 1px 2px rgba(0, 0, 0, 0.3));\n",
              "      fill: #FFFFFF;\n",
              "    }\n",
              "  </style>\n",
              "\n",
              "      <script>\n",
              "        const buttonEl =\n",
              "          document.querySelector('#df-23c0c099-6aa6-4a8a-a47e-9e85a9cba17a button.colab-df-convert');\n",
              "        buttonEl.style.display =\n",
              "          google.colab.kernel.accessAllowed ? 'block' : 'none';\n",
              "\n",
              "        async function convertToInteractive(key) {\n",
              "          const element = document.querySelector('#df-23c0c099-6aa6-4a8a-a47e-9e85a9cba17a');\n",
              "          const dataTable =\n",
              "            await google.colab.kernel.invokeFunction('convertToInteractive',\n",
              "                                                     [key], {});\n",
              "          if (!dataTable) return;\n",
              "\n",
              "          const docLinkHtml = 'Like what you see? Visit the ' +\n",
              "            '<a target=\"_blank\" href=https://colab.research.google.com/notebooks/data_table.ipynb>data table notebook</a>'\n",
              "            + ' to learn more about interactive tables.';\n",
              "          element.innerHTML = '';\n",
              "          dataTable['output_type'] = 'display_data';\n",
              "          await google.colab.output.renderOutput(dataTable, element);\n",
              "          const docLink = document.createElement('div');\n",
              "          docLink.innerHTML = docLinkHtml;\n",
              "          element.appendChild(docLink);\n",
              "        }\n",
              "      </script>\n",
              "    </div>\n",
              "  </div>\n",
              "  "
            ]
          },
          "metadata": {},
          "execution_count": 133
        }
      ]
    },
    {
      "cell_type": "markdown",
      "metadata": {
        "id": "g6R4bJyhwotG"
      },
      "source": [
        "### Questions \n",
        "\n",
        "Provides a detailed description of your results.\n",
        "\n",
        "Your response: Revisando los datos muchos de los datos coinciden con los datos en el clustering dando de forma acertiva, nuestra forma de verificar los datos obtenidos."
      ]
    },
    {
      "cell_type": "markdown",
      "metadata": {
        "id": "PjbVm3NcwotG"
      },
      "source": [
        "# PART 3\n",
        "# Descipcion de tu percepcion del nivel de desarrollo de la subcompetencia \n",
        "\n",
        "### SING0202A Interpretación de variables\n"
      ]
    },
    {
      "cell_type": "markdown",
      "metadata": {
        "id": "j-E8f2qIwotH"
      },
      "source": [
        "Escribe tu description del nivel de logro del siguiente criterio de la subcompetencia\n",
        "\n",
        "**Interpreta interacciones**. Interpreta interacciones entre variables relevantes en un problema, como base para la construcción de modelos bivariados basados en datos de un fenómeno investigado que le permita reproducir la respuesta del mismo."
      ]
    },
    {
      "cell_type": "markdown",
      "metadata": {
        "id": "K406VcHHwotH"
      },
      "source": [
        "Tu respuesta: Durante la semana de la clase pudimos ver diversos archivos con datos algunas si pertenecian con un encabezado alguna variable algunas otras no lo hacian y teniamos que hacer un acomodo de las variable, con todo ello pudimos intrepetarlas con las graficas juntando dos variables y de ahi obtener una agrupacion para una aprendizaje no supervisado."
      ]
    },
    {
      "cell_type": "markdown",
      "metadata": {
        "id": "KOkhH61uwotI"
      },
      "source": [
        "Escribe tu description del nivel de logro del siguiente criterio de la subcompetencia\n",
        "\n",
        "**Construcción de modelos**. Es capaz de construir modelos bivariados que expliquen el comportamiento de un fenómeno."
      ]
    },
    {
      "cell_type": "markdown",
      "metadata": {
        "id": "qzxnhZNSwotI"
      },
      "source": [
        "Tu respuesta: Durante el proceso de creacion de los ultimos archvios pudimos lograr que una inteligencia fuera aprendiendo con tan solo darle los datos o como tambien es conocido el aprendizaje no supervisado para la obtencion de procesos sencillos o tediosos, tan solo con la agrupacion de datos a base de clustering."
      ]
    },
    {
      "cell_type": "code",
      "execution_count": null,
      "metadata": {
        "id": "tigGcIXLwotI"
      },
      "outputs": [],
      "source": []
    }
  ],
  "metadata": {
    "kernelspec": {
      "display_name": "Python 3",
      "language": "python",
      "name": "python3"
    },
    "language_info": {
      "codemirror_mode": {
        "name": "ipython",
        "version": 3
      },
      "file_extension": ".py",
      "mimetype": "text/x-python",
      "name": "python",
      "nbconvert_exporter": "python",
      "pygments_lexer": "ipython3",
      "version": "3.8.3"
    },
    "colab": {
      "provenance": []
    }
  },
  "nbformat": 4,
  "nbformat_minor": 0
}