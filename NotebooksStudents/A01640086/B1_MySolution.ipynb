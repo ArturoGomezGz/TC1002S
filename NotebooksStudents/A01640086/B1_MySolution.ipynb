{
  "cells": [
    {
      "cell_type": "markdown",
      "metadata": {
        "id": "AgaSnDszxyhA"
      },
      "source": [
        "# TC1002S Herramientas computacionales: el arte de la analítica\n",
        "\n",
        "This is a notebook with all your work for the final evidence of this course\n",
        "\n",
        "\n",
        "# Niveles de dominio a demostrar con la evidencia\n",
        "\n",
        "### SING0202A\n",
        "\n",
        "Interpreta interacciones entre variables relevantes en un problema, como base para la construcción de modelos bivariados basados en datos de un fenómeno investigado que le permita reproducir la respuesta del mismo. Es capaz de construir modelos bivariados que expliquen el comportamiento de un fenómeno.\n",
        "\n",
        "\n",
        "# Student information\n",
        "\n",
        "- Name: Marisol Rodríguez Mejía\n",
        "\n",
        "- ID: A01640086\n",
        "\n",
        "- My carreer: ITC\n"
      ]
    },
    {
      "cell_type": "markdown",
      "metadata": {
        "id": "cex1MzOmxyhE"
      },
      "source": [
        "# Importing libraries"
      ]
    },
    {
      "cell_type": "code",
      "execution_count": 3,
      "metadata": {
        "id": "Gel7OZkfxyhF"
      },
      "outputs": [],
      "source": [
        "import numpy as np                  # For array\n",
        "import pandas as pd                 # For data handling\n",
        "import seaborn as sns               # For advanced plotting\n",
        "import matplotlib.pyplot as plt     # For showing plots\n",
        "from sklearn.cluster import KMeans\n",
        "from sklearn.datasets import make_blobs"
      ]
    },
    {
      "cell_type": "markdown",
      "metadata": {
        "id": "eliE4MtExyhG"
      },
      "source": [
        "# PART 1\n",
        "# Use your assigned dataset"
      ]
    },
    {
      "cell_type": "code",
      "source": [
        "# Define where you are running the code: colab or local\n",
        "RunInColab          = True     # (False: no  | True: yes)\n",
        "\n",
        "# If running in colab:\n",
        "if RunInColab:\n",
        "    # Mount your google drive in google colab\n",
        "    from google.colab import drive\n",
        "    drive.mount('/content/drive')\n",
        "\n",
        "    # Find location\n",
        "    #!pwd\n",
        "    #!ls\n",
        "    #!ls \"/content/drive/My Drive/Colab Notebooks/MachineLearningWithPython/\"\n",
        "\n",
        "    # Define path del proyecto\n",
        "    Ruta            = \"/content/drive/My Drive/Colab Notebooks/MachineLearningWithPython/\"\n",
        "\n",
        "else:\n",
        "    # Define path del proyecto\n",
        "    Ruta            = \"\""
      ],
      "metadata": {
        "colab": {
          "base_uri": "https://localhost:8080/"
        },
        "id": "mxjXR8auyDz3",
        "outputId": "8b05c135-e350-405f-de37-8f51bab5d9ed"
      },
      "execution_count": 2,
      "outputs": [
        {
          "output_type": "stream",
          "name": "stdout",
          "text": [
            "Drive already mounted at /content/drive; to attempt to forcibly remount, call drive.mount(\"/content/drive\", force_remount=True).\n"
          ]
        }
      ]
    },
    {
      "cell_type": "markdown",
      "metadata": {
        "id": "SfTa8VX4xyhH"
      },
      "source": [
        "## A1 Load data"
      ]
    },
    {
      "cell_type": "code",
      "execution_count": 4,
      "metadata": {
        "id": "R_ih9rLUxyhH"
      },
      "outputs": [],
      "source": [
        "url = Ruta + \"datasets/A01640086.csv\"\n",
        "df = pd.read_csv(url)"
      ]
    },
    {
      "cell_type": "markdown",
      "metadata": {
        "id": "mi0ehXhJxyhH"
      },
      "source": [
        "## A2 Data managment\n"
      ]
    },
    {
      "cell_type": "markdown",
      "metadata": {
        "id": "w3yB-6k8xyhI"
      },
      "source": [
        "Print the first 7 rows"
      ]
    },
    {
      "cell_type": "code",
      "execution_count": 6,
      "metadata": {
        "colab": {
          "base_uri": "https://localhost:8080/",
          "height": 269
        },
        "id": "-hlKDx_axyhI",
        "outputId": "0981d90b-bdcc-429d-d1f8-99fc6da260a4"
      },
      "outputs": [
        {
          "output_type": "execute_result",
          "data": {
            "text/plain": [
              "   Unnamed: 0        x1        x2\n",
              "0           0 -0.651854  0.565605\n",
              "1           1  0.123377  1.043726\n",
              "2           2  0.469727  0.836234\n",
              "3           3  0.032707  0.473639\n",
              "4           4  0.854605  0.646451\n",
              "5           5  1.815734  0.229342\n",
              "6           6 -0.253257  0.907183"
            ],
            "text/html": [
              "\n",
              "  <div id=\"df-3880d338-3643-4853-921f-491a85d1fb41\">\n",
              "    <div class=\"colab-df-container\">\n",
              "      <div>\n",
              "<style scoped>\n",
              "    .dataframe tbody tr th:only-of-type {\n",
              "        vertical-align: middle;\n",
              "    }\n",
              "\n",
              "    .dataframe tbody tr th {\n",
              "        vertical-align: top;\n",
              "    }\n",
              "\n",
              "    .dataframe thead th {\n",
              "        text-align: right;\n",
              "    }\n",
              "</style>\n",
              "<table border=\"1\" class=\"dataframe\">\n",
              "  <thead>\n",
              "    <tr style=\"text-align: right;\">\n",
              "      <th></th>\n",
              "      <th>Unnamed: 0</th>\n",
              "      <th>x1</th>\n",
              "      <th>x2</th>\n",
              "    </tr>\n",
              "  </thead>\n",
              "  <tbody>\n",
              "    <tr>\n",
              "      <th>0</th>\n",
              "      <td>0</td>\n",
              "      <td>-0.651854</td>\n",
              "      <td>0.565605</td>\n",
              "    </tr>\n",
              "    <tr>\n",
              "      <th>1</th>\n",
              "      <td>1</td>\n",
              "      <td>0.123377</td>\n",
              "      <td>1.043726</td>\n",
              "    </tr>\n",
              "    <tr>\n",
              "      <th>2</th>\n",
              "      <td>2</td>\n",
              "      <td>0.469727</td>\n",
              "      <td>0.836234</td>\n",
              "    </tr>\n",
              "    <tr>\n",
              "      <th>3</th>\n",
              "      <td>3</td>\n",
              "      <td>0.032707</td>\n",
              "      <td>0.473639</td>\n",
              "    </tr>\n",
              "    <tr>\n",
              "      <th>4</th>\n",
              "      <td>4</td>\n",
              "      <td>0.854605</td>\n",
              "      <td>0.646451</td>\n",
              "    </tr>\n",
              "    <tr>\n",
              "      <th>5</th>\n",
              "      <td>5</td>\n",
              "      <td>1.815734</td>\n",
              "      <td>0.229342</td>\n",
              "    </tr>\n",
              "    <tr>\n",
              "      <th>6</th>\n",
              "      <td>6</td>\n",
              "      <td>-0.253257</td>\n",
              "      <td>0.907183</td>\n",
              "    </tr>\n",
              "  </tbody>\n",
              "</table>\n",
              "</div>\n",
              "      <button class=\"colab-df-convert\" onclick=\"convertToInteractive('df-3880d338-3643-4853-921f-491a85d1fb41')\"\n",
              "              title=\"Convert this dataframe to an interactive table.\"\n",
              "              style=\"display:none;\">\n",
              "        \n",
              "  <svg xmlns=\"http://www.w3.org/2000/svg\" height=\"24px\"viewBox=\"0 0 24 24\"\n",
              "       width=\"24px\">\n",
              "    <path d=\"M0 0h24v24H0V0z\" fill=\"none\"/>\n",
              "    <path d=\"M18.56 5.44l.94 2.06.94-2.06 2.06-.94-2.06-.94-.94-2.06-.94 2.06-2.06.94zm-11 1L8.5 8.5l.94-2.06 2.06-.94-2.06-.94L8.5 2.5l-.94 2.06-2.06.94zm10 10l.94 2.06.94-2.06 2.06-.94-2.06-.94-.94-2.06-.94 2.06-2.06.94z\"/><path d=\"M17.41 7.96l-1.37-1.37c-.4-.4-.92-.59-1.43-.59-.52 0-1.04.2-1.43.59L10.3 9.45l-7.72 7.72c-.78.78-.78 2.05 0 2.83L4 21.41c.39.39.9.59 1.41.59.51 0 1.02-.2 1.41-.59l7.78-7.78 2.81-2.81c.8-.78.8-2.07 0-2.86zM5.41 20L4 18.59l7.72-7.72 1.47 1.35L5.41 20z\"/>\n",
              "  </svg>\n",
              "      </button>\n",
              "      \n",
              "  <style>\n",
              "    .colab-df-container {\n",
              "      display:flex;\n",
              "      flex-wrap:wrap;\n",
              "      gap: 12px;\n",
              "    }\n",
              "\n",
              "    .colab-df-convert {\n",
              "      background-color: #E8F0FE;\n",
              "      border: none;\n",
              "      border-radius: 50%;\n",
              "      cursor: pointer;\n",
              "      display: none;\n",
              "      fill: #1967D2;\n",
              "      height: 32px;\n",
              "      padding: 0 0 0 0;\n",
              "      width: 32px;\n",
              "    }\n",
              "\n",
              "    .colab-df-convert:hover {\n",
              "      background-color: #E2EBFA;\n",
              "      box-shadow: 0px 1px 2px rgba(60, 64, 67, 0.3), 0px 1px 3px 1px rgba(60, 64, 67, 0.15);\n",
              "      fill: #174EA6;\n",
              "    }\n",
              "\n",
              "    [theme=dark] .colab-df-convert {\n",
              "      background-color: #3B4455;\n",
              "      fill: #D2E3FC;\n",
              "    }\n",
              "\n",
              "    [theme=dark] .colab-df-convert:hover {\n",
              "      background-color: #434B5C;\n",
              "      box-shadow: 0px 1px 3px 1px rgba(0, 0, 0, 0.15);\n",
              "      filter: drop-shadow(0px 1px 2px rgba(0, 0, 0, 0.3));\n",
              "      fill: #FFFFFF;\n",
              "    }\n",
              "  </style>\n",
              "\n",
              "      <script>\n",
              "        const buttonEl =\n",
              "          document.querySelector('#df-3880d338-3643-4853-921f-491a85d1fb41 button.colab-df-convert');\n",
              "        buttonEl.style.display =\n",
              "          google.colab.kernel.accessAllowed ? 'block' : 'none';\n",
              "\n",
              "        async function convertToInteractive(key) {\n",
              "          const element = document.querySelector('#df-3880d338-3643-4853-921f-491a85d1fb41');\n",
              "          const dataTable =\n",
              "            await google.colab.kernel.invokeFunction('convertToInteractive',\n",
              "                                                     [key], {});\n",
              "          if (!dataTable) return;\n",
              "\n",
              "          const docLinkHtml = 'Like what you see? Visit the ' +\n",
              "            '<a target=\"_blank\" href=https://colab.research.google.com/notebooks/data_table.ipynb>data table notebook</a>'\n",
              "            + ' to learn more about interactive tables.';\n",
              "          element.innerHTML = '';\n",
              "          dataTable['output_type'] = 'display_data';\n",
              "          await google.colab.output.renderOutput(dataTable, element);\n",
              "          const docLink = document.createElement('div');\n",
              "          docLink.innerHTML = docLinkHtml;\n",
              "          element.appendChild(docLink);\n",
              "        }\n",
              "      </script>\n",
              "    </div>\n",
              "  </div>\n",
              "  "
            ]
          },
          "metadata": {},
          "execution_count": 6
        }
      ],
      "source": [
        "df.head(7)"
      ]
    },
    {
      "cell_type": "markdown",
      "metadata": {
        "id": "ZgPAX46txyhI"
      },
      "source": [
        "Print the first 4 last rows"
      ]
    },
    {
      "cell_type": "code",
      "execution_count": 5,
      "metadata": {
        "colab": {
          "base_uri": "https://localhost:8080/",
          "height": 175
        },
        "id": "Wb9gt_aFxyhJ",
        "outputId": "76806a47-9bf5-4a2e-ad65-0d81e114230f"
      },
      "outputs": [
        {
          "output_type": "execute_result",
          "data": {
            "text/plain": [
              "      Unnamed: 0        x1        x2\n",
              "1796        1796  0.058201  0.123785\n",
              "1797        1797  0.886349  0.506972\n",
              "1798        1798  1.880795  0.244915\n",
              "1799        1799  2.003297  0.427839"
            ],
            "text/html": [
              "\n",
              "  <div id=\"df-10d8a05c-ba05-410d-8ebb-eeeb36ec05dc\">\n",
              "    <div class=\"colab-df-container\">\n",
              "      <div>\n",
              "<style scoped>\n",
              "    .dataframe tbody tr th:only-of-type {\n",
              "        vertical-align: middle;\n",
              "    }\n",
              "\n",
              "    .dataframe tbody tr th {\n",
              "        vertical-align: top;\n",
              "    }\n",
              "\n",
              "    .dataframe thead th {\n",
              "        text-align: right;\n",
              "    }\n",
              "</style>\n",
              "<table border=\"1\" class=\"dataframe\">\n",
              "  <thead>\n",
              "    <tr style=\"text-align: right;\">\n",
              "      <th></th>\n",
              "      <th>Unnamed: 0</th>\n",
              "      <th>x1</th>\n",
              "      <th>x2</th>\n",
              "    </tr>\n",
              "  </thead>\n",
              "  <tbody>\n",
              "    <tr>\n",
              "      <th>1796</th>\n",
              "      <td>1796</td>\n",
              "      <td>0.058201</td>\n",
              "      <td>0.123785</td>\n",
              "    </tr>\n",
              "    <tr>\n",
              "      <th>1797</th>\n",
              "      <td>1797</td>\n",
              "      <td>0.886349</td>\n",
              "      <td>0.506972</td>\n",
              "    </tr>\n",
              "    <tr>\n",
              "      <th>1798</th>\n",
              "      <td>1798</td>\n",
              "      <td>1.880795</td>\n",
              "      <td>0.244915</td>\n",
              "    </tr>\n",
              "    <tr>\n",
              "      <th>1799</th>\n",
              "      <td>1799</td>\n",
              "      <td>2.003297</td>\n",
              "      <td>0.427839</td>\n",
              "    </tr>\n",
              "  </tbody>\n",
              "</table>\n",
              "</div>\n",
              "      <button class=\"colab-df-convert\" onclick=\"convertToInteractive('df-10d8a05c-ba05-410d-8ebb-eeeb36ec05dc')\"\n",
              "              title=\"Convert this dataframe to an interactive table.\"\n",
              "              style=\"display:none;\">\n",
              "        \n",
              "  <svg xmlns=\"http://www.w3.org/2000/svg\" height=\"24px\"viewBox=\"0 0 24 24\"\n",
              "       width=\"24px\">\n",
              "    <path d=\"M0 0h24v24H0V0z\" fill=\"none\"/>\n",
              "    <path d=\"M18.56 5.44l.94 2.06.94-2.06 2.06-.94-2.06-.94-.94-2.06-.94 2.06-2.06.94zm-11 1L8.5 8.5l.94-2.06 2.06-.94-2.06-.94L8.5 2.5l-.94 2.06-2.06.94zm10 10l.94 2.06.94-2.06 2.06-.94-2.06-.94-.94-2.06-.94 2.06-2.06.94z\"/><path d=\"M17.41 7.96l-1.37-1.37c-.4-.4-.92-.59-1.43-.59-.52 0-1.04.2-1.43.59L10.3 9.45l-7.72 7.72c-.78.78-.78 2.05 0 2.83L4 21.41c.39.39.9.59 1.41.59.51 0 1.02-.2 1.41-.59l7.78-7.78 2.81-2.81c.8-.78.8-2.07 0-2.86zM5.41 20L4 18.59l7.72-7.72 1.47 1.35L5.41 20z\"/>\n",
              "  </svg>\n",
              "      </button>\n",
              "      \n",
              "  <style>\n",
              "    .colab-df-container {\n",
              "      display:flex;\n",
              "      flex-wrap:wrap;\n",
              "      gap: 12px;\n",
              "    }\n",
              "\n",
              "    .colab-df-convert {\n",
              "      background-color: #E8F0FE;\n",
              "      border: none;\n",
              "      border-radius: 50%;\n",
              "      cursor: pointer;\n",
              "      display: none;\n",
              "      fill: #1967D2;\n",
              "      height: 32px;\n",
              "      padding: 0 0 0 0;\n",
              "      width: 32px;\n",
              "    }\n",
              "\n",
              "    .colab-df-convert:hover {\n",
              "      background-color: #E2EBFA;\n",
              "      box-shadow: 0px 1px 2px rgba(60, 64, 67, 0.3), 0px 1px 3px 1px rgba(60, 64, 67, 0.15);\n",
              "      fill: #174EA6;\n",
              "    }\n",
              "\n",
              "    [theme=dark] .colab-df-convert {\n",
              "      background-color: #3B4455;\n",
              "      fill: #D2E3FC;\n",
              "    }\n",
              "\n",
              "    [theme=dark] .colab-df-convert:hover {\n",
              "      background-color: #434B5C;\n",
              "      box-shadow: 0px 1px 3px 1px rgba(0, 0, 0, 0.15);\n",
              "      filter: drop-shadow(0px 1px 2px rgba(0, 0, 0, 0.3));\n",
              "      fill: #FFFFFF;\n",
              "    }\n",
              "  </style>\n",
              "\n",
              "      <script>\n",
              "        const buttonEl =\n",
              "          document.querySelector('#df-10d8a05c-ba05-410d-8ebb-eeeb36ec05dc button.colab-df-convert');\n",
              "        buttonEl.style.display =\n",
              "          google.colab.kernel.accessAllowed ? 'block' : 'none';\n",
              "\n",
              "        async function convertToInteractive(key) {\n",
              "          const element = document.querySelector('#df-10d8a05c-ba05-410d-8ebb-eeeb36ec05dc');\n",
              "          const dataTable =\n",
              "            await google.colab.kernel.invokeFunction('convertToInteractive',\n",
              "                                                     [key], {});\n",
              "          if (!dataTable) return;\n",
              "\n",
              "          const docLinkHtml = 'Like what you see? Visit the ' +\n",
              "            '<a target=\"_blank\" href=https://colab.research.google.com/notebooks/data_table.ipynb>data table notebook</a>'\n",
              "            + ' to learn more about interactive tables.';\n",
              "          element.innerHTML = '';\n",
              "          dataTable['output_type'] = 'display_data';\n",
              "          await google.colab.output.renderOutput(dataTable, element);\n",
              "          const docLink = document.createElement('div');\n",
              "          docLink.innerHTML = docLinkHtml;\n",
              "          element.appendChild(docLink);\n",
              "        }\n",
              "      </script>\n",
              "    </div>\n",
              "  </div>\n",
              "  "
            ]
          },
          "metadata": {},
          "execution_count": 5
        }
      ],
      "source": [
        "df.tail(4)"
      ]
    },
    {
      "cell_type": "markdown",
      "metadata": {
        "id": "-kCrGxBsxyhJ"
      },
      "source": [
        "How many rows and columns are in your data?\n",
        "\n",
        "Use the `shape` method\n"
      ]
    },
    {
      "cell_type": "code",
      "execution_count": 8,
      "metadata": {
        "colab": {
          "base_uri": "https://localhost:8080/"
        },
        "id": "kjNfSYtQxyhJ",
        "outputId": "f2e76b60-70d3-48fe-9a88-b4f182e7051d"
      },
      "outputs": [
        {
          "output_type": "stream",
          "name": "stdout",
          "text": [
            "Number of rows: 1800\n",
            "Number of columns: 3\n"
          ]
        }
      ],
      "source": [
        "print('Number of rows:', df.shape[0])\n",
        "print('Number of columns:', df.shape[1])"
      ]
    },
    {
      "cell_type": "markdown",
      "metadata": {
        "id": "ndP8QyCBxyhJ"
      },
      "source": [
        "Print the name of all columns \n",
        "\n",
        "Use the `columns` method"
      ]
    },
    {
      "cell_type": "code",
      "execution_count": 9,
      "metadata": {
        "colab": {
          "base_uri": "https://localhost:8080/"
        },
        "id": "xHRMCJvdxyhK",
        "outputId": "02a226ea-fc8f-4922-9157-ee9ff6431fac"
      },
      "outputs": [
        {
          "output_type": "execute_result",
          "data": {
            "text/plain": [
              "Index(['Unnamed: 0', 'x1', 'x2'], dtype='object')"
            ]
          },
          "metadata": {},
          "execution_count": 9
        }
      ],
      "source": [
        "df.columns"
      ]
    },
    {
      "cell_type": "markdown",
      "metadata": {
        "id": "Jh53kD1zxyhK"
      },
      "source": [
        "What is the data type in each column\n",
        "\n",
        "Use the `dtypes` method "
      ]
    },
    {
      "cell_type": "code",
      "execution_count": 10,
      "metadata": {
        "colab": {
          "base_uri": "https://localhost:8080/"
        },
        "id": "HtuK4Ia_xyhK",
        "outputId": "18628e0c-c91c-4fd8-a60a-e4f875de980b"
      },
      "outputs": [
        {
          "output_type": "execute_result",
          "data": {
            "text/plain": [
              "Unnamed: 0      int64\n",
              "x1            float64\n",
              "x2            float64\n",
              "dtype: object"
            ]
          },
          "metadata": {},
          "execution_count": 10
        }
      ],
      "source": [
        "df.dtypes"
      ]
    },
    {
      "cell_type": "markdown",
      "metadata": {
        "id": "GBHQHUkcxyhK"
      },
      "source": [
        "What is the meaning of rows and columns?"
      ]
    },
    {
      "cell_type": "code",
      "execution_count": null,
      "metadata": {
        "id": "7mFea4sSxyhK"
      },
      "outputs": [],
      "source": [
        "# The rows represent the observations in our data, which in this case represent values for x1 and x2. The columns represent those 2 variables."
      ]
    },
    {
      "cell_type": "markdown",
      "metadata": {
        "id": "D4fgAxz1xyhK"
      },
      "source": [
        "Print a statistical summary of your columns\n"
      ]
    },
    {
      "cell_type": "code",
      "execution_count": 11,
      "metadata": {
        "colab": {
          "base_uri": "https://localhost:8080/",
          "height": 300
        },
        "id": "GgZGdgnYxyhK",
        "outputId": "1ba66230-082a-4673-f2ac-c80aeddfeb7e"
      },
      "outputs": [
        {
          "output_type": "execute_result",
          "data": {
            "text/plain": [
              "       Unnamed: 0           x1           x2\n",
              "count  1800.00000  1800.000000  1800.000000\n",
              "mean    899.50000     0.502621     0.248948\n",
              "std     519.75956     0.868574     0.498505\n",
              "min       0.00000    -1.238466    -0.703688\n",
              "25%     449.75000    -0.060800    -0.204963\n",
              "50%     899.50000     0.499840     0.237693\n",
              "75%    1349.25000     1.079877     0.687771\n",
              "max    1799.00000     2.196111     1.244663"
            ],
            "text/html": [
              "\n",
              "  <div id=\"df-7a9b0394-c4c6-43fa-a1d6-9b632b36ae2b\">\n",
              "    <div class=\"colab-df-container\">\n",
              "      <div>\n",
              "<style scoped>\n",
              "    .dataframe tbody tr th:only-of-type {\n",
              "        vertical-align: middle;\n",
              "    }\n",
              "\n",
              "    .dataframe tbody tr th {\n",
              "        vertical-align: top;\n",
              "    }\n",
              "\n",
              "    .dataframe thead th {\n",
              "        text-align: right;\n",
              "    }\n",
              "</style>\n",
              "<table border=\"1\" class=\"dataframe\">\n",
              "  <thead>\n",
              "    <tr style=\"text-align: right;\">\n",
              "      <th></th>\n",
              "      <th>Unnamed: 0</th>\n",
              "      <th>x1</th>\n",
              "      <th>x2</th>\n",
              "    </tr>\n",
              "  </thead>\n",
              "  <tbody>\n",
              "    <tr>\n",
              "      <th>count</th>\n",
              "      <td>1800.00000</td>\n",
              "      <td>1800.000000</td>\n",
              "      <td>1800.000000</td>\n",
              "    </tr>\n",
              "    <tr>\n",
              "      <th>mean</th>\n",
              "      <td>899.50000</td>\n",
              "      <td>0.502621</td>\n",
              "      <td>0.248948</td>\n",
              "    </tr>\n",
              "    <tr>\n",
              "      <th>std</th>\n",
              "      <td>519.75956</td>\n",
              "      <td>0.868574</td>\n",
              "      <td>0.498505</td>\n",
              "    </tr>\n",
              "    <tr>\n",
              "      <th>min</th>\n",
              "      <td>0.00000</td>\n",
              "      <td>-1.238466</td>\n",
              "      <td>-0.703688</td>\n",
              "    </tr>\n",
              "    <tr>\n",
              "      <th>25%</th>\n",
              "      <td>449.75000</td>\n",
              "      <td>-0.060800</td>\n",
              "      <td>-0.204963</td>\n",
              "    </tr>\n",
              "    <tr>\n",
              "      <th>50%</th>\n",
              "      <td>899.50000</td>\n",
              "      <td>0.499840</td>\n",
              "      <td>0.237693</td>\n",
              "    </tr>\n",
              "    <tr>\n",
              "      <th>75%</th>\n",
              "      <td>1349.25000</td>\n",
              "      <td>1.079877</td>\n",
              "      <td>0.687771</td>\n",
              "    </tr>\n",
              "    <tr>\n",
              "      <th>max</th>\n",
              "      <td>1799.00000</td>\n",
              "      <td>2.196111</td>\n",
              "      <td>1.244663</td>\n",
              "    </tr>\n",
              "  </tbody>\n",
              "</table>\n",
              "</div>\n",
              "      <button class=\"colab-df-convert\" onclick=\"convertToInteractive('df-7a9b0394-c4c6-43fa-a1d6-9b632b36ae2b')\"\n",
              "              title=\"Convert this dataframe to an interactive table.\"\n",
              "              style=\"display:none;\">\n",
              "        \n",
              "  <svg xmlns=\"http://www.w3.org/2000/svg\" height=\"24px\"viewBox=\"0 0 24 24\"\n",
              "       width=\"24px\">\n",
              "    <path d=\"M0 0h24v24H0V0z\" fill=\"none\"/>\n",
              "    <path d=\"M18.56 5.44l.94 2.06.94-2.06 2.06-.94-2.06-.94-.94-2.06-.94 2.06-2.06.94zm-11 1L8.5 8.5l.94-2.06 2.06-.94-2.06-.94L8.5 2.5l-.94 2.06-2.06.94zm10 10l.94 2.06.94-2.06 2.06-.94-2.06-.94-.94-2.06-.94 2.06-2.06.94z\"/><path d=\"M17.41 7.96l-1.37-1.37c-.4-.4-.92-.59-1.43-.59-.52 0-1.04.2-1.43.59L10.3 9.45l-7.72 7.72c-.78.78-.78 2.05 0 2.83L4 21.41c.39.39.9.59 1.41.59.51 0 1.02-.2 1.41-.59l7.78-7.78 2.81-2.81c.8-.78.8-2.07 0-2.86zM5.41 20L4 18.59l7.72-7.72 1.47 1.35L5.41 20z\"/>\n",
              "  </svg>\n",
              "      </button>\n",
              "      \n",
              "  <style>\n",
              "    .colab-df-container {\n",
              "      display:flex;\n",
              "      flex-wrap:wrap;\n",
              "      gap: 12px;\n",
              "    }\n",
              "\n",
              "    .colab-df-convert {\n",
              "      background-color: #E8F0FE;\n",
              "      border: none;\n",
              "      border-radius: 50%;\n",
              "      cursor: pointer;\n",
              "      display: none;\n",
              "      fill: #1967D2;\n",
              "      height: 32px;\n",
              "      padding: 0 0 0 0;\n",
              "      width: 32px;\n",
              "    }\n",
              "\n",
              "    .colab-df-convert:hover {\n",
              "      background-color: #E2EBFA;\n",
              "      box-shadow: 0px 1px 2px rgba(60, 64, 67, 0.3), 0px 1px 3px 1px rgba(60, 64, 67, 0.15);\n",
              "      fill: #174EA6;\n",
              "    }\n",
              "\n",
              "    [theme=dark] .colab-df-convert {\n",
              "      background-color: #3B4455;\n",
              "      fill: #D2E3FC;\n",
              "    }\n",
              "\n",
              "    [theme=dark] .colab-df-convert:hover {\n",
              "      background-color: #434B5C;\n",
              "      box-shadow: 0px 1px 3px 1px rgba(0, 0, 0, 0.15);\n",
              "      filter: drop-shadow(0px 1px 2px rgba(0, 0, 0, 0.3));\n",
              "      fill: #FFFFFF;\n",
              "    }\n",
              "  </style>\n",
              "\n",
              "      <script>\n",
              "        const buttonEl =\n",
              "          document.querySelector('#df-7a9b0394-c4c6-43fa-a1d6-9b632b36ae2b button.colab-df-convert');\n",
              "        buttonEl.style.display =\n",
              "          google.colab.kernel.accessAllowed ? 'block' : 'none';\n",
              "\n",
              "        async function convertToInteractive(key) {\n",
              "          const element = document.querySelector('#df-7a9b0394-c4c6-43fa-a1d6-9b632b36ae2b');\n",
              "          const dataTable =\n",
              "            await google.colab.kernel.invokeFunction('convertToInteractive',\n",
              "                                                     [key], {});\n",
              "          if (!dataTable) return;\n",
              "\n",
              "          const docLinkHtml = 'Like what you see? Visit the ' +\n",
              "            '<a target=\"_blank\" href=https://colab.research.google.com/notebooks/data_table.ipynb>data table notebook</a>'\n",
              "            + ' to learn more about interactive tables.';\n",
              "          element.innerHTML = '';\n",
              "          dataTable['output_type'] = 'display_data';\n",
              "          await google.colab.output.renderOutput(dataTable, element);\n",
              "          const docLink = document.createElement('div');\n",
              "          docLink.innerHTML = docLinkHtml;\n",
              "          element.appendChild(docLink);\n",
              "        }\n",
              "      </script>\n",
              "    </div>\n",
              "  </div>\n",
              "  "
            ]
          },
          "metadata": {},
          "execution_count": 11
        }
      ],
      "source": [
        "df.describe()"
      ]
    },
    {
      "cell_type": "markdown",
      "source": [
        "1) What is the minumum and maximum values of each variable\n",
        "\n",
        "\n",
        "\n",
        "\n",
        "**Variable 1:**\n",
        "min = 0\n",
        "max = 1799\n",
        "\n",
        "**Variable 2:**\n",
        "min = -1.238466\n",
        "max = 2.196111\n",
        "\n",
        "**Variable 3:**\n",
        "min = -0.703688\n",
        "max = 1.244663\n",
        "\n",
        "---\n",
        "\n",
        "\n",
        "\n",
        "2) What is the mean and standar deviation of each variable\n",
        "\n",
        "\n",
        "**Variable 1:**\n",
        "519.75956\n",
        "\n",
        "**Variable 2:**\n",
        "0.868574\n",
        "\n",
        "**Variable 3:**\n",
        "0.498505\n",
        "\n",
        "---\n",
        "\n",
        "3) What the 25%, 50% and 75% represent?\n",
        "They represent the first 3 quartiles of our data"
      ],
      "metadata": {
        "id": "0hm78vqu0jti"
      }
    },
    {
      "cell_type": "markdown",
      "metadata": {
        "id": "j2_PSWeaxyhL"
      },
      "source": [
        "Rename the columns using the same name with capital letters"
      ]
    },
    {
      "cell_type": "code",
      "execution_count": null,
      "metadata": {
        "id": "yN7U_ccmxyhL"
      },
      "outputs": [],
      "source": [
        "df.columns.values[1] = 'X1'\n",
        "df.columns.values[2] = 'X2'"
      ]
    },
    {
      "cell_type": "markdown",
      "metadata": {
        "id": "V9PWRAplxyhL"
      },
      "source": [
        "Rename the columns to their original names"
      ]
    },
    {
      "cell_type": "code",
      "execution_count": 82,
      "metadata": {
        "id": "c1Z6xLGtxyhL"
      },
      "outputs": [],
      "source": [
        "df.columns.values[1] = 'x1'\n",
        "df.columns.values[2] = 'x2'"
      ]
    },
    {
      "cell_type": "markdown",
      "metadata": {
        "id": "DFpaXttrxyhL"
      },
      "source": [
        "Use two different alternatives to get one of the columns"
      ]
    },
    {
      "cell_type": "code",
      "execution_count": 5,
      "metadata": {
        "colab": {
          "base_uri": "https://localhost:8080/"
        },
        "id": "PRFK1ygTxyhL",
        "outputId": "2c93c6d0-afb5-4adc-f9c7-06a7b03183f9"
      },
      "outputs": [
        {
          "output_type": "execute_result",
          "data": {
            "text/plain": [
              "0       0.565605\n",
              "1       1.043726\n",
              "2       0.836234\n",
              "3       0.473639\n",
              "4       0.646451\n",
              "          ...   \n",
              "1795    0.645813\n",
              "1796    0.123785\n",
              "1797    0.506972\n",
              "1798    0.244915\n",
              "1799    0.427839\n",
              "Name: x2, Length: 1800, dtype: float64"
            ]
          },
          "metadata": {},
          "execution_count": 5
        }
      ],
      "source": [
        "df.iloc[:,-1]"
      ]
    },
    {
      "cell_type": "code",
      "source": [
        "df['x2']"
      ],
      "metadata": {
        "colab": {
          "base_uri": "https://localhost:8080/"
        },
        "id": "B6k4x6QL2kXl",
        "outputId": "9160da5b-46c3-4017-eff0-11f85c5c5c3e"
      },
      "execution_count": 6,
      "outputs": [
        {
          "output_type": "execute_result",
          "data": {
            "text/plain": [
              "0       0.565605\n",
              "1       1.043726\n",
              "2       0.836234\n",
              "3       0.473639\n",
              "4       0.646451\n",
              "          ...   \n",
              "1795    0.645813\n",
              "1796    0.123785\n",
              "1797    0.506972\n",
              "1798    0.244915\n",
              "1799    0.427839\n",
              "Name: x2, Length: 1800, dtype: float64"
            ]
          },
          "metadata": {},
          "execution_count": 6
        }
      ]
    },
    {
      "cell_type": "markdown",
      "metadata": {
        "id": "1FfYm0XPxyhL"
      },
      "source": [
        "Get a slice of your data set: second and thrid columns and rows from 62 to 72"
      ]
    },
    {
      "cell_type": "code",
      "execution_count": 24,
      "metadata": {
        "colab": {
          "base_uri": "https://localhost:8080/",
          "height": 394
        },
        "id": "qolEe0sXxyhL",
        "outputId": "24b5674b-725a-42ea-f3a7-514ed675bf38"
      },
      "outputs": [
        {
          "output_type": "execute_result",
          "data": {
            "text/plain": [
              "          x1        x2\n",
              "62  0.213176  0.849439\n",
              "63 -0.284166  0.903374\n",
              "64 -0.253319  1.040368\n",
              "65 -0.884553  0.545882\n",
              "66  0.896189  0.690316\n",
              "67 -0.940785  0.304416\n",
              "68  1.975759  0.177643\n",
              "69  0.140821  0.768065\n",
              "70 -0.858495  0.421620\n",
              "71  1.989865  0.338419\n",
              "72 -0.847507  0.271195"
            ],
            "text/html": [
              "\n",
              "  <div id=\"df-51900ac3-1f45-4502-b878-2e93f8c01e72\">\n",
              "    <div class=\"colab-df-container\">\n",
              "      <div>\n",
              "<style scoped>\n",
              "    .dataframe tbody tr th:only-of-type {\n",
              "        vertical-align: middle;\n",
              "    }\n",
              "\n",
              "    .dataframe tbody tr th {\n",
              "        vertical-align: top;\n",
              "    }\n",
              "\n",
              "    .dataframe thead th {\n",
              "        text-align: right;\n",
              "    }\n",
              "</style>\n",
              "<table border=\"1\" class=\"dataframe\">\n",
              "  <thead>\n",
              "    <tr style=\"text-align: right;\">\n",
              "      <th></th>\n",
              "      <th>x1</th>\n",
              "      <th>x2</th>\n",
              "    </tr>\n",
              "  </thead>\n",
              "  <tbody>\n",
              "    <tr>\n",
              "      <th>62</th>\n",
              "      <td>0.213176</td>\n",
              "      <td>0.849439</td>\n",
              "    </tr>\n",
              "    <tr>\n",
              "      <th>63</th>\n",
              "      <td>-0.284166</td>\n",
              "      <td>0.903374</td>\n",
              "    </tr>\n",
              "    <tr>\n",
              "      <th>64</th>\n",
              "      <td>-0.253319</td>\n",
              "      <td>1.040368</td>\n",
              "    </tr>\n",
              "    <tr>\n",
              "      <th>65</th>\n",
              "      <td>-0.884553</td>\n",
              "      <td>0.545882</td>\n",
              "    </tr>\n",
              "    <tr>\n",
              "      <th>66</th>\n",
              "      <td>0.896189</td>\n",
              "      <td>0.690316</td>\n",
              "    </tr>\n",
              "    <tr>\n",
              "      <th>67</th>\n",
              "      <td>-0.940785</td>\n",
              "      <td>0.304416</td>\n",
              "    </tr>\n",
              "    <tr>\n",
              "      <th>68</th>\n",
              "      <td>1.975759</td>\n",
              "      <td>0.177643</td>\n",
              "    </tr>\n",
              "    <tr>\n",
              "      <th>69</th>\n",
              "      <td>0.140821</td>\n",
              "      <td>0.768065</td>\n",
              "    </tr>\n",
              "    <tr>\n",
              "      <th>70</th>\n",
              "      <td>-0.858495</td>\n",
              "      <td>0.421620</td>\n",
              "    </tr>\n",
              "    <tr>\n",
              "      <th>71</th>\n",
              "      <td>1.989865</td>\n",
              "      <td>0.338419</td>\n",
              "    </tr>\n",
              "    <tr>\n",
              "      <th>72</th>\n",
              "      <td>-0.847507</td>\n",
              "      <td>0.271195</td>\n",
              "    </tr>\n",
              "  </tbody>\n",
              "</table>\n",
              "</div>\n",
              "      <button class=\"colab-df-convert\" onclick=\"convertToInteractive('df-51900ac3-1f45-4502-b878-2e93f8c01e72')\"\n",
              "              title=\"Convert this dataframe to an interactive table.\"\n",
              "              style=\"display:none;\">\n",
              "        \n",
              "  <svg xmlns=\"http://www.w3.org/2000/svg\" height=\"24px\"viewBox=\"0 0 24 24\"\n",
              "       width=\"24px\">\n",
              "    <path d=\"M0 0h24v24H0V0z\" fill=\"none\"/>\n",
              "    <path d=\"M18.56 5.44l.94 2.06.94-2.06 2.06-.94-2.06-.94-.94-2.06-.94 2.06-2.06.94zm-11 1L8.5 8.5l.94-2.06 2.06-.94-2.06-.94L8.5 2.5l-.94 2.06-2.06.94zm10 10l.94 2.06.94-2.06 2.06-.94-2.06-.94-.94-2.06-.94 2.06-2.06.94z\"/><path d=\"M17.41 7.96l-1.37-1.37c-.4-.4-.92-.59-1.43-.59-.52 0-1.04.2-1.43.59L10.3 9.45l-7.72 7.72c-.78.78-.78 2.05 0 2.83L4 21.41c.39.39.9.59 1.41.59.51 0 1.02-.2 1.41-.59l7.78-7.78 2.81-2.81c.8-.78.8-2.07 0-2.86zM5.41 20L4 18.59l7.72-7.72 1.47 1.35L5.41 20z\"/>\n",
              "  </svg>\n",
              "      </button>\n",
              "      \n",
              "  <style>\n",
              "    .colab-df-container {\n",
              "      display:flex;\n",
              "      flex-wrap:wrap;\n",
              "      gap: 12px;\n",
              "    }\n",
              "\n",
              "    .colab-df-convert {\n",
              "      background-color: #E8F0FE;\n",
              "      border: none;\n",
              "      border-radius: 50%;\n",
              "      cursor: pointer;\n",
              "      display: none;\n",
              "      fill: #1967D2;\n",
              "      height: 32px;\n",
              "      padding: 0 0 0 0;\n",
              "      width: 32px;\n",
              "    }\n",
              "\n",
              "    .colab-df-convert:hover {\n",
              "      background-color: #E2EBFA;\n",
              "      box-shadow: 0px 1px 2px rgba(60, 64, 67, 0.3), 0px 1px 3px 1px rgba(60, 64, 67, 0.15);\n",
              "      fill: #174EA6;\n",
              "    }\n",
              "\n",
              "    [theme=dark] .colab-df-convert {\n",
              "      background-color: #3B4455;\n",
              "      fill: #D2E3FC;\n",
              "    }\n",
              "\n",
              "    [theme=dark] .colab-df-convert:hover {\n",
              "      background-color: #434B5C;\n",
              "      box-shadow: 0px 1px 3px 1px rgba(0, 0, 0, 0.15);\n",
              "      filter: drop-shadow(0px 1px 2px rgba(0, 0, 0, 0.3));\n",
              "      fill: #FFFFFF;\n",
              "    }\n",
              "  </style>\n",
              "\n",
              "      <script>\n",
              "        const buttonEl =\n",
              "          document.querySelector('#df-51900ac3-1f45-4502-b878-2e93f8c01e72 button.colab-df-convert');\n",
              "        buttonEl.style.display =\n",
              "          google.colab.kernel.accessAllowed ? 'block' : 'none';\n",
              "\n",
              "        async function convertToInteractive(key) {\n",
              "          const element = document.querySelector('#df-51900ac3-1f45-4502-b878-2e93f8c01e72');\n",
              "          const dataTable =\n",
              "            await google.colab.kernel.invokeFunction('convertToInteractive',\n",
              "                                                     [key], {});\n",
              "          if (!dataTable) return;\n",
              "\n",
              "          const docLinkHtml = 'Like what you see? Visit the ' +\n",
              "            '<a target=\"_blank\" href=https://colab.research.google.com/notebooks/data_table.ipynb>data table notebook</a>'\n",
              "            + ' to learn more about interactive tables.';\n",
              "          element.innerHTML = '';\n",
              "          dataTable['output_type'] = 'display_data';\n",
              "          await google.colab.output.renderOutput(dataTable, element);\n",
              "          const docLink = document.createElement('div');\n",
              "          docLink.innerHTML = docLinkHtml;\n",
              "          element.appendChild(docLink);\n",
              "        }\n",
              "      </script>\n",
              "    </div>\n",
              "  </div>\n",
              "  "
            ]
          },
          "metadata": {},
          "execution_count": 24
        }
      ],
      "source": [
        "df.iloc[62:73, 1:3]"
      ]
    },
    {
      "cell_type": "markdown",
      "metadata": {
        "id": "6DbIBY9ExyhL"
      },
      "source": [
        "For the second and thrid columns, calculate the number of null and not null values and verify that their sum equals the total number of rows"
      ]
    },
    {
      "cell_type": "code",
      "execution_count": 34,
      "metadata": {
        "colab": {
          "base_uri": "https://localhost:8080/"
        },
        "id": "4quM2EA_xyhL",
        "outputId": "d00bfa14-b83c-412d-9b54-9b5ef7da1385"
      },
      "outputs": [
        {
          "output_type": "execute_result",
          "data": {
            "text/plain": [
              "x1    0\n",
              "x2    0\n",
              "dtype: int64"
            ]
          },
          "metadata": {},
          "execution_count": 34
        }
      ],
      "source": [
        "sum1 = df[['x1', 'x2']].isnull().sum()\n",
        "sum1"
      ]
    },
    {
      "cell_type": "code",
      "source": [
        "sum2 = df[['x1', 'x2']].notnull().sum()\n",
        "sum2"
      ],
      "metadata": {
        "colab": {
          "base_uri": "https://localhost:8080/"
        },
        "id": "QDJd6M1237AB",
        "outputId": "4abbc758-b382-4504-98c0-bd4a76a62438"
      },
      "execution_count": 35,
      "outputs": [
        {
          "output_type": "execute_result",
          "data": {
            "text/plain": [
              "x1    1800\n",
              "x2    1800\n",
              "dtype: int64"
            ]
          },
          "metadata": {},
          "execution_count": 35
        }
      ]
    },
    {
      "cell_type": "code",
      "source": [
        "sum1 + sum2 == df.shape[0]"
      ],
      "metadata": {
        "colab": {
          "base_uri": "https://localhost:8080/"
        },
        "id": "neJk9EdZ4Ivx",
        "outputId": "5b2a7f68-5c80-4682-b6ac-3a6a270b2d85"
      },
      "execution_count": 40,
      "outputs": [
        {
          "output_type": "execute_result",
          "data": {
            "text/plain": [
              "x1    True\n",
              "x2    True\n",
              "dtype: bool"
            ]
          },
          "metadata": {},
          "execution_count": 40
        }
      ]
    },
    {
      "cell_type": "markdown",
      "metadata": {
        "id": "_FdKQ274xyhM"
      },
      "source": [
        "Discard the first column\n"
      ]
    },
    {
      "cell_type": "code",
      "execution_count": 8,
      "metadata": {
        "id": "VQ8qNGZJxyhM"
      },
      "outputs": [],
      "source": [
        "df = df.drop(df.columns[0], axis=1)"
      ]
    },
    {
      "cell_type": "markdown",
      "metadata": {
        "id": "-wKXrTYyxyhM"
      },
      "source": [
        "### Questions \n",
        "\n",
        "Based on the previos results, provide a description of yout dataset\n",
        "\n",
        "Your response:\n",
        "\n",
        "\n"
      ]
    },
    {
      "cell_type": "markdown",
      "source": [
        "My dataset consists of 1800 observations and 2 variables, it doesn't contain any null values. It also looks like our data doesn't have any categorical values, they are all numerical (float)."
      ],
      "metadata": {
        "id": "F6hYqsvuFMo6"
      }
    },
    {
      "cell_type": "markdown",
      "metadata": {
        "id": "nIM96-MzxyhM"
      },
      "source": [
        "## A3 Data visualization"
      ]
    },
    {
      "cell_type": "markdown",
      "metadata": {
        "id": "uxSr8MLmxyhM"
      },
      "source": [
        "Plot in the same figure the histogram of the two variables"
      ]
    },
    {
      "cell_type": "code",
      "execution_count": 44,
      "metadata": {
        "colab": {
          "base_uri": "https://localhost:8080/",
          "height": 721
        },
        "id": "c1qt49xLxyhM",
        "outputId": "191b361e-6fb0-46e4-8299-c7ad79753394"
      },
      "outputs": [
        {
          "output_type": "display_data",
          "data": {
            "text/plain": [
              "<Figure size 360x360 with 1 Axes>"
            ],
            "image/png": "[encoded data removed]"
          },
          "metadata": {
            "needs_background": "light"
          }
        },
        {
          "output_type": "display_data",
          "data": {
            "text/plain": [
              "<Figure size 360x360 with 1 Axes>"
            ],
            "image/png": "[encoded data removed]"
          },
          "metadata": {
            "needs_background": "light"
          }
        }
      ],
      "source": [
        "sns.displot(df['x1'], kde = False)\n",
        "sns.displot(df['x2'], kde = False)\n",
        "\n",
        "plt.show()"
      ]
    },
    {
      "cell_type": "markdown",
      "metadata": {
        "id": "3C_ReFtqxyhM"
      },
      "source": [
        "Based on this plots, provide a description of your data:\n",
        "\n",
        "Your response here:"
      ]
    },
    {
      "cell_type": "markdown",
      "source": [
        "The values are between -0.75 and 3, they have several variations."
      ],
      "metadata": {
        "id": "EoOeDkVQF_Os"
      }
    },
    {
      "cell_type": "markdown",
      "metadata": {
        "id": "_yt8pE7exyhM"
      },
      "source": [
        "Plot in the same figure the boxplot of the two variables "
      ]
    },
    {
      "cell_type": "code",
      "execution_count": 45,
      "metadata": {
        "colab": {
          "base_uri": "https://localhost:8080/",
          "height": 281
        },
        "id": "Nw7y_gTIxyhM",
        "outputId": "e33afe6c-e55d-48f2-82d7-d2762cc7dbc7"
      },
      "outputs": [
        {
          "output_type": "display_data",
          "data": {
            "text/plain": [
              "<Figure size 432x288 with 1 Axes>"
            ],
            "image/png": "[encoded data removed]"
          },
          "metadata": {
            "needs_background": "light"
          }
        }
      ],
      "source": [
        "X = df.loc[:, ['x1', 'x2']]\n",
        "x2bp = sns.boxplot(data=X, orient=\"v\", palette=\"viridis\")\n",
        "x2bp.set_title(\"Box plot of quantitative variables\")\n",
        "plt.show()"
      ]
    },
    {
      "cell_type": "markdown",
      "metadata": {
        "id": "eq9pRu3sxyhM"
      },
      "source": [
        "Scatter plot of the two variables"
      ]
    },
    {
      "cell_type": "code",
      "execution_count": 47,
      "metadata": {
        "colab": {
          "base_uri": "https://localhost:8080/",
          "height": 279
        },
        "id": "ktuLX8kzxyhN",
        "outputId": "e6ce409c-0fda-41fa-a728-f8ff0f7a6252"
      },
      "outputs": [
        {
          "output_type": "display_data",
          "data": {
            "text/plain": [
              "<Figure size 432x288 with 1 Axes>"
            ],
            "image/png": "[encoded data removed]"
          },
          "metadata": {
            "needs_background": "light"
          }
        }
      ],
      "source": [
        "sns.scatterplot(data = df, x = 'x1', y = 'x2')\n",
        "plt.show()"
      ]
    },
    {
      "cell_type": "markdown",
      "metadata": {
        "id": "3gtk1TsCxyhN"
      },
      "source": [
        "### Questions \n",
        "\n",
        "Based on the previos plots, provide a description of yout dataset\n",
        "\n",
        "Your response:\n",
        "\n",
        "\n"
      ]
    },
    {
      "cell_type": "markdown",
      "source": [
        "As seen on the boxplots, my dataset has no outliers. It also looks like it could be divided into two clusters."
      ],
      "metadata": {
        "id": "vfFsfUVsGgCc"
      }
    },
    {
      "cell_type": "markdown",
      "metadata": {
        "id": "8OnMZ1LcxyhN"
      },
      "source": [
        "## A4 Kmeans"
      ]
    },
    {
      "cell_type": "markdown",
      "metadata": {
        "id": "OscdIy91xyhN"
      },
      "source": [
        "Do Kmeans clustering assuming a number of clusters accorging to your scatter plot"
      ]
    },
    {
      "cell_type": "code",
      "execution_count": 49,
      "metadata": {
        "colab": {
          "base_uri": "https://localhost:8080/"
        },
        "id": "rvVCZgbDxyhN",
        "outputId": "7691c87d-04c2-4156-86d2-22a9a1216f85"
      },
      "outputs": [
        {
          "output_type": "execute_result",
          "data": {
            "text/plain": [
              "array([1, 1, 1, ..., 0, 0, 0], dtype=int32)"
            ]
          },
          "metadata": {},
          "execution_count": 49
        }
      ],
      "source": [
        "K = 2\n",
        "km = KMeans(n_clusters=K, n_init=\"auto\")\n",
        "\n",
        "yestimated = km.fit_predict(df)\n",
        "yestimated"
      ]
    },
    {
      "cell_type": "markdown",
      "metadata": {
        "id": "KveWUpGWxyhN"
      },
      "source": [
        "Add to your dataset a column with the assihned cluster to each data point"
      ]
    },
    {
      "cell_type": "code",
      "execution_count": 50,
      "metadata": {
        "id": "JcQwViOWxyhN"
      },
      "outputs": [],
      "source": [
        "df['yestimated'] = yestimated"
      ]
    },
    {
      "cell_type": "markdown",
      "metadata": {
        "id": "u5ak3pjwxyhN"
      },
      "source": [
        "Print the number associated to each cluster"
      ]
    },
    {
      "cell_type": "code",
      "execution_count": 51,
      "metadata": {
        "colab": {
          "base_uri": "https://localhost:8080/"
        },
        "id": "FPCoMIPhxyhN",
        "outputId": "2a82f2df-31f6-4408-8e84-370906c74dbd"
      },
      "outputs": [
        {
          "output_type": "execute_result",
          "data": {
            "text/plain": [
              "array([1, 0], dtype=int32)"
            ]
          },
          "metadata": {},
          "execution_count": 51
        }
      ],
      "source": [
        "df.yestimated.unique()"
      ]
    },
    {
      "cell_type": "markdown",
      "metadata": {
        "id": "tB1wI42ixyhO"
      },
      "source": [
        "Print the centroids"
      ]
    },
    {
      "cell_type": "code",
      "execution_count": 52,
      "metadata": {
        "colab": {
          "base_uri": "https://localhost:8080/"
        },
        "id": "tAPvjh4MxyhO",
        "outputId": "312db896-fe8f-4862-d302-4533ddd961b1"
      },
      "outputs": [
        {
          "output_type": "execute_result",
          "data": {
            "text/plain": [
              "array([[ 1.19498506, -0.07216986],\n",
              "       [-0.20216244,  0.57582572]])"
            ]
          },
          "metadata": {},
          "execution_count": 52
        }
      ],
      "source": [
        "km.cluster_centers_"
      ]
    },
    {
      "cell_type": "markdown",
      "metadata": {
        "id": "Up-rysJrxyhO"
      },
      "source": [
        "Print the intertia metric"
      ]
    },
    {
      "cell_type": "code",
      "execution_count": 53,
      "metadata": {
        "colab": {
          "base_uri": "https://localhost:8080/"
        },
        "id": "Yht9BVPSxyhO",
        "outputId": "347b9940-e37a-4bbf-c4fb-65a80133936d"
      },
      "outputs": [
        {
          "output_type": "execute_result",
          "data": {
            "text/plain": [
              "736.9872239926983"
            ]
          },
          "metadata": {},
          "execution_count": 53
        }
      ],
      "source": [
        "km.inertia_"
      ]
    },
    {
      "cell_type": "markdown",
      "metadata": {
        "id": "iTXgeFHmxyhO"
      },
      "source": [
        "Plot a scatter plot of your data assigned to each cluster. Also plot the centroids"
      ]
    },
    {
      "cell_type": "code",
      "execution_count": 54,
      "metadata": {
        "colab": {
          "base_uri": "https://localhost:8080/",
          "height": 295
        },
        "id": "Li7Yj7P4xyhO",
        "outputId": "0b9aabf7-06be-4c7a-f4e8-ff2b0e518928"
      },
      "outputs": [
        {
          "output_type": "display_data",
          "data": {
            "text/plain": [
              "<Figure size 432x288 with 1 Axes>"
            ],
            "image/png": "[encoded data removed]"
          },
          "metadata": {
            "needs_background": "light"
          }
        }
      ],
      "source": [
        "df1 = df[df.yestimated==0]\n",
        "df2 = df[df.yestimated==1]\n",
        "\n",
        "plt.scatter(df1.x1, df1.x2, label='Cluster 0', marker='o', s=32, alpha=0.3)\n",
        "plt.scatter(df2.x1, df2.x2, label='Cluster 1', marker='o', s=32, alpha=0.3)\n",
        "\n",
        "plt.scatter(km.cluster_centers_[:,0], km.cluster_centers_[:,1], color='black', marker='x')\n",
        "\n",
        "plt.title('Scatter plot (for each cluster)')\n",
        "plt.xlabel('x1')\n",
        "plt.ylabel('x2')\n",
        "plt.legend()\n",
        "plt.show()"
      ]
    },
    {
      "cell_type": "markdown",
      "metadata": {
        "id": "IgglWBB2xyhO"
      },
      "source": [
        "### Questions \n",
        "\n",
        "Provides a detailed description of your results\n",
        "\n",
        "Your response:"
      ]
    },
    {
      "cell_type": "markdown",
      "source": [
        "It looks like selecting 2 clusters was the right choice, the results show our data and its respective cluster. From the centroids, we can observe that it is almost evenly devided, the blue cluster having a bit more points."
      ],
      "metadata": {
        "id": "j_t7291FHJPL"
      }
    },
    {
      "cell_type": "markdown",
      "metadata": {
        "id": "SXGXNNyRxyhO"
      },
      "source": [
        "## A5 Elbow plot\n",
        "\n",
        "Compute the Elbow plot"
      ]
    },
    {
      "cell_type": "code",
      "source": [
        "sse = []\n",
        "\n",
        "# Define values of k\n",
        "k_rng = range(1,5)\n",
        "\n",
        "# For each k\n",
        "for k in k_rng:\n",
        "  # Create model\n",
        "  km = KMeans(n_clusters=k, n_init=\"auto\")\n",
        "  # Do K-means clustering\n",
        "  km.fit_predict(df)\n",
        "  # Save sse for each k\n",
        "  sse.append(km.inertia_)"
      ],
      "metadata": {
        "id": "J0OU0zwV8m4S"
      },
      "execution_count": 55,
      "outputs": []
    },
    {
      "cell_type": "code",
      "execution_count": 56,
      "metadata": {
        "colab": {
          "base_uri": "https://localhost:8080/",
          "height": 295
        },
        "id": "oZXRqNtmxyhO",
        "outputId": "8269f944-dc96-4221-e969-f7751149ccf8"
      },
      "outputs": [
        {
          "output_type": "display_data",
          "data": {
            "text/plain": [
              "<Figure size 432x288 with 1 Axes>"
            ],
            "image/png": "[encoded data removed]"
          },
          "metadata": {
            "needs_background": "light"
          }
        }
      ],
      "source": [
        "plt.plot(k_rng, sse, 'o-', markersize=8)\n",
        "\n",
        "plt.title('Elbow Plot')\n",
        "plt.xlabel('K')\n",
        "plt.ylabel('Sum of squared error')\n",
        "plt.show()"
      ]
    },
    {
      "cell_type": "markdown",
      "metadata": {
        "id": "rMBTNXDMxyhO"
      },
      "source": [
        "### Questions \n",
        "\n",
        "**What is the best number of clusters K? (argue your response)**\n",
        "\n",
        "**Your response:**\n",
        "\n",
        "\n"
      ]
    },
    {
      "cell_type": "markdown",
      "source": [
        "The best number is 2. As we can see in the elbow plot, theres a clear threshold at (2, 750)."
      ],
      "metadata": {
        "id": "odAcfB25Ht49"
      }
    },
    {
      "cell_type": "markdown",
      "source": [
        "**Does this number of clusters agree with your inital guess? (argue your response)**\n",
        "\n",
        "**Your response:**"
      ],
      "metadata": {
        "id": "URIQygd4Hr7Q"
      }
    },
    {
      "cell_type": "markdown",
      "source": [
        "Yes, my initial guess was also 2. I observed that the data concentrated on two different areas."
      ],
      "metadata": {
        "id": "pdImLou_III_"
      }
    },
    {
      "cell_type": "markdown",
      "metadata": {
        "id": "M_cE8LF6xyhO"
      },
      "source": [
        "# PART 2\n",
        "# Create a dataset and do clustering"
      ]
    },
    {
      "cell_type": "markdown",
      "metadata": {
        "id": "q1-xJNkHxyhP"
      },
      "source": [
        "1) Generate some data using the \"make_blobs\" function from \"sklearn.datasets\"\n",
        "\n",
        "- The number of observations is equal to the three last digits in your ID (if this number is lower than 99, then multiply it by ten)\n",
        "\n",
        "- 3 variables\n",
        "\n",
        "- 4 clusters\n",
        "\n",
        "- Standar deviation of each cluster of 1.5\n",
        "\n"
      ]
    },
    {
      "cell_type": "code",
      "execution_count": 9,
      "metadata": {
        "id": "XGrMkFf-xyhP"
      },
      "outputs": [],
      "source": [
        "x, y = make_blobs(n_samples=860, n_features=3, centers=4, cluster_std=1.5, random_state=42)"
      ]
    },
    {
      "cell_type": "markdown",
      "metadata": {
        "id": "u3hd6HtrxyhP"
      },
      "source": [
        "2) Plot the scatter plot of your data using the real cluster labels"
      ]
    },
    {
      "cell_type": "code",
      "execution_count": 10,
      "metadata": {
        "colab": {
          "base_uri": "https://localhost:8080/",
          "height": 265
        },
        "id": "ClHcWTh1xyhP",
        "outputId": "0071ebcc-0830-4cf7-bb4b-1e681a8b3c3b"
      },
      "outputs": [
        {
          "output_type": "display_data",
          "data": {
            "text/plain": [
              "<Figure size 432x288 with 1 Axes>"
            ],
            "image/png": "[encoded data removed]"
          },
          "metadata": {
            "needs_background": "light"
          }
        }
      ],
      "source": [
        "plt.scatter(x[:, 0], x[:, 1], c=y, cmap='winter')\n",
        "plt.show()"
      ]
    },
    {
      "cell_type": "markdown",
      "metadata": {
        "id": "hVF0Pp9OxyhP"
      },
      "source": [
        "3) Do K means clustering "
      ]
    },
    {
      "cell_type": "code",
      "execution_count": 11,
      "metadata": {
        "id": "qd6mI0bfxyhP"
      },
      "outputs": [],
      "source": [
        "K = 4\n",
        "km = KMeans(n_clusters=K, n_init=\"auto\").fit(x)\n",
        "yestimated = km.fit_predict(x)"
      ]
    },
    {
      "cell_type": "markdown",
      "metadata": {
        "id": "sCtsb5sBxyhP"
      },
      "source": [
        "4) Plot the scatter plot of your data using the estimated cluster labels"
      ]
    },
    {
      "cell_type": "code",
      "execution_count": 13,
      "metadata": {
        "colab": {
          "base_uri": "https://localhost:8080/",
          "height": 265
        },
        "id": "K_qWOx2XxyhP",
        "outputId": "da535e7c-d399-49f9-92f1-bf39494b3515"
      },
      "outputs": [
        {
          "output_type": "display_data",
          "data": {
            "text/plain": [
              "<Figure size 432x288 with 1 Axes>"
            ],
            "image/png": "[encoded data removed]"
          },
          "metadata": {
            "needs_background": "light"
          }
        }
      ],
      "source": [
        "plt.scatter(x[:,0], x[:,1], c = yestimated, s = 32, cmap='jet')\n",
        "plt.scatter(km.cluster_centers_[:,0], km.cluster_centers_[:,1], color='black', marker='x')\n",
        "plt.show()"
      ]
    },
    {
      "cell_type": "markdown",
      "metadata": {
        "id": "8OiWosCwxyhP"
      },
      "source": [
        "### Questions \n",
        "\n",
        "Provides a detailed description of your results.\n",
        "\n",
        "Your response:"
      ]
    },
    {
      "cell_type": "markdown",
      "source": [
        "The scatter plot shows clearly our 4 clusters. What caught my eye is that they overlap and there are points that look closer to centroids of different color, which could be a visualization error when plotting the points."
      ],
      "metadata": {
        "id": "bjaF1ZsaIgZo"
      }
    },
    {
      "cell_type": "markdown",
      "metadata": {
        "id": "HLaX2X66xyhP"
      },
      "source": [
        "# PART 3\n",
        "# Descipcion de tu percepcion del nivel de desarrollo de la subcompetencia \n",
        "\n",
        "### SING0202A Interpretación de variables\n"
      ]
    },
    {
      "cell_type": "markdown",
      "metadata": {
        "id": "gVolwCWsxyhP"
      },
      "source": [
        "Escribe tu description del nivel de logro del siguiente criterio de la subcompetencia\n",
        "\n",
        "**Interpreta interacciones**. Interpreta interacciones entre variables relevantes en un problema, como base para la construcción de modelos bivariados basados en datos de un fenómeno investigado que le permita reproducir la respuesta del mismo."
      ]
    },
    {
      "cell_type": "markdown",
      "metadata": {
        "id": "4wc9obBKxyhQ"
      },
      "source": [
        "**Tu respuesta:**"
      ]
    },
    {
      "cell_type": "markdown",
      "source": [
        "Puedo encontrar sentido en las interacciones entre variables, entendiendo cómo diferentes variables en un problema pueden afectarse entre sí y cómo contribuyen al resultado. Por consiguiente, considero que cumplo con la subcompetencia."
      ],
      "metadata": {
        "id": "c4GUEwMuMi5f"
      }
    },
    {
      "cell_type": "markdown",
      "metadata": {
        "id": "zJICsaIlxyhQ"
      },
      "source": [
        "Escribe tu description del nivel de logro del siguiente criterio de la subcompetencia\n",
        "\n",
        "**Construcción de modelos**. Es capaz de construir modelos bivariados que expliquen el comportamiento de un fenómeno."
      ]
    },
    {
      "cell_type": "markdown",
      "metadata": {
        "id": "rCtaJrkwxyhQ"
      },
      "source": [
        "**Tu respuesta:**"
      ]
    },
    {
      "cell_type": "markdown",
      "source": [
        "Gracias a las herramientas de Python, fui capaz de generar modelos a partir de una base de datos, en este caso involucrando las variables de x1 y x2."
      ],
      "metadata": {
        "id": "ykAdCFunOfne"
      }
    }
  ],
  "metadata": {
    "kernelspec": {
      "display_name": "Python 3",
      "language": "python",
      "name": "python3"
    },
    "language_info": {
      "codemirror_mode": {
        "name": "ipython",
        "version": 3
      },
      "file_extension": ".py",
      "mimetype": "text/x-python",
      "name": "python",
      "nbconvert_exporter": "python",
      "pygments_lexer": "ipython3",
      "version": "3.8.3"
    },
    "colab": {
      "provenance": []
    }
  },
  "nbformat": 4,
  "nbformat_minor": 0
}