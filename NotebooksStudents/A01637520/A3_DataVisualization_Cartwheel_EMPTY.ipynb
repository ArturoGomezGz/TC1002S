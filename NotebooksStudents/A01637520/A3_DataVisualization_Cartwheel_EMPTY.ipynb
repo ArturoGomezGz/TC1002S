{
  "cells": [
    {
      "cell_type": "markdown",
      "metadata": {
        "id": "p12DsNzicARD"
      },
      "source": [
        "# Visualizing Data in Python\n",
        "\n",
        "When working with a new dataset, one of the most useful things to do is to begin to visualize the data. By using **tables**, **histograms**, **boxplots**, **scatter plots** and other visual tools, we can get a better idea of what the data may be trying to tell us, and we can gain insights into the data that we may have not discovered otherwise.\n",
        "\n",
        "In this notebook will use the [Seaborn](https://seaborn.pydata.org/) data processing library, which is a higher-level interface to **Matplotlib** that can be used to simplify many visualization tasks \n",
        "\n",
        "The **Seaborn** provides visualisations tools that will allow to explore data from a graphical perspective. \n",
        "\n",
        "\n",
        "## Acknowledgments\n",
        "\n",
        "- Data from https://www.coursera.org/ from the course \"Understanding and Visualizing Data with Python\" by University of Michigan"
      ]
    },
    {
      "cell_type": "markdown",
      "metadata": {
        "id": "tdcF3gPxcARK"
      },
      "source": [
        "# Importing libraries"
      ]
    },
    {
      "cell_type": "code",
      "execution_count": 1,
      "metadata": {
        "id": "Z6wRR8zMcARL"
      },
      "outputs": [],
      "source": [
        "# Import the packages that we will be using\n",
        "\n",
        "import numpy as np\n",
        "import matplotlib.pyplot as plt \n",
        "import pandas as pd\n",
        "import seaborn as sns\n"
      ]
    },
    {
      "cell_type": "markdown",
      "metadata": {
        "id": "cNbE9wCWcARN"
      },
      "source": [
        "# Importing data"
      ]
    },
    {
      "cell_type": "code",
      "source": [
        "# Define where you are running the code: colab or local\n",
        "RunInColab          = True     # (False: no  | True: yes)\n",
        "\n",
        "# If running in colab:\n",
        "if RunInColab:\n",
        "    # Mount your google drive in google colab\n",
        "    from google.colab import drive\n",
        "    drive.mount('/content/drive')\n",
        "\n",
        "    # Find location\n",
        "    #!pwd\n",
        "    #!ls\n",
        "    #!ls \"/content/drive/My Drive/Colab Notebooks/MachineLearningWithPython/\"\n",
        "\n",
        "    # Define path del proyecto\n",
        "    Ruta            = \"/content/drive/MyDrive/Colab Notebooks/MachineLearningWithPython/\"\n",
        "\n",
        "else:\n",
        "    # Define path del proyecto\n",
        "    Ruta            = \"\""
      ],
      "metadata": {
        "id": "P4HDjCMMcB1N",
        "colab": {
          "base_uri": "https://localhost:8080/"
        },
        "outputId": "fc14e5e1-e000-475b-a179-af4df0a64787"
      },
      "execution_count": 5,
      "outputs": [
        {
          "output_type": "stream",
          "name": "stdout",
          "text": [
            "Drive already mounted at /content/drive; to attempt to forcibly remount, call drive.mount(\"/content/drive\", force_remount=True).\n"
          ]
        }
      ]
    },
    {
      "cell_type": "code",
      "execution_count": 6,
      "metadata": {
        "id": "MBGcqB7-cARO"
      },
      "outputs": [],
      "source": [
        "# url string that hosts our .csv file\n",
        "url = Ruta + \"cartwheel.csv\"\n",
        "# Read the .csv file and store it as a pandas Data Frame\n",
        "\n",
        "df = pd.read_csv(url)"
      ]
    },
    {
      "cell_type": "markdown",
      "metadata": {
        "id": "4z9nK8uHcARP"
      },
      "source": [
        "# Exploring the content of the data set\n",
        "\n",
        "Get a general 'feel' of the data\n"
      ]
    },
    {
      "cell_type": "code",
      "execution_count": 7,
      "metadata": {
        "id": "cukHDVNDcARP",
        "colab": {
          "base_uri": "https://localhost:8080/",
          "height": 1000
        },
        "outputId": "b4c7e69e-8da7-42e8-e343-08d6fe8c66b0"
      },
      "outputs": [
        {
          "output_type": "execute_result",
          "data": {
            "text/plain": [
              "     Age Gender Glasses  Height  Wingspan  CWDistance Complete  Score\n",
              "0   56.0      F       Y   62.00      61.0          79        Y      7\n",
              "1   26.0      F       Y   62.00      60.0          70        Y      8\n",
              "2   33.0      F       Y   66.00      64.0          85        Y      7\n",
              "3   39.0      F       N   64.00      63.0          87        Y     10\n",
              "4   27.0      M       N   73.00      75.0          72        N      4\n",
              "5   24.0      M       N   75.00      71.0          81        N      3\n",
              "6   28.0      M       N   75.00      76.0         107        Y     10\n",
              "7   22.0      F       N   65.00      62.0          98        Y      9\n",
              "8   29.0      M       Y   74.00      73.0         106        N      5\n",
              "9   33.0      F       Y   63.00      60.0          65        Y      8\n",
              "10  30.0      M       Y   69.50      66.0          96        Y      6\n",
              "11  28.0      F       Y   62.75      58.0          79        Y     10\n",
              "12  25.0      F       Y   65.00      64.5          92        Y      6\n",
              "13  23.0      F       N   61.50      57.5          66        Y      4\n",
              "14  31.0      M       Y   73.00      74.0          72        Y      9\n",
              "15  26.0      M       Y   71.00      72.0         115        Y      6\n",
              "16  26.0      F       N   61.50      59.5          90        N     10\n",
              "17  27.0      M       N   66.00      66.0          74        Y      5\n",
              "18  23.0      M       Y   70.00      69.0          64        Y      3\n",
              "19  24.0      F       Y   68.00      66.0          85        Y      8\n",
              "20  23.0      M       Y   69.00      67.0          66        N      2\n",
              "21  29.0      M       N   71.00      70.0         101        Y      8\n",
              "22  25.0      M       N   70.00      68.0          82        Y      4\n",
              "23  26.0      M       N   69.00      71.0          63        Y      5\n",
              "24  23.0      F       Y   65.00      63.0          67        N      3\n",
              "25  28.0      M       N   75.00      76.0         111        Y     10\n",
              "26  24.0      M       N   78.40      71.0          92        Y      7\n",
              "27  25.0      M       Y   76.00      73.0         107        Y      8\n",
              "28  32.0      F       Y   63.00      60.0          75        Y      8\n",
              "29  38.0      F       Y   61.50      61.0          78        Y      7\n",
              "30  27.0      F       Y   62.00      60.0          72        Y      8\n",
              "31  33.0      F       Y   65.30      64.0          91        Y      7\n",
              "32  38.0      F       N   64.00      63.0          86        Y     10\n",
              "33  27.0      M       N   77.00      75.0         100        Y      8\n",
              "34  24.0      F       N   67.80      62.0          98        Y      9\n",
              "35  27.0      M       N   68.00      66.0          74        Y      5\n",
              "36  25.0      F       Y   65.00      64.5          92        Y      6\n",
              "37  26.0      F       N   61.50      59.5          90        Y      9\n",
              "38  31.0      M       Y   73.00      74.0          72        Y      9\n",
              "39  30.0      M       Y   69.50      66.0          96        Y      6\n",
              "40  23.0      F       N   70.40      71.0          66        Y      4\n",
              "41  26.0      M       Y   73.50      72.0         115        Y      6\n",
              "42  28.0      F       Y   72.50      72.0          81        Y     10\n",
              "43  26.0      F       Y   72.00      72.0          92        Y      8\n",
              "44  30.0      F       Y   66.00      64.0          85        Y      7\n",
              "45  39.0      F       N   64.00      63.0          87        Y     10\n",
              "46  27.0      M       N   78.00      75.0          72        N      7\n",
              "47  24.0      M       N   79.50      75.0          82        N      8\n",
              "48  28.0      M       N   77.80      76.0          99        Y      9"
            ],
            "text/html": [
              "\n",
              "  <div id=\"df-6a67551c-dddd-4951-87ad-78eca043796f\">\n",
              "    <div class=\"colab-df-container\">\n",
              "      <div>\n",
              "<style scoped>\n",
              "    .dataframe tbody tr th:only-of-type {\n",
              "        vertical-align: middle;\n",
              "    }\n",
              "\n",
              "    .dataframe tbody tr th {\n",
              "        vertical-align: top;\n",
              "    }\n",
              "\n",
              "    .dataframe thead th {\n",
              "        text-align: right;\n",
              "    }\n",
              "</style>\n",
              "<table border=\"1\" class=\"dataframe\">\n",
              "  <thead>\n",
              "    <tr style=\"text-align: right;\">\n",
              "      <th></th>\n",
              "      <th>Age</th>\n",
              "      <th>Gender</th>\n",
              "      <th>Glasses</th>\n",
              "      <th>Height</th>\n",
              "      <th>Wingspan</th>\n",
              "      <th>CWDistance</th>\n",
              "      <th>Complete</th>\n",
              "      <th>Score</th>\n",
              "    </tr>\n",
              "  </thead>\n",
              "  <tbody>\n",
              "    <tr>\n",
              "      <th>0</th>\n",
              "      <td>56.0</td>\n",
              "      <td>F</td>\n",
              "      <td>Y</td>\n",
              "      <td>62.00</td>\n",
              "      <td>61.0</td>\n",
              "      <td>79</td>\n",
              "      <td>Y</td>\n",
              "      <td>7</td>\n",
              "    </tr>\n",
              "    <tr>\n",
              "      <th>1</th>\n",
              "      <td>26.0</td>\n",
              "      <td>F</td>\n",
              "      <td>Y</td>\n",
              "      <td>62.00</td>\n",
              "      <td>60.0</td>\n",
              "      <td>70</td>\n",
              "      <td>Y</td>\n",
              "      <td>8</td>\n",
              "    </tr>\n",
              "    <tr>\n",
              "      <th>2</th>\n",
              "      <td>33.0</td>\n",
              "      <td>F</td>\n",
              "      <td>Y</td>\n",
              "      <td>66.00</td>\n",
              "      <td>64.0</td>\n",
              "      <td>85</td>\n",
              "      <td>Y</td>\n",
              "      <td>7</td>\n",
              "    </tr>\n",
              "    <tr>\n",
              "      <th>3</th>\n",
              "      <td>39.0</td>\n",
              "      <td>F</td>\n",
              "      <td>N</td>\n",
              "      <td>64.00</td>\n",
              "      <td>63.0</td>\n",
              "      <td>87</td>\n",
              "      <td>Y</td>\n",
              "      <td>10</td>\n",
              "    </tr>\n",
              "    <tr>\n",
              "      <th>4</th>\n",
              "      <td>27.0</td>\n",
              "      <td>M</td>\n",
              "      <td>N</td>\n",
              "      <td>73.00</td>\n",
              "      <td>75.0</td>\n",
              "      <td>72</td>\n",
              "      <td>N</td>\n",
              "      <td>4</td>\n",
              "    </tr>\n",
              "    <tr>\n",
              "      <th>5</th>\n",
              "      <td>24.0</td>\n",
              "      <td>M</td>\n",
              "      <td>N</td>\n",
              "      <td>75.00</td>\n",
              "      <td>71.0</td>\n",
              "      <td>81</td>\n",
              "      <td>N</td>\n",
              "      <td>3</td>\n",
              "    </tr>\n",
              "    <tr>\n",
              "      <th>6</th>\n",
              "      <td>28.0</td>\n",
              "      <td>M</td>\n",
              "      <td>N</td>\n",
              "      <td>75.00</td>\n",
              "      <td>76.0</td>\n",
              "      <td>107</td>\n",
              "      <td>Y</td>\n",
              "      <td>10</td>\n",
              "    </tr>\n",
              "    <tr>\n",
              "      <th>7</th>\n",
              "      <td>22.0</td>\n",
              "      <td>F</td>\n",
              "      <td>N</td>\n",
              "      <td>65.00</td>\n",
              "      <td>62.0</td>\n",
              "      <td>98</td>\n",
              "      <td>Y</td>\n",
              "      <td>9</td>\n",
              "    </tr>\n",
              "    <tr>\n",
              "      <th>8</th>\n",
              "      <td>29.0</td>\n",
              "      <td>M</td>\n",
              "      <td>Y</td>\n",
              "      <td>74.00</td>\n",
              "      <td>73.0</td>\n",
              "      <td>106</td>\n",
              "      <td>N</td>\n",
              "      <td>5</td>\n",
              "    </tr>\n",
              "    <tr>\n",
              "      <th>9</th>\n",
              "      <td>33.0</td>\n",
              "      <td>F</td>\n",
              "      <td>Y</td>\n",
              "      <td>63.00</td>\n",
              "      <td>60.0</td>\n",
              "      <td>65</td>\n",
              "      <td>Y</td>\n",
              "      <td>8</td>\n",
              "    </tr>\n",
              "    <tr>\n",
              "      <th>10</th>\n",
              "      <td>30.0</td>\n",
              "      <td>M</td>\n",
              "      <td>Y</td>\n",
              "      <td>69.50</td>\n",
              "      <td>66.0</td>\n",
              "      <td>96</td>\n",
              "      <td>Y</td>\n",
              "      <td>6</td>\n",
              "    </tr>\n",
              "    <tr>\n",
              "      <th>11</th>\n",
              "      <td>28.0</td>\n",
              "      <td>F</td>\n",
              "      <td>Y</td>\n",
              "      <td>62.75</td>\n",
              "      <td>58.0</td>\n",
              "      <td>79</td>\n",
              "      <td>Y</td>\n",
              "      <td>10</td>\n",
              "    </tr>\n",
              "    <tr>\n",
              "      <th>12</th>\n",
              "      <td>25.0</td>\n",
              "      <td>F</td>\n",
              "      <td>Y</td>\n",
              "      <td>65.00</td>\n",
              "      <td>64.5</td>\n",
              "      <td>92</td>\n",
              "      <td>Y</td>\n",
              "      <td>6</td>\n",
              "    </tr>\n",
              "    <tr>\n",
              "      <th>13</th>\n",
              "      <td>23.0</td>\n",
              "      <td>F</td>\n",
              "      <td>N</td>\n",
              "      <td>61.50</td>\n",
              "      <td>57.5</td>\n",
              "      <td>66</td>\n",
              "      <td>Y</td>\n",
              "      <td>4</td>\n",
              "    </tr>\n",
              "    <tr>\n",
              "      <th>14</th>\n",
              "      <td>31.0</td>\n",
              "      <td>M</td>\n",
              "      <td>Y</td>\n",
              "      <td>73.00</td>\n",
              "      <td>74.0</td>\n",
              "      <td>72</td>\n",
              "      <td>Y</td>\n",
              "      <td>9</td>\n",
              "    </tr>\n",
              "    <tr>\n",
              "      <th>15</th>\n",
              "      <td>26.0</td>\n",
              "      <td>M</td>\n",
              "      <td>Y</td>\n",
              "      <td>71.00</td>\n",
              "      <td>72.0</td>\n",
              "      <td>115</td>\n",
              "      <td>Y</td>\n",
              "      <td>6</td>\n",
              "    </tr>\n",
              "    <tr>\n",
              "      <th>16</th>\n",
              "      <td>26.0</td>\n",
              "      <td>F</td>\n",
              "      <td>N</td>\n",
              "      <td>61.50</td>\n",
              "      <td>59.5</td>\n",
              "      <td>90</td>\n",
              "      <td>N</td>\n",
              "      <td>10</td>\n",
              "    </tr>\n",
              "    <tr>\n",
              "      <th>17</th>\n",
              "      <td>27.0</td>\n",
              "      <td>M</td>\n",
              "      <td>N</td>\n",
              "      <td>66.00</td>\n",
              "      <td>66.0</td>\n",
              "      <td>74</td>\n",
              "      <td>Y</td>\n",
              "      <td>5</td>\n",
              "    </tr>\n",
              "    <tr>\n",
              "      <th>18</th>\n",
              "      <td>23.0</td>\n",
              "      <td>M</td>\n",
              "      <td>Y</td>\n",
              "      <td>70.00</td>\n",
              "      <td>69.0</td>\n",
              "      <td>64</td>\n",
              "      <td>Y</td>\n",
              "      <td>3</td>\n",
              "    </tr>\n",
              "    <tr>\n",
              "      <th>19</th>\n",
              "      <td>24.0</td>\n",
              "      <td>F</td>\n",
              "      <td>Y</td>\n",
              "      <td>68.00</td>\n",
              "      <td>66.0</td>\n",
              "      <td>85</td>\n",
              "      <td>Y</td>\n",
              "      <td>8</td>\n",
              "    </tr>\n",
              "    <tr>\n",
              "      <th>20</th>\n",
              "      <td>23.0</td>\n",
              "      <td>M</td>\n",
              "      <td>Y</td>\n",
              "      <td>69.00</td>\n",
              "      <td>67.0</td>\n",
              "      <td>66</td>\n",
              "      <td>N</td>\n",
              "      <td>2</td>\n",
              "    </tr>\n",
              "    <tr>\n",
              "      <th>21</th>\n",
              "      <td>29.0</td>\n",
              "      <td>M</td>\n",
              "      <td>N</td>\n",
              "      <td>71.00</td>\n",
              "      <td>70.0</td>\n",
              "      <td>101</td>\n",
              "      <td>Y</td>\n",
              "      <td>8</td>\n",
              "    </tr>\n",
              "    <tr>\n",
              "      <th>22</th>\n",
              "      <td>25.0</td>\n",
              "      <td>M</td>\n",
              "      <td>N</td>\n",
              "      <td>70.00</td>\n",
              "      <td>68.0</td>\n",
              "      <td>82</td>\n",
              "      <td>Y</td>\n",
              "      <td>4</td>\n",
              "    </tr>\n",
              "    <tr>\n",
              "      <th>23</th>\n",
              "      <td>26.0</td>\n",
              "      <td>M</td>\n",
              "      <td>N</td>\n",
              "      <td>69.00</td>\n",
              "      <td>71.0</td>\n",
              "      <td>63</td>\n",
              "      <td>Y</td>\n",
              "      <td>5</td>\n",
              "    </tr>\n",
              "    <tr>\n",
              "      <th>24</th>\n",
              "      <td>23.0</td>\n",
              "      <td>F</td>\n",
              "      <td>Y</td>\n",
              "      <td>65.00</td>\n",
              "      <td>63.0</td>\n",
              "      <td>67</td>\n",
              "      <td>N</td>\n",
              "      <td>3</td>\n",
              "    </tr>\n",
              "    <tr>\n",
              "      <th>25</th>\n",
              "      <td>28.0</td>\n",
              "      <td>M</td>\n",
              "      <td>N</td>\n",
              "      <td>75.00</td>\n",
              "      <td>76.0</td>\n",
              "      <td>111</td>\n",
              "      <td>Y</td>\n",
              "      <td>10</td>\n",
              "    </tr>\n",
              "    <tr>\n",
              "      <th>26</th>\n",
              "      <td>24.0</td>\n",
              "      <td>M</td>\n",
              "      <td>N</td>\n",
              "      <td>78.40</td>\n",
              "      <td>71.0</td>\n",
              "      <td>92</td>\n",
              "      <td>Y</td>\n",
              "      <td>7</td>\n",
              "    </tr>\n",
              "    <tr>\n",
              "      <th>27</th>\n",
              "      <td>25.0</td>\n",
              "      <td>M</td>\n",
              "      <td>Y</td>\n",
              "      <td>76.00</td>\n",
              "      <td>73.0</td>\n",
              "      <td>107</td>\n",
              "      <td>Y</td>\n",
              "      <td>8</td>\n",
              "    </tr>\n",
              "    <tr>\n",
              "      <th>28</th>\n",
              "      <td>32.0</td>\n",
              "      <td>F</td>\n",
              "      <td>Y</td>\n",
              "      <td>63.00</td>\n",
              "      <td>60.0</td>\n",
              "      <td>75</td>\n",
              "      <td>Y</td>\n",
              "      <td>8</td>\n",
              "    </tr>\n",
              "    <tr>\n",
              "      <th>29</th>\n",
              "      <td>38.0</td>\n",
              "      <td>F</td>\n",
              "      <td>Y</td>\n",
              "      <td>61.50</td>\n",
              "      <td>61.0</td>\n",
              "      <td>78</td>\n",
              "      <td>Y</td>\n",
              "      <td>7</td>\n",
              "    </tr>\n",
              "    <tr>\n",
              "      <th>30</th>\n",
              "      <td>27.0</td>\n",
              "      <td>F</td>\n",
              "      <td>Y</td>\n",
              "      <td>62.00</td>\n",
              "      <td>60.0</td>\n",
              "      <td>72</td>\n",
              "      <td>Y</td>\n",
              "      <td>8</td>\n",
              "    </tr>\n",
              "    <tr>\n",
              "      <th>31</th>\n",
              "      <td>33.0</td>\n",
              "      <td>F</td>\n",
              "      <td>Y</td>\n",
              "      <td>65.30</td>\n",
              "      <td>64.0</td>\n",
              "      <td>91</td>\n",
              "      <td>Y</td>\n",
              "      <td>7</td>\n",
              "    </tr>\n",
              "    <tr>\n",
              "      <th>32</th>\n",
              "      <td>38.0</td>\n",
              "      <td>F</td>\n",
              "      <td>N</td>\n",
              "      <td>64.00</td>\n",
              "      <td>63.0</td>\n",
              "      <td>86</td>\n",
              "      <td>Y</td>\n",
              "      <td>10</td>\n",
              "    </tr>\n",
              "    <tr>\n",
              "      <th>33</th>\n",
              "      <td>27.0</td>\n",
              "      <td>M</td>\n",
              "      <td>N</td>\n",
              "      <td>77.00</td>\n",
              "      <td>75.0</td>\n",
              "      <td>100</td>\n",
              "      <td>Y</td>\n",
              "      <td>8</td>\n",
              "    </tr>\n",
              "    <tr>\n",
              "      <th>34</th>\n",
              "      <td>24.0</td>\n",
              "      <td>F</td>\n",
              "      <td>N</td>\n",
              "      <td>67.80</td>\n",
              "      <td>62.0</td>\n",
              "      <td>98</td>\n",
              "      <td>Y</td>\n",
              "      <td>9</td>\n",
              "    </tr>\n",
              "    <tr>\n",
              "      <th>35</th>\n",
              "      <td>27.0</td>\n",
              "      <td>M</td>\n",
              "      <td>N</td>\n",
              "      <td>68.00</td>\n",
              "      <td>66.0</td>\n",
              "      <td>74</td>\n",
              "      <td>Y</td>\n",
              "      <td>5</td>\n",
              "    </tr>\n",
              "    <tr>\n",
              "      <th>36</th>\n",
              "      <td>25.0</td>\n",
              "      <td>F</td>\n",
              "      <td>Y</td>\n",
              "      <td>65.00</td>\n",
              "      <td>64.5</td>\n",
              "      <td>92</td>\n",
              "      <td>Y</td>\n",
              "      <td>6</td>\n",
              "    </tr>\n",
              "    <tr>\n",
              "      <th>37</th>\n",
              "      <td>26.0</td>\n",
              "      <td>F</td>\n",
              "      <td>N</td>\n",
              "      <td>61.50</td>\n",
              "      <td>59.5</td>\n",
              "      <td>90</td>\n",
              "      <td>Y</td>\n",
              "      <td>9</td>\n",
              "    </tr>\n",
              "    <tr>\n",
              "      <th>38</th>\n",
              "      <td>31.0</td>\n",
              "      <td>M</td>\n",
              "      <td>Y</td>\n",
              "      <td>73.00</td>\n",
              "      <td>74.0</td>\n",
              "      <td>72</td>\n",
              "      <td>Y</td>\n",
              "      <td>9</td>\n",
              "    </tr>\n",
              "    <tr>\n",
              "      <th>39</th>\n",
              "      <td>30.0</td>\n",
              "      <td>M</td>\n",
              "      <td>Y</td>\n",
              "      <td>69.50</td>\n",
              "      <td>66.0</td>\n",
              "      <td>96</td>\n",
              "      <td>Y</td>\n",
              "      <td>6</td>\n",
              "    </tr>\n",
              "    <tr>\n",
              "      <th>40</th>\n",
              "      <td>23.0</td>\n",
              "      <td>F</td>\n",
              "      <td>N</td>\n",
              "      <td>70.40</td>\n",
              "      <td>71.0</td>\n",
              "      <td>66</td>\n",
              "      <td>Y</td>\n",
              "      <td>4</td>\n",
              "    </tr>\n",
              "    <tr>\n",
              "      <th>41</th>\n",
              "      <td>26.0</td>\n",
              "      <td>M</td>\n",
              "      <td>Y</td>\n",
              "      <td>73.50</td>\n",
              "      <td>72.0</td>\n",
              "      <td>115</td>\n",
              "      <td>Y</td>\n",
              "      <td>6</td>\n",
              "    </tr>\n",
              "    <tr>\n",
              "      <th>42</th>\n",
              "      <td>28.0</td>\n",
              "      <td>F</td>\n",
              "      <td>Y</td>\n",
              "      <td>72.50</td>\n",
              "      <td>72.0</td>\n",
              "      <td>81</td>\n",
              "      <td>Y</td>\n",
              "      <td>10</td>\n",
              "    </tr>\n",
              "    <tr>\n",
              "      <th>43</th>\n",
              "      <td>26.0</td>\n",
              "      <td>F</td>\n",
              "      <td>Y</td>\n",
              "      <td>72.00</td>\n",
              "      <td>72.0</td>\n",
              "      <td>92</td>\n",
              "      <td>Y</td>\n",
              "      <td>8</td>\n",
              "    </tr>\n",
              "    <tr>\n",
              "      <th>44</th>\n",
              "      <td>30.0</td>\n",
              "      <td>F</td>\n",
              "      <td>Y</td>\n",
              "      <td>66.00</td>\n",
              "      <td>64.0</td>\n",
              "      <td>85</td>\n",
              "      <td>Y</td>\n",
              "      <td>7</td>\n",
              "    </tr>\n",
              "    <tr>\n",
              "      <th>45</th>\n",
              "      <td>39.0</td>\n",
              "      <td>F</td>\n",
              "      <td>N</td>\n",
              "      <td>64.00</td>\n",
              "      <td>63.0</td>\n",
              "      <td>87</td>\n",
              "      <td>Y</td>\n",
              "      <td>10</td>\n",
              "    </tr>\n",
              "    <tr>\n",
              "      <th>46</th>\n",
              "      <td>27.0</td>\n",
              "      <td>M</td>\n",
              "      <td>N</td>\n",
              "      <td>78.00</td>\n",
              "      <td>75.0</td>\n",
              "      <td>72</td>\n",
              "      <td>N</td>\n",
              "      <td>7</td>\n",
              "    </tr>\n",
              "    <tr>\n",
              "      <th>47</th>\n",
              "      <td>24.0</td>\n",
              "      <td>M</td>\n",
              "      <td>N</td>\n",
              "      <td>79.50</td>\n",
              "      <td>75.0</td>\n",
              "      <td>82</td>\n",
              "      <td>N</td>\n",
              "      <td>8</td>\n",
              "    </tr>\n",
              "    <tr>\n",
              "      <th>48</th>\n",
              "      <td>28.0</td>\n",
              "      <td>M</td>\n",
              "      <td>N</td>\n",
              "      <td>77.80</td>\n",
              "      <td>76.0</td>\n",
              "      <td>99</td>\n",
              "      <td>Y</td>\n",
              "      <td>9</td>\n",
              "    </tr>\n",
              "  </tbody>\n",
              "</table>\n",
              "</div>\n",
              "      <button class=\"colab-df-convert\" onclick=\"convertToInteractive('df-6a67551c-dddd-4951-87ad-78eca043796f')\"\n",
              "              title=\"Convert this dataframe to an interactive table.\"\n",
              "              style=\"display:none;\">\n",
              "        \n",
              "  <svg xmlns=\"http://www.w3.org/2000/svg\" height=\"24px\"viewBox=\"0 0 24 24\"\n",
              "       width=\"24px\">\n",
              "    <path d=\"M0 0h24v24H0V0z\" fill=\"none\"/>\n",
              "    <path d=\"M18.56 5.44l.94 2.06.94-2.06 2.06-.94-2.06-.94-.94-2.06-.94 2.06-2.06.94zm-11 1L8.5 8.5l.94-2.06 2.06-.94-2.06-.94L8.5 2.5l-.94 2.06-2.06.94zm10 10l.94 2.06.94-2.06 2.06-.94-2.06-.94-.94-2.06-.94 2.06-2.06.94z\"/><path d=\"M17.41 7.96l-1.37-1.37c-.4-.4-.92-.59-1.43-.59-.52 0-1.04.2-1.43.59L10.3 9.45l-7.72 7.72c-.78.78-.78 2.05 0 2.83L4 21.41c.39.39.9.59 1.41.59.51 0 1.02-.2 1.41-.59l7.78-7.78 2.81-2.81c.8-.78.8-2.07 0-2.86zM5.41 20L4 18.59l7.72-7.72 1.47 1.35L5.41 20z\"/>\n",
              "  </svg>\n",
              "      </button>\n",
              "      \n",
              "  <style>\n",
              "    .colab-df-container {\n",
              "      display:flex;\n",
              "      flex-wrap:wrap;\n",
              "      gap: 12px;\n",
              "    }\n",
              "\n",
              "    .colab-df-convert {\n",
              "      background-color: #E8F0FE;\n",
              "      border: none;\n",
              "      border-radius: 50%;\n",
              "      cursor: pointer;\n",
              "      display: none;\n",
              "      fill: #1967D2;\n",
              "      height: 32px;\n",
              "      padding: 0 0 0 0;\n",
              "      width: 32px;\n",
              "    }\n",
              "\n",
              "    .colab-df-convert:hover {\n",
              "      background-color: #E2EBFA;\n",
              "      box-shadow: 0px 1px 2px rgba(60, 64, 67, 0.3), 0px 1px 3px 1px rgba(60, 64, 67, 0.15);\n",
              "      fill: #174EA6;\n",
              "    }\n",
              "\n",
              "    [theme=dark] .colab-df-convert {\n",
              "      background-color: #3B4455;\n",
              "      fill: #D2E3FC;\n",
              "    }\n",
              "\n",
              "    [theme=dark] .colab-df-convert:hover {\n",
              "      background-color: #434B5C;\n",
              "      box-shadow: 0px 1px 3px 1px rgba(0, 0, 0, 0.15);\n",
              "      filter: drop-shadow(0px 1px 2px rgba(0, 0, 0, 0.3));\n",
              "      fill: #FFFFFF;\n",
              "    }\n",
              "  </style>\n",
              "\n",
              "      <script>\n",
              "        const buttonEl =\n",
              "          document.querySelector('#df-6a67551c-dddd-4951-87ad-78eca043796f button.colab-df-convert');\n",
              "        buttonEl.style.display =\n",
              "          google.colab.kernel.accessAllowed ? 'block' : 'none';\n",
              "\n",
              "        async function convertToInteractive(key) {\n",
              "          const element = document.querySelector('#df-6a67551c-dddd-4951-87ad-78eca043796f');\n",
              "          const dataTable =\n",
              "            await google.colab.kernel.invokeFunction('convertToInteractive',\n",
              "                                                     [key], {});\n",
              "          if (!dataTable) return;\n",
              "\n",
              "          const docLinkHtml = 'Like what you see? Visit the ' +\n",
              "            '<a target=\"_blank\" href=https://colab.research.google.com/notebooks/data_table.ipynb>data table notebook</a>'\n",
              "            + ' to learn more about interactive tables.';\n",
              "          element.innerHTML = '';\n",
              "          dataTable['output_type'] = 'display_data';\n",
              "          await google.colab.output.renderOutput(dataTable, element);\n",
              "          const docLink = document.createElement('div');\n",
              "          docLink.innerHTML = docLinkHtml;\n",
              "          element.appendChild(docLink);\n",
              "        }\n",
              "      </script>\n",
              "    </div>\n",
              "  </div>\n",
              "  "
            ]
          },
          "metadata": {},
          "execution_count": 7
        }
      ],
      "source": [
        "vars = [\"Age\", \"Gender\", \"Glasses\", \"Height\", \"Wingspan\", \"CWDistance\", \"Complete\", \"Score\"]\n",
        "df = df[vars].dropna()\n",
        "\n",
        "df"
      ]
    },
    {
      "cell_type": "markdown",
      "metadata": {
        "id": "E9QYvkW_cARQ"
      },
      "source": [
        "# Frequency tables\n",
        "\n",
        "The `value_counts()` method can be used to determine the number of times that each distinct value of a variable occurs in a data set.  In statistical terms, this is the \"frequency distribution\" of the variable. The `value_counts()` method produces a table with two columns.  The first column contains all distinct observed values for the variable.  The second column contains the number of times each of these values occurs.  Note that the table returned by `value_counts()` is actually a **Pandas** data frame, so can be further processed using any Pandas methods for working with data frames.\n"
      ]
    },
    {
      "cell_type": "code",
      "execution_count": 8,
      "metadata": {
        "id": "ka9g40wAcARR",
        "colab": {
          "base_uri": "https://localhost:8080/"
        },
        "outputId": "7f8dece0-8374-47f6-f2d2-96b7eb4966a1"
      },
      "outputs": [
        {
          "output_type": "execute_result",
          "data": {
            "text/plain": [
              "Y    41\n",
              "N     8\n",
              "Name: Complete, dtype: int64"
            ]
          },
          "metadata": {},
          "execution_count": 8
        }
      ],
      "source": [
        "# Number of times that each distinct value of a variable occurs in a data set\n",
        "df.Complete.value_counts()"
      ]
    },
    {
      "cell_type": "code",
      "execution_count": 9,
      "metadata": {
        "id": "gK1-5wkxcARS",
        "colab": {
          "base_uri": "https://localhost:8080/"
        },
        "outputId": "332389cb-c3d1-4b80-d4f3-ebe9fb2c165d"
      },
      "outputs": [
        {
          "output_type": "execute_result",
          "data": {
            "text/plain": [
              "Y    0.836735\n",
              "N    0.163265\n",
              "Name: Complete, dtype: float64"
            ]
          },
          "metadata": {},
          "execution_count": 9
        }
      ],
      "source": [
        "# Proportion of each distinct value of a variable occurs in a data set\n",
        "x =df.Complete.value_counts()\n",
        "x/x.sum()"
      ]
    },
    {
      "cell_type": "markdown",
      "metadata": {
        "id": "ICVq0t9NcARS"
      },
      "source": [
        "Note that the `value_counts()` method excludes missing values. We confirm this below by adding up observations to your data frame with some missing values and then computing `value_counts()` and comparing this to the total number of rows in the data set, which is 28. This tells us that there are 28 - (21+6) = 1 missing values for this variable (other variables may have different numbers of missing values)."
      ]
    },
    {
      "cell_type": "code",
      "execution_count": 10,
      "metadata": {
        "id": "i-PobGgTcART",
        "colab": {
          "base_uri": "https://localhost:8080/"
        },
        "outputId": "dffd6e24-a30f-44b0-bdbc-a3b707a5eea7"
      },
      "outputs": [
        {
          "output_type": "stream",
          "name": "stdout",
          "text": [
            "Number of observations: (49,)\n",
            "Number of null observations: <bound method Series.isnull of 0     Y\n",
            "1     Y\n",
            "2     Y\n",
            "3     Y\n",
            "4     N\n",
            "5     N\n",
            "6     Y\n",
            "7     Y\n",
            "8     N\n",
            "9     Y\n",
            "10    Y\n",
            "11    Y\n",
            "12    Y\n",
            "13    Y\n",
            "14    Y\n",
            "15    Y\n",
            "16    N\n",
            "17    Y\n",
            "18    Y\n",
            "19    Y\n",
            "20    N\n",
            "21    Y\n",
            "22    Y\n",
            "23    Y\n",
            "24    N\n",
            "25    Y\n",
            "26    Y\n",
            "27    Y\n",
            "28    Y\n",
            "29    Y\n",
            "30    Y\n",
            "31    Y\n",
            "32    Y\n",
            "33    Y\n",
            "34    Y\n",
            "35    Y\n",
            "36    Y\n",
            "37    Y\n",
            "38    Y\n",
            "39    Y\n",
            "40    Y\n",
            "41    Y\n",
            "42    Y\n",
            "43    Y\n",
            "44    Y\n",
            "45    Y\n",
            "46    N\n",
            "47    N\n",
            "48    Y\n",
            "Name: Complete, dtype: object>\n",
            "Number of counts: <bound method IndexOpsMixin.value_counts of 0     Y\n",
            "1     Y\n",
            "2     Y\n",
            "3     Y\n",
            "4     N\n",
            "5     N\n",
            "6     Y\n",
            "7     Y\n",
            "8     N\n",
            "9     Y\n",
            "10    Y\n",
            "11    Y\n",
            "12    Y\n",
            "13    Y\n",
            "14    Y\n",
            "15    Y\n",
            "16    N\n",
            "17    Y\n",
            "18    Y\n",
            "19    Y\n",
            "20    N\n",
            "21    Y\n",
            "22    Y\n",
            "23    Y\n",
            "24    N\n",
            "25    Y\n",
            "26    Y\n",
            "27    Y\n",
            "28    Y\n",
            "29    Y\n",
            "30    Y\n",
            "31    Y\n",
            "32    Y\n",
            "33    Y\n",
            "34    Y\n",
            "35    Y\n",
            "36    Y\n",
            "37    Y\n",
            "38    Y\n",
            "39    Y\n",
            "40    Y\n",
            "41    Y\n",
            "42    Y\n",
            "43    Y\n",
            "44    Y\n",
            "45    Y\n",
            "46    N\n",
            "47    N\n",
            "48    Y\n",
            "Name: Complete, dtype: object>\n"
          ]
        }
      ],
      "source": [
        "# Total number of observations\n",
        "p= df.Complete.shape\n",
        "print('Number of observations:', p )\n",
        "# Total number of null observations\n",
        "q= df.Complete.isnull\n",
        "print('Number of null observations:', q )\n",
        "# Total number of counts (excluding missing values)\n",
        "r= df.Complete.value_counts\n",
        "print('Number of counts:',r)\n"
      ]
    },
    {
      "cell_type": "markdown",
      "metadata": {
        "id": "eHheKa2ncART"
      },
      "source": [
        "# Histogram\n",
        "\n",
        "It is often good to get a feel for the shape of the distribution of the data."
      ]
    },
    {
      "cell_type": "code",
      "execution_count": 14,
      "metadata": {
        "id": "4HCWyjZccART",
        "colab": {
          "base_uri": "https://localhost:8080/",
          "height": 296
        },
        "outputId": "d5c03882-2c1e-436b-cee3-f317a16a2f8e"
      },
      "outputs": [
        {
          "output_type": "execute_result",
          "data": {
            "text/plain": [
              "<Axes: xlabel='Wingspan', ylabel='Count'>"
            ]
          },
          "metadata": {},
          "execution_count": 14
        },
        {
          "output_type": "display_data",
          "data": {
            "text/plain": [
              "<Figure size 432x288 with 1 Axes>"
            ],
            "image/png": "[encoded data removed]"
          },
          "metadata": {
            "needs_background": "light"
          }
        }
      ],
      "source": [
        "# Plot histogram of the total bill only\n",
        "sns.histplot(data=df[\"Wingspan\"])\n"
      ]
    },
    {
      "cell_type": "code",
      "execution_count": 13,
      "metadata": {
        "id": "X5s0wMx9cARU",
        "colab": {
          "base_uri": "https://localhost:8080/",
          "height": 386
        },
        "outputId": "a15caac0-2c34-45d7-d7ba-081db3040ace"
      },
      "outputs": [
        {
          "output_type": "execute_result",
          "data": {
            "text/plain": [
              "<seaborn.axisgrid.FacetGrid at 0x7fc2bb5ca7f0>"
            ]
          },
          "metadata": {},
          "execution_count": 13
        },
        {
          "output_type": "display_data",
          "data": {
            "text/plain": [
              "<Figure size 360x360 with 1 Axes>"
            ],
            "image/png": "[encoded data removed]"
          },
          "metadata": {
            "needs_background": "light"
          }
        }
      ],
      "source": [
        "# Plot distribution of the tips only\n",
        "sns.displot(df[\"Age\"],kde= False,)"
      ]
    },
    {
      "cell_type": "code",
      "execution_count": 18,
      "metadata": {
        "id": "2Cky5qRwcARU",
        "colab": {
          "base_uri": "https://localhost:8080/",
          "height": 282
        },
        "outputId": "41875402-768b-4774-8994-5dd98f85d93a"
      },
      "outputs": [
        {
          "output_type": "execute_result",
          "data": {
            "text/plain": [
              "<Axes: ylabel='Count'>"
            ]
          },
          "metadata": {},
          "execution_count": 18
        },
        {
          "output_type": "display_data",
          "data": {
            "text/plain": [
              "<Figure size 432x288 with 1 Axes>"
            ],
            "image/png": "[encoded data removed]"
          },
          "metadata": {
            "needs_background": "light"
          }
        }
      ],
      "source": [
        "# Plot histogram of both the Age and the Wingspan\n",
        "df1 = df.loc[:,[\"Age\",\"Wingspan\"]]\n",
        "sns.histplot(data=df1)\n"
      ]
    },
    {
      "cell_type": "markdown",
      "metadata": {
        "id": "esBYSlMDcARU"
      },
      "source": [
        "# Histograms plotted by groups\n",
        "\n",
        "While looking at a single variable is interesting, it is often useful to see how a variable changes in response to another. Thus, we can create a histograms of one quantitative variable grouped by another categorical variables."
      ]
    },
    {
      "cell_type": "code",
      "execution_count": 20,
      "metadata": {
        "id": "dhDPgHT0cARV",
        "colab": {
          "base_uri": "https://localhost:8080/",
          "height": 296
        },
        "outputId": "c4b1e8b0-a38f-4450-bc29-76b1b849351e"
      },
      "outputs": [
        {
          "output_type": "execute_result",
          "data": {
            "text/plain": [
              "<Axes: xlabel='Wingspan', ylabel='Count'>"
            ]
          },
          "metadata": {},
          "execution_count": 20
        },
        {
          "output_type": "display_data",
          "data": {
            "text/plain": [
              "<Figure size 432x288 with 1 Axes>"
            ],
            "image/png": "[encoded data removed]"
          },
          "metadata": {
            "needs_background": "light"
          }
        }
      ],
      "source": [
        "# Create histograms of the \"Wingspan\" grouped by \"Gender\"\n",
        "\n",
        "sns.histplot(data=df,x=\"Wingspan\", hue=\"Gender\", multiple=\"dodge\")\n"
      ]
    },
    {
      "cell_type": "markdown",
      "metadata": {
        "id": "mHz2t_ifcARV"
      },
      "source": [
        "# Boxplots\n",
        "\n",
        "Boxplots do not show the shape of the distribution, but they can give us a better idea about the center and spread of the distribution as well as any potential outliers that may exist. Boxplots and Histograms often complement each other and help an analyst get more information about the data"
      ]
    },
    {
      "cell_type": "code",
      "execution_count": 23,
      "metadata": {
        "id": "B4h59xL6cARV",
        "colab": {
          "base_uri": "https://localhost:8080/",
          "height": 282
        },
        "outputId": "b1cd704a-73d3-4e2b-eab4-b9f105c7590c"
      },
      "outputs": [
        {
          "output_type": "execute_result",
          "data": {
            "text/plain": [
              "<Axes: >"
            ]
          },
          "metadata": {},
          "execution_count": 23
        },
        {
          "output_type": "display_data",
          "data": {
            "text/plain": [
              "<Figure size 432x288 with 1 Axes>"
            ],
            "image/png": "[encoded data removed]"
          },
          "metadata": {
            "needs_background": "light"
          }
        }
      ],
      "source": [
        "# Create the boxplot of the \"total bill\" amounts\n",
        "\n",
        "sns.boxplot(data=df, orient = 'h')"
      ]
    },
    {
      "cell_type": "code",
      "execution_count": 26,
      "metadata": {
        "id": "_I6kMu4GcARV",
        "colab": {
          "base_uri": "https://localhost:8080/",
          "height": 282
        },
        "outputId": "a4a8bf22-d6ac-4403-f579-2687f7e0a551"
      },
      "outputs": [
        {
          "output_type": "execute_result",
          "data": {
            "text/plain": [
              "<Axes: >"
            ]
          },
          "metadata": {},
          "execution_count": 26
        },
        {
          "output_type": "display_data",
          "data": {
            "text/plain": [
              "<Figure size 432x288 with 1 Axes>"
            ],
            "image/png": "[encoded data removed]"
          },
          "metadata": {
            "needs_background": "light"
          }
        }
      ],
      "source": [
        "# Create the boxplot of the \"tips\" amounts\n",
        "\n",
        "sns.boxplot(data=df[\"CWDistance\"], orient = 'h')"
      ]
    },
    {
      "cell_type": "code",
      "execution_count": 37,
      "metadata": {
        "id": "BnyRK-1vcARW",
        "colab": {
          "base_uri": "https://localhost:8080/",
          "height": 282
        },
        "outputId": "0b74fdec-49a6-4c6f-e66a-9b931a1e5674"
      },
      "outputs": [
        {
          "output_type": "execute_result",
          "data": {
            "text/plain": [
              "<Axes: >"
            ]
          },
          "metadata": {},
          "execution_count": 37
        },
        {
          "output_type": "display_data",
          "data": {
            "text/plain": [
              "<Figure size 432x288 with 1 Axes>"
            ],
            "image/png": "[encoded data removed]"
          },
          "metadata": {
            "needs_background": "light"
          }
        }
      ],
      "source": [
        "# Create the boxplots of the \"Wingspan\" and of the \"Height\" amounts\n",
        "\n",
        "sns.boxplot(data=df[[\"Wingspan\",\"CWDistance\"]], orient = 'h')"
      ]
    },
    {
      "cell_type": "code",
      "execution_count": 38,
      "metadata": {
        "id": "5cxfNFdmcARW",
        "colab": {
          "base_uri": "https://localhost:8080/",
          "height": 282
        },
        "outputId": "b6aa4f1b-3943-4918-c849-06922ed476c9"
      },
      "outputs": [
        {
          "output_type": "execute_result",
          "data": {
            "text/plain": [
              "<Axes: >"
            ]
          },
          "metadata": {},
          "execution_count": 38
        },
        {
          "output_type": "display_data",
          "data": {
            "text/plain": [
              "<Figure size 432x288 with 1 Axes>"
            ],
            "image/png": "[encoded data removed]"
          },
          "metadata": {
            "needs_background": "light"
          }
        }
      ],
      "source": [
        "# Create the boxplots of the \"Wingspan\" and of the \"tips\" amounts\n",
        "\n",
        "sns.boxplot(data=df[[\"Wingspan\",\"Height\"]], orient = 'h')"
      ]
    },
    {
      "cell_type": "markdown",
      "metadata": {
        "id": "5wdAShWCcARW"
      },
      "source": [
        "# Boxplots plotted by groups\n",
        "\n",
        "While looking at a single variable is interesting, it is often useful to see how a variable changes in response to another. Thus, we can create a side-by-side boxplots of one quantitative variable grouped by another categorical variables."
      ]
    },
    {
      "cell_type": "code",
      "execution_count": 40,
      "metadata": {
        "id": "DWbiy1x8cARW",
        "colab": {
          "base_uri": "https://localhost:8080/",
          "height": 296
        },
        "outputId": "a598cecd-46ea-4ade-f604-3e6ebc614883"
      },
      "outputs": [
        {
          "output_type": "execute_result",
          "data": {
            "text/plain": [
              "<Axes: xlabel='Height', ylabel='Gender'>"
            ]
          },
          "metadata": {},
          "execution_count": 40
        },
        {
          "output_type": "display_data",
          "data": {
            "text/plain": [
              "<Figure size 432x288 with 1 Axes>"
            ],
            "image/png": "[encoded data removed]"
          },
          "metadata": {
            "needs_background": "light"
          }
        }
      ],
      "source": [
        "# Create side-by-side boxplots of the \"Height\" grouped by \"Gender\"\n",
        "\n",
        "sns.boxplot(data=df, x=\"Height\", y=\"Gender\")"
      ]
    },
    {
      "cell_type": "markdown",
      "metadata": {
        "id": "I5xXz6_3cARW"
      },
      "source": [
        "# Histograms and boxplots plotted by groups\n",
        "\n",
        "We cal also create both boxplots and histograms of one quantitative variable grouped by another categorical variables\n"
      ]
    },
    {
      "cell_type": "code",
      "execution_count": 43,
      "metadata": {
        "id": "jY_HIL0pcARX",
        "colab": {
          "base_uri": "https://localhost:8080/",
          "height": 296
        },
        "outputId": "7ecfec39-ebfc-427c-af34-06a2e46fab68"
      },
      "outputs": [
        {
          "output_type": "execute_result",
          "data": {
            "text/plain": [
              "<Axes: xlabel='Wingspan', ylabel='Count'>"
            ]
          },
          "metadata": {},
          "execution_count": 43
        },
        {
          "output_type": "display_data",
          "data": {
            "text/plain": [
              "<Figure size 432x288 with 1 Axes>"
            ],
            "image/png": "[encoded data removed]"
          },
          "metadata": {
            "needs_background": "light"
          }
        }
      ],
      "source": [
        "# Create a boxplot and histogram of the \"tips\" grouped by \"Gender\"\n",
        "sns.histplot(data=df,x=\"Wingspan\", hue=\"Gender\", multiple=\"dodge\")\n"
      ]
    },
    {
      "cell_type": "code",
      "source": [
        "sns.boxplot(data=df, x=\"Wingspan\", y=\"Gender\")"
      ],
      "metadata": {
        "colab": {
          "base_uri": "https://localhost:8080/",
          "height": 296
        },
        "id": "jRsMb-RZtKRz",
        "outputId": "85305e8d-35c4-4b0b-fff9-9dc071ea8973"
      },
      "execution_count": 44,
      "outputs": [
        {
          "output_type": "execute_result",
          "data": {
            "text/plain": [
              "<Axes: xlabel='Wingspan', ylabel='Gender'>"
            ]
          },
          "metadata": {},
          "execution_count": 44
        },
        {
          "output_type": "display_data",
          "data": {
            "text/plain": [
              "<Figure size 432x288 with 1 Axes>"
            ],
            "image/png": "[encoded data removed]"
          },
          "metadata": {
            "needs_background": "light"
          }
        }
      ]
    },
    {
      "cell_type": "markdown",
      "metadata": {
        "id": "omahkX7mcARX"
      },
      "source": [
        "# Scatter plot\n",
        "\n",
        "Plot values of one variable versus another variable to see how they are correlated"
      ]
    },
    {
      "cell_type": "code",
      "execution_count": 45,
      "metadata": {
        "id": "FYIFOdxDcARX",
        "colab": {
          "base_uri": "https://localhost:8080/",
          "height": 296
        },
        "outputId": "0464f9d9-9255-4b8a-8f3b-ee710a4658bc"
      },
      "outputs": [
        {
          "output_type": "execute_result",
          "data": {
            "text/plain": [
              "<Axes: xlabel='Wingspan', ylabel='Height'>"
            ]
          },
          "metadata": {},
          "execution_count": 45
        },
        {
          "output_type": "display_data",
          "data": {
            "text/plain": [
              "<Figure size 432x288 with 1 Axes>"
            ],
            "image/png": "[encoded data removed]"
          },
          "metadata": {
            "needs_background": "light"
          }
        }
      ],
      "source": [
        "# scatter plot between two variables\n",
        "sns.scatterplot(data=df, x=\"Wingspan\", y=\"Height\")"
      ]
    },
    {
      "cell_type": "code",
      "execution_count": 47,
      "metadata": {
        "id": "ogDqcCKCcARX",
        "colab": {
          "base_uri": "https://localhost:8080/",
          "height": 296
        },
        "outputId": "e7047c99-7576-47c8-a0a7-08759555eccb"
      },
      "outputs": [
        {
          "output_type": "execute_result",
          "data": {
            "text/plain": [
              "<Axes: xlabel='Gender', ylabel='Wingspan'>"
            ]
          },
          "metadata": {},
          "execution_count": 47
        },
        {
          "output_type": "display_data",
          "data": {
            "text/plain": [
              "<Figure size 432x288 with 1 Axes>"
            ],
            "image/png": "[encoded data removed]"
          },
          "metadata": {
            "needs_background": "light"
          }
        }
      ],
      "source": [
        "# scatter plot between two variables (one categorical)\n",
        "sns.scatterplot(data=df, x=\"Gender\", y=\"Wingspan\")"
      ]
    },
    {
      "cell_type": "code",
      "execution_count": 51,
      "metadata": {
        "id": "h_l3JZ5wcARY",
        "colab": {
          "base_uri": "https://localhost:8080/",
          "height": 296
        },
        "outputId": "529a0cdd-6453-4d22-e67d-86a7db358f32"
      },
      "outputs": [
        {
          "output_type": "execute_result",
          "data": {
            "text/plain": [
              "<Axes: xlabel='Gender', ylabel='Height'>"
            ]
          },
          "metadata": {},
          "execution_count": 51
        },
        {
          "output_type": "display_data",
          "data": {
            "text/plain": [
              "<Figure size 432x288 with 1 Axes>"
            ],
            "image/png": "[encoded data removed]"
          },
          "metadata": {
            "needs_background": "light"
          }
        }
      ],
      "source": [
        "# scatter plot between two variables (one categorical)\n",
        "\n",
        "sns.scatterplot(data=df,y=\"Height\",x=\"Gender\")"
      ]
    },
    {
      "cell_type": "code",
      "execution_count": 50,
      "metadata": {
        "id": "QIDn3wsLcARY",
        "colab": {
          "base_uri": "https://localhost:8080/",
          "height": 296
        },
        "outputId": "fa669770-306b-448a-aa0a-865136685da4"
      },
      "outputs": [
        {
          "output_type": "execute_result",
          "data": {
            "text/plain": [
              "<Axes: xlabel='Wingspan', ylabel='Height'>"
            ]
          },
          "metadata": {},
          "execution_count": 50
        },
        {
          "output_type": "display_data",
          "data": {
            "text/plain": [
              "<Figure size 432x288 with 1 Axes>"
            ],
            "image/png": "[encoded data removed]"
          },
          "metadata": {
            "needs_background": "light"
          }
        }
      ],
      "source": [
        "# scatter plot between two variables grouped according to a categorical variable\n",
        "\n",
        "sns.scatterplot(data=df, x=\"Wingspan\", y=\"Height\",hue=\"Gender\")"
      ]
    },
    {
      "cell_type": "code",
      "execution_count": 53,
      "metadata": {
        "id": "yWjZ89LCcARY",
        "colab": {
          "base_uri": "https://localhost:8080/",
          "height": 296
        },
        "outputId": "4abab07f-52fc-4e6b-9a06-b6c2fcc80506"
      },
      "outputs": [
        {
          "output_type": "execute_result",
          "data": {
            "text/plain": [
              "<Axes: xlabel='Wingspan', ylabel='Height'>"
            ]
          },
          "metadata": {},
          "execution_count": 53
        },
        {
          "output_type": "display_data",
          "data": {
            "text/plain": [
              "<Figure size 432x288 with 1 Axes>"
            ],
            "image/png": "[encoded data removed]"
          },
          "metadata": {
            "needs_background": "light"
          }
        }
      ],
      "source": [
        "# scatter plot between two variables grouped according to a categorical variable and with size of markers\n",
        "sns.scatterplot(data=df, x=\"Wingspan\", y=\"Height\", hue=\"Gender\", size=\"Score\")\n"
      ]
    },
    {
      "cell_type": "markdown",
      "metadata": {
        "id": "j0wJTQmIcARY"
      },
      "source": [
        "# Final remarks\n",
        "\n",
        "\n",
        "- Visualizing your data using **tables**, **histograms**, **boxplots**, **scatter plots** and other tools is essential to carry put analysis and extract conclusions\n",
        "\n",
        "- There are several ways to do the same thing\n",
        "\n",
        "- The **Seaborn** package provides visualisations tools that allow to explore data from a graphical perspective\n"
      ]
    },
    {
      "cell_type": "markdown",
      "metadata": {
        "id": "zYFZFDYacARY"
      },
      "source": [
        "# Activity: work with the iris dataset\n",
        "\n",
        "Repeat this tutorial with the iris data set and respond to the following inquiries\n",
        "\n",
        "1. Plot the histograms for each of the four quantitative variables\n",
        "\n",
        "\n",
        "2. Plot the histograms for each of the quantitative variables\n",
        "\n",
        "\n",
        "3. Plot the boxplots for each of the quantitative variables\n",
        "\n",
        "\n",
        "4. Plot the boxplots of the petal width grouped by type of flower\n",
        "\n",
        "\n",
        "5. Plot the boxplots of the setal length grouped by type of flower\n",
        "\n",
        "\n",
        "6. Provide a description (explaination from your observations) of each of the quantitative variables\n"
      ]
    },
    {
      "cell_type": "code",
      "execution_count": null,
      "metadata": {
        "id": "96dpUZNIcARZ"
      },
      "outputs": [],
      "source": []
    }
  ],
  "metadata": {
    "kernelspec": {
      "display_name": "Python 3",
      "language": "python",
      "name": "python3"
    },
    "language_info": {
      "codemirror_mode": {
        "name": "ipython",
        "version": 3
      },
      "file_extension": ".py",
      "mimetype": "text/x-python",
      "name": "python",
      "nbconvert_exporter": "python",
      "pygments_lexer": "ipython3",
      "version": "3.8.3"
    },
    "colab": {
      "provenance": []
    }
  },
  "nbformat": 4,
  "nbformat_minor": 0
}