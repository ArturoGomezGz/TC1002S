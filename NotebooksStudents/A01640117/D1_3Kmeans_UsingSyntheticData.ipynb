{
  "cells": [
    {
      "cell_type": "markdown",
      "metadata": {
        "id": "AS8mbGXGOsLc"
      },
      "source": [
        "# K-means clustering\n",
        "\n",
        "The notebook aims to study and implement a k-means clustering using \"sklearn\". A synthetic dataset will be used to identify clusters automatically using the K-means method.\n",
        "\n",
        "\n",
        "## Acknowledgments\n",
        "\n",
        "- Inquiries: mauricio.antelis@tec.mx\n"
      ]
    },
    {
      "cell_type": "markdown",
      "metadata": {
        "id": "axqN-j_JOsLi"
      },
      "source": [
        "# Importing libraries"
      ]
    },
    {
      "cell_type": "code",
      "execution_count": 10,
      "metadata": {
        "colab": {
          "base_uri": "https://localhost:8080/"
        },
        "id": "xj6q61p5TpML",
        "outputId": "acfbad88-e2c7-4267-de0f-8c837ac972b2"
      },
      "outputs": [
        {
          "ename": "ModuleNotFoundError",
          "evalue": "No module named 'google'",
          "output_type": "error",
          "traceback": [
            "\u001b[0;31m---------------------------------------------------------------------------\u001b[0m",
            "\u001b[0;31mModuleNotFoundError\u001b[0m                       Traceback (most recent call last)",
            "Cell \u001b[0;32mIn[10], line 7\u001b[0m\n\u001b[1;32m      4\u001b[0m \u001b[39m# If running in colab:\u001b[39;00m\n\u001b[1;32m      5\u001b[0m \u001b[39mif\u001b[39;00m RunInColab:\n\u001b[1;32m      6\u001b[0m     \u001b[39m# Mount your google drive in google colab\u001b[39;00m\n\u001b[0;32m----> 7\u001b[0m     \u001b[39mfrom\u001b[39;00m \u001b[39mgoogle\u001b[39;00m\u001b[39m.\u001b[39;00m\u001b[39mcolab\u001b[39;00m \u001b[39mimport\u001b[39;00m drive\n\u001b[1;32m      8\u001b[0m     drive\u001b[39m.\u001b[39mmount(\u001b[39m'\u001b[39m\u001b[39m/content/drive\u001b[39m\u001b[39m'\u001b[39m)\n\u001b[1;32m     10\u001b[0m     \u001b[39m# Find location\u001b[39;00m\n\u001b[1;32m     11\u001b[0m     \u001b[39m#!pwd\u001b[39;00m\n\u001b[1;32m     12\u001b[0m     \u001b[39m#!ls\u001b[39;00m\n\u001b[1;32m     13\u001b[0m     \u001b[39m#!ls \"/content/drive/My Drive/Colab Notebooks/MachineLearningWithPython/\"\u001b[39;00m\n\u001b[1;32m     14\u001b[0m \n\u001b[1;32m     15\u001b[0m     \u001b[39m# Define path del proyecto\u001b[39;00m\n",
            "\u001b[0;31mModuleNotFoundError\u001b[0m: No module named 'google'"
          ]
        }
      ],
      "source": [
        "# Define where you are running the code: colab or local\n",
        "RunInColab          = True     # (False: no  | True: yes)\n",
        "\n",
        "# If running in colab:\n",
        "if RunInColab:\n",
        "    # Mount your google drive in google colab\n",
        "    from google.colab import drive\n",
        "    drive.mount('/content/drive')\n",
        "\n",
        "    # Find location\n",
        "    #!pwd\n",
        "    #!ls\n",
        "    #!ls \"/content/drive/My Drive/Colab Notebooks/MachineLearningWithPython/\"\n",
        "\n",
        "    # Define path del proyecto\n",
        "    Ruta            = \"/content/drive/My Drive/Colab Notebooks/MachineLearningWithPython/\"\n",
        "\n",
        "else:\n",
        "    # Define path del proyecto\n",
        "    Ruta            = \"\""
      ]
    },
    {
      "cell_type": "code",
      "execution_count": null,
      "metadata": {
        "id": "og9XW_WcOsLj"
      },
      "outputs": [],
      "source": [
        "# Import the packages that we will be using\n",
        "import numpy as np                  # For array\n",
        "import pandas as pd                 # For data handling\n",
        "import seaborn as sns               # For advanced plotting\n",
        "import matplotlib.pyplot as plt     # For showing plots\n",
        "\n",
        "# Note: specific functions of the \"sklearn\" package will be imported when needed to show concepts easily"
      ]
    },
    {
      "cell_type": "markdown",
      "metadata": {
        "id": "ho4Z9lu1OsLl"
      },
      "source": [
        "# Importing data"
      ]
    },
    {
      "cell_type": "code",
      "execution_count": null,
      "metadata": {
        "id": "53ZuWZToOsLl"
      },
      "outputs": [],
      "source": [
        "# Dataset url\n",
        "url = \"/content/drive/MyDrive/SyntheticData4Clustering_X.csv\"\n",
        "\n",
        "# Load the dataset\n",
        "df  = pd.read_csv(url)\n"
      ]
    },
    {
      "cell_type": "markdown",
      "metadata": {
        "id": "Bsj6BMG1OsLm"
      },
      "source": [
        "# Undertanding and preprocessing the data\n",
        "\n",
        "1. Get a general 'feel' of the data\n"
      ]
    },
    {
      "cell_type": "code",
      "execution_count": null,
      "metadata": {
        "colab": {
          "base_uri": "https://localhost:8080/",
          "height": 424
        },
        "id": "VaKt3oxcfJXQ",
        "outputId": "dc6224e6-bc25-44f5-b902-008e956838f1"
      },
      "outputs": [
        {
          "data": {
            "text/html": [
              "\n",
              "  <div id=\"df-d8c85275-a878-46b3-9d51-2556749c0fcf\">\n",
              "    <div class=\"colab-df-container\">\n",
              "      <div>\n",
              "<style scoped>\n",
              "    .dataframe tbody tr th:only-of-type {\n",
              "        vertical-align: middle;\n",
              "    }\n",
              "\n",
              "    .dataframe tbody tr th {\n",
              "        vertical-align: top;\n",
              "    }\n",
              "\n",
              "    .dataframe thead th {\n",
              "        text-align: right;\n",
              "    }\n",
              "</style>\n",
              "<table border=\"1\" class=\"dataframe\">\n",
              "  <thead>\n",
              "    <tr style=\"text-align: right;\">\n",
              "      <th></th>\n",
              "      <th>x1</th>\n",
              "      <th>x2</th>\n",
              "      <th>x3</th>\n",
              "      <th>x4</th>\n",
              "      <th>x5</th>\n",
              "      <th>x6</th>\n",
              "    </tr>\n",
              "  </thead>\n",
              "  <tbody>\n",
              "    <tr>\n",
              "      <th>0</th>\n",
              "      <td>1.914825</td>\n",
              "      <td>-1.380503</td>\n",
              "      <td>-3.609674</td>\n",
              "      <td>4.236011</td>\n",
              "      <td>-5.158681</td>\n",
              "      <td>5.712978</td>\n",
              "    </tr>\n",
              "    <tr>\n",
              "      <th>1</th>\n",
              "      <td>1.356415</td>\n",
              "      <td>9.767893</td>\n",
              "      <td>7.263659</td>\n",
              "      <td>8.750819</td>\n",
              "      <td>5.568930</td>\n",
              "      <td>-6.039122</td>\n",
              "    </tr>\n",
              "    <tr>\n",
              "      <th>2</th>\n",
              "      <td>1.185186</td>\n",
              "      <td>11.528344</td>\n",
              "      <td>9.999419</td>\n",
              "      <td>7.890027</td>\n",
              "      <td>7.308210</td>\n",
              "      <td>-8.899397</td>\n",
              "    </tr>\n",
              "    <tr>\n",
              "      <th>3</th>\n",
              "      <td>-1.739155</td>\n",
              "      <td>12.648965</td>\n",
              "      <td>7.965588</td>\n",
              "      <td>7.850296</td>\n",
              "      <td>10.235743</td>\n",
              "      <td>-10.175542</td>\n",
              "    </tr>\n",
              "    <tr>\n",
              "      <th>4</th>\n",
              "      <td>7.890985</td>\n",
              "      <td>-3.210880</td>\n",
              "      <td>-7.672016</td>\n",
              "      <td>2.438106</td>\n",
              "      <td>3.310904</td>\n",
              "      <td>-3.308334</td>\n",
              "    </tr>\n",
              "    <tr>\n",
              "      <th>...</th>\n",
              "      <td>...</td>\n",
              "      <td>...</td>\n",
              "      <td>...</td>\n",
              "      <td>...</td>\n",
              "      <td>...</td>\n",
              "      <td>...</td>\n",
              "    </tr>\n",
              "    <tr>\n",
              "      <th>1019</th>\n",
              "      <td>3.685106</td>\n",
              "      <td>-1.715503</td>\n",
              "      <td>-5.674443</td>\n",
              "      <td>6.510551</td>\n",
              "      <td>-0.121862</td>\n",
              "      <td>-6.166649</td>\n",
              "    </tr>\n",
              "    <tr>\n",
              "      <th>1020</th>\n",
              "      <td>-7.014173</td>\n",
              "      <td>-9.697874</td>\n",
              "      <td>4.093272</td>\n",
              "      <td>-0.590262</td>\n",
              "      <td>-9.882245</td>\n",
              "      <td>2.339336</td>\n",
              "    </tr>\n",
              "    <tr>\n",
              "      <th>1021</th>\n",
              "      <td>-2.993762</td>\n",
              "      <td>7.528182</td>\n",
              "      <td>7.877165</td>\n",
              "      <td>8.895835</td>\n",
              "      <td>9.318544</td>\n",
              "      <td>-7.445100</td>\n",
              "    </tr>\n",
              "    <tr>\n",
              "      <th>1022</th>\n",
              "      <td>4.576644</td>\n",
              "      <td>-1.720788</td>\n",
              "      <td>-6.581909</td>\n",
              "      <td>4.745839</td>\n",
              "      <td>1.497980</td>\n",
              "      <td>-4.828975</td>\n",
              "    </tr>\n",
              "    <tr>\n",
              "      <th>1023</th>\n",
              "      <td>2.616634</td>\n",
              "      <td>0.274593</td>\n",
              "      <td>-5.521864</td>\n",
              "      <td>9.582110</td>\n",
              "      <td>0.878266</td>\n",
              "      <td>-8.274990</td>\n",
              "    </tr>\n",
              "  </tbody>\n",
              "</table>\n",
              "<p>1024 rows × 6 columns</p>\n",
              "</div>\n",
              "      <button class=\"colab-df-convert\" onclick=\"convertToInteractive('df-d8c85275-a878-46b3-9d51-2556749c0fcf')\"\n",
              "              title=\"Convert this dataframe to an interactive table.\"\n",
              "              style=\"display:none;\">\n",
              "        \n",
              "  <svg xmlns=\"http://www.w3.org/2000/svg\" height=\"24px\"viewBox=\"0 0 24 24\"\n",
              "       width=\"24px\">\n",
              "    <path d=\"M0 0h24v24H0V0z\" fill=\"none\"/>\n",
              "    <path d=\"M18.56 5.44l.94 2.06.94-2.06 2.06-.94-2.06-.94-.94-2.06-.94 2.06-2.06.94zm-11 1L8.5 8.5l.94-2.06 2.06-.94-2.06-.94L8.5 2.5l-.94 2.06-2.06.94zm10 10l.94 2.06.94-2.06 2.06-.94-2.06-.94-.94-2.06-.94 2.06-2.06.94z\"/><path d=\"M17.41 7.96l-1.37-1.37c-.4-.4-.92-.59-1.43-.59-.52 0-1.04.2-1.43.59L10.3 9.45l-7.72 7.72c-.78.78-.78 2.05 0 2.83L4 21.41c.39.39.9.59 1.41.59.51 0 1.02-.2 1.41-.59l7.78-7.78 2.81-2.81c.8-.78.8-2.07 0-2.86zM5.41 20L4 18.59l7.72-7.72 1.47 1.35L5.41 20z\"/>\n",
              "  </svg>\n",
              "      </button>\n",
              "      \n",
              "  <style>\n",
              "    .colab-df-container {\n",
              "      display:flex;\n",
              "      flex-wrap:wrap;\n",
              "      gap: 12px;\n",
              "    }\n",
              "\n",
              "    .colab-df-convert {\n",
              "      background-color: #E8F0FE;\n",
              "      border: none;\n",
              "      border-radius: 50%;\n",
              "      cursor: pointer;\n",
              "      display: none;\n",
              "      fill: #1967D2;\n",
              "      height: 32px;\n",
              "      padding: 0 0 0 0;\n",
              "      width: 32px;\n",
              "    }\n",
              "\n",
              "    .colab-df-convert:hover {\n",
              "      background-color: #E2EBFA;\n",
              "      box-shadow: 0px 1px 2px rgba(60, 64, 67, 0.3), 0px 1px 3px 1px rgba(60, 64, 67, 0.15);\n",
              "      fill: #174EA6;\n",
              "    }\n",
              "\n",
              "    [theme=dark] .colab-df-convert {\n",
              "      background-color: #3B4455;\n",
              "      fill: #D2E3FC;\n",
              "    }\n",
              "\n",
              "    [theme=dark] .colab-df-convert:hover {\n",
              "      background-color: #434B5C;\n",
              "      box-shadow: 0px 1px 3px 1px rgba(0, 0, 0, 0.15);\n",
              "      filter: drop-shadow(0px 1px 2px rgba(0, 0, 0, 0.3));\n",
              "      fill: #FFFFFF;\n",
              "    }\n",
              "  </style>\n",
              "\n",
              "      <script>\n",
              "        const buttonEl =\n",
              "          document.querySelector('#df-d8c85275-a878-46b3-9d51-2556749c0fcf button.colab-df-convert');\n",
              "        buttonEl.style.display =\n",
              "          google.colab.kernel.accessAllowed ? 'block' : 'none';\n",
              "\n",
              "        async function convertToInteractive(key) {\n",
              "          const element = document.querySelector('#df-d8c85275-a878-46b3-9d51-2556749c0fcf');\n",
              "          const dataTable =\n",
              "            await google.colab.kernel.invokeFunction('convertToInteractive',\n",
              "                                                     [key], {});\n",
              "          if (!dataTable) return;\n",
              "\n",
              "          const docLinkHtml = 'Like what you see? Visit the ' +\n",
              "            '<a target=\"_blank\" href=https://colab.research.google.com/notebooks/data_table.ipynb>data table notebook</a>'\n",
              "            + ' to learn more about interactive tables.';\n",
              "          element.innerHTML = '';\n",
              "          dataTable['output_type'] = 'display_data';\n",
              "          await google.colab.output.renderOutput(dataTable, element);\n",
              "          const docLink = document.createElement('div');\n",
              "          docLink.innerHTML = docLinkHtml;\n",
              "          element.appendChild(docLink);\n",
              "        }\n",
              "      </script>\n",
              "    </div>\n",
              "  </div>\n",
              "  "
            ],
            "text/plain": [
              "            x1         x2        x3        x4         x5         x6\n",
              "0     1.914825  -1.380503 -3.609674  4.236011  -5.158681   5.712978\n",
              "1     1.356415   9.767893  7.263659  8.750819   5.568930  -6.039122\n",
              "2     1.185186  11.528344  9.999419  7.890027   7.308210  -8.899397\n",
              "3    -1.739155  12.648965  7.965588  7.850296  10.235743 -10.175542\n",
              "4     7.890985  -3.210880 -7.672016  2.438106   3.310904  -3.308334\n",
              "...        ...        ...       ...       ...        ...        ...\n",
              "1019  3.685106  -1.715503 -5.674443  6.510551  -0.121862  -6.166649\n",
              "1020 -7.014173  -9.697874  4.093272 -0.590262  -9.882245   2.339336\n",
              "1021 -2.993762   7.528182  7.877165  8.895835   9.318544  -7.445100\n",
              "1022  4.576644  -1.720788 -6.581909  4.745839   1.497980  -4.828975\n",
              "1023  2.616634   0.274593 -5.521864  9.582110   0.878266  -8.274990\n",
              "\n",
              "[1024 rows x 6 columns]"
            ]
          },
          "execution_count": 97,
          "metadata": {},
          "output_type": "execute_result"
        }
      ],
      "source": [
        "# Print the dataframe\n",
        "df"
      ]
    },
    {
      "cell_type": "code",
      "execution_count": null,
      "metadata": {
        "colab": {
          "base_uri": "https://localhost:8080/"
        },
        "id": "vbOor3fe3vP-",
        "outputId": "3cc99999-c1a4-4a74-8606-824a41e21eb5"
      },
      "outputs": [
        {
          "data": {
            "text/plain": [
              "1024"
            ]
          },
          "execution_count": 98,
          "metadata": {},
          "output_type": "execute_result"
        }
      ],
      "source": [
        "\n",
        "x = df.shape[0]\n",
        "x"
      ]
    },
    {
      "cell_type": "code",
      "execution_count": null,
      "metadata": {
        "colab": {
          "base_uri": "https://localhost:8080/"
        },
        "id": "yvwH8AKX31Ea",
        "outputId": "5d072d82-edb1-427b-9af8-960ef40bd705"
      },
      "outputs": [
        {
          "data": {
            "text/plain": [
              "6"
            ]
          },
          "execution_count": 99,
          "metadata": {},
          "output_type": "execute_result"
        }
      ],
      "source": [
        "y = df.shape[1]\n",
        "y"
      ]
    },
    {
      "cell_type": "code",
      "execution_count": null,
      "metadata": {
        "colab": {
          "base_uri": "https://localhost:8080/"
        },
        "id": "WjukI2M-OsLm",
        "outputId": "6318777c-7b71-472b-ab0a-2e2787642c05"
      },
      "outputs": [
        {
          "data": {
            "text/plain": [
              "(1024, 6)"
            ]
          },
          "execution_count": 100,
          "metadata": {},
          "output_type": "execute_result"
        }
      ],
      "source": [
        "# get the number of observations and variables\n",
        "df.shape\n"
      ]
    },
    {
      "cell_type": "markdown",
      "metadata": {
        "id": "a9QQtsrmOsLn"
      },
      "source": [
        "2. Drop rows with any missing values\n"
      ]
    },
    {
      "cell_type": "code",
      "execution_count": null,
      "metadata": {
        "colab": {
          "base_uri": "https://localhost:8080/",
          "height": 424
        },
        "id": "p2FAEURNOsLn",
        "outputId": "13144975-e76a-4bce-e04c-d63015a574fa"
      },
      "outputs": [
        {
          "data": {
            "text/html": [
              "\n",
              "  <div id=\"df-2aeb0a05-7f1c-4a3d-9d8e-6d10c2d2cd12\">\n",
              "    <div class=\"colab-df-container\">\n",
              "      <div>\n",
              "<style scoped>\n",
              "    .dataframe tbody tr th:only-of-type {\n",
              "        vertical-align: middle;\n",
              "    }\n",
              "\n",
              "    .dataframe tbody tr th {\n",
              "        vertical-align: top;\n",
              "    }\n",
              "\n",
              "    .dataframe thead th {\n",
              "        text-align: right;\n",
              "    }\n",
              "</style>\n",
              "<table border=\"1\" class=\"dataframe\">\n",
              "  <thead>\n",
              "    <tr style=\"text-align: right;\">\n",
              "      <th></th>\n",
              "      <th>x1</th>\n",
              "      <th>x2</th>\n",
              "      <th>x3</th>\n",
              "      <th>x4</th>\n",
              "      <th>x5</th>\n",
              "      <th>x6</th>\n",
              "    </tr>\n",
              "  </thead>\n",
              "  <tbody>\n",
              "    <tr>\n",
              "      <th>0</th>\n",
              "      <td>1.914825</td>\n",
              "      <td>-1.380503</td>\n",
              "      <td>-3.609674</td>\n",
              "      <td>4.236011</td>\n",
              "      <td>-5.158681</td>\n",
              "      <td>5.712978</td>\n",
              "    </tr>\n",
              "    <tr>\n",
              "      <th>1</th>\n",
              "      <td>1.356415</td>\n",
              "      <td>9.767893</td>\n",
              "      <td>7.263659</td>\n",
              "      <td>8.750819</td>\n",
              "      <td>5.568930</td>\n",
              "      <td>-6.039122</td>\n",
              "    </tr>\n",
              "    <tr>\n",
              "      <th>2</th>\n",
              "      <td>1.185186</td>\n",
              "      <td>11.528344</td>\n",
              "      <td>9.999419</td>\n",
              "      <td>7.890027</td>\n",
              "      <td>7.308210</td>\n",
              "      <td>-8.899397</td>\n",
              "    </tr>\n",
              "    <tr>\n",
              "      <th>3</th>\n",
              "      <td>-1.739155</td>\n",
              "      <td>12.648965</td>\n",
              "      <td>7.965588</td>\n",
              "      <td>7.850296</td>\n",
              "      <td>10.235743</td>\n",
              "      <td>-10.175542</td>\n",
              "    </tr>\n",
              "    <tr>\n",
              "      <th>4</th>\n",
              "      <td>7.890985</td>\n",
              "      <td>-3.210880</td>\n",
              "      <td>-7.672016</td>\n",
              "      <td>2.438106</td>\n",
              "      <td>3.310904</td>\n",
              "      <td>-3.308334</td>\n",
              "    </tr>\n",
              "    <tr>\n",
              "      <th>...</th>\n",
              "      <td>...</td>\n",
              "      <td>...</td>\n",
              "      <td>...</td>\n",
              "      <td>...</td>\n",
              "      <td>...</td>\n",
              "      <td>...</td>\n",
              "    </tr>\n",
              "    <tr>\n",
              "      <th>1019</th>\n",
              "      <td>3.685106</td>\n",
              "      <td>-1.715503</td>\n",
              "      <td>-5.674443</td>\n",
              "      <td>6.510551</td>\n",
              "      <td>-0.121862</td>\n",
              "      <td>-6.166649</td>\n",
              "    </tr>\n",
              "    <tr>\n",
              "      <th>1020</th>\n",
              "      <td>-7.014173</td>\n",
              "      <td>-9.697874</td>\n",
              "      <td>4.093272</td>\n",
              "      <td>-0.590262</td>\n",
              "      <td>-9.882245</td>\n",
              "      <td>2.339336</td>\n",
              "    </tr>\n",
              "    <tr>\n",
              "      <th>1021</th>\n",
              "      <td>-2.993762</td>\n",
              "      <td>7.528182</td>\n",
              "      <td>7.877165</td>\n",
              "      <td>8.895835</td>\n",
              "      <td>9.318544</td>\n",
              "      <td>-7.445100</td>\n",
              "    </tr>\n",
              "    <tr>\n",
              "      <th>1022</th>\n",
              "      <td>4.576644</td>\n",
              "      <td>-1.720788</td>\n",
              "      <td>-6.581909</td>\n",
              "      <td>4.745839</td>\n",
              "      <td>1.497980</td>\n",
              "      <td>-4.828975</td>\n",
              "    </tr>\n",
              "    <tr>\n",
              "      <th>1023</th>\n",
              "      <td>2.616634</td>\n",
              "      <td>0.274593</td>\n",
              "      <td>-5.521864</td>\n",
              "      <td>9.582110</td>\n",
              "      <td>0.878266</td>\n",
              "      <td>-8.274990</td>\n",
              "    </tr>\n",
              "  </tbody>\n",
              "</table>\n",
              "<p>1024 rows × 6 columns</p>\n",
              "</div>\n",
              "      <button class=\"colab-df-convert\" onclick=\"convertToInteractive('df-2aeb0a05-7f1c-4a3d-9d8e-6d10c2d2cd12')\"\n",
              "              title=\"Convert this dataframe to an interactive table.\"\n",
              "              style=\"display:none;\">\n",
              "        \n",
              "  <svg xmlns=\"http://www.w3.org/2000/svg\" height=\"24px\"viewBox=\"0 0 24 24\"\n",
              "       width=\"24px\">\n",
              "    <path d=\"M0 0h24v24H0V0z\" fill=\"none\"/>\n",
              "    <path d=\"M18.56 5.44l.94 2.06.94-2.06 2.06-.94-2.06-.94-.94-2.06-.94 2.06-2.06.94zm-11 1L8.5 8.5l.94-2.06 2.06-.94-2.06-.94L8.5 2.5l-.94 2.06-2.06.94zm10 10l.94 2.06.94-2.06 2.06-.94-2.06-.94-.94-2.06-.94 2.06-2.06.94z\"/><path d=\"M17.41 7.96l-1.37-1.37c-.4-.4-.92-.59-1.43-.59-.52 0-1.04.2-1.43.59L10.3 9.45l-7.72 7.72c-.78.78-.78 2.05 0 2.83L4 21.41c.39.39.9.59 1.41.59.51 0 1.02-.2 1.41-.59l7.78-7.78 2.81-2.81c.8-.78.8-2.07 0-2.86zM5.41 20L4 18.59l7.72-7.72 1.47 1.35L5.41 20z\"/>\n",
              "  </svg>\n",
              "      </button>\n",
              "      \n",
              "  <style>\n",
              "    .colab-df-container {\n",
              "      display:flex;\n",
              "      flex-wrap:wrap;\n",
              "      gap: 12px;\n",
              "    }\n",
              "\n",
              "    .colab-df-convert {\n",
              "      background-color: #E8F0FE;\n",
              "      border: none;\n",
              "      border-radius: 50%;\n",
              "      cursor: pointer;\n",
              "      display: none;\n",
              "      fill: #1967D2;\n",
              "      height: 32px;\n",
              "      padding: 0 0 0 0;\n",
              "      width: 32px;\n",
              "    }\n",
              "\n",
              "    .colab-df-convert:hover {\n",
              "      background-color: #E2EBFA;\n",
              "      box-shadow: 0px 1px 2px rgba(60, 64, 67, 0.3), 0px 1px 3px 1px rgba(60, 64, 67, 0.15);\n",
              "      fill: #174EA6;\n",
              "    }\n",
              "\n",
              "    [theme=dark] .colab-df-convert {\n",
              "      background-color: #3B4455;\n",
              "      fill: #D2E3FC;\n",
              "    }\n",
              "\n",
              "    [theme=dark] .colab-df-convert:hover {\n",
              "      background-color: #434B5C;\n",
              "      box-shadow: 0px 1px 3px 1px rgba(0, 0, 0, 0.15);\n",
              "      filter: drop-shadow(0px 1px 2px rgba(0, 0, 0, 0.3));\n",
              "      fill: #FFFFFF;\n",
              "    }\n",
              "  </style>\n",
              "\n",
              "      <script>\n",
              "        const buttonEl =\n",
              "          document.querySelector('#df-2aeb0a05-7f1c-4a3d-9d8e-6d10c2d2cd12 button.colab-df-convert');\n",
              "        buttonEl.style.display =\n",
              "          google.colab.kernel.accessAllowed ? 'block' : 'none';\n",
              "\n",
              "        async function convertToInteractive(key) {\n",
              "          const element = document.querySelector('#df-2aeb0a05-7f1c-4a3d-9d8e-6d10c2d2cd12');\n",
              "          const dataTable =\n",
              "            await google.colab.kernel.invokeFunction('convertToInteractive',\n",
              "                                                     [key], {});\n",
              "          if (!dataTable) return;\n",
              "\n",
              "          const docLinkHtml = 'Like what you see? Visit the ' +\n",
              "            '<a target=\"_blank\" href=https://colab.research.google.com/notebooks/data_table.ipynb>data table notebook</a>'\n",
              "            + ' to learn more about interactive tables.';\n",
              "          element.innerHTML = '';\n",
              "          dataTable['output_type'] = 'display_data';\n",
              "          await google.colab.output.renderOutput(dataTable, element);\n",
              "          const docLink = document.createElement('div');\n",
              "          docLink.innerHTML = docLinkHtml;\n",
              "          element.appendChild(docLink);\n",
              "        }\n",
              "      </script>\n",
              "    </div>\n",
              "  </div>\n",
              "  "
            ],
            "text/plain": [
              "            x1         x2        x3        x4         x5         x6\n",
              "0     1.914825  -1.380503 -3.609674  4.236011  -5.158681   5.712978\n",
              "1     1.356415   9.767893  7.263659  8.750819   5.568930  -6.039122\n",
              "2     1.185186  11.528344  9.999419  7.890027   7.308210  -8.899397\n",
              "3    -1.739155  12.648965  7.965588  7.850296  10.235743 -10.175542\n",
              "4     7.890985  -3.210880 -7.672016  2.438106   3.310904  -3.308334\n",
              "...        ...        ...       ...       ...        ...        ...\n",
              "1019  3.685106  -1.715503 -5.674443  6.510551  -0.121862  -6.166649\n",
              "1020 -7.014173  -9.697874  4.093272 -0.590262  -9.882245   2.339336\n",
              "1021 -2.993762   7.528182  7.877165  8.895835   9.318544  -7.445100\n",
              "1022  4.576644  -1.720788 -6.581909  4.745839   1.497980  -4.828975\n",
              "1023  2.616634   0.274593 -5.521864  9.582110   0.878266  -8.274990\n",
              "\n",
              "[1024 rows x 6 columns]"
            ]
          },
          "execution_count": 101,
          "metadata": {},
          "output_type": "execute_result"
        }
      ],
      "source": [
        "# Drop rows with NaN values if existing\n",
        "df = df.dropna()\n",
        "\n",
        "# Print the new shape\n",
        "df"
      ]
    },
    {
      "cell_type": "markdown",
      "metadata": {
        "id": "6X7e9LXAOsLr"
      },
      "source": [
        "3. Scatterplot\n",
        "\n",
        "\n"
      ]
    },
    {
      "cell_type": "code",
      "execution_count": null,
      "metadata": {
        "colab": {
          "base_uri": "https://localhost:8080/",
          "height": 279
        },
        "id": "I0TGCzWUOsLr",
        "outputId": "686c98a2-1e9c-4db2-9e43-b5091d08ca1e"
      },
      "outputs": [
        {
          "data": {
            "image/png": "[encoded data removed]",
            "text/plain": [
              "<Figure size 432x288 with 1 Axes>"
            ]
          },
          "metadata": {
            "needs_background": "light"
          },
          "output_type": "display_data"
        }
      ],
      "source": [
        "# Scatterplot of x1 and x2\n",
        "sns.scatterplot(data = df, x= \"x1\", y = \"x2\")\n",
        "plt.show()"
      ]
    },
    {
      "cell_type": "code",
      "execution_count": null,
      "metadata": {
        "colab": {
          "base_uri": "https://localhost:8080/",
          "height": 282
        },
        "id": "WBLieb8lnJYk",
        "outputId": "3ac33783-b8a4-45f3-ec13-8a95e9330d6a"
      },
      "outputs": [
        {
          "data": {
            "image/png": "[encoded data removed]",
            "text/plain": [
              "<Figure size 432x288 with 1 Axes>"
            ]
          },
          "metadata": {
            "needs_background": "light"
          },
          "output_type": "display_data"
        }
      ],
      "source": [
        "# Scatterplot of x1 and x3\n",
        "sns.scatterplot(data = df, x= \"x1\", y = \"x3\")\n"
      ]
    },
    {
      "cell_type": "markdown",
      "metadata": {
        "id": "B6kA8CZStQH9"
      },
      "source": [
        "Difficult to plot independetly all combinations, let's use pairplot"
      ]
    },
    {
      "cell_type": "code",
      "execution_count": 6,
      "metadata": {
        "colab": {
          "base_uri": "https://localhost:8080/",
          "height": 788
        },
        "id": "dxvGv9ronJcG",
        "outputId": "cb7bd047-dcc7-43ce-ccaf-9d43308b0025"
      },
      "outputs": [
        {
          "ename": "NameError",
          "evalue": "name 'sns' is not defined",
          "output_type": "error",
          "traceback": [
            "\u001b[0;31m---------------------------------------------------------------------------\u001b[0m",
            "\u001b[0;31mNameError\u001b[0m                                 Traceback (most recent call last)",
            "Cell \u001b[0;32mIn[6], line 2\u001b[0m\n\u001b[1;32m      1\u001b[0m \u001b[39m# Pairplot: Scatterplot of all variables\u001b[39;00m\n\u001b[0;32m----> 2\u001b[0m g \u001b[39m=\u001b[39m sns\u001b[39m.\u001b[39mpairplot(df, corner \u001b[39m=\u001b[39m \u001b[39mTrue\u001b[39;00m, diag_kind\u001b[39m=\u001b[39m\u001b[39m\"\u001b[39m\u001b[39mk\u001b[39m\u001b[39m\"\u001b[39m)\n\u001b[1;32m      3\u001b[0m g\u001b[39m.\u001b[39mmap_lower(sns\u001b[39m.\u001b[39mkdeplot, levels\u001b[39m=\u001b[39m\u001b[39m4\u001b[39m, color\u001b[39m=\u001b[39m\u001b[39m\"\u001b[39m\u001b[39m.2\u001b[39m\u001b[39m\"\u001b[39m)\n\u001b[1;32m      4\u001b[0m plt\u001b[39m.\u001b[39mshow()\n",
            "\u001b[0;31mNameError\u001b[0m: name 'sns' is not defined"
          ]
        }
      ],
      "source": [
        "# Pairplot: Scatterplot of all variables\n",
        "g = sns.pairplot(df, corner = True, diag_kind=\"k\")\n",
        "g.map_lower(sns.kdeplot, levels=4, color=\".2\")\n"
      ]
    },
    {
      "cell_type": "markdown",
      "metadata": {
        "id": "2X2gzeYwOsLt"
      },
      "source": [
        "It looks like there are 3 or 4 clusters/groups\n",
        "\n",
        "Note that we do not know in advance the class/cluster/group to which each point belongs to: we need to apply unsupervised learning ¡"
      ]
    },
    {
      "cell_type": "markdown",
      "metadata": {
        "id": "NL248FDdOsLu"
      },
      "source": [
        "# Kmeans clustering\n",
        "\n",
        "Kmeans clustering"
      ]
    },
    {
      "cell_type": "code",
      "execution_count": null,
      "metadata": {
        "colab": {
          "base_uri": "https://localhost:8080/"
        },
        "id": "oYkbzWxQOsLu",
        "outputId": "adaddca7-3d53-4137-f416-4df7bf8ad7f2"
      },
      "outputs": [
        {
          "data": {
            "text/plain": [
              "array([0, 2, 2, ..., 2, 0, 0], dtype=int32)"
            ]
          },
          "execution_count": 106,
          "metadata": {},
          "output_type": "execute_result"
        }
      ],
      "source": [
        "# Import sklearn KMeans\n",
        "from sklearn.cluster import KMeans\n",
        "\n",
        "# Define number of clusters\n",
        "K  =  3 # Let's assume there are 2,3,4,5...? clusters/groups\n",
        "\n",
        "# Create/initialize the Kmeans box/object\n",
        "km = KMeans(n_clusters=K, n_init=\"auto\")\n",
        "\n",
        "# Do K-means clustering (assing each point in the dataset to a cluster) \n",
        "yestimated = km.fit_predict(df)\n",
        "\n",
        "\n",
        "# Print estimated cluster of each point in the dataset\n",
        "yestimated"
      ]
    },
    {
      "cell_type": "code",
      "execution_count": null,
      "metadata": {
        "colab": {
          "base_uri": "https://localhost:8080/",
          "height": 424
        },
        "id": "CLSTXFExOsLu",
        "outputId": "dd374617-c498-412b-d937-bab27756402e"
      },
      "outputs": [
        {
          "data": {
            "text/html": [
              "\n",
              "  <div id=\"df-c5116bd6-a697-4a8f-951d-dd545da1b38b\">\n",
              "    <div class=\"colab-df-container\">\n",
              "      <div>\n",
              "<style scoped>\n",
              "    .dataframe tbody tr th:only-of-type {\n",
              "        vertical-align: middle;\n",
              "    }\n",
              "\n",
              "    .dataframe tbody tr th {\n",
              "        vertical-align: top;\n",
              "    }\n",
              "\n",
              "    .dataframe thead th {\n",
              "        text-align: right;\n",
              "    }\n",
              "</style>\n",
              "<table border=\"1\" class=\"dataframe\">\n",
              "  <thead>\n",
              "    <tr style=\"text-align: right;\">\n",
              "      <th></th>\n",
              "      <th>x1</th>\n",
              "      <th>x2</th>\n",
              "      <th>x3</th>\n",
              "      <th>x4</th>\n",
              "      <th>x5</th>\n",
              "      <th>x6</th>\n",
              "      <th>yestimated</th>\n",
              "    </tr>\n",
              "  </thead>\n",
              "  <tbody>\n",
              "    <tr>\n",
              "      <th>0</th>\n",
              "      <td>1.914825</td>\n",
              "      <td>-1.380503</td>\n",
              "      <td>-3.609674</td>\n",
              "      <td>4.236011</td>\n",
              "      <td>-5.158681</td>\n",
              "      <td>5.712978</td>\n",
              "      <td>0</td>\n",
              "    </tr>\n",
              "    <tr>\n",
              "      <th>1</th>\n",
              "      <td>1.356415</td>\n",
              "      <td>9.767893</td>\n",
              "      <td>7.263659</td>\n",
              "      <td>8.750819</td>\n",
              "      <td>5.568930</td>\n",
              "      <td>-6.039122</td>\n",
              "      <td>2</td>\n",
              "    </tr>\n",
              "    <tr>\n",
              "      <th>2</th>\n",
              "      <td>1.185186</td>\n",
              "      <td>11.528344</td>\n",
              "      <td>9.999419</td>\n",
              "      <td>7.890027</td>\n",
              "      <td>7.308210</td>\n",
              "      <td>-8.899397</td>\n",
              "      <td>2</td>\n",
              "    </tr>\n",
              "    <tr>\n",
              "      <th>3</th>\n",
              "      <td>-1.739155</td>\n",
              "      <td>12.648965</td>\n",
              "      <td>7.965588</td>\n",
              "      <td>7.850296</td>\n",
              "      <td>10.235743</td>\n",
              "      <td>-10.175542</td>\n",
              "      <td>2</td>\n",
              "    </tr>\n",
              "    <tr>\n",
              "      <th>4</th>\n",
              "      <td>7.890985</td>\n",
              "      <td>-3.210880</td>\n",
              "      <td>-7.672016</td>\n",
              "      <td>2.438106</td>\n",
              "      <td>3.310904</td>\n",
              "      <td>-3.308334</td>\n",
              "      <td>0</td>\n",
              "    </tr>\n",
              "    <tr>\n",
              "      <th>...</th>\n",
              "      <td>...</td>\n",
              "      <td>...</td>\n",
              "      <td>...</td>\n",
              "      <td>...</td>\n",
              "      <td>...</td>\n",
              "      <td>...</td>\n",
              "      <td>...</td>\n",
              "    </tr>\n",
              "    <tr>\n",
              "      <th>1019</th>\n",
              "      <td>3.685106</td>\n",
              "      <td>-1.715503</td>\n",
              "      <td>-5.674443</td>\n",
              "      <td>6.510551</td>\n",
              "      <td>-0.121862</td>\n",
              "      <td>-6.166649</td>\n",
              "      <td>0</td>\n",
              "    </tr>\n",
              "    <tr>\n",
              "      <th>1020</th>\n",
              "      <td>-7.014173</td>\n",
              "      <td>-9.697874</td>\n",
              "      <td>4.093272</td>\n",
              "      <td>-0.590262</td>\n",
              "      <td>-9.882245</td>\n",
              "      <td>2.339336</td>\n",
              "      <td>1</td>\n",
              "    </tr>\n",
              "    <tr>\n",
              "      <th>1021</th>\n",
              "      <td>-2.993762</td>\n",
              "      <td>7.528182</td>\n",
              "      <td>7.877165</td>\n",
              "      <td>8.895835</td>\n",
              "      <td>9.318544</td>\n",
              "      <td>-7.445100</td>\n",
              "      <td>2</td>\n",
              "    </tr>\n",
              "    <tr>\n",
              "      <th>1022</th>\n",
              "      <td>4.576644</td>\n",
              "      <td>-1.720788</td>\n",
              "      <td>-6.581909</td>\n",
              "      <td>4.745839</td>\n",
              "      <td>1.497980</td>\n",
              "      <td>-4.828975</td>\n",
              "      <td>0</td>\n",
              "    </tr>\n",
              "    <tr>\n",
              "      <th>1023</th>\n",
              "      <td>2.616634</td>\n",
              "      <td>0.274593</td>\n",
              "      <td>-5.521864</td>\n",
              "      <td>9.582110</td>\n",
              "      <td>0.878266</td>\n",
              "      <td>-8.274990</td>\n",
              "      <td>0</td>\n",
              "    </tr>\n",
              "  </tbody>\n",
              "</table>\n",
              "<p>1024 rows × 7 columns</p>\n",
              "</div>\n",
              "      <button class=\"colab-df-convert\" onclick=\"convertToInteractive('df-c5116bd6-a697-4a8f-951d-dd545da1b38b')\"\n",
              "              title=\"Convert this dataframe to an interactive table.\"\n",
              "              style=\"display:none;\">\n",
              "        \n",
              "  <svg xmlns=\"http://www.w3.org/2000/svg\" height=\"24px\"viewBox=\"0 0 24 24\"\n",
              "       width=\"24px\">\n",
              "    <path d=\"M0 0h24v24H0V0z\" fill=\"none\"/>\n",
              "    <path d=\"M18.56 5.44l.94 2.06.94-2.06 2.06-.94-2.06-.94-.94-2.06-.94 2.06-2.06.94zm-11 1L8.5 8.5l.94-2.06 2.06-.94-2.06-.94L8.5 2.5l-.94 2.06-2.06.94zm10 10l.94 2.06.94-2.06 2.06-.94-2.06-.94-.94-2.06-.94 2.06-2.06.94z\"/><path d=\"M17.41 7.96l-1.37-1.37c-.4-.4-.92-.59-1.43-.59-.52 0-1.04.2-1.43.59L10.3 9.45l-7.72 7.72c-.78.78-.78 2.05 0 2.83L4 21.41c.39.39.9.59 1.41.59.51 0 1.02-.2 1.41-.59l7.78-7.78 2.81-2.81c.8-.78.8-2.07 0-2.86zM5.41 20L4 18.59l7.72-7.72 1.47 1.35L5.41 20z\"/>\n",
              "  </svg>\n",
              "      </button>\n",
              "      \n",
              "  <style>\n",
              "    .colab-df-container {\n",
              "      display:flex;\n",
              "      flex-wrap:wrap;\n",
              "      gap: 12px;\n",
              "    }\n",
              "\n",
              "    .colab-df-convert {\n",
              "      background-color: #E8F0FE;\n",
              "      border: none;\n",
              "      border-radius: 50%;\n",
              "      cursor: pointer;\n",
              "      display: none;\n",
              "      fill: #1967D2;\n",
              "      height: 32px;\n",
              "      padding: 0 0 0 0;\n",
              "      width: 32px;\n",
              "    }\n",
              "\n",
              "    .colab-df-convert:hover {\n",
              "      background-color: #E2EBFA;\n",
              "      box-shadow: 0px 1px 2px rgba(60, 64, 67, 0.3), 0px 1px 3px 1px rgba(60, 64, 67, 0.15);\n",
              "      fill: #174EA6;\n",
              "    }\n",
              "\n",
              "    [theme=dark] .colab-df-convert {\n",
              "      background-color: #3B4455;\n",
              "      fill: #D2E3FC;\n",
              "    }\n",
              "\n",
              "    [theme=dark] .colab-df-convert:hover {\n",
              "      background-color: #434B5C;\n",
              "      box-shadow: 0px 1px 3px 1px rgba(0, 0, 0, 0.15);\n",
              "      filter: drop-shadow(0px 1px 2px rgba(0, 0, 0, 0.3));\n",
              "      fill: #FFFFFF;\n",
              "    }\n",
              "  </style>\n",
              "\n",
              "      <script>\n",
              "        const buttonEl =\n",
              "          document.querySelector('#df-c5116bd6-a697-4a8f-951d-dd545da1b38b button.colab-df-convert');\n",
              "        buttonEl.style.display =\n",
              "          google.colab.kernel.accessAllowed ? 'block' : 'none';\n",
              "\n",
              "        async function convertToInteractive(key) {\n",
              "          const element = document.querySelector('#df-c5116bd6-a697-4a8f-951d-dd545da1b38b');\n",
              "          const dataTable =\n",
              "            await google.colab.kernel.invokeFunction('convertToInteractive',\n",
              "                                                     [key], {});\n",
              "          if (!dataTable) return;\n",
              "\n",
              "          const docLinkHtml = 'Like what you see? Visit the ' +\n",
              "            '<a target=\"_blank\" href=https://colab.research.google.com/notebooks/data_table.ipynb>data table notebook</a>'\n",
              "            + ' to learn more about interactive tables.';\n",
              "          element.innerHTML = '';\n",
              "          dataTable['output_type'] = 'display_data';\n",
              "          await google.colab.output.renderOutput(dataTable, element);\n",
              "          const docLink = document.createElement('div');\n",
              "          docLink.innerHTML = docLinkHtml;\n",
              "          element.appendChild(docLink);\n",
              "        }\n",
              "      </script>\n",
              "    </div>\n",
              "  </div>\n",
              "  "
            ],
            "text/plain": [
              "            x1         x2        x3        x4         x5         x6  \\\n",
              "0     1.914825  -1.380503 -3.609674  4.236011  -5.158681   5.712978   \n",
              "1     1.356415   9.767893  7.263659  8.750819   5.568930  -6.039122   \n",
              "2     1.185186  11.528344  9.999419  7.890027   7.308210  -8.899397   \n",
              "3    -1.739155  12.648965  7.965588  7.850296  10.235743 -10.175542   \n",
              "4     7.890985  -3.210880 -7.672016  2.438106   3.310904  -3.308334   \n",
              "...        ...        ...       ...       ...        ...        ...   \n",
              "1019  3.685106  -1.715503 -5.674443  6.510551  -0.121862  -6.166649   \n",
              "1020 -7.014173  -9.697874  4.093272 -0.590262  -9.882245   2.339336   \n",
              "1021 -2.993762   7.528182  7.877165  8.895835   9.318544  -7.445100   \n",
              "1022  4.576644  -1.720788 -6.581909  4.745839   1.497980  -4.828975   \n",
              "1023  2.616634   0.274593 -5.521864  9.582110   0.878266  -8.274990   \n",
              "\n",
              "      yestimated  \n",
              "0              0  \n",
              "1              2  \n",
              "2              2  \n",
              "3              2  \n",
              "4              0  \n",
              "...          ...  \n",
              "1019           0  \n",
              "1020           1  \n",
              "1021           2  \n",
              "1022           0  \n",
              "1023           0  \n",
              "\n",
              "[1024 rows x 7 columns]"
            ]
          },
          "execution_count": 107,
          "metadata": {},
          "output_type": "execute_result"
        }
      ],
      "source": [
        "# Add a new column to the dataset with the cluster information\n",
        "df['yestimated'] = yestimated\n",
        "df "
      ]
    },
    {
      "cell_type": "code",
      "execution_count": null,
      "metadata": {
        "colab": {
          "base_uri": "https://localhost:8080/"
        },
        "id": "yRpVjlY7OsLv",
        "outputId": "370eea4b-c1fd-4a8a-ab48-2bc21cd6b3f2"
      },
      "outputs": [
        {
          "data": {
            "text/plain": [
              "array([0, 2, 1], dtype=int32)"
            ]
          },
          "execution_count": 108,
          "metadata": {},
          "output_type": "execute_result"
        }
      ],
      "source": [
        "# Label of the estimated clusters\n",
        "df.yestimated.unique()"
      ]
    },
    {
      "cell_type": "code",
      "execution_count": null,
      "metadata": {
        "colab": {
          "base_uri": "https://localhost:8080/"
        },
        "id": "XiL_DVNzOsLv",
        "outputId": "050d1e81-acf3-490b-82b7-8aba8fcb9aa1"
      },
      "outputs": [
        {
          "data": {
            "text/plain": [
              "array([[ 1.85043266, -1.34592151, -2.11883656,  4.5718429 , -0.79519547,\n",
              "        -0.55114018],\n",
              "       [-8.3650671 , -9.59550917,  7.40711607,  3.77249056, -9.44226128,\n",
              "         2.67666451],\n",
              "       [-0.44229417,  9.13121533,  7.61409814,  7.22984721,  8.13001382,\n",
              "        -7.6264221 ]])"
            ]
          },
          "execution_count": 109,
          "metadata": {},
          "output_type": "execute_result"
        }
      ],
      "source": [
        "# Cluster centroides\n",
        "km.cluster_centers_"
      ]
    },
    {
      "cell_type": "code",
      "execution_count": null,
      "metadata": {
        "colab": {
          "base_uri": "https://localhost:8080/"
        },
        "id": "vDYKLNP6OsLw",
        "outputId": "87893d16-396a-4f74-bb79-39b24afb9530"
      },
      "outputs": [
        {
          "data": {
            "text/plain": [
              "44295.1263266536"
            ]
          },
          "execution_count": 110,
          "metadata": {},
          "output_type": "execute_result"
        }
      ],
      "source": [
        "# Sum of squared error (sse) of the final model\n",
        "km.inertia_"
      ]
    },
    {
      "cell_type": "code",
      "execution_count": null,
      "metadata": {
        "colab": {
          "base_uri": "https://localhost:8080/"
        },
        "id": "aLcf5IF9SFNp",
        "outputId": "8e8cd997-a19d-48c1-ee49-11aa9ac6904d"
      },
      "outputs": [
        {
          "data": {
            "text/plain": [
              "18"
            ]
          },
          "execution_count": 111,
          "metadata": {},
          "output_type": "execute_result"
        }
      ],
      "source": [
        "# The number of iterations required to converge\n",
        "km.n_iter_"
      ]
    },
    {
      "cell_type": "markdown",
      "metadata": {
        "id": "pzuZx9kbOsLw"
      },
      "source": [
        "<span style='color:Blue'> **Important remarks**  </span>\n",
        "\n",
        "- The number of each cluster is randomly assigned\n",
        "- The order of the number in each cluster is random"
      ]
    },
    {
      "cell_type": "markdown",
      "metadata": {
        "id": "bIl3PK2uOsLw"
      },
      "source": [
        "# Plot estimated clusters\n",
        "\n",
        "Plot estimated clusters"
      ]
    },
    {
      "cell_type": "code",
      "execution_count": null,
      "metadata": {
        "colab": {
          "base_uri": "https://localhost:8080/",
          "height": 295
        },
        "id": "GXd9U5YQOsLx",
        "outputId": "65b48441-2a08-42ae-bddd-fdbe807a7e09"
      },
      "outputs": [
        {
          "data": {
            "image/png": "[encoded data removed]",
            "text/plain": [
              "<Figure size 432x288 with 1 Axes>"
            ]
          },
          "metadata": {
            "needs_background": "light"
          },
          "output_type": "display_data"
        }
      ],
      "source": [
        "# Get a dataframe with the data of each clsuter\n",
        "df1 = df[df.yestimated == 0]\n",
        "df2 = df[df.yestimated == 1]\n",
        "df3 = df[df.yestimated == 2]\n",
        "\n",
        "# Scatter plot of each cluster\n",
        "plt.scatter(df1.x1, df1.x2, label = \"Cluster 0\", c=\"r\", marker = \"o\", s=32, alpha = 0.3)\n",
        "plt.scatter(df2.x1, df2.x2, label = \"Cluster 1\", c=\"g\", marker = \"o\", s=32, alpha = 0.3)\n",
        "plt.scatter(df3.x1, df3.x2, label = \"Cluster 2\", c=\"b\", marker = \"o\", s=32, alpha = 0.3)\n",
        "\n",
        "# Plot centroides\n",
        "plt.scatter(km.cluster_centers_[:,0],km.cluster_centers_[:,1], color = \"black\", marker = '*', label = \"Centroides\")\n",
        "\n",
        "plt.title(\"Scatter plot (for each cluster)\")\n",
        "plt.xlabel(\"x1\")\n",
        "plt.ylabel(\"x2\")\n",
        "plt.legend()\n",
        "plt.show()"
      ]
    },
    {
      "cell_type": "markdown",
      "metadata": {
        "id": "ttmc-60MOsLx"
      },
      "source": [
        "# Selecting K: elbow plot\n",
        "\n",
        "Check the acurracy of the model using k-fold cross-validation"
      ]
    },
    {
      "cell_type": "code",
      "execution_count": null,
      "metadata": {
        "id": "qAKTBLwIOsLx"
      },
      "outputs": [],
      "source": [
        "# Intialize a list to hold sum of squared error (sse)\n",
        "\n",
        "vec = []\n",
        "for i in range(1, 8):\n",
        "    km = KMeans(n_clusters=i, n_init=\"auto\")\n",
        "\n",
        "    yestimated = km.fit_predict(df)\n",
        "\n",
        "    vec.append(km.inertia_)\n",
        "\n",
        "sns.lineplot(data=vec)\n",
        "# For each k"
      ]
    },
    {
      "cell_type": "markdown",
      "metadata": {
        "id": "IXHO9FsVS4xb"
      },
      "source": [
        "Choose the k after which the sse is minimally reduced\n"
      ]
    },
    {
      "cell_type": "markdown",
      "metadata": {
        "id": "OfkQlxnKOsLy"
      },
      "source": [
        "<span style='color:Blue'> **Important remarks**  </span>\n",
        "\n",
        "- Observations?\n",
        "\n"
      ]
    },
    {
      "cell_type": "markdown",
      "metadata": {
        "id": "6GuKeFQ-amFT"
      },
      "source": [
        "# Final remarks\n",
        "\n",
        "- K-Means clustering algorithm is perhaps the simplest and most popular unsupervised learning algorithm\n",
        "\n",
        "- The number of clusters have to be defined by the user (i.e., by you ¡¡)\n",
        "\n",
        "- The number assigned to each cluster is randomly assigned from set 0, 1, 2\n",
        "\n",
        "- If there is no information about the number of clusters k, then use the elbow plot method to choose the best number of clusters k\n",
        "\n",
        "- The order of the number in each cluster is random\n",
        "\n",
        "- The **sklearn** package provides the tools for data processing suchs as k-means"
      ]
    },
    {
      "cell_type": "markdown",
      "metadata": {
        "id": "kB0dvfzejdBM"
      },
      "source": [
        "# Activity: \n",
        "\n",
        "1. Repeat this analysis using other pair of features, e.g., x3 and x6\n",
        "\n",
        "2. Repeat this analysis using all six features, e.g., x1, x2,..., x6\n",
        "\n",
        "3. Provide conclusions"
      ]
    },
    {
      "cell_type": "markdown",
      "metadata": {
        "id": "9uYpbxmyiii0"
      },
      "source": [
        "# Activity: work with the iris dataset\n",
        "\n",
        "    \n",
        "1. Do clustering with the iris flower dataset to form clusters using as features the four features\n",
        "\n",
        "2. Do clustering with the iris flower dataset to form clusters using as features the two petal measurements: Drop out the other two features\n",
        "\n",
        "3. Do clustering with the iris flower dataset to form clusters using as features the two sepal measurements: Drop out the other two features\n",
        "\n",
        "4. Which one provides the better grouping? Solve this using programming skills, e.g., compute performance metrics\n"
      ]
    },
    {
      "cell_type": "code",
      "execution_count": null,
      "metadata": {
        "colab": {
          "base_uri": "https://localhost:8080/",
          "height": 424
        },
        "id": "5Pnm8TMDNArp",
        "outputId": "75e95621-7d2e-41ce-95d5-fd2791e19f7a"
      },
      "outputs": [
        {
          "data": {
            "text/html": [
              "\n",
              "  <div id=\"df-5dc83f90-f198-41a9-aaa0-3788fc5f8f83\">\n",
              "    <div class=\"colab-df-container\">\n",
              "      <div>\n",
              "<style scoped>\n",
              "    .dataframe tbody tr th:only-of-type {\n",
              "        vertical-align: middle;\n",
              "    }\n",
              "\n",
              "    .dataframe tbody tr th {\n",
              "        vertical-align: top;\n",
              "    }\n",
              "\n",
              "    .dataframe thead th {\n",
              "        text-align: right;\n",
              "    }\n",
              "</style>\n",
              "<table border=\"1\" class=\"dataframe\">\n",
              "  <thead>\n",
              "    <tr style=\"text-align: right;\">\n",
              "      <th></th>\n",
              "      <th>Largo_Sepalo</th>\n",
              "      <th>Ancho_Sepalo</th>\n",
              "      <th>Largo_Petalo</th>\n",
              "      <th>Ancho_Petalo</th>\n",
              "      <th>Especie</th>\n",
              "    </tr>\n",
              "  </thead>\n",
              "  <tbody>\n",
              "    <tr>\n",
              "      <th>0</th>\n",
              "      <td>5.1</td>\n",
              "      <td>3.5</td>\n",
              "      <td>1.4</td>\n",
              "      <td>0.2</td>\n",
              "      <td>Iris-setosa</td>\n",
              "    </tr>\n",
              "    <tr>\n",
              "      <th>1</th>\n",
              "      <td>4.9</td>\n",
              "      <td>3.0</td>\n",
              "      <td>1.4</td>\n",
              "      <td>0.2</td>\n",
              "      <td>Iris-setosa</td>\n",
              "    </tr>\n",
              "    <tr>\n",
              "      <th>2</th>\n",
              "      <td>4.7</td>\n",
              "      <td>3.2</td>\n",
              "      <td>1.3</td>\n",
              "      <td>0.2</td>\n",
              "      <td>Iris-setosa</td>\n",
              "    </tr>\n",
              "    <tr>\n",
              "      <th>3</th>\n",
              "      <td>4.6</td>\n",
              "      <td>3.1</td>\n",
              "      <td>1.5</td>\n",
              "      <td>0.2</td>\n",
              "      <td>Iris-setosa</td>\n",
              "    </tr>\n",
              "    <tr>\n",
              "      <th>4</th>\n",
              "      <td>5.0</td>\n",
              "      <td>3.6</td>\n",
              "      <td>1.4</td>\n",
              "      <td>0.2</td>\n",
              "      <td>Iris-setosa</td>\n",
              "    </tr>\n",
              "    <tr>\n",
              "      <th>...</th>\n",
              "      <td>...</td>\n",
              "      <td>...</td>\n",
              "      <td>...</td>\n",
              "      <td>...</td>\n",
              "      <td>...</td>\n",
              "    </tr>\n",
              "    <tr>\n",
              "      <th>145</th>\n",
              "      <td>6.7</td>\n",
              "      <td>3.0</td>\n",
              "      <td>5.2</td>\n",
              "      <td>2.3</td>\n",
              "      <td>Iris-virginica</td>\n",
              "    </tr>\n",
              "    <tr>\n",
              "      <th>146</th>\n",
              "      <td>6.3</td>\n",
              "      <td>2.5</td>\n",
              "      <td>5.0</td>\n",
              "      <td>1.9</td>\n",
              "      <td>Iris-virginica</td>\n",
              "    </tr>\n",
              "    <tr>\n",
              "      <th>147</th>\n",
              "      <td>6.5</td>\n",
              "      <td>3.0</td>\n",
              "      <td>5.2</td>\n",
              "      <td>2.0</td>\n",
              "      <td>Iris-virginica</td>\n",
              "    </tr>\n",
              "    <tr>\n",
              "      <th>148</th>\n",
              "      <td>6.2</td>\n",
              "      <td>3.4</td>\n",
              "      <td>5.4</td>\n",
              "      <td>2.3</td>\n",
              "      <td>Iris-virginica</td>\n",
              "    </tr>\n",
              "    <tr>\n",
              "      <th>149</th>\n",
              "      <td>5.9</td>\n",
              "      <td>3.0</td>\n",
              "      <td>5.1</td>\n",
              "      <td>1.8</td>\n",
              "      <td>Iris-virginica</td>\n",
              "    </tr>\n",
              "  </tbody>\n",
              "</table>\n",
              "<p>150 rows × 5 columns</p>\n",
              "</div>\n",
              "      <button class=\"colab-df-convert\" onclick=\"convertToInteractive('df-5dc83f90-f198-41a9-aaa0-3788fc5f8f83')\"\n",
              "              title=\"Convert this dataframe to an interactive table.\"\n",
              "              style=\"display:none;\">\n",
              "        \n",
              "  <svg xmlns=\"http://www.w3.org/2000/svg\" height=\"24px\"viewBox=\"0 0 24 24\"\n",
              "       width=\"24px\">\n",
              "    <path d=\"M0 0h24v24H0V0z\" fill=\"none\"/>\n",
              "    <path d=\"M18.56 5.44l.94 2.06.94-2.06 2.06-.94-2.06-.94-.94-2.06-.94 2.06-2.06.94zm-11 1L8.5 8.5l.94-2.06 2.06-.94-2.06-.94L8.5 2.5l-.94 2.06-2.06.94zm10 10l.94 2.06.94-2.06 2.06-.94-2.06-.94-.94-2.06-.94 2.06-2.06.94z\"/><path d=\"M17.41 7.96l-1.37-1.37c-.4-.4-.92-.59-1.43-.59-.52 0-1.04.2-1.43.59L10.3 9.45l-7.72 7.72c-.78.78-.78 2.05 0 2.83L4 21.41c.39.39.9.59 1.41.59.51 0 1.02-.2 1.41-.59l7.78-7.78 2.81-2.81c.8-.78.8-2.07 0-2.86zM5.41 20L4 18.59l7.72-7.72 1.47 1.35L5.41 20z\"/>\n",
              "  </svg>\n",
              "      </button>\n",
              "      \n",
              "  <style>\n",
              "    .colab-df-container {\n",
              "      display:flex;\n",
              "      flex-wrap:wrap;\n",
              "      gap: 12px;\n",
              "    }\n",
              "\n",
              "    .colab-df-convert {\n",
              "      background-color: #E8F0FE;\n",
              "      border: none;\n",
              "      border-radius: 50%;\n",
              "      cursor: pointer;\n",
              "      display: none;\n",
              "      fill: #1967D2;\n",
              "      height: 32px;\n",
              "      padding: 0 0 0 0;\n",
              "      width: 32px;\n",
              "    }\n",
              "\n",
              "    .colab-df-convert:hover {\n",
              "      background-color: #E2EBFA;\n",
              "      box-shadow: 0px 1px 2px rgba(60, 64, 67, 0.3), 0px 1px 3px 1px rgba(60, 64, 67, 0.15);\n",
              "      fill: #174EA6;\n",
              "    }\n",
              "\n",
              "    [theme=dark] .colab-df-convert {\n",
              "      background-color: #3B4455;\n",
              "      fill: #D2E3FC;\n",
              "    }\n",
              "\n",
              "    [theme=dark] .colab-df-convert:hover {\n",
              "      background-color: #434B5C;\n",
              "      box-shadow: 0px 1px 3px 1px rgba(0, 0, 0, 0.15);\n",
              "      filter: drop-shadow(0px 1px 2px rgba(0, 0, 0, 0.3));\n",
              "      fill: #FFFFFF;\n",
              "    }\n",
              "  </style>\n",
              "\n",
              "      <script>\n",
              "        const buttonEl =\n",
              "          document.querySelector('#df-5dc83f90-f198-41a9-aaa0-3788fc5f8f83 button.colab-df-convert');\n",
              "        buttonEl.style.display =\n",
              "          google.colab.kernel.accessAllowed ? 'block' : 'none';\n",
              "\n",
              "        async function convertToInteractive(key) {\n",
              "          const element = document.querySelector('#df-5dc83f90-f198-41a9-aaa0-3788fc5f8f83');\n",
              "          const dataTable =\n",
              "            await google.colab.kernel.invokeFunction('convertToInteractive',\n",
              "                                                     [key], {});\n",
              "          if (!dataTable) return;\n",
              "\n",
              "          const docLinkHtml = 'Like what you see? Visit the ' +\n",
              "            '<a target=\"_blank\" href=https://colab.research.google.com/notebooks/data_table.ipynb>data table notebook</a>'\n",
              "            + ' to learn more about interactive tables.';\n",
              "          element.innerHTML = '';\n",
              "          dataTable['output_type'] = 'display_data';\n",
              "          await google.colab.output.renderOutput(dataTable, element);\n",
              "          const docLink = document.createElement('div');\n",
              "          docLink.innerHTML = docLinkHtml;\n",
              "          element.appendChild(docLink);\n",
              "        }\n",
              "      </script>\n",
              "    </div>\n",
              "  </div>\n",
              "  "
            ],
            "text/plain": [
              "     Largo_Sepalo  Ancho_Sepalo  Largo_Petalo  Ancho_Petalo         Especie\n",
              "0             5.1           3.5           1.4           0.2     Iris-setosa\n",
              "1             4.9           3.0           1.4           0.2     Iris-setosa\n",
              "2             4.7           3.2           1.3           0.2     Iris-setosa\n",
              "3             4.6           3.1           1.5           0.2     Iris-setosa\n",
              "4             5.0           3.6           1.4           0.2     Iris-setosa\n",
              "..            ...           ...           ...           ...             ...\n",
              "145           6.7           3.0           5.2           2.3  Iris-virginica\n",
              "146           6.3           2.5           5.0           1.9  Iris-virginica\n",
              "147           6.5           3.0           5.2           2.0  Iris-virginica\n",
              "148           6.2           3.4           5.4           2.3  Iris-virginica\n",
              "149           5.9           3.0           5.1           1.8  Iris-virginica\n",
              "\n",
              "[150 rows x 5 columns]"
            ]
          },
          "execution_count": 204,
          "metadata": {},
          "output_type": "execute_result"
        }
      ],
      "source": [
        "url = \"/content/drive/MyDrive/iris.csv\"\n",
        "\n",
        "dfI = pd.read_csv(url, header = None)\n",
        "dfI = dfI.rename(columns={0: \"Largo_Sepalo\"})\n",
        "dfI = dfI.rename(columns={1: \"Ancho_Sepalo\"})\n",
        "dfI = dfI.rename(columns={2: \"Largo_Petalo\"})\n",
        "dfI = dfI.rename(columns={3: \"Ancho_Petalo\"})\n",
        "dfI = dfI.rename(columns={4: \"Especie\"})\n",
        "dfI"
      ]
    },
    {
      "cell_type": "code",
      "execution_count": null,
      "metadata": {
        "colab": {
          "base_uri": "https://localhost:8080/"
        },
        "id": "Uvt6AaTFSRnW",
        "outputId": "92183aee-5267-46c9-c0e0-022b1f7b48e1"
      },
      "outputs": [
        {
          "data": {
            "text/plain": [
              "Index(['Largo_Sepalo', 'Ancho_Sepalo', 'Largo_Petalo', 'Ancho_Petalo',\n",
              "       'Especie'],\n",
              "      dtype='object')"
            ]
          },
          "execution_count": 205,
          "metadata": {},
          "output_type": "execute_result"
        }
      ],
      "source": [
        "dfI.columns"
      ]
    },
    {
      "cell_type": "code",
      "execution_count": null,
      "metadata": {
        "colab": {
          "base_uri": "https://localhost:8080/"
        },
        "id": "3DbwPNMwNtpE",
        "outputId": "b3cc49fb-11eb-409b-eb0c-052d418b8438"
      },
      "outputs": [
        {
          "data": {
            "text/plain": [
              "(150, 5)"
            ]
          },
          "execution_count": 206,
          "metadata": {},
          "output_type": "execute_result"
        }
      ],
      "source": [
        "# get the number of observations and variables\n",
        "dfI.shape"
      ]
    },
    {
      "cell_type": "code",
      "execution_count": null,
      "metadata": {
        "colab": {
          "base_uri": "https://localhost:8080/",
          "height": 424
        },
        "id": "bhxQQIGBN4l3",
        "outputId": "e3e9d46b-e249-4580-abc5-ab89e6d0995e"
      },
      "outputs": [
        {
          "data": {
            "text/html": [
              "\n",
              "  <div id=\"df-af942b98-f954-40dc-8b87-3f8cdb513f4a\">\n",
              "    <div class=\"colab-df-container\">\n",
              "      <div>\n",
              "<style scoped>\n",
              "    .dataframe tbody tr th:only-of-type {\n",
              "        vertical-align: middle;\n",
              "    }\n",
              "\n",
              "    .dataframe tbody tr th {\n",
              "        vertical-align: top;\n",
              "    }\n",
              "\n",
              "    .dataframe thead th {\n",
              "        text-align: right;\n",
              "    }\n",
              "</style>\n",
              "<table border=\"1\" class=\"dataframe\">\n",
              "  <thead>\n",
              "    <tr style=\"text-align: right;\">\n",
              "      <th></th>\n",
              "      <th>Largo_Sepalo</th>\n",
              "      <th>Ancho_Sepalo</th>\n",
              "      <th>Largo_Petalo</th>\n",
              "      <th>Ancho_Petalo</th>\n",
              "      <th>Especie</th>\n",
              "    </tr>\n",
              "  </thead>\n",
              "  <tbody>\n",
              "    <tr>\n",
              "      <th>0</th>\n",
              "      <td>5.1</td>\n",
              "      <td>3.5</td>\n",
              "      <td>1.4</td>\n",
              "      <td>0.2</td>\n",
              "      <td>Iris-setosa</td>\n",
              "    </tr>\n",
              "    <tr>\n",
              "      <th>1</th>\n",
              "      <td>4.9</td>\n",
              "      <td>3.0</td>\n",
              "      <td>1.4</td>\n",
              "      <td>0.2</td>\n",
              "      <td>Iris-setosa</td>\n",
              "    </tr>\n",
              "    <tr>\n",
              "      <th>2</th>\n",
              "      <td>4.7</td>\n",
              "      <td>3.2</td>\n",
              "      <td>1.3</td>\n",
              "      <td>0.2</td>\n",
              "      <td>Iris-setosa</td>\n",
              "    </tr>\n",
              "    <tr>\n",
              "      <th>3</th>\n",
              "      <td>4.6</td>\n",
              "      <td>3.1</td>\n",
              "      <td>1.5</td>\n",
              "      <td>0.2</td>\n",
              "      <td>Iris-setosa</td>\n",
              "    </tr>\n",
              "    <tr>\n",
              "      <th>4</th>\n",
              "      <td>5.0</td>\n",
              "      <td>3.6</td>\n",
              "      <td>1.4</td>\n",
              "      <td>0.2</td>\n",
              "      <td>Iris-setosa</td>\n",
              "    </tr>\n",
              "    <tr>\n",
              "      <th>...</th>\n",
              "      <td>...</td>\n",
              "      <td>...</td>\n",
              "      <td>...</td>\n",
              "      <td>...</td>\n",
              "      <td>...</td>\n",
              "    </tr>\n",
              "    <tr>\n",
              "      <th>145</th>\n",
              "      <td>6.7</td>\n",
              "      <td>3.0</td>\n",
              "      <td>5.2</td>\n",
              "      <td>2.3</td>\n",
              "      <td>Iris-virginica</td>\n",
              "    </tr>\n",
              "    <tr>\n",
              "      <th>146</th>\n",
              "      <td>6.3</td>\n",
              "      <td>2.5</td>\n",
              "      <td>5.0</td>\n",
              "      <td>1.9</td>\n",
              "      <td>Iris-virginica</td>\n",
              "    </tr>\n",
              "    <tr>\n",
              "      <th>147</th>\n",
              "      <td>6.5</td>\n",
              "      <td>3.0</td>\n",
              "      <td>5.2</td>\n",
              "      <td>2.0</td>\n",
              "      <td>Iris-virginica</td>\n",
              "    </tr>\n",
              "    <tr>\n",
              "      <th>148</th>\n",
              "      <td>6.2</td>\n",
              "      <td>3.4</td>\n",
              "      <td>5.4</td>\n",
              "      <td>2.3</td>\n",
              "      <td>Iris-virginica</td>\n",
              "    </tr>\n",
              "    <tr>\n",
              "      <th>149</th>\n",
              "      <td>5.9</td>\n",
              "      <td>3.0</td>\n",
              "      <td>5.1</td>\n",
              "      <td>1.8</td>\n",
              "      <td>Iris-virginica</td>\n",
              "    </tr>\n",
              "  </tbody>\n",
              "</table>\n",
              "<p>150 rows × 5 columns</p>\n",
              "</div>\n",
              "      <button class=\"colab-df-convert\" onclick=\"convertToInteractive('df-af942b98-f954-40dc-8b87-3f8cdb513f4a')\"\n",
              "              title=\"Convert this dataframe to an interactive table.\"\n",
              "              style=\"display:none;\">\n",
              "        \n",
              "  <svg xmlns=\"http://www.w3.org/2000/svg\" height=\"24px\"viewBox=\"0 0 24 24\"\n",
              "       width=\"24px\">\n",
              "    <path d=\"M0 0h24v24H0V0z\" fill=\"none\"/>\n",
              "    <path d=\"M18.56 5.44l.94 2.06.94-2.06 2.06-.94-2.06-.94-.94-2.06-.94 2.06-2.06.94zm-11 1L8.5 8.5l.94-2.06 2.06-.94-2.06-.94L8.5 2.5l-.94 2.06-2.06.94zm10 10l.94 2.06.94-2.06 2.06-.94-2.06-.94-.94-2.06-.94 2.06-2.06.94z\"/><path d=\"M17.41 7.96l-1.37-1.37c-.4-.4-.92-.59-1.43-.59-.52 0-1.04.2-1.43.59L10.3 9.45l-7.72 7.72c-.78.78-.78 2.05 0 2.83L4 21.41c.39.39.9.59 1.41.59.51 0 1.02-.2 1.41-.59l7.78-7.78 2.81-2.81c.8-.78.8-2.07 0-2.86zM5.41 20L4 18.59l7.72-7.72 1.47 1.35L5.41 20z\"/>\n",
              "  </svg>\n",
              "      </button>\n",
              "      \n",
              "  <style>\n",
              "    .colab-df-container {\n",
              "      display:flex;\n",
              "      flex-wrap:wrap;\n",
              "      gap: 12px;\n",
              "    }\n",
              "\n",
              "    .colab-df-convert {\n",
              "      background-color: #E8F0FE;\n",
              "      border: none;\n",
              "      border-radius: 50%;\n",
              "      cursor: pointer;\n",
              "      display: none;\n",
              "      fill: #1967D2;\n",
              "      height: 32px;\n",
              "      padding: 0 0 0 0;\n",
              "      width: 32px;\n",
              "    }\n",
              "\n",
              "    .colab-df-convert:hover {\n",
              "      background-color: #E2EBFA;\n",
              "      box-shadow: 0px 1px 2px rgba(60, 64, 67, 0.3), 0px 1px 3px 1px rgba(60, 64, 67, 0.15);\n",
              "      fill: #174EA6;\n",
              "    }\n",
              "\n",
              "    [theme=dark] .colab-df-convert {\n",
              "      background-color: #3B4455;\n",
              "      fill: #D2E3FC;\n",
              "    }\n",
              "\n",
              "    [theme=dark] .colab-df-convert:hover {\n",
              "      background-color: #434B5C;\n",
              "      box-shadow: 0px 1px 3px 1px rgba(0, 0, 0, 0.15);\n",
              "      filter: drop-shadow(0px 1px 2px rgba(0, 0, 0, 0.3));\n",
              "      fill: #FFFFFF;\n",
              "    }\n",
              "  </style>\n",
              "\n",
              "      <script>\n",
              "        const buttonEl =\n",
              "          document.querySelector('#df-af942b98-f954-40dc-8b87-3f8cdb513f4a button.colab-df-convert');\n",
              "        buttonEl.style.display =\n",
              "          google.colab.kernel.accessAllowed ? 'block' : 'none';\n",
              "\n",
              "        async function convertToInteractive(key) {\n",
              "          const element = document.querySelector('#df-af942b98-f954-40dc-8b87-3f8cdb513f4a');\n",
              "          const dataTable =\n",
              "            await google.colab.kernel.invokeFunction('convertToInteractive',\n",
              "                                                     [key], {});\n",
              "          if (!dataTable) return;\n",
              "\n",
              "          const docLinkHtml = 'Like what you see? Visit the ' +\n",
              "            '<a target=\"_blank\" href=https://colab.research.google.com/notebooks/data_table.ipynb>data table notebook</a>'\n",
              "            + ' to learn more about interactive tables.';\n",
              "          element.innerHTML = '';\n",
              "          dataTable['output_type'] = 'display_data';\n",
              "          await google.colab.output.renderOutput(dataTable, element);\n",
              "          const docLink = document.createElement('div');\n",
              "          docLink.innerHTML = docLinkHtml;\n",
              "          element.appendChild(docLink);\n",
              "        }\n",
              "      </script>\n",
              "    </div>\n",
              "  </div>\n",
              "  "
            ],
            "text/plain": [
              "     Largo_Sepalo  Ancho_Sepalo  Largo_Petalo  Ancho_Petalo         Especie\n",
              "0             5.1           3.5           1.4           0.2     Iris-setosa\n",
              "1             4.9           3.0           1.4           0.2     Iris-setosa\n",
              "2             4.7           3.2           1.3           0.2     Iris-setosa\n",
              "3             4.6           3.1           1.5           0.2     Iris-setosa\n",
              "4             5.0           3.6           1.4           0.2     Iris-setosa\n",
              "..            ...           ...           ...           ...             ...\n",
              "145           6.7           3.0           5.2           2.3  Iris-virginica\n",
              "146           6.3           2.5           5.0           1.9  Iris-virginica\n",
              "147           6.5           3.0           5.2           2.0  Iris-virginica\n",
              "148           6.2           3.4           5.4           2.3  Iris-virginica\n",
              "149           5.9           3.0           5.1           1.8  Iris-virginica\n",
              "\n",
              "[150 rows x 5 columns]"
            ]
          },
          "execution_count": 207,
          "metadata": {},
          "output_type": "execute_result"
        }
      ],
      "source": [
        "# Drop rows with NaN values if existing\n",
        "dfI = dfI.dropna()\n",
        "\n",
        "# Print the new shape\n",
        "dfI"
      ]
    },
    {
      "cell_type": "code",
      "execution_count": null,
      "metadata": {
        "colab": {
          "base_uri": "https://localhost:8080/",
          "height": 296
        },
        "id": "dIiXDLcTOCt7",
        "outputId": "2ad0b9d2-0a74-45a4-9af0-053de4576b5c"
      },
      "outputs": [
        {
          "data": {
            "image/png": "[encoded data removed]",
            "text/plain": [
              "<Figure size 432x288 with 1 Axes>"
            ]
          },
          "metadata": {
            "needs_background": "light"
          },
          "output_type": "display_data"
        }
      ],
      "source": [
        "# Scatterplot of 0 and 1\n",
        "plt.scatter(dfI.Largo_Sepalo, dfI.Ancho_Sepalo, alpha = .6)\n",
        "plt.xlabel(\"Largo_Sepalo\")\n",
        "plt.ylabel(\"Ancho_Sepalo\")\n",
        "plt.title(\"Sepalos\")\n",
        "plt.show()"
      ]
    },
    {
      "cell_type": "code",
      "execution_count": null,
      "metadata": {
        "colab": {
          "base_uri": "https://localhost:8080/",
          "height": 295
        },
        "id": "2imj2qAkORgA",
        "outputId": "b8d0b5b1-fb10-4f6d-da0f-9c954eeab739"
      },
      "outputs": [
        {
          "data": {
            "image/png": "[encoded data removed]",
            "text/plain": [
              "<Figure size 432x288 with 1 Axes>"
            ]
          },
          "metadata": {
            "needs_background": "light"
          },
          "output_type": "display_data"
        }
      ],
      "source": [
        "# Scatterplot of 0 and 2\n",
        "plt.scatter(dfI.Largo_Petalo, dfI.Ancho_Petalo, alpha = .6)\n",
        "plt.xlabel(\"Largo Petalo\")\n",
        "plt.ylabel(\"Ancho_Petalo\")\n",
        "plt.title(\"Petalos\")\n",
        "plt.show()"
      ]
    }
  ],
  "metadata": {
    "colab": {
      "provenance": []
    },
    "kernelspec": {
      "display_name": "Python 3.9.13 64-bit",
      "language": "python",
      "name": "python3"
    },
    "language_info": {
      "codemirror_mode": {
        "name": "ipython",
        "version": 3
      },
      "file_extension": ".py",
      "mimetype": "text/x-python",
      "name": "python",
      "nbconvert_exporter": "python",
      "pygments_lexer": "ipython3",
      "version": "3.9.13"
    },
    "vscode": {
      "interpreter": {
        "hash": "b0fa6594d8f4cbf19f97940f81e996739fb7646882a419484c72d19e05852a7e"
      }
    }
  },
  "nbformat": 4,
  "nbformat_minor": 0
}
