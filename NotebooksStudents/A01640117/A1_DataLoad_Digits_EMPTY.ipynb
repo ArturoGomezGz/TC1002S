{
  "cells": [
    {
      "cell_type": "markdown",
      "source": [
        "# Dataset Digits"
      ],
      "metadata": {
        "id": "OJNAZAQy3iM0"
      }
    },
    {
      "cell_type": "markdown",
      "source": [
        "# Import packages"
      ],
      "metadata": {
        "id": "1ZlCv7Oc06-u"
      }
    },
    {
      "cell_type": "code",
      "source": [
        "# Import the packages that we will be using\n",
        "import numpy as np                  # For arrays, matrices, and functions to operate on them\n",
        "import matplotlib.pyplot as plt     # For showing plots\n",
        "import pandas as pd                 # For data handling\n"
      ],
      "metadata": {
        "id": "eM5bnHjW05Wt"
      },
      "execution_count": 1,
      "outputs": []
    },
    {
      "cell_type": "markdown",
      "metadata": {
        "id": "HZ9sUIYba7Kb"
      },
      "source": [
        "# Digits data set v1\n",
        "\n",
        "- Data from scikit-learn https://scikit-learn.org/stable/auto_examples/datasets/plot_digits_last_image.html\n",
        "\n",
        "- More details in https://archive.ics.uci.edu/ml/datasets/Pen-Based+Recognition+of+Handwritten+Digits\n"
      ]
    },
    {
      "cell_type": "code",
      "execution_count": 2,
      "metadata": {
        "id": "05EXkOdfa7Kk"
      },
      "outputs": [],
      "source": [
        "# Import the dataset\n",
        "from sklearn.datasets import load_digits\n",
        "\n",
        "# Load the dataset\n",
        "DS = load_digits()\n"
      ]
    },
    {
      "cell_type": "code",
      "source": [
        "# Print keys\n",
        "print(DS.keys())"
      ],
      "metadata": {
        "id": "Xfwrkefo4jyN",
        "colab": {
          "base_uri": "https://localhost:8080/"
        },
        "outputId": "cada755f-d196-4f69-fc4e-0a09a95f9455"
      },
      "execution_count": 3,
      "outputs": [
        {
          "output_type": "stream",
          "name": "stdout",
          "text": [
            "dict_keys(['data', 'target', 'frame', 'feature_names', 'target_names', 'images', 'DESCR'])\n"
          ]
        }
      ]
    },
    {
      "cell_type": "code",
      "source": [
        "# Explore the dataset\n",
        "\n",
        "# Data as vector\n",
        "data_vector = DS.data\n",
        "\n",
        "# Target/Class/Group\n",
        "target = DS.target\n",
        "\n",
        "# Data as matrix\n",
        "data_matrix = DS.images\n",
        "\n",
        "# Name of the variables\n",
        "variable_names = DS.feature_names\n",
        "\n",
        "# Name of the classes/groups\n",
        "class_names = DS.target_names\n"
      ],
      "metadata": {
        "id": "lTxHD0AFN6zZ"
      },
      "execution_count": 4,
      "outputs": []
    },
    {
      "cell_type": "code",
      "source": [
        "# Select one of the observations\n",
        "i = 345\n"
      ],
      "metadata": {
        "id": "x6BvPQA_6Op0"
      },
      "execution_count": 5,
      "outputs": []
    },
    {
      "cell_type": "code",
      "source": [
        "# Show the data vector of the selected observation\n",
        "print(DS.data[i])\n"
      ],
      "metadata": {
        "id": "em_dBXrWH4ZU",
        "colab": {
          "base_uri": "https://localhost:8080/"
        },
        "outputId": "1649423e-b745-481a-cc42-abc09c8f529d"
      },
      "execution_count": 6,
      "outputs": [
        {
          "output_type": "stream",
          "name": "stdout",
          "text": [
            "[ 0.  0. 12. 16. 16. 13.  1.  0.  0.  4. 15.  9. 12. 16.  2.  0.  0.  0.\n",
            "  2.  0. 11. 15.  0.  0.  0.  0.  0. 12. 16.  4.  0.  0.  0.  0.  0.  8.\n",
            " 16. 13.  1.  0.  0.  0.  0.  0.  6. 16.  6.  0.  0.  0.  4.  6.  6. 16.\n",
            "  6.  0.  0.  0. 12. 16. 16.  9.  0.  0.]\n"
          ]
        }
      ]
    },
    {
      "cell_type": "code",
      "execution_count": 7,
      "metadata": {
        "id": "ZtkCd0tYa7LK",
        "colab": {
          "base_uri": "https://localhost:8080/"
        },
        "outputId": "0d2b1441-d22a-4601-98ca-7ec7968d1724"
      },
      "outputs": [
        {
          "output_type": "stream",
          "name": "stdout",
          "text": [
            "[[ 0.  0. 12. 16. 16. 13.  1.  0.]\n",
            " [ 0.  4. 15.  9. 12. 16.  2.  0.]\n",
            " [ 0.  0.  2.  0. 11. 15.  0.  0.]\n",
            " [ 0.  0.  0. 12. 16.  4.  0.  0.]\n",
            " [ 0.  0.  0.  8. 16. 13.  1.  0.]\n",
            " [ 0.  0.  0.  0.  6. 16.  6.  0.]\n",
            " [ 0.  0.  4.  6.  6. 16.  6.  0.]\n",
            " [ 0.  0. 12. 16. 16.  9.  0.  0.]]\n"
          ]
        }
      ],
      "source": [
        "# Show the data matrix of the selected observation\n",
        "print(DS.images[i])\n"
      ]
    },
    {
      "cell_type": "code",
      "execution_count": 8,
      "metadata": {
        "id": "9Uk-CQgXa7LM",
        "colab": {
          "base_uri": "https://localhost:8080/"
        },
        "outputId": "1fdf3bc0-bd02-44d4-8072-dce4beeffa51"
      },
      "outputs": [
        {
          "output_type": "stream",
          "name": "stdout",
          "text": [
            "3\n"
          ]
        }
      ],
      "source": [
        "# Show the number of the selected observation\n",
        "print(DS.target[i])\n",
        "\n"
      ]
    },
    {
      "cell_type": "code",
      "execution_count": 9,
      "metadata": {
        "id": "J4X-jTjwa7LN",
        "colab": {
          "base_uri": "https://localhost:8080/",
          "height": 454
        },
        "outputId": "3dde8b7a-2513-410e-f2db-42ad353abf14"
      },
      "outputs": [
        {
          "output_type": "display_data",
          "data": {
            "text/plain": [
              "<Figure size 640x480 with 0 Axes>"
            ]
          },
          "metadata": {}
        },
        {
          "output_type": "display_data",
          "data": {
            "text/plain": [
              "<Figure size 480x480 with 1 Axes>"
            ],
            "image/png": "[encoded data removed]"
          },
          "metadata": {}
        }
      ],
      "source": [
        "# Select one of the observations\n",
        "i = 345\n",
        "\n",
        "# Display the observation with zeros as white\n",
        "plt.gray()\n",
        "plt.matshow(DS.images[i])\n",
        "plt.show()\n"
      ]
    },
    {
      "cell_type": "code",
      "source": [
        "# Select one observation\n",
        "i = 345\n",
        "\n",
        "# Display the observation with zeros as black\n",
        "plt.imshow(DS.images[i], cmap=plt.cm.gray_r)\n",
        "plt.show()"
      ],
      "metadata": {
        "id": "NNLNt2qJ4cQP",
        "colab": {
          "base_uri": "https://localhost:8080/",
          "height": 430
        },
        "outputId": "408e98e2-bea9-459f-e6f4-e469c40afef2"
      },
      "execution_count": 10,
      "outputs": [
        {
          "output_type": "display_data",
          "data": {
            "text/plain": [
              "<Figure size 640x480 with 1 Axes>"
            ],
            "image/png": "[encoded data removed]"
          },
          "metadata": {}
        }
      ]
    },
    {
      "cell_type": "code",
      "source": [
        "# Display 4 observations in a row (zeros as white)\n"
      ],
      "metadata": {
        "id": "zb0hPszO0xWd"
      },
      "execution_count": null,
      "outputs": []
    },
    {
      "cell_type": "code",
      "source": [
        "# Select 4 observations\n",
        "indices = [0, 1, 2, 3]\n",
        "\n",
        "# Create a figure and axes\n",
        "fig, axes = plt.subplots(1, 4, figsize=(12, 4))\n",
        "\n",
        "# Iterate through the selected observations\n",
        "for i, ax in zip(indices, axes):\n",
        "    ax.matshow(DS.images[i])  # Display the image\n",
        "    ax.set_title(f\"Observation {i}\")  # Set the title\n",
        "\n",
        "# Adjust spacing and display the plot\n",
        "plt.tight_layout()\n",
        "plt.gray()\n",
        "plt.show()\n"
      ],
      "metadata": {
        "id": "bsGb3Ily3Qx_",
        "colab": {
          "base_uri": "https://localhost:8080/",
          "height": 269
        },
        "outputId": "074f3d32-7f0f-4c58-fdf8-ebfcfabd68e6"
      },
      "execution_count": 11,
      "outputs": [
        {
          "output_type": "display_data",
          "data": {
            "text/plain": [
              "<Figure size 1200x400 with 4 Axes>"
            ],
            "image/png": "[encoded data removed]"
          },
          "metadata": {}
        }
      ]
    },
    {
      "cell_type": "code",
      "execution_count": 12,
      "metadata": {
        "id": "KHfPTYXNa7LU",
        "colab": {
          "base_uri": "https://localhost:8080/"
        },
        "outputId": "9e54a9a0-d8e7-421e-934d-5c8d909a722d"
      },
      "outputs": [
        {
          "output_type": "stream",
          "name": "stdout",
          "text": [
            "      pixel_0_0  pixel_0_1  pixel_0_2  pixel_0_3  pixel_0_4  pixel_0_5  \\\n",
            "0           0.0        0.0        5.0       13.0        9.0        1.0   \n",
            "1           0.0        0.0        0.0       12.0       13.0        5.0   \n",
            "2           0.0        0.0        0.0        4.0       15.0       12.0   \n",
            "3           0.0        0.0        7.0       15.0       13.0        1.0   \n",
            "4           0.0        0.0        0.0        1.0       11.0        0.0   \n",
            "...         ...        ...        ...        ...        ...        ...   \n",
            "1792        0.0        0.0        4.0       10.0       13.0        6.0   \n",
            "1793        0.0        0.0        6.0       16.0       13.0       11.0   \n",
            "1794        0.0        0.0        1.0       11.0       15.0        1.0   \n",
            "1795        0.0        0.0        2.0       10.0        7.0        0.0   \n",
            "1796        0.0        0.0       10.0       14.0        8.0        1.0   \n",
            "\n",
            "      pixel_0_6  pixel_0_7  pixel_1_0  pixel_1_1  ...  pixel_6_7  pixel_7_0  \\\n",
            "0           0.0        0.0        0.0        0.0  ...        0.0        0.0   \n",
            "1           0.0        0.0        0.0        0.0  ...        0.0        0.0   \n",
            "2           0.0        0.0        0.0        0.0  ...        0.0        0.0   \n",
            "3           0.0        0.0        0.0        8.0  ...        0.0        0.0   \n",
            "4           0.0        0.0        0.0        0.0  ...        0.0        0.0   \n",
            "...         ...        ...        ...        ...  ...        ...        ...   \n",
            "1792        0.0        0.0        0.0        1.0  ...        0.0        0.0   \n",
            "1793        1.0        0.0        0.0        0.0  ...        0.0        0.0   \n",
            "1794        0.0        0.0        0.0        0.0  ...        0.0        0.0   \n",
            "1795        0.0        0.0        0.0        0.0  ...        0.0        0.0   \n",
            "1796        0.0        0.0        0.0        2.0  ...        0.0        0.0   \n",
            "\n",
            "      pixel_7_1  pixel_7_2  pixel_7_3  pixel_7_4  pixel_7_5  pixel_7_6  \\\n",
            "0           0.0        6.0       13.0       10.0        0.0        0.0   \n",
            "1           0.0        0.0       11.0       16.0       10.0        0.0   \n",
            "2           0.0        0.0        3.0       11.0       16.0        9.0   \n",
            "3           0.0        7.0       13.0       13.0        9.0        0.0   \n",
            "4           0.0        0.0        2.0       16.0        4.0        0.0   \n",
            "...         ...        ...        ...        ...        ...        ...   \n",
            "1792        0.0        2.0       14.0       15.0        9.0        0.0   \n",
            "1793        0.0        6.0       16.0       14.0        6.0        0.0   \n",
            "1794        0.0        2.0        9.0       13.0        6.0        0.0   \n",
            "1795        0.0        5.0       12.0       16.0       12.0        0.0   \n",
            "1796        1.0        8.0       12.0       14.0       12.0        1.0   \n",
            "\n",
            "      pixel_7_7  target  \n",
            "0           0.0       0  \n",
            "1           0.0       1  \n",
            "2           0.0       2  \n",
            "3           0.0       3  \n",
            "4           0.0       4  \n",
            "...         ...     ...  \n",
            "1792        0.0       9  \n",
            "1793        0.0       0  \n",
            "1794        0.0       8  \n",
            "1795        0.0       9  \n",
            "1796        0.0       8  \n",
            "\n",
            "[1797 rows x 65 columns]\n"
          ]
        }
      ],
      "source": [
        "# Convert to pandas DataFrame\n",
        "df = pd.DataFrame(DS.data, columns=DS.feature_names)\n",
        "df['target'] = DS.target\n",
        "\n",
        "# Print the dataset\n",
        "print(df)"
      ]
    },
    {
      "cell_type": "code",
      "execution_count": 13,
      "metadata": {
        "id": "cRCJ8vOaa7LY",
        "colab": {
          "base_uri": "https://localhost:8080/"
        },
        "outputId": "f59b485a-1b69-47ef-80e8-d389b79b32f6"
      },
      "outputs": [
        {
          "output_type": "stream",
          "name": "stdout",
          "text": [
            "1797\n"
          ]
        }
      ],
      "source": [
        "# Print the number of rows\n",
        "print(df.shape[0])"
      ]
    },
    {
      "cell_type": "code",
      "execution_count": 14,
      "metadata": {
        "id": "HdYbZso_a7LY",
        "colab": {
          "base_uri": "https://localhost:8080/"
        },
        "outputId": "8ac40718-cf56-4423-83a5-dada5b0a18b6"
      },
      "outputs": [
        {
          "output_type": "stream",
          "name": "stdout",
          "text": [
            "65\n"
          ]
        }
      ],
      "source": [
        "# Print the number of columns\n",
        "print(df.shape[1])"
      ]
    },
    {
      "cell_type": "markdown",
      "source": [
        "# Digits data set v2\n",
        "\n",
        "- Data from scikit-learn https://scikit-learn.org/stable/auto_examples/datasets/plot_digits_last_image.html\n",
        "\n",
        "- More details in https://archive.ics.uci.edu/ml/datasets/Pen-Based+Recognition+of+Handwritten+Digits"
      ],
      "metadata": {
        "id": "UrfeqNQ6hggm"
      }
    },
    {
      "cell_type": "code",
      "source": [
        "# Import the dataset\n",
        "from sklearn.datasets import load_digits\n",
        "\n",
        "# Load the dataset\n",
        "X, y = load_digits(return_X_y=True)\n"
      ],
      "metadata": {
        "id": "A7IpVlSmhhnP"
      },
      "execution_count": 15,
      "outputs": []
    },
    {
      "cell_type": "code",
      "source": [
        "# Understand X (type and shape)\n",
        "print(type(X))\n",
        "print(X.shape)"
      ],
      "metadata": {
        "id": "iifvlgDMhvMK",
        "colab": {
          "base_uri": "https://localhost:8080/"
        },
        "outputId": "ee7fe214-e8da-44d4-ebb4-1464a188974d"
      },
      "execution_count": 16,
      "outputs": [
        {
          "output_type": "stream",
          "name": "stdout",
          "text": [
            "<class 'numpy.ndarray'>\n",
            "(1797, 64)\n"
          ]
        }
      ]
    },
    {
      "cell_type": "code",
      "source": [
        "# Undertand y (type and shape)\n",
        "\n",
        "print(type(y))\n",
        "print(y.shape)"
      ],
      "metadata": {
        "id": "SzJz8MHq1NFJ",
        "colab": {
          "base_uri": "https://localhost:8080/"
        },
        "outputId": "e8dd8bd1-3ea7-4ffb-91f1-33941751cf46"
      },
      "execution_count": 18,
      "outputs": [
        {
          "output_type": "stream",
          "name": "stdout",
          "text": [
            "<class 'numpy.ndarray'>\n",
            "(1797,)\n"
          ]
        }
      ]
    },
    {
      "cell_type": "code",
      "source": [
        "# -------------------------------\n",
        "# Select some of the images\n",
        "iimag = [  0,   11,   28,  42,    56,  70,    84,\n",
        "          91,  115,  280, 420,   560, 700,   906,\n",
        "         929,  970,  999, 1003, 1077, 1104, 1205,\n",
        "        1206, 1153, 1205, 1257, 1378, 1407, 1509]\n",
        "\n",
        "# -------------------------------\n",
        "# Plot selected images (zeros as black)\n",
        "plt.figure(figsize=(12,8))\n",
        "for i, i2p in enumerate(iimag):\n",
        "\n",
        "    Xi = X[i2p,:]\n",
        "    yi = y[i2p]\n",
        "\n",
        "    plt.subplot(4,7,i+1)\n",
        "    plt.xticks([])\n",
        "    plt.yticks([])\n",
        "    plt.grid(False)\n",
        "    plt.imshow(Xi.reshape(8,8), cmap=plt.cm.gray)\n",
        "    plt.title(\"Label: {0:.0f}\".format(yi))\n",
        "\n",
        "    # Verify data\n",
        "    #minX = np.min(Xi)\n",
        "    #maxX = np.max(Xi)\n",
        "    #print(\"min max\")\n",
        "    #print(minX, maxX)\n",
        "    #print(\" \")\n",
        "\n",
        "plt.show()\n"
      ],
      "metadata": {
        "id": "tptgMG6V2F2_",
        "colab": {
          "base_uri": "https://localhost:8080/",
          "height": 620
        },
        "outputId": "9e65497f-31da-4414-a3e2-076c99fcd813"
      },
      "execution_count": 19,
      "outputs": [
        {
          "output_type": "display_data",
          "data": {
            "text/plain": [
              "<Figure size 1200x800 with 28 Axes>"
            ],
            "image/png": "[encoded data removed]"
          },
          "metadata": {}
        }
      ]
    },
    {
      "cell_type": "code",
      "source": [],
      "metadata": {
        "id": "T-Q70mTR3ElK"
      },
      "execution_count": null,
      "outputs": []
    }
  ],
  "metadata": {
    "kernelspec": {
      "display_name": "Python 3",
      "language": "python",
      "name": "python3"
    },
    "language_info": {
      "codemirror_mode": {
        "name": "ipython",
        "version": 3
      },
      "file_extension": ".py",
      "mimetype": "text/x-python",
      "name": "python",
      "nbconvert_exporter": "python",
      "pygments_lexer": "ipython3",
      "version": "3.8.3"
    },
    "colab": {
      "provenance": [],
      "toc_visible": true
    }
  },
  "nbformat": 4,
  "nbformat_minor": 0
}